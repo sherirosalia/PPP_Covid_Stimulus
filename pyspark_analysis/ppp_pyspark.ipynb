{
  "nbformat": 4,
  "nbformat_minor": 0,
  "metadata": {
    "colab": {
      "name": "ppp_pyspark.ipynb",
      "provenance": [],
      "private_outputs": true,
      "collapsed_sections": [],
      "authorship_tag": "ABX9TyPdgynWrvunn1fJH+iu0Tcr"
    },
    "kernelspec": {
      "name": "python3",
      "display_name": "Python 3"
    },
    "accelerator": "TPU"
  },
  "cells": [
    {
      "cell_type": "code",
      "metadata": {
        "id": "dyqv-Xq6Srk8",
        "colab_type": "code",
        "colab": {}
      },
      "source": [
        "# importing some python modules - just in case\n",
        "import pandas as pd\n",
        "import numpy as np\n",
        "import os, sys \n",
        "import io\n",
        "import ee"
      ],
      "execution_count": null,
      "outputs": []
    },
    {
      "cell_type": "code",
      "metadata": {
        "id": "s3WnfSCOS9kf",
        "colab_type": "code",
        "colab": {}
      },
      "source": [
        "pd.set_option('display.max_rows', 150)\n",
        "pd.set_option('display.max_columns', 50)\n",
        "pd.set_option('display.width', 1000)"
      ],
      "execution_count": null,
      "outputs": []
    },
    {
      "cell_type": "code",
      "metadata": {
        "id": "GLTQpIxvTYaH",
        "colab_type": "code",
        "colab": {}
      },
      "source": [
        "from google.colab import drive\n",
        "drive.mount('/content/drive')"
      ],
      "execution_count": null,
      "outputs": []
    },
    {
      "cell_type": "code",
      "metadata": {
        "id": "tpcMM36DYLLK",
        "colab_type": "code",
        "colab": {}
      },
      "source": [
        "!apt-get update"
      ],
      "execution_count": null,
      "outputs": []
    },
    {
      "cell_type": "code",
      "metadata": {
        "id": "PJft7L5SS9ps",
        "colab_type": "code",
        "colab": {}
      },
      "source": [
        "#pyspark\n",
        "# Install Java, Spark, and Findspark\n",
        "!apt-get install openjdk-8-jdk-headless -qq > /dev/null\n",
        "!wget -q https://downloads.apache.org/spark/spark-2.4.6/spark-2.4.6-bin-hadoop2.7.tgz\n",
        "!tar xf spark-2.4.6-bin-hadoop2.7.tgz\n",
        "!pip install -q findspark\n",
        "# Set Environment Variables\n",
        "import os\n",
        "os.environ[\"JAVA_HOME\"] = \"/usr/lib/jvm/java-8-openjdk-amd64\"\n",
        "os.environ[\"SPARK_HOME\"] = \"/content/spark-2.4.6-bin-hadoop2.7\"\n",
        "# Start a SparkSession\n",
        "import findspark\n",
        "findspark.init()"
      ],
      "execution_count": null,
      "outputs": []
    },
    {
      "cell_type": "code",
      "metadata": {
        "id": "KwZYAC3FkrIz",
        "colab_type": "code",
        "colab": {}
      },
      "source": [
        "from pyspark import SparkConf                                                                                                                 \n",
        "from pyspark.context import SparkContext                                                                                                      \n",
        "from pyspark.sql import SparkSession, SQLContext"
      ],
      "execution_count": null,
      "outputs": []
    },
    {
      "cell_type": "code",
      "metadata": {
        "id": "YU8RPG-gbcn5",
        "colab_type": "code",
        "colab": {}
      },
      "source": [
        "# from pyspark.sql.session import SparkSession\n",
        "\n",
        "# spark = SparkSession.builder.getOrCreate()"
      ],
      "execution_count": null,
      "outputs": []
    },
    {
      "cell_type": "code",
      "metadata": {
        "id": "w4uE8X3CS9uW",
        "colab_type": "code",
        "colab": {}
      },
      "source": [
        "\n",
        "from google.colab import files\n",
        "drive.mount('/content/drive')\n",
        "\n"
      ],
      "execution_count": null,
      "outputs": []
    },
    {
      "cell_type": "code",
      "metadata": {
        "id": "DQd2UAhyfeEN",
        "colab_type": "code",
        "colab": {}
      },
      "source": [
        "# drive.mount(\"/content/drive\", force_remount=True)"
      ],
      "execution_count": null,
      "outputs": []
    },
    {
      "cell_type": "code",
      "metadata": {
        "id": "B3clTaalTzEX",
        "colab_type": "code",
        "colab": {}
      },
      "source": [
        "path = \"/content/drive/My Drive/data/clean_ppp_data.csv\""
      ],
      "execution_count": null,
      "outputs": []
    },
    {
      "cell_type": "code",
      "metadata": {
        "id": "PCkrIpGJTzIm",
        "colab_type": "code",
        "colab": {}
      },
      "source": [
        "# df=pd.read_csv(path)\n",
        "# df.sample()"
      ],
      "execution_count": null,
      "outputs": []
    },
    {
      "cell_type": "code",
      "metadata": {
        "id": "oktkt5vZTzNo",
        "colab_type": "code",
        "colab": {}
      },
      "source": [
        "# df.info()"
      ],
      "execution_count": null,
      "outputs": []
    },
    {
      "cell_type": "code",
      "metadata": {
        "id": "UNOS2FrGTzSl",
        "colab_type": "code",
        "colab": {}
      },
      "source": [
        "#need to change NAICS to string\n",
        "# https://stackoverflow.com/questions/46956026/how-to-convert-column-with-string-type-to-int-form-in-pyspark-data-frame"
      ],
      "execution_count": null,
      "outputs": []
    },
    {
      "cell_type": "code",
      "metadata": {
        "id": "8W7pFcLLa8v1",
        "colab_type": "code",
        "colab": {}
      },
      "source": [
        ""
      ],
      "execution_count": null,
      "outputs": []
    },
    {
      "cell_type": "code",
      "metadata": {
        "id": "5Axi0mF8a80f",
        "colab_type": "code",
        "colab": {}
      },
      "source": [
        "# url=\"https://drive.google.com/file/d/1k-atuiveaRBoDy02akkgmoawulTsXQH8/view?usp=sharing\"\n",
        "\n",
        "df=spark.read.csv(SparkFiles.get(path), sep=\",\", header=True)\n",
        "df.show()"
      ],
      "execution_count": null,
      "outputs": []
    },
    {
      "cell_type": "code",
      "metadata": {
        "id": "GZFfx9UzfFKW",
        "colab_type": "code",
        "colab": {}
      },
      "source": [
        "df = df.withColumn(\"NAICS Code\", df['NAICS Code'].cast('string'))"
      ],
      "execution_count": null,
      "outputs": []
    },
    {
      "cell_type": "code",
      "metadata": {
        "id": "bXAIUK-pa84Q",
        "colab_type": "code",
        "colab": {}
      },
      "source": [
        "df.printSchema()"
      ],
      "execution_count": null,
      "outputs": []
    },
    {
      "cell_type": "code",
      "metadata": {
        "id": "slcoA-Dua89n",
        "colab_type": "code",
        "colab": {}
      },
      "source": [
        "# df.describe()"
      ],
      "execution_count": null,
      "outputs": []
    },
    {
      "cell_type": "code",
      "metadata": {
        "id": "DWmzj0NVa9EC",
        "colab_type": "code",
        "colab": {}
      },
      "source": [
        "# notes... to do calc on existing and put in new example\n",
        "#dataframe.withColumn('newname', dataframe['target']*2)"
      ],
      "execution_count": null,
      "outputs": []
    },
    {
      "cell_type": "code",
      "metadata": {
        "id": "wzrngkSDa9IN",
        "colab_type": "code",
        "colab": {}
      },
      "source": [
        "gender=df.orderBy(df['Gender'].asc())\n",
        "gender.show()"
      ],
      "execution_count": null,
      "outputs": []
    },
    {
      "cell_type": "code",
      "metadata": {
        "id": "_pdiTSeka9BO",
        "colab_type": "code",
        "colab": {}
      },
      "source": [
        "from pyspark.sql.functions import col, avg\n",
        "womens = df.filter(df['Gender']== 'Female Owned')\n",
        "mens = df.filter(df['Gender']== 'Male Owned')\n",
        "\n"
      ],
      "execution_count": null,
      "outputs": []
    },
    {
      "cell_type": "code",
      "metadata": {
        "id": "oxJsq21C6CzS",
        "colab_type": "code",
        "colab": {}
      },
      "source": [
        "womens.describe().show()\n"
      ],
      "execution_count": null,
      "outputs": []
    },
    {
      "cell_type": "code",
      "metadata": {
        "id": "0pkzLOCK6DSq",
        "colab_type": "code",
        "colab": {}
      },
      "source": [
        "mens.describe().show()\n",
        "\n"
      ],
      "execution_count": null,
      "outputs": []
    },
    {
      "cell_type": "code",
      "metadata": {
        "id": "jP-ut04BUuZq",
        "colab_type": "code",
        "colab": {}
      },
      "source": [
        "df.select(avg(\"Loan Amount\")).show()"
      ],
      "execution_count": null,
      "outputs": []
    },
    {
      "cell_type": "code",
      "metadata": {
        "id": "i68ckPDZVFfn",
        "colab_type": "code",
        "colab": {}
      },
      "source": [
        "gen_vets=df.groupBy('Gender', 'Veteran').count().orderBy('count')\n",
        "gen_vets.show()"
      ],
      "execution_count": null,
      "outputs": []
    },
    {
      "cell_type": "code",
      "metadata": {
        "id": "JnqSv5zTVF2h",
        "colab_type": "code",
        "colab": {}
      },
      "source": [
        "vet_ct=df.groupBy('Veteran').count().orderBy('count')\n",
        "vet_ct.show()"
      ],
      "execution_count": null,
      "outputs": []
    },
    {
      "cell_type": "code",
      "metadata": {
        "id": "L1IRzITKVGAO",
        "colab_type": "code",
        "colab": {}
      },
      "source": [
        "rc_ct=df.groupBy('Race').count().orderBy('count', ascending=False)\n",
        "rc_ct.show()"
      ],
      "execution_count": null,
      "outputs": []
    },
    {
      "cell_type": "code",
      "metadata": {
        "id": "tAAUUe7TcNM0",
        "colab_type": "code",
        "colab": {}
      },
      "source": [
        "rc_ct=df.groupBy('Race', 'Veteran', 'Gender').count().orderBy('count', ascending=False)\n",
        "rc_ct.show()"
      ],
      "execution_count": null,
      "outputs": []
    },
    {
      "cell_type": "code",
      "metadata": {
        "id": "YFvI0Daka875",
        "colab_type": "code",
        "colab": {}
      },
      "source": [
        "gender_lns=df.filter(\"Loan Amount\")\n",
        "gender_lns.show()"
      ],
      "execution_count": null,
      "outputs": []
    },
    {
      "cell_type": "code",
      "metadata": {
        "id": "JBTrhCeGZaYf",
        "colab_type": "code",
        "colab": {}
      },
      "source": [
        "# group_by_dataframe.count().filter(\"`count` >= 10\").orderBy('count', ascending=False)\n",
        "# value counts for biz codes that occur more than 5000 times\n",
        "from pyspark.sql.functions import col\n",
        "\n",
        "(df\n",
        "    .count()\n",
        "    .filter(\"`count` >= 5000\")\n",
        "    .sort(col(\"count\").desc()))\n",
        "nct=df.count().filter(\"`Race` >= 5000\").orderBy('count', ascending=False)\n",
        "nct.show()\n",
        "\n"
      ],
      "execution_count": null,
      "outputs": []
    },
    {
      "cell_type": "code",
      "metadata": {
        "id": "F0KG_u71ZaeG",
        "colab_type": "code",
        "colab": {}
      },
      "source": [
        ""
      ],
      "execution_count": null,
      "outputs": []
    },
    {
      "cell_type": "code",
      "metadata": {
        "id": "emqamE7iZajl",
        "colab_type": "code",
        "colab": {}
      },
      "source": [
        ""
      ],
      "execution_count": null,
      "outputs": []
    },
    {
      "cell_type": "code",
      "metadata": {
        "id": "k2XX61R8ZanK",
        "colab_type": "code",
        "colab": {}
      },
      "source": [
        ""
      ],
      "execution_count": null,
      "outputs": []
    },
    {
      "cell_type": "code",
      "metadata": {
        "id": "cG9W7-AYZaxE",
        "colab_type": "code",
        "colab": {}
      },
      "source": [
        ""
      ],
      "execution_count": null,
      "outputs": []
    },
    {
      "cell_type": "code",
      "metadata": {
        "id": "4Yis3I7zZbF0",
        "colab_type": "code",
        "colab": {}
      },
      "source": [
        ""
      ],
      "execution_count": null,
      "outputs": []
    },
    {
      "cell_type": "code",
      "metadata": {
        "id": "httcc45NZbJC",
        "colab_type": "code",
        "colab": {}
      },
      "source": [
        ""
      ],
      "execution_count": null,
      "outputs": []
    },
    {
      "cell_type": "code",
      "metadata": {
        "id": "G8UL1cpnZatf",
        "colab_type": "code",
        "colab": {}
      },
      "source": [
        ""
      ],
      "execution_count": null,
      "outputs": []
    },
    {
      "cell_type": "code",
      "metadata": {
        "id": "Nv9PBe3ZZasP",
        "colab_type": "code",
        "colab": {}
      },
      "source": [
        ""
      ],
      "execution_count": null,
      "outputs": []
    },
    {
      "cell_type": "code",
      "metadata": {
        "id": "nhMi1kOKS9il",
        "colab_type": "code",
        "colab": {}
      },
      "source": [
        "df.to_csv('ppp_pyspark.csv', index=0)\n",
        "!cp ppp_pyspark.csv \"drive/My Drive/\"\n"
      ],
      "execution_count": null,
      "outputs": []
    },
    {
      "cell_type": "code",
      "metadata": {
        "id": "tjNTT2BlQ2MC",
        "colab_type": "code",
        "colab": {}
      },
      "source": [
        "# Load transformed raw data (the dataframes just created) into postgres database\n",
        "# Configure settings for RDS\n",
        "# mode = \"append\"\n",
        "# jdbc_url=\"jdbc:postgresql://challenge.cyngxsnzir4o.us-east-2.rds.amazonaws.com:5432/postgres\"\n",
        "# config = {\"user\":\"postgres\", \n",
        "#           \"password\": \"your-password-here\", \n",
        "#           \"driver\":\"org.postgresql.Driver\"}"
      ],
      "execution_count": null,
      "outputs": []
    }
  ]
}