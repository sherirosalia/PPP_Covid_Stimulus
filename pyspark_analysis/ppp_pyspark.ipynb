{
  "nbformat": 4,
  "nbformat_minor": 0,
  "metadata": {
    "colab": {
      "name": "ppp_pyspark.ipynb",
      "provenance": [],
      "private_outputs": true,
      "collapsed_sections": [],
      "authorship_tag": "ABX9TyOTaGNMcQvqJswlxEBOjZVb"
    },
    "kernelspec": {
      "name": "python3",
      "display_name": "Python 3"
    }
  },
  "cells": [
    {
      "cell_type": "code",
      "metadata": {
        "id": "dyqv-Xq6Srk8",
        "colab_type": "code",
        "colab": {}
      },
      "source": [
        "# importing some python modules - just in case\n",
        "import pandas as pd\n",
        "import numpy as np\n",
        "import os, sys \n",
        "import io\n",
        "import ee"
      ],
      "execution_count": null,
      "outputs": []
    },
    {
      "cell_type": "code",
      "metadata": {
        "id": "s3WnfSCOS9kf",
        "colab_type": "code",
        "colab": {}
      },
      "source": [
        "pd.set_option('display.max_rows', 150)\n",
        "pd.set_option('display.max_columns', 50)\n",
        "pd.set_option('display.width', 1000)"
      ],
      "execution_count": null,
      "outputs": []
    },
    {
      "cell_type": "code",
      "metadata": {
        "id": "GLTQpIxvTYaH",
        "colab_type": "code",
        "colab": {}
      },
      "source": [
        "#setting up google drive connection\n",
        "from google.colab import drive\n",
        "drive.mount('/content/drive')"
      ],
      "execution_count": null,
      "outputs": []
    },
    {
      "cell_type": "code",
      "metadata": {
        "id": "tpcMM36DYLLK",
        "colab_type": "code",
        "colab": {}
      },
      "source": [
        "# making sure pyspark is up to date\n",
        "!apt-get update"
      ],
      "execution_count": null,
      "outputs": []
    },
    {
      "cell_type": "code",
      "metadata": {
        "id": "PJft7L5SS9ps",
        "colab_type": "code",
        "colab": {}
      },
      "source": [
        "#pyspark\n",
        "# Install Java, Spark, and Findspark\n",
        "!apt-get install openjdk-8-jdk-headless -qq > /dev/null\n",
        "!wget -q https://downloads.apache.org/spark/spark-2.4.6/spark-2.4.6-bin-hadoop2.7.tgz\n",
        "!tar xf spark-2.4.6-bin-hadoop2.7.tgz\n",
        "!pip install -q findspark\n",
        "# Set Environment Variables\n",
        "import os\n",
        "os.environ[\"JAVA_HOME\"] = \"/usr/lib/jvm/java-8-openjdk-amd64\"\n",
        "os.environ[\"SPARK_HOME\"] = \"/content/spark-2.4.6-bin-hadoop2.7\"\n",
        "# Start a SparkSession\n",
        "import findspark\n",
        "findspark.init()"
      ],
      "execution_count": null,
      "outputs": []
    },
    {
      "cell_type": "code",
      "metadata": {
        "id": "KwZYAC3FkrIz",
        "colab_type": "code",
        "colab": {}
      },
      "source": [
        "# import likely needed modules\n",
        "from pyspark import SparkFiles\n",
        "from pyspark import SparkConf                                                                                                                 \n",
        "from pyspark.context import SparkContext                                                                                                      \n",
        "from pyspark.sql import SparkSession, SQLContext\n",
        "from pyspark.sql.functions import udf, struct\n",
        "from pyspark.sql.types import IntegerType\n",
        "from pyspark.sql.functions import col\n",
        "from pyspark.sql.functions import avg\n",
        "from pyspark.sql.functions import translate\n",
        "from pyspark.sql.functions import desc"
      ],
      "execution_count": null,
      "outputs": []
    },
    {
      "cell_type": "code",
      "metadata": {
        "id": "YU8RPG-gbcn5",
        "colab_type": "code",
        "colab": {}
      },
      "source": [
        "# from pyspark.sql.session import SparkSession\n",
        "spark = SparkSession.builder.getOrCreate()"
      ],
      "execution_count": null,
      "outputs": []
    },
    {
      "cell_type": "code",
      "metadata": {
        "id": "DQd2UAhyfeEN",
        "colab_type": "code",
        "colab": {}
      },
      "source": [
        "#code for remount if needed\n",
        "#drive.mount(\"/content/drive\", force_remount=True)"
      ],
      "execution_count": null,
      "outputs": []
    },
    {
      "cell_type": "code",
      "metadata": {
        "id": "B3clTaalTzEX",
        "colab_type": "code",
        "colab": {}
      },
      "source": [
        "#csv location\n",
        "path = \"/content/drive/My Drive/data/clean_ppp_data.csv\""
      ],
      "execution_count": null,
      "outputs": []
    },
    {
      "cell_type": "code",
      "metadata": {
        "id": "PCkrIpGJTzIm",
        "colab_type": "code",
        "colab": {}
      },
      "source": [
        "# pandas check\n",
        "# df=pd.read_csv(path)\n",
        "# df.sample()"
      ],
      "execution_count": null,
      "outputs": []
    },
    {
      "cell_type": "code",
      "metadata": {
        "id": "8W7pFcLLa8v1",
        "colab_type": "code",
        "colab": {}
      },
      "source": [
        "# needed in order to do large file save \n",
        "# %pip install py4j\n"
      ],
      "execution_count": null,
      "outputs": []
    },
    {
      "cell_type": "markdown",
      "metadata": {
        "id": "pjM4jo227MxC",
        "colab_type": "text"
      },
      "source": [
        "### Import csv"
      ]
    },
    {
      "cell_type": "code",
      "metadata": {
        "id": "5Axi0mF8a80f",
        "colab_type": "code",
        "colab": {}
      },
      "source": [
        "# csv into pyspark dataframe\n",
        "df=spark.read.csv(SparkFiles.get(path), sep=\",\", header=True)\n",
        "df.show()"
      ],
      "execution_count": null,
      "outputs": []
    },
    {
      "cell_type": "markdown",
      "metadata": {
        "id": "YZ5EkPia7a33",
        "colab_type": "text"
      },
      "source": [
        "Check out the data and cast types if needed\n",
        "\n"
      ]
    },
    {
      "cell_type": "code",
      "metadata": {
        "id": "GZFfx9UzfFKW",
        "colab_type": "code",
        "colab": {}
      },
      "source": [
        "# cast from int to string\n",
        "df = df.withColumn(\"NAICS Code\", df['NAICS Code'].cast('string'))\n"
      ],
      "execution_count": null,
      "outputs": []
    },
    {
      "cell_type": "code",
      "metadata": {
        "id": "R8vCTztQtQGv",
        "colab_type": "code",
        "colab": {}
      },
      "source": [
        "#remove \" from NY - Sate column\n",
        "from pyspark.sql.functions import udf\n",
        "quoteReplace=udf(lambda x: x.replace(u'\"',''))\n",
        "df=df.withColumn('State',quoteReplace('State'))\n",
        "dotReplace=udf(lambda x: x.replace(u'.',''))\n",
        "df=df.withColumn('State',dotReplace('State'))\n",
        "df.show(2,truncate=False)\n"
      ],
      "execution_count": null,
      "outputs": []
    },
    {
      "cell_type": "code",
      "metadata": {
        "id": "bXAIUK-pa84Q",
        "colab_type": "code",
        "colab": {}
      },
      "source": [
        "# df.printSchema()"
      ],
      "execution_count": null,
      "outputs": []
    },
    {
      "cell_type": "code",
      "metadata": {
        "id": "UMWhMmmzmF6i",
        "colab_type": "code",
        "colab": {}
      },
      "source": [
        "#create a general category column for NAICS codes\n",
        "\n",
        "df=df.withColumn('NAICS_cat', df['NAICS Code'].substr(0, 2))\n",
        "df.show(5)"
      ],
      "execution_count": null,
      "outputs": []
    },
    {
      "cell_type": "code",
      "metadata": {
        "id": "slcoA-Dua89n",
        "colab_type": "code",
        "colab": {}
      },
      "source": [
        "# df.describe()"
      ],
      "execution_count": null,
      "outputs": []
    },
    {
      "cell_type": "code",
      "metadata": {
        "id": "wzrngkSDa9IN",
        "colab_type": "code",
        "colab": {}
      },
      "source": [
        "gender=df.orderBy(df['Gender'].asc())\n",
        "# gender.show()"
      ],
      "execution_count": null,
      "outputs": []
    },
    {
      "cell_type": "markdown",
      "metadata": {
        "id": "b3Pk7fj4j8YW",
        "colab_type": "text"
      },
      "source": [
        "**Quick look at veterans, men and women**"
      ]
    },
    {
      "cell_type": "code",
      "metadata": {
        "id": "_pdiTSeka9BO",
        "colab_type": "code",
        "colab": {}
      },
      "source": [
        "#women, men & veteran dataframes\n",
        "womens = df.filter(df['Gender']== 'Female Owned')\n",
        "mens = df.filter(df['Gender']== 'Male Owned')\n",
        "vets=df.filter(df['Veteran']== 'Veteran')"
      ],
      "execution_count": null,
      "outputs": []
    },
    {
      "cell_type": "code",
      "metadata": {
        "id": "W9geTOy2jliU",
        "colab_type": "code",
        "colab": {}
      },
      "source": [
        "vets.describe().show()"
      ],
      "execution_count": null,
      "outputs": []
    },
    {
      "cell_type": "code",
      "metadata": {
        "id": "pk_CemDpjx9h",
        "colab_type": "code",
        "colab": {}
      },
      "source": [
        "vets.show()"
      ],
      "execution_count": null,
      "outputs": []
    },
    {
      "cell_type": "code",
      "metadata": {
        "id": "oxJsq21C6CzS",
        "colab_type": "code",
        "colab": {}
      },
      "source": [
        "womens.describe().show()\n"
      ],
      "execution_count": null,
      "outputs": []
    },
    {
      "cell_type": "code",
      "metadata": {
        "id": "0pkzLOCK6DSq",
        "colab_type": "code",
        "colab": {}
      },
      "source": [
        "mens.describe().show()\n",
        "\n"
      ],
      "execution_count": null,
      "outputs": []
    },
    {
      "cell_type": "code",
      "metadata": {
        "id": "jP-ut04BUuZq",
        "colab_type": "code",
        "colab": {}
      },
      "source": [
        "df.select(avg(\"Loan Amount\")).show()"
      ],
      "execution_count": null,
      "outputs": []
    },
    {
      "cell_type": "code",
      "metadata": {
        "id": "i68ckPDZVFfn",
        "colab_type": "code",
        "colab": {}
      },
      "source": [
        "gen_vets=df.groupBy('Gender', 'Veteran').count().orderBy('count')\n",
        "gen_vets.show(5)"
      ],
      "execution_count": null,
      "outputs": []
    },
    {
      "cell_type": "code",
      "metadata": {
        "id": "JnqSv5zTVF2h",
        "colab_type": "code",
        "colab": {}
      },
      "source": [
        "vet_ct=df.groupBy('Veteran').count().orderBy('count')\n",
        "vet_ct.show()"
      ],
      "execution_count": null,
      "outputs": []
    },
    {
      "cell_type": "code",
      "metadata": {
        "id": "L1IRzITKVGAO",
        "colab_type": "code",
        "colab": {}
      },
      "source": [
        "rc_ct=df.groupBy('Race').count().orderBy('count', ascending=False)\n",
        "rc_ct.show()"
      ],
      "execution_count": null,
      "outputs": []
    },
    {
      "cell_type": "code",
      "metadata": {
        "id": "tAAUUe7TcNM0",
        "colab_type": "code",
        "colab": {}
      },
      "source": [
        "race=df.filter(df['Race'] != 'Unanswered')\n",
        "race.show(5)\n"
      ],
      "execution_count": null,
      "outputs": []
    },
    {
      "cell_type": "code",
      "metadata": {
        "id": "1pndqgeynWPz",
        "colab_type": "code",
        "colab": {}
      },
      "source": [
        "people_df = df.filter(\n",
        "    (df['Veteran'] != 'Unanswered') & \n",
        "    (df['Race'] != 'Unanswered') & \n",
        "    (df['Gender'] != 'Unanswered') \n",
        "    )\n",
        "people_df.show(10)"
      ],
      "execution_count": null,
      "outputs": []
    },
    {
      "cell_type": "code",
      "metadata": {
        "id": "YFvI0Daka875",
        "colab_type": "code",
        "colab": {}
      },
      "source": [
        "rc_ct=people_df.groupBy('Race',).count().orderBy('count', ascending=False)\n",
        "rc_ct.show(5)"
      ],
      "execution_count": null,
      "outputs": []
    },
    {
      "cell_type": "code",
      "metadata": {
        "id": "qnVowAkIptAu",
        "colab_type": "code",
        "colab": {}
      },
      "source": [
        "people_df.count()"
      ],
      "execution_count": null,
      "outputs": []
    },
    {
      "cell_type": "code",
      "metadata": {
        "id": "JBTrhCeGZaYf",
        "colab_type": "code",
        "colab": {}
      },
      "source": [
        "#number of rows  for loan counts per 'state' (probably includes virgin islands) from people dataframe\n",
        "state_loan_count = people_df.groupby(\"State\").agg({\"Loan Amount\": \"count\"})\n",
        "state_loan_count.count()\n",
        "\n",
        "\n",
        "\n"
      ],
      "execution_count": null,
      "outputs": []
    },
    {
      "cell_type": "code",
      "metadata": {
        "id": "PnOqLlJz9VYH",
        "colab_type": "code",
        "colab": {}
      },
      "source": [
        "# loan count per state from smaller dataset (people)\n",
        "state_loan_count.show()"
      ],
      "execution_count": null,
      "outputs": []
    },
    {
      "cell_type": "markdown",
      "metadata": {
        "id": "cqMf_-N07wAX",
        "colab_type": "text"
      },
      "source": [
        "Send the \"people\" dataframe to csv."
      ]
    },
    {
      "cell_type": "code",
      "metadata": {
        "id": "QqPlEWQZysfo",
        "colab_type": "code",
        "colab": {}
      },
      "source": [
        "# relatively small amount of rows, but looks like it will be interesting to work with \n",
        "# sending to file and will run visualizations in pandas/tableau and run machine learning on it\n",
        "\n",
        "people_df.toPandas().to_csv(\"people_ppp.csv\", header=True)\n",
        "!cp people_ppp.csv \"drive/My Drive/\""
      ],
      "execution_count": null,
      "outputs": []
    },
    {
      "cell_type": "code",
      "metadata": {
        "id": "p_5TzMSKRZCD",
        "colab_type": "code",
        "colab": {}
      },
      "source": [
        "# banks in main dataframe\n",
        "top_banks=df.groupBy(\"Bank\").count().orderBy('count', ascending=False)\n",
        "top_banks.show(10)"
      ],
      "execution_count": null,
      "outputs": []
    },
    {
      "cell_type": "code",
      "metadata": {
        "id": "emqamE7iZajl",
        "colab_type": "code",
        "colab": {}
      },
      "source": [
        "# NAICS codes in main dataframe\n",
        "biz_code=df.groupBy(\"NAICS Code\").count().orderBy('count', ascending=False)\n",
        "biz_code.show(10)"
      ],
      "execution_count": null,
      "outputs": []
    },
    {
      "cell_type": "code",
      "metadata": {
        "id": "EpnHjYpJ-vZN",
        "colab_type": "code",
        "colab": {}
      },
      "source": [
        "# NAICS general categories in main dataframe\n",
        "top_cat_count=df.groupBy(\"NAICS_cat\").count().orderBy('count', ascending=False).show(10)\n"
      ],
      "execution_count": null,
      "outputs": []
    },
    {
      "cell_type": "code",
      "metadata": {
        "id": "O1XG5mi9OIIq",
        "colab_type": "code",
        "colab": {}
      },
      "source": [
        "#verifying nan value removal\n",
        "\n",
        "from pyspark.sql.functions import isnan, when, count, col\n",
        "\n",
        "df.select([count(when(isnan(c), c)).alias(c) for c in df.columns]).show()"
      ],
      "execution_count": null,
      "outputs": []
    },
    {
      "cell_type": "code",
      "metadata": {
        "id": "f8rW5xoKOINu",
        "colab_type": "code",
        "colab": {}
      },
      "source": [
        "df.show()"
      ],
      "execution_count": null,
      "outputs": []
    },
    {
      "cell_type": "code",
      "metadata": {
        "id": "yI0s1RguDF14",
        "colab_type": "code",
        "colab": {}
      },
      "source": [
        "df.filter(df['NAICS_cat'].isNotNull()).count()\n"
      ],
      "execution_count": null,
      "outputs": []
    },
    {
      "cell_type": "code",
      "metadata": {
        "id": "TY0joJubT9Ym",
        "colab_type": "code",
        "colab": {}
      },
      "source": [
        "df.filter(df['Gender'].isNotNull()).count()"
      ],
      "execution_count": null,
      "outputs": []
    },
    {
      "cell_type": "code",
      "metadata": {
        "id": "asPKd9guByut",
        "colab_type": "code",
        "colab": {}
      },
      "source": [
        "spark.conf.set(\"spark.sql.execution.arrow.enabled\", \"true\")"
      ],
      "execution_count": null,
      "outputs": []
    },
    {
      "cell_type": "code",
      "metadata": {
        "id": "CY8RS2ckX39F",
        "colab_type": "code",
        "colab": {}
      },
      "source": [
        "#write to csv with pyspark\n",
        "# df.repartition(1).write.csv(\"it.csv\", sep=',')\n",
        "# !cp it.csv \"drive/My Drive/\""
      ],
      "execution_count": null,
      "outputs": []
    },
    {
      "cell_type": "code",
      "metadata": {
        "id": "Qt5_t49mXIeQ",
        "colab_type": "code",
        "colab": {}
      },
      "source": [
        "# write to csv with pandas\n",
        "# df.toPandas().to_csv('ppp_p.csv', index=0)\n",
        "# !cp ppp_p.csv \"drive/My Drive/\""
      ],
      "execution_count": null,
      "outputs": []
    },
    {
      "cell_type": "code",
      "metadata": {
        "id": "AALNsNdYDjZ4",
        "colab_type": "code",
        "colab": {}
      },
      "source": [
        ""
      ],
      "execution_count": null,
      "outputs": []
    },
    {
      "cell_type": "code",
      "metadata": {
        "id": "nhMi1kOKS9il",
        "colab_type": "code",
        "colab": {}
      },
      "source": [
        ""
      ],
      "execution_count": null,
      "outputs": []
    },
    {
      "cell_type": "code",
      "metadata": {
        "id": "tjNTT2BlQ2MC",
        "colab_type": "code",
        "colab": {}
      },
      "source": [
        ""
      ],
      "execution_count": null,
      "outputs": []
    }
  ]
}