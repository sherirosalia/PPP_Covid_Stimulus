{
  "nbformat": 4,
  "nbformat_minor": 0,
  "metadata": {
    "colab": {
      "name": "ppp_pyspark.ipynb",
      "provenance": [],
      "collapsed_sections": [],
      "machine_shape": "hm",
      "authorship_tag": "ABX9TyOTaGNMcQvqJswlxEBOjZVb"
    },
    "kernelspec": {
      "name": "python3",
      "display_name": "Python 3"
    },
    "accelerator": "GPU"
  },
  "cells": [
    {
      "cell_type": "code",
      "metadata": {
        "id": "dyqv-Xq6Srk8",
        "colab_type": "code",
        "colab": {}
      },
      "source": [
        "# importing some python modules - just in case\n",
        "import pandas as pd\n",
        "import numpy as np\n",
        "import os, sys \n",
        "import io\n",
        "import ee"
      ],
      "execution_count": 23,
      "outputs": []
    },
    {
      "cell_type": "code",
      "metadata": {
        "id": "s3WnfSCOS9kf",
        "colab_type": "code",
        "colab": {}
      },
      "source": [
        "pd.set_option('display.max_rows', 150)\n",
        "pd.set_option('display.max_columns', 50)\n",
        "pd.set_option('display.width', 1000)"
      ],
      "execution_count": 24,
      "outputs": []
    },
    {
      "cell_type": "code",
      "metadata": {
        "id": "GLTQpIxvTYaH",
        "colab_type": "code",
        "colab": {
          "base_uri": "https://localhost:8080/",
          "height": 122
        },
        "outputId": "844c19d1-cc77-4605-fb1c-368de80f2a48"
      },
      "source": [
        "#setting up google drive connection\n",
        "from google.colab import drive\n",
        "drive.mount('/content/drive')"
      ],
      "execution_count": 10,
      "outputs": [
        {
          "output_type": "stream",
          "text": [
            "Go to this URL in a browser: https://accounts.google.com/o/oauth2/auth?client_id=947318989803-6bn6qk8qdgf4n4g3pfee6491hc0brc4i.apps.googleusercontent.com&redirect_uri=urn%3aietf%3awg%3aoauth%3a2.0%3aoob&scope=email%20https%3a%2f%2fwww.googleapis.com%2fauth%2fdocs.test%20https%3a%2f%2fwww.googleapis.com%2fauth%2fdrive%20https%3a%2f%2fwww.googleapis.com%2fauth%2fdrive.photos.readonly%20https%3a%2f%2fwww.googleapis.com%2fauth%2fpeopleapi.readonly&response_type=code\n",
            "\n",
            "Enter your authorization code:\n",
            "··········\n",
            "Mounted at /content/drive\n"
          ],
          "name": "stdout"
        }
      ]
    },
    {
      "cell_type": "code",
      "metadata": {
        "id": "tpcMM36DYLLK",
        "colab_type": "code",
        "colab": {
          "base_uri": "https://localhost:8080/",
          "height": 442
        },
        "outputId": "97d318da-3e1d-4d18-e308-aa49f86ae05f"
      },
      "source": [
        "# making sure pyspark is up to date\n",
        "!apt-get update"
      ],
      "execution_count": 2,
      "outputs": [
        {
          "output_type": "stream",
          "text": [
            "\r0% [Working]\r            \rGet:1 https://cloud.r-project.org/bin/linux/ubuntu bionic-cran35/ InRelease [3,626 B]\n",
            "\r0% [Connecting to archive.ubuntu.com (91.189.88.152)] [Connecting to security.u\r0% [Connecting to archive.ubuntu.com (91.189.88.152)] [Connecting to security.u\r0% [1 InRelease gpgv 3,626 B] [Connecting to archive.ubuntu.com (91.189.88.152)\r                                                                               \rIgn:2 https://developer.download.nvidia.com/compute/cuda/repos/ubuntu1804/x86_64  InRelease\n",
            "\r0% [1 InRelease gpgv 3,626 B] [Waiting for headers] [Waiting for headers] [Wait\r0% [Waiting for headers] [Waiting for headers] [Waiting for headers] [Waiting f\r                                                                               \rGet:3 http://security.ubuntu.com/ubuntu bionic-security InRelease [88.7 kB]\n",
            "\r0% [Waiting for headers] [3 InRelease 2,587 B/88.7 kB 3%] [Waiting for headers]\r                                                                               \rIgn:4 https://developer.download.nvidia.com/compute/machine-learning/repos/ubuntu1804/x86_64  InRelease\n",
            "\r0% [Waiting for headers] [3 InRelease 5,483 B/88.7 kB 6%] [Waiting for headers]\r                                                                               \rGet:5 https://developer.download.nvidia.com/compute/cuda/repos/ubuntu1804/x86_64  Release [697 B]\n",
            "\r0% [Waiting for headers] [3 InRelease 8,379 B/88.7 kB 9%] [5 Release 697 B/697 \r0% [Waiting for headers] [3 InRelease 8,379 B/88.7 kB 9%] [Waiting for headers]\r                                                                               \rHit:6 https://developer.download.nvidia.com/compute/machine-learning/repos/ubuntu1804/x86_64  Release\n",
            "\r0% [Waiting for headers] [3 InRelease 11.3 kB/88.7 kB 13%] [Waiting for headers\r0% [Release.gpg gpgv 564 B] [Waiting for headers] [3 InRelease 11.3 kB/88.7 kB \r                                                                               \rHit:7 http://archive.ubuntu.com/ubuntu bionic InRelease\n",
            "\r0% [Release.gpg gpgv 564 B] [3 InRelease 11.3 kB/88.7 kB 13%] [Waiting for head\r                                                                               \rGet:8 https://developer.download.nvidia.com/compute/cuda/repos/ubuntu1804/x86_64  Release.gpg [836 B]\n",
            "\r0% [Release.gpg gpgv 564 B] [Waiting for headers] [3 InRelease 14.2 kB/88.7 kB \r0% [Release.gpg gpgv 564 B] [Waiting for headers] [3 InRelease 14.2 kB/88.7 kB \r                                                                               \rHit:9 http://ppa.launchpad.net/graphics-drivers/ppa/ubuntu bionic InRelease\n",
            "Get:11 http://archive.ubuntu.com/ubuntu bionic-updates InRelease [88.7 kB]\n",
            "Get:12 http://ppa.launchpad.net/marutter/c2d4u3.5/ubuntu bionic InRelease [15.4 kB]\n",
            "Ign:13 https://developer.download.nvidia.com/compute/cuda/repos/ubuntu1804/x86_64  Packages\n",
            "Get:13 https://developer.download.nvidia.com/compute/cuda/repos/ubuntu1804/x86_64  Packages [255 kB]\n",
            "Get:14 http://security.ubuntu.com/ubuntu bionic-security/multiverse amd64 Packages [9,558 B]\n",
            "Get:15 http://archive.ubuntu.com/ubuntu bionic-backports InRelease [74.6 kB]\n",
            "Get:16 http://ppa.launchpad.net/marutter/c2d4u3.5/ubuntu bionic/main Sources [1,857 kB]\n",
            "Get:17 http://security.ubuntu.com/ubuntu bionic-security/universe amd64 Packages [884 kB]\n",
            "Get:18 http://archive.ubuntu.com/ubuntu bionic-updates/main amd64 Packages [1,336 kB]\n",
            "Get:19 http://security.ubuntu.com/ubuntu bionic-security/main amd64 Packages [1,038 kB]\n",
            "Get:20 http://archive.ubuntu.com/ubuntu bionic-updates/universe amd64 Packages [1,413 kB]\n",
            "Get:21 http://archive.ubuntu.com/ubuntu bionic-updates/restricted amd64 Packages [116 kB]\n",
            "Get:22 http://archive.ubuntu.com/ubuntu bionic-updates/multiverse amd64 Packages [27.1 kB]\n",
            "Get:23 http://ppa.launchpad.net/marutter/c2d4u3.5/ubuntu bionic/main amd64 Packages [896 kB]\n",
            "Fetched 8,104 kB in 5s (1,514 kB/s)\n",
            "Reading package lists... Done\n"
          ],
          "name": "stdout"
        }
      ]
    },
    {
      "cell_type": "code",
      "metadata": {
        "id": "PJft7L5SS9ps",
        "colab_type": "code",
        "colab": {}
      },
      "source": [
        "#pyspark\n",
        "# Install Java, Spark, and Findspark\n",
        "!apt-get install openjdk-8-jdk-headless -qq > /dev/null\n",
        "!wget -q https://downloads.apache.org/spark/spark-2.4.6/spark-2.4.6-bin-hadoop2.7.tgz\n",
        "!tar xf spark-2.4.6-bin-hadoop2.7.tgz\n",
        "!pip install -q findspark\n",
        "# Set Environment Variables\n",
        "import os\n",
        "os.environ[\"JAVA_HOME\"] = \"/usr/lib/jvm/java-8-openjdk-amd64\"\n",
        "os.environ[\"SPARK_HOME\"] = \"/content/spark-2.4.6-bin-hadoop2.7\"\n",
        "# Start a SparkSession\n",
        "import findspark\n",
        "findspark.init()"
      ],
      "execution_count": 3,
      "outputs": []
    },
    {
      "cell_type": "code",
      "metadata": {
        "id": "KwZYAC3FkrIz",
        "colab_type": "code",
        "colab": {}
      },
      "source": [
        "# import likely needed modules\n",
        "from pyspark import SparkFiles\n",
        "from pyspark import SparkConf                                                                                                                 \n",
        "from pyspark.context import SparkContext                                                                                                      \n",
        "from pyspark.sql import SparkSession, SQLContext\n",
        "from pyspark.sql.functions import udf, struct\n",
        "from pyspark.sql.types import IntegerType\n",
        "from pyspark.sql.functions import col\n",
        "from pyspark.sql.functions import avg\n",
        "from pyspark.sql.functions import translate\n",
        "from pyspark.sql.functions import desc"
      ],
      "execution_count": 4,
      "outputs": []
    },
    {
      "cell_type": "code",
      "metadata": {
        "id": "YU8RPG-gbcn5",
        "colab_type": "code",
        "colab": {}
      },
      "source": [
        "# from pyspark.sql.session import SparkSession\n",
        "spark = SparkSession.builder.getOrCreate()"
      ],
      "execution_count": 11,
      "outputs": []
    },
    {
      "cell_type": "code",
      "metadata": {
        "id": "DQd2UAhyfeEN",
        "colab_type": "code",
        "colab": {}
      },
      "source": [
        "#code for remount if needed\n",
        "#drive.mount(\"/content/drive\", force_remount=True)"
      ],
      "execution_count": 6,
      "outputs": []
    },
    {
      "cell_type": "code",
      "metadata": {
        "id": "B3clTaalTzEX",
        "colab_type": "code",
        "colab": {}
      },
      "source": [
        "#csv location\n",
        "path = \"/content/drive/My Drive/data/clean_ppp_data.csv\""
      ],
      "execution_count": 12,
      "outputs": []
    },
    {
      "cell_type": "code",
      "metadata": {
        "id": "PCkrIpGJTzIm",
        "colab_type": "code",
        "colab": {}
      },
      "source": [
        "# pandas check\n",
        "# df=pd.read_csv(path)\n",
        "# df.sample()"
      ],
      "execution_count": 8,
      "outputs": []
    },
    {
      "cell_type": "code",
      "metadata": {
        "id": "8W7pFcLLa8v1",
        "colab_type": "code",
        "colab": {}
      },
      "source": [
        "# needed in order to do large file save \n",
        "# %pip install py4j\n"
      ],
      "execution_count": 9,
      "outputs": []
    },
    {
      "cell_type": "markdown",
      "metadata": {
        "id": "pjM4jo227MxC",
        "colab_type": "text"
      },
      "source": [
        "### Import csv"
      ]
    },
    {
      "cell_type": "code",
      "metadata": {
        "id": "5Axi0mF8a80f",
        "colab_type": "code",
        "colab": {
          "base_uri": "https://localhost:8080/",
          "height": 479
        },
        "outputId": "09af73a8-0483-4358-8a1f-f15518b34088"
      },
      "source": [
        "# csv into pyspark dataframe\n",
        "df=spark.read.csv(SparkFiles.get(path), sep=\",\", header=True)\n",
        "df.show()"
      ],
      "execution_count": 13,
      "outputs": [
        {
          "output_type": "stream",
          "text": [
            "+-----------+----------------+-----+-----+----------+--------------------+----------+------------+-----------+----------+----------+--------------------+\n",
            "|Loan Amount|            City|State|  Zip|NAICS Code|       Business Type|      Race|      Gender|    Veteran|Jobs Saved|      Date|                Bank|\n",
            "+-----------+----------------+-----+-----+----------+--------------------+----------+------------+-----------+----------+----------+--------------------+\n",
            "|   149961.0|     KANSAS CITY|   MO|64108|     54199|Limited  Liabilit...|Unanswered|  Unanswered| Unanswered|      13.0|2020-04-13|   Country Club Bank|\n",
            "|   149900.0|         RAYTOWN|   MO|64133|     44112|         Corporation|     White|  Male Owned| Unanswered|      14.0|2020-05-11|Blue Ridge Bank a...|\n",
            "|   149900.0|     VALLEY PARK|   MO|63088|     62441|         Corporation|Unanswered|  Unanswered| Unanswered|      28.0|2020-04-09| Meramec Valley Bank|\n",
            "|   149810.9|          ADRIAN|   MO|64720|     23811|Limited  Liabilit...|     White|Female Owned|Non-Veteran|      13.0|2020-04-13|         Adrian Bank|\n",
            "|   149800.0|   SAINT CHARLES|   MO|63301|     23713|Limited  Liabilit...|Unanswered|  Unanswered| Unanswered|       1.0|2020-04-11|Enterprise Bank &...|\n",
            "|   149800.0|        COLUMBIA|   MO|65202|     23831|         Corporation|Unanswered|  Unanswered| Unanswered|      19.0|2020-04-07|        Simmons Bank|\n",
            "|   149800.0|     SAINT LOUIS|   MO|63109|    812112|Limited  Liabilit...|Unanswered|  Unanswered| Unanswered|      15.0|2020-04-14|Enterprise Bank &...|\n",
            "|   149797.5|     SAINT LOUIS|   MO|63126|     48423|Limited  Liabilit...|     White|  Male Owned|Non-Veteran|      12.0|2020-04-07|  1st Advantage Bank|\n",
            "|  149733.99|       ST. LOUIS|   MO|63144|    722511|         Corporation|     White|  Male Owned|Non-Veteran|      15.0|2020-04-08|Citizens National...|\n",
            "|  149724.12|     SAINT LOUIS|   MO|63129|     62121|Subchapter S Corp...|Unanswered|  Unanswered| Unanswered|       1.0|2020-04-08|     Carrollton Bank|\n",
            "|   149715.0|     KANSAS CITY|   MO|64109|     56179|         Corporation|     White|  Male Owned|Non-Veteran|      16.0|2020-04-15|Community Nationa...|\n",
            "|   149700.0|   SAINT CHARLES|   MO|63304|     54137|Limited  Liabilit...|Unanswered|  Unanswered| Unanswered|      22.0|2020-04-09|       Commerce Bank|\n",
            "|   149700.0|     SPRINGFIELD|   MO|65807|     62132|Subchapter S Corp...|Unanswered|  Male Owned| Unanswered|       0.0|2020-04-04|Springfield First...|\n",
            "|   149700.0|     SPRINGFIELD|   MO|65807|     54133|Subchapter S Corp...|     White|  Male Owned| Unanswered|      13.0|2020-04-04|Central Bank of t...|\n",
            "|   149700.0|      LINN CREEK|   MO|65052|    336213|Subchapter S Corp...|Unanswered|  Unanswered| Unanswered|       0.0|2020-04-05|        OakStar Bank|\n",
            "|   149700.0|        DONIPHAN|   MO|63935|     44611|         Corporation|Unanswered|  Unanswered| Unanswered|      15.0|2020-04-06|Peoples Community...|\n",
            "|   149700.0|    BLUE SPRINGS|   MO|64015|     23622|         Corporation|Unanswered|  Unanswered| Unanswered|      12.0|2020-04-07|Central Bank of t...|\n",
            "|   149700.0|MARYLAND HEIGHTS|   MO|63043|     23819|Limited  Liabilit...|Unanswered|  Unanswered| Unanswered|       0.0|2020-04-07|          Busey Bank|\n",
            "|   149600.0|  JEFFERSON CITY|   MO|65109|     81391|Non-Profit Organi...|     White|  Male Owned| Unanswered|      22.0|2020-04-29|The Central Trust...|\n",
            "|   149600.0|          JOPLIN|   MO|64801|    722511|Limited  Liabilit...|     White|  Male Owned|Non-Veteran|      37.0|2020-04-03|       Guaranty Bank|\n",
            "+-----------+----------------+-----+-----+----------+--------------------+----------+------------+-----------+----------+----------+--------------------+\n",
            "only showing top 20 rows\n",
            "\n"
          ],
          "name": "stdout"
        }
      ]
    },
    {
      "cell_type": "markdown",
      "metadata": {
        "id": "YZ5EkPia7a33",
        "colab_type": "text"
      },
      "source": [
        "Check out the data and cast types if needed\n",
        "\n"
      ]
    },
    {
      "cell_type": "code",
      "metadata": {
        "id": "GZFfx9UzfFKW",
        "colab_type": "code",
        "colab": {}
      },
      "source": [
        "# cast from int to string\n",
        "df = df.withColumn(\"NAICS Code\", df['NAICS Code'].cast('string'))\n"
      ],
      "execution_count": 14,
      "outputs": []
    },
    {
      "cell_type": "code",
      "metadata": {
        "id": "R8vCTztQtQGv",
        "colab_type": "code",
        "colab": {
          "base_uri": "https://localhost:8080/",
          "height": 173
        },
        "outputId": "400db5f1-b380-4833-890f-a8b9cfa09804"
      },
      "source": [
        "#remove \" from NY - Sate column\n",
        "from pyspark.sql.functions import udf\n",
        "quoteReplace=udf(lambda x: x.replace(u'\"',''))\n",
        "df=df.withColumn('State',quoteReplace('State'))\n",
        "dotReplace=udf(lambda x: x.replace(u'.',''))\n",
        "df=df.withColumn('State',dotReplace('State'))\n",
        "df.show(2,truncate=False)\n"
      ],
      "execution_count": 15,
      "outputs": [
        {
          "output_type": "stream",
          "text": [
            "+-----------+-----------+-----+-----+----------+-------------------------------+----------+----------+----------+----------+----------+-----------------------------+\n",
            "|Loan Amount|City       |State|Zip  |NAICS Code|Business Type                  |Race      |Gender    |Veteran   |Jobs Saved|Date      |Bank                         |\n",
            "+-----------+-----------+-----+-----+----------+-------------------------------+----------+----------+----------+----------+----------+-----------------------------+\n",
            "|149961.0   |KANSAS CITY|MO   |64108|54199     |Limited  Liability Company(LLC)|Unanswered|Unanswered|Unanswered|13.0      |2020-04-13|Country Club Bank            |\n",
            "|149900.0   |RAYTOWN    |MO   |64133|44112     |Corporation                    |White     |Male Owned|Unanswered|14.0      |2020-05-11|Blue Ridge Bank and Trust Co.|\n",
            "+-----------+-----------+-----+-----+----------+-------------------------------+----------+----------+----------+----------+----------+-----------------------------+\n",
            "only showing top 2 rows\n",
            "\n"
          ],
          "name": "stdout"
        }
      ]
    },
    {
      "cell_type": "code",
      "metadata": {
        "id": "bXAIUK-pa84Q",
        "colab_type": "code",
        "colab": {}
      },
      "source": [
        "# df.printSchema()"
      ],
      "execution_count": 16,
      "outputs": []
    },
    {
      "cell_type": "code",
      "metadata": {
        "id": "UMWhMmmzmF6i",
        "colab_type": "code",
        "colab": {
          "base_uri": "https://localhost:8080/",
          "height": 224
        },
        "outputId": "533bdd6b-f4aa-42ce-a8d9-a424d96bb8aa"
      },
      "source": [
        "#create a general category column for NAICS codes\n",
        "\n",
        "df=df.withColumn('NAICS_cat', df['NAICS Code'].substr(0, 2))\n",
        "df.show(5)"
      ],
      "execution_count": 17,
      "outputs": [
        {
          "output_type": "stream",
          "text": [
            "+-----------+-------------+-----+-----+----------+--------------------+----------+------------+-----------+----------+----------+--------------------+---------+\n",
            "|Loan Amount|         City|State|  Zip|NAICS Code|       Business Type|      Race|      Gender|    Veteran|Jobs Saved|      Date|                Bank|NAICS_cat|\n",
            "+-----------+-------------+-----+-----+----------+--------------------+----------+------------+-----------+----------+----------+--------------------+---------+\n",
            "|   149961.0|  KANSAS CITY|   MO|64108|     54199|Limited  Liabilit...|Unanswered|  Unanswered| Unanswered|      13.0|2020-04-13|   Country Club Bank|       54|\n",
            "|   149900.0|      RAYTOWN|   MO|64133|     44112|         Corporation|     White|  Male Owned| Unanswered|      14.0|2020-05-11|Blue Ridge Bank a...|       44|\n",
            "|   149900.0|  VALLEY PARK|   MO|63088|     62441|         Corporation|Unanswered|  Unanswered| Unanswered|      28.0|2020-04-09| Meramec Valley Bank|       62|\n",
            "|   149810.9|       ADRIAN|   MO|64720|     23811|Limited  Liabilit...|     White|Female Owned|Non-Veteran|      13.0|2020-04-13|         Adrian Bank|       23|\n",
            "|   149800.0|SAINT CHARLES|   MO|63301|     23713|Limited  Liabilit...|Unanswered|  Unanswered| Unanswered|       1.0|2020-04-11|Enterprise Bank &...|       23|\n",
            "+-----------+-------------+-----+-----+----------+--------------------+----------+------------+-----------+----------+----------+--------------------+---------+\n",
            "only showing top 5 rows\n",
            "\n"
          ],
          "name": "stdout"
        }
      ]
    },
    {
      "cell_type": "code",
      "metadata": {
        "id": "slcoA-Dua89n",
        "colab_type": "code",
        "colab": {}
      },
      "source": [
        "# df.describe()"
      ],
      "execution_count": null,
      "outputs": []
    },
    {
      "cell_type": "code",
      "metadata": {
        "id": "wzrngkSDa9IN",
        "colab_type": "code",
        "colab": {}
      },
      "source": [
        "gender=df.orderBy(df['Gender'].asc())\n",
        "# gender.show()"
      ],
      "execution_count": 18,
      "outputs": []
    },
    {
      "cell_type": "markdown",
      "metadata": {
        "id": "b3Pk7fj4j8YW",
        "colab_type": "text"
      },
      "source": [
        "**Quick look at veterans, men and women**"
      ]
    },
    {
      "cell_type": "code",
      "metadata": {
        "id": "_pdiTSeka9BO",
        "colab_type": "code",
        "colab": {}
      },
      "source": [
        "#women, men & veteran dataframes\n",
        "womens = df.filter(df['Gender']== 'Female Owned')\n",
        "mens = df.filter(df['Gender']== 'Male Owned')\n",
        "vets=df.filter(df['Veteran']== 'Veteran')"
      ],
      "execution_count": 19,
      "outputs": []
    },
    {
      "cell_type": "code",
      "metadata": {
        "id": "W9geTOy2jliU",
        "colab_type": "code",
        "colab": {
          "base_uri": "https://localhost:8080/",
          "height": 207
        },
        "outputId": "78892b4a-de53-4c2d-c989-e040fc5bcb45"
      },
      "source": [
        "vets.describe().show()"
      ],
      "execution_count": 20,
      "outputs": [
        {
          "output_type": "stream",
          "text": [
            "+-------+------------------+--------+-----+------------------+-----------------+-------------+--------------------+------------+-------+-----------------+----------+-------------------+------------------+\n",
            "|summary|       Loan Amount|    City|State|               Zip|       NAICS Code|Business Type|                Race|      Gender|Veteran|       Jobs Saved|      Date|               Bank|         NAICS_cat|\n",
            "+-------+------------------+--------+-----+------------------+-----------------+-------------+--------------------+------------+-------+-----------------+----------+-------------------+------------------+\n",
            "|  count|             24727|   24727|24727|             24727|            24727|        24727|               24727|       24727|  24727|            24727|     24727|              24727|             24727|\n",
            "|   mean| 45514.65032070205| 19962.0| null| 53077.57649532899|249829.6230031949|         null|                null|        null|   null|6.006672867715452|      null|               null|53.433534193391836|\n",
            "| stddev|37299.572639294325|     NaN| null|28269.419282693558|273884.8940807252|         null|                null|        null|   null|7.499817730743292|      null|               null| 18.51232017546725|\n",
            "|    min|            1000.0|   19962|   AK|             00602|            11111|  Cooperative|American Indian o...|Female Owned|Veteran|              0.0|2020-04-03|\tYankee Farm Credit|                11|\n",
            "|    max|           99999.0|ZIRCONIA|   WY|             99901|            99999|        Trust|               White|  Unanswered|Veteran|             94.0|2020-06-30|              mBank|                99|\n",
            "+-------+------------------+--------+-----+------------------+-----------------+-------------+--------------------+------------+-------+-----------------+----------+-------------------+------------------+\n",
            "\n"
          ],
          "name": "stdout"
        }
      ]
    },
    {
      "cell_type": "code",
      "metadata": {
        "id": "pk_CemDpjx9h",
        "colab_type": "code",
        "colab": {
          "base_uri": "https://localhost:8080/",
          "height": 479
        },
        "outputId": "97f91d5a-9a8e-4f11-f025-66a9a39b6429"
      },
      "source": [
        "vets.show()"
      ],
      "execution_count": 21,
      "outputs": [
        {
          "output_type": "stream",
          "text": [
            "+-----------+-----------+-----+-----+----------+--------------------+--------------------+------------+-------+----------+----------+--------------------+---------+\n",
            "|Loan Amount|       City|State|  Zip|NAICS Code|       Business Type|                Race|      Gender|Veteran|Jobs Saved|      Date|                Bank|NAICS_cat|\n",
            "+-----------+-----------+-----+-----+----------+--------------------+--------------------+------------+-------+----------+----------+--------------------+---------+\n",
            "|   148437.5|SAINT LOUIS|   MO|63132|    541922|         Corporation|          Unanswered|  Male Owned|Veteran|      12.0|2020-04-10|     Carrollton Bank|       54|\n",
            "|   147287.5|SPRINGFIELD|   MO|65803|     23821|         Corporation|          Unanswered|  Male Owned|Veteran|      11.0|2020-04-12|   BancorpSouth Bank|       23|\n",
            "|   146673.0| HALLSVILLE|   MO|65255|     49211|         Corporation|          Unanswered|  Male Owned|Veteran|       2.0|2020-05-19|             Kabbage|       49|\n",
            "|   145594.8|SAINT LOUIS|   MO|63110|     62161|Limited  Liabilit...|Black or African ...|Female Owned|Veteran|      19.0|2020-04-09|          Triad Bank|       62|\n",
            "|   143100.0|     BELTON|   MO|64012|     23813|Subchapter S Corp...|               White|  Male Owned|Veteran|      15.0|2020-04-09|       Commerce Bank|       23|\n",
            "|   140900.0|     FULTON|   MO|65251|     33451|         Corporation|               White|  Male Owned|Veteran|       1.0|2020-04-06|The Central Trust...|       33|\n",
            "|   139242.0|   SULLIVAN|   MO|63080|    331523|         Corporation|          Unanswered|  Male Owned|Veteran|      14.0|2020-04-10|First State Commu...|       33|\n",
            "|  137359.95|    SEDALIA|   MO|65301|     56111|         Corporation|               White|  Male Owned|Veteran|      34.0|2020-04-10|        Alliant Bank|       56|\n",
            "|   136500.0|   COLUMBIA|   MO|65201|    811198|         Corporation|               White|  Male Owned|Veteran|      13.0|2020-04-08|The Bank of Missouri|       81|\n",
            "|   134900.0|LEES SUMMIT|   MO|64086|     62121|         Corporation|American Indian o...|  Male Owned|Veteran|      17.0|2020-04-07|        Emprise Bank|       62|\n",
            "|  132511.05|    MARSTON|   MO|63866|     11192|         Corporation|               White|  Male Owned|Veteran|       1.0|2020-04-15|First State Bank ...|       11|\n",
            "|   131700.0|SPRINGFIELD|   MO|65806|     54131|         Corporation|               White|  Male Owned|Veteran|       9.0|2020-04-07|The Bank of Missouri|       54|\n",
            "|   129400.0|       ORAN|   MO|63771|    321214|         Corporation|               White|  Male Owned|Veteran|      21.0|2020-04-06|       Alliance Bank|       32|\n",
            "|   128800.0|      OZARK|   MO|65721|    541211|         Corporation|               White|  Male Owned|Veteran|      11.0|2020-04-27|The Bank of Missouri|       54|\n",
            "|  128131.35|     NEVADA|   MO|64772|    722511|Limited  Liabilit...|          Unanswered|  Male Owned|Veteran|      35.0|2020-04-13|The First Nationa...|       72|\n",
            "|   128080.9|      ROLLA|   MO|65401|    541213|Subchapter S Corp...|               White|Female Owned|Veteran|      47.0|2020-04-08|  Phelps County Bank|       54|\n",
            "|  128047.12|  ST PETERS|   MO|63304|     23821|Subchapter S Corp...|          Unanswered|  Male Owned|Veteran|      12.0|2020-04-14|First State Bank ...|       23|\n",
            "|   127700.0|    BRANSON|   MO|65616|     11299|Limited  Liabilit...|               White|Female Owned|Veteran|      25.0|2020-04-04|The Bank of Missouri|       11|\n",
            "|   126815.0|    JACKSON|   MO|63755|    441228|Limited  Liabilit...|          Unanswered|  Male Owned|Veteran|      12.0|2020-04-07|           MRV Banks|       44|\n",
            "|   126125.0|    DE SOTO|   MO|63020|     23622|Subchapter S Corp...|               White|  Male Owned|Veteran|       7.0|2020-04-09|First State Commu...|       23|\n",
            "+-----------+-----------+-----+-----+----------+--------------------+--------------------+------------+-------+----------+----------+--------------------+---------+\n",
            "only showing top 20 rows\n",
            "\n"
          ],
          "name": "stdout"
        }
      ]
    },
    {
      "cell_type": "code",
      "metadata": {
        "id": "oxJsq21C6CzS",
        "colab_type": "code",
        "colab": {
          "base_uri": "https://localhost:8080/",
          "height": 207
        },
        "outputId": "d25dc7c0-d67e-49bb-dfd5-b43fe0154bb5"
      },
      "source": [
        "womens.describe().show()\n"
      ],
      "execution_count": 22,
      "outputs": [
        {
          "output_type": "stream",
          "text": [
            "+-------+-----------------+-------------------+------+------------------+------------------+-------------+--------------------+------------+-----------+-----------------+----------+----------------+------------------+\n",
            "|summary|      Loan Amount|               City| State|               Zip|        NAICS Code|Business Type|                Race|      Gender|    Veteran|       Jobs Saved|      Date|            Bank|         NAICS_cat|\n",
            "+-------+-----------------+-------------------+------+------------------+------------------+-------------+--------------------+------------+-----------+-----------------+----------+----------------+------------------+\n",
            "|  count|           207583|             207583|207583|            207583|            207583|       207583|              207583|      207583|     207583|           207583|    207583|          207583|            207583|\n",
            "|   mean|34935.94942013533|               null|  null| 52829.98377034728|271107.92484452005|         null|                null|        null|       null|5.333379901051628|      null|            null| 56.64958113140286|\n",
            "| stddev|34468.93771598007|               null|  null|27417.168987885787|291062.68827821437|         null|                null|        null|       null|7.522291632968718|      null|            null|17.716005821212256|\n",
            "|    min|            100.0|1205 NE BROADWAY ST|    AK|             00601|             11111|  Cooperative|American Indian o...|Female Owned|Non-Veteran|              0.0|2020-04-03|121 Financial CU|                11|\n",
            "|    max|          99997.0|             ZWOLLE|    WY|             99950|             99999|        Trust|               White|Female Owned|    Veteran|             99.0|2020-06-30|           mBank|                99|\n",
            "+-------+-----------------+-------------------+------+------------------+------------------+-------------+--------------------+------------+-----------+-----------------+----------+----------------+------------------+\n",
            "\n"
          ],
          "name": "stdout"
        }
      ]
    },
    {
      "cell_type": "code",
      "metadata": {
        "id": "0pkzLOCK6DSq",
        "colab_type": "code",
        "colab": {}
      },
      "source": [
        "mens.describe().show()\n",
        "\n"
      ],
      "execution_count": null,
      "outputs": []
    },
    {
      "cell_type": "code",
      "metadata": {
        "id": "jP-ut04BUuZq",
        "colab_type": "code",
        "colab": {
          "base_uri": "https://localhost:8080/",
          "height": 119
        },
        "outputId": "0ef775cb-e639-49c2-e36f-fb75460480a2"
      },
      "source": [
        "df.select(avg(\"Loan Amount\")).show()"
      ],
      "execution_count": 23,
      "outputs": [
        {
          "output_type": "stream",
          "text": [
            "+-----------------+\n",
            "| avg(Loan Amount)|\n",
            "+-----------------+\n",
            "|33791.73115993187|\n",
            "+-----------------+\n",
            "\n"
          ],
          "name": "stdout"
        }
      ]
    },
    {
      "cell_type": "code",
      "metadata": {
        "id": "i68ckPDZVFfn",
        "colab_type": "code",
        "colab": {
          "base_uri": "https://localhost:8080/",
          "height": 204
        },
        "outputId": "50791465-6c16-4d51-fae9-cb402d271023"
      },
      "source": [
        "gen_vets=df.groupBy('Gender', 'Veteran').count().orderBy('count')\n",
        "gen_vets.show(5)"
      ],
      "execution_count": 24,
      "outputs": [
        {
          "output_type": "stream",
          "text": [
            "+------------+----------+-----+\n",
            "|      Gender|   Veteran|count|\n",
            "+------------+----------+-----+\n",
            "|  Unanswered|Male Owned|    1|\n",
            "|       White|Male Owned|    1|\n",
            "|  Unanswered|   Veteran| 1344|\n",
            "|Female Owned|   Veteran| 2810|\n",
            "|  Male Owned|   Veteran|20573|\n",
            "+------------+----------+-----+\n",
            "only showing top 5 rows\n",
            "\n"
          ],
          "name": "stdout"
        }
      ]
    },
    {
      "cell_type": "code",
      "metadata": {
        "id": "JnqSv5zTVF2h",
        "colab_type": "code",
        "colab": {
          "base_uri": "https://localhost:8080/",
          "height": 170
        },
        "outputId": "2d23d17f-e80b-4601-9e9b-40e21e72bb7a"
      },
      "source": [
        "vet_ct=df.groupBy('Veteran').count().orderBy('count')\n",
        "vet_ct.show()"
      ],
      "execution_count": 25,
      "outputs": [
        {
          "output_type": "stream",
          "text": [
            "+-----------+-------+\n",
            "|    Veteran|  count|\n",
            "+-----------+-------+\n",
            "| Male Owned|      2|\n",
            "|    Veteran|  24727|\n",
            "|Non-Veteran| 545615|\n",
            "| Unanswered|3252814|\n",
            "+-----------+-------+\n",
            "\n"
          ],
          "name": "stdout"
        }
      ]
    },
    {
      "cell_type": "code",
      "metadata": {
        "id": "L1IRzITKVGAO",
        "colab_type": "code",
        "colab": {
          "base_uri": "https://localhost:8080/",
          "height": 272
        },
        "outputId": "be209f53-eb6a-4ef0-f0b6-a2d9d5e7af88"
      },
      "source": [
        "rc_ct=df.groupBy('Race').count().orderBy('count', ascending=False)\n",
        "rc_ct.show()"
      ],
      "execution_count": 26,
      "outputs": [
        {
          "output_type": "stream",
          "text": [
            "+--------------------+-------+\n",
            "|                Race|  count|\n",
            "+--------------------+-------+\n",
            "|          Unanswered|3407771|\n",
            "|               White| 319185|\n",
            "|               Asian|  47993|\n",
            "|            Hispanic|  32408|\n",
            "|Black or African ...|  13513|\n",
            "|American Indian o...|   2134|\n",
            "|        Puerto Rican|    124|\n",
            "|Non-Profit Organi...|     23|\n",
            "|         Multi Group|      4|\n",
            "|      Eskimo & Aleut|      3|\n",
            "+--------------------+-------+\n",
            "\n"
          ],
          "name": "stdout"
        }
      ]
    },
    {
      "cell_type": "code",
      "metadata": {
        "id": "tAAUUe7TcNM0",
        "colab_type": "code",
        "colab": {
          "base_uri": "https://localhost:8080/",
          "height": 224
        },
        "outputId": "2b0d1367-189e-482d-9c1e-39e671345cc4"
      },
      "source": [
        "race=df.filter(df['Race'] != 'Unanswered')\n",
        "race.show(5)\n"
      ],
      "execution_count": 27,
      "outputs": [
        {
          "output_type": "stream",
          "text": [
            "+-----------+-----------+-----+-----+----------+--------------------+-----+------------+-----------+----------+----------+--------------------+---------+\n",
            "|Loan Amount|       City|State|  Zip|NAICS Code|       Business Type| Race|      Gender|    Veteran|Jobs Saved|      Date|                Bank|NAICS_cat|\n",
            "+-----------+-----------+-----+-----+----------+--------------------+-----+------------+-----------+----------+----------+--------------------+---------+\n",
            "|   149900.0|    RAYTOWN|   MO|64133|     44112|         Corporation|White|  Male Owned| Unanswered|      14.0|2020-05-11|Blue Ridge Bank a...|       44|\n",
            "|   149810.9|     ADRIAN|   MO|64720|     23811|Limited  Liabilit...|White|Female Owned|Non-Veteran|      13.0|2020-04-13|         Adrian Bank|       23|\n",
            "|   149797.5|SAINT LOUIS|   MO|63126|     48423|Limited  Liabilit...|White|  Male Owned|Non-Veteran|      12.0|2020-04-07|  1st Advantage Bank|       48|\n",
            "|  149733.99|  ST. LOUIS|   MO|63144|    722511|         Corporation|White|  Male Owned|Non-Veteran|      15.0|2020-04-08|Citizens National...|       72|\n",
            "|   149715.0|KANSAS CITY|   MO|64109|     56179|         Corporation|White|  Male Owned|Non-Veteran|      16.0|2020-04-15|Community Nationa...|       56|\n",
            "+-----------+-----------+-----+-----+----------+--------------------+-----+------------+-----------+----------+----------+--------------------+---------+\n",
            "only showing top 5 rows\n",
            "\n"
          ],
          "name": "stdout"
        }
      ]
    },
    {
      "cell_type": "code",
      "metadata": {
        "id": "1pndqgeynWPz",
        "colab_type": "code",
        "colab": {
          "base_uri": "https://localhost:8080/",
          "height": 309
        },
        "outputId": "698d5f63-7551-44bf-96a3-7c32442b9b77"
      },
      "source": [
        "people_df = df.filter(\n",
        "    (df['Veteran'] != 'Unanswered') & \n",
        "    (df['Race'] != 'Unanswered') & \n",
        "    (df['Gender'] != 'Unanswered') \n",
        "    )\n",
        "people_df.show(10)"
      ],
      "execution_count": 28,
      "outputs": [
        {
          "output_type": "stream",
          "text": [
            "+-----------+-------------+-----+-----+----------+--------------------+--------------------+------------+-----------+----------+----------+--------------------+---------+\n",
            "|Loan Amount|         City|State|  Zip|NAICS Code|       Business Type|                Race|      Gender|    Veteran|Jobs Saved|      Date|                Bank|NAICS_cat|\n",
            "+-----------+-------------+-----+-----+----------+--------------------+--------------------+------------+-----------+----------+----------+--------------------+---------+\n",
            "|   149810.9|       ADRIAN|   MO|64720|     23811|Limited  Liabilit...|               White|Female Owned|Non-Veteran|      13.0|2020-04-13|         Adrian Bank|       23|\n",
            "|   149797.5|  SAINT LOUIS|   MO|63126|     48423|Limited  Liabilit...|               White|  Male Owned|Non-Veteran|      12.0|2020-04-07|  1st Advantage Bank|       48|\n",
            "|  149733.99|    ST. LOUIS|   MO|63144|    722511|         Corporation|               White|  Male Owned|Non-Veteran|      15.0|2020-04-08|Citizens National...|       72|\n",
            "|   149715.0|  KANSAS CITY|   MO|64109|     56179|         Corporation|               White|  Male Owned|Non-Veteran|      16.0|2020-04-15|Community Nationa...|       56|\n",
            "|   149600.0|       JOPLIN|   MO|64801|    722511|Limited  Liabilit...|               White|  Male Owned|Non-Veteran|      37.0|2020-04-03|       Guaranty Bank|       72|\n",
            "|   149599.0|  LEES SUMMIT|   MO|64086|     62161|Limited  Liabilit...|Black or African ...|Female Owned|Non-Veteran|      67.0|2020-06-24|           Core Bank|       62|\n",
            "|  149430.32|       FENTON|   MO|63026|     54133|Limited  Liabilit...|               White|  Male Owned|Non-Veteran|      16.0|2020-04-09|     Commercial Bank|       54|\n",
            "|   149300.0| INDEPENDENCE|   MO|64055|    562111|Limited  Liabilit...|               White|  Male Owned|Non-Veteran|      15.0|2020-04-04|Central Bank of t...|       56|\n",
            "|   149300.0|     WINFIELD|   MO|63389|    332312|Limited  Liabilit...|               White|  Male Owned|Non-Veteran|      17.0|2020-04-08|Bank of Franklin ...|       33|\n",
            "|   149100.0|SAINT CHARLES|   MO|63301|     56172|         Corporation|               White|Female Owned|Non-Veteran|      26.0|2020-04-09|American Bank of ...|       56|\n",
            "+-----------+-------------+-----+-----+----------+--------------------+--------------------+------------+-----------+----------+----------+--------------------+---------+\n",
            "only showing top 10 rows\n",
            "\n"
          ],
          "name": "stdout"
        }
      ]
    },
    {
      "cell_type": "code",
      "metadata": {
        "id": "YFvI0Daka875",
        "colab_type": "code",
        "colab": {
          "base_uri": "https://localhost:8080/",
          "height": 204
        },
        "outputId": "fd648a8a-ea66-4244-91e8-a070b99a199f"
      },
      "source": [
        "rc_ct=people_df.groupBy('Race',).count().orderBy('count', ascending=False)\n",
        "rc_ct.show(5)"
      ],
      "execution_count": 29,
      "outputs": [
        {
          "output_type": "stream",
          "text": [
            "+--------------------+------+\n",
            "|                Race| count|\n",
            "+--------------------+------+\n",
            "|               White|208476|\n",
            "|               Asian| 34888|\n",
            "|            Hispanic| 22166|\n",
            "|Black or African ...|  8565|\n",
            "|American Indian o...|  1471|\n",
            "+--------------------+------+\n",
            "only showing top 5 rows\n",
            "\n"
          ],
          "name": "stdout"
        }
      ]
    },
    {
      "cell_type": "code",
      "metadata": {
        "id": "qnVowAkIptAu",
        "colab_type": "code",
        "colab": {
          "base_uri": "https://localhost:8080/",
          "height": 34
        },
        "outputId": "2cd83d7f-5394-4a27-bbb8-b8261e5bd407"
      },
      "source": [
        "people_df.count()"
      ],
      "execution_count": 30,
      "outputs": [
        {
          "output_type": "execute_result",
          "data": {
            "text/plain": [
              "275661"
            ]
          },
          "metadata": {
            "tags": []
          },
          "execution_count": 30
        }
      ]
    },
    {
      "cell_type": "code",
      "metadata": {
        "id": "JBTrhCeGZaYf",
        "colab_type": "code",
        "colab": {
          "base_uri": "https://localhost:8080/",
          "height": 34
        },
        "outputId": "20c352d1-0100-4356-abb2-78cfef5fa0a6"
      },
      "source": [
        "#number of rows  for loan counts per 'state' (probably includes virgin islands) from people dataframe\n",
        "state_loan_count = people_df.groupby(\"State\").agg({\"Loan Amount\": \"count\"})\n",
        "state_loan_count.count()\n",
        "\n",
        "\n",
        "\n"
      ],
      "execution_count": 31,
      "outputs": [
        {
          "output_type": "execute_result",
          "data": {
            "text/plain": [
              "58"
            ]
          },
          "metadata": {
            "tags": []
          },
          "execution_count": 31
        }
      ]
    },
    {
      "cell_type": "code",
      "metadata": {
        "id": "PnOqLlJz9VYH",
        "colab_type": "code",
        "colab": {
          "base_uri": "https://localhost:8080/",
          "height": 459
        },
        "outputId": "feb4ff76-8ebb-4ada-d9d1-efad3f698a37"
      },
      "source": [
        "# loan count per state from smaller dataset (people)\n",
        "state_loan_count.show()"
      ],
      "execution_count": 32,
      "outputs": [
        {
          "output_type": "stream",
          "text": [
            "+-----+------------------+\n",
            "|State|count(Loan Amount)|\n",
            "+-----+------------------+\n",
            "|   SC|              2676|\n",
            "|   AZ|              3738|\n",
            "|   LA|              3971|\n",
            "|   MN|             10098|\n",
            "|   NJ|              3791|\n",
            "|   DC|               301|\n",
            "|   OR|              1895|\n",
            "|   VA|              4022|\n",
            "|   RI|              1381|\n",
            "|   WY|              1319|\n",
            "|   KY|              3381|\n",
            "|   NH|              1605|\n",
            "|   MI|              8292|\n",
            "|   NV|              1353|\n",
            "|   WI|              7327|\n",
            "|   ID|              1809|\n",
            "|   CA|             22052|\n",
            "|   CT|              4197|\n",
            "|   NE|              5816|\n",
            "|   MT|              2892|\n",
            "+-----+------------------+\n",
            "only showing top 20 rows\n",
            "\n"
          ],
          "name": "stdout"
        }
      ]
    },
    {
      "cell_type": "markdown",
      "metadata": {
        "id": "cqMf_-N07wAX",
        "colab_type": "text"
      },
      "source": [
        "Send the \"people\" dataframe to csv."
      ]
    },
    {
      "cell_type": "code",
      "metadata": {
        "id": "QqPlEWQZysfo",
        "colab_type": "code",
        "colab": {}
      },
      "source": [
        "# relatively small amount of rows, but looks like it will be interesting to work with \n",
        "# sending to file and will run visualizations in pandas/tableau and run machine learning on it\n",
        "\n",
        "people_df.toPandas().to_csv(\"people_ppp.csv\", header=True)\n",
        "!cp people_ppp.csv \"drive/My Drive/\""
      ],
      "execution_count": 33,
      "outputs": []
    },
    {
      "cell_type": "code",
      "metadata": {
        "id": "p_5TzMSKRZCD",
        "colab_type": "code",
        "colab": {
          "base_uri": "https://localhost:8080/",
          "height": 289
        },
        "outputId": "56460b8c-4248-4598-d8e4-e59396b80d61"
      },
      "source": [
        "# banks in main dataframe\n",
        "top_banks=df.groupBy(\"Bank\").count().orderBy('count', ascending=False)\n",
        "top_banks.show(10)"
      ],
      "execution_count": 34,
      "outputs": [
        {
          "output_type": "stream",
          "text": [
            "+--------------------+------+\n",
            "|                Bank| count|\n",
            "+--------------------+------+\n",
            "|     Bank of America|286122|\n",
            "| JPMorgan Chase Bank|197511|\n",
            "|    Cross River Bank|122920|\n",
            "|             Kabbage|113504|\n",
            "|    Wells Fargo Bank|110070|\n",
            "|           U.S. Bank| 82922|\n",
            "|Celtic Bank Corpo...| 80472|\n",
            "|             WebBank| 71945|\n",
            "|Truist Bank d/b/a...| 61601|\n",
            "|             TD Bank| 56340|\n",
            "+--------------------+------+\n",
            "only showing top 10 rows\n",
            "\n"
          ],
          "name": "stdout"
        }
      ]
    },
    {
      "cell_type": "code",
      "metadata": {
        "id": "emqamE7iZajl",
        "colab_type": "code",
        "colab": {
          "base_uri": "https://localhost:8080/",
          "height": 289
        },
        "outputId": "4f3d9be6-1fde-4c86-aa0c-01139b4a812e"
      },
      "source": [
        "# NAICS codes in main dataframe\n",
        "biz_code=df.groupBy(\"NAICS Code\").count().orderBy('count', ascending=False)\n",
        "biz_code.show(10)"
      ],
      "execution_count": 35,
      "outputs": [
        {
          "output_type": "stream",
          "text": [
            "+----------+------+\n",
            "|NAICS Code| count|\n",
            "+----------+------+\n",
            "|    722511|129239|\n",
            "|     53121|103133|\n",
            "|     54111|102117|\n",
            "|     62121| 84500|\n",
            "|    812112| 80222|\n",
            "|    621111| 79396|\n",
            "|     99999| 75184|\n",
            "|     81311| 73448|\n",
            "|     52421| 71632|\n",
            "|    722513| 63869|\n",
            "+----------+------+\n",
            "only showing top 10 rows\n",
            "\n"
          ],
          "name": "stdout"
        }
      ]
    },
    {
      "cell_type": "code",
      "metadata": {
        "id": "EpnHjYpJ-vZN",
        "colab_type": "code",
        "colab": {
          "base_uri": "https://localhost:8080/",
          "height": 289
        },
        "outputId": "d868fe52-302e-4294-d826-10cf537185af"
      },
      "source": [
        "# NAICS general categories in main dataframe\n",
        "top_cat_count=df.groupBy(\"NAICS_cat\").count().orderBy('count', ascending=False).show(10)\n"
      ],
      "execution_count": 36,
      "outputs": [
        {
          "output_type": "stream",
          "text": [
            "+---------+------+\n",
            "|NAICS_cat| count|\n",
            "+---------+------+\n",
            "|       54|518202|\n",
            "|       81|455829|\n",
            "|       62|395165|\n",
            "|       23|355120|\n",
            "|       72|289437|\n",
            "|       44|248358|\n",
            "|       53|213868|\n",
            "|       56|195950|\n",
            "|       48|146207|\n",
            "|       52|143450|\n",
            "+---------+------+\n",
            "only showing top 10 rows\n",
            "\n"
          ],
          "name": "stdout"
        }
      ]
    },
    {
      "cell_type": "code",
      "metadata": {
        "id": "O1XG5mi9OIIq",
        "colab_type": "code",
        "colab": {
          "base_uri": "https://localhost:8080/",
          "height": 119
        },
        "outputId": "fa70d258-7227-4462-b4d9-35e111e59de3"
      },
      "source": [
        "#verifying nan value removal\n",
        "\n",
        "from pyspark.sql.functions import isnan, when, count, col\n",
        "\n",
        "df.select([count(when(isnan(c), c)).alias(c) for c in df.columns]).show()"
      ],
      "execution_count": 37,
      "outputs": [
        {
          "output_type": "stream",
          "text": [
            "+-----------+----+-----+---+----------+-------------+----+------+-------+----------+----+----+---------+\n",
            "|Loan Amount|City|State|Zip|NAICS Code|Business Type|Race|Gender|Veteran|Jobs Saved|Date|Bank|NAICS_cat|\n",
            "+-----------+----+-----+---+----------+-------------+----+------+-------+----------+----+----+---------+\n",
            "|          0|   0|    0|  0|         0|            0|   0|     0|      0|         0|   0|   0|        0|\n",
            "+-----------+----+-----+---+----------+-------------+----+------+-------+----------+----+----+---------+\n",
            "\n"
          ],
          "name": "stdout"
        }
      ]
    },
    {
      "cell_type": "code",
      "metadata": {
        "id": "f8rW5xoKOINu",
        "colab_type": "code",
        "colab": {
          "base_uri": "https://localhost:8080/",
          "height": 479
        },
        "outputId": "8cad90ac-489c-4b1e-fb8b-cdf9cb5790a6"
      },
      "source": [
        "df.show()"
      ],
      "execution_count": 38,
      "outputs": [
        {
          "output_type": "stream",
          "text": [
            "+-----------+----------------+-----+-----+----------+--------------------+----------+------------+-----------+----------+----------+--------------------+---------+\n",
            "|Loan Amount|            City|State|  Zip|NAICS Code|       Business Type|      Race|      Gender|    Veteran|Jobs Saved|      Date|                Bank|NAICS_cat|\n",
            "+-----------+----------------+-----+-----+----------+--------------------+----------+------------+-----------+----------+----------+--------------------+---------+\n",
            "|   149961.0|     KANSAS CITY|   MO|64108|     54199|Limited  Liabilit...|Unanswered|  Unanswered| Unanswered|      13.0|2020-04-13|   Country Club Bank|       54|\n",
            "|   149900.0|         RAYTOWN|   MO|64133|     44112|         Corporation|     White|  Male Owned| Unanswered|      14.0|2020-05-11|Blue Ridge Bank a...|       44|\n",
            "|   149900.0|     VALLEY PARK|   MO|63088|     62441|         Corporation|Unanswered|  Unanswered| Unanswered|      28.0|2020-04-09| Meramec Valley Bank|       62|\n",
            "|   149810.9|          ADRIAN|   MO|64720|     23811|Limited  Liabilit...|     White|Female Owned|Non-Veteran|      13.0|2020-04-13|         Adrian Bank|       23|\n",
            "|   149800.0|   SAINT CHARLES|   MO|63301|     23713|Limited  Liabilit...|Unanswered|  Unanswered| Unanswered|       1.0|2020-04-11|Enterprise Bank &...|       23|\n",
            "|   149800.0|        COLUMBIA|   MO|65202|     23831|         Corporation|Unanswered|  Unanswered| Unanswered|      19.0|2020-04-07|        Simmons Bank|       23|\n",
            "|   149800.0|     SAINT LOUIS|   MO|63109|    812112|Limited  Liabilit...|Unanswered|  Unanswered| Unanswered|      15.0|2020-04-14|Enterprise Bank &...|       81|\n",
            "|   149797.5|     SAINT LOUIS|   MO|63126|     48423|Limited  Liabilit...|     White|  Male Owned|Non-Veteran|      12.0|2020-04-07|  1st Advantage Bank|       48|\n",
            "|  149733.99|       ST. LOUIS|   MO|63144|    722511|         Corporation|     White|  Male Owned|Non-Veteran|      15.0|2020-04-08|Citizens National...|       72|\n",
            "|  149724.12|     SAINT LOUIS|   MO|63129|     62121|Subchapter S Corp...|Unanswered|  Unanswered| Unanswered|       1.0|2020-04-08|     Carrollton Bank|       62|\n",
            "|   149715.0|     KANSAS CITY|   MO|64109|     56179|         Corporation|     White|  Male Owned|Non-Veteran|      16.0|2020-04-15|Community Nationa...|       56|\n",
            "|   149700.0|   SAINT CHARLES|   MO|63304|     54137|Limited  Liabilit...|Unanswered|  Unanswered| Unanswered|      22.0|2020-04-09|       Commerce Bank|       54|\n",
            "|   149700.0|     SPRINGFIELD|   MO|65807|     62132|Subchapter S Corp...|Unanswered|  Male Owned| Unanswered|       0.0|2020-04-04|Springfield First...|       62|\n",
            "|   149700.0|     SPRINGFIELD|   MO|65807|     54133|Subchapter S Corp...|     White|  Male Owned| Unanswered|      13.0|2020-04-04|Central Bank of t...|       54|\n",
            "|   149700.0|      LINN CREEK|   MO|65052|    336213|Subchapter S Corp...|Unanswered|  Unanswered| Unanswered|       0.0|2020-04-05|        OakStar Bank|       33|\n",
            "|   149700.0|        DONIPHAN|   MO|63935|     44611|         Corporation|Unanswered|  Unanswered| Unanswered|      15.0|2020-04-06|Peoples Community...|       44|\n",
            "|   149700.0|    BLUE SPRINGS|   MO|64015|     23622|         Corporation|Unanswered|  Unanswered| Unanswered|      12.0|2020-04-07|Central Bank of t...|       23|\n",
            "|   149700.0|MARYLAND HEIGHTS|   MO|63043|     23819|Limited  Liabilit...|Unanswered|  Unanswered| Unanswered|       0.0|2020-04-07|          Busey Bank|       23|\n",
            "|   149600.0|  JEFFERSON CITY|   MO|65109|     81391|Non-Profit Organi...|     White|  Male Owned| Unanswered|      22.0|2020-04-29|The Central Trust...|       81|\n",
            "|   149600.0|          JOPLIN|   MO|64801|    722511|Limited  Liabilit...|     White|  Male Owned|Non-Veteran|      37.0|2020-04-03|       Guaranty Bank|       72|\n",
            "+-----------+----------------+-----+-----+----------+--------------------+----------+------------+-----------+----------+----------+--------------------+---------+\n",
            "only showing top 20 rows\n",
            "\n"
          ],
          "name": "stdout"
        }
      ]
    },
    {
      "cell_type": "code",
      "metadata": {
        "id": "yI0s1RguDF14",
        "colab_type": "code",
        "colab": {
          "base_uri": "https://localhost:8080/",
          "height": 34
        },
        "outputId": "9fc25235-47c1-463c-aebc-734e053ada81"
      },
      "source": [
        "df.filter(df['NAICS_cat'].isNotNull()).count()\n"
      ],
      "execution_count": 39,
      "outputs": [
        {
          "output_type": "execute_result",
          "data": {
            "text/plain": [
              "3823158"
            ]
          },
          "metadata": {
            "tags": []
          },
          "execution_count": 39
        }
      ]
    },
    {
      "cell_type": "code",
      "metadata": {
        "id": "TY0joJubT9Ym",
        "colab_type": "code",
        "colab": {
          "base_uri": "https://localhost:8080/",
          "height": 34
        },
        "outputId": "45ef3c3c-93b6-48dd-c33c-5a3fac40d155"
      },
      "source": [
        "df.filter(df['Gender'].isNotNull()).count()"
      ],
      "execution_count": 40,
      "outputs": [
        {
          "output_type": "execute_result",
          "data": {
            "text/plain": [
              "3823158"
            ]
          },
          "metadata": {
            "tags": []
          },
          "execution_count": 40
        }
      ]
    },
    {
      "cell_type": "code",
      "metadata": {
        "id": "asPKd9guByut",
        "colab_type": "code",
        "colab": {}
      },
      "source": [
        "spark.conf.set(\"spark.sql.execution.arrow.enabled\", \"true\")"
      ],
      "execution_count": 41,
      "outputs": []
    },
    {
      "cell_type": "code",
      "metadata": {
        "id": "CY8RS2ckX39F",
        "colab_type": "code",
        "colab": {}
      },
      "source": [
        "#write to csv with pyspark\n",
        "# df.repartition(1).write.csv(\"it.csv\", sep=',')\n",
        "# !cp it.csv \"drive/My Drive/\""
      ],
      "execution_count": 44,
      "outputs": []
    },
    {
      "cell_type": "code",
      "metadata": {
        "id": "Qt5_t49mXIeQ",
        "colab_type": "code",
        "colab": {}
      },
      "source": [
        "# write to csv with pandas\n",
        "# df.toPandas().to_csv('ppp_p.csv', index=0)\n",
        "# !cp ppp_p.csv \"drive/My Drive/\""
      ],
      "execution_count": 45,
      "outputs": []
    },
    {
      "cell_type": "code",
      "metadata": {
        "id": "AALNsNdYDjZ4",
        "colab_type": "code",
        "colab": {}
      },
      "source": [
        ""
      ],
      "execution_count": null,
      "outputs": []
    },
    {
      "cell_type": "code",
      "metadata": {
        "id": "nhMi1kOKS9il",
        "colab_type": "code",
        "colab": {}
      },
      "source": [
        ""
      ],
      "execution_count": null,
      "outputs": []
    },
    {
      "cell_type": "code",
      "metadata": {
        "id": "tjNTT2BlQ2MC",
        "colab_type": "code",
        "colab": {}
      },
      "source": [
        ""
      ],
      "execution_count": null,
      "outputs": []
    }
  ]
}