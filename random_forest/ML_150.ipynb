{
  "nbformat": 4,
  "nbformat_minor": 0,
  "metadata": {
    "colab": {
      "name": "ML_150.ipynb",
      "provenance": [],
      "private_outputs": true,
      "collapsed_sections": [],
      "machine_shape": "hm",
      "mount_file_id": "13JllpmP0h1W9SUNyBh-SEQBlLjZnzXcg",
      "authorship_tag": "ABX9TyN5TP7DltxcRdDPnB13zBRZ",
      "include_colab_link": true
    },
    "kernelspec": {
      "name": "python3",
      "display_name": "Python 3"
    },
    "accelerator": "GPU"
  },
  "cells": [
    {
      "cell_type": "markdown",
      "metadata": {
        "id": "view-in-github",
        "colab_type": "text"
      },
      "source": [
        "<a href=\"https://colab.research.google.com/github/sherirosalia/PPP_Covid_Stimulus/blob/master/random_forest/ML_150.ipynb\" target=\"_parent\"><img src=\"https://colab.research.google.com/assets/colab-badge.svg\" alt=\"Open In Colab\"/></a>"
      ]
    },
    {
      "cell_type": "markdown",
      "metadata": {
        "id": "2oVNvkNYPDV2",
        "colab_type": "text"
      },
      "source": [
        "**Over 150k random forest analysis ** "
      ]
    },
    {
      "cell_type": "markdown",
      "metadata": {
        "id": "kHsFmortIdut",
        "colab_type": "text"
      },
      "source": [
        "Importing the data csv\n",
        " "
      ]
    },
    {
      "cell_type": "code",
      "metadata": {
        "id": "8M-oPsMYPGnv",
        "colab_type": "code",
        "colab": {}
      },
      "source": [
        "#import dependencies\n",
        "import pandas as pd\n",
        "import numpy as np\n",
        "from datetime import date, datetime\n",
        "import matplotlib.pyplot as plt\n",
        "import os, sys \n",
        "import io\n",
        "import ee\n"
      ],
      "execution_count": null,
      "outputs": []
    },
    {
      "cell_type": "code",
      "metadata": {
        "id": "IF4fH4hDB5m8",
        "colab_type": "code",
        "colab": {}
      },
      "source": [
        "## set up pandas dataframe using set_options to warn when we are working on a copy instead of ooriginal dataframe\n",
        "pd.set_option('mode.chained_assignment','warn')"
      ],
      "execution_count": null,
      "outputs": []
    },
    {
      "cell_type": "code",
      "metadata": {
        "id": "pf2cFMugB_T9",
        "colab_type": "code",
        "colab": {}
      },
      "source": [
        "# dataframe will display without being truncated\n",
        "pd.set_option('display.max_rows', 150)\n",
        "pd.set_option('display.max_columns', 25)\n",
        "pd.set_option('display.width', 1000)"
      ],
      "execution_count": null,
      "outputs": []
    },
    {
      "cell_type": "code",
      "metadata": {
        "id": "ax45eZXtxQE2",
        "colab_type": "code",
        "colab": {}
      },
      "source": [
        "#mounting the google drive to access the files\n",
        "from google.colab import drive\n",
        "drive.mount('/content/drive')"
      ],
      "execution_count": null,
      "outputs": []
    },
    {
      "cell_type": "code",
      "metadata": {
        "id": "3Siq-wB9d392",
        "colab_type": "code",
        "colab": {}
      },
      "source": [
        "# command shows file path\n",
        "# ! ls"
      ],
      "execution_count": null,
      "outputs": []
    },
    {
      "cell_type": "code",
      "metadata": {
        "id": "JwyQc3b9d4R-",
        "colab_type": "code",
        "colab": {}
      },
      "source": [
        "from google.colab import files"
      ],
      "execution_count": null,
      "outputs": []
    },
    {
      "cell_type": "code",
      "metadata": {
        "id": "RxhFfrXX0jn0",
        "colab_type": "code",
        "colab": {}
      },
      "source": [
        "# filepath\n",
        "path = \"/content/drive/My Drive/data/PPP Data 150k plus.csv\"\n"
      ],
      "execution_count": null,
      "outputs": []
    },
    {
      "cell_type": "code",
      "metadata": {
        "id": "Y8CgvJB9jVN6",
        "colab_type": "code",
        "colab": {}
      },
      "source": [
        "# Read column names from file\n",
        "cols = list(pd.read_csv(path, nrows =1))\n",
        "print(cols)"
      ],
      "execution_count": null,
      "outputs": []
    },
    {
      "cell_type": "code",
      "metadata": {
        "id": "8tqwlWH3jVbP",
        "colab_type": "code",
        "colab": {}
      },
      "source": [
        "def conv(val):\n",
        "    if val == np.nan:\n",
        "        return 0 # or whatever else you want to represent your NaN with\n",
        "    return val"
      ],
      "execution_count": null,
      "outputs": []
    },
    {
      "cell_type": "code",
      "metadata": {
        "id": "hNYivBfdu75p",
        "colab_type": "code",
        "colab": {}
      },
      "source": [
        ""
      ],
      "execution_count": null,
      "outputs": []
    },
    {
      "cell_type": "code",
      "metadata": {
        "id": "5sG2umgQJ-0a",
        "colab_type": "code",
        "colab": {}
      },
      "source": [
        "# backup of clean dataframe, types will not be fully preserved so on import reassign, but easier with unconformity removed\n",
        "# allowing an index column\n",
        "ndf = pd.read_csv(path,  usecols =[i for i in cols if i != 'NonProfit'], dtype={\"Zip\":str, \"NAICSCode\": str,  }, parse_dates=[12],)\n",
        "# df = pd.read_csv(path, error_bad_lines=False)\n",
        "ndf.sample(3)"
      ],
      "execution_count": null,
      "outputs": []
    },
    {
      "cell_type": "code",
      "metadata": {
        "id": "tub77oA8j9IA",
        "colab_type": "code",
        "colab": {}
      },
      "source": [
        "# read the csv, create dataframe\n",
        "# basic option\n",
        "# df = pd.read_csv(path,)\n"
      ],
      "execution_count": null,
      "outputs": []
    },
    {
      "cell_type": "code",
      "metadata": {
        "id": "roSn8zI93O4a",
        "colab_type": "code",
        "colab": {}
      },
      "source": [
        "# check\n",
        "# df.sample()"
      ],
      "execution_count": null,
      "outputs": []
    },
    {
      "cell_type": "markdown",
      "metadata": {
        "id": "NCmmcajjIysP",
        "colab_type": "text"
      },
      "source": [
        "Checking for nulls and changing types."
      ]
    },
    {
      "cell_type": "code",
      "metadata": {
        "id": "SJp2zU1K0-FI",
        "colab_type": "code",
        "colab": {}
      },
      "source": [
        "#will need to change datatypes\n",
        "ndf.info()"
      ],
      "execution_count": null,
      "outputs": []
    },
    {
      "cell_type": "code",
      "metadata": {
        "id": "O4sB2Xvlha-P",
        "colab_type": "code",
        "colab": {}
      },
      "source": [
        "#drop the non-profit column\n",
        "# df=df.drop(['NonProfit'],axis=1)\n",
        "# df.shape"
      ],
      "execution_count": null,
      "outputs": []
    },
    {
      "cell_type": "code",
      "metadata": {
        "id": "dkvMTBs_1HGo",
        "colab_type": "code",
        "colab": {}
      },
      "source": [
        "#check for nulls\n",
        "print(ndf.isna().sum())\n"
      ],
      "execution_count": null,
      "outputs": []
    },
    {
      "cell_type": "code",
      "metadata": {
        "id": "YZjH9DExD5JV",
        "colab_type": "code",
        "colab": {}
      },
      "source": [
        "# drop if only a few null values \n",
        "ndf.dropna(inplace=True)\n",
        "# df.dtypes"
      ],
      "execution_count": null,
      "outputs": []
    },
    {
      "cell_type": "code",
      "metadata": {
        "id": "Pk4ZfASHD_qK",
        "colab_type": "code",
        "colab": {}
      },
      "source": [
        "#check for nulls\n",
        "print(ndf.isna().sum())"
      ],
      "execution_count": null,
      "outputs": []
    },
    {
      "cell_type": "code",
      "metadata": {
        "id": "HJVbd_TzOaCm",
        "colab_type": "code",
        "colab": {}
      },
      "source": [
        "#shape\n",
        "ndf.shape"
      ],
      "execution_count": null,
      "outputs": []
    },
    {
      "cell_type": "code",
      "metadata": {
        "id": "BNf5BSsMl_3R",
        "colab_type": "code",
        "colab": {}
      },
      "source": [
        "ndf.sample()\n",
        "\n",
        "\n"
      ],
      "execution_count": null,
      "outputs": []
    },
    {
      "cell_type": "code",
      "metadata": {
        "id": "Bz7wVj7xpEJe",
        "colab_type": "code",
        "colab": {}
      },
      "source": [
        "ndf.to_csv('no_nulls.csv', index=0)\n",
        "!cp no_nulls.csv \"drive/My Drive/\""
      ],
      "execution_count": null,
      "outputs": []
    },
    {
      "cell_type": "code",
      "metadata": {
        "id": "s1O5-KhPpEbp",
        "colab_type": "code",
        "colab": {}
      },
      "source": [
        ""
      ],
      "execution_count": null,
      "outputs": []
    },
    {
      "cell_type": "code",
      "metadata": {
        "id": "cltFQS5NmpMK",
        "colab_type": "code",
        "colab": {}
      },
      "source": [
        "no_nulls= \"/content/no_nulls.csv\"\n"
      ],
      "execution_count": null,
      "outputs": []
    },
    {
      "cell_type": "code",
      "metadata": {
        "id": "KDqPT0CvpZT_",
        "colab_type": "code",
        "colab": {}
      },
      "source": [
        "# df = pd.read_csv(csv_path, dtype={'Jobs Saved':int, 'NAICS Code': str, 'NAICS Category': str, }, parse_dates=[10] )\n"
      ],
      "execution_count": null,
      "outputs": []
    },
    {
      "cell_type": "code",
      "metadata": {
        "id": "7hQmV7XfmAC0",
        "colab_type": "code",
        "colab": {}
      },
      "source": [
        "# backup of clean dataframe, types will not be fully preserved so on import reassign, but easier with unconformity removed\n",
        "# allowing an index column\n",
        "\n",
        "df = pd.read_csv(no_nulls, dtype={'NAICSCode': str, \"JobsRetained\": int, \"Zip\":str,  }, parse_dates=[12])\n",
        "# df = pd.read_csv(path, error_bad_lines=False)\n",
        "df.sample()"
      ],
      "execution_count": null,
      "outputs": []
    },
    {
      "cell_type": "code",
      "metadata": {
        "id": "Kq8IrrD_pISJ",
        "colab_type": "code",
        "colab": {}
      },
      "source": [
        "df.info()"
      ],
      "execution_count": null,
      "outputs": []
    },
    {
      "cell_type": "markdown",
      "metadata": {
        "id": "nxMl-RkjLfhm",
        "colab_type": "text"
      },
      "source": [
        "Preserving next few cells, but do not need with this import"
      ]
    },
    {
      "cell_type": "code",
      "metadata": {
        "id": "f6kIExg6nW-X",
        "colab_type": "code",
        "colab": {}
      },
      "source": [
        "# I don't need the following cells for this particular import\n",
        "# naics saved should not be a float. Need to convert to string before integer\n",
        "# df['NAICS Code']=df['NAICS Code'].astype(str)"
      ],
      "execution_count": null,
      "outputs": []
    },
    {
      "cell_type": "code",
      "metadata": {
        "id": "9lQTvtdbMgVG",
        "colab_type": "code",
        "colab": {}
      },
      "source": [
        "#strip the decimal and zero\n",
        "# df['NAICS Code'] = df['NAICS Code'].str.rstrip('.0')"
      ],
      "execution_count": null,
      "outputs": []
    },
    {
      "cell_type": "code",
      "metadata": {
        "id": "R9fLan4eN80K",
        "colab_type": "code",
        "colab": {}
      },
      "source": [
        "#take the first two letters of the NAICS code column and create category column. \n",
        "#category column can be matched to named values. The longer code was impractical\n",
        "# df['NAICS Category'] = df['NAICS Code'].str[:2]\n",
        "# df.info()"
      ],
      "execution_count": null,
      "outputs": []
    },
    {
      "cell_type": "code",
      "metadata": {
        "id": "mZ802ti2rAvR",
        "colab_type": "code",
        "colab": {}
      },
      "source": [
        "# df.sample(7)"
      ],
      "execution_count": null,
      "outputs": []
    },
    {
      "cell_type": "code",
      "metadata": {
        "id": "ZpJHS1jbgpoV",
        "colab_type": "code",
        "colab": {}
      },
      "source": [
        "#somewhat forcing the date conversion because there must be some values that are not in date format \n",
        "# df['Date'] =  pd.to_datetime(df['Date'], errors='coerce')"
      ],
      "execution_count": null,
      "outputs": []
    },
    {
      "cell_type": "code",
      "metadata": {
        "id": "TYsGUxy8XgDO",
        "colab_type": "code",
        "colab": {}
      },
      "source": [
        "#converting to date worked\n",
        "# df.info()"
      ],
      "execution_count": null,
      "outputs": []
    },
    {
      "cell_type": "code",
      "metadata": {
        "id": "VAmTaDj4xYYv",
        "colab_type": "code",
        "colab": {}
      },
      "source": [
        "# May need for machine learning prep: \n",
        "# df['Jobs Saved'] = pd.to_numeric(df['Jobs Saved'], downcast='float')\n",
        "# df['NAICS Category'] = pd.to_numeric(df['NAICS Category'], downcast='float')"
      ],
      "execution_count": null,
      "outputs": []
    },
    {
      "cell_type": "code",
      "metadata": {
        "id": "uMpE13YiTzsM",
        "colab_type": "code",
        "colab": {}
      },
      "source": [
        "# strip off the decimal point if there is one\n",
        "# df['Jobs Saved'] = df['Jobs Saved'].str.rstrip('.0')\n",
        "# df['Jobs Saved'] = df['Jobs Saved'].astype(int)"
      ],
      "execution_count": null,
      "outputs": []
    },
    {
      "cell_type": "code",
      "metadata": {
        "id": "xDHHQpbHN0c5",
        "colab_type": "code",
        "colab": {}
      },
      "source": [
        ""
      ],
      "execution_count": null,
      "outputs": []
    },
    {
      "cell_type": "code",
      "metadata": {
        "id": "AtJNSJHJlLez",
        "colab_type": "code",
        "colab": {}
      },
      "source": [
        "from sklearn.ensemble import RandomForestRegressor\n",
        "from sklearn.linear_model import LogisticRegression\n",
        "from sklearn.model_selection import train_test_split\n",
        "from sklearn.model_selection import cross_val_score\n",
        "from sklearn import metrics\n",
        "from sklearn import tree\n",
        "from sklearn.preprocessing import LabelEncoder\n",
        "from sklearn.preprocessing import OneHotEncoder"
      ],
      "execution_count": null,
      "outputs": []
    },
    {
      "cell_type": "code",
      "metadata": {
        "id": "BJr2qecapPcq",
        "colab_type": "code",
        "colab": {}
      },
      "source": [
        "\n",
        "df.sample()"
      ],
      "execution_count": null,
      "outputs": []
    },
    {
      "cell_type": "code",
      "metadata": {
        "id": "QpvMjcxGoOwE",
        "colab_type": "code",
        "colab": {}
      },
      "source": [
        "# Step 1: Label-encode data set\n",
        "label_encoder = LabelEncoder()\n"
      ],
      "execution_count": null,
      "outputs": []
    },
    {
      "cell_type": "code",
      "metadata": {
        "id": "i06r8HxQUIhg",
        "colab_type": "code",
        "colab": {}
      },
      "source": [
        "# rather than state a copy of df, and to avoid setcopy warnings, create a new dataframe\n",
        "data=pd.DataFrame()"
      ],
      "execution_count": null,
      "outputs": []
    },
    {
      "cell_type": "code",
      "metadata": {
        "id": "boJnco8kputI",
        "colab_type": "code",
        "colab": {}
      },
      "source": [
        "# # label encoder\n",
        "for x in ['Gender', 'RaceEthnicity', 'Veteran', 'LoanRange', 'Lender','State','DateApproved', 'BusinessType']:\n",
        "  label_encoder.fit(df[x])\n",
        "  data[x] = label_encoder.transform(df[x])\n",
        "#data['JobsRetained'] = df['JobsRetained']\n",
        "data['NAICS Category'] = df['NAICSCode']\n",
        "# data['Loan Amount'] = df['Loan Amount']"
      ],
      "execution_count": null,
      "outputs": []
    },
    {
      "cell_type": "code",
      "metadata": {
        "id": "yIBZbfvd0EF2",
        "colab_type": "code",
        "colab": {}
      },
      "source": [
        "data.shape\n"
      ],
      "execution_count": null,
      "outputs": []
    },
    {
      "cell_type": "code",
      "metadata": {
        "id": "X8Wowf2_WnN8",
        "colab_type": "code",
        "colab": {}
      },
      "source": [
        "data.sample()"
      ],
      "execution_count": null,
      "outputs": []
    },
    {
      "cell_type": "code",
      "metadata": {
        "id": "NUz6IGtuWHXV",
        "colab_type": "code",
        "colab": {}
      },
      "source": [
        "# hot encode\n",
        "# one = OneHotEncoder(sparse=False)"
      ],
      "execution_count": null,
      "outputs": []
    },
    {
      "cell_type": "code",
      "metadata": {
        "id": "jSIlI1AsWHlF",
        "colab_type": "code",
        "colab": {}
      },
      "source": [
        "# one.fit_transform(data)"
      ],
      "execution_count": null,
      "outputs": []
    },
    {
      "cell_type": "code",
      "metadata": {
        "id": "xBzkKXp86csR",
        "colab_type": "code",
        "colab": {}
      },
      "source": [
        "# data['Jobs Saved'].shape\n"
      ],
      "execution_count": null,
      "outputs": []
    },
    {
      "cell_type": "code",
      "metadata": {
        "id": "LBl9OgaTyyKq",
        "colab_type": "code",
        "colab": {}
      },
      "source": [
        "#split loan amounts off and drop from dataframe for ML\n",
        "target=data['LoanRange'] \n",
        "target.shape\n"
      ],
      "execution_count": null,
      "outputs": []
    },
    {
      "cell_type": "code",
      "metadata": {
        "id": "Hq-7yw4u9OyN",
        "colab_type": "code",
        "colab": {}
      },
      "source": [
        ""
      ],
      "execution_count": null,
      "outputs": []
    },
    {
      "cell_type": "code",
      "metadata": {
        "id": "yu8VVXL39O_e",
        "colab_type": "code",
        "colab": {}
      },
      "source": [
        "data=data.drop(['LoanRange'],axis=1)\n",
        "data.shape"
      ],
      "execution_count": null,
      "outputs": []
    },
    {
      "cell_type": "code",
      "metadata": {
        "id": "hqTT01Bg7dq9",
        "colab_type": "code",
        "colab": {}
      },
      "source": [
        "X_train, X_test, y_train, y_test = train_test_split(data, target, random_state=42)\n",
        "rf = RandomForestRegressor(n_estimators=200, random_state=42)\n",
        "rf.fit(X_train, y_train)"
      ],
      "execution_count": null,
      "outputs": []
    },
    {
      "cell_type": "markdown",
      "metadata": {
        "id": "ov_GvXx4DdZW",
        "colab_type": "text"
      },
      "source": [
        "**Results:**\n",
        "\n",
        "Score with: Gender | RaceEthnicity | Veteran |   JobsRetained | NAICS | Lender = 0.61278778\n",
        "\n",
        "Score with: Gender | RaceEthnicity | Veteran |  BusinessType | JobsRetained | NAICS | DateApproved | State | LenderCategory = -.65\n",
        "\n",
        "Score with: Gender | RaceEthnicity | Veteran |   NAICS | Lender -0.006 ---!\n",
        "\n",
        "Score with: Gender | RaceEthnicity | Veteran |  BusinessType | JobsRetained | NAICS | Lender = 0.19463591101903663\n",
        "\n",
        "ML suggests that Jobs Saved and Business Type influence/correlate with the amount of money loaned by the bank. Does not necessarily suggest whether or not one was approved or not.\n",
        "\n",
        "\n",
        "\n"
      ]
    },
    {
      "cell_type": "code",
      "metadata": {
        "id": "z0tDKUhByyUB",
        "colab_type": "code",
        "colab": {}
      },
      "source": [
        "#score of forest\n",
        "print(rf.score(X_test, y_test))\n",
        "\n"
      ],
      "execution_count": null,
      "outputs": []
    },
    {
      "cell_type": "code",
      "metadata": {
        "id": "DciSow7WqrY_",
        "colab_type": "code",
        "colab": {}
      },
      "source": [
        "#zip names and feature importance scores\n",
        "f_imp=rf.feature_importances_\n",
        "f_name=data.columns\n",
        "features=zip(f_name, f_imp)\n",
        "# print(features)\n",
        "# features into a datafame\n",
        "f_df=pd.DataFrame(list(features))\n",
        "print(f_df)\n"
      ],
      "execution_count": null,
      "outputs": []
    },
    {
      "cell_type": "code",
      "metadata": {
        "id": "NU4W7eDpqrnp",
        "colab_type": "code",
        "colab": {}
      },
      "source": [
        "# X_train.columns\n",
        "print(rf.feature_importances_)"
      ],
      "execution_count": null,
      "outputs": []
    },
    {
      "cell_type": "code",
      "metadata": {
        "id": "pb-jwIdzf7O7",
        "colab_type": "code",
        "colab": {}
      },
      "source": [
        "data.to_csv('large_ml.csv', index=0)\n",
        "!cp people_ml.csv \"drive/My Drive/\""
      ],
      "execution_count": null,
      "outputs": []
    },
    {
      "cell_type": "code",
      "metadata": {
        "id": "hDg38D8FiiA8",
        "colab_type": "code",
        "colab": {}
      },
      "source": [
        ""
      ],
      "execution_count": null,
      "outputs": []
    },
    {
      "cell_type": "code",
      "metadata": {
        "id": "-jgkYEmVf7az",
        "colab_type": "code",
        "colab": {}
      },
      "source": [
        ""
      ],
      "execution_count": null,
      "outputs": []
    },
    {
      "cell_type": "code",
      "metadata": {
        "id": "G4VjlYbXhyks",
        "colab_type": "code",
        "colab": {}
      },
      "source": [
        ""
      ],
      "execution_count": null,
      "outputs": []
    },
    {
      "cell_type": "code",
      "metadata": {
        "id": "ttJhQNIyBQfd",
        "colab_type": "code",
        "colab": {}
      },
      "source": [
        ""
      ],
      "execution_count": null,
      "outputs": []
    },
    {
      "cell_type": "code",
      "metadata": {
        "id": "6yZonhhf7RT2",
        "colab_type": "code",
        "colab": {}
      },
      "source": [
        ""
      ],
      "execution_count": null,
      "outputs": []
    }
  ]
}