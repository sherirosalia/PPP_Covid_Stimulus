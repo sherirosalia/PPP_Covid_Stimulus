{
  "nbformat": 4,
  "nbformat_minor": 0,
  "metadata": {
    "colab": {
      "name": "ML_allstates.ipynb",
      "provenance": [],
      "private_outputs": true,
      "collapsed_sections": [],
      "machine_shape": "hm",
      "mount_file_id": "1fYklVWrga-L21DdH9-vW74u0elCmx1nr",
      "authorship_tag": "ABX9TyNIh8Vwg/ZAwYDEZDW/vNwf",
      "include_colab_link": true
    },
    "kernelspec": {
      "name": "python3",
      "display_name": "Python 3"
    },
    "accelerator": "TPU"
  },
  "cells": [
    {
      "cell_type": "markdown",
      "metadata": {
        "id": "view-in-github",
        "colab_type": "text"
      },
      "source": [
        "<a href=\"https://colab.research.google.com/github/sherirosalia/PPP_Covid_Stimulus/blob/master/random_forest/ML_allstates.ipynb\" target=\"_parent\"><img src=\"https://colab.research.google.com/assets/colab-badge.svg\" alt=\"Open In Colab\"/></a>"
      ]
    },
    {
      "cell_type": "markdown",
      "metadata": {
        "id": "2oVNvkNYPDV2",
        "colab_type": "text"
      },
      "source": [
        "All States\n",
        "\n",
        " "
      ]
    },
    {
      "cell_type": "code",
      "metadata": {
        "id": "8M-oPsMYPGnv",
        "colab_type": "code",
        "colab": {}
      },
      "source": [
        "#import dependencies\n",
        "import pandas as pd\n",
        "import numpy as np\n",
        "from datetime import date, datetime\n",
        "import matplotlib\n",
        "import os, sys \n",
        "import io\n",
        "import ee\n"
      ],
      "execution_count": null,
      "outputs": []
    },
    {
      "cell_type": "code",
      "metadata": {
        "id": "IF4fH4hDB5m8",
        "colab_type": "code",
        "colab": {}
      },
      "source": [
        "## set up pandas dataframe using set_options to warn when we are working on a copy instead of ooriginal dataframe\n",
        "pd.set_option('mode.chained_assignment','warn')"
      ],
      "execution_count": null,
      "outputs": []
    },
    {
      "cell_type": "code",
      "metadata": {
        "id": "pf2cFMugB_T9",
        "colab_type": "code",
        "colab": {}
      },
      "source": [
        "# dataframe will display without being truncated\n",
        "pd.set_option('display.max_rows', 150)\n",
        "pd.set_option('display.max_columns', 25)\n",
        "pd.set_option('display.width', 1000)"
      ],
      "execution_count": null,
      "outputs": []
    },
    {
      "cell_type": "code",
      "metadata": {
        "id": "ii3flRP84Xa9",
        "colab_type": "code",
        "colab": {}
      },
      "source": [
        "# !pip install -U -q PyDrive"
      ],
      "execution_count": null,
      "outputs": []
    },
    {
      "cell_type": "code",
      "metadata": {
        "id": "ax45eZXtxQE2",
        "colab_type": "code",
        "colab": {}
      },
      "source": [
        "#mounting the google drive to access the files\n",
        "from google.colab import drive\n",
        "drive.mount('/content/drive')"
      ],
      "execution_count": null,
      "outputs": []
    },
    {
      "cell_type": "code",
      "metadata": {
        "id": "3Siq-wB9d392",
        "colab_type": "code",
        "colab": {}
      },
      "source": [
        "# command shows file path\n",
        "# ! ls"
      ],
      "execution_count": null,
      "outputs": []
    },
    {
      "cell_type": "code",
      "metadata": {
        "id": "JwyQc3b9d4R-",
        "colab_type": "code",
        "colab": {}
      },
      "source": [
        "from google.colab import files"
      ],
      "execution_count": null,
      "outputs": []
    },
    {
      "cell_type": "code",
      "metadata": {
        "id": "RxhFfrXX0jn0",
        "colab_type": "code",
        "colab": {}
      },
      "source": [
        "# filepath\n",
        "path = '/content/drive/My Drive/data/clean_ppp_data.csv'\n",
        "\n",
        "\n"
      ],
      "execution_count": null,
      "outputs": []
    },
    {
      "cell_type": "code",
      "metadata": {
        "id": "zh51wO8XEipq",
        "colab_type": "code",
        "colab": {}
      },
      "source": [
        "# Read column names from file\n",
        "cols = list(pd.read_csv(path, nrows =1))\n",
        "print(cols)"
      ],
      "execution_count": null,
      "outputs": []
    },
    {
      "cell_type": "markdown",
      "metadata": {
        "id": "Nt6pJSd6SX06",
        "colab_type": "text"
      },
      "source": [
        ""
      ]
    },
    {
      "cell_type": "markdown",
      "metadata": {
        "id": "M_36CfwjHEVx",
        "colab_type": "text"
      },
      "source": [
        ""
      ]
    },
    {
      "cell_type": "code",
      "metadata": {
        "id": "tub77oA8j9IA",
        "colab_type": "code",
        "colab": {}
      },
      "source": [
        "# allowing an index column\n",
        "ndf = pd.read_csv(path,  dtype={\"Zip\":str, \"NAICS Code\": str, \"Jobs Saved\":str }, parse_dates=[10], )\n",
        "# df = pd.read_csv(path, error_bad_lines=False)\n",
        "ndf.sample(3)"
      ],
      "execution_count": null,
      "outputs": []
    },
    {
      "cell_type": "code",
      "metadata": {
        "id": "roSn8zI93O4a",
        "colab_type": "code",
        "colab": {}
      },
      "source": [
        "\n",
        "ndf.dropna(axis='index',how='any',inplace=True)"
      ],
      "execution_count": null,
      "outputs": []
    },
    {
      "cell_type": "code",
      "metadata": {
        "id": "Ct6bro_bdshh",
        "colab_type": "code",
        "colab": {}
      },
      "source": [
        "ndf['Jobs Saved'] = pd.to_numeric(ndf['Jobs Saved'])"
      ],
      "execution_count": null,
      "outputs": []
    },
    {
      "cell_type": "code",
      "metadata": {
        "id": "MTaIOheV8Fz-",
        "colab_type": "code",
        "colab": {}
      },
      "source": [
        "wf =  ndf['Bank']=='Wells Fargo Bank'\n",
        "nd_wf=ndf[wf]\n",
        "nd_wf.head()"
      ],
      "execution_count": null,
      "outputs": []
    },
    {
      "cell_type": "code",
      "metadata": {
        "id": "SJp2zU1K0-FI",
        "colab_type": "code",
        "colab": {}
      },
      "source": [
        "ndf.info()"
      ],
      "execution_count": null,
      "outputs": []
    },
    {
      "cell_type": "code",
      "metadata": {
        "id": "dkvMTBs_1HGo",
        "colab_type": "code",
        "colab": {}
      },
      "source": [
        "#check for nulls\n",
        "print(ndf.isna().sum())\n"
      ],
      "execution_count": null,
      "outputs": []
    },
    {
      "cell_type": "code",
      "metadata": {
        "id": "HJVbd_TzOaCm",
        "colab_type": "code",
        "colab": {}
      },
      "source": [
        "#still have almost 4 million rows\n",
        "ndf.shape"
      ],
      "execution_count": null,
      "outputs": []
    },
    {
      "cell_type": "code",
      "metadata": {
        "id": "9lQTvtdbMgVG",
        "colab_type": "code",
        "colab": {}
      },
      "source": [
        "#strip the decimal and zero\n",
        "ndf['Jobs Saved'] = ndf['Jobs Saved'].astype(int)\n",
        "ndf.sample()"
      ],
      "execution_count": null,
      "outputs": []
    },
    {
      "cell_type": "code",
      "metadata": {
        "id": "R9fLan4eN80K",
        "colab_type": "code",
        "colab": {}
      },
      "source": [
        "#take the first two letters of the NAICS code column and create category column. \n",
        "#category column can be matched to named values. The longer code was impractical\n",
        "ndf['NAICS Category'] = ndf['NAICS Code'].str[:2]\n",
        "ndf.info()"
      ],
      "execution_count": null,
      "outputs": []
    },
    {
      "cell_type": "code",
      "metadata": {
        "id": "n0OYPii3rO0r",
        "colab_type": "code",
        "colab": {}
      },
      "source": [
        "# ndf['State'] = ndf['State'].str.rstrip('\"', )"
      ],
      "execution_count": null,
      "outputs": []
    },
    {
      "cell_type": "code",
      "metadata": {
        "id": "QtTXX1OcUlf1",
        "colab_type": "code",
        "colab": {}
      },
      "source": [
        "# df['States'] = df['State'].str[:2]\n",
        "\n",
        "# df.info()\n"
      ],
      "execution_count": null,
      "outputs": []
    },
    {
      "cell_type": "code",
      "metadata": {
        "id": "D9A3ryWUqq3I",
        "colab_type": "code",
        "colab": {}
      },
      "source": [
        "# df['States'] = df['States'].str.lstrip(' ', )"
      ],
      "execution_count": null,
      "outputs": []
    },
    {
      "cell_type": "code",
      "metadata": {
        "id": "MVOrDN1tcRv-",
        "colab_type": "code",
        "colab": {}
      },
      "source": [
        "ndf.head()"
      ],
      "execution_count": null,
      "outputs": []
    },
    {
      "cell_type": "code",
      "metadata": {
        "id": "O5HosQc_b_l0",
        "colab_type": "code",
        "colab": {}
      },
      "source": [
        "ndf.sample(7)"
      ],
      "execution_count": null,
      "outputs": []
    },
    {
      "cell_type": "code",
      "metadata": {
        "id": "amEgs08Me5du",
        "colab_type": "code",
        "colab": {}
      },
      "source": [
        "# ndf = ndf[ndf['Jobs Saved'] != '']\n",
        "# df['NAICS Category'] = df['NAICS Category'].str.lstrip(' ', )"
      ],
      "execution_count": null,
      "outputs": []
    },
    {
      "cell_type": "code",
      "metadata": {
        "id": "Mfsj2yxzo9RG",
        "colab_type": "code",
        "colab": {}
      },
      "source": [
        "ndf['State'].value_counts()"
      ],
      "execution_count": null,
      "outputs": []
    },
    {
      "cell_type": "code",
      "metadata": {
        "id": "TD40rPFQ-nwp",
        "colab_type": "code",
        "colab": {}
      },
      "source": [
        "ndf['Bank'].value_counts()"
      ],
      "execution_count": null,
      "outputs": []
    },
    {
      "cell_type": "code",
      "metadata": {
        "id": "1uan44JyJJKN",
        "colab_type": "code",
        "colab": {}
      },
      "source": [
        "# df['Bank'].where(df['Bank'].apply(lambda x:(x.value_counts()))>=500, \"other\")"
      ],
      "execution_count": null,
      "outputs": []
    },
    {
      "cell_type": "code",
      "metadata": {
        "id": "HRsK3SYMKO1A",
        "colab_type": "code",
        "colab": {}
      },
      "source": [
        "#curious about top bank counts\n",
        "\n",
        "topbank=ndf['Bank'].value_counts()\n",
        "topbank.head(25)"
      ],
      "execution_count": null,
      "outputs": []
    },
    {
      "cell_type": "code",
      "metadata": {
        "id": "wdocGMG8KO6n",
        "colab_type": "code",
        "colab": {}
      },
      "source": [
        "import matplotlib.pyplot as plt"
      ],
      "execution_count": null,
      "outputs": []
    },
    {
      "cell_type": "code",
      "metadata": {
        "id": "KahvSaG7L3-p",
        "colab_type": "code",
        "colab": {}
      },
      "source": [
        ""
      ],
      "execution_count": null,
      "outputs": []
    },
    {
      "cell_type": "code",
      "metadata": {
        "id": "TsPp0wmsL4SX",
        "colab_type": "code",
        "colab": {}
      },
      "source": [
        ""
      ],
      "execution_count": null,
      "outputs": []
    },
    {
      "cell_type": "code",
      "metadata": {
        "id": "SdxH6WIwJJDG",
        "colab_type": "code",
        "colab": {}
      },
      "source": [
        "cond = ndf['Bank'].value_counts()\n",
        "threshold = 15000\n",
        "ndf['Bank']= np.where(ndf['Bank'].isin(cond.index[cond >= threshold ]), ndf['Bank'], 'miscellaneous')"
      ],
      "execution_count": null,
      "outputs": []
    },
    {
      "cell_type": "code",
      "metadata": {
        "id": "ES6YUvUEJI8d",
        "colab_type": "code",
        "colab": {}
      },
      "source": [
        "top_banks_series=ndf.groupby('Bank', as_index=False).sum()\n",
        "top_banks_series"
      ],
      "execution_count": null,
      "outputs": []
    },
    {
      "cell_type": "code",
      "metadata": {
        "id": "V6YO1RpfJI3O",
        "colab_type": "code",
        "colab": {}
      },
      "source": [
        "top_banks_series[0:-1].sort_index(ascending=False).plot(kind='barh',x='Bank', y='Loan Amount',)\n",
        "figsize=(14,14)\n",
        "\n",
        "\n",
        "left  = 0.125  # the left side of the subplots of the figure\n",
        "right = 0.9    # the right side of the subplots of the figure\n",
        "bottom = 0.1   # the bottom of the subplots of the figure\n",
        "top = 0.9      # the top of the subplots of the figure\n",
        "wspace = 0.2   # the amount of width reserved for blank space between subplots\n",
        "hspace = 0.2   # the amount of height reserved for white space between subplots\n",
        "# These two can be called on 'fig' instead of 'plt' too\n",
        "plt.subplots_adjust(left=left, bottom=bottom, right=right, top=top,\n",
        "                wspace=wspace, hspace=hspace)\n",
        "\n",
        "plt.savefig('top_lenders.png',bbox_inches='tight')\n",
        "\n",
        "##### running slow... try to fix plot later"
      ],
      "execution_count": null,
      "outputs": []
    },
    {
      "cell_type": "code",
      "metadata": {
        "id": "HKIG7qEoJIlg",
        "colab_type": "code",
        "colab": {}
      },
      "source": [
        ""
      ],
      "execution_count": null,
      "outputs": []
    },
    {
      "cell_type": "code",
      "metadata": {
        "id": "AtJNSJHJlLez",
        "colab_type": "code",
        "colab": {}
      },
      "source": [
        "from sklearn.ensemble import RandomForestRegressor\n",
        "from sklearn.model_selection import train_test_split\n",
        "from sklearn import metrics\n",
        "from sklearn import tree\n",
        "from sklearn.preprocessing import LabelEncoder"
      ],
      "execution_count": null,
      "outputs": []
    },
    {
      "cell_type": "code",
      "metadata": {
        "id": "BJr2qecapPcq",
        "colab_type": "code",
        "colab": {}
      },
      "source": [
        "ndf.sample()"
      ],
      "execution_count": null,
      "outputs": []
    },
    {
      "cell_type": "code",
      "metadata": {
        "id": "QpvMjcxGoOwE",
        "colab_type": "code",
        "colab": {}
      },
      "source": [
        "# Step 1: Label-encode data set\n",
        "label_encoder = LabelEncoder()\n"
      ],
      "execution_count": null,
      "outputs": []
    },
    {
      "cell_type": "code",
      "metadata": {
        "id": "boJnco8kputI",
        "colab_type": "code",
        "colab": {}
      },
      "source": [
        "data=pd.DataFrame()\n",
        "for x in ['Gender', 'Race', 'Veteran', 'State', 'Bank', 'Business Type']:\n",
        "  label_encoder.fit(ndf[x])\n",
        "  data[x] = label_encoder.transform(ndf[x])\n",
        "data['Jobs Saved'] = ndf['Jobs Saved']\n",
        "\n",
        "data['Loan Amount'] = ndf['Loan Amount']"
      ],
      "execution_count": null,
      "outputs": []
    },
    {
      "cell_type": "code",
      "metadata": {
        "id": "jEgc6pa2ouyK",
        "colab_type": "code",
        "colab": {}
      },
      "source": [
        "data.dtypes"
      ],
      "execution_count": null,
      "outputs": []
    },
    {
      "cell_type": "code",
      "metadata": {
        "id": "5ggWNfRi1m81",
        "colab_type": "code",
        "colab": {}
      },
      "source": [
        "# data = data.fillna(lambda x: x.median())"
      ],
      "execution_count": null,
      "outputs": []
    },
    {
      "cell_type": "code",
      "metadata": {
        "id": "uprvmyTS1nQM",
        "colab_type": "code",
        "colab": {}
      },
      "source": [
        "# data.fillna(data.mean(),inplace=True)"
      ],
      "execution_count": null,
      "outputs": []
    },
    {
      "cell_type": "code",
      "metadata": {
        "id": "gmmICZAW1nLs",
        "colab_type": "code",
        "colab": {}
      },
      "source": [
        "# data.dtypes"
      ],
      "execution_count": null,
      "outputs": []
    },
    {
      "cell_type": "code",
      "metadata": {
        "id": "EI9QvLbfzwuj",
        "colab_type": "code",
        "colab": {}
      },
      "source": [
        "# np.any(np.isnan(X_train)) #true\n"
      ],
      "execution_count": null,
      "outputs": []
    },
    {
      "cell_type": "code",
      "metadata": {
        "id": "EzoBFQya09dy",
        "colab_type": "code",
        "colab": {}
      },
      "source": [
        "data.isnull().any()"
      ],
      "execution_count": null,
      "outputs": []
    },
    {
      "cell_type": "code",
      "metadata": {
        "id": "yIBZbfvd0EF2",
        "colab_type": "code",
        "colab": {}
      },
      "source": [
        "data.dropna(inplace=True)"
      ],
      "execution_count": null,
      "outputs": []
    },
    {
      "cell_type": "code",
      "metadata": {
        "id": "xBzkKXp86csR",
        "colab_type": "code",
        "colab": {}
      },
      "source": [
        "data.isnull().any()\n"
      ],
      "execution_count": null,
      "outputs": []
    },
    {
      "cell_type": "code",
      "metadata": {
        "id": "LBl9OgaTyyKq",
        "colab_type": "code",
        "colab": {}
      },
      "source": [
        "#split loan amounts off and drop from dataframe for ML\n",
        "target=data['Loan Amount'] \n",
        "target.shape\n"
      ],
      "execution_count": null,
      "outputs": []
    },
    {
      "cell_type": "code",
      "metadata": {
        "id": "Hq-7yw4u9OyN",
        "colab_type": "code",
        "colab": {}
      },
      "source": [
        ""
      ],
      "execution_count": null,
      "outputs": []
    },
    {
      "cell_type": "code",
      "metadata": {
        "id": "yu8VVXL39O_e",
        "colab_type": "code",
        "colab": {}
      },
      "source": [
        "data=data.drop(['Loan Amount'],axis=1)\n",
        "data.shape"
      ],
      "execution_count": null,
      "outputs": []
    },
    {
      "cell_type": "code",
      "metadata": {
        "id": "hqTT01Bg7dq9",
        "colab_type": "code",
        "colab": {}
      },
      "source": [
        "X_train, X_test, y_train, y_test = train_test_split(data, target, random_state=42)\n",
        "rf = RandomForestRegressor(n_estimators=200, random_state=42)\n",
        "rf.fit(X_train, y_train)"
      ],
      "execution_count": null,
      "outputs": []
    },
    {
      "cell_type": "markdown",
      "metadata": {
        "id": "ov_GvXx4DdZW",
        "colab_type": "text"
      },
      "source": [
        "Score with: Gender | Race | Veteran | State | Bank | Jobs Saved | Business Type | Jobs Saved | NAICS\n",
        "\n",
        "Score of forest = 0.381086540080108\n",
        "\n",
        "Feature importance:\n",
        "[0.02002078 0.01901149 0.01125769 0.08336426 0.20459831 0.0667973\n",
        " 0.59495018]\n",
        "\n",
        "In line with analysis on smaller datasets and the loans over 150K, the number of jobs saved carries the most weight on the amount of money lent.\n",
        "\n",
        "\n"
      ]
    },
    {
      "cell_type": "code",
      "metadata": {
        "id": "z0tDKUhByyUB",
        "colab_type": "code",
        "colab": {}
      },
      "source": [
        "#score of forest\n",
        "print(rf.score(X_test, y_test))\n",
        "\n"
      ],
      "execution_count": null,
      "outputs": []
    },
    {
      "cell_type": "code",
      "metadata": {
        "id": "DciSow7WqrY_",
        "colab_type": "code",
        "colab": {}
      },
      "source": [
        "#zip names and feature importance scores\n",
        "f_imp=rf.feature_importances_\n",
        "f_name=data.columns\n",
        "features=zip(f_name, f_imp)\n",
        "# print(features)\n",
        "# features into a datafame\n",
        "f_df=pd.DataFrame(list(features))\n",
        "print(f_df)\n"
      ],
      "execution_count": null,
      "outputs": []
    },
    {
      "cell_type": "code",
      "metadata": {
        "id": "NU4W7eDpqrnp",
        "colab_type": "code",
        "colab": {}
      },
      "source": [
        "# X_train.columns\n",
        "print(rf.feature_importances_)"
      ],
      "execution_count": null,
      "outputs": []
    },
    {
      "cell_type": "code",
      "metadata": {
        "id": "pb-jwIdzf7O7",
        "colab_type": "code",
        "colab": {}
      },
      "source": [
        "data.to_csv('small_loan_large_file.csv', index=0)\n",
        "!cp people_ml.csv \"drive/My Drive/\""
      ],
      "execution_count": null,
      "outputs": []
    },
    {
      "cell_type": "code",
      "metadata": {
        "id": "hDg38D8FiiA8",
        "colab_type": "code",
        "colab": {}
      },
      "source": [
        ""
      ],
      "execution_count": null,
      "outputs": []
    },
    {
      "cell_type": "code",
      "metadata": {
        "id": "-jgkYEmVf7az",
        "colab_type": "code",
        "colab": {}
      },
      "source": [
        ""
      ],
      "execution_count": null,
      "outputs": []
    },
    {
      "cell_type": "code",
      "metadata": {
        "id": "G4VjlYbXhyks",
        "colab_type": "code",
        "colab": {}
      },
      "source": [
        ""
      ],
      "execution_count": null,
      "outputs": []
    },
    {
      "cell_type": "code",
      "metadata": {
        "id": "ttJhQNIyBQfd",
        "colab_type": "code",
        "colab": {}
      },
      "source": [
        "#convert the strings to integers in jobs saved\n",
        "# df['Jobs Saved'] = pd.to_numeric(df['Jobs Saved'], errors=\"coerce\")\n",
        "# df['Jobs Saved'] = df['Jobs Saved'].astype(int)"
      ],
      "execution_count": null,
      "outputs": []
    },
    {
      "cell_type": "code",
      "metadata": {
        "id": "6yZonhhf7RT2",
        "colab_type": "code",
        "colab": {}
      },
      "source": [
        "# df.to_csv('clean_ppp.csv', index=0)\n",
        "# !cp clean_ppp.csv \"drive/My Drive/\"\n"
      ],
      "execution_count": null,
      "outputs": []
    }
  ]
}