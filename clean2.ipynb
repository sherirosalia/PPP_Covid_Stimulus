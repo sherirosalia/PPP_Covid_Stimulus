{
  "nbformat": 4,
  "nbformat_minor": 0,
  "metadata": {
    "colab": {
      "name": "clean2.ipynb",
      "provenance": [],
      "private_outputs": true,
      "collapsed_sections": [],
      "machine_shape": "hm",
      "mount_file_id": "1Kl8ZpMGF9AjomWbW1KrRyyVXThRIq4O5",
      "authorship_tag": "ABX9TyMu3XMNRMgX61A6OJBzAhi1"
    },
    "kernelspec": {
      "name": "python3",
      "display_name": "Python 3"
    },
    "accelerator": "TPU"
  },
  "cells": [
    {
      "cell_type": "markdown",
      "metadata": {
        "id": "uSbe-v84WJKU",
        "colab_type": "text"
      },
      "source": [
        "Second notebook in series"
      ]
    },
    {
      "cell_type": "code",
      "metadata": {
        "id": "CWHwMAMqWIKk",
        "colab_type": "code",
        "colab": {}
      },
      "source": [
        "import pandas as pd\n",
        "import io\n",
        "import sys\n",
        "import os\n"
      ],
      "execution_count": null,
      "outputs": []
    },
    {
      "cell_type": "code",
      "metadata": {
        "id": "CV6sw-8sWQYH",
        "colab_type": "code",
        "colab": {}
      },
      "source": [
        "from google.colab import drive\n",
        "drive.mount('/content/drive', force_remount=True)"
      ],
      "execution_count": null,
      "outputs": []
    },
    {
      "cell_type": "code",
      "metadata": {
        "id": "m9dN-0ADWQbn",
        "colab_type": "code",
        "colab": {}
      },
      "source": [
        "from google.colab import files"
      ],
      "execution_count": null,
      "outputs": []
    },
    {
      "cell_type": "code",
      "metadata": {
        "id": "t09dKbbLWQNu",
        "colab_type": "code",
        "colab": {}
      },
      "source": [
        "path = \"/content/drive/My Drive/data/quasi.csv\"\n",
        "\n",
        "df = pd.read_csv(path)\n",
        "# df.head()"
      ],
      "execution_count": null,
      "outputs": []
    },
    {
      "cell_type": "code",
      "metadata": {
        "id": "jX7eRpcbWQfo",
        "colab_type": "code",
        "colab": {}
      },
      "source": [
        "# mixed types in 4, 10, 15 and 16\n",
        "# df['16'].value_counts()\n",
        "print(df['16'].isna().sum())\n",
        "print(df.shape)\n",
        "#will only lose 5 rows\n",
        "new=df[df['16'].isna()]\n",
        "new.shape\n"
      ],
      "execution_count": null,
      "outputs": []
    },
    {
      "cell_type": "code",
      "metadata": {
        "id": "8l5YGZowdlJk",
        "colab_type": "code",
        "colab": {}
      },
      "source": [
        "print(df['15'].isna().sum())\n",
        "#will only lose 100\n",
        "new2=new[new['15'].isna()]\n",
        "new2.shape"
      ],
      "execution_count": null,
      "outputs": []
    },
    {
      "cell_type": "code",
      "metadata": {
        "id": "dHw1OIUWdlND",
        "colab_type": "code",
        "colab": {}
      },
      "source": [
        "print(df['14'].isna().sum())\n",
        "print(new2['14'].value_counts())"
      ],
      "execution_count": null,
      "outputs": []
    },
    {
      "cell_type": "code",
      "metadata": {
        "id": "puRhaSLLdlQf",
        "colab_type": "code",
        "colab": {}
      },
      "source": [
        "#lets get rid of empty columns and make a new csv\n",
        "new3=new2.dropna(axis=1, how='all')\n",
        "print(new3.shape)\n",
        "new3.sample(10)"
      ],
      "execution_count": null,
      "outputs": []
    },
    {
      "cell_type": "code",
      "metadata": {
        "id": "bhfqIQsSjycY",
        "colab_type": "code",
        "colab": {}
      },
      "source": [
        "\n",
        "# Remove twp columns because the information is duplicated such as state and we can figure out the bank name.n\n",
        "# new3=new3.drop(new3.columns[[14]], axis = 1, inplace = True) .... this is not correct/partition/copy\n",
        "new3 = new3.drop('14', 1)\n"
      ],
      "execution_count": null,
      "outputs": []
    },
    {
      "cell_type": "code",
      "metadata": {
        "id": "w-CyFcnInlhf",
        "colab_type": "code",
        "colab": {}
      },
      "source": [
        "new3 = new3.drop('13', 1)"
      ],
      "execution_count": null,
      "outputs": []
    },
    {
      "cell_type": "code",
      "metadata": {
        "id": "5xfYGqZ7kfR0",
        "colab_type": "code",
        "colab": {}
      },
      "source": [
        "new3.head() "
      ],
      "execution_count": null,
      "outputs": []
    },
    {
      "cell_type": "code",
      "metadata": {
        "id": "4A3ixAD6BCEE",
        "colab_type": "code",
        "colab": {}
      },
      "source": [
        "# drop rows in column 12 with less than 2 values\n",
        "col = '12'  # 'bar'\n",
        "n = 2\n",
        "\n",
        "new3=new3[new3.groupby(col)[col].transform('count').ge(n)]"
      ],
      "execution_count": null,
      "outputs": []
    },
    {
      "cell_type": "code",
      "metadata": {
        "id": "cqwvBipLBCVL",
        "colab_type": "code",
        "colab": {}
      },
      "source": [
        "new3.shape"
      ],
      "execution_count": null,
      "outputs": []
    },
    {
      "cell_type": "code",
      "metadata": {
        "id": "1CPTftw1dlUK",
        "colab_type": "code",
        "colab": {}
      },
      "source": [
        "new3['12'].value_counts()"
      ],
      "execution_count": null,
      "outputs": []
    },
    {
      "cell_type": "code",
      "metadata": {
        "id": "NM9W9rrFEyWI",
        "colab_type": "code",
        "colab": {}
      },
      "source": [
        "new3['11'].value_counts()"
      ],
      "execution_count": null,
      "outputs": []
    },
    {
      "cell_type": "code",
      "metadata": {
        "id": "EHOB_SpkIQgT",
        "colab_type": "code",
        "colab": {}
      },
      "source": [
        "pd.set_option('display.max_rows', 500)"
      ],
      "execution_count": null,
      "outputs": []
    },
    {
      "cell_type": "code",
      "metadata": {
        "id": "_K4FLRcBQbsN",
        "colab_type": "code",
        "colab": {}
      },
      "source": [
        "# df['result'] = df['result'].str.replace(r'\\D', '')\n",
        "# df\n",
        "#  dfmi.loc[:, ('one', 'second')]\n",
        "# df['result'] = df['result'].str.split(r'\\D').str.get(1)"
      ],
      "execution_count": null,
      "outputs": []
    },
    {
      "cell_type": "code",
      "metadata": {
        "id": "302doDESQSK0",
        "colab_type": "code",
        "colab": {}
      },
      "source": [
        "new3['12'] = new3.loc[:,('12')].str.replace(r'\\\"\\t', '')\n"
      ],
      "execution_count": null,
      "outputs": []
    },
    {
      "cell_type": "code",
      "metadata": {
        "id": "wrMCVqW-XGfF",
        "colab_type": "code",
        "colab": {}
      },
      "source": [
        "# df['result'] = df['result'].str.split(r'\\D').str.get(1)\n",
        "new3['12'] = new3.loc[:,('12')].str.replace(r'\\\"', '')\n"
      ],
      "execution_count": null,
      "outputs": []
    },
    {
      "cell_type": "code",
      "metadata": {
        "id": "pqCDj3LQXGp-",
        "colab_type": "code",
        "colab": {}
      },
      "source": [
        ""
      ],
      "execution_count": null,
      "outputs": []
    },
    {
      "cell_type": "code",
      "metadata": {
        "id": "xGxy_a6kQSmD",
        "colab_type": "code",
        "colab": {}
      },
      "source": [
        "new3['12'].value_counts()"
      ],
      "execution_count": null,
      "outputs": []
    },
    {
      "cell_type": "code",
      "metadata": {
        "id": "6MHi0EFhMVSb",
        "colab_type": "code",
        "colab": {}
      },
      "source": [
        "# new4.info()"
      ],
      "execution_count": null,
      "outputs": []
    },
    {
      "cell_type": "code",
      "metadata": {
        "id": "DSAerInOMVgT",
        "colab_type": "code",
        "colab": {}
      },
      "source": [
        "# drop rows in column 12 with less than 2 values\n",
        "col = '11'  # 'bar'\n",
        "n = 2\n",
        "\n",
        "new3[new3.groupby(col)[col].transform('count').ge(n)]"
      ],
      "execution_count": null,
      "outputs": []
    },
    {
      "cell_type": "code",
      "metadata": {
        "id": "CxkVHriJEyZu",
        "colab_type": "code",
        "colab": {}
      },
      "source": [
        "#ldc low date count\n",
        "\n",
        "ldc=new3.groupby('12').filter(lambda x : (x['12'].count()<=2).any())\n",
        "ldc.head()"
      ],
      "execution_count": null,
      "outputs": []
    },
    {
      "cell_type": "code",
      "metadata": {
        "id": "d_ANCMTcEyf6",
        "colab_type": "code",
        "colab": {}
      },
      "source": [
        "# only 64 lines\n",
        "ldc.shape"
      ],
      "execution_count": null,
      "outputs": []
    },
    {
      "cell_type": "code",
      "metadata": {
        "id": "EZCRZbS1i5ok",
        "colab_type": "code",
        "colab": {}
      },
      "source": [
        "new3 = new3.rename(columns={'0': 'Loan Amount', '1': 'City', '2': 'State', '': 'Zip', '4': 'NAICS Code', \n",
        "                            '5': 'Business Type', '6': 'Race', '7': 'Gender', '8': 'Veteran', '9': 'Non Profit',\n",
        "                            '10': 'Jobs Saved', '11': 'Date', '12': 'Bank',})\n",
        "new3.head()"
      ],
      "execution_count": null,
      "outputs": []
    },
    {
      "cell_type": "code",
      "metadata": {
        "id": "LBh3nadkbAWB",
        "colab_type": "code",
        "colab": {}
      },
      "source": [
        "new3['Bank'].value_counts()"
      ],
      "execution_count": null,
      "outputs": []
    },
    {
      "cell_type": "code",
      "metadata": {
        "id": "O2IU_PJFk2kf",
        "colab_type": "code",
        "colab": {}
      },
      "source": [
        ""
      ],
      "execution_count": null,
      "outputs": []
    },
    {
      "cell_type": "code",
      "metadata": {
        "id": "ui83auRPk2av",
        "colab_type": "code",
        "colab": {}
      },
      "source": [
        "\n",
        "new3.to_csv('quasi2.csv', index=False)\n",
        "!cp quasi2.csv \"drive/My Drive/data\""
      ],
      "execution_count": null,
      "outputs": []
    },
    {
      "cell_type": "code",
      "metadata": {
        "id": "aTBjrF65k2sG",
        "colab_type": "code",
        "colab": {}
      },
      "source": [
        "# check\n",
        "path = \"/content/drive/My Drive/data/quasi2.csv\"\n",
        "\n",
        "df2 = pd.read_csv(path, index_col=None)\n",
        "df2.head()"
      ],
      "execution_count": null,
      "outputs": []
    },
    {
      "cell_type": "code",
      "metadata": {
        "id": "xbm8woyAk2zU",
        "colab_type": "code",
        "colab": {}
      },
      "source": [
        "df2.shape\n",
        "\n",
        "#most data retained. More cleanup to do either in another notebook, SQL or Tableau"
      ],
      "execution_count": null,
      "outputs": []
    }
  ]
}