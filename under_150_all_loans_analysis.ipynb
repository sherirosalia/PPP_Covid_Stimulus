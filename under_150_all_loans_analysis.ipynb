{
  "nbformat": 4,
  "nbformat_minor": 0,
  "metadata": {
    "colab": {
      "name": "under_150_all_loans_analysis.ipynb",
      "provenance": [],
      "collapsed_sections": [],
      "mount_file_id": "1_wKV0caw-fIeCPmsFRZpbwN3i9ZGb6Lr",
      "authorship_tag": "ABX9TyNLqsdlSI8KH8PjDsjqmgyj"
    },
    "kernelspec": {
      "name": "python3",
      "display_name": "Python 3"
    }
  },
  "cells": [
    {
      "cell_type": "markdown",
      "metadata": {
        "id": "2oVNvkNYPDV2",
        "colab_type": "text"
      },
      "source": [
        "General analysis of the condensed version on loans under $150k which is the dataset including gender, race and military status.\n",
        "\n",
        " "
      ]
    },
    {
      "cell_type": "code",
      "metadata": {
        "id": "8M-oPsMYPGnv",
        "colab_type": "code",
        "colab": {}
      },
      "source": [
        "#import dependencies\n",
        "import pandas as pd\n",
        "import numpy as np\n",
        "import matplotlib.pyplot as plt\n",
        "\n",
        "from datetime import date, datetime\n",
        "import os, sys \n",
        "import io\n",
        "import ee\n"
      ],
      "execution_count": 268,
      "outputs": []
    },
    {
      "cell_type": "code",
      "metadata": {
        "id": "IF4fH4hDB5m8",
        "colab_type": "code",
        "colab": {}
      },
      "source": [
        "## set up pandas dataframe using set_options to warn when we are working on a copy instead of ooriginal dataframe\n",
        "pd.set_option('mode.chained_assignment','warn')"
      ],
      "execution_count": 269,
      "outputs": []
    },
    {
      "cell_type": "code",
      "metadata": {
        "id": "pf2cFMugB_T9",
        "colab_type": "code",
        "colab": {}
      },
      "source": [
        "# dataframe will display without being truncated\n",
        "pd.set_option('display.max_rows', 150)\n",
        "pd.set_option('display.max_columns', 25)\n",
        "pd.set_option('display.width', 768)"
      ],
      "execution_count": 270,
      "outputs": []
    },
    {
      "cell_type": "code",
      "metadata": {
        "id": "ax45eZXtxQE2",
        "colab_type": "code",
        "colab": {
          "base_uri": "https://localhost:8080/",
          "height": 54
        },
        "outputId": "78394511-a189-4168-8d16-f4350fbba32b"
      },
      "source": [
        "#mounting the google drive to access the files\n",
        "from google.colab import files\n",
        "from google.colab import drive\n",
        "drive.mount('/content/drive')"
      ],
      "execution_count": 271,
      "outputs": [
        {
          "output_type": "stream",
          "text": [
            "Drive already mounted at /content/drive; to attempt to forcibly remount, call drive.mount(\"/content/drive\", force_remount=True).\n"
          ],
          "name": "stdout"
        }
      ]
    },
    {
      "cell_type": "code",
      "metadata": {
        "id": "eGYONJar9ZgL",
        "colab_type": "code",
        "colab": {}
      },
      "source": [
        "#import csv that was cleaned up in cat_desc_normalize.ipynb\n",
        "csv_path = \"/content/drive/My Drive/p_cat_clean.csv\"\n",
        "path = \"/content/drive/My Drive/all_loans_under_150k_max_info.csv\"\n"
      ],
      "execution_count": 272,
      "outputs": []
    },
    {
      "cell_type": "code",
      "metadata": {
        "id": "KVaszjhYV77F",
        "colab_type": "code",
        "colab": {
          "base_uri": "https://localhost:8080/",
          "height": 294
        },
        "outputId": "8ff60cfd-4ef4-409e-fbcb-07bf92f7ee58"
      },
      "source": [
        "#list of columns\n",
        "cols=list(pd.read_csv(path, nrows=1))\n",
        "cols\n"
      ],
      "execution_count": 273,
      "outputs": [
        {
          "output_type": "execute_result",
          "data": {
            "text/plain": [
              "['Loan Amount',\n",
              " 'City',\n",
              " 'State',\n",
              " 'Zip',\n",
              " 'NAICS Code',\n",
              " 'Business Type',\n",
              " 'Race',\n",
              " 'Gender',\n",
              " 'Veteran',\n",
              " 'Jobs Saved',\n",
              " 'Date',\n",
              " 'Bank',\n",
              " 'NAICS Category',\n",
              " 'Title',\n",
              " 'Description',\n",
              " 'description']"
            ]
          },
          "metadata": {
            "tags": []
          },
          "execution_count": 273
        }
      ]
    },
    {
      "cell_type": "code",
      "metadata": {
        "id": "-jgkYEmVf7az",
        "colab_type": "code",
        "colab": {
          "base_uri": "https://localhost:8080/",
          "height": 152
        },
        "outputId": "d7cb479f-3d8d-49ea-c006-983a5cd38007"
      },
      "source": [
        "# backup of clean dataframe, types will not be fully preserved so on import reassign, but easier with unconformity removed\n",
        "df = pd.read_csv(path, dtype={'Jobs Saved':int, 'NAICS Code': str, 'NAICS Category': str, 'Zip': str, }, parse_dates=[10] )\n",
        "df.sample()"
      ],
      "execution_count": 274,
      "outputs": [
        {
          "output_type": "execute_result",
          "data": {
            "text/html": [
              "<div>\n",
              "<style scoped>\n",
              "    .dataframe tbody tr th:only-of-type {\n",
              "        vertical-align: middle;\n",
              "    }\n",
              "\n",
              "    .dataframe tbody tr th {\n",
              "        vertical-align: top;\n",
              "    }\n",
              "\n",
              "    .dataframe thead th {\n",
              "        text-align: right;\n",
              "    }\n",
              "</style>\n",
              "<table border=\"1\" class=\"dataframe\">\n",
              "  <thead>\n",
              "    <tr style=\"text-align: right;\">\n",
              "      <th></th>\n",
              "      <th>Loan Amount</th>\n",
              "      <th>City</th>\n",
              "      <th>State</th>\n",
              "      <th>Zip</th>\n",
              "      <th>NAICS Code</th>\n",
              "      <th>Business Type</th>\n",
              "      <th>Race</th>\n",
              "      <th>Gender</th>\n",
              "      <th>Veteran</th>\n",
              "      <th>Jobs Saved</th>\n",
              "      <th>Date</th>\n",
              "      <th>Bank</th>\n",
              "      <th>NAICS Category</th>\n",
              "      <th>Title</th>\n",
              "      <th>Description</th>\n",
              "      <th>description</th>\n",
              "    </tr>\n",
              "  </thead>\n",
              "  <tbody>\n",
              "    <tr>\n",
              "      <th>1688268</th>\n",
              "      <td>83087.0</td>\n",
              "      <td>PROVINCETOWN</td>\n",
              "      <td>MA</td>\n",
              "      <td>02657</td>\n",
              "      <td>51112</td>\n",
              "      <td>Corporation</td>\n",
              "      <td>Unanswered</td>\n",
              "      <td>Unanswered</td>\n",
              "      <td>Unanswered</td>\n",
              "      <td>7</td>\n",
              "      <td>2020-06-03</td>\n",
              "      <td>TD Bank</td>\n",
              "      <td>51</td>\n",
              "      <td>Periodical PublishersT</td>\n",
              "      <td>See industry description for 511120.</td>\n",
              "      <td>Information</td>\n",
              "    </tr>\n",
              "  </tbody>\n",
              "</table>\n",
              "</div>"
            ],
            "text/plain": [
              "         Loan Amount          City State    Zip NAICS Code Business Type        Race      Gender     Veteran  Jobs Saved       Date     Bank NAICS Category                    Title                           Description  description\n",
              "1688268      83087.0  PROVINCETOWN    MA  02657      51112   Corporation  Unanswered  Unanswered  Unanswered           7 2020-06-03  TD Bank             51  Periodical PublishersT   See industry description for 511120.  Information"
            ]
          },
          "metadata": {
            "tags": []
          },
          "execution_count": 274
        }
      ]
    },
    {
      "cell_type": "code",
      "metadata": {
        "id": "7x1QpXWOn-Bi",
        "colab_type": "code",
        "colab": {
          "base_uri": "https://localhost:8080/",
          "height": 34
        },
        "outputId": "025d35a3-b3f2-44bb-9389-50d806bda978"
      },
      "source": [
        "df.shape"
      ],
      "execution_count": 275,
      "outputs": [
        {
          "output_type": "execute_result",
          "data": {
            "text/plain": [
              "(4093088, 16)"
            ]
          },
          "metadata": {
            "tags": []
          },
          "execution_count": 275
        }
      ]
    },
    {
      "cell_type": "code",
      "metadata": {
        "id": "Mz5dHiTKL51p",
        "colab_type": "code",
        "colab": {}
      },
      "source": [
        "#found some weird characters\n",
        "df['Bank']=df['Bank'].str.lstrip('\\t')"
      ],
      "execution_count": 276,
      "outputs": []
    },
    {
      "cell_type": "code",
      "metadata": {
        "id": "G4VjlYbXhyks",
        "colab_type": "code",
        "colab": {
          "base_uri": "https://localhost:8080/",
          "height": 312
        },
        "outputId": "2171042f-1094-4834-d76f-4e7d4c250684"
      },
      "source": [
        "#types are correct\n",
        "df.dtypes"
      ],
      "execution_count": 277,
      "outputs": [
        {
          "output_type": "execute_result",
          "data": {
            "text/plain": [
              "Loan Amount              float64\n",
              "City                      object\n",
              "State                     object\n",
              "Zip                       object\n",
              "NAICS Code                object\n",
              "Business Type             object\n",
              "Race                      object\n",
              "Gender                    object\n",
              "Veteran                   object\n",
              "Jobs Saved                 int64\n",
              "Date              datetime64[ns]\n",
              "Bank                      object\n",
              "NAICS Category            object\n",
              "Title                     object\n",
              "Description               object\n",
              "description               object\n",
              "dtype: object"
            ]
          },
          "metadata": {
            "tags": []
          },
          "execution_count": 277
        }
      ]
    },
    {
      "cell_type": "markdown",
      "metadata": {
        "id": "uwTD-dQA-aHX",
        "colab_type": "text"
      },
      "source": [
        "General nationwide loan analysis\n"
      ]
    },
    {
      "cell_type": "code",
      "metadata": {
        "id": "WT2h9dVy6Spd",
        "colab_type": "code",
        "colab": {
          "base_uri": "https://localhost:8080/",
          "height": 173
        },
        "outputId": "bec7d88a-e1ac-41cd-fdc3-497f0dd7b6f4"
      },
      "source": [
        "#check general statistics\n",
        "\n",
        "nat_loan_stats=df['Loan Amount'].describe()\n",
        "nat_loan_stats"
      ],
      "execution_count": 278,
      "outputs": [
        {
          "output_type": "execute_result",
          "data": {
            "text/plain": [
              "count    4.093088e+06\n",
              "mean     3.375040e+04\n",
              "std      3.352086e+04\n",
              "min     -1.996590e+05\n",
              "25%      9.882000e+03\n",
              "50%      2.083200e+04\n",
              "75%      4.650000e+04\n",
              "max      1.500000e+05\n",
              "Name: Loan Amount, dtype: float64"
            ]
          },
          "metadata": {
            "tags": []
          },
          "execution_count": 278
        }
      ]
    },
    {
      "cell_type": "code",
      "metadata": {
        "id": "Eg8wEtw86jz_",
        "colab_type": "code",
        "colab": {
          "base_uri": "https://localhost:8080/",
          "height": 34
        },
        "outputId": "47ca09af-ae30-408f-b284-762edff11180"
      },
      "source": [
        "#count of loans\n",
        "national_loan_count = df['Loan Amount'].count()\n",
        "national_loan_count"
      ],
      "execution_count": 279,
      "outputs": [
        {
          "output_type": "execute_result",
          "data": {
            "text/plain": [
              "4093088"
            ]
          },
          "metadata": {
            "tags": []
          },
          "execution_count": 279
        }
      ]
    },
    {
      "cell_type": "code",
      "metadata": {
        "id": "tN9gazbU58T4",
        "colab_type": "code",
        "colab": {
          "base_uri": "https://localhost:8080/",
          "height": 34
        },
        "outputId": "394ca3a3-130d-4955-a290-75725fe3c004"
      },
      "source": [
        "#average loan amount\n",
        "national_loan_avg=df['Loan Amount'].mean()\n",
        "national_loan_avg"
      ],
      "execution_count": 280,
      "outputs": [
        {
          "output_type": "execute_result",
          "data": {
            "text/plain": [
              "33750.39600392841"
            ]
          },
          "metadata": {
            "tags": []
          },
          "execution_count": 280
        }
      ]
    },
    {
      "cell_type": "code",
      "metadata": {
        "id": "4KSc4Hyg6ReW",
        "colab_type": "code",
        "colab": {
          "base_uri": "https://localhost:8080/",
          "height": 34
        },
        "outputId": "793b0a67-761c-484b-a675-26ea7d22e109"
      },
      "source": [
        "#median national loan\n",
        "national_loan_med=df['Loan Amount'].median()\n",
        "national_loan_med"
      ],
      "execution_count": 281,
      "outputs": [
        {
          "output_type": "execute_result",
          "data": {
            "text/plain": [
              "20832.0"
            ]
          },
          "metadata": {
            "tags": []
          },
          "execution_count": 281
        }
      ]
    },
    {
      "cell_type": "code",
      "metadata": {
        "id": "ddd_ShqT6Rkk",
        "colab_type": "code",
        "colab": {
          "base_uri": "https://localhost:8080/",
          "height": 34
        },
        "outputId": "2fbbbf92-2c46-4dc8-daf1-71f3bb98e145"
      },
      "source": [
        "#sum of all loans\n",
        "national_loan_sum=df['Loan Amount'].sum()\n",
        "national_loan_sum"
      ],
      "execution_count": 282,
      "outputs": [
        {
          "output_type": "execute_result",
          "data": {
            "text/plain": [
              "138143340878.9052"
            ]
          },
          "metadata": {
            "tags": []
          },
          "execution_count": 282
        }
      ]
    },
    {
      "cell_type": "code",
      "metadata": {
        "id": "5EBjmWUYAx2w",
        "colab_type": "code",
        "colab": {
          "base_uri": "https://localhost:8080/",
          "height": 34
        },
        "outputId": "9563da52-99f0-4132-aa58-fc82726afc6b"
      },
      "source": [
        "#number of jobs saved\n",
        "nat_jobs_saved=df['Jobs Saved'].sum()\n",
        "nat_jobs_saved"
      ],
      "execution_count": 283,
      "outputs": [
        {
          "output_type": "execute_result",
          "data": {
            "text/plain": [
              "16447792"
            ]
          },
          "metadata": {
            "tags": []
          },
          "execution_count": 283
        }
      ]
    },
    {
      "cell_type": "code",
      "metadata": {
        "id": "ZBM91gMOAlXo",
        "colab_type": "code",
        "colab": {
          "base_uri": "https://localhost:8080/",
          "height": 34
        },
        "outputId": "49cc0b9d-651e-44e7-ea42-cc22d8efce4c"
      },
      "source": [
        "#sum of loans\n",
        "national_loan_sum=df['Loan Amount'].sum()\n",
        "national_loan_sum"
      ],
      "execution_count": 284,
      "outputs": [
        {
          "output_type": "execute_result",
          "data": {
            "text/plain": [
              "138143340878.9052"
            ]
          },
          "metadata": {
            "tags": []
          },
          "execution_count": 284
        }
      ]
    },
    {
      "cell_type": "code",
      "metadata": {
        "id": "P2jMqCEKfwyb",
        "colab_type": "code",
        "colab": {
          "base_uri": "https://localhost:8080/",
          "height": 34
        },
        "outputId": "2deea216-f1ab-4117-8757-79ad400cdc60"
      },
      "source": [
        "#difference between national average and median \n",
        "nat_pct_dif=national_loan_avg/national_loan_med * 100\n",
        "nat_pct_dif"
      ],
      "execution_count": 285,
      "outputs": [
        {
          "output_type": "execute_result",
          "data": {
            "text/plain": [
              "162.01226960411103"
            ]
          },
          "metadata": {
            "tags": []
          },
          "execution_count": 285
        }
      ]
    },
    {
      "cell_type": "code",
      "metadata": {
        "id": "vVWY47dR35n6",
        "colab_type": "code",
        "colab": {
          "base_uri": "https://localhost:8080/",
          "height": 34
        },
        "outputId": "9d92d533-ccc2-4472-c6a4-62e1a4ef3b16"
      },
      "source": [
        "# loan per job\n",
        "nat_ln_per_job = national_loan_sum / nat_jobs_saved\n",
        "print(nat_ln_per_job)"
      ],
      "execution_count": 286,
      "outputs": [
        {
          "output_type": "stream",
          "text": [
            "8398.898823556694\n"
          ],
          "name": "stdout"
        }
      ]
    },
    {
      "cell_type": "code",
      "metadata": {
        "id": "PLCwU8xU_lyL",
        "colab_type": "code",
        "colab": {
          "base_uri": "https://localhost:8080/",
          "height": 80
        },
        "outputId": "d401eef5-f809-42c4-da05-6905f9a43f4a"
      },
      "source": [
        "#summary table of stats\n",
        "nat_summary = pd.DataFrame({\n",
        "    'Loan Avg': national_loan_avg,\n",
        "    'Loan Median': national_loan_med,\n",
        "    'Loan Sum': national_loan_sum,\n",
        "    'Loan Count': national_loan_count,\n",
        "    'Jobs Saved': nat_jobs_saved,\n",
        "    'Avg over Median': nat_pct_dif,\n",
        "    'Money per Job' : nat_ln_per_job,\n",
        "},index=[0])\n",
        "nat_summary.head(3)"
      ],
      "execution_count": 287,
      "outputs": [
        {
          "output_type": "execute_result",
          "data": {
            "text/html": [
              "<div>\n",
              "<style scoped>\n",
              "    .dataframe tbody tr th:only-of-type {\n",
              "        vertical-align: middle;\n",
              "    }\n",
              "\n",
              "    .dataframe tbody tr th {\n",
              "        vertical-align: top;\n",
              "    }\n",
              "\n",
              "    .dataframe thead th {\n",
              "        text-align: right;\n",
              "    }\n",
              "</style>\n",
              "<table border=\"1\" class=\"dataframe\">\n",
              "  <thead>\n",
              "    <tr style=\"text-align: right;\">\n",
              "      <th></th>\n",
              "      <th>Loan Avg</th>\n",
              "      <th>Loan Median</th>\n",
              "      <th>Loan Sum</th>\n",
              "      <th>Loan Count</th>\n",
              "      <th>Jobs Saved</th>\n",
              "      <th>Avg over Median</th>\n",
              "      <th>Money per Job</th>\n",
              "    </tr>\n",
              "  </thead>\n",
              "  <tbody>\n",
              "    <tr>\n",
              "      <th>0</th>\n",
              "      <td>33750.396004</td>\n",
              "      <td>20832.0</td>\n",
              "      <td>1.381433e+11</td>\n",
              "      <td>4093088</td>\n",
              "      <td>16447792</td>\n",
              "      <td>162.01227</td>\n",
              "      <td>8398.898824</td>\n",
              "    </tr>\n",
              "  </tbody>\n",
              "</table>\n",
              "</div>"
            ],
            "text/plain": [
              "       Loan Avg  Loan Median      Loan Sum  Loan Count  Jobs Saved  Avg over Median  Money per Job\n",
              "0  33750.396004      20832.0  1.381433e+11     4093088    16447792        162.01227    8398.898824"
            ]
          },
          "metadata": {
            "tags": []
          },
          "execution_count": 287
        }
      ]
    },
    {
      "cell_type": "markdown",
      "metadata": {
        "id": "h9VVZQwUgpLX",
        "colab_type": "text"
      },
      "source": [
        "# Summary Table\n",
        "`- Loan Avg : $33,750 `\n",
        "`- Median Loan : $20,832 `\n",
        "`- Loan Sum: $138,143,340,878 `\n",
        "`- Loan Count: 4,093,088`\n",
        "`- Jobs Saved: 16,447,792`\n",
        "`- Avg loan amount over Median: 162%`\n",
        "`- Money per Job: $8,398`\n",
        "\n",
        "\n",
        "\n"
      ]
    },
    {
      "cell_type": "code",
      "metadata": {
        "id": "aRW-nHwU_h7N",
        "colab_type": "code",
        "colab": {
          "base_uri": "https://localhost:8080/",
          "height": 80
        },
        "outputId": "429ffd51-e750-4906-eeb5-bc464ccbfd7b"
      },
      "source": [
        "nat_summary['Loan Avg'] = nat_summary.loc[:,'Loan Avg'].map(\"${:,.2f}\".format)\n",
        "nat_summary['Loan Median'] = nat_summary.loc[:,'Loan Median'].map(\"${:,.2f}\".format)\n",
        "nat_summary['Loan Sum'] = nat_summary.loc[:,'Loan Sum'].map(\"{:,.2f}\".format)\n",
        "nat_summary['Loan Count'] = nat_summary.loc[:,'Loan Count'].map(\"{:,.2f}\".format)\n",
        "nat_summary['Jobs Saved'] = nat_summary.loc[:,'Jobs Saved'].map(\"{:,}\".format)\n",
        "nat_summary['Avg over Median'] = nat_summary.loc[:,'Avg over Median'].map(\"{:,.2f}%\".format)\n",
        "nat_summary['Money per Job'] = nat_summary.loc[:,'Money per Job'].map(\"${:,.2f}\".format)\n",
        "nat_summary\n"
      ],
      "execution_count": 288,
      "outputs": [
        {
          "output_type": "execute_result",
          "data": {
            "text/html": [
              "<div>\n",
              "<style scoped>\n",
              "    .dataframe tbody tr th:only-of-type {\n",
              "        vertical-align: middle;\n",
              "    }\n",
              "\n",
              "    .dataframe tbody tr th {\n",
              "        vertical-align: top;\n",
              "    }\n",
              "\n",
              "    .dataframe thead th {\n",
              "        text-align: right;\n",
              "    }\n",
              "</style>\n",
              "<table border=\"1\" class=\"dataframe\">\n",
              "  <thead>\n",
              "    <tr style=\"text-align: right;\">\n",
              "      <th></th>\n",
              "      <th>Loan Avg</th>\n",
              "      <th>Loan Median</th>\n",
              "      <th>Loan Sum</th>\n",
              "      <th>Loan Count</th>\n",
              "      <th>Jobs Saved</th>\n",
              "      <th>Avg over Median</th>\n",
              "      <th>Money per Job</th>\n",
              "    </tr>\n",
              "  </thead>\n",
              "  <tbody>\n",
              "    <tr>\n",
              "      <th>0</th>\n",
              "      <td>$33,750.40</td>\n",
              "      <td>$20,832.00</td>\n",
              "      <td>138,143,340,878.91</td>\n",
              "      <td>4,093,088.00</td>\n",
              "      <td>16,447,792</td>\n",
              "      <td>162.01%</td>\n",
              "      <td>$8,398.90</td>\n",
              "    </tr>\n",
              "  </tbody>\n",
              "</table>\n",
              "</div>"
            ],
            "text/plain": [
              "     Loan Avg Loan Median            Loan Sum    Loan Count  Jobs Saved Avg over Median Money per Job\n",
              "0  $33,750.40  $20,832.00  138,143,340,878.91  4,093,088.00  16,447,792         162.01%     $8,398.90"
            ]
          },
          "metadata": {
            "tags": []
          },
          "execution_count": 288
        }
      ]
    },
    {
      "cell_type": "markdown",
      "metadata": {
        "id": "R4eUh4vM-R4S",
        "colab_type": "text"
      },
      "source": [
        "Lender overview\n"
      ]
    },
    {
      "cell_type": "code",
      "metadata": {
        "id": "zI-omtKvmst6",
        "colab_type": "code",
        "colab": {
          "base_uri": "https://localhost:8080/",
          "height": 242
        },
        "outputId": "ec6a5eea-bf86-4173-ab8c-850fae8c5323"
      },
      "source": [
        "#who are the top lenders by total sum of loans issued? Creating a summary table that can be exported to csv for analysis in SQL/ Tableau later\n",
        "top_bank_sums=df.groupby('Bank').sum()['Loan Amount']\n",
        "top_bank_sums"
      ],
      "execution_count": 289,
      "outputs": [
        {
          "output_type": "execute_result",
          "data": {
            "text/plain": [
              "Bank\n",
              "121 Financial CU                     14437340.00\n",
              "1880 Bank                             9598125.73\n",
              "1st Advantage Bank                    4975444.64\n",
              "1st Advantage FCU                     1649515.50\n",
              "1st Bank                               419584.00\n",
              "                                        ...     \n",
              "cPort CU                              2645147.26\n",
              "iTHINK Financial CU                  36972350.00\n",
              "immito                                6929575.00\n",
              "mBank                                44163510.00\n",
              "the Farmers State Bank of Bucklin      424202.84\n",
              "Name: Loan Amount, Length: 4805, dtype: float64"
            ]
          },
          "metadata": {
            "tags": []
          },
          "execution_count": 289
        }
      ]
    },
    {
      "cell_type": "code",
      "metadata": {
        "id": "JEhijOVfmsyv",
        "colab_type": "code",
        "colab": {
          "base_uri": "https://localhost:8080/",
          "height": 242
        },
        "outputId": "3008dd45-3e36-4a6b-fe0e-95f29f29763e"
      },
      "source": [
        "#top banks by median loan amount\n",
        "\n",
        "top_bank_median=df.groupby('Bank').median()['Loan Amount']\n",
        "top_bank_median"
      ],
      "execution_count": 290,
      "outputs": [
        {
          "output_type": "execute_result",
          "data": {
            "text/plain": [
              "Bank\n",
              "121 Financial CU                     20750.0\n",
              "1880 Bank                            31457.5\n",
              "1st Advantage Bank                   36562.5\n",
              "1st Advantage FCU                    14782.7\n",
              "1st Bank                              8107.0\n",
              "                                      ...   \n",
              "cPort CU                              8755.0\n",
              "iTHINK Financial CU                  16800.0\n",
              "immito                               20800.0\n",
              "mBank                                27100.0\n",
              "the Farmers State Bank of Bucklin    11192.5\n",
              "Name: Loan Amount, Length: 4805, dtype: float64"
            ]
          },
          "metadata": {
            "tags": []
          },
          "execution_count": 290
        }
      ]
    },
    {
      "cell_type": "code",
      "metadata": {
        "id": "Ta6SCzVbms7d",
        "colab_type": "code",
        "colab": {
          "base_uri": "https://localhost:8080/",
          "height": 242
        },
        "outputId": "c92f8054-4ac2-41c5-91c3-173f7e0d630e"
      },
      "source": [
        "#banks highest average loan\n",
        "top_bank_average=df.groupby('Bank').mean()['Loan Amount']\n",
        "top_bank_average"
      ],
      "execution_count": 291,
      "outputs": [
        {
          "output_type": "execute_result",
          "data": {
            "text/plain": [
              "Bank\n",
              "121 Financial CU                     33113.165138\n",
              "1880 Bank                            41371.231595\n",
              "1st Advantage Bank                   50257.016566\n",
              "1st Advantage FCU                    22290.750000\n",
              "1st Bank                             18242.782609\n",
              "                                         ...     \n",
              "cPort CU                             15378.763140\n",
              "iTHINK Financial CU                  29089.181747\n",
              "immito                               32686.674528\n",
              "mBank                                41980.522814\n",
              "the Farmers State Bank of Bucklin    13256.338750\n",
              "Name: Loan Amount, Length: 4805, dtype: float64"
            ]
          },
          "metadata": {
            "tags": []
          },
          "execution_count": 291
        }
      ]
    },
    {
      "cell_type": "code",
      "metadata": {
        "id": "nSI6tytomtAI",
        "colab_type": "code",
        "colab": {
          "base_uri": "https://localhost:8080/",
          "height": 233
        },
        "outputId": "96cc586a-0c54-4147-9b5a-5d5ec881b504"
      },
      "source": [
        "#bank summary table\n",
        "banks_summary_df=pd.DataFrame({\n",
        "    'Loan Sum' : top_bank_sums,\n",
        "    'Average Loan' : top_bank_average,\n",
        "    'Median Loan' : top_bank_median\n",
        "  })\n",
        "banks_summary_df.head()\n"
      ],
      "execution_count": 292,
      "outputs": [
        {
          "output_type": "execute_result",
          "data": {
            "text/html": [
              "<div>\n",
              "<style scoped>\n",
              "    .dataframe tbody tr th:only-of-type {\n",
              "        vertical-align: middle;\n",
              "    }\n",
              "\n",
              "    .dataframe tbody tr th {\n",
              "        vertical-align: top;\n",
              "    }\n",
              "\n",
              "    .dataframe thead th {\n",
              "        text-align: right;\n",
              "    }\n",
              "</style>\n",
              "<table border=\"1\" class=\"dataframe\">\n",
              "  <thead>\n",
              "    <tr style=\"text-align: right;\">\n",
              "      <th></th>\n",
              "      <th>Loan Sum</th>\n",
              "      <th>Average Loan</th>\n",
              "      <th>Median Loan</th>\n",
              "    </tr>\n",
              "    <tr>\n",
              "      <th>Bank</th>\n",
              "      <th></th>\n",
              "      <th></th>\n",
              "      <th></th>\n",
              "    </tr>\n",
              "  </thead>\n",
              "  <tbody>\n",
              "    <tr>\n",
              "      <th>121 Financial CU</th>\n",
              "      <td>14437340.00</td>\n",
              "      <td>33113.165138</td>\n",
              "      <td>20750.0</td>\n",
              "    </tr>\n",
              "    <tr>\n",
              "      <th>1880 Bank</th>\n",
              "      <td>9598125.73</td>\n",
              "      <td>41371.231595</td>\n",
              "      <td>31457.5</td>\n",
              "    </tr>\n",
              "    <tr>\n",
              "      <th>1st Advantage Bank</th>\n",
              "      <td>4975444.64</td>\n",
              "      <td>50257.016566</td>\n",
              "      <td>36562.5</td>\n",
              "    </tr>\n",
              "    <tr>\n",
              "      <th>1st Advantage FCU</th>\n",
              "      <td>1649515.50</td>\n",
              "      <td>22290.750000</td>\n",
              "      <td>14782.7</td>\n",
              "    </tr>\n",
              "    <tr>\n",
              "      <th>1st Bank</th>\n",
              "      <td>419584.00</td>\n",
              "      <td>18242.782609</td>\n",
              "      <td>8107.0</td>\n",
              "    </tr>\n",
              "  </tbody>\n",
              "</table>\n",
              "</div>"
            ],
            "text/plain": [
              "                       Loan Sum  Average Loan  Median Loan\n",
              "Bank                                                      \n",
              "121 Financial CU    14437340.00  33113.165138      20750.0\n",
              "1880 Bank            9598125.73  41371.231595      31457.5\n",
              "1st Advantage Bank   4975444.64  50257.016566      36562.5\n",
              "1st Advantage FCU    1649515.50  22290.750000      14782.7\n",
              "1st Bank              419584.00  18242.782609       8107.0"
            ]
          },
          "metadata": {
            "tags": []
          },
          "execution_count": 292
        }
      ]
    },
    {
      "cell_type": "code",
      "metadata": {
        "id": "2tt8QQ71ms3A",
        "colab_type": "code",
        "colab": {
          "base_uri": "https://localhost:8080/",
          "height": 1000
        },
        "outputId": "d35c2150-bf82-496b-a57d-cb2f484b870d"
      },
      "source": [
        "#formatting\n",
        "banks_summary_df['Loan Sum'] = banks_summary_df.loc[:,'Loan Sum'].map(\"${:,.2f}\".format)\n",
        "banks_summary_df['Average Loan'] = banks_summary_df.loc[:,'Average Loan'].map(\"${:,.2f}\".format)\n",
        "banks_summary_df['Median Loan'] = banks_summary_df.loc[:,'Median Loan'].map(\"${:,.2f}\".format)\n",
        "banks_summary_df.sample(30)\n"
      ],
      "execution_count": 293,
      "outputs": [
        {
          "output_type": "execute_result",
          "data": {
            "text/html": [
              "<div>\n",
              "<style scoped>\n",
              "    .dataframe tbody tr th:only-of-type {\n",
              "        vertical-align: middle;\n",
              "    }\n",
              "\n",
              "    .dataframe tbody tr th {\n",
              "        vertical-align: top;\n",
              "    }\n",
              "\n",
              "    .dataframe thead th {\n",
              "        text-align: right;\n",
              "    }\n",
              "</style>\n",
              "<table border=\"1\" class=\"dataframe\">\n",
              "  <thead>\n",
              "    <tr style=\"text-align: right;\">\n",
              "      <th></th>\n",
              "      <th>Loan Sum</th>\n",
              "      <th>Average Loan</th>\n",
              "      <th>Median Loan</th>\n",
              "    </tr>\n",
              "    <tr>\n",
              "      <th>Bank</th>\n",
              "      <th></th>\n",
              "      <th></th>\n",
              "      <th></th>\n",
              "    </tr>\n",
              "  </thead>\n",
              "  <tbody>\n",
              "    <tr>\n",
              "      <th>Caribe FCU</th>\n",
              "      <td>$379,208.67</td>\n",
              "      <td>$13,076.16</td>\n",
              "      <td>$8,571.87</td>\n",
              "    </tr>\n",
              "    <tr>\n",
              "      <th>The Bank of Marion</th>\n",
              "      <td>$10,279,667.65</td>\n",
              "      <td>$24,130.68</td>\n",
              "      <td>$14,825.00</td>\n",
              "    </tr>\n",
              "    <tr>\n",
              "      <th>Merchants &amp; Farmers Bank</th>\n",
              "      <td>$66,559.99</td>\n",
              "      <td>$3,915.29</td>\n",
              "      <td>$3,819.80</td>\n",
              "    </tr>\n",
              "    <tr>\n",
              "      <th>State Bank of Table Rock</th>\n",
              "      <td>$1,996,518.00</td>\n",
              "      <td>$14,680.28</td>\n",
              "      <td>$7,009.68</td>\n",
              "    </tr>\n",
              "    <tr>\n",
              "      <th>Texas Heritage Bank</th>\n",
              "      <td>$9,949,895.99</td>\n",
              "      <td>$38,268.83</td>\n",
              "      <td>$20,800.00</td>\n",
              "    </tr>\n",
              "    <tr>\n",
              "      <th>Vast Bank</th>\n",
              "      <td>$13,109,374.77</td>\n",
              "      <td>$32,773.44</td>\n",
              "      <td>$20,833.00</td>\n",
              "    </tr>\n",
              "    <tr>\n",
              "      <th>Clackamas County Bank</th>\n",
              "      <td>$5,024,776.01</td>\n",
              "      <td>$43,317.03</td>\n",
              "      <td>$35,244.05</td>\n",
              "    </tr>\n",
              "    <tr>\n",
              "      <th>SmartBank</th>\n",
              "      <td>$88,526,396.23</td>\n",
              "      <td>$36,855.29</td>\n",
              "      <td>$21,400.00</td>\n",
              "    </tr>\n",
              "    <tr>\n",
              "      <th>The Millyard Bank</th>\n",
              "      <td>$6,857,200.00</td>\n",
              "      <td>$42,857.50</td>\n",
              "      <td>$29,250.00</td>\n",
              "    </tr>\n",
              "    <tr>\n",
              "      <th>Belco Community CU</th>\n",
              "      <td>$2,830,943.71</td>\n",
              "      <td>$37,249.26</td>\n",
              "      <td>$22,726.97</td>\n",
              "    </tr>\n",
              "    <tr>\n",
              "      <th>The Commercial and Savings Bank of Millersburg</th>\n",
              "      <td>$22,805,252.00</td>\n",
              "      <td>$35,356.98</td>\n",
              "      <td>$21,900.00</td>\n",
              "    </tr>\n",
              "    <tr>\n",
              "      <th>Sunstate Bank</th>\n",
              "      <td>$8,597,851.56</td>\n",
              "      <td>$25,066.62</td>\n",
              "      <td>$11,457.50</td>\n",
              "    </tr>\n",
              "    <tr>\n",
              "      <th>County National Bank</th>\n",
              "      <td>$34,003,633.24</td>\n",
              "      <td>$43,482.91</td>\n",
              "      <td>$30,796.00</td>\n",
              "    </tr>\n",
              "    <tr>\n",
              "      <th>The National Capital Bank of Washington</th>\n",
              "      <td>$12,072,037.04</td>\n",
              "      <td>$46,253.02</td>\n",
              "      <td>$31,667.00</td>\n",
              "    </tr>\n",
              "    <tr>\n",
              "      <th>Financial Security Bank</th>\n",
              "      <td>$7,018,950.00</td>\n",
              "      <td>$29,615.82</td>\n",
              "      <td>$19,000.00</td>\n",
              "    </tr>\n",
              "    <tr>\n",
              "      <th>AMG National Trust Bank</th>\n",
              "      <td>$1,804,981.88</td>\n",
              "      <td>$66,851.18</td>\n",
              "      <td>$62,392.00</td>\n",
              "    </tr>\n",
              "    <tr>\n",
              "      <th>Fairmont FCU</th>\n",
              "      <td>$1,554,431.04</td>\n",
              "      <td>$25,071.47</td>\n",
              "      <td>$14,024.68</td>\n",
              "    </tr>\n",
              "    <tr>\n",
              "      <th>Our Community CU</th>\n",
              "      <td>$713,945.83</td>\n",
              "      <td>$35,697.29</td>\n",
              "      <td>$20,832.50</td>\n",
              "    </tr>\n",
              "    <tr>\n",
              "      <th>First Education FCU</th>\n",
              "      <td>$506,506.94</td>\n",
              "      <td>$13,689.38</td>\n",
              "      <td>$11,443.52</td>\n",
              "    </tr>\n",
              "    <tr>\n",
              "      <th>Sebasticook Valley FCU</th>\n",
              "      <td>$715,925.55</td>\n",
              "      <td>$18,840.15</td>\n",
              "      <td>$11,451.00</td>\n",
              "    </tr>\n",
              "    <tr>\n",
              "      <th>Interstate Unlimited FCU</th>\n",
              "      <td>$346,400.00</td>\n",
              "      <td>$15,060.87</td>\n",
              "      <td>$9,300.00</td>\n",
              "    </tr>\n",
              "    <tr>\n",
              "      <th>Richland State Bank</th>\n",
              "      <td>$332,141.90</td>\n",
              "      <td>$17,481.15</td>\n",
              "      <td>$14,313.47</td>\n",
              "    </tr>\n",
              "    <tr>\n",
              "      <th>Sundown State Bank</th>\n",
              "      <td>$5,869,687.81</td>\n",
              "      <td>$34,325.66</td>\n",
              "      <td>$23,535.80</td>\n",
              "    </tr>\n",
              "    <tr>\n",
              "      <th>Bank of Forest</th>\n",
              "      <td>$3,167,500.00</td>\n",
              "      <td>$26,395.83</td>\n",
              "      <td>$16,250.00</td>\n",
              "    </tr>\n",
              "    <tr>\n",
              "      <th>The Paducah Bank and Trust Company</th>\n",
              "      <td>$20,665,932.00</td>\n",
              "      <td>$39,438.80</td>\n",
              "      <td>$26,800.00</td>\n",
              "    </tr>\n",
              "    <tr>\n",
              "      <th>First Northeast Bank of Nebraska</th>\n",
              "      <td>$6,827,100.00</td>\n",
              "      <td>$21,006.46</td>\n",
              "      <td>$12,800.00</td>\n",
              "    </tr>\n",
              "    <tr>\n",
              "      <th>Wasatch Peaks FCU</th>\n",
              "      <td>$9,713,234.26</td>\n",
              "      <td>$33,844.02</td>\n",
              "      <td>$20,832.00</td>\n",
              "    </tr>\n",
              "    <tr>\n",
              "      <th>Red River Bank</th>\n",
              "      <td>$48,246,683.00</td>\n",
              "      <td>$43,270.57</td>\n",
              "      <td>$29,700.00</td>\n",
              "    </tr>\n",
              "    <tr>\n",
              "      <th>First Federal Savings &amp; Loan Association of Delta</th>\n",
              "      <td>$1,834,799.00</td>\n",
              "      <td>$35,284.60</td>\n",
              "      <td>$20,663.00</td>\n",
              "    </tr>\n",
              "    <tr>\n",
              "      <th>The First State Bank of Rosemount</th>\n",
              "      <td>$5,203,688.00</td>\n",
              "      <td>$26,685.58</td>\n",
              "      <td>$15,119.00</td>\n",
              "    </tr>\n",
              "  </tbody>\n",
              "</table>\n",
              "</div>"
            ],
            "text/plain": [
              "                                                         Loan Sum Average Loan Median Loan\n",
              "Bank                                                                                      \n",
              "Caribe FCU                                            $379,208.67   $13,076.16   $8,571.87\n",
              "The Bank of Marion                                 $10,279,667.65   $24,130.68  $14,825.00\n",
              "Merchants & Farmers Bank                               $66,559.99    $3,915.29   $3,819.80\n",
              "State Bank of Table Rock                            $1,996,518.00   $14,680.28   $7,009.68\n",
              "Texas Heritage Bank                                 $9,949,895.99   $38,268.83  $20,800.00\n",
              "Vast Bank                                          $13,109,374.77   $32,773.44  $20,833.00\n",
              "Clackamas County Bank                               $5,024,776.01   $43,317.03  $35,244.05\n",
              "SmartBank                                          $88,526,396.23   $36,855.29  $21,400.00\n",
              "The Millyard Bank                                   $6,857,200.00   $42,857.50  $29,250.00\n",
              "Belco Community CU                                  $2,830,943.71   $37,249.26  $22,726.97\n",
              "The Commercial and Savings Bank of Millersburg     $22,805,252.00   $35,356.98  $21,900.00\n",
              "Sunstate Bank                                       $8,597,851.56   $25,066.62  $11,457.50\n",
              "County National Bank                               $34,003,633.24   $43,482.91  $30,796.00\n",
              "The National Capital Bank of Washington            $12,072,037.04   $46,253.02  $31,667.00\n",
              "Financial Security Bank                             $7,018,950.00   $29,615.82  $19,000.00\n",
              "AMG National Trust Bank                             $1,804,981.88   $66,851.18  $62,392.00\n",
              "Fairmont FCU                                        $1,554,431.04   $25,071.47  $14,024.68\n",
              "Our Community CU                                      $713,945.83   $35,697.29  $20,832.50\n",
              "First Education FCU                                   $506,506.94   $13,689.38  $11,443.52\n",
              "Sebasticook Valley FCU                                $715,925.55   $18,840.15  $11,451.00\n",
              "Interstate Unlimited FCU                              $346,400.00   $15,060.87   $9,300.00\n",
              "Richland State Bank                                   $332,141.90   $17,481.15  $14,313.47\n",
              "Sundown State Bank                                  $5,869,687.81   $34,325.66  $23,535.80\n",
              "Bank of Forest                                      $3,167,500.00   $26,395.83  $16,250.00\n",
              "The Paducah Bank and Trust Company                 $20,665,932.00   $39,438.80  $26,800.00\n",
              "First Northeast Bank of Nebraska                    $6,827,100.00   $21,006.46  $12,800.00\n",
              "Wasatch Peaks FCU                                   $9,713,234.26   $33,844.02  $20,832.00\n",
              "Red River Bank                                     $48,246,683.00   $43,270.57  $29,700.00\n",
              "First Federal Savings & Loan Association of Delta   $1,834,799.00   $35,284.60  $20,663.00\n",
              "The First State Bank of Rosemount                   $5,203,688.00   $26,685.58  $15,119.00"
            ]
          },
          "metadata": {
            "tags": []
          },
          "execution_count": 293
        }
      ]
    },
    {
      "cell_type": "code",
      "metadata": {
        "id": "cE1541BUPzzO",
        "colab_type": "code",
        "colab": {}
      },
      "source": [
        "#csv of bank summary\n",
        "banks_summary_df.to_csv('banks_summary_df.csv', index=True)\n",
        "!cp banks_summary_df.csv \"drive/My Drive/\""
      ],
      "execution_count": 294,
      "outputs": []
    },
    {
      "cell_type": "code",
      "metadata": {
        "id": "KymMCXR_hqsi",
        "colab_type": "code",
        "colab": {
          "base_uri": "https://localhost:8080/",
          "height": 312
        },
        "outputId": "50df4b31-c269-4175-9786-e8c4c2a0c9cb"
      },
      "source": [
        "#some of the top institutions by state that considering they are regional have a relatively large percentage of the loans\n",
        "# for example OH - Huntington bank did 3.3% of the loan count for this dataset Mississippi\n",
        "top_bks_state=df.groupby('State')['Bank'].value_counts().nlargest(15)\n",
        "top_bks_state"
      ],
      "execution_count": 295,
      "outputs": [
        {
          "output_type": "execute_result",
          "data": {
            "text/plain": [
              "State  Bank                        \n",
              "CA     Bank of America                 77027\n",
              "FL     Bank of America                 48095\n",
              "CA     Wells Fargo Bank                47562\n",
              "NY     JPMorgan Chase Bank             42576\n",
              "CA     JPMorgan Chase Bank             39719\n",
              "       Cross River Bank                26682\n",
              "       Celtic Bank Corporation         24851\n",
              "       Customers Bank                  24215\n",
              "FL     Kabbage                         24201\n",
              "       Wells Fargo Bank                23432\n",
              "TX     Bank of America                 22991\n",
              "       JPMorgan Chase Bank             22272\n",
              "CA     U.S. Bank                       22009\n",
              "PR     Banco Popular de Puerto Rico    20200\n",
              "FL     Celtic Bank Corporation         18113\n",
              "Name: Bank, dtype: int64"
            ]
          },
          "metadata": {
            "tags": []
          },
          "execution_count": 295
        }
      ]
    },
    {
      "cell_type": "code",
      "metadata": {
        "id": "9n-T2q6F-xH-",
        "colab_type": "code",
        "colab": {}
      },
      "source": [
        "#send top bank summary to csv\n",
        "top_bks_state.to_csv('top_bks_state.csv', index=True)\n",
        "!cp top_bks_state.csv \"drive/My Drive/\""
      ],
      "execution_count": 296,
      "outputs": []
    },
    {
      "cell_type": "markdown",
      "metadata": {
        "id": "j86K53ep-Hso",
        "colab_type": "text"
      },
      "source": [
        "Business Category overview"
      ]
    },
    {
      "cell_type": "code",
      "metadata": {
        "id": "NkahrkRLkiD9",
        "colab_type": "code",
        "colab": {
          "base_uri": "https://localhost:8080/",
          "height": 138
        },
        "outputId": "34ee8fce-0e29-4b4f-9213-16c773fd8bcc"
      },
      "source": [
        "#sum of loans by category\n",
        "loans_cat=df.groupby('description')['Loan Amount'].sum()\n",
        "loans_cat.head()"
      ],
      "execution_count": 297,
      "outputs": [
        {
          "output_type": "execute_result",
          "data": {
            "text/plain": [
              "description\n",
              "Accommodation and Food Services             1.359828e+10\n",
              "Agriculture Forestry Fishing and Hunting    3.255056e+09\n",
              "Arts Entertainment and Recreation           3.011095e+09\n",
              "Construction                                1.436251e+10\n",
              "Educational Services                        2.015011e+09\n",
              "Name: Loan Amount, dtype: float64"
            ]
          },
          "metadata": {
            "tags": []
          },
          "execution_count": 297
        }
      ]
    },
    {
      "cell_type": "code",
      "metadata": {
        "id": "KRRMRQoNwTae",
        "colab_type": "code",
        "colab": {
          "base_uri": "https://localhost:8080/",
          "height": 138
        },
        "outputId": "a9c294de-6eee-45a5-a83c-37430faeeb2e"
      },
      "source": [
        "#sum of jobs saved by category\n",
        "jobs_cat=df.groupby('description')['Jobs Saved'].sum()\n",
        "jobs_cat.head()"
      ],
      "execution_count": 298,
      "outputs": [
        {
          "output_type": "execute_result",
          "data": {
            "text/plain": [
              "description\n",
              "Accommodation and Food Services             2754502\n",
              "Agriculture Forestry Fishing and Hunting     393149\n",
              "Arts Entertainment and Recreation            511966\n",
              "Construction                                1407955\n",
              "Educational Services                         314071\n",
              "Name: Jobs Saved, dtype: int64"
            ]
          },
          "metadata": {
            "tags": []
          },
          "execution_count": 298
        }
      ]
    },
    {
      "cell_type": "code",
      "metadata": {
        "id": "ACtIpTX8wtwt",
        "colab_type": "code",
        "colab": {
          "base_uri": "https://localhost:8080/",
          "height": 138
        },
        "outputId": "98bae60b-4f8e-46e0-9a58-206806d3d241"
      },
      "source": [
        "#median loan by category\n",
        "median_cat=df.groupby('description')['Loan Amount'].median()\n",
        "median_cat.head()"
      ],
      "execution_count": 299,
      "outputs": [
        {
          "output_type": "execute_result",
          "data": {
            "text/plain": [
              "description\n",
              "Accommodation and Food Services             32118.0\n",
              "Agriculture Forestry Fishing and Hunting    15416.0\n",
              "Arts Entertainment and Recreation           17050.0\n",
              "Construction                                23750.0\n",
              "Educational Services                        17435.0\n",
              "Name: Loan Amount, dtype: float64"
            ]
          },
          "metadata": {
            "tags": []
          },
          "execution_count": 299
        }
      ]
    },
    {
      "cell_type": "code",
      "metadata": {
        "id": "Lk44wXoHwt_k",
        "colab_type": "code",
        "colab": {
          "base_uri": "https://localhost:8080/",
          "height": 138
        },
        "outputId": "891808d4-9a0c-43e4-dfec-b3fd5c102397"
      },
      "source": [
        "#average loan by category \n",
        "mean_cat=df.groupby('description')['Loan Amount'].mean()\n",
        "mean_cat.head()"
      ],
      "execution_count": 300,
      "outputs": [
        {
          "output_type": "execute_result",
          "data": {
            "text/plain": [
              "description\n",
              "Accommodation and Food Services             44024.330917\n",
              "Agriculture Forestry Fishing and Hunting    25161.800218\n",
              "Arts Entertainment and Recreation           27790.187468\n",
              "Construction                                37777.101309\n",
              "Educational Services                        29875.476607\n",
              "Name: Loan Amount, dtype: float64"
            ]
          },
          "metadata": {
            "tags": []
          },
          "execution_count": 300
        }
      ]
    },
    {
      "cell_type": "code",
      "metadata": {
        "id": "GEmktleaxSn3",
        "colab_type": "code",
        "colab": {
          "base_uri": "https://localhost:8080/",
          "height": 233
        },
        "outputId": "7a71ad8e-0fd3-4d72-ba70-2fbd5a4e8ef2"
      },
      "source": [
        "#summary category table\n",
        "category_summary_df=pd.DataFrame({\n",
        "    'Jobs Saved' : jobs_cat,\n",
        "    'Median Loan' : median_cat,\n",
        "    'Average Loan' : mean_cat,\n",
        "    'Total Loans': loans_cat,\n",
        "  \n",
        "})\n",
        "category_summary_df.head()"
      ],
      "execution_count": 301,
      "outputs": [
        {
          "output_type": "execute_result",
          "data": {
            "text/html": [
              "<div>\n",
              "<style scoped>\n",
              "    .dataframe tbody tr th:only-of-type {\n",
              "        vertical-align: middle;\n",
              "    }\n",
              "\n",
              "    .dataframe tbody tr th {\n",
              "        vertical-align: top;\n",
              "    }\n",
              "\n",
              "    .dataframe thead th {\n",
              "        text-align: right;\n",
              "    }\n",
              "</style>\n",
              "<table border=\"1\" class=\"dataframe\">\n",
              "  <thead>\n",
              "    <tr style=\"text-align: right;\">\n",
              "      <th></th>\n",
              "      <th>Jobs Saved</th>\n",
              "      <th>Median Loan</th>\n",
              "      <th>Average Loan</th>\n",
              "      <th>Total Loans</th>\n",
              "    </tr>\n",
              "    <tr>\n",
              "      <th>description</th>\n",
              "      <th></th>\n",
              "      <th></th>\n",
              "      <th></th>\n",
              "      <th></th>\n",
              "    </tr>\n",
              "  </thead>\n",
              "  <tbody>\n",
              "    <tr>\n",
              "      <th>Accommodation and Food Services</th>\n",
              "      <td>2754502</td>\n",
              "      <td>32118.0</td>\n",
              "      <td>44024.330917</td>\n",
              "      <td>1.359828e+10</td>\n",
              "    </tr>\n",
              "    <tr>\n",
              "      <th>Agriculture Forestry Fishing and Hunting</th>\n",
              "      <td>393149</td>\n",
              "      <td>15416.0</td>\n",
              "      <td>25161.800218</td>\n",
              "      <td>3.255056e+09</td>\n",
              "    </tr>\n",
              "    <tr>\n",
              "      <th>Arts Entertainment and Recreation</th>\n",
              "      <td>511966</td>\n",
              "      <td>17050.0</td>\n",
              "      <td>27790.187468</td>\n",
              "      <td>3.011095e+09</td>\n",
              "    </tr>\n",
              "    <tr>\n",
              "      <th>Construction</th>\n",
              "      <td>1407955</td>\n",
              "      <td>23750.0</td>\n",
              "      <td>37777.101309</td>\n",
              "      <td>1.436251e+10</td>\n",
              "    </tr>\n",
              "    <tr>\n",
              "      <th>Educational Services</th>\n",
              "      <td>314071</td>\n",
              "      <td>17435.0</td>\n",
              "      <td>29875.476607</td>\n",
              "      <td>2.015011e+09</td>\n",
              "    </tr>\n",
              "  </tbody>\n",
              "</table>\n",
              "</div>"
            ],
            "text/plain": [
              "                                          Jobs Saved  Median Loan  Average Loan   Total Loans\n",
              "description                                                                                  \n",
              "Accommodation and Food Services              2754502      32118.0  44024.330917  1.359828e+10\n",
              "Agriculture Forestry Fishing and Hunting      393149      15416.0  25161.800218  3.255056e+09\n",
              "Arts Entertainment and Recreation             511966      17050.0  27790.187468  3.011095e+09\n",
              "Construction                                 1407955      23750.0  37777.101309  1.436251e+10\n",
              "Educational Services                          314071      17435.0  29875.476607  2.015011e+09"
            ]
          },
          "metadata": {
            "tags": []
          },
          "execution_count": 301
        }
      ]
    },
    {
      "cell_type": "markdown",
      "metadata": {
        "id": "UIJaFTmfkuRe",
        "colab_type": "text"
      },
      "source": [
        "No surprise - Hospitality industry seemed to take the biggest hit with Construction and Health Care loans the next highest number of jobs saved. Seemingly unexpected are Professional and Technical Services and Waste Management which may deserve a \"look under the hood\"."
      ]
    },
    {
      "cell_type": "markdown",
      "metadata": {
        "id": "EmPxmX_fi46z",
        "colab_type": "text"
      },
      "source": [
        ""
      ]
    },
    {
      "cell_type": "code",
      "metadata": {
        "id": "2DQF0fHZxSsr",
        "colab_type": "code",
        "colab": {
          "base_uri": "https://localhost:8080/",
          "height": 693
        },
        "outputId": "df24eef3-4a37-4e0a-e01e-a747706ff209"
      },
      "source": [
        "#formatting\n",
        "category_summary_df['Jobs Saved'] = category_summary_df.loc[:,'Jobs Saved'].map(\"{:,}\".format)\n",
        "category_summary_df['Median Loan'] = category_summary_df.loc[:,'Median Loan'].map(\"${:,.2f}\".format)\n",
        "category_summary_df['Average Loan'] = category_summary_df.loc[:,'Average Loan'].map(\"${:,.2f}\".format)\n",
        "category_summary_df['Total Loans'] = category_summary_df.loc[:,'Total Loans'].map(\"${:,.2f}\".format)\n",
        "category_summary_df.head(30)"
      ],
      "execution_count": 302,
      "outputs": [
        {
          "output_type": "execute_result",
          "data": {
            "text/html": [
              "<div>\n",
              "<style scoped>\n",
              "    .dataframe tbody tr th:only-of-type {\n",
              "        vertical-align: middle;\n",
              "    }\n",
              "\n",
              "    .dataframe tbody tr th {\n",
              "        vertical-align: top;\n",
              "    }\n",
              "\n",
              "    .dataframe thead th {\n",
              "        text-align: right;\n",
              "    }\n",
              "</style>\n",
              "<table border=\"1\" class=\"dataframe\">\n",
              "  <thead>\n",
              "    <tr style=\"text-align: right;\">\n",
              "      <th></th>\n",
              "      <th>Jobs Saved</th>\n",
              "      <th>Median Loan</th>\n",
              "      <th>Average Loan</th>\n",
              "      <th>Total Loans</th>\n",
              "    </tr>\n",
              "    <tr>\n",
              "      <th>description</th>\n",
              "      <th></th>\n",
              "      <th></th>\n",
              "      <th></th>\n",
              "      <th></th>\n",
              "    </tr>\n",
              "  </thead>\n",
              "  <tbody>\n",
              "    <tr>\n",
              "      <th>Accommodation and Food Services</th>\n",
              "      <td>2,754,502</td>\n",
              "      <td>$32,118.00</td>\n",
              "      <td>$44,024.33</td>\n",
              "      <td>$13,598,279,357.97</td>\n",
              "    </tr>\n",
              "    <tr>\n",
              "      <th>Agriculture Forestry Fishing and Hunting</th>\n",
              "      <td>393,149</td>\n",
              "      <td>$15,416.00</td>\n",
              "      <td>$25,161.80</td>\n",
              "      <td>$3,255,056,285.20</td>\n",
              "    </tr>\n",
              "    <tr>\n",
              "      <th>Arts Entertainment and Recreation</th>\n",
              "      <td>511,966</td>\n",
              "      <td>$17,050.00</td>\n",
              "      <td>$27,790.19</td>\n",
              "      <td>$3,011,094,602.34</td>\n",
              "    </tr>\n",
              "    <tr>\n",
              "      <th>Construction</th>\n",
              "      <td>1,407,955</td>\n",
              "      <td>$23,750.00</td>\n",
              "      <td>$37,777.10</td>\n",
              "      <td>$14,362,513,923.89</td>\n",
              "    </tr>\n",
              "    <tr>\n",
              "      <th>Educational Services</th>\n",
              "      <td>314,071</td>\n",
              "      <td>$17,435.00</td>\n",
              "      <td>$29,875.48</td>\n",
              "      <td>$2,015,011,270.73</td>\n",
              "    </tr>\n",
              "    <tr>\n",
              "      <th>Finance and Insurance</th>\n",
              "      <td>414,021</td>\n",
              "      <td>$20,832.50</td>\n",
              "      <td>$31,330.23</td>\n",
              "      <td>$4,851,674,289.75</td>\n",
              "    </tr>\n",
              "    <tr>\n",
              "      <th>Health Care and Social Assistance</th>\n",
              "      <td>2,022,888</td>\n",
              "      <td>$29,626.50</td>\n",
              "      <td>$42,291.92</td>\n",
              "      <td>$17,851,164,400.12</td>\n",
              "    </tr>\n",
              "    <tr>\n",
              "      <th>Information</th>\n",
              "      <td>176,588</td>\n",
              "      <td>$20,800.00</td>\n",
              "      <td>$32,883.62</td>\n",
              "      <td>$1,892,287,772.44</td>\n",
              "    </tr>\n",
              "    <tr>\n",
              "      <th>Management of Companies and Enterprises</th>\n",
              "      <td>28,959</td>\n",
              "      <td>$23,149.00</td>\n",
              "      <td>$37,915.48</td>\n",
              "      <td>$274,318,529.65</td>\n",
              "    </tr>\n",
              "    <tr>\n",
              "      <th>Manufacturing food related</th>\n",
              "      <td>193,273</td>\n",
              "      <td>$24,400.00</td>\n",
              "      <td>$38,122.65</td>\n",
              "      <td>$1,356,289,607.66</td>\n",
              "    </tr>\n",
              "    <tr>\n",
              "      <th>Manufacturing hard materials</th>\n",
              "      <td>394,057</td>\n",
              "      <td>$34,500.00</td>\n",
              "      <td>$47,142.66</td>\n",
              "      <td>$4,075,388,914.23</td>\n",
              "    </tr>\n",
              "    <tr>\n",
              "      <th>Manufacturing soft materials</th>\n",
              "      <td>182,131</td>\n",
              "      <td>$31,588.00</td>\n",
              "      <td>$44,615.54</td>\n",
              "      <td>$1,723,855,217.61</td>\n",
              "    </tr>\n",
              "    <tr>\n",
              "      <th>Mining</th>\n",
              "      <td>53,526</td>\n",
              "      <td>$20,833.32</td>\n",
              "      <td>$37,766.22</td>\n",
              "      <td>$618,799,449.61</td>\n",
              "    </tr>\n",
              "    <tr>\n",
              "      <th>Professional Scientific and Technical Services</th>\n",
              "      <td>1,506,918</td>\n",
              "      <td>$20,800.00</td>\n",
              "      <td>$32,139.02</td>\n",
              "      <td>$17,799,198,126.73</td>\n",
              "    </tr>\n",
              "    <tr>\n",
              "      <th>Real Estate Rental and Leasing</th>\n",
              "      <td>542,741</td>\n",
              "      <td>$17,702.00</td>\n",
              "      <td>$25,674.29</td>\n",
              "      <td>$5,845,470,524.20</td>\n",
              "    </tr>\n",
              "    <tr>\n",
              "      <th>Retail Trade</th>\n",
              "      <td>1,617,699</td>\n",
              "      <td>$20,000.00</td>\n",
              "      <td>$31,534.61</td>\n",
              "      <td>$12,585,369,215.19</td>\n",
              "    </tr>\n",
              "    <tr>\n",
              "      <th>Transportation and Warehousing</th>\n",
              "      <td>474,487</td>\n",
              "      <td>$14,116.00</td>\n",
              "      <td>$25,852.22</td>\n",
              "      <td>$4,370,782,529.10</td>\n",
              "    </tr>\n",
              "    <tr>\n",
              "      <th>Utilities</th>\n",
              "      <td>25,917</td>\n",
              "      <td>$28,595.92</td>\n",
              "      <td>$42,284.41</td>\n",
              "      <td>$259,118,840.74</td>\n",
              "    </tr>\n",
              "    <tr>\n",
              "      <th>Waste Management and Remediation Services</th>\n",
              "      <td>830,888</td>\n",
              "      <td>$20,250.00</td>\n",
              "      <td>$32,293.73</td>\n",
              "      <td>$6,726,750,820.31</td>\n",
              "    </tr>\n",
              "    <tr>\n",
              "      <th>Wholesale Trade</th>\n",
              "      <td>532,675</td>\n",
              "      <td>$26,912.50</td>\n",
              "      <td>$41,184.68</td>\n",
              "      <td>$5,333,292,521.87</td>\n",
              "    </tr>\n",
              "  </tbody>\n",
              "</table>\n",
              "</div>"
            ],
            "text/plain": [
              "                                               Jobs Saved Median Loan Average Loan         Total Loans\n",
              "description                                                                                           \n",
              "Accommodation and Food Services                 2,754,502  $32,118.00   $44,024.33  $13,598,279,357.97\n",
              "Agriculture Forestry Fishing and Hunting          393,149  $15,416.00   $25,161.80   $3,255,056,285.20\n",
              "Arts Entertainment and Recreation                 511,966  $17,050.00   $27,790.19   $3,011,094,602.34\n",
              "Construction                                    1,407,955  $23,750.00   $37,777.10  $14,362,513,923.89\n",
              "Educational Services                              314,071  $17,435.00   $29,875.48   $2,015,011,270.73\n",
              "Finance and Insurance                             414,021  $20,832.50   $31,330.23   $4,851,674,289.75\n",
              "Health Care and Social Assistance               2,022,888  $29,626.50   $42,291.92  $17,851,164,400.12\n",
              "Information                                       176,588  $20,800.00   $32,883.62   $1,892,287,772.44\n",
              "Management of Companies and Enterprises            28,959  $23,149.00   $37,915.48     $274,318,529.65\n",
              "Manufacturing food related                        193,273  $24,400.00   $38,122.65   $1,356,289,607.66\n",
              "Manufacturing hard materials                      394,057  $34,500.00   $47,142.66   $4,075,388,914.23\n",
              "Manufacturing soft materials                      182,131  $31,588.00   $44,615.54   $1,723,855,217.61\n",
              "Mining                                             53,526  $20,833.32   $37,766.22     $618,799,449.61\n",
              "Professional Scientific and Technical Services  1,506,918  $20,800.00   $32,139.02  $17,799,198,126.73\n",
              "Real Estate Rental and Leasing                    542,741  $17,702.00   $25,674.29   $5,845,470,524.20\n",
              "Retail Trade                                    1,617,699  $20,000.00   $31,534.61  $12,585,369,215.19\n",
              "Transportation and Warehousing                    474,487  $14,116.00   $25,852.22   $4,370,782,529.10\n",
              "Utilities                                          25,917  $28,595.92   $42,284.41     $259,118,840.74\n",
              "Waste Management and Remediation Services         830,888  $20,250.00   $32,293.73   $6,726,750,820.31\n",
              "Wholesale Trade                                   532,675  $26,912.50   $41,184.68   $5,333,292,521.87"
            ]
          },
          "metadata": {
            "tags": []
          },
          "execution_count": 302
        }
      ]
    },
    {
      "cell_type": "code",
      "metadata": {
        "id": "rT7RP1CxwUA9",
        "colab_type": "code",
        "colab": {}
      },
      "source": [
        "#save to csv and will convert to a table in SQL / Tableau for further analysis \n",
        "category_summary_df.to_csv('category_summary.csv', index=True)\n",
        "!cp category_summary.csv \"drive/My Drive/\""
      ],
      "execution_count": 303,
      "outputs": []
    },
    {
      "cell_type": "markdown",
      "metadata": {
        "id": "Aw20zAVj_vnV",
        "colab_type": "text"
      },
      "source": [
        "Adding columns for day of the week and percentiles\n",
        "\n"
      ]
    },
    {
      "cell_type": "code",
      "metadata": {
        "id": "TKt4zPyuA9ko",
        "colab_type": "code",
        "colab": {
          "base_uri": "https://localhost:8080/",
          "height": 169
        },
        "outputId": "1380836f-8eb4-4461-8113-6370c4eacb43"
      },
      "source": [
        "# df['Loan PCL']=pd.qcut(df['Loan Amount'], q=10)\n",
        "\n",
        "bin_labels_10= ['10%', '20%', '30%', '40%', '50%', '60%', '70%', '80%', '90%' ]\n",
        "df['Loan Percentile'] = pd.qcut(df['Loan Amount'],\n",
        "                              q=[0,  .10, .20, .30, .40, .50, .60, .70, .80, 1],\n",
        "                              labels=bin_labels_10)\n",
        "df.sample()"
      ],
      "execution_count": 304,
      "outputs": [
        {
          "output_type": "execute_result",
          "data": {
            "text/html": [
              "<div>\n",
              "<style scoped>\n",
              "    .dataframe tbody tr th:only-of-type {\n",
              "        vertical-align: middle;\n",
              "    }\n",
              "\n",
              "    .dataframe tbody tr th {\n",
              "        vertical-align: top;\n",
              "    }\n",
              "\n",
              "    .dataframe thead th {\n",
              "        text-align: right;\n",
              "    }\n",
              "</style>\n",
              "<table border=\"1\" class=\"dataframe\">\n",
              "  <thead>\n",
              "    <tr style=\"text-align: right;\">\n",
              "      <th></th>\n",
              "      <th>Loan Amount</th>\n",
              "      <th>City</th>\n",
              "      <th>State</th>\n",
              "      <th>Zip</th>\n",
              "      <th>NAICS Code</th>\n",
              "      <th>Business Type</th>\n",
              "      <th>Race</th>\n",
              "      <th>Gender</th>\n",
              "      <th>Veteran</th>\n",
              "      <th>Jobs Saved</th>\n",
              "      <th>Date</th>\n",
              "      <th>Bank</th>\n",
              "      <th>NAICS Category</th>\n",
              "      <th>Title</th>\n",
              "      <th>Description</th>\n",
              "      <th>description</th>\n",
              "      <th>Loan Percentile</th>\n",
              "    </tr>\n",
              "  </thead>\n",
              "  <tbody>\n",
              "    <tr>\n",
              "      <th>2869096</th>\n",
              "      <td>23162.65</td>\n",
              "      <td>BELLAIRE</td>\n",
              "      <td>TX</td>\n",
              "      <td>77401</td>\n",
              "      <td>11111</td>\n",
              "      <td>Subchapter S Corporation</td>\n",
              "      <td>Unanswered</td>\n",
              "      <td>Unanswered</td>\n",
              "      <td>Unanswered</td>\n",
              "      <td>1</td>\n",
              "      <td>2020-04-27</td>\n",
              "      <td>Allegiance Bank</td>\n",
              "      <td>11</td>\n",
              "      <td>Soybean FarmingT</td>\n",
              "      <td>See industry description for 111110.</td>\n",
              "      <td>Agriculture Forestry Fishing and Hunting</td>\n",
              "      <td>60%</td>\n",
              "    </tr>\n",
              "  </tbody>\n",
              "</table>\n",
              "</div>"
            ],
            "text/plain": [
              "         Loan Amount      City State    Zip NAICS Code             Business Type        Race      Gender     Veteran  Jobs Saved       Date             Bank NAICS Category             Title                           Description                               description Loan Percentile\n",
              "2869096     23162.65  BELLAIRE    TX  77401      11111  Subchapter S Corporation  Unanswered  Unanswered  Unanswered           1 2020-04-27  Allegiance Bank             11  Soybean FarmingT  See industry description for 111110.  Agriculture Forestry Fishing and Hunting             60%"
            ]
          },
          "metadata": {
            "tags": []
          },
          "execution_count": 304
        }
      ]
    },
    {
      "cell_type": "code",
      "metadata": {
        "id": "BRptlYzWTblw",
        "colab_type": "code",
        "colab": {
          "base_uri": "https://localhost:8080/",
          "height": 186
        },
        "outputId": "fb22fc8f-699e-4ab0-cb7e-524ad393f3e4"
      },
      "source": [
        "#binning quartiles\n",
        "bin_labels_4 = ['25%', '45%', '50%', '75%', ]\n",
        "df['Loan Quartile'] = pd.qcut(df['Loan Amount'],\n",
        "                              q=[0, .25, .50, .75, 1],\n",
        "                              labels=bin_labels_4)\n",
        "df.sample()"
      ],
      "execution_count": 305,
      "outputs": [
        {
          "output_type": "execute_result",
          "data": {
            "text/html": [
              "<div>\n",
              "<style scoped>\n",
              "    .dataframe tbody tr th:only-of-type {\n",
              "        vertical-align: middle;\n",
              "    }\n",
              "\n",
              "    .dataframe tbody tr th {\n",
              "        vertical-align: top;\n",
              "    }\n",
              "\n",
              "    .dataframe thead th {\n",
              "        text-align: right;\n",
              "    }\n",
              "</style>\n",
              "<table border=\"1\" class=\"dataframe\">\n",
              "  <thead>\n",
              "    <tr style=\"text-align: right;\">\n",
              "      <th></th>\n",
              "      <th>Loan Amount</th>\n",
              "      <th>City</th>\n",
              "      <th>State</th>\n",
              "      <th>Zip</th>\n",
              "      <th>NAICS Code</th>\n",
              "      <th>Business Type</th>\n",
              "      <th>Race</th>\n",
              "      <th>Gender</th>\n",
              "      <th>Veteran</th>\n",
              "      <th>Jobs Saved</th>\n",
              "      <th>Date</th>\n",
              "      <th>Bank</th>\n",
              "      <th>NAICS Category</th>\n",
              "      <th>Title</th>\n",
              "      <th>Description</th>\n",
              "      <th>description</th>\n",
              "      <th>Loan Percentile</th>\n",
              "      <th>Loan Quartile</th>\n",
              "    </tr>\n",
              "  </thead>\n",
              "  <tbody>\n",
              "    <tr>\n",
              "      <th>3543880</th>\n",
              "      <td>21600.0</td>\n",
              "      <td>COQUILLE</td>\n",
              "      <td>OR</td>\n",
              "      <td>97423</td>\n",
              "      <td>333243</td>\n",
              "      <td>Corporation</td>\n",
              "      <td>Unanswered</td>\n",
              "      <td>Unanswered</td>\n",
              "      <td>Unanswered</td>\n",
              "      <td>1</td>\n",
              "      <td>2020-05-11</td>\n",
              "      <td>Banner Bank</td>\n",
              "      <td>33</td>\n",
              "      <td>Sawmill, Woodworking, and Paper Machinery Manu...</td>\n",
              "      <td>This U.S. industry comprises establishments pr...</td>\n",
              "      <td>Manufacturing hard materials</td>\n",
              "      <td>60%</td>\n",
              "      <td>50%</td>\n",
              "    </tr>\n",
              "  </tbody>\n",
              "</table>\n",
              "</div>"
            ],
            "text/plain": [
              "         Loan Amount      City State    Zip NAICS Code Business Type        Race      Gender     Veteran  Jobs Saved       Date         Bank NAICS Category                                              Title                                        Description                   description Loan Percentile Loan Quartile\n",
              "3543880      21600.0  COQUILLE    OR  97423     333243   Corporation  Unanswered  Unanswered  Unanswered           1 2020-05-11  Banner Bank             33  Sawmill, Woodworking, and Paper Machinery Manu...  This U.S. industry comprises establishments pr...  Manufacturing hard materials             60%           50%"
            ]
          },
          "metadata": {
            "tags": []
          },
          "execution_count": 305
        }
      ]
    },
    {
      "cell_type": "code",
      "metadata": {
        "id": "9s3aaf3Sjj0e",
        "colab_type": "code",
        "colab": {
          "base_uri": "https://localhost:8080/",
          "height": 190
        },
        "outputId": "07d38567-2653-4d70-a3ec-df0559285e56"
      },
      "source": [
        "# loan sum by state\n",
        "sum_by_state=df.groupby('State',)['Loan Amount'].sum() \n",
        "sum_by_state.nlargest(8)"
      ],
      "execution_count": 306,
      "outputs": [
        {
          "output_type": "execute_result",
          "data": {
            "text/plain": [
              "State\n",
              "CA    1.705610e+10\n",
              "TX    1.113183e+10\n",
              "FL    1.049829e+10\n",
              "NY    9.019767e+09\n",
              "IL    5.358123e+09\n",
              "PA    4.886378e+09\n",
              "GA    4.331550e+09\n",
              "NJ    4.168571e+09\n",
              "Name: Loan Amount, dtype: float64"
            ]
          },
          "metadata": {
            "tags": []
          },
          "execution_count": 306
        }
      ]
    },
    {
      "cell_type": "code",
      "metadata": {
        "id": "ZUP9UNIOW33d",
        "colab_type": "code",
        "colab": {
          "base_uri": "https://localhost:8080/",
          "height": 186
        },
        "outputId": "dc4315dc-c177-4b37-f362-1be0a802459f"
      },
      "source": [
        "# day of the week\n",
        "df['DayNUM']= pd.to_datetime(df['Date']).dt.dayofweek\n",
        "df.sample()"
      ],
      "execution_count": 307,
      "outputs": [
        {
          "output_type": "execute_result",
          "data": {
            "text/html": [
              "<div>\n",
              "<style scoped>\n",
              "    .dataframe tbody tr th:only-of-type {\n",
              "        vertical-align: middle;\n",
              "    }\n",
              "\n",
              "    .dataframe tbody tr th {\n",
              "        vertical-align: top;\n",
              "    }\n",
              "\n",
              "    .dataframe thead th {\n",
              "        text-align: right;\n",
              "    }\n",
              "</style>\n",
              "<table border=\"1\" class=\"dataframe\">\n",
              "  <thead>\n",
              "    <tr style=\"text-align: right;\">\n",
              "      <th></th>\n",
              "      <th>Loan Amount</th>\n",
              "      <th>City</th>\n",
              "      <th>State</th>\n",
              "      <th>Zip</th>\n",
              "      <th>NAICS Code</th>\n",
              "      <th>Business Type</th>\n",
              "      <th>Race</th>\n",
              "      <th>Gender</th>\n",
              "      <th>Veteran</th>\n",
              "      <th>Jobs Saved</th>\n",
              "      <th>Date</th>\n",
              "      <th>Bank</th>\n",
              "      <th>NAICS Category</th>\n",
              "      <th>Title</th>\n",
              "      <th>Description</th>\n",
              "      <th>description</th>\n",
              "      <th>Loan Percentile</th>\n",
              "      <th>Loan Quartile</th>\n",
              "      <th>DayNUM</th>\n",
              "    </tr>\n",
              "  </thead>\n",
              "  <tbody>\n",
              "    <tr>\n",
              "      <th>1011077</th>\n",
              "      <td>11700.0</td>\n",
              "      <td>WALDOBORO</td>\n",
              "      <td>ME</td>\n",
              "      <td>04572</td>\n",
              "      <td>722511</td>\n",
              "      <td>Subchapter S Corporation</td>\n",
              "      <td>Unanswered</td>\n",
              "      <td>Unanswered</td>\n",
              "      <td>Unanswered</td>\n",
              "      <td>1</td>\n",
              "      <td>2020-05-19</td>\n",
              "      <td>First National Bank</td>\n",
              "      <td>72</td>\n",
              "      <td>Full-Service Restaurants</td>\n",
              "      <td>This U.S. industry comprises establishments pr...</td>\n",
              "      <td>Accommodation and Food Services</td>\n",
              "      <td>30%</td>\n",
              "      <td>45%</td>\n",
              "      <td>1</td>\n",
              "    </tr>\n",
              "  </tbody>\n",
              "</table>\n",
              "</div>"
            ],
            "text/plain": [
              "         Loan Amount       City State    Zip NAICS Code             Business Type        Race      Gender     Veteran  Jobs Saved       Date                 Bank NAICS Category                      Title                                        Description                      description Loan Percentile Loan Quartile  DayNUM\n",
              "1011077      11700.0  WALDOBORO    ME  04572     722511  Subchapter S Corporation  Unanswered  Unanswered  Unanswered           1 2020-05-19  First National Bank             72  Full-Service Restaurants   This U.S. industry comprises establishments pr...  Accommodation and Food Services             30%           45%       1"
            ]
          },
          "metadata": {
            "tags": []
          },
          "execution_count": 307
        }
      ]
    },
    {
      "cell_type": "code",
      "metadata": {
        "id": "U3cw4b7yTbsw",
        "colab_type": "code",
        "colab": {
          "base_uri": "https://localhost:8080/",
          "height": 156
        },
        "outputId": "c0b47099-cad1-4422-f37c-41f49e69923d"
      },
      "source": [
        "# monday most common day for loan issuance\n",
        "df['DayNUM'].value_counts()"
      ],
      "execution_count": 308,
      "outputs": [
        {
          "output_type": "execute_result",
          "data": {
            "text/plain": [
              "1    886508\n",
              "2    760776\n",
              "3    626077\n",
              "0    607724\n",
              "4    553053\n",
              "6    468617\n",
              "5    190333\n",
              "Name: DayNUM, dtype: int64"
            ]
          },
          "metadata": {
            "tags": []
          },
          "execution_count": 308
        }
      ]
    },
    {
      "cell_type": "markdown",
      "metadata": {
        "id": "eRt6t6Mzl1Q5",
        "colab_type": "text"
      },
      "source": [
        "The 90th percentile of loans account for 20% of total in terms of loan amount\n"
      ]
    },
    {
      "cell_type": "code",
      "metadata": {
        "id": "b9iRqp3VNlDl",
        "colab_type": "code",
        "colab": {
          "base_uri": "https://localhost:8080/",
          "height": 104
        },
        "outputId": "cccb5c96-4d9e-4029-ae9d-8af39f3cba11"
      },
      "source": [
        "df['Loan Quartile'].value_counts()"
      ],
      "execution_count": 309,
      "outputs": [
        {
          "output_type": "execute_result",
          "data": {
            "text/plain": [
              "45%    1054786\n",
              "25%    1023298\n",
              "75%    1023086\n",
              "50%     991918\n",
              "Name: Loan Quartile, dtype: int64"
            ]
          },
          "metadata": {
            "tags": []
          },
          "execution_count": 309
        }
      ]
    },
    {
      "cell_type": "code",
      "metadata": {
        "id": "08QLznG4Nla-",
        "colab_type": "code",
        "colab": {
          "base_uri": "https://localhost:8080/",
          "height": 186
        },
        "outputId": "3539fa09-04db-49f1-b66a-834907a1c1bd"
      },
      "source": [
        "# replace numerical representation with day name\n",
        "day_labels= {'0': 'Mon', '1':'Tues', '2' : 'Wed', '3':'Thurs', '4': 'Fri', '5':'Sat', '6' :'Sun'}\n",
        "df['Weekday'] = df['DayNUM'].astype(str).replace(day_labels)\n",
        "df.sample()"
      ],
      "execution_count": 310,
      "outputs": [
        {
          "output_type": "execute_result",
          "data": {
            "text/html": [
              "<div>\n",
              "<style scoped>\n",
              "    .dataframe tbody tr th:only-of-type {\n",
              "        vertical-align: middle;\n",
              "    }\n",
              "\n",
              "    .dataframe tbody tr th {\n",
              "        vertical-align: top;\n",
              "    }\n",
              "\n",
              "    .dataframe thead th {\n",
              "        text-align: right;\n",
              "    }\n",
              "</style>\n",
              "<table border=\"1\" class=\"dataframe\">\n",
              "  <thead>\n",
              "    <tr style=\"text-align: right;\">\n",
              "      <th></th>\n",
              "      <th>Loan Amount</th>\n",
              "      <th>City</th>\n",
              "      <th>State</th>\n",
              "      <th>Zip</th>\n",
              "      <th>NAICS Code</th>\n",
              "      <th>Business Type</th>\n",
              "      <th>Race</th>\n",
              "      <th>Gender</th>\n",
              "      <th>Veteran</th>\n",
              "      <th>Jobs Saved</th>\n",
              "      <th>Date</th>\n",
              "      <th>Bank</th>\n",
              "      <th>NAICS Category</th>\n",
              "      <th>Title</th>\n",
              "      <th>Description</th>\n",
              "      <th>description</th>\n",
              "      <th>Loan Percentile</th>\n",
              "      <th>Loan Quartile</th>\n",
              "      <th>DayNUM</th>\n",
              "      <th>Weekday</th>\n",
              "    </tr>\n",
              "  </thead>\n",
              "  <tbody>\n",
              "    <tr>\n",
              "      <th>229396</th>\n",
              "      <td>10000.0</td>\n",
              "      <td>SPRINGFIELD</td>\n",
              "      <td>IL</td>\n",
              "      <td>62701</td>\n",
              "      <td>722515</td>\n",
              "      <td>Limited  Liability Company(LLC)</td>\n",
              "      <td>Unanswered</td>\n",
              "      <td>Unanswered</td>\n",
              "      <td>Unanswered</td>\n",
              "      <td>1</td>\n",
              "      <td>2020-04-14</td>\n",
              "      <td>INB</td>\n",
              "      <td>72</td>\n",
              "      <td>Snack and Nonalcoholic Beverage Bars</td>\n",
              "      <td>This U.S. industry comprises establishments pr...</td>\n",
              "      <td>Accommodation and Food Services</td>\n",
              "      <td>30%</td>\n",
              "      <td>45%</td>\n",
              "      <td>1</td>\n",
              "      <td>Tues</td>\n",
              "    </tr>\n",
              "  </tbody>\n",
              "</table>\n",
              "</div>"
            ],
            "text/plain": [
              "        Loan Amount         City State    Zip NAICS Code                    Business Type        Race      Gender     Veteran  Jobs Saved       Date Bank NAICS Category                                  Title                                        Description                      description Loan Percentile Loan Quartile  DayNUM Weekday\n",
              "229396      10000.0  SPRINGFIELD    IL  62701     722515  Limited  Liability Company(LLC)  Unanswered  Unanswered  Unanswered           1 2020-04-14  INB             72  Snack and Nonalcoholic Beverage Bars   This U.S. industry comprises establishments pr...  Accommodation and Food Services             30%           45%       1    Tues"
            ]
          },
          "metadata": {
            "tags": []
          },
          "execution_count": 310
        }
      ]
    },
    {
      "cell_type": "code",
      "metadata": {
        "id": "-Usyll_7ixmZ",
        "colab_type": "code",
        "colab": {
          "base_uri": "https://localhost:8080/",
          "height": 152
        },
        "outputId": "2a4f81d3-b695-40ad-81ee-562b241fdd24"
      },
      "source": [
        "# shorten names of business types and combine some that are similar such as joint venture and partnership\n",
        "df['Business Type'] = df['Business Type'].replace({'Limited  Liability Company(LLC)':'LLC', \n",
        "                                                   'Subchapter S Corporation': 'S Corp', \n",
        "                                                   'Self-Employed Individuals':'Self Employed', \n",
        "                                                   'Independent Contractors' : 'Self Employed',\n",
        "                                                   'Non-Profit Organization': 'Non-Profit',\n",
        "                                                   'Limited Liability Partnership': 'Partnership',\n",
        "                                                   'Joint Venture':'Partnership'\n",
        "                                                   })\n",
        "df.sample()"
      ],
      "execution_count": 311,
      "outputs": [
        {
          "output_type": "execute_result",
          "data": {
            "text/html": [
              "<div>\n",
              "<style scoped>\n",
              "    .dataframe tbody tr th:only-of-type {\n",
              "        vertical-align: middle;\n",
              "    }\n",
              "\n",
              "    .dataframe tbody tr th {\n",
              "        vertical-align: top;\n",
              "    }\n",
              "\n",
              "    .dataframe thead th {\n",
              "        text-align: right;\n",
              "    }\n",
              "</style>\n",
              "<table border=\"1\" class=\"dataframe\">\n",
              "  <thead>\n",
              "    <tr style=\"text-align: right;\">\n",
              "      <th></th>\n",
              "      <th>Loan Amount</th>\n",
              "      <th>City</th>\n",
              "      <th>State</th>\n",
              "      <th>Zip</th>\n",
              "      <th>NAICS Code</th>\n",
              "      <th>Business Type</th>\n",
              "      <th>Race</th>\n",
              "      <th>Gender</th>\n",
              "      <th>Veteran</th>\n",
              "      <th>Jobs Saved</th>\n",
              "      <th>Date</th>\n",
              "      <th>Bank</th>\n",
              "      <th>NAICS Category</th>\n",
              "      <th>Title</th>\n",
              "      <th>Description</th>\n",
              "      <th>description</th>\n",
              "      <th>Loan Percentile</th>\n",
              "      <th>Loan Quartile</th>\n",
              "      <th>DayNUM</th>\n",
              "      <th>Weekday</th>\n",
              "    </tr>\n",
              "  </thead>\n",
              "  <tbody>\n",
              "    <tr>\n",
              "      <th>2755893</th>\n",
              "      <td>86300.0</td>\n",
              "      <td>AUSTIN</td>\n",
              "      <td>TX</td>\n",
              "      <td>78746</td>\n",
              "      <td>52392</td>\n",
              "      <td>LLC</td>\n",
              "      <td>Unanswered</td>\n",
              "      <td>Unanswered</td>\n",
              "      <td>Unanswered</td>\n",
              "      <td>5</td>\n",
              "      <td>2020-04-05</td>\n",
              "      <td>Horizon Bank</td>\n",
              "      <td>52</td>\n",
              "      <td>Portfolio Management</td>\n",
              "      <td>See industry description for 523920.</td>\n",
              "      <td>Finance and Insurance</td>\n",
              "      <td>90%</td>\n",
              "      <td>75%</td>\n",
              "      <td>6</td>\n",
              "      <td>Sun</td>\n",
              "    </tr>\n",
              "  </tbody>\n",
              "</table>\n",
              "</div>"
            ],
            "text/plain": [
              "         Loan Amount    City State    Zip NAICS Code Business Type        Race      Gender     Veteran  Jobs Saved       Date          Bank NAICS Category                  Title                           Description            description Loan Percentile Loan Quartile  DayNUM Weekday\n",
              "2755893      86300.0  AUSTIN    TX  78746      52392           LLC  Unanswered  Unanswered  Unanswered           5 2020-04-05  Horizon Bank             52  Portfolio Management   See industry description for 523920.  Finance and Insurance             90%           75%       6     Sun"
            ]
          },
          "metadata": {
            "tags": []
          },
          "execution_count": 311
        }
      ]
    },
    {
      "cell_type": "code",
      "metadata": {
        "id": "WKtn9aWAPWZf",
        "colab_type": "code",
        "colab": {
          "base_uri": "https://localhost:8080/",
          "height": 277
        },
        "outputId": "12a11084-809d-4672-f8f2-097ef7ea29cc"
      },
      "source": [
        "# business types by count\n",
        "df['Business Type'].value_counts()"
      ],
      "execution_count": 312,
      "outputs": [
        {
          "output_type": "execute_result",
          "data": {
            "text/plain": [
              "LLC                                    1201328\n",
              "Corporation                            1109556\n",
              "Sole Proprietorship                     676932\n",
              "S Corp                                  575375\n",
              "Self Employed                           285943\n",
              "Non-Profit                              135428\n",
              "Partnership                              82008\n",
              "Professional Association                 18374\n",
              "Cooperative                               4442\n",
              "Non-Profit Childcare Center               1949\n",
              "Trust                                      910\n",
              "Tenant in Common                           495\n",
              "Employee Stock Ownership Plan(ESOP)        329\n",
              "Rollover as Business Start-Ups (ROB         19\n",
              "Name: Business Type, dtype: int64"
            ]
          },
          "metadata": {
            "tags": []
          },
          "execution_count": 312
        }
      ]
    },
    {
      "cell_type": "markdown",
      "metadata": {
        "id": "wkuklWLgBTEg",
        "colab_type": "text"
      },
      "source": [
        "Gender, race and military status explored"
      ]
    },
    {
      "cell_type": "code",
      "metadata": {
        "id": "FchzUF6ghbEF",
        "colab_type": "code",
        "colab": {
          "base_uri": "https://localhost:8080/",
          "height": 86
        },
        "outputId": "de24a768-1757-4e98-d739-5ab958355ac5"
      },
      "source": [
        "df['Gender'].value_counts()"
      ],
      "execution_count": 313,
      "outputs": [
        {
          "output_type": "execute_result",
          "data": {
            "text/plain": [
              "Unanswered      3206594\n",
              "Male Owned       671909\n",
              "Female Owned     214585\n",
              "Name: Gender, dtype: int64"
            ]
          },
          "metadata": {
            "tags": []
          },
          "execution_count": 313
        }
      ]
    },
    {
      "cell_type": "code",
      "metadata": {
        "id": "sJj56n5sifVR",
        "colab_type": "code",
        "colab": {
          "base_uri": "https://localhost:8080/",
          "height": 186
        },
        "outputId": "7df3b2d2-f363-45d1-930d-e95f087ee10d"
      },
      "source": [
        "# gender value shortened \n",
        "df['Gender'] = df['Gender'].replace({'Male Owned':'Male', 'Female Owned': 'Female', })\n",
        "df.sample()"
      ],
      "execution_count": 314,
      "outputs": [
        {
          "output_type": "execute_result",
          "data": {
            "text/html": [
              "<div>\n",
              "<style scoped>\n",
              "    .dataframe tbody tr th:only-of-type {\n",
              "        vertical-align: middle;\n",
              "    }\n",
              "\n",
              "    .dataframe tbody tr th {\n",
              "        vertical-align: top;\n",
              "    }\n",
              "\n",
              "    .dataframe thead th {\n",
              "        text-align: right;\n",
              "    }\n",
              "</style>\n",
              "<table border=\"1\" class=\"dataframe\">\n",
              "  <thead>\n",
              "    <tr style=\"text-align: right;\">\n",
              "      <th></th>\n",
              "      <th>Loan Amount</th>\n",
              "      <th>City</th>\n",
              "      <th>State</th>\n",
              "      <th>Zip</th>\n",
              "      <th>NAICS Code</th>\n",
              "      <th>Business Type</th>\n",
              "      <th>Race</th>\n",
              "      <th>Gender</th>\n",
              "      <th>Veteran</th>\n",
              "      <th>Jobs Saved</th>\n",
              "      <th>Date</th>\n",
              "      <th>Bank</th>\n",
              "      <th>NAICS Category</th>\n",
              "      <th>Title</th>\n",
              "      <th>Description</th>\n",
              "      <th>description</th>\n",
              "      <th>Loan Percentile</th>\n",
              "      <th>Loan Quartile</th>\n",
              "      <th>DayNUM</th>\n",
              "      <th>Weekday</th>\n",
              "    </tr>\n",
              "  </thead>\n",
              "  <tbody>\n",
              "    <tr>\n",
              "      <th>1359932</th>\n",
              "      <td>41070.0</td>\n",
              "      <td>MILLSTONE TOWNSHIP</td>\n",
              "      <td>NJ</td>\n",
              "      <td>08535</td>\n",
              "      <td>722515</td>\n",
              "      <td>LLC</td>\n",
              "      <td>White</td>\n",
              "      <td>Male</td>\n",
              "      <td>Non-Veteran</td>\n",
              "      <td>15</td>\n",
              "      <td>2020-04-13</td>\n",
              "      <td>TD Bank</td>\n",
              "      <td>72</td>\n",
              "      <td>Snack and Nonalcoholic Beverage Bars</td>\n",
              "      <td>This U.S. industry comprises establishments pr...</td>\n",
              "      <td>Accommodation and Food Services</td>\n",
              "      <td>80%</td>\n",
              "      <td>50%</td>\n",
              "      <td>0</td>\n",
              "      <td>Mon</td>\n",
              "    </tr>\n",
              "  </tbody>\n",
              "</table>\n",
              "</div>"
            ],
            "text/plain": [
              "         Loan Amount                City State    Zip NAICS Code Business Type   Race Gender      Veteran  Jobs Saved       Date     Bank NAICS Category                                  Title                                        Description                      description Loan Percentile Loan Quartile  DayNUM Weekday\n",
              "1359932      41070.0  MILLSTONE TOWNSHIP    NJ  08535     722515           LLC  White   Male  Non-Veteran          15 2020-04-13  TD Bank             72  Snack and Nonalcoholic Beverage Bars   This U.S. industry comprises establishments pr...  Accommodation and Food Services             80%           50%       0     Mon"
            ]
          },
          "metadata": {
            "tags": []
          },
          "execution_count": 314
        }
      ]
    },
    {
      "cell_type": "code",
      "metadata": {
        "id": "kMHQ1GLzhXWh",
        "colab_type": "code",
        "colab": {}
      },
      "source": [
        ""
      ],
      "execution_count": 314,
      "outputs": []
    },
    {
      "cell_type": "code",
      "metadata": {
        "id": "F9kG2tr3hX6h",
        "colab_type": "code",
        "colab": {}
      },
      "source": [
        ""
      ],
      "execution_count": 314,
      "outputs": []
    },
    {
      "cell_type": "code",
      "metadata": {
        "id": "QbOrQkAkhXqN",
        "colab_type": "code",
        "colab": {}
      },
      "source": [
        ""
      ],
      "execution_count": 314,
      "outputs": []
    },
    {
      "cell_type": "code",
      "metadata": {
        "id": "vfsXbUEChiO4",
        "colab_type": "code",
        "colab": {
          "base_uri": "https://localhost:8080/",
          "height": 190
        },
        "outputId": "043fa312-066b-4978-ae61-df6939fca1ad"
      },
      "source": [
        "#value counts of race\n",
        "df['Race'].value_counts()"
      ],
      "execution_count": 315,
      "outputs": [
        {
          "output_type": "execute_result",
          "data": {
            "text/plain": [
              "Unanswered                          3666880\n",
              "White                                326861\n",
              "Asian                                 49795\n",
              "Hispanic                              33288\n",
              "Black or African American             13922\n",
              "American Indian or Alaska Native       2208\n",
              "Puerto Rican                            125\n",
              "Multi Group                               6\n",
              "Eskimo & Aleut                            3\n",
              "Name: Race, dtype: int64"
            ]
          },
          "metadata": {
            "tags": []
          },
          "execution_count": 315
        }
      ]
    },
    {
      "cell_type": "code",
      "metadata": {
        "id": "CUnyet7rhzJe",
        "colab_type": "code",
        "colab": {
          "base_uri": "https://localhost:8080/",
          "height": 169
        },
        "outputId": "be48e80b-8803-4547-9a20-aceac01d32fe"
      },
      "source": [
        "#shorten race values\n",
        "df['Race'] = df['Race'].replace({'Black or African American':'Black', 'American Indian or Alaska Native': 'Native American', 'Eskimo & Aleut':'Eskimo'})\n",
        "df.sample()"
      ],
      "execution_count": 316,
      "outputs": [
        {
          "output_type": "execute_result",
          "data": {
            "text/html": [
              "<div>\n",
              "<style scoped>\n",
              "    .dataframe tbody tr th:only-of-type {\n",
              "        vertical-align: middle;\n",
              "    }\n",
              "\n",
              "    .dataframe tbody tr th {\n",
              "        vertical-align: top;\n",
              "    }\n",
              "\n",
              "    .dataframe thead th {\n",
              "        text-align: right;\n",
              "    }\n",
              "</style>\n",
              "<table border=\"1\" class=\"dataframe\">\n",
              "  <thead>\n",
              "    <tr style=\"text-align: right;\">\n",
              "      <th></th>\n",
              "      <th>Loan Amount</th>\n",
              "      <th>City</th>\n",
              "      <th>State</th>\n",
              "      <th>Zip</th>\n",
              "      <th>NAICS Code</th>\n",
              "      <th>Business Type</th>\n",
              "      <th>Race</th>\n",
              "      <th>Gender</th>\n",
              "      <th>Veteran</th>\n",
              "      <th>Jobs Saved</th>\n",
              "      <th>Date</th>\n",
              "      <th>Bank</th>\n",
              "      <th>NAICS Category</th>\n",
              "      <th>Title</th>\n",
              "      <th>Description</th>\n",
              "      <th>description</th>\n",
              "      <th>Loan Percentile</th>\n",
              "      <th>Loan Quartile</th>\n",
              "      <th>DayNUM</th>\n",
              "      <th>Weekday</th>\n",
              "    </tr>\n",
              "  </thead>\n",
              "  <tbody>\n",
              "    <tr>\n",
              "      <th>3090417</th>\n",
              "      <td>89000.0</td>\n",
              "      <td>SUBLETTE</td>\n",
              "      <td>KS</td>\n",
              "      <td>67877</td>\n",
              "      <td>11115</td>\n",
              "      <td>Partnership</td>\n",
              "      <td>White</td>\n",
              "      <td>Male</td>\n",
              "      <td>Non-Veteran</td>\n",
              "      <td>11</td>\n",
              "      <td>2020-04-28</td>\n",
              "      <td>Centera Bank</td>\n",
              "      <td>11</td>\n",
              "      <td>Corn FarmingT</td>\n",
              "      <td>See industry description for 111150.</td>\n",
              "      <td>Agriculture Forestry Fishing and Hunting</td>\n",
              "      <td>90%</td>\n",
              "      <td>75%</td>\n",
              "      <td>1</td>\n",
              "      <td>Tues</td>\n",
              "    </tr>\n",
              "  </tbody>\n",
              "</table>\n",
              "</div>"
            ],
            "text/plain": [
              "         Loan Amount      City State    Zip NAICS Code Business Type   Race Gender      Veteran  Jobs Saved       Date          Bank NAICS Category          Title                           Description                               description Loan Percentile Loan Quartile  DayNUM Weekday\n",
              "3090417      89000.0  SUBLETTE    KS  67877      11115   Partnership  White   Male  Non-Veteran          11 2020-04-28  Centera Bank             11  Corn FarmingT  See industry description for 111150.  Agriculture Forestry Fishing and Hunting             90%           75%       1    Tues"
            ]
          },
          "metadata": {
            "tags": []
          },
          "execution_count": 316
        }
      ]
    },
    {
      "cell_type": "code",
      "metadata": {
        "id": "DEci8fBQXZYX",
        "colab_type": "code",
        "colab": {}
      },
      "source": [
        "#send dataframe for all values to csv (additional columns and null values cleaned)\n",
        "df.to_csv('full_under_150k_data.csv', index=True)\n",
        "!cp full_monty_peeps.csv \"drive/My Drive/\""
      ],
      "execution_count": 317,
      "outputs": []
    },
    {
      "cell_type": "code",
      "metadata": {
        "id": "FSMPB_zg6RoY",
        "colab_type": "code",
        "colab": {
          "base_uri": "https://localhost:8080/",
          "height": 34
        },
        "outputId": "2b883b8e-be42-463b-b063-507e748e8906"
      },
      "source": [
        "#loan quartiles\n",
        "loan_qt = np.percentile(df['Loan Amount'], [25, 50, 75, 100])\n",
        "loan_qt\n"
      ],
      "execution_count": 318,
      "outputs": [
        {
          "output_type": "execute_result",
          "data": {
            "text/plain": [
              "array([  9882.  ,  20832.  ,  46500.  , 149999.98])"
            ]
          },
          "metadata": {
            "tags": []
          },
          "execution_count": 318
        }
      ]
    },
    {
      "cell_type": "code",
      "metadata": {
        "id": "IbXMGajcoMZo",
        "colab_type": "code",
        "colab": {
          "base_uri": "https://localhost:8080/",
          "height": 169
        },
        "outputId": "d6af02c5-ee22-492e-db67-d8db535062eb"
      },
      "source": [
        "# top 10 percent of loans\n",
        "high_pct = df[(df[\"Loan Percentile\"] == '90%')]\n",
        "\n",
        "high_pct.head(1)\n"
      ],
      "execution_count": 319,
      "outputs": [
        {
          "output_type": "execute_result",
          "data": {
            "text/html": [
              "<div>\n",
              "<style scoped>\n",
              "    .dataframe tbody tr th:only-of-type {\n",
              "        vertical-align: middle;\n",
              "    }\n",
              "\n",
              "    .dataframe tbody tr th {\n",
              "        vertical-align: top;\n",
              "    }\n",
              "\n",
              "    .dataframe thead th {\n",
              "        text-align: right;\n",
              "    }\n",
              "</style>\n",
              "<table border=\"1\" class=\"dataframe\">\n",
              "  <thead>\n",
              "    <tr style=\"text-align: right;\">\n",
              "      <th></th>\n",
              "      <th>Loan Amount</th>\n",
              "      <th>City</th>\n",
              "      <th>State</th>\n",
              "      <th>Zip</th>\n",
              "      <th>NAICS Code</th>\n",
              "      <th>Business Type</th>\n",
              "      <th>Race</th>\n",
              "      <th>Gender</th>\n",
              "      <th>Veteran</th>\n",
              "      <th>Jobs Saved</th>\n",
              "      <th>Date</th>\n",
              "      <th>Bank</th>\n",
              "      <th>NAICS Category</th>\n",
              "      <th>Title</th>\n",
              "      <th>Description</th>\n",
              "      <th>description</th>\n",
              "      <th>Loan Percentile</th>\n",
              "      <th>Loan Quartile</th>\n",
              "      <th>DayNUM</th>\n",
              "      <th>Weekday</th>\n",
              "    </tr>\n",
              "  </thead>\n",
              "  <tbody>\n",
              "    <tr>\n",
              "      <th>0</th>\n",
              "      <td>149961.0</td>\n",
              "      <td>KANSAS CITY</td>\n",
              "      <td>MO</td>\n",
              "      <td>64108</td>\n",
              "      <td>54199</td>\n",
              "      <td>LLC</td>\n",
              "      <td>Unanswered</td>\n",
              "      <td>Unanswered</td>\n",
              "      <td>Unanswered</td>\n",
              "      <td>13</td>\n",
              "      <td>2020-04-13</td>\n",
              "      <td>Country Club Bank</td>\n",
              "      <td>54</td>\n",
              "      <td>All Other Professional, Scientific, and Techni...</td>\n",
              "      <td>See industry description for 541990.</td>\n",
              "      <td>Professional Scientific and Technical Services</td>\n",
              "      <td>90%</td>\n",
              "      <td>75%</td>\n",
              "      <td>0</td>\n",
              "      <td>Mon</td>\n",
              "    </tr>\n",
              "  </tbody>\n",
              "</table>\n",
              "</div>"
            ],
            "text/plain": [
              "   Loan Amount         City State    Zip NAICS Code Business Type        Race      Gender     Veteran  Jobs Saved       Date               Bank NAICS Category                                              Title                           Description                                     description Loan Percentile Loan Quartile  DayNUM Weekday\n",
              "0     149961.0  KANSAS CITY    MO  64108      54199           LLC  Unanswered  Unanswered  Unanswered          13 2020-04-13  Country Club Bank             54  All Other Professional, Scientific, and Techni...  See industry description for 541990.  Professional Scientific and Technical Services             90%           75%       0     Mon"
            ]
          },
          "metadata": {
            "tags": []
          },
          "execution_count": 319
        }
      ]
    },
    {
      "cell_type": "code",
      "metadata": {
        "id": "VU6BvdkHQNe7",
        "colab_type": "code",
        "colab": {}
      },
      "source": [
        "#save to csv and will convert to a table in SQL / Tableau for further analysis \n",
        "\n",
        "high_pct.to_csv('top_percentile_banks.csv', index=True)\n",
        "!cp top_percentile_banks.csv \"drive/My Drive/\""
      ],
      "execution_count": 320,
      "outputs": []
    },
    {
      "cell_type": "code",
      "metadata": {
        "id": "CAWHMa8Bcd22",
        "colab_type": "code",
        "colab": {}
      },
      "source": [
        ""
      ],
      "execution_count": 320,
      "outputs": []
    },
    {
      "cell_type": "markdown",
      "metadata": {
        "id": "Zmk0V6rvcfM5",
        "colab_type": "text"
      },
      "source": [
        "Take a look at Veteran status, but will explore deeper in another notebook."
      ]
    },
    {
      "cell_type": "code",
      "metadata": {
        "id": "DRw__vFych1B",
        "colab_type": "code",
        "colab": {
          "base_uri": "https://localhost:8080/",
          "height": 104
        },
        "outputId": "d11ffae9-6dd6-41cb-aca2-415987144f92"
      },
      "source": [
        "#veterans loan median\n",
        "vt_md=df.groupby(['Veteran'])['Loan Amount'].median()\n",
        "vt_md"
      ],
      "execution_count": 321,
      "outputs": [
        {
          "output_type": "execute_result",
          "data": {
            "text/plain": [
              "Veteran\n",
              "Non-Veteran    29410.5\n",
              "Unanswered     20700.0\n",
              "Veteran        33800.0\n",
              "Name: Loan Amount, dtype: float64"
            ]
          },
          "metadata": {
            "tags": []
          },
          "execution_count": 321
        }
      ]
    },
    {
      "cell_type": "code",
      "metadata": {
        "id": "Etso2UZ-chdS",
        "colab_type": "code",
        "colab": {
          "base_uri": "https://localhost:8080/",
          "height": 104
        },
        "outputId": "9fc1f0e0-8aa4-4dcf-9921-e50280b9df24"
      },
      "source": [
        "#veterans loan mean\n",
        "vt_avg=df.groupby(['Veteran'])['Loan Amount'].mean()\n",
        "vt_avg"
      ],
      "execution_count": 322,
      "outputs": [
        {
          "output_type": "execute_result",
          "data": {
            "text/plain": [
              "Veteran\n",
              "Non-Veteran    42277.587238\n",
              "Unanswered     32273.659917\n",
              "Veteran        45646.476189\n",
              "Name: Loan Amount, dtype: float64"
            ]
          },
          "metadata": {
            "tags": []
          },
          "execution_count": 322
        }
      ]
    },
    {
      "cell_type": "code",
      "metadata": {
        "id": "Kp2rY8bvc-eu",
        "colab_type": "code",
        "colab": {
          "base_uri": "https://localhost:8080/",
          "height": 104
        },
        "outputId": "bde0c92a-fd78-419c-f5dc-a13df23abf6b"
      },
      "source": [
        "#veterans loan count\n",
        "vt_ct=df.groupby(['Veteran'])['Loan Amount'].count()\n",
        "vt_ct"
      ],
      "execution_count": 323,
      "outputs": [
        {
          "output_type": "execute_result",
          "data": {
            "text/plain": [
              "Veteran\n",
              "Non-Veteran     569404\n",
              "Unanswered     3497651\n",
              "Veteran          26033\n",
              "Name: Loan Amount, dtype: int64"
            ]
          },
          "metadata": {
            "tags": []
          },
          "execution_count": 323
        }
      ]
    },
    {
      "cell_type": "code",
      "metadata": {
        "id": "776r5cJ7c_LL",
        "colab_type": "code",
        "colab": {
          "base_uri": "https://localhost:8080/",
          "height": 104
        },
        "outputId": "8740beaf-3e73-4318-daec-196edaeb6ef6"
      },
      "source": [
        "#veterans loan sum\n",
        "vt_sum=df.groupby(['Veteran'])['Loan Amount'].sum()\n",
        "vt_sum\n",
        "           "
      ],
      "execution_count": 324,
      "outputs": [
        {
          "output_type": "execute_result",
          "data": {
            "text/plain": [
              "Veteran\n",
              "Non-Veteran    2.407303e+10\n",
              "Unanswered     1.128820e+11\n",
              "Veteran        1.188315e+09\n",
              "Name: Loan Amount, dtype: float64"
            ]
          },
          "metadata": {
            "tags": []
          },
          "execution_count": 324
        }
      ]
    },
    {
      "cell_type": "code",
      "metadata": {
        "id": "7FsX56ICc-1m",
        "colab_type": "code",
        "colab": {
          "base_uri": "https://localhost:8080/",
          "height": 34
        },
        "outputId": "909f07ed-fa12-42e3-ed5a-2b6b08ef090a"
      },
      "source": [
        "vt_cat=df.groupby(['Veteran'])['Loan Amount']\n",
        "vt_cat"
      ],
      "execution_count": 325,
      "outputs": [
        {
          "output_type": "execute_result",
          "data": {
            "text/plain": [
              "<pandas.core.groupby.generic.SeriesGroupBy object at 0x7f60c8a5cbe0>"
            ]
          },
          "metadata": {
            "tags": []
          },
          "execution_count": 325
        }
      ]
    },
    {
      "cell_type": "code",
      "metadata": {
        "id": "PJEk8uPacgN7",
        "colab_type": "code",
        "colab": {
          "base_uri": "https://localhost:8080/",
          "height": 172
        },
        "outputId": "bb262599-59ec-481f-fe53-a2c7c2eaf708"
      },
      "source": [
        "military_df={\n",
        "    'Average Loan' : vt_avg,\n",
        "    'Sum of Loans' : vt_sum,\n",
        "    'Count of Loans' : vt_ct,\n",
        "    'Median Loan' : vt_md,   \n",
        "    \n",
        "}\n",
        "mil_df=pd.DataFrame(military_df)\n",
        "mil_df"
      ],
      "execution_count": 326,
      "outputs": [
        {
          "output_type": "execute_result",
          "data": {
            "text/html": [
              "<div>\n",
              "<style scoped>\n",
              "    .dataframe tbody tr th:only-of-type {\n",
              "        vertical-align: middle;\n",
              "    }\n",
              "\n",
              "    .dataframe tbody tr th {\n",
              "        vertical-align: top;\n",
              "    }\n",
              "\n",
              "    .dataframe thead th {\n",
              "        text-align: right;\n",
              "    }\n",
              "</style>\n",
              "<table border=\"1\" class=\"dataframe\">\n",
              "  <thead>\n",
              "    <tr style=\"text-align: right;\">\n",
              "      <th></th>\n",
              "      <th>Average Loan</th>\n",
              "      <th>Sum of Loans</th>\n",
              "      <th>Count of Loans</th>\n",
              "      <th>Median Loan</th>\n",
              "    </tr>\n",
              "    <tr>\n",
              "      <th>Veteran</th>\n",
              "      <th></th>\n",
              "      <th></th>\n",
              "      <th></th>\n",
              "      <th></th>\n",
              "    </tr>\n",
              "  </thead>\n",
              "  <tbody>\n",
              "    <tr>\n",
              "      <th>Non-Veteran</th>\n",
              "      <td>42277.587238</td>\n",
              "      <td>2.407303e+10</td>\n",
              "      <td>569404</td>\n",
              "      <td>29410.5</td>\n",
              "    </tr>\n",
              "    <tr>\n",
              "      <th>Unanswered</th>\n",
              "      <td>32273.659917</td>\n",
              "      <td>1.128820e+11</td>\n",
              "      <td>3497651</td>\n",
              "      <td>20700.0</td>\n",
              "    </tr>\n",
              "    <tr>\n",
              "      <th>Veteran</th>\n",
              "      <td>45646.476189</td>\n",
              "      <td>1.188315e+09</td>\n",
              "      <td>26033</td>\n",
              "      <td>33800.0</td>\n",
              "    </tr>\n",
              "  </tbody>\n",
              "</table>\n",
              "</div>"
            ],
            "text/plain": [
              "             Average Loan  Sum of Loans  Count of Loans  Median Loan\n",
              "Veteran                                                             \n",
              "Non-Veteran  42277.587238  2.407303e+10          569404      29410.5\n",
              "Unanswered   32273.659917  1.128820e+11         3497651      20700.0\n",
              "Veteran      45646.476189  1.188315e+09           26033      33800.0"
            ]
          },
          "metadata": {
            "tags": []
          },
          "execution_count": 326
        }
      ]
    },
    {
      "cell_type": "code",
      "metadata": {
        "id": "TX98pNlHvza2",
        "colab_type": "code",
        "colab": {
          "base_uri": "https://localhost:8080/",
          "height": 172
        },
        "outputId": "436e60a6-327e-46a5-f642-6b54171b40d8"
      },
      "source": [
        "#formatting\n",
        "mil_df['Average Loan'] = mil_df['Average Loan'].map('${:,.2f}'.format)\n",
        "mil_df['Sum of Loans'] = mil_df['Sum of Loans'].map('${:,.2f}'.format)\n",
        "mil_df['Count of Loans'] = mil_df['Count of Loans'].map('{:,}'.format)\n",
        "mil_df['Median Loan'] = mil_df['Median Loan'].map('${:,.2f}'.format)\n",
        "mil_df"
      ],
      "execution_count": 327,
      "outputs": [
        {
          "output_type": "execute_result",
          "data": {
            "text/html": [
              "<div>\n",
              "<style scoped>\n",
              "    .dataframe tbody tr th:only-of-type {\n",
              "        vertical-align: middle;\n",
              "    }\n",
              "\n",
              "    .dataframe tbody tr th {\n",
              "        vertical-align: top;\n",
              "    }\n",
              "\n",
              "    .dataframe thead th {\n",
              "        text-align: right;\n",
              "    }\n",
              "</style>\n",
              "<table border=\"1\" class=\"dataframe\">\n",
              "  <thead>\n",
              "    <tr style=\"text-align: right;\">\n",
              "      <th></th>\n",
              "      <th>Average Loan</th>\n",
              "      <th>Sum of Loans</th>\n",
              "      <th>Count of Loans</th>\n",
              "      <th>Median Loan</th>\n",
              "    </tr>\n",
              "    <tr>\n",
              "      <th>Veteran</th>\n",
              "      <th></th>\n",
              "      <th></th>\n",
              "      <th></th>\n",
              "      <th></th>\n",
              "    </tr>\n",
              "  </thead>\n",
              "  <tbody>\n",
              "    <tr>\n",
              "      <th>Non-Veteran</th>\n",
              "      <td>$42,277.59</td>\n",
              "      <td>$24,073,027,283.45</td>\n",
              "      <td>569,404</td>\n",
              "      <td>$29,410.50</td>\n",
              "    </tr>\n",
              "    <tr>\n",
              "      <th>Unanswered</th>\n",
              "      <td>$32,273.66</td>\n",
              "      <td>$112,881,998,880.83</td>\n",
              "      <td>3,497,651</td>\n",
              "      <td>$20,700.00</td>\n",
              "    </tr>\n",
              "    <tr>\n",
              "      <th>Veteran</th>\n",
              "      <td>$45,646.48</td>\n",
              "      <td>$1,188,314,714.63</td>\n",
              "      <td>26,033</td>\n",
              "      <td>$33,800.00</td>\n",
              "    </tr>\n",
              "  </tbody>\n",
              "</table>\n",
              "</div>"
            ],
            "text/plain": [
              "            Average Loan         Sum of Loans Count of Loans Median Loan\n",
              "Veteran                                                                 \n",
              "Non-Veteran   $42,277.59   $24,073,027,283.45        569,404  $29,410.50\n",
              "Unanswered    $32,273.66  $112,881,998,880.83      3,497,651  $20,700.00\n",
              "Veteran       $45,646.48    $1,188,314,714.63         26,033  $33,800.00"
            ]
          },
          "metadata": {
            "tags": []
          },
          "execution_count": 327
        }
      ]
    },
    {
      "cell_type": "code",
      "metadata": {
        "id": "Ig8DqRQMqsqh",
        "colab_type": "code",
        "colab": {
          "base_uri": "https://localhost:8080/",
          "height": 110
        },
        "outputId": "8daf3cb7-374c-4539-ccda-350d1a8033a6"
      },
      "source": [
        "i = mil_df.index.get_loc('Veteran')\n",
        "vet=mil_df.iloc[i:i+2]\n",
        "vet"
      ],
      "execution_count": 328,
      "outputs": [
        {
          "output_type": "execute_result",
          "data": {
            "text/html": [
              "<div>\n",
              "<style scoped>\n",
              "    .dataframe tbody tr th:only-of-type {\n",
              "        vertical-align: middle;\n",
              "    }\n",
              "\n",
              "    .dataframe tbody tr th {\n",
              "        vertical-align: top;\n",
              "    }\n",
              "\n",
              "    .dataframe thead th {\n",
              "        text-align: right;\n",
              "    }\n",
              "</style>\n",
              "<table border=\"1\" class=\"dataframe\">\n",
              "  <thead>\n",
              "    <tr style=\"text-align: right;\">\n",
              "      <th></th>\n",
              "      <th>Average Loan</th>\n",
              "      <th>Sum of Loans</th>\n",
              "      <th>Count of Loans</th>\n",
              "      <th>Median Loan</th>\n",
              "    </tr>\n",
              "    <tr>\n",
              "      <th>Veteran</th>\n",
              "      <th></th>\n",
              "      <th></th>\n",
              "      <th></th>\n",
              "      <th></th>\n",
              "    </tr>\n",
              "  </thead>\n",
              "  <tbody>\n",
              "    <tr>\n",
              "      <th>Veteran</th>\n",
              "      <td>$45,646.48</td>\n",
              "      <td>$1,188,314,714.63</td>\n",
              "      <td>26,033</td>\n",
              "      <td>$33,800.00</td>\n",
              "    </tr>\n",
              "  </tbody>\n",
              "</table>\n",
              "</div>"
            ],
            "text/plain": [
              "        Average Loan       Sum of Loans Count of Loans Median Loan\n",
              "Veteran                                                           \n",
              "Veteran   $45,646.48  $1,188,314,714.63         26,033  $33,800.00"
            ]
          },
          "metadata": {
            "tags": []
          },
          "execution_count": 328
        }
      ]
    }
  ]
}