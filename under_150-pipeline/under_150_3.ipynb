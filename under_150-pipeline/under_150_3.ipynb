{
  "nbformat": 4,
  "nbformat_minor": 0,
  "metadata": {
    "colab": {
      "name": "clean_ppp3.ipynb",
      "provenance": [],
      "collapsed_sections": [],
      "mount_file_id": "1QhORnS6hfpmJPuMxe1IjC_VK0S7XJCcr",
      "authorship_tag": "ABX9TyNvyQ3+lWepGmdww5qIdRLp"
    },
    "kernelspec": {
      "name": "python3",
      "display_name": "Python 3"
    },
    "accelerator": "GPU"
  },
  "cells": [
    {
      "cell_type": "markdown",
      "metadata": {
        "id": "2oVNvkNYPDV2",
        "colab_type": "text"
      },
      "source": [
        "Final general cleanup of loans under 150k from all states and US territories "
      ]
    },
    {
      "cell_type": "code",
      "metadata": {
        "id": "8M-oPsMYPGnv",
        "colab_type": "code",
        "colab": {}
      },
      "source": [
        "#import dependencies\n",
        "import pandas as pd\n",
        "import numpy as np\n",
        "from datetime import date, datetime\n",
        "import os, sys \n",
        "import io\n",
        "import ee\n"
      ],
      "execution_count": null,
      "outputs": []
    },
    {
      "cell_type": "code",
      "metadata": {
        "id": "IF4fH4hDB5m8",
        "colab_type": "code",
        "colab": {}
      },
      "source": [
        "## set up pandas dataframe using set_options to warn when we are working on a copy instead of ooriginal dataframe\n",
        "pd.set_option('mode.chained_assignment','warn')"
      ],
      "execution_count": null,
      "outputs": []
    },
    {
      "cell_type": "code",
      "metadata": {
        "id": "pf2cFMugB_T9",
        "colab_type": "code",
        "colab": {}
      },
      "source": [
        "# dataframe will display without being truncated\n",
        "pd.set_option('display.max_rows', 150)\n",
        "pd.set_option('display.max_columns', 25)\n",
        "pd.set_option('display.width', 1000)"
      ],
      "execution_count": null,
      "outputs": []
    },
    {
      "cell_type": "code",
      "metadata": {
        "id": "ii3flRP84Xa9",
        "colab_type": "code",
        "colab": {}
      },
      "source": [
        "# !pip install -U -q PyDrive"
      ],
      "execution_count": null,
      "outputs": []
    },
    {
      "cell_type": "code",
      "metadata": {
        "id": "ax45eZXtxQE2",
        "colab_type": "code",
        "colab": {
          "base_uri": "https://localhost:8080/",
          "height": 34
        },
        "outputId": "26fdcb92-5954-440a-dfe0-8f3778966b24"
      },
      "source": [
        "#mounting the google drive to access the files\n",
        "from google.colab import drive\n",
        "drive.mount('/content/drive')"
      ],
      "execution_count": null,
      "outputs": [
        {
          "output_type": "stream",
          "text": [
            "Drive already mounted at /content/drive; to attempt to forcibly remount, call drive.mount(\"/content/drive\", force_remount=True).\n"
          ],
          "name": "stdout"
        }
      ]
    },
    {
      "cell_type": "code",
      "metadata": {
        "id": "3Siq-wB9d392",
        "colab_type": "code",
        "colab": {}
      },
      "source": [
        "# command shows file path\n",
        "# ! ls"
      ],
      "execution_count": null,
      "outputs": []
    },
    {
      "cell_type": "code",
      "metadata": {
        "id": "JwyQc3b9d4R-",
        "colab_type": "code",
        "colab": {}
      },
      "source": [
        "from google.colab import files"
      ],
      "execution_count": null,
      "outputs": []
    },
    {
      "cell_type": "code",
      "metadata": {
        "id": "RxhFfrXX0jn0",
        "colab_type": "code",
        "colab": {}
      },
      "source": [
        "# filepath\n",
        "path = \"/content/drive/My Drive/data/quasi2.csv\"\n",
        "\n",
        "\n"
      ],
      "execution_count": null,
      "outputs": []
    },
    {
      "cell_type": "markdown",
      "metadata": {
        "id": "Nt6pJSd6SX06",
        "colab_type": "text"
      },
      "source": [
        ""
      ]
    },
    {
      "cell_type": "code",
      "metadata": {
        "id": "tub77oA8j9IA",
        "colab_type": "code",
        "colab": {
          "base_uri": "https://localhost:8080/",
          "height": 72
        },
        "outputId": "85ff9259-0672-45be-ef61-c7f72333c99b"
      },
      "source": [
        "#read the csv, create dataframe\n",
        "df = pd.read_csv(path,)\n"
      ],
      "execution_count": null,
      "outputs": [
        {
          "output_type": "stream",
          "text": [
            "/usr/local/lib/python3.6/dist-packages/IPython/core/interactiveshell.py:2718: DtypeWarning: Columns (10) have mixed types.Specify dtype option on import or set low_memory=False.\n",
            "  interactivity=interactivity, compiler=compiler, result=result)\n"
          ],
          "name": "stderr"
        }
      ]
    },
    {
      "cell_type": "code",
      "metadata": {
        "id": "roSn8zI93O4a",
        "colab_type": "code",
        "colab": {
          "base_uri": "https://localhost:8080/",
          "height": 180
        },
        "outputId": "718d2d9f-bc9b-4e9a-ed24-117eaad174ec"
      },
      "source": [
        "df.head(2)"
      ],
      "execution_count": null,
      "outputs": [
        {
          "output_type": "execute_result",
          "data": {
            "text/html": [
              "<div>\n",
              "<style scoped>\n",
              "    .dataframe tbody tr th:only-of-type {\n",
              "        vertical-align: middle;\n",
              "    }\n",
              "\n",
              "    .dataframe tbody tr th {\n",
              "        vertical-align: top;\n",
              "    }\n",
              "\n",
              "    .dataframe thead th {\n",
              "        text-align: right;\n",
              "    }\n",
              "</style>\n",
              "<table border=\"1\" class=\"dataframe\">\n",
              "  <thead>\n",
              "    <tr style=\"text-align: right;\">\n",
              "      <th></th>\n",
              "      <th>Loan Amount</th>\n",
              "      <th>City</th>\n",
              "      <th>State</th>\n",
              "      <th>Zip</th>\n",
              "      <th>NAICS Code</th>\n",
              "      <th>Business Type</th>\n",
              "      <th>Race</th>\n",
              "      <th>Gender</th>\n",
              "      <th>Veteran</th>\n",
              "      <th>Non Profit</th>\n",
              "      <th>Jobs Saved</th>\n",
              "      <th>Date</th>\n",
              "      <th>Bank</th>\n",
              "    </tr>\n",
              "  </thead>\n",
              "  <tbody>\n",
              "    <tr>\n",
              "      <th>0</th>\n",
              "      <td>149961.00</td>\n",
              "      <td>KANSAS CITY</td>\n",
              "      <td>MO</td>\n",
              "      <td>64108</td>\n",
              "      <td>541990.0</td>\n",
              "      <td>Limited  Liability Company(LLC)</td>\n",
              "      <td>Unanswered</td>\n",
              "      <td>Unanswered</td>\n",
              "      <td>Unanswered</td>\n",
              "      <td>NaN</td>\n",
              "      <td>13</td>\n",
              "      <td>04/13/2020</td>\n",
              "      <td>Country Club Bank</td>\n",
              "    </tr>\n",
              "    <tr>\n",
              "      <th>1</th>\n",
              "      <td>149927.67</td>\n",
              "      <td>O FALLON</td>\n",
              "      <td>MO</td>\n",
              "      <td>63366</td>\n",
              "      <td>722511.0</td>\n",
              "      <td>Subchapter S Corporation</td>\n",
              "      <td>Unanswered</td>\n",
              "      <td>Unanswered</td>\n",
              "      <td>Unanswered</td>\n",
              "      <td>NaN</td>\n",
              "      <td>NaN</td>\n",
              "      <td>04/07/2020</td>\n",
              "      <td>First State Bank of St. Charles</td>\n",
              "    </tr>\n",
              "  </tbody>\n",
              "</table>\n",
              "</div>"
            ],
            "text/plain": [
              "   Loan Amount         City State    Zip  NAICS Code                    Business Type        Race      Gender     Veteran Non Profit Jobs Saved        Date                             Bank\n",
              "0    149961.00  KANSAS CITY    MO  64108    541990.0  Limited  Liability Company(LLC)  Unanswered  Unanswered  Unanswered        NaN         13  04/13/2020                Country Club Bank\n",
              "1    149927.67     O FALLON    MO  63366    722511.0         Subchapter S Corporation  Unanswered  Unanswered  Unanswered        NaN        NaN  04/07/2020  First State Bank of St. Charles"
            ]
          },
          "metadata": {
            "tags": []
          },
          "execution_count": 11
        }
      ]
    },
    {
      "cell_type": "code",
      "metadata": {
        "id": "MTaIOheV8Fz-",
        "colab_type": "code",
        "colab": {
          "base_uri": "https://localhost:8080/",
          "height": 34
        },
        "outputId": "d8d3162f-006f-4d90-e04d-c4dd852a04fc"
      },
      "source": [
        "#shape\n",
        "df.shape\n"
      ],
      "execution_count": null,
      "outputs": [
        {
          "output_type": "execute_result",
          "data": {
            "text/plain": [
              "(4224119, 13)"
            ]
          },
          "metadata": {
            "tags": []
          },
          "execution_count": 12
        }
      ]
    },
    {
      "cell_type": "code",
      "metadata": {
        "id": "SJp2zU1K0-FI",
        "colab_type": "code",
        "colab": {
          "base_uri": "https://localhost:8080/",
          "height": 364
        },
        "outputId": "a3a390f7-b3d4-4e33-eb17-ae552ed9992b"
      },
      "source": [
        "#check types\n",
        "df.info()"
      ],
      "execution_count": null,
      "outputs": [
        {
          "output_type": "stream",
          "text": [
            "<class 'pandas.core.frame.DataFrame'>\n",
            "RangeIndex: 4224119 entries, 0 to 4224118\n",
            "Data columns (total 13 columns):\n",
            " #   Column         Dtype  \n",
            "---  ------         -----  \n",
            " 0   Loan Amount    float64\n",
            " 1   City           object \n",
            " 2   State          object \n",
            " 3   Zip            object \n",
            " 4   NAICS Code     float64\n",
            " 5   Business Type  object \n",
            " 6   Race           object \n",
            " 7   Gender         object \n",
            " 8   Veteran        object \n",
            " 9   Non Profit     object \n",
            " 10  Jobs Saved     object \n",
            " 11  Date           object \n",
            " 12  Bank           object \n",
            "dtypes: float64(2), object(11)\n",
            "memory usage: 419.0+ MB\n"
          ],
          "name": "stdout"
        }
      ]
    },
    {
      "cell_type": "code",
      "metadata": {
        "id": "7cq3eDTputso",
        "colab_type": "code",
        "colab": {
          "base_uri": "https://localhost:8080/",
          "height": 260
        },
        "outputId": "ae609bb9-9988-477b-ea3b-0ab1a58360eb"
      },
      "source": [
        "print(df.isna().sum())"
      ],
      "execution_count": null,
      "outputs": [
        {
          "output_type": "stream",
          "text": [
            "Loan Amount            0\n",
            "City                 248\n",
            "State                871\n",
            "Zip                  208\n",
            "NAICS Code        126705\n",
            "Business Type       3330\n",
            "Race                   3\n",
            "Gender                 0\n",
            "Veteran                0\n",
            "Non Profit       4083421\n",
            "Jobs Saved        285014\n",
            "Date                  81\n",
            "Bank                   0\n",
            "dtype: int64\n"
          ],
          "name": "stdout"
        }
      ]
    },
    {
      "cell_type": "markdown",
      "metadata": {
        "id": "0ftuHurcI_hF",
        "colab_type": "text"
      },
      "source": [
        "check jobs saved column\n"
      ]
    },
    {
      "cell_type": "code",
      "metadata": {
        "id": "YwWIOG3LXf3t",
        "colab_type": "code",
        "colab": {
          "base_uri": "https://localhost:8080/",
          "height": 260
        },
        "outputId": "baf6ba15-0b25-494f-8405-3c12cce9e08d"
      },
      "source": [
        "# PPP loans were only given to people who had \"employees\", however self employed people\n",
        "#are counted as an employee for the purpose of the loan. Best guess is that recipients of loan\n",
        "# below 25k would be fairly small business and will count as 1 employee. Not sure for values above that.\n",
        "df.loc[df['Loan Amount'] <= 25000.00, \"Jobs Saved\"] = \"1\"\n",
        "#check for nulls\n",
        "print(df.isna().sum())"
      ],
      "execution_count": null,
      "outputs": [
        {
          "output_type": "stream",
          "text": [
            "Loan Amount            0\n",
            "City                 248\n",
            "State                871\n",
            "Zip                  208\n",
            "NAICS Code        126705\n",
            "Business Type       3330\n",
            "Race                   3\n",
            "Gender                 0\n",
            "Veteran                0\n",
            "Non Profit       4083421\n",
            "Jobs Saved        113631\n",
            "Date                  81\n",
            "Bank                   0\n",
            "dtype: int64\n"
          ],
          "name": "stdout"
        }
      ]
    },
    {
      "cell_type": "code",
      "metadata": {
        "id": "UrTe5_5ivksR",
        "colab_type": "code",
        "colab": {
          "base_uri": "https://localhost:8080/",
          "height": 34
        },
        "outputId": "1d26152b-4fae-4b12-8726-57ab7537a18a"
      },
      "source": [
        "df.shape"
      ],
      "execution_count": null,
      "outputs": [
        {
          "output_type": "execute_result",
          "data": {
            "text/plain": [
              "(4224119, 13)"
            ]
          },
          "metadata": {
            "tags": []
          },
          "execution_count": 16
        }
      ]
    },
    {
      "cell_type": "code",
      "metadata": {
        "id": "6EFUBcMVnbQa",
        "colab_type": "code",
        "colab": {}
      },
      "source": [
        "#dropping rows with zero value in column\n",
        "df['Jobs Saved'].fillna(df['Jobs Saved'].mode().values[0], inplace = True)"
      ],
      "execution_count": null,
      "outputs": []
    },
    {
      "cell_type": "markdown",
      "metadata": {
        "id": "9wjT5KHcoGTf",
        "colab_type": "text"
      },
      "source": [
        "double check that jobs saved is not missing values\n"
      ]
    },
    {
      "cell_type": "code",
      "metadata": {
        "id": "civuGCATta59",
        "colab_type": "code",
        "colab": {
          "base_uri": "https://localhost:8080/",
          "height": 260
        },
        "outputId": "db103f52-2b2d-487f-9e14-db546e8004eb"
      },
      "source": [
        "jcount=df.loc[df['Jobs Saved'] != '']\n",
        "jcount.count()\n",
        "\n",
        "\n"
      ],
      "execution_count": null,
      "outputs": [
        {
          "output_type": "execute_result",
          "data": {
            "text/plain": [
              "Loan Amount      4224119\n",
              "City             4223871\n",
              "State            4223248\n",
              "Zip              4223911\n",
              "NAICS Code       4097414\n",
              "Business Type    4220789\n",
              "Race             4224116\n",
              "Gender           4224119\n",
              "Veteran          4224119\n",
              "Non Profit        140698\n",
              "Jobs Saved       4224119\n",
              "Date             4224038\n",
              "Bank             4224119\n",
              "dtype: int64"
            ]
          },
          "metadata": {
            "tags": []
          },
          "execution_count": 18
        }
      ]
    },
    {
      "cell_type": "code",
      "metadata": {
        "id": "9H8WEt_dbtnw",
        "colab_type": "code",
        "colab": {
          "base_uri": "https://localhost:8080/",
          "height": 260
        },
        "outputId": "7cb95e20-f642-4354-a3d1-91419a6f3eec"
      },
      "source": [
        "print(df.isna().sum())"
      ],
      "execution_count": null,
      "outputs": [
        {
          "output_type": "stream",
          "text": [
            "Loan Amount            0\n",
            "City                 248\n",
            "State                871\n",
            "Zip                  208\n",
            "NAICS Code        126705\n",
            "Business Type       3330\n",
            "Race                   3\n",
            "Gender                 0\n",
            "Veteran                0\n",
            "Non Profit       4083421\n",
            "Jobs Saved             0\n",
            "Date                  81\n",
            "Bank                   0\n",
            "dtype: int64\n"
          ],
          "name": "stdout"
        }
      ]
    },
    {
      "cell_type": "markdown",
      "metadata": {
        "id": "RfrHuDSpI66Q",
        "colab_type": "text"
      },
      "source": [
        "check non profit coluumn"
      ]
    },
    {
      "cell_type": "code",
      "metadata": {
        "id": "5zW3kztRFgtg",
        "colab_type": "code",
        "colab": {
          "base_uri": "https://localhost:8080/",
          "height": 104
        },
        "outputId": "22bc59a2-2ac5-4f86-fb5a-cde38e13e09c"
      },
      "source": [
        "df['Non Profit'].value_counts()"
      ],
      "execution_count": null,
      "outputs": [
        {
          "output_type": "execute_result",
          "data": {
            "text/plain": [
              "Y              139179\n",
              "Unanswered       1198\n",
              "Non-Veteran       310\n",
              "Veteran            11\n",
              "Name: Non Profit, dtype: int64"
            ]
          },
          "metadata": {
            "tags": []
          },
          "execution_count": 20
        }
      ]
    },
    {
      "cell_type": "code",
      "metadata": {
        "id": "ga8H6yZbGHkT",
        "colab_type": "code",
        "colab": {
          "base_uri": "https://localhost:8080/",
          "height": 114
        },
        "outputId": "bccf9129-d7a6-4971-8e84-17a4cd53dda4"
      },
      "source": [
        "np_df=df[df['Non Profit'] == 'Y']\n",
        "np_df.sample()"
      ],
      "execution_count": null,
      "outputs": [
        {
          "output_type": "execute_result",
          "data": {
            "text/html": [
              "<div>\n",
              "<style scoped>\n",
              "    .dataframe tbody tr th:only-of-type {\n",
              "        vertical-align: middle;\n",
              "    }\n",
              "\n",
              "    .dataframe tbody tr th {\n",
              "        vertical-align: top;\n",
              "    }\n",
              "\n",
              "    .dataframe thead th {\n",
              "        text-align: right;\n",
              "    }\n",
              "</style>\n",
              "<table border=\"1\" class=\"dataframe\">\n",
              "  <thead>\n",
              "    <tr style=\"text-align: right;\">\n",
              "      <th></th>\n",
              "      <th>Loan Amount</th>\n",
              "      <th>City</th>\n",
              "      <th>State</th>\n",
              "      <th>Zip</th>\n",
              "      <th>NAICS Code</th>\n",
              "      <th>Business Type</th>\n",
              "      <th>Race</th>\n",
              "      <th>Gender</th>\n",
              "      <th>Veteran</th>\n",
              "      <th>Non Profit</th>\n",
              "      <th>Jobs Saved</th>\n",
              "      <th>Date</th>\n",
              "      <th>Bank</th>\n",
              "    </tr>\n",
              "  </thead>\n",
              "  <tbody>\n",
              "    <tr>\n",
              "      <th>2763411</th>\n",
              "      <td>38491.0</td>\n",
              "      <td>DUNDALK</td>\n",
              "      <td>MD</td>\n",
              "      <td>21222</td>\n",
              "      <td>813110.0</td>\n",
              "      <td>Non-Profit Organization</td>\n",
              "      <td>Unanswered</td>\n",
              "      <td>Unanswered</td>\n",
              "      <td>Unanswered</td>\n",
              "      <td>Y</td>\n",
              "      <td>13</td>\n",
              "      <td>04/09/2020</td>\n",
              "      <td>Howard Bank</td>\n",
              "    </tr>\n",
              "  </tbody>\n",
              "</table>\n",
              "</div>"
            ],
            "text/plain": [
              "         Loan Amount     City State    Zip  NAICS Code            Business Type        Race      Gender     Veteran Non Profit Jobs Saved        Date         Bank\n",
              "2763411      38491.0  DUNDALK    MD  21222    813110.0  Non-Profit Organization  Unanswered  Unanswered  Unanswered          Y         13  04/09/2020  Howard Bank"
            ]
          },
          "metadata": {
            "tags": []
          },
          "execution_count": 21
        }
      ]
    },
    {
      "cell_type": "markdown",
      "metadata": {
        "id": "YiBHYIUnGwxd",
        "colab_type": "text"
      },
      "source": [
        "split non profit \"Y\" values off into separate csv to explore later as a table in sql and then drop the column. As a percentage of values, it seems like there isn't enough information as a percentage of the total"
      ]
    },
    {
      "cell_type": "code",
      "metadata": {
        "id": "U_4Lp7ysHMjM",
        "colab_type": "code",
        "colab": {}
      },
      "source": [
        "df.to_csv('non_profit.csv', index=0)\n",
        "!cp non_profit.csv \"drive/My Drive/data\""
      ],
      "execution_count": null,
      "outputs": []
    },
    {
      "cell_type": "code",
      "metadata": {
        "id": "-hGZ9fyFl-qN",
        "colab_type": "code",
        "colab": {}
      },
      "source": [
        "# drop non profit column. \n",
        "df = df.drop('Non Profit', 1)\n"
      ],
      "execution_count": null,
      "outputs": []
    },
    {
      "cell_type": "markdown",
      "metadata": {
        "id": "FfQnhCzwu6Wn",
        "colab_type": "text"
      },
      "source": [
        "Dropping null values from rows in several columns\n"
      ]
    },
    {
      "cell_type": "code",
      "metadata": {
        "id": "0hDGnS9PgpfC",
        "colab_type": "code",
        "colab": {
          "base_uri": "https://localhost:8080/",
          "height": 242
        },
        "outputId": "c1f7abba-4b89-43d7-f07a-454319a87fb9"
      },
      "source": [
        "#dropping null values from rows in the following columns\n",
        "#another option wold be to fill jobs saved in with a value of one because it seems likely that 0 was likely from sole proprietors\n",
        "df=df.dropna(subset=['Zip', 'Race', 'State', 'City', 'Date', 'Jobs Saved', 'NAICS Code', 'Business Type'])\n",
        "print(df.isna().sum())\n",
        "\n"
      ],
      "execution_count": null,
      "outputs": [
        {
          "output_type": "stream",
          "text": [
            "Loan Amount      0\n",
            "City             0\n",
            "State            0\n",
            "Zip              0\n",
            "NAICS Code       0\n",
            "Business Type    0\n",
            "Race             0\n",
            "Gender           0\n",
            "Veteran          0\n",
            "Jobs Saved       0\n",
            "Date             0\n",
            "Bank             0\n",
            "dtype: int64\n"
          ],
          "name": "stdout"
        }
      ]
    },
    {
      "cell_type": "code",
      "metadata": {
        "id": "ZjJtpX3WvBW1",
        "colab_type": "code",
        "colab": {
          "base_uri": "https://localhost:8080/",
          "height": 34
        },
        "outputId": "e21ada79-e9a3-44d9-c65f-c9d1155bafaa"
      },
      "source": [
        "#percentage of rows lost. 3% - not bad\n",
        "dif=4224119-4093662\n",
        "print(dif/4224119)"
      ],
      "execution_count": null,
      "outputs": [
        {
          "output_type": "stream",
          "text": [
            "0.030883836369193198\n"
          ],
          "name": "stdout"
        }
      ]
    },
    {
      "cell_type": "code",
      "metadata": {
        "id": "HJVbd_TzOaCm",
        "colab_type": "code",
        "colab": {
          "base_uri": "https://localhost:8080/",
          "height": 34
        },
        "outputId": "15153f00-ff10-4185-8888-0be5a512056e"
      },
      "source": [
        "#lost about 3% of rows\n",
        "df.shape"
      ],
      "execution_count": null,
      "outputs": [
        {
          "output_type": "execute_result",
          "data": {
            "text/plain": [
              "(4093662, 12)"
            ]
          },
          "metadata": {
            "tags": []
          },
          "execution_count": 26
        }
      ]
    },
    {
      "cell_type": "markdown",
      "metadata": {
        "id": "KGqjEwlItyZo",
        "colab_type": "text"
      },
      "source": [
        "NAICS Codes"
      ]
    },
    {
      "cell_type": "code",
      "metadata": {
        "id": "U48Q1F3jtxFf",
        "colab_type": "code",
        "colab": {
          "base_uri": "https://localhost:8080/",
          "height": 225
        },
        "outputId": "9ebd5737-8614-4172-a45f-142ad69fc38a"
      },
      "source": [
        "df['NAICS Code'].value_counts()"
      ],
      "execution_count": null,
      "outputs": [
        {
          "output_type": "execute_result",
          "data": {
            "text/plain": [
              "722511.0    136768\n",
              "531210.0    111306\n",
              "541110.0    108156\n",
              "621210.0     89360\n",
              "621111.0     88102\n",
              "             ...  \n",
              "48009.0          1\n",
              "48034.0          1\n",
              "48043.0          1\n",
              "48073.0          1\n",
              "623.0            1\n",
              "Name: NAICS Code, Length: 1745, dtype: int64"
            ]
          },
          "metadata": {
            "tags": []
          },
          "execution_count": 27
        }
      ]
    },
    {
      "cell_type": "code",
      "metadata": {
        "id": "f6kIExg6nW-X",
        "colab_type": "code",
        "colab": {}
      },
      "source": [
        "#naics saved should not be a float; convert to string before integer\n",
        "df['NAICS Code']=df['NAICS Code'].astype(str)"
      ],
      "execution_count": null,
      "outputs": []
    },
    {
      "cell_type": "code",
      "metadata": {
        "id": "9lQTvtdbMgVG",
        "colab_type": "code",
        "colab": {}
      },
      "source": [
        "#strip the decimal and zero\n",
        "df['NAICS Code'] = df['NAICS Code'].str.rstrip('.0')"
      ],
      "execution_count": null,
      "outputs": []
    },
    {
      "cell_type": "code",
      "metadata": {
        "id": "R9fLan4eN80K",
        "colab_type": "code",
        "colab": {
          "base_uri": "https://localhost:8080/",
          "height": 34
        },
        "outputId": "2b545a6d-097d-4d73-98b0-060a947f3f1e"
      },
      "source": [
        "#take the first two letters of the NAICS code column and create category column. \n",
        "#category column can be matched to named values. \n",
        "df['NAICS Category'] = df['NAICS Code'].str[:2]\n",
        "df['NAICS Category'].dtype"
      ],
      "execution_count": null,
      "outputs": [
        {
          "output_type": "execute_result",
          "data": {
            "text/plain": [
              "dtype('O')"
            ]
          },
          "metadata": {
            "tags": []
          },
          "execution_count": 30
        }
      ]
    },
    {
      "cell_type": "code",
      "metadata": {
        "id": "mZ802ti2rAvR",
        "colab_type": "code",
        "colab": {
          "base_uri": "https://localhost:8080/",
          "height": 132
        },
        "outputId": "04dc4894-1e78-47e5-acd9-5f373ae4058f"
      },
      "source": [
        "df.sample()"
      ],
      "execution_count": null,
      "outputs": [
        {
          "output_type": "execute_result",
          "data": {
            "text/html": [
              "<div>\n",
              "<style scoped>\n",
              "    .dataframe tbody tr th:only-of-type {\n",
              "        vertical-align: middle;\n",
              "    }\n",
              "\n",
              "    .dataframe tbody tr th {\n",
              "        vertical-align: top;\n",
              "    }\n",
              "\n",
              "    .dataframe thead th {\n",
              "        text-align: right;\n",
              "    }\n",
              "</style>\n",
              "<table border=\"1\" class=\"dataframe\">\n",
              "  <thead>\n",
              "    <tr style=\"text-align: right;\">\n",
              "      <th></th>\n",
              "      <th>Loan Amount</th>\n",
              "      <th>City</th>\n",
              "      <th>State</th>\n",
              "      <th>Zip</th>\n",
              "      <th>NAICS Code</th>\n",
              "      <th>Business Type</th>\n",
              "      <th>Race</th>\n",
              "      <th>Gender</th>\n",
              "      <th>Veteran</th>\n",
              "      <th>Jobs Saved</th>\n",
              "      <th>Date</th>\n",
              "      <th>Bank</th>\n",
              "      <th>NAICS Category</th>\n",
              "    </tr>\n",
              "  </thead>\n",
              "  <tbody>\n",
              "    <tr>\n",
              "      <th>1542390</th>\n",
              "      <td>6585.0</td>\n",
              "      <td>PRAIRIE DU CHIEN</td>\n",
              "      <td>WI</td>\n",
              "      <td>53821</td>\n",
              "      <td>53119</td>\n",
              "      <td>Sole Proprietorship</td>\n",
              "      <td>Unanswered</td>\n",
              "      <td>Unanswered</td>\n",
              "      <td>Unanswered</td>\n",
              "      <td>1</td>\n",
              "      <td>04/28/2020</td>\n",
              "      <td>Peoples State Bank</td>\n",
              "      <td>53</td>\n",
              "    </tr>\n",
              "  </tbody>\n",
              "</table>\n",
              "</div>"
            ],
            "text/plain": [
              "         Loan Amount              City State    Zip NAICS Code        Business Type        Race      Gender     Veteran Jobs Saved        Date                Bank NAICS Category\n",
              "1542390       6585.0  PRAIRIE DU CHIEN    WI  53821      53119  Sole Proprietorship  Unanswered  Unanswered  Unanswered          1  04/28/2020  Peoples State Bank             53"
            ]
          },
          "metadata": {
            "tags": []
          },
          "execution_count": 31
        }
      ]
    },
    {
      "cell_type": "code",
      "metadata": {
        "id": "IS5DxKeFqyK1",
        "colab_type": "code",
        "colab": {
          "base_uri": "https://localhost:8080/",
          "height": 34
        },
        "outputId": "a9516baf-91c2-4fc7-fb02-bf61a691c784"
      },
      "source": [
        "df.shape"
      ],
      "execution_count": null,
      "outputs": [
        {
          "output_type": "execute_result",
          "data": {
            "text/plain": [
              "(4093662, 13)"
            ]
          },
          "metadata": {
            "tags": []
          },
          "execution_count": 32
        }
      ]
    },
    {
      "cell_type": "markdown",
      "metadata": {
        "id": "cEysiimBuJPF",
        "colab_type": "text"
      },
      "source": [
        "Date column"
      ]
    },
    {
      "cell_type": "code",
      "metadata": {
        "id": "ZpJHS1jbgpoV",
        "colab_type": "code",
        "colab": {}
      },
      "source": [
        "# somewhat forcing the date conversion because there must be some values that are not able to be converted to date format \n",
        "df['Date'] =  pd.to_datetime(df['Date'], errors='coerce')"
      ],
      "execution_count": null,
      "outputs": []
    },
    {
      "cell_type": "code",
      "metadata": {
        "id": "MwFZ8r5ywetV",
        "colab_type": "code",
        "colab": {
          "base_uri": "https://localhost:8080/",
          "height": 34
        },
        "outputId": "7db7ade7-7163-4ca7-bbc7-b4407fc3daa1"
      },
      "source": [
        "df.shape"
      ],
      "execution_count": null,
      "outputs": [
        {
          "output_type": "execute_result",
          "data": {
            "text/plain": [
              "(4093662, 13)"
            ]
          },
          "metadata": {
            "tags": []
          },
          "execution_count": 34
        }
      ]
    },
    {
      "cell_type": "code",
      "metadata": {
        "id": "xHqNDYK2wk7Z",
        "colab_type": "code",
        "colab": {}
      },
      "source": [
        "#check for stray values\n",
        "# df.Date.value_counts(ascending=True)"
      ],
      "execution_count": null,
      "outputs": []
    },
    {
      "cell_type": "code",
      "metadata": {
        "id": "TYsGUxy8XgDO",
        "colab_type": "code",
        "colab": {
          "base_uri": "https://localhost:8080/",
          "height": 34
        },
        "outputId": "c54d4dc3-407d-4b7b-8cca-2de3a93b4586"
      },
      "source": [
        "# date conversion verification \n",
        "df['Date'].dtype"
      ],
      "execution_count": null,
      "outputs": [
        {
          "output_type": "execute_result",
          "data": {
            "text/plain": [
              "dtype('<M8[ns]')"
            ]
          },
          "metadata": {
            "tags": []
          },
          "execution_count": 36
        }
      ]
    },
    {
      "cell_type": "code",
      "metadata": {
        "id": "-sHsrYf3Xudt",
        "colab_type": "code",
        "colab": {
          "base_uri": "https://localhost:8080/",
          "height": 210
        },
        "outputId": "62c7f6e2-7f5a-4134-f68d-dfc7417cfbd9"
      },
      "source": [
        "#check \n",
        "df.sample(3)"
      ],
      "execution_count": null,
      "outputs": [
        {
          "output_type": "execute_result",
          "data": {
            "text/html": [
              "<div>\n",
              "<style scoped>\n",
              "    .dataframe tbody tr th:only-of-type {\n",
              "        vertical-align: middle;\n",
              "    }\n",
              "\n",
              "    .dataframe tbody tr th {\n",
              "        vertical-align: top;\n",
              "    }\n",
              "\n",
              "    .dataframe thead th {\n",
              "        text-align: right;\n",
              "    }\n",
              "</style>\n",
              "<table border=\"1\" class=\"dataframe\">\n",
              "  <thead>\n",
              "    <tr style=\"text-align: right;\">\n",
              "      <th></th>\n",
              "      <th>Loan Amount</th>\n",
              "      <th>City</th>\n",
              "      <th>State</th>\n",
              "      <th>Zip</th>\n",
              "      <th>NAICS Code</th>\n",
              "      <th>Business Type</th>\n",
              "      <th>Race</th>\n",
              "      <th>Gender</th>\n",
              "      <th>Veteran</th>\n",
              "      <th>Jobs Saved</th>\n",
              "      <th>Date</th>\n",
              "      <th>Bank</th>\n",
              "      <th>NAICS Category</th>\n",
              "    </tr>\n",
              "  </thead>\n",
              "  <tbody>\n",
              "    <tr>\n",
              "      <th>1181348</th>\n",
              "      <td>5000.0</td>\n",
              "      <td>AIKEN</td>\n",
              "      <td>SC</td>\n",
              "      <td>29803</td>\n",
              "      <td>453998</td>\n",
              "      <td>Sole Proprietorship</td>\n",
              "      <td>Unanswered</td>\n",
              "      <td>Male Owned</td>\n",
              "      <td>Non-Veteran</td>\n",
              "      <td>1</td>\n",
              "      <td>2020-06-30</td>\n",
              "      <td>Customers Bank</td>\n",
              "      <td>45</td>\n",
              "    </tr>\n",
              "    <tr>\n",
              "      <th>3917145</th>\n",
              "      <td>28550.0</td>\n",
              "      <td>IRVINE</td>\n",
              "      <td>CA</td>\n",
              "      <td>92604</td>\n",
              "      <td>62121</td>\n",
              "      <td>Corporation</td>\n",
              "      <td>Unanswered</td>\n",
              "      <td>Unanswered</td>\n",
              "      <td>Unanswered</td>\n",
              "      <td>5</td>\n",
              "      <td>2020-05-03</td>\n",
              "      <td>Bank of America</td>\n",
              "      <td>62</td>\n",
              "    </tr>\n",
              "    <tr>\n",
              "      <th>3412165</th>\n",
              "      <td>27800.0</td>\n",
              "      <td>RALEIGH</td>\n",
              "      <td>NC</td>\n",
              "      <td>27603</td>\n",
              "      <td>56173</td>\n",
              "      <td>Corporation</td>\n",
              "      <td>Unanswered</td>\n",
              "      <td>Unanswered</td>\n",
              "      <td>Unanswered</td>\n",
              "      <td>2</td>\n",
              "      <td>2020-05-01</td>\n",
              "      <td>First-Citizens Bank &amp; Trust Company</td>\n",
              "      <td>56</td>\n",
              "    </tr>\n",
              "  </tbody>\n",
              "</table>\n",
              "</div>"
            ],
            "text/plain": [
              "         Loan Amount     City State    Zip NAICS Code        Business Type        Race      Gender      Veteran Jobs Saved       Date                                 Bank NAICS Category\n",
              "1181348       5000.0    AIKEN    SC  29803     453998  Sole Proprietorship  Unanswered  Male Owned  Non-Veteran          1 2020-06-30                       Customers Bank             45\n",
              "3917145      28550.0   IRVINE    CA  92604      62121          Corporation  Unanswered  Unanswered   Unanswered          5 2020-05-03                      Bank of America             62\n",
              "3412165      27800.0  RALEIGH    NC  27603      56173          Corporation  Unanswered  Unanswered   Unanswered          2 2020-05-01  First-Citizens Bank & Trust Company             56"
            ]
          },
          "metadata": {
            "tags": []
          },
          "execution_count": 37
        }
      ]
    },
    {
      "cell_type": "markdown",
      "metadata": {
        "id": "X0GWGvDNwGjd",
        "colab_type": "text"
      },
      "source": [
        "State column\n"
      ]
    },
    {
      "cell_type": "code",
      "metadata": {
        "id": "BjrqDVyax4mU",
        "colab_type": "code",
        "colab": {
          "base_uri": "https://localhost:8080/",
          "height": 34
        },
        "outputId": "216e66fb-38ee-40d0-91dd-f1b5d0f85d36"
      },
      "source": [
        "#number of unique values in a column\n",
        "df['State'].nunique()"
      ],
      "execution_count": null,
      "outputs": [
        {
          "output_type": "execute_result",
          "data": {
            "text/plain": [
              "273"
            ]
          },
          "metadata": {
            "tags": []
          },
          "execution_count": 38
        }
      ]
    },
    {
      "cell_type": "code",
      "metadata": {
        "id": "02zt88vPx5Di",
        "colab_type": "code",
        "colab": {
          "base_uri": "https://localhost:8080/",
          "height": 225
        },
        "outputId": "992dfdf4-3ef0-41a0-91c5-d8099c69fd97"
      },
      "source": [
        "df['State'].value_counts()"
      ],
      "execution_count": null,
      "outputs": [
        {
          "output_type": "execute_result",
          "data": {
            "text/plain": [
              "CA                     470710\n",
              "FL                     341051\n",
              "TX                     328235\n",
              "NY                     261809\n",
              "IL                     167429\n",
              "                        ...  \n",
              " NY 11552\"                  1\n",
              " LA.\"                       1\n",
              " AND NEW YORK CITY\"         1\n",
              " LOUIS\"                     1\n",
              " MA 02360\"                  1\n",
              "Name: State, Length: 273, dtype: int64"
            ]
          },
          "metadata": {
            "tags": []
          },
          "execution_count": 39
        }
      ]
    },
    {
      "cell_type": "code",
      "metadata": {
        "id": "yOyfbfGOq3H_",
        "colab_type": "code",
        "colab": {}
      },
      "source": [
        "#remove open space to the left side of state\n",
        "df['State'] = df['State'].str.strip(' ', )"
      ],
      "execution_count": null,
      "outputs": []
    },
    {
      "cell_type": "code",
      "metadata": {
        "id": "4aSiFuLZ1Eah",
        "colab_type": "code",
        "colab": {
          "base_uri": "https://localhost:8080/",
          "height": 225
        },
        "outputId": "5b5b24b7-2e7d-45b2-f785-fbe1eb19c5b7"
      },
      "source": [
        "df['State'].value_counts()"
      ],
      "execution_count": null,
      "outputs": [
        {
          "output_type": "execute_result",
          "data": {
            "text/plain": [
              "CA                     470710\n",
              "FL                     341051\n",
              "TX                     328235\n",
              "NY                     261809\n",
              "IL                     167429\n",
              "                        ...  \n",
              "LA.\"                        1\n",
              "AVE\"                        1\n",
              "30669 U.S HWY 19N.\"         1\n",
              "NY 10977\"                   1\n",
              "AE                          1\n",
              "Name: State, Length: 260, dtype: int64"
            ]
          },
          "metadata": {
            "tags": []
          },
          "execution_count": 41
        }
      ]
    },
    {
      "cell_type": "code",
      "metadata": {
        "id": "n0OYPii3rO0r",
        "colab_type": "code",
        "colab": {}
      },
      "source": [
        "# df['State'] = df.loc[df['State']].str.rstrip('\"', )\n",
        "# #remove the stray \""
      ],
      "execution_count": null,
      "outputs": []
    },
    {
      "cell_type": "code",
      "metadata": {
        "id": "QtTXX1OcUlf1",
        "colab_type": "code",
        "colab": {}
      },
      "source": [
        "#taking first two letters \n",
        "df['State'] = [x[:2] for x in df['State']]\n"
      ],
      "execution_count": null,
      "outputs": []
    },
    {
      "cell_type": "code",
      "metadata": {
        "id": "gpTC0YIi3rDN",
        "colab_type": "code",
        "colab": {}
      },
      "source": [
        "df=df.groupby('State').filter(lambda x : (x['State'].count()>=7).any())"
      ],
      "execution_count": null,
      "outputs": []
    },
    {
      "cell_type": "code",
      "metadata": {
        "id": "dWDGsO_qxbxA",
        "colab_type": "code",
        "colab": {
          "base_uri": "https://localhost:8080/",
          "height": 1000
        },
        "outputId": "5e9232f3-034f-4676-c6fc-09861e4c5031"
      },
      "source": [
        "df['State'].value_counts()"
      ],
      "execution_count": null,
      "outputs": [
        {
          "output_type": "execute_result",
          "data": {
            "text/plain": [
              "CA    470781\n",
              "FL    341087\n",
              "TX    328286\n",
              "NY    261850\n",
              "IL    167444\n",
              "GA    136190\n",
              "PA    136094\n",
              "NJ    116632\n",
              "OH    112418\n",
              "NC    103574\n",
              "MI     97110\n",
              "MA     92441\n",
              "VA     91757\n",
              "CO     88693\n",
              "MN     83186\n",
              "WA     82909\n",
              "TN     80744\n",
              "MO     78890\n",
              "WI     71637\n",
              "AZ     67140\n",
              "MD     67078\n",
              "IN     65879\n",
              "LA     63298\n",
              "OK     57110\n",
              "AL     57072\n",
              "SC     54081\n",
              "IA     52229\n",
              "OR     52056\n",
              "CT     50809\n",
              "KS     45585\n",
              "UT     42622\n",
              "MS     41673\n",
              "KY     41130\n",
              "NE     38139\n",
              "AR     37931\n",
              "NV     33882\n",
              "PR     31622\n",
              "ID     26316\n",
              "ME     23993\n",
              "HI     21189\n",
              "MT     20768\n",
              "SD     20490\n",
              "NH     19682\n",
              "NM     18579\n",
              "ND     17491\n",
              "WV     14895\n",
              "RI     14467\n",
              "WY     11650\n",
              "VT     10229\n",
              "DE      9991\n",
              "AK      9412\n",
              "DC      9199\n",
              "GU      1867\n",
              "VI      1686\n",
              "MP       417\n",
              "AS       204\n",
              "XX        16\n",
              "TE        11\n",
              "ST         7\n",
              "Name: State, dtype: int64"
            ]
          },
          "metadata": {
            "tags": []
          },
          "execution_count": 45
        }
      ]
    },
    {
      "cell_type": "code",
      "metadata": {
        "id": "bVStvxvO46OC",
        "colab_type": "code",
        "colab": {
          "base_uri": "https://localhost:8080/",
          "height": 34
        },
        "outputId": "0a2b5793-23f2-42fb-84e6-23779fa75d08"
      },
      "source": [
        "df.shape"
      ],
      "execution_count": null,
      "outputs": [
        {
          "output_type": "execute_result",
          "data": {
            "text/plain": [
              "(4093618, 13)"
            ]
          },
          "metadata": {
            "tags": []
          },
          "execution_count": 46
        }
      ]
    },
    {
      "cell_type": "code",
      "metadata": {
        "id": "qjKIwyvKq9_9",
        "colab_type": "code",
        "colab": {}
      },
      "source": [
        "# df['State'] = df['State'].str.strip('.', )"
      ],
      "execution_count": null,
      "outputs": []
    },
    {
      "cell_type": "code",
      "metadata": {
        "id": "Ep5amTyvxbXc",
        "colab_type": "code",
        "colab": {}
      },
      "source": [
        "# df.shape"
      ],
      "execution_count": null,
      "outputs": []
    },
    {
      "cell_type": "code",
      "metadata": {
        "id": "D9A3ryWUqq3I",
        "colab_type": "code",
        "colab": {}
      },
      "source": [
        "# df['States'] = df['States'].str.lstrip(' ', )"
      ],
      "execution_count": null,
      "outputs": []
    },
    {
      "cell_type": "code",
      "metadata": {
        "id": "6_vm_qeBxpCp",
        "colab_type": "code",
        "colab": {
          "base_uri": "https://localhost:8080/",
          "height": 34
        },
        "outputId": "08d0df91-5af1-4857-d427-1c0497466d1a"
      },
      "source": [
        "df['State'].nunique()"
      ],
      "execution_count": null,
      "outputs": [
        {
          "output_type": "execute_result",
          "data": {
            "text/plain": [
              "59"
            ]
          },
          "metadata": {
            "tags": []
          },
          "execution_count": 50
        }
      ]
    },
    {
      "cell_type": "code",
      "metadata": {
        "id": "5jzaEqAPlLEE",
        "colab_type": "code",
        "colab": {
          "base_uri": "https://localhost:8080/",
          "height": 1000
        },
        "outputId": "2a92533a-26aa-442a-eeb3-7cf466f5f790"
      },
      "source": [
        "df['NAICS Category'].value_counts()"
      ],
      "execution_count": null,
      "outputs": [
        {
          "output_type": "execute_result",
          "data": {
            "text/plain": [
              "54    553820\n",
              "81    491278\n",
              "62    422097\n",
              "23    380205\n",
              "72    308883\n",
              "44    261611\n",
              "53    227682\n",
              "56    208301\n",
              "48    159261\n",
              "52    154859\n",
              "45    137492\n",
              "42    129498\n",
              "11    129384\n",
              "71    108352\n",
              "33     86468\n",
              "99     83900\n",
              "61     67447\n",
              "51     57559\n",
              "32     38651\n",
              "31     35583\n",
              "21     16388\n",
              "92     11333\n",
              "49      9824\n",
              "55      7236\n",
              "22      6137\n",
              "78        28\n",
              "10        22\n",
              "20        17\n",
              "91        14\n",
              "77        14\n",
              "85        14\n",
              "60        13\n",
              "80        13\n",
              "94        12\n",
              "95        11\n",
              "90        10\n",
              "68        10\n",
              "30         9\n",
              "76         9\n",
              "75         9\n",
              "93         8\n",
              "98         8\n",
              "70         8\n",
              "82         8\n",
              "96         8\n",
              "28         7\n",
              "73         7\n",
              "89         6\n",
              "14         6\n",
              "34         5\n",
              "24         5\n",
              "13         5\n",
              "64         5\n",
              "74         5\n",
              "26         5\n",
              "97         5\n",
              "18         4\n",
              "37         4\n",
              "12         4\n",
              "27         4\n",
              "79         4\n",
              "19         4\n",
              "17         4\n",
              "88         4\n",
              "84         3\n",
              "66         3\n",
              "58         3\n",
              "63         2\n",
              "50         2\n",
              "86         2\n",
              "29         2\n",
              "35         2\n",
              "57         2\n",
              "39         1\n",
              "46         1\n",
              "36         1\n",
              "65         1\n",
              "87         1\n",
              "59         1\n",
              "83         1\n",
              "41         1\n",
              "69         1\n",
              "47         1\n",
              "Name: NAICS Category, dtype: int64"
            ]
          },
          "metadata": {
            "tags": []
          },
          "execution_count": 51
        }
      ]
    },
    {
      "cell_type": "code",
      "metadata": {
        "id": "l1oiN-9RlLOI",
        "colab_type": "code",
        "colab": {}
      },
      "source": [
        "df = df.groupby('NAICS Category').filter(lambda x: len(x) >= 5)"
      ],
      "execution_count": null,
      "outputs": []
    },
    {
      "cell_type": "code",
      "metadata": {
        "id": "5GgUOmtTqs8e",
        "colab_type": "code",
        "colab": {
          "base_uri": "https://localhost:8080/",
          "height": 34
        },
        "outputId": "82e85690-b209-46dc-b079-b6e0af2d5b4b"
      },
      "source": [
        "df.shape"
      ],
      "execution_count": null,
      "outputs": [
        {
          "output_type": "execute_result",
          "data": {
            "text/plain": [
              "(4093555, 13)"
            ]
          },
          "metadata": {
            "tags": []
          },
          "execution_count": 53
        }
      ]
    },
    {
      "cell_type": "code",
      "metadata": {
        "id": "pb-jwIdzf7O7",
        "colab_type": "code",
        "colab": {}
      },
      "source": [
        "# cleaned file of loans under $150k preserving roughly 4 million rows\n",
        "df.to_csv('jobs_saved.csv', index=0)\n",
        "!cp jobs_saved.csv \"drive/My Drive/\""
      ],
      "execution_count": null,
      "outputs": []
    },
    {
      "cell_type": "code",
      "metadata": {
        "id": "hDg38D8FiiA8",
        "colab_type": "code",
        "colab": {}
      },
      "source": [
        "col=list(df.columns)"
      ],
      "execution_count": null,
      "outputs": []
    },
    {
      "cell_type": "code",
      "metadata": {
        "id": "ttJhQNIyBQfd",
        "colab_type": "code",
        "colab": {}
      },
      "source": [
        "#convert the strings to integers in jobs saved\n",
        "# df['Jobs Saved'] = pd.to_numeric(df['Jobs Saved'], errors=\"coerce\")\n",
        "# df['Jobs Saved'] = df['Jobs Saved'].astype(int)"
      ],
      "execution_count": null,
      "outputs": []
    },
    {
      "cell_type": "code",
      "metadata": {
        "id": "31KUXD1rxf1F",
        "colab_type": "code",
        "colab": {
          "base_uri": "https://localhost:8080/",
          "height": 34
        },
        "outputId": "15b3b68b-7426-472a-9489-d162db1c960e"
      },
      "source": [
        "# df['Jobs Saved'].fillna(0, inplace = True)\n",
        "df.shape"
      ],
      "execution_count": null,
      "outputs": [
        {
          "output_type": "execute_result",
          "data": {
            "text/plain": [
              "(4093555, 13)"
            ]
          },
          "metadata": {
            "tags": []
          },
          "execution_count": 57
        }
      ]
    },
    {
      "cell_type": "code",
      "metadata": {
        "id": "2rl0DlKABRc-",
        "colab_type": "code",
        "colab": {
          "base_uri": "https://localhost:8080/",
          "height": 260
        },
        "outputId": "165d313a-7d98-4fa6-b946-4844e19d715d"
      },
      "source": [
        "df.dtypes"
      ],
      "execution_count": null,
      "outputs": [
        {
          "output_type": "execute_result",
          "data": {
            "text/plain": [
              "Loan Amount              float64\n",
              "City                      object\n",
              "State                     object\n",
              "Zip                       object\n",
              "NAICS Code                object\n",
              "Business Type             object\n",
              "Race                      object\n",
              "Gender                    object\n",
              "Veteran                   object\n",
              "Jobs Saved                object\n",
              "Date              datetime64[ns]\n",
              "Bank                      object\n",
              "NAICS Category            object\n",
              "dtype: object"
            ]
          },
          "metadata": {
            "tags": []
          },
          "execution_count": 58
        }
      ]
    },
    {
      "cell_type": "code",
      "metadata": {
        "id": "pdUPz6ckTOsI",
        "colab_type": "code",
        "colab": {
          "base_uri": "https://localhost:8080/",
          "height": 660
        },
        "outputId": "f53592cb-743b-4960-b269-dcfd8ce6d5b1"
      },
      "source": [
        "df.sample(12)"
      ],
      "execution_count": null,
      "outputs": [
        {
          "output_type": "execute_result",
          "data": {
            "text/html": [
              "<div>\n",
              "<style scoped>\n",
              "    .dataframe tbody tr th:only-of-type {\n",
              "        vertical-align: middle;\n",
              "    }\n",
              "\n",
              "    .dataframe tbody tr th {\n",
              "        vertical-align: top;\n",
              "    }\n",
              "\n",
              "    .dataframe thead th {\n",
              "        text-align: right;\n",
              "    }\n",
              "</style>\n",
              "<table border=\"1\" class=\"dataframe\">\n",
              "  <thead>\n",
              "    <tr style=\"text-align: right;\">\n",
              "      <th></th>\n",
              "      <th>Loan Amount</th>\n",
              "      <th>City</th>\n",
              "      <th>State</th>\n",
              "      <th>Zip</th>\n",
              "      <th>NAICS Code</th>\n",
              "      <th>Business Type</th>\n",
              "      <th>Race</th>\n",
              "      <th>Gender</th>\n",
              "      <th>Veteran</th>\n",
              "      <th>Jobs Saved</th>\n",
              "      <th>Date</th>\n",
              "      <th>Bank</th>\n",
              "      <th>NAICS Category</th>\n",
              "    </tr>\n",
              "  </thead>\n",
              "  <tbody>\n",
              "    <tr>\n",
              "      <th>2488883</th>\n",
              "      <td>14933.0</td>\n",
              "      <td>GENEVA</td>\n",
              "      <td>FL</td>\n",
              "      <td>32732</td>\n",
              "      <td>236115</td>\n",
              "      <td>Corporation</td>\n",
              "      <td>Unanswered</td>\n",
              "      <td>Unanswered</td>\n",
              "      <td>Unanswered</td>\n",
              "      <td>1</td>\n",
              "      <td>2020-05-07</td>\n",
              "      <td>Wells Fargo Bank</td>\n",
              "      <td>23</td>\n",
              "    </tr>\n",
              "    <tr>\n",
              "      <th>152993</th>\n",
              "      <td>42778.0</td>\n",
              "      <td>SKOKIE</td>\n",
              "      <td>IL</td>\n",
              "      <td>60076</td>\n",
              "      <td>53119</td>\n",
              "      <td>Self-Employed Individuals</td>\n",
              "      <td>Unanswered</td>\n",
              "      <td>Unanswered</td>\n",
              "      <td>Unanswered</td>\n",
              "      <td>2</td>\n",
              "      <td>2020-06-03</td>\n",
              "      <td>Kabbage</td>\n",
              "      <td>53</td>\n",
              "    </tr>\n",
              "    <tr>\n",
              "      <th>154323</th>\n",
              "      <td>41666.0</td>\n",
              "      <td>CHICAGO</td>\n",
              "      <td>IL</td>\n",
              "      <td>60657</td>\n",
              "      <td>54141</td>\n",
              "      <td>Limited  Liability Company(LLC)</td>\n",
              "      <td>Unanswered</td>\n",
              "      <td>Unanswered</td>\n",
              "      <td>Unanswered</td>\n",
              "      <td>2</td>\n",
              "      <td>2020-04-30</td>\n",
              "      <td>Bank of America</td>\n",
              "      <td>54</td>\n",
              "    </tr>\n",
              "    <tr>\n",
              "      <th>1777118</th>\n",
              "      <td>20833.0</td>\n",
              "      <td>FRAMINGHAM</td>\n",
              "      <td>MA</td>\n",
              "      <td>01701</td>\n",
              "      <td>54111</td>\n",
              "      <td>Sole Proprietorship</td>\n",
              "      <td>Unanswered</td>\n",
              "      <td>Unanswered</td>\n",
              "      <td>Unanswered</td>\n",
              "      <td>1</td>\n",
              "      <td>2020-06-06</td>\n",
              "      <td>Bank of America</td>\n",
              "      <td>54</td>\n",
              "    </tr>\n",
              "    <tr>\n",
              "      <th>348982</th>\n",
              "      <td>13177.5</td>\n",
              "      <td>ARLINGTON</td>\n",
              "      <td>VA</td>\n",
              "      <td>22204</td>\n",
              "      <td>44711</td>\n",
              "      <td>Subchapter S Corporation</td>\n",
              "      <td>Unanswered</td>\n",
              "      <td>Unanswered</td>\n",
              "      <td>Unanswered</td>\n",
              "      <td>1</td>\n",
              "      <td>2020-04-27</td>\n",
              "      <td>Burke &amp; Herbert Bank &amp; Trust Company</td>\n",
              "      <td>44</td>\n",
              "    </tr>\n",
              "    <tr>\n",
              "      <th>3374990</th>\n",
              "      <td>105600.0</td>\n",
              "      <td>DURHAM</td>\n",
              "      <td>NC</td>\n",
              "      <td>27701</td>\n",
              "      <td>339992</td>\n",
              "      <td>Corporation</td>\n",
              "      <td>Unanswered</td>\n",
              "      <td>Unanswered</td>\n",
              "      <td>Unanswered</td>\n",
              "      <td>21</td>\n",
              "      <td>2020-05-03</td>\n",
              "      <td>PNC Bank</td>\n",
              "      <td>33</td>\n",
              "    </tr>\n",
              "    <tr>\n",
              "      <th>836750</th>\n",
              "      <td>44592.0</td>\n",
              "      <td>AURORA</td>\n",
              "      <td>CO</td>\n",
              "      <td>80015</td>\n",
              "      <td>23821</td>\n",
              "      <td>Limited  Liability Company(LLC)</td>\n",
              "      <td>Unanswered</td>\n",
              "      <td>Unanswered</td>\n",
              "      <td>Unanswered</td>\n",
              "      <td>8</td>\n",
              "      <td>2020-05-30</td>\n",
              "      <td>U.S. Bank</td>\n",
              "      <td>23</td>\n",
              "    </tr>\n",
              "    <tr>\n",
              "      <th>1110131</th>\n",
              "      <td>20800.0</td>\n",
              "      <td>LOGAN</td>\n",
              "      <td>UT</td>\n",
              "      <td>84341</td>\n",
              "      <td>621111</td>\n",
              "      <td>Subchapter S Corporation</td>\n",
              "      <td>Unanswered</td>\n",
              "      <td>Unanswered</td>\n",
              "      <td>Unanswered</td>\n",
              "      <td>1</td>\n",
              "      <td>2020-04-27</td>\n",
              "      <td>Bank of Utah</td>\n",
              "      <td>62</td>\n",
              "    </tr>\n",
              "    <tr>\n",
              "      <th>1740683</th>\n",
              "      <td>73860.0</td>\n",
              "      <td>SHARON</td>\n",
              "      <td>MA</td>\n",
              "      <td>02067</td>\n",
              "      <td>23622</td>\n",
              "      <td>Limited  Liability Company(LLC)</td>\n",
              "      <td>Unanswered</td>\n",
              "      <td>Unanswered</td>\n",
              "      <td>Unanswered</td>\n",
              "      <td>8.0</td>\n",
              "      <td>2020-04-27</td>\n",
              "      <td>Eastern Bank</td>\n",
              "      <td>23</td>\n",
              "    </tr>\n",
              "    <tr>\n",
              "      <th>727378</th>\n",
              "      <td>18400.0</td>\n",
              "      <td>MONTGOMERY</td>\n",
              "      <td>AL</td>\n",
              "      <td>36109</td>\n",
              "      <td>812112</td>\n",
              "      <td>Subchapter S Corporation</td>\n",
              "      <td>Unanswered</td>\n",
              "      <td>Unanswered</td>\n",
              "      <td>Unanswered</td>\n",
              "      <td>1</td>\n",
              "      <td>2020-05-05</td>\n",
              "      <td>Regions Bank</td>\n",
              "      <td>81</td>\n",
              "    </tr>\n",
              "    <tr>\n",
              "      <th>2866714</th>\n",
              "      <td>63025.0</td>\n",
              "      <td>MIDLAND</td>\n",
              "      <td>TX</td>\n",
              "      <td>79705</td>\n",
              "      <td>112111</td>\n",
              "      <td>Sole Proprietorship</td>\n",
              "      <td>White</td>\n",
              "      <td>Unanswered</td>\n",
              "      <td>Unanswered</td>\n",
              "      <td>7.0</td>\n",
              "      <td>2020-04-14</td>\n",
              "      <td>West Texas National Bank</td>\n",
              "      <td>11</td>\n",
              "    </tr>\n",
              "    <tr>\n",
              "      <th>1699035</th>\n",
              "      <td>15812.0</td>\n",
              "      <td>SCOTTSDALE</td>\n",
              "      <td>AZ</td>\n",
              "      <td>85260</td>\n",
              "      <td>517911</td>\n",
              "      <td>Non-Profit Organization</td>\n",
              "      <td>Unanswered</td>\n",
              "      <td>Unanswered</td>\n",
              "      <td>Unanswered</td>\n",
              "      <td>1</td>\n",
              "      <td>2020-05-03</td>\n",
              "      <td>Bank of America</td>\n",
              "      <td>51</td>\n",
              "    </tr>\n",
              "  </tbody>\n",
              "</table>\n",
              "</div>"
            ],
            "text/plain": [
              "         Loan Amount        City State    Zip NAICS Code                    Business Type        Race      Gender     Veteran Jobs Saved       Date                                  Bank NAICS Category\n",
              "2488883      14933.0      GENEVA    FL  32732     236115                      Corporation  Unanswered  Unanswered  Unanswered          1 2020-05-07                      Wells Fargo Bank             23\n",
              "152993       42778.0      SKOKIE    IL  60076      53119        Self-Employed Individuals  Unanswered  Unanswered  Unanswered          2 2020-06-03                               Kabbage             53\n",
              "154323       41666.0     CHICAGO    IL  60657      54141  Limited  Liability Company(LLC)  Unanswered  Unanswered  Unanswered          2 2020-04-30                       Bank of America             54\n",
              "1777118      20833.0  FRAMINGHAM    MA  01701      54111              Sole Proprietorship  Unanswered  Unanswered  Unanswered          1 2020-06-06                       Bank of America             54\n",
              "348982       13177.5   ARLINGTON    VA  22204      44711         Subchapter S Corporation  Unanswered  Unanswered  Unanswered          1 2020-04-27  Burke & Herbert Bank & Trust Company             44\n",
              "3374990     105600.0      DURHAM    NC  27701     339992                      Corporation  Unanswered  Unanswered  Unanswered         21 2020-05-03                              PNC Bank             33\n",
              "836750       44592.0      AURORA    CO  80015      23821  Limited  Liability Company(LLC)  Unanswered  Unanswered  Unanswered          8 2020-05-30                             U.S. Bank             23\n",
              "1110131      20800.0       LOGAN    UT  84341     621111         Subchapter S Corporation  Unanswered  Unanswered  Unanswered          1 2020-04-27                          Bank of Utah             62\n",
              "1740683      73860.0      SHARON    MA  02067      23622  Limited  Liability Company(LLC)  Unanswered  Unanswered  Unanswered        8.0 2020-04-27                          Eastern Bank             23\n",
              "727378       18400.0  MONTGOMERY    AL  36109     812112         Subchapter S Corporation  Unanswered  Unanswered  Unanswered          1 2020-05-05                          Regions Bank             81\n",
              "2866714      63025.0     MIDLAND    TX  79705     112111              Sole Proprietorship       White  Unanswered  Unanswered        7.0 2020-04-14              West Texas National Bank             11\n",
              "1699035      15812.0  SCOTTSDALE    AZ  85260     517911          Non-Profit Organization  Unanswered  Unanswered  Unanswered          1 2020-05-03                       Bank of America             51"
            ]
          },
          "metadata": {
            "tags": []
          },
          "execution_count": 59
        }
      ]
    },
    {
      "cell_type": "code",
      "metadata": {
        "id": "V44R0PlGsI5o",
        "colab_type": "code",
        "colab": {
          "base_uri": "https://localhost:8080/",
          "height": 34
        },
        "outputId": "3ef50907-f641-4302-85e5-81939895ee25"
      },
      "source": [
        "df.shape"
      ],
      "execution_count": null,
      "outputs": [
        {
          "output_type": "execute_result",
          "data": {
            "text/plain": [
              "(4093555, 13)"
            ]
          },
          "metadata": {
            "tags": []
          },
          "execution_count": 60
        }
      ]
    },
    {
      "cell_type": "code",
      "metadata": {
        "id": "ykExnj4pqSgT",
        "colab_type": "code",
        "colab": {
          "base_uri": "https://localhost:8080/",
          "height": 364
        },
        "outputId": "5262637a-9410-4a0f-84ef-105549df1d27"
      },
      "source": [
        "df.info()"
      ],
      "execution_count": null,
      "outputs": [
        {
          "output_type": "stream",
          "text": [
            "<class 'pandas.core.frame.DataFrame'>\n",
            "Int64Index: 4093555 entries, 0 to 4224118\n",
            "Data columns (total 13 columns):\n",
            " #   Column          Dtype         \n",
            "---  ------          -----         \n",
            " 0   Loan Amount     float64       \n",
            " 1   City            object        \n",
            " 2   State           object        \n",
            " 3   Zip             object        \n",
            " 4   NAICS Code      object        \n",
            " 5   Business Type   object        \n",
            " 6   Race            object        \n",
            " 7   Gender          object        \n",
            " 8   Veteran         object        \n",
            " 9   Jobs Saved      object        \n",
            " 10  Date            datetime64[ns]\n",
            " 11  Bank            object        \n",
            " 12  NAICS Category  object        \n",
            "dtypes: datetime64[ns](1), float64(1), object(11)\n",
            "memory usage: 437.2+ MB\n"
          ],
          "name": "stdout"
        }
      ]
    },
    {
      "cell_type": "code",
      "metadata": {
        "id": "6yZonhhf7RT2",
        "colab_type": "code",
        "colab": {}
      },
      "source": [
        "df.to_csv('clean_ppp.csv', index=0)\n",
        "!cp clean_ppp.csv \"drive/My Drive/\"\n"
      ],
      "execution_count": null,
      "outputs": []
    },
    {
      "cell_type": "code",
      "metadata": {
        "id": "dM2Fu5SjAFGO",
        "colab_type": "code",
        "colab": {
          "base_uri": "https://localhost:8080/",
          "height": 306
        },
        "outputId": "d7317f4c-e377-40f6-dce5-c32d5f275e76"
      },
      "source": [
        "# data looks pretty good. \n",
        "df.head()"
      ],
      "execution_count": null,
      "outputs": [
        {
          "output_type": "execute_result",
          "data": {
            "text/html": [
              "<div>\n",
              "<style scoped>\n",
              "    .dataframe tbody tr th:only-of-type {\n",
              "        vertical-align: middle;\n",
              "    }\n",
              "\n",
              "    .dataframe tbody tr th {\n",
              "        vertical-align: top;\n",
              "    }\n",
              "\n",
              "    .dataframe thead th {\n",
              "        text-align: right;\n",
              "    }\n",
              "</style>\n",
              "<table border=\"1\" class=\"dataframe\">\n",
              "  <thead>\n",
              "    <tr style=\"text-align: right;\">\n",
              "      <th></th>\n",
              "      <th>Loan Amount</th>\n",
              "      <th>City</th>\n",
              "      <th>State</th>\n",
              "      <th>Zip</th>\n",
              "      <th>NAICS Code</th>\n",
              "      <th>Business Type</th>\n",
              "      <th>Race</th>\n",
              "      <th>Gender</th>\n",
              "      <th>Veteran</th>\n",
              "      <th>Jobs Saved</th>\n",
              "      <th>Date</th>\n",
              "      <th>Bank</th>\n",
              "      <th>NAICS Category</th>\n",
              "    </tr>\n",
              "  </thead>\n",
              "  <tbody>\n",
              "    <tr>\n",
              "      <th>0</th>\n",
              "      <td>149961.00</td>\n",
              "      <td>KANSAS CITY</td>\n",
              "      <td>MO</td>\n",
              "      <td>64108</td>\n",
              "      <td>54199</td>\n",
              "      <td>Limited  Liability Company(LLC)</td>\n",
              "      <td>Unanswered</td>\n",
              "      <td>Unanswered</td>\n",
              "      <td>Unanswered</td>\n",
              "      <td>13</td>\n",
              "      <td>2020-04-13</td>\n",
              "      <td>Country Club Bank</td>\n",
              "      <td>54</td>\n",
              "    </tr>\n",
              "    <tr>\n",
              "      <th>1</th>\n",
              "      <td>149927.67</td>\n",
              "      <td>O FALLON</td>\n",
              "      <td>MO</td>\n",
              "      <td>63366</td>\n",
              "      <td>722511</td>\n",
              "      <td>Subchapter S Corporation</td>\n",
              "      <td>Unanswered</td>\n",
              "      <td>Unanswered</td>\n",
              "      <td>Unanswered</td>\n",
              "      <td>1</td>\n",
              "      <td>2020-04-07</td>\n",
              "      <td>First State Bank of St. Charles</td>\n",
              "      <td>72</td>\n",
              "    </tr>\n",
              "    <tr>\n",
              "      <th>2</th>\n",
              "      <td>149900.00</td>\n",
              "      <td>RAYTOWN</td>\n",
              "      <td>MO</td>\n",
              "      <td>64133</td>\n",
              "      <td>44112</td>\n",
              "      <td>Corporation</td>\n",
              "      <td>White</td>\n",
              "      <td>Male Owned</td>\n",
              "      <td>Unanswered</td>\n",
              "      <td>14</td>\n",
              "      <td>2020-05-11</td>\n",
              "      <td>Blue Ridge Bank and Trust Co.</td>\n",
              "      <td>44</td>\n",
              "    </tr>\n",
              "    <tr>\n",
              "      <th>3</th>\n",
              "      <td>149900.00</td>\n",
              "      <td>VALLEY PARK</td>\n",
              "      <td>MO</td>\n",
              "      <td>63088</td>\n",
              "      <td>62441</td>\n",
              "      <td>Corporation</td>\n",
              "      <td>Unanswered</td>\n",
              "      <td>Unanswered</td>\n",
              "      <td>Unanswered</td>\n",
              "      <td>28</td>\n",
              "      <td>2020-04-09</td>\n",
              "      <td>Meramec Valley Bank</td>\n",
              "      <td>62</td>\n",
              "    </tr>\n",
              "    <tr>\n",
              "      <th>4</th>\n",
              "      <td>149897.50</td>\n",
              "      <td>SPRINGFIELD</td>\n",
              "      <td>MO</td>\n",
              "      <td>65802</td>\n",
              "      <td>561422</td>\n",
              "      <td>Limited  Liability Company(LLC)</td>\n",
              "      <td>Unanswered</td>\n",
              "      <td>Unanswered</td>\n",
              "      <td>Unanswered</td>\n",
              "      <td>1</td>\n",
              "      <td>2020-06-25</td>\n",
              "      <td>Wood &amp; Huston Bank</td>\n",
              "      <td>56</td>\n",
              "    </tr>\n",
              "  </tbody>\n",
              "</table>\n",
              "</div>"
            ],
            "text/plain": [
              "   Loan Amount         City State    Zip NAICS Code                    Business Type        Race      Gender     Veteran Jobs Saved       Date                             Bank NAICS Category\n",
              "0    149961.00  KANSAS CITY    MO  64108      54199  Limited  Liability Company(LLC)  Unanswered  Unanswered  Unanswered         13 2020-04-13                Country Club Bank             54\n",
              "1    149927.67     O FALLON    MO  63366     722511         Subchapter S Corporation  Unanswered  Unanswered  Unanswered          1 2020-04-07  First State Bank of St. Charles             72\n",
              "2    149900.00      RAYTOWN    MO  64133      44112                      Corporation       White  Male Owned  Unanswered         14 2020-05-11    Blue Ridge Bank and Trust Co.             44\n",
              "3    149900.00  VALLEY PARK    MO  63088      62441                      Corporation  Unanswered  Unanswered  Unanswered         28 2020-04-09              Meramec Valley Bank             62\n",
              "4    149897.50  SPRINGFIELD    MO  65802     561422  Limited  Liability Company(LLC)  Unanswered  Unanswered  Unanswered          1 2020-06-25               Wood & Huston Bank             56"
            ]
          },
          "metadata": {
            "tags": []
          },
          "execution_count": 63
        }
      ]
    },
    {
      "cell_type": "code",
      "metadata": {
        "id": "j4iBOG98Vzmz",
        "colab_type": "code",
        "colab": {
          "base_uri": "https://localhost:8080/",
          "height": 34
        },
        "outputId": "a295d34c-7c0c-4362-ff74-fe237e0eca62"
      },
      "source": [
        "df.shape"
      ],
      "execution_count": null,
      "outputs": [
        {
          "output_type": "execute_result",
          "data": {
            "text/plain": [
              "(4093555, 13)"
            ]
          },
          "metadata": {
            "tags": []
          },
          "execution_count": 64
        }
      ]
    }
  ]
}