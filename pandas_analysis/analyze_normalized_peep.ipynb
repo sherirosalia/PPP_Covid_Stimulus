{
 "cells": [
  {
   "cell_type": "markdown",
   "metadata": {
    "colab_type": "text",
    "id": "2oVNvkNYPDV2"
   },
   "source": [
    "General analysis of loans under $150k that includes racial, gender and military status. Approximately 350k rows.\n",
    "\n",
    " "
   ]
  },
  {
   "cell_type": "code",
   "execution_count": 8,
   "metadata": {
    "colab": {},
    "colab_type": "code",
    "id": "8M-oPsMYPGnv"
   },
   "outputs": [],
   "source": [
    "#import dependencies\n",
    "import pandas as pd\n",
    "import numpy as np\n",
    "import matplotlib.pyplot as plt\n",
    "\n",
    "from datetime import date, datetime\n",
    "import os, sys \n",
    "import io\n",
    "import ee\n"
   ]
  },
  {
   "cell_type": "code",
   "execution_count": 9,
   "metadata": {
    "colab": {},
    "colab_type": "code",
    "id": "IF4fH4hDB5m8"
   },
   "outputs": [],
   "source": [
    "## set up pandas dataframe using set_options to warn when we are working on a copy instead of ooriginal dataframe\n",
    "pd.set_option('mode.chained_assignment','warn')"
   ]
  },
  {
   "cell_type": "code",
   "execution_count": 10,
   "metadata": {
    "colab": {},
    "colab_type": "code",
    "id": "pf2cFMugB_T9"
   },
   "outputs": [],
   "source": [
    "# dataframe will display without being truncated\n",
    "pd.set_option('display.max_rows', 150)\n",
    "pd.set_option('display.max_columns', 25)\n",
    "pd.set_option('display.width', 768)"
   ]
  },
  {
   "cell_type": "code",
   "execution_count": 11,
   "metadata": {
    "colab": {
     "base_uri": "https://localhost:8080/",
     "height": 34
    },
    "colab_type": "code",
    "id": "ax45eZXtxQE2",
    "outputId": "ba5f2e00-8633-4e67-db4a-912300309179"
   },
   "outputs": [
    {
     "name": "stdout",
     "output_type": "stream",
     "text": [
      "Drive already mounted at /content/drive; to attempt to forcibly remount, call drive.mount(\"/content/drive\", force_remount=True).\n"
     ]
    }
   ],
   "source": [
    "#mounting the google drive to access the files\n",
    "from google.colab import files\n",
    "from google.colab import drive\n",
    "drive.mount('/content/drive')"
   ]
  },
  {
   "cell_type": "code",
   "execution_count": 12,
   "metadata": {
    "colab": {},
    "colab_type": "code",
    "id": "eGYONJar9ZgL"
   },
   "outputs": [],
   "source": [
    "#import csv that was cleaned up in cat_desc_normalize.ipynb\n",
    "csv_path = \"/content/drive/My Drive/p_cat_clean.csv\"\n"
   ]
  },
  {
   "cell_type": "code",
   "execution_count": 13,
   "metadata": {
    "colab": {
     "base_uri": "https://localhost:8080/",
     "height": 277
    },
    "colab_type": "code",
    "id": "KVaszjhYV77F",
    "outputId": "64cfea53-3682-4042-a05d-962ba2726bb3"
   },
   "outputs": [
    {
     "data": {
      "text/plain": [
       "['Loan Amount',\n",
       " 'City',\n",
       " 'State',\n",
       " 'Zip',\n",
       " 'NAICS Code',\n",
       " 'Business Type',\n",
       " 'Race',\n",
       " 'Gender',\n",
       " 'Veteran',\n",
       " 'Jobs Saved',\n",
       " 'Date',\n",
       " 'Bank',\n",
       " 'NAICS Category',\n",
       " 'description',\n",
       " 'Title']"
      ]
     },
     "execution_count": 13,
     "metadata": {
      "tags": []
     },
     "output_type": "execute_result"
    }
   ],
   "source": [
    "#list of columns\n",
    "cols=list(pd.read_csv(csv_path, nrows=1))\n",
    "cols\n"
   ]
  },
  {
   "cell_type": "code",
   "execution_count": 14,
   "metadata": {
    "colab": {
     "base_uri": "https://localhost:8080/",
     "height": 132
    },
    "colab_type": "code",
    "id": "-jgkYEmVf7az",
    "outputId": "52257672-a586-4f58-d1d2-a9165b66533c"
   },
   "outputs": [
    {
     "data": {
      "text/html": [
       "<div>\n",
       "<style scoped>\n",
       "    .dataframe tbody tr th:only-of-type {\n",
       "        vertical-align: middle;\n",
       "    }\n",
       "\n",
       "    .dataframe tbody tr th {\n",
       "        vertical-align: top;\n",
       "    }\n",
       "\n",
       "    .dataframe thead th {\n",
       "        text-align: right;\n",
       "    }\n",
       "</style>\n",
       "<table border=\"1\" class=\"dataframe\">\n",
       "  <thead>\n",
       "    <tr style=\"text-align: right;\">\n",
       "      <th></th>\n",
       "      <th>Loan Amount</th>\n",
       "      <th>City</th>\n",
       "      <th>State</th>\n",
       "      <th>Zip</th>\n",
       "      <th>NAICS Code</th>\n",
       "      <th>Business Type</th>\n",
       "      <th>Race</th>\n",
       "      <th>Gender</th>\n",
       "      <th>Veteran</th>\n",
       "      <th>Jobs Saved</th>\n",
       "      <th>Date</th>\n",
       "      <th>Bank</th>\n",
       "      <th>NAICS Category</th>\n",
       "      <th>description</th>\n",
       "      <th>Title</th>\n",
       "    </tr>\n",
       "  </thead>\n",
       "  <tbody>\n",
       "    <tr>\n",
       "      <th>64818</th>\n",
       "      <td>46700.0</td>\n",
       "      <td>CRANSTON</td>\n",
       "      <td>RI</td>\n",
       "      <td>2920</td>\n",
       "      <td>722514</td>\n",
       "      <td>Corporation</td>\n",
       "      <td>White</td>\n",
       "      <td>Male Owned</td>\n",
       "      <td>Non-Veteran</td>\n",
       "      <td>6</td>\n",
       "      <td>2020-06-15</td>\n",
       "      <td>The Washington Trust Company of Westerly</td>\n",
       "      <td>72</td>\n",
       "      <td>Accommodation and Food Services</td>\n",
       "      <td>Cafeterias, Grill Buffets, and Buffets</td>\n",
       "    </tr>\n",
       "  </tbody>\n",
       "</table>\n",
       "</div>"
      ],
      "text/plain": [
       "       Loan Amount      City State   Zip NAICS Code Business Type   Race      Gender      Veteran  Jobs Saved       Date                                      Bank NAICS Category                      description                                    Title\n",
       "64818      46700.0  CRANSTON    RI  2920     722514   Corporation  White  Male Owned  Non-Veteran           6 2020-06-15  The Washington Trust Company of Westerly             72  Accommodation and Food Services  Cafeterias, Grill Buffets, and Buffets "
      ]
     },
     "execution_count": 14,
     "metadata": {
      "tags": []
     },
     "output_type": "execute_result"
    }
   ],
   "source": [
    "# backup of clean dataframe, types will not be fully preserved so on import reassign, but easier with unconformity removed\n",
    "df = pd.read_csv(csv_path, dtype={'Jobs Saved':int, 'NAICS Code': str, 'NAICS Category': str, 'Zip': str, }, parse_dates=[10] )\n",
    "df.sample()"
   ]
  },
  {
   "cell_type": "code",
   "execution_count": 15,
   "metadata": {
    "colab": {},
    "colab_type": "code",
    "id": "Mz5dHiTKL51p"
   },
   "outputs": [],
   "source": [
    "#found some weird characters\n",
    "df['Bank']=df['Bank'].str.lstrip('\\t')"
   ]
  },
  {
   "cell_type": "code",
   "execution_count": 16,
   "metadata": {
    "colab": {
     "base_uri": "https://localhost:8080/",
     "height": 294
    },
    "colab_type": "code",
    "id": "G4VjlYbXhyks",
    "outputId": "bf35bb09-1f8b-47d3-855d-5f781ee2bb02"
   },
   "outputs": [
    {
     "data": {
      "text/plain": [
       "Loan Amount              float64\n",
       "City                      object\n",
       "State                     object\n",
       "Zip                       object\n",
       "NAICS Code                object\n",
       "Business Type             object\n",
       "Race                      object\n",
       "Gender                    object\n",
       "Veteran                   object\n",
       "Jobs Saved                 int64\n",
       "Date              datetime64[ns]\n",
       "Bank                      object\n",
       "NAICS Category            object\n",
       "description               object\n",
       "Title                     object\n",
       "dtype: object"
      ]
     },
     "execution_count": 16,
     "metadata": {
      "tags": []
     },
     "output_type": "execute_result"
    }
   ],
   "source": [
    "#types are correct\n",
    "df.dtypes"
   ]
  },
  {
   "cell_type": "code",
   "execution_count": 17,
   "metadata": {
    "colab": {
     "base_uri": "https://localhost:8080/",
     "height": 34
    },
    "colab_type": "code",
    "id": "2VV-rBW2Ni8t",
    "outputId": "1fd45183-151a-4323-a0fc-c01307bfda87"
   },
   "outputs": [
    {
     "data": {
      "text/plain": [
       "(243964, 15)"
      ]
     },
     "execution_count": 17,
     "metadata": {
      "tags": []
     },
     "output_type": "execute_result"
    }
   ],
   "source": [
    "#check shape\n",
    "df.shape"
   ]
  },
  {
   "cell_type": "markdown",
   "metadata": {
    "colab_type": "text",
    "id": "uwTD-dQA-aHX"
   },
   "source": [
    "General nationwide loan analysis\n"
   ]
  },
  {
   "cell_type": "code",
   "execution_count": 127,
   "metadata": {
    "colab": {
     "base_uri": "https://localhost:8080/",
     "height": 173
    },
    "colab_type": "code",
    "id": "WT2h9dVy6Spd",
    "outputId": "d23d6ff8-ea50-4946-9415-1f11846082f7"
   },
   "outputs": [
    {
     "data": {
      "text/plain": [
       "count    243964.000000\n",
       "mean      43003.115492\n",
       "std       37055.317891\n",
       "min           6.000000\n",
       "25%       13941.000000\n",
       "50%       30000.000000\n",
       "75%       63877.125000\n",
       "max      149987.000000\n",
       "Name: Loan Amount, dtype: float64"
      ]
     },
     "execution_count": 127,
     "metadata": {
      "tags": []
     },
     "output_type": "execute_result"
    }
   ],
   "source": [
    "#check general statistics\n",
    "\n",
    "nat_loan_stats=df['Loan Amount'].describe()\n",
    "nat_loan_stats"
   ]
  },
  {
   "cell_type": "code",
   "execution_count": 127,
   "metadata": {
    "colab": {},
    "colab_type": "code",
    "id": "Eg8wEtw86jz_"
   },
   "outputs": [],
   "source": [
    "\n"
   ]
  },
  {
   "cell_type": "code",
   "execution_count": 128,
   "metadata": {
    "colab": {
     "base_uri": "https://localhost:8080/",
     "height": 34
    },
    "colab_type": "code",
    "id": "tN9gazbU58T4",
    "outputId": "07eb173b-086e-49b9-d0d4-6755e59e9849"
   },
   "outputs": [
    {
     "data": {
      "text/plain": [
       "43003.115492286284"
      ]
     },
     "execution_count": 128,
     "metadata": {
      "tags": []
     },
     "output_type": "execute_result"
    }
   ],
   "source": [
    "#average loan amount\n",
    "national_loan_avg=df['Loan Amount'].mean()\n",
    "national_loan_avg"
   ]
  },
  {
   "cell_type": "code",
   "execution_count": 129,
   "metadata": {
    "colab": {
     "base_uri": "https://localhost:8080/",
     "height": 34
    },
    "colab_type": "code",
    "id": "4KSc4Hyg6ReW",
    "outputId": "df36706f-6858-452c-a8a5-594d06b6eb32"
   },
   "outputs": [
    {
     "data": {
      "text/plain": [
       "30000.0"
      ]
     },
     "execution_count": 129,
     "metadata": {
      "tags": []
     },
     "output_type": "execute_result"
    }
   ],
   "source": [
    "#median national loan\n",
    "national_loan_med=df['Loan Amount'].median()\n",
    "national_loan_med"
   ]
  },
  {
   "cell_type": "code",
   "execution_count": 130,
   "metadata": {
    "colab": {
     "base_uri": "https://localhost:8080/",
     "height": 34
    },
    "colab_type": "code",
    "id": "ddd_ShqT6Rkk",
    "outputId": "cd73ac41-0844-4d25-b073-3e310cb51a20"
   },
   "outputs": [
    {
     "data": {
      "text/plain": [
       "10491212067.959997"
      ]
     },
     "execution_count": 130,
     "metadata": {
      "tags": []
     },
     "output_type": "execute_result"
    }
   ],
   "source": [
    "#sum of all loans\n",
    "national_loan_sum=df['Loan Amount'].sum()\n",
    "national_loan_sum"
   ]
  },
  {
   "cell_type": "code",
   "execution_count": 131,
   "metadata": {
    "colab": {
     "base_uri": "https://localhost:8080/",
     "height": 34
    },
    "colab_type": "code",
    "id": "5EBjmWUYAx2w",
    "outputId": "7e01b9bd-17eb-44f1-cfae-1007ddd74cfa"
   },
   "outputs": [
    {
     "data": {
      "text/plain": [
       "1505064"
      ]
     },
     "execution_count": 131,
     "metadata": {
      "tags": []
     },
     "output_type": "execute_result"
    }
   ],
   "source": [
    "#number of jobs saved\n",
    "nat_jobs_saved=df['Jobs Saved'].sum()\n",
    "nat_jobs_saved"
   ]
  },
  {
   "cell_type": "code",
   "execution_count": 132,
   "metadata": {
    "colab": {
     "base_uri": "https://localhost:8080/",
     "height": 34
    },
    "colab_type": "code",
    "id": "ZBM91gMOAlXo",
    "outputId": "23adb83c-9995-43db-da09-b4219a5bae14"
   },
   "outputs": [
    {
     "data": {
      "text/plain": [
       "10491212067.959997"
      ]
     },
     "execution_count": 132,
     "metadata": {
      "tags": []
     },
     "output_type": "execute_result"
    }
   ],
   "source": [
    "#sum of loans\n",
    "national_loan_sum=df['Loan Amount'].sum()\n",
    "national_loan_sum"
   ]
  },
  {
   "cell_type": "code",
   "execution_count": 133,
   "metadata": {
    "colab": {
     "base_uri": "https://localhost:8080/",
     "height": 34
    },
    "colab_type": "code",
    "id": "P2jMqCEKfwyb",
    "outputId": "adaf250d-2239-4f4c-82f5-d2989449d721"
   },
   "outputs": [
    {
     "data": {
      "text/plain": [
       "143.34371830762095"
      ]
     },
     "execution_count": 133,
     "metadata": {
      "tags": []
     },
     "output_type": "execute_result"
    }
   ],
   "source": [
    "#difference between national average and median \n",
    "nat_pct_dif=national_loan_avg/national_loan_med * 100\n",
    "nat_pct_dif"
   ]
  },
  {
   "cell_type": "code",
   "execution_count": 134,
   "metadata": {
    "colab": {
     "base_uri": "https://localhost:8080/",
     "height": 34
    },
    "colab_type": "code",
    "id": "vVWY47dR35n6",
    "outputId": "4ee69a21-eca7-4017-e4b9-5b3393dc4273"
   },
   "outputs": [
    {
     "name": "stdout",
     "output_type": "stream",
     "text": [
      "6970.608603992918\n"
     ]
    }
   ],
   "source": [
    "# loan per job\n",
    "nat_ln_per_job = national_loan_sum / nat_jobs_saved\n",
    "print(nat_ln_per_job)"
   ]
  },
  {
   "cell_type": "code",
   "execution_count": 138,
   "metadata": {
    "colab": {
     "base_uri": "https://localhost:8080/",
     "height": 80
    },
    "colab_type": "code",
    "id": "PLCwU8xU_lyL",
    "outputId": "54a601f8-a2b3-4942-e77e-7b5f289068ec"
   },
   "outputs": [
    {
     "data": {
      "text/html": [
       "<div>\n",
       "<style scoped>\n",
       "    .dataframe tbody tr th:only-of-type {\n",
       "        vertical-align: middle;\n",
       "    }\n",
       "\n",
       "    .dataframe tbody tr th {\n",
       "        vertical-align: top;\n",
       "    }\n",
       "\n",
       "    .dataframe thead th {\n",
       "        text-align: right;\n",
       "    }\n",
       "</style>\n",
       "<table border=\"1\" class=\"dataframe\">\n",
       "  <thead>\n",
       "    <tr style=\"text-align: right;\">\n",
       "      <th></th>\n",
       "      <th>Loan Avg</th>\n",
       "      <th>Loan Median</th>\n",
       "      <th>Loan Sum</th>\n",
       "      <th>Loan Count</th>\n",
       "      <th>Jobs Saved</th>\n",
       "      <th>Avg over Median</th>\n",
       "      <th>Money per Job</th>\n",
       "    </tr>\n",
       "  </thead>\n",
       "  <tbody>\n",
       "    <tr>\n",
       "      <th>0</th>\n",
       "      <td>43003.115492</td>\n",
       "      <td>30000.0</td>\n",
       "      <td>1.049121e+10</td>\n",
       "      <td>243964</td>\n",
       "      <td>1.049121e+10</td>\n",
       "      <td>143.343718</td>\n",
       "      <td>6970.608604</td>\n",
       "    </tr>\n",
       "  </tbody>\n",
       "</table>\n",
       "</div>"
      ],
      "text/plain": [
       "       Loan Avg  Loan Median      Loan Sum  Loan Count    Jobs Saved  Avg over Median  Money per Job\n",
       "0  43003.115492      30000.0  1.049121e+10      243964  1.049121e+10       143.343718    6970.608604"
      ]
     },
     "execution_count": 138,
     "metadata": {
      "tags": []
     },
     "output_type": "execute_result"
    }
   ],
   "source": [
    "#summary table of stats\n",
    "nat_summary = pd.DataFrame({\n",
    "    'Loan Avg': national_loan_avg,\n",
    "    'Loan Median': national_loan_med,\n",
    "    'Loan Sum': national_loan_sum,\n",
    "    'Loan Count': national_loan_count,\n",
    "    'Jobs Saved': national_loan_sum,\n",
    "    'Avg over Median': nat_pct_dif,\n",
    "    'Money per Job' : nat_ln_per_job,\n",
    "},index=[0])\n",
    "nat_summary.head(3)"
   ]
  },
  {
   "cell_type": "markdown",
   "metadata": {
    "colab_type": "text",
    "id": "YgdG17VMdtD8"
   },
   "source": [
    "# Summary Table\n",
    "\n",
    "Loan Avg : $43,003.12 | Median Loan : $30,000 | Loan Sum: $10,491,212,067| Loan Count: 243,964 | Jobs Saved: 1,505,064 | Avg loan amount over Median: 143.34% | Money per Job: $6,970\n",
    "\n"
   ]
  },
  {
   "cell_type": "code",
   "execution_count": 139,
   "metadata": {
    "colab": {
     "base_uri": "https://localhost:8080/",
     "height": 80
    },
    "colab_type": "code",
    "id": "aRW-nHwU_h7N",
    "outputId": "a6929696-9d4e-490a-9af1-0dd2c3f04282"
   },
   "outputs": [
    {
     "data": {
      "text/html": [
       "<div>\n",
       "<style scoped>\n",
       "    .dataframe tbody tr th:only-of-type {\n",
       "        vertical-align: middle;\n",
       "    }\n",
       "\n",
       "    .dataframe tbody tr th {\n",
       "        vertical-align: top;\n",
       "    }\n",
       "\n",
       "    .dataframe thead th {\n",
       "        text-align: right;\n",
       "    }\n",
       "</style>\n",
       "<table border=\"1\" class=\"dataframe\">\n",
       "  <thead>\n",
       "    <tr style=\"text-align: right;\">\n",
       "      <th></th>\n",
       "      <th>Loan Avg</th>\n",
       "      <th>Loan Median</th>\n",
       "      <th>Loan Sum</th>\n",
       "      <th>Loan Count</th>\n",
       "      <th>Jobs Saved</th>\n",
       "      <th>Avg over Median</th>\n",
       "      <th>Money per Job</th>\n",
       "    </tr>\n",
       "  </thead>\n",
       "  <tbody>\n",
       "    <tr>\n",
       "      <th>0</th>\n",
       "      <td>$43,003.12</td>\n",
       "      <td>$30,000.00</td>\n",
       "      <td>10,491,212,067.959997</td>\n",
       "      <td>243,964</td>\n",
       "      <td>10,491,212,067.959997</td>\n",
       "      <td>143.34%</td>\n",
       "      <td>$6,970.61</td>\n",
       "    </tr>\n",
       "  </tbody>\n",
       "</table>\n",
       "</div>"
      ],
      "text/plain": [
       "     Loan Avg Loan Median               Loan Sum Loan Count             Jobs Saved Avg over Median Money per Job\n",
       "0  $43,003.12  $30,000.00  10,491,212,067.959997    243,964  10,491,212,067.959997         143.34%     $6,970.61"
      ]
     },
     "execution_count": 139,
     "metadata": {
      "tags": []
     },
     "output_type": "execute_result"
    }
   ],
   "source": [
    "nat_summary['Loan Avg'] = nat_summary.loc[:,'Loan Avg'].map(\"${:,.2f}\".format)\n",
    "nat_summary['Loan Median'] = nat_summary.loc[:,'Loan Median'].map(\"${:,.2f}\".format)\n",
    "nat_summary['Loan Sum'] = nat_summary.loc[:,'Loan Sum'].map(\"{:,}\".format)\n",
    "nat_summary['Loan Count'] = nat_summary.loc[:,'Loan Count'].map(\"{:,}\".format)\n",
    "nat_summary['Jobs Saved'] = nat_summary.loc[:,'Jobs Saved'].map(\"{:,}\".format)\n",
    "nat_summary['Avg over Median'] = nat_summary.loc[:,'Avg over Median'].map(\"{:,.2f}%\".format)\n",
    "nat_summary['Money per Job'] = nat_summary.loc[:,'Money per Job'].map(\"${:,.2f}\".format)\n",
    "nat_summary\n",
    "\n",
    "\n",
    "\n",
    "\n"
   ]
  },
  {
   "cell_type": "markdown",
   "metadata": {
    "colab_type": "text",
    "id": "R4eUh4vM-R4S"
   },
   "source": [
    "Lender overview\n"
   ]
  },
  {
   "cell_type": "code",
   "execution_count": 27,
   "metadata": {
    "colab": {
     "base_uri": "https://localhost:8080/",
     "height": 242
    },
    "colab_type": "code",
    "id": "zI-omtKvmst6",
    "outputId": "66caa6e4-7cb9-4f27-f6f0-4cd1be6d10f9"
   },
   "outputs": [
    {
     "data": {
      "text/plain": [
       "Bank\n",
       "121 Financial CU       1912450.00\n",
       "1880 Bank               107221.00\n",
       "1st Advantage Bank     2203387.84\n",
       "1st Bank                 58721.50\n",
       "1st Bank Yuma          1269200.00\n",
       "                          ...    \n",
       "bankcda                 925300.00\n",
       "cPort CU                303640.85\n",
       "iTHINK Financial CU    2682900.00\n",
       "immito                 3025085.00\n",
       "mBank                  7370360.00\n",
       "Name: Loan Amount, Length: 4087, dtype: float64"
      ]
     },
     "execution_count": 27,
     "metadata": {
      "tags": []
     },
     "output_type": "execute_result"
    }
   ],
   "source": [
    "#who are the top lenders by total sum of loans issued? Creating a summary table that can be exported to csv for analysis in SQL/ Tableau later\n",
    "top_bank_sums=df.groupby('Bank').sum()['Loan Amount']\n",
    "top_bank_sums"
   ]
  },
  {
   "cell_type": "code",
   "execution_count": 28,
   "metadata": {
    "colab": {
     "base_uri": "https://localhost:8080/",
     "height": 242
    },
    "colab_type": "code",
    "id": "JEhijOVfmsyv",
    "outputId": "a1f19e60-960a-4ba2-c47f-137496496ea2"
   },
   "outputs": [
    {
     "data": {
      "text/plain": [
       "Bank\n",
       "121 Financial CU       56750.00\n",
       "1880 Bank              20833.00\n",
       "1st Advantage Bank     36472.50\n",
       "1st Bank                7867.00\n",
       "1st Bank Yuma          40400.00\n",
       "                         ...   \n",
       "bankcda                24600.00\n",
       "cPort CU               26404.35\n",
       "iTHINK Financial CU    42600.00\n",
       "immito                 19500.00\n",
       "mBank                  43300.00\n",
       "Name: Loan Amount, Length: 4087, dtype: float64"
      ]
     },
     "execution_count": 28,
     "metadata": {
      "tags": []
     },
     "output_type": "execute_result"
    }
   ],
   "source": [
    "#top banks by median loan amount\n",
    "\n",
    "top_bank_median=df.groupby('Bank').median()['Loan Amount']\n",
    "top_bank_median"
   ]
  },
  {
   "cell_type": "code",
   "execution_count": 29,
   "metadata": {
    "colab": {
     "base_uri": "https://localhost:8080/",
     "height": 242
    },
    "colab_type": "code",
    "id": "Ta6SCzVbms7d",
    "outputId": "b19e3021-4293-49a6-eabf-ae4230fb754d"
   },
   "outputs": [
    {
     "data": {
      "text/plain": [
       "Bank\n",
       "121 Financial CU       53123.611111\n",
       "1880 Bank              21444.200000\n",
       "1st Advantage Bank     52461.615238\n",
       "1st Bank                8388.785714\n",
       "1st Bank Yuma          60438.095238\n",
       "                           ...     \n",
       "bankcda                46265.000000\n",
       "cPort CU               43377.264286\n",
       "iTHINK Financial CU    54753.061224\n",
       "immito                 31843.000000\n",
       "mBank                  53024.172662\n",
       "Name: Loan Amount, Length: 4087, dtype: float64"
      ]
     },
     "execution_count": 29,
     "metadata": {
      "tags": []
     },
     "output_type": "execute_result"
    }
   ],
   "source": [
    "#banks highest average loan\n",
    "top_bank_average=df.groupby('Bank').mean()['Loan Amount']\n",
    "top_bank_average"
   ]
  },
  {
   "cell_type": "code",
   "execution_count": 30,
   "metadata": {
    "colab": {
     "base_uri": "https://localhost:8080/",
     "height": 233
    },
    "colab_type": "code",
    "id": "nSI6tytomtAI",
    "outputId": "b315eab7-8812-4f85-dede-81f4bd504e07"
   },
   "outputs": [
    {
     "data": {
      "text/html": [
       "<div>\n",
       "<style scoped>\n",
       "    .dataframe tbody tr th:only-of-type {\n",
       "        vertical-align: middle;\n",
       "    }\n",
       "\n",
       "    .dataframe tbody tr th {\n",
       "        vertical-align: top;\n",
       "    }\n",
       "\n",
       "    .dataframe thead th {\n",
       "        text-align: right;\n",
       "    }\n",
       "</style>\n",
       "<table border=\"1\" class=\"dataframe\">\n",
       "  <thead>\n",
       "    <tr style=\"text-align: right;\">\n",
       "      <th></th>\n",
       "      <th>Loan Sum</th>\n",
       "      <th>Average Loan</th>\n",
       "      <th>Median Loan</th>\n",
       "    </tr>\n",
       "    <tr>\n",
       "      <th>Bank</th>\n",
       "      <th></th>\n",
       "      <th></th>\n",
       "      <th></th>\n",
       "    </tr>\n",
       "  </thead>\n",
       "  <tbody>\n",
       "    <tr>\n",
       "      <th>121 Financial CU</th>\n",
       "      <td>1912450.00</td>\n",
       "      <td>53123.611111</td>\n",
       "      <td>56750.0</td>\n",
       "    </tr>\n",
       "    <tr>\n",
       "      <th>1880 Bank</th>\n",
       "      <td>107221.00</td>\n",
       "      <td>21444.200000</td>\n",
       "      <td>20833.0</td>\n",
       "    </tr>\n",
       "    <tr>\n",
       "      <th>1st Advantage Bank</th>\n",
       "      <td>2203387.84</td>\n",
       "      <td>52461.615238</td>\n",
       "      <td>36472.5</td>\n",
       "    </tr>\n",
       "    <tr>\n",
       "      <th>1st Bank</th>\n",
       "      <td>58721.50</td>\n",
       "      <td>8388.785714</td>\n",
       "      <td>7867.0</td>\n",
       "    </tr>\n",
       "    <tr>\n",
       "      <th>1st Bank Yuma</th>\n",
       "      <td>1269200.00</td>\n",
       "      <td>60438.095238</td>\n",
       "      <td>40400.0</td>\n",
       "    </tr>\n",
       "  </tbody>\n",
       "</table>\n",
       "</div>"
      ],
      "text/plain": [
       "                      Loan Sum  Average Loan  Median Loan\n",
       "Bank                                                     \n",
       "121 Financial CU    1912450.00  53123.611111      56750.0\n",
       "1880 Bank            107221.00  21444.200000      20833.0\n",
       "1st Advantage Bank  2203387.84  52461.615238      36472.5\n",
       "1st Bank              58721.50   8388.785714       7867.0\n",
       "1st Bank Yuma       1269200.00  60438.095238      40400.0"
      ]
     },
     "execution_count": 30,
     "metadata": {
      "tags": []
     },
     "output_type": "execute_result"
    }
   ],
   "source": [
    "#bank summary table\n",
    "banks_summary_df=pd.DataFrame({\n",
    "    'Loan Sum' : top_bank_sums,\n",
    "    'Average Loan' : top_bank_average,\n",
    "    'Median Loan' : top_bank_median\n",
    "  \n",
    "})\n",
    "banks_summary_df.head()\n"
   ]
  },
  {
   "cell_type": "code",
   "execution_count": 31,
   "metadata": {
    "colab": {
     "base_uri": "https://localhost:8080/",
     "height": 1000
    },
    "colab_type": "code",
    "id": "2tt8QQ71ms3A",
    "outputId": "fef5da31-af7f-4252-a365-2fc3b2827294"
   },
   "outputs": [
    {
     "data": {
      "text/html": [
       "<div>\n",
       "<style scoped>\n",
       "    .dataframe tbody tr th:only-of-type {\n",
       "        vertical-align: middle;\n",
       "    }\n",
       "\n",
       "    .dataframe tbody tr th {\n",
       "        vertical-align: top;\n",
       "    }\n",
       "\n",
       "    .dataframe thead th {\n",
       "        text-align: right;\n",
       "    }\n",
       "</style>\n",
       "<table border=\"1\" class=\"dataframe\">\n",
       "  <thead>\n",
       "    <tr style=\"text-align: right;\">\n",
       "      <th></th>\n",
       "      <th>Loan Sum</th>\n",
       "      <th>Average Loan</th>\n",
       "      <th>Median Loan</th>\n",
       "    </tr>\n",
       "    <tr>\n",
       "      <th>Bank</th>\n",
       "      <th></th>\n",
       "      <th></th>\n",
       "      <th></th>\n",
       "    </tr>\n",
       "  </thead>\n",
       "  <tbody>\n",
       "    <tr>\n",
       "      <th>Labette Bank</th>\n",
       "      <td>$1,338,500.00</td>\n",
       "      <td>$39,367.65</td>\n",
       "      <td>$28,250.00</td>\n",
       "    </tr>\n",
       "    <tr>\n",
       "      <th>Bankers' Bank of Kansas</th>\n",
       "      <td>$558,948.10</td>\n",
       "      <td>$31,052.67</td>\n",
       "      <td>$21,844.51</td>\n",
       "    </tr>\n",
       "    <tr>\n",
       "      <th>Grand Ridge National Bank</th>\n",
       "      <td>$2,902,865.81</td>\n",
       "      <td>$55,824.34</td>\n",
       "      <td>$46,228.50</td>\n",
       "    </tr>\n",
       "    <tr>\n",
       "      <th>The Croghan Colonial Bank</th>\n",
       "      <td>$2,256,722.00</td>\n",
       "      <td>$48,015.36</td>\n",
       "      <td>$36,000.00</td>\n",
       "    </tr>\n",
       "    <tr>\n",
       "      <th>Old Second National Bank</th>\n",
       "      <td>$1,061,600.00</td>\n",
       "      <td>$55,873.68</td>\n",
       "      <td>$48,000.00</td>\n",
       "    </tr>\n",
       "    <tr>\n",
       "      <th>Orrstown Bank</th>\n",
       "      <td>$2,087,740.00</td>\n",
       "      <td>$40,148.85</td>\n",
       "      <td>$31,000.00</td>\n",
       "    </tr>\n",
       "    <tr>\n",
       "      <th>PFCU</th>\n",
       "      <td>$118,589.00</td>\n",
       "      <td>$23,717.80</td>\n",
       "      <td>$19,307.00</td>\n",
       "    </tr>\n",
       "    <tr>\n",
       "      <th>Cambridge State Bank</th>\n",
       "      <td>$1,278,126.00</td>\n",
       "      <td>$49,158.69</td>\n",
       "      <td>$35,853.00</td>\n",
       "    </tr>\n",
       "    <tr>\n",
       "      <th>Bar Harbor Bank &amp; Trust</th>\n",
       "      <td>$5,024,534.00</td>\n",
       "      <td>$38,355.22</td>\n",
       "      <td>$25,100.00</td>\n",
       "    </tr>\n",
       "    <tr>\n",
       "      <th>Unity Bank</th>\n",
       "      <td>$9,409,692.74</td>\n",
       "      <td>$34,594.46</td>\n",
       "      <td>$21,016.00</td>\n",
       "    </tr>\n",
       "    <tr>\n",
       "      <th>Austin County State Bank</th>\n",
       "      <td>$1,493,400.00</td>\n",
       "      <td>$64,930.43</td>\n",
       "      <td>$67,500.00</td>\n",
       "    </tr>\n",
       "    <tr>\n",
       "      <th>Cross County Bank</th>\n",
       "      <td>$253,325.48</td>\n",
       "      <td>$36,189.35</td>\n",
       "      <td>$27,638.27</td>\n",
       "    </tr>\n",
       "    <tr>\n",
       "      <th>Think Mutual Bank</th>\n",
       "      <td>$772,000.00</td>\n",
       "      <td>$42,888.89</td>\n",
       "      <td>$35,100.00</td>\n",
       "    </tr>\n",
       "    <tr>\n",
       "      <th>The Merchants and Farmers Bank of Salisbury</th>\n",
       "      <td>$58,729.00</td>\n",
       "      <td>$29,364.50</td>\n",
       "      <td>$29,364.50</td>\n",
       "    </tr>\n",
       "    <tr>\n",
       "      <th>Central Pacific Bank</th>\n",
       "      <td>$11,365,849.32</td>\n",
       "      <td>$48,990.73</td>\n",
       "      <td>$38,450.00</td>\n",
       "    </tr>\n",
       "    <tr>\n",
       "      <th>Washington County Bank</th>\n",
       "      <td>$1,939,544.00</td>\n",
       "      <td>$46,179.62</td>\n",
       "      <td>$30,150.00</td>\n",
       "    </tr>\n",
       "    <tr>\n",
       "      <th>VAPR FCU</th>\n",
       "      <td>$44,900.00</td>\n",
       "      <td>$6,414.29</td>\n",
       "      <td>$6,000.00</td>\n",
       "    </tr>\n",
       "    <tr>\n",
       "      <th>The Paducah Bank and Trust Company</th>\n",
       "      <td>$4,460,650.00</td>\n",
       "      <td>$55,758.12</td>\n",
       "      <td>$51,700.00</td>\n",
       "    </tr>\n",
       "    <tr>\n",
       "      <th>Mission Bank</th>\n",
       "      <td>$3,997,000.00</td>\n",
       "      <td>$57,927.54</td>\n",
       "      <td>$49,000.00</td>\n",
       "    </tr>\n",
       "    <tr>\n",
       "      <th>Birmingham Bloomfield CU</th>\n",
       "      <td>$27,084.00</td>\n",
       "      <td>$13,542.00</td>\n",
       "      <td>$13,542.00</td>\n",
       "    </tr>\n",
       "    <tr>\n",
       "      <th>ValueBank Texas</th>\n",
       "      <td>$204,021.00</td>\n",
       "      <td>$29,145.86</td>\n",
       "      <td>$29,874.00</td>\n",
       "    </tr>\n",
       "    <tr>\n",
       "      <th>American Bank of the North</th>\n",
       "      <td>$1,950,400.00</td>\n",
       "      <td>$48,760.00</td>\n",
       "      <td>$44,200.00</td>\n",
       "    </tr>\n",
       "    <tr>\n",
       "      <th>First Community Bank of the Heartland</th>\n",
       "      <td>$407,628.00</td>\n",
       "      <td>$40,762.80</td>\n",
       "      <td>$30,535.00</td>\n",
       "    </tr>\n",
       "    <tr>\n",
       "      <th>The Callaway Bank</th>\n",
       "      <td>$1,936,650.00</td>\n",
       "      <td>$49,657.69</td>\n",
       "      <td>$36,200.00</td>\n",
       "    </tr>\n",
       "    <tr>\n",
       "      <th>UBank</th>\n",
       "      <td>$247,715.00</td>\n",
       "      <td>$35,387.86</td>\n",
       "      <td>$20,832.50</td>\n",
       "    </tr>\n",
       "    <tr>\n",
       "      <th>First National Bank North</th>\n",
       "      <td>$8,527,364.25</td>\n",
       "      <td>$35,383.25</td>\n",
       "      <td>$24,000.00</td>\n",
       "    </tr>\n",
       "    <tr>\n",
       "      <th>Enterprise Bank and Trust Company</th>\n",
       "      <td>$7,780,711.00</td>\n",
       "      <td>$55,976.34</td>\n",
       "      <td>$48,100.00</td>\n",
       "    </tr>\n",
       "    <tr>\n",
       "      <th>Farmers Bank of Northern Missouri</th>\n",
       "      <td>$135,647.41</td>\n",
       "      <td>$22,607.90</td>\n",
       "      <td>$15,687.77</td>\n",
       "    </tr>\n",
       "    <tr>\n",
       "      <th>Itria Ventures LLC</th>\n",
       "      <td>$232,580.00</td>\n",
       "      <td>$38,763.33</td>\n",
       "      <td>$20,815.00</td>\n",
       "    </tr>\n",
       "    <tr>\n",
       "      <th>Tri-State Bank of Memphis</th>\n",
       "      <td>$25,070.00</td>\n",
       "      <td>$25,070.00</td>\n",
       "      <td>$25,070.00</td>\n",
       "    </tr>\n",
       "  </tbody>\n",
       "</table>\n",
       "</div>"
      ],
      "text/plain": [
       "                                                   Loan Sum Average Loan Median Loan\n",
       "Bank                                                                                \n",
       "Labette Bank                                  $1,338,500.00   $39,367.65  $28,250.00\n",
       "Bankers' Bank of Kansas                         $558,948.10   $31,052.67  $21,844.51\n",
       "Grand Ridge National Bank                     $2,902,865.81   $55,824.34  $46,228.50\n",
       "The Croghan Colonial Bank                     $2,256,722.00   $48,015.36  $36,000.00\n",
       "Old Second National Bank                      $1,061,600.00   $55,873.68  $48,000.00\n",
       "Orrstown Bank                                 $2,087,740.00   $40,148.85  $31,000.00\n",
       "PFCU                                            $118,589.00   $23,717.80  $19,307.00\n",
       "Cambridge State Bank                          $1,278,126.00   $49,158.69  $35,853.00\n",
       "Bar Harbor Bank & Trust                       $5,024,534.00   $38,355.22  $25,100.00\n",
       "Unity Bank                                    $9,409,692.74   $34,594.46  $21,016.00\n",
       "Austin County State Bank                      $1,493,400.00   $64,930.43  $67,500.00\n",
       "Cross County Bank                               $253,325.48   $36,189.35  $27,638.27\n",
       "Think Mutual Bank                               $772,000.00   $42,888.89  $35,100.00\n",
       "The Merchants and Farmers Bank of Salisbury      $58,729.00   $29,364.50  $29,364.50\n",
       "Central Pacific Bank                         $11,365,849.32   $48,990.73  $38,450.00\n",
       "Washington County Bank                        $1,939,544.00   $46,179.62  $30,150.00\n",
       "VAPR FCU                                         $44,900.00    $6,414.29   $6,000.00\n",
       "The Paducah Bank and Trust Company            $4,460,650.00   $55,758.12  $51,700.00\n",
       "Mission Bank                                  $3,997,000.00   $57,927.54  $49,000.00\n",
       "Birmingham Bloomfield CU                         $27,084.00   $13,542.00  $13,542.00\n",
       "ValueBank Texas                                 $204,021.00   $29,145.86  $29,874.00\n",
       "American Bank of the North                    $1,950,400.00   $48,760.00  $44,200.00\n",
       "First Community Bank of the Heartland           $407,628.00   $40,762.80  $30,535.00\n",
       "The Callaway Bank                             $1,936,650.00   $49,657.69  $36,200.00\n",
       "UBank                                           $247,715.00   $35,387.86  $20,832.50\n",
       "First National Bank North                     $8,527,364.25   $35,383.25  $24,000.00\n",
       "Enterprise Bank and Trust Company             $7,780,711.00   $55,976.34  $48,100.00\n",
       "Farmers Bank of Northern Missouri               $135,647.41   $22,607.90  $15,687.77\n",
       "Itria Ventures LLC                              $232,580.00   $38,763.33  $20,815.00\n",
       "Tri-State Bank of Memphis                        $25,070.00   $25,070.00  $25,070.00"
      ]
     },
     "execution_count": 31,
     "metadata": {
      "tags": []
     },
     "output_type": "execute_result"
    }
   ],
   "source": [
    "#formatting\n",
    "banks_summary_df['Loan Sum'] = banks_summary_df.loc[:,'Loan Sum'].map(\"${:,.2f}\".format)\n",
    "banks_summary_df['Average Loan'] = banks_summary_df.loc[:,'Average Loan'].map(\"${:,.2f}\".format)\n",
    "banks_summary_df['Median Loan'] = banks_summary_df.loc[:,'Median Loan'].map(\"${:,.2f}\".format)\n",
    "banks_summary_df.sample(30)\n"
   ]
  },
  {
   "cell_type": "code",
   "execution_count": 32,
   "metadata": {
    "colab": {},
    "colab_type": "code",
    "id": "cE1541BUPzzO"
   },
   "outputs": [],
   "source": [
    "#csv of bank summary\n",
    "banks_summary_df.to_csv('banks_summary_df.csv', index=True)\n",
    "!cp banks_summary_df.csv \"drive/My Drive/\""
   ]
  },
  {
   "cell_type": "code",
   "execution_count": 33,
   "metadata": {
    "colab": {
     "base_uri": "https://localhost:8080/",
     "height": 34
    },
    "colab_type": "code",
    "id": "h5xZUycn-xv7",
    "outputId": "7dca13e6-d690-4882-9125-80c7bab2b992"
   },
   "outputs": [
    {
     "data": {
      "text/plain": [
       "0.033373776458821794"
      ]
     },
     "execution_count": 33,
     "metadata": {
      "tags": []
     },
     "output_type": "execute_result"
    }
   ],
   "source": [
    "result=8142/243964\n",
    "result"
   ]
  },
  {
   "cell_type": "code",
   "execution_count": 34,
   "metadata": {
    "colab": {
     "base_uri": "https://localhost:8080/",
     "height": 312
    },
    "colab_type": "code",
    "id": "KymMCXR_hqsi",
    "outputId": "b0fd4e7e-8c91-435a-ddee-c71d47964384"
   },
   "outputs": [
    {
     "data": {
      "text/plain": [
       "State  Bank                         \n",
       "OH     The Huntington National Bank     8142\n",
       "MI     The Huntington National Bank     3948\n",
       "CA     City National Bank               2912\n",
       "       East West Bank                   2074\n",
       "MS     Community Bank of Mississippi    1967\n",
       "OH     The Park National Bank           1914\n",
       "CT     Liberty Bank                     1607\n",
       "OK     RCB Bank                         1323\n",
       "NY     Dime Community Bank               949\n",
       "FL     Capital City Bank                 940\n",
       "OH     Peoples Bank                      909\n",
       "IN     The Huntington National Bank      876\n",
       "TX     WestStar Bank                     867\n",
       "IA     Northwest Bank                    780\n",
       "TX     Frost Bank                        775\n",
       "Name: Bank, dtype: int64"
      ]
     },
     "execution_count": 34,
     "metadata": {
      "tags": []
     },
     "output_type": "execute_result"
    }
   ],
   "source": [
    "#some of the top institutions by state that considering they are regional have a relatively large percentage of the loans\n",
    "# for example OH - Huntington bank did 3.3% of the loan count for this dataset Mississippi\n",
    "top_bks_state=df.groupby('State')['Bank'].value_counts().nlargest(15)\n",
    "top_bks_state"
   ]
  },
  {
   "cell_type": "code",
   "execution_count": 35,
   "metadata": {
    "colab": {
     "base_uri": "https://localhost:8080/",
     "height": 34
    },
    "colab_type": "code",
    "id": "9n-T2q6F-xH-",
    "outputId": "d6a8d920-89f0-434d-93ca-e898716c32f6"
   },
   "outputs": [
    {
     "name": "stdout",
     "output_type": "stream",
     "text": [
      "cp: cannot stat 'top_bks_state.csv': No such file or directory\n"
     ]
    }
   ],
   "source": [
    "#send top bank summary to csv\n",
    "top_bks_state.to_csv('bks_by_state.csv', index=True)\n",
    "!cp top_bks_state.csv \"drive/My Drive/\""
   ]
  },
  {
   "cell_type": "markdown",
   "metadata": {
    "colab_type": "text",
    "id": "j86K53ep-Hso"
   },
   "source": [
    "Business Category overview"
   ]
  },
  {
   "cell_type": "code",
   "execution_count": 36,
   "metadata": {
    "colab": {
     "base_uri": "https://localhost:8080/",
     "height": 138
    },
    "colab_type": "code",
    "id": "NkahrkRLkiD9",
    "outputId": "fb58c8c7-3c91-41c7-9f8c-4a13ca67cfa8"
   },
   "outputs": [
    {
     "data": {
      "text/plain": [
       "description\n",
       "Accommodation and Food Services             1.777470e+09\n",
       "Agriculture Forestry Fishing and Hunting    2.818954e+08\n",
       "Arts Entertainment and Recreation           3.126078e+08\n",
       "Construction                                1.137631e+09\n",
       "Educational Services                        1.253895e+08\n",
       "Name: Loan Amount, dtype: float64"
      ]
     },
     "execution_count": 36,
     "metadata": {
      "tags": []
     },
     "output_type": "execute_result"
    }
   ],
   "source": [
    "#sum of loans by category\n",
    "loans_cat=df.groupby('description')['Loan Amount'].sum()\n",
    "loans_cat.head()"
   ]
  },
  {
   "cell_type": "code",
   "execution_count": 37,
   "metadata": {
    "colab": {
     "base_uri": "https://localhost:8080/",
     "height": 138
    },
    "colab_type": "code",
    "id": "KRRMRQoNwTae",
    "outputId": "e4dc98cc-a7e5-4b56-bf98-4f9ea7868c91"
   },
   "outputs": [
    {
     "data": {
      "text/plain": [
       "description\n",
       "Accommodation and Food Services             401364\n",
       "Agriculture Forestry Fishing and Hunting     41672\n",
       "Arts Entertainment and Recreation            65998\n",
       "Construction                                121912\n",
       "Educational Services                         24849\n",
       "Name: Jobs Saved, dtype: int64"
      ]
     },
     "execution_count": 37,
     "metadata": {
      "tags": []
     },
     "output_type": "execute_result"
    }
   ],
   "source": [
    "#sum of jobs saved by category\n",
    "jobs_cat=df.groupby('description')['Jobs Saved'].sum()\n",
    "jobs_cat.head()"
   ]
  },
  {
   "cell_type": "code",
   "execution_count": 38,
   "metadata": {
    "colab": {
     "base_uri": "https://localhost:8080/",
     "height": 138
    },
    "colab_type": "code",
    "id": "ACtIpTX8wtwt",
    "outputId": "ffb851c6-0ef1-4e25-a824-2b36759be311"
   },
   "outputs": [
    {
     "data": {
      "text/plain": [
       "description\n",
       "Accommodation and Food Services             43892.000\n",
       "Agriculture Forestry Fishing and Hunting    14245.500\n",
       "Arts Entertainment and Recreation           23398.420\n",
       "Construction                                33004.335\n",
       "Educational Services                        23300.000\n",
       "Name: Loan Amount, dtype: float64"
      ]
     },
     "execution_count": 38,
     "metadata": {
      "tags": []
     },
     "output_type": "execute_result"
    }
   ],
   "source": [
    "#median loan by category\n",
    "median_cat=df.groupby('description')['Loan Amount'].median()\n",
    "median_cat.head()"
   ]
  },
  {
   "cell_type": "code",
   "execution_count": 39,
   "metadata": {
    "colab": {
     "base_uri": "https://localhost:8080/",
     "height": 138
    },
    "colab_type": "code",
    "id": "Lk44wXoHwt_k",
    "outputId": "b2861b38-6f76-442f-b860-e00f39ef852b"
   },
   "outputs": [
    {
     "data": {
      "text/plain": [
       "description\n",
       "Accommodation and Food Services             52648.609625\n",
       "Agriculture Forestry Fishing and Hunting    22404.659389\n",
       "Arts Entertainment and Recreation           36643.741519\n",
       "Construction                                45765.193712\n",
       "Educational Services                        38263.516494\n",
       "Name: Loan Amount, dtype: float64"
      ]
     },
     "execution_count": 39,
     "metadata": {
      "tags": []
     },
     "output_type": "execute_result"
    }
   ],
   "source": [
    "#average loan by category \n",
    "mean_cat=df.groupby('description')['Loan Amount'].mean()\n",
    "mean_cat.head()"
   ]
  },
  {
   "cell_type": "code",
   "execution_count": 40,
   "metadata": {
    "colab": {
     "base_uri": "https://localhost:8080/",
     "height": 233
    },
    "colab_type": "code",
    "id": "GEmktleaxSn3",
    "outputId": "7e67ca5b-1745-4d63-f468-81c52e222385"
   },
   "outputs": [
    {
     "data": {
      "text/html": [
       "<div>\n",
       "<style scoped>\n",
       "    .dataframe tbody tr th:only-of-type {\n",
       "        vertical-align: middle;\n",
       "    }\n",
       "\n",
       "    .dataframe tbody tr th {\n",
       "        vertical-align: top;\n",
       "    }\n",
       "\n",
       "    .dataframe thead th {\n",
       "        text-align: right;\n",
       "    }\n",
       "</style>\n",
       "<table border=\"1\" class=\"dataframe\">\n",
       "  <thead>\n",
       "    <tr style=\"text-align: right;\">\n",
       "      <th></th>\n",
       "      <th>Jobs Saved</th>\n",
       "      <th>Median Loan</th>\n",
       "      <th>Average Loan</th>\n",
       "      <th>Total Loans</th>\n",
       "    </tr>\n",
       "    <tr>\n",
       "      <th>description</th>\n",
       "      <th></th>\n",
       "      <th></th>\n",
       "      <th></th>\n",
       "      <th></th>\n",
       "    </tr>\n",
       "  </thead>\n",
       "  <tbody>\n",
       "    <tr>\n",
       "      <th>Accommodation and Food Services</th>\n",
       "      <td>401364</td>\n",
       "      <td>43892.000</td>\n",
       "      <td>52648.609625</td>\n",
       "      <td>1.777470e+09</td>\n",
       "    </tr>\n",
       "    <tr>\n",
       "      <th>Agriculture Forestry Fishing and Hunting</th>\n",
       "      <td>41672</td>\n",
       "      <td>14245.500</td>\n",
       "      <td>22404.659389</td>\n",
       "      <td>2.818954e+08</td>\n",
       "    </tr>\n",
       "    <tr>\n",
       "      <th>Arts Entertainment and Recreation</th>\n",
       "      <td>65998</td>\n",
       "      <td>23398.420</td>\n",
       "      <td>36643.741519</td>\n",
       "      <td>3.126078e+08</td>\n",
       "    </tr>\n",
       "    <tr>\n",
       "      <th>Construction</th>\n",
       "      <td>121912</td>\n",
       "      <td>33004.335</td>\n",
       "      <td>45765.193712</td>\n",
       "      <td>1.137631e+09</td>\n",
       "    </tr>\n",
       "    <tr>\n",
       "      <th>Educational Services</th>\n",
       "      <td>24849</td>\n",
       "      <td>23300.000</td>\n",
       "      <td>38263.516494</td>\n",
       "      <td>1.253895e+08</td>\n",
       "    </tr>\n",
       "  </tbody>\n",
       "</table>\n",
       "</div>"
      ],
      "text/plain": [
       "                                          Jobs Saved  Median Loan  Average Loan   Total Loans\n",
       "description                                                                                  \n",
       "Accommodation and Food Services               401364    43892.000  52648.609625  1.777470e+09\n",
       "Agriculture Forestry Fishing and Hunting       41672    14245.500  22404.659389  2.818954e+08\n",
       "Arts Entertainment and Recreation              65998    23398.420  36643.741519  3.126078e+08\n",
       "Construction                                  121912    33004.335  45765.193712  1.137631e+09\n",
       "Educational Services                           24849    23300.000  38263.516494  1.253895e+08"
      ]
     },
     "execution_count": 40,
     "metadata": {
      "tags": []
     },
     "output_type": "execute_result"
    }
   ],
   "source": [
    "#summary category table\n",
    "category_summary_df=pd.DataFrame({\n",
    "    'Jobs Saved' : jobs_cat,\n",
    "    'Median Loan' : median_cat,\n",
    "    'Average Loan' : mean_cat,\n",
    "    'Total Loans': loans_cat,\n",
    "  \n",
    "})\n",
    "category_summary_df.head()"
   ]
  },
  {
   "cell_type": "markdown",
   "metadata": {
    "colab_type": "text",
    "id": "UIJaFTmfkuRe"
   },
   "source": [
    "No surprise - Hospitality industry seemed to take the biggest hit with Construction and Health Care loans the next highest number of jobs saved. Seemingly unexpected are Professional and Technical Services and Waste Management which may deserve a \"look under the hood\"."
   ]
  },
  {
   "cell_type": "markdown",
   "metadata": {
    "colab_type": "text",
    "id": "EmPxmX_fi46z"
   },
   "source": []
  },
  {
   "cell_type": "code",
   "execution_count": 41,
   "metadata": {
    "colab": {
     "base_uri": "https://localhost:8080/",
     "height": 693
    },
    "colab_type": "code",
    "id": "2DQF0fHZxSsr",
    "outputId": "e2a53e1a-b167-4f9c-9431-e0c007272ce3"
   },
   "outputs": [
    {
     "data": {
      "text/html": [
       "<div>\n",
       "<style scoped>\n",
       "    .dataframe tbody tr th:only-of-type {\n",
       "        vertical-align: middle;\n",
       "    }\n",
       "\n",
       "    .dataframe tbody tr th {\n",
       "        vertical-align: top;\n",
       "    }\n",
       "\n",
       "    .dataframe thead th {\n",
       "        text-align: right;\n",
       "    }\n",
       "</style>\n",
       "<table border=\"1\" class=\"dataframe\">\n",
       "  <thead>\n",
       "    <tr style=\"text-align: right;\">\n",
       "      <th></th>\n",
       "      <th>Jobs Saved</th>\n",
       "      <th>Median Loan</th>\n",
       "      <th>Average Loan</th>\n",
       "      <th>Total Loans</th>\n",
       "    </tr>\n",
       "    <tr>\n",
       "      <th>description</th>\n",
       "      <th></th>\n",
       "      <th></th>\n",
       "      <th></th>\n",
       "      <th></th>\n",
       "    </tr>\n",
       "  </thead>\n",
       "  <tbody>\n",
       "    <tr>\n",
       "      <th>Accommodation and Food Services</th>\n",
       "      <td>401,364</td>\n",
       "      <td>$43,892.00</td>\n",
       "      <td>$52,648.61</td>\n",
       "      <td>$1,777,469,709.56</td>\n",
       "    </tr>\n",
       "    <tr>\n",
       "      <th>Agriculture Forestry Fishing and Hunting</th>\n",
       "      <td>41,672</td>\n",
       "      <td>$14,245.50</td>\n",
       "      <td>$22,404.66</td>\n",
       "      <td>$281,895,424.43</td>\n",
       "    </tr>\n",
       "    <tr>\n",
       "      <th>Arts Entertainment and Recreation</th>\n",
       "      <td>65,998</td>\n",
       "      <td>$23,398.42</td>\n",
       "      <td>$36,643.74</td>\n",
       "      <td>$312,607,758.90</td>\n",
       "    </tr>\n",
       "    <tr>\n",
       "      <th>Construction</th>\n",
       "      <td>121,912</td>\n",
       "      <td>$33,004.33</td>\n",
       "      <td>$45,765.19</td>\n",
       "      <td>$1,137,631,185.30</td>\n",
       "    </tr>\n",
       "    <tr>\n",
       "      <th>Educational Services</th>\n",
       "      <td>24,849</td>\n",
       "      <td>$23,300.00</td>\n",
       "      <td>$38,263.52</td>\n",
       "      <td>$125,389,543.55</td>\n",
       "    </tr>\n",
       "    <tr>\n",
       "      <th>Finance and Insurance</th>\n",
       "      <td>32,834</td>\n",
       "      <td>$25,000.00</td>\n",
       "      <td>$36,114.94</td>\n",
       "      <td>$326,515,161.20</td>\n",
       "    </tr>\n",
       "    <tr>\n",
       "      <th>Health Care and Social Assistance</th>\n",
       "      <td>181,129</td>\n",
       "      <td>$41,972.00</td>\n",
       "      <td>$51,198.71</td>\n",
       "      <td>$1,446,312,284.14</td>\n",
       "    </tr>\n",
       "    <tr>\n",
       "      <th>Information</th>\n",
       "      <td>15,827</td>\n",
       "      <td>$28,031.50</td>\n",
       "      <td>$41,966.92</td>\n",
       "      <td>$138,826,567.69</td>\n",
       "    </tr>\n",
       "    <tr>\n",
       "      <th>Management of Companies and Enterprises</th>\n",
       "      <td>2,611</td>\n",
       "      <td>$40,000.00</td>\n",
       "      <td>$51,347.33</td>\n",
       "      <td>$21,514,529.30</td>\n",
       "    </tr>\n",
       "    <tr>\n",
       "      <th>Manufacturing food related</th>\n",
       "      <td>25,296</td>\n",
       "      <td>$34,500.00</td>\n",
       "      <td>$45,462.00</td>\n",
       "      <td>$152,752,334.62</td>\n",
       "    </tr>\n",
       "    <tr>\n",
       "      <th>Manufacturing hard materials</th>\n",
       "      <td>42,309</td>\n",
       "      <td>$48,200.00</td>\n",
       "      <td>$56,695.79</td>\n",
       "      <td>$408,663,271.52</td>\n",
       "    </tr>\n",
       "    <tr>\n",
       "      <th>Manufacturing soft materials</th>\n",
       "      <td>21,732</td>\n",
       "      <td>$43,250.00</td>\n",
       "      <td>$53,830.53</td>\n",
       "      <td>$188,891,326.16</td>\n",
       "    </tr>\n",
       "    <tr>\n",
       "      <th>Mining</th>\n",
       "      <td>6,624</td>\n",
       "      <td>$26,100.00</td>\n",
       "      <td>$43,996.69</td>\n",
       "      <td>$65,511,074.16</td>\n",
       "    </tr>\n",
       "    <tr>\n",
       "      <th>Professional Scientific and Technical Services</th>\n",
       "      <td>114,879</td>\n",
       "      <td>$27,400.00</td>\n",
       "      <td>$41,489.06</td>\n",
       "      <td>$1,184,388,259.40</td>\n",
       "    </tr>\n",
       "    <tr>\n",
       "      <th>Real Estate Rental and Leasing</th>\n",
       "      <td>43,427</td>\n",
       "      <td>$19,991.00</td>\n",
       "      <td>$29,577.48</td>\n",
       "      <td>$379,124,084.88</td>\n",
       "    </tr>\n",
       "    <tr>\n",
       "      <th>Retail Trade</th>\n",
       "      <td>196,698</td>\n",
       "      <td>$26,190.00</td>\n",
       "      <td>$38,291.87</td>\n",
       "      <td>$1,215,996,678.72</td>\n",
       "    </tr>\n",
       "    <tr>\n",
       "      <th>Transportation and Warehousing</th>\n",
       "      <td>42,086</td>\n",
       "      <td>$20,800.00</td>\n",
       "      <td>$36,129.65</td>\n",
       "      <td>$343,990,409.23</td>\n",
       "    </tr>\n",
       "    <tr>\n",
       "      <th>Utilities</th>\n",
       "      <td>1,910</td>\n",
       "      <td>$36,356.00</td>\n",
       "      <td>$47,317.03</td>\n",
       "      <td>$18,264,373.88</td>\n",
       "    </tr>\n",
       "    <tr>\n",
       "      <th>Waste Management and Remediation Services</th>\n",
       "      <td>67,486</td>\n",
       "      <td>$27,800.00</td>\n",
       "      <td>$41,770.50</td>\n",
       "      <td>$472,716,802.26</td>\n",
       "    </tr>\n",
       "    <tr>\n",
       "      <th>Wholesale Trade</th>\n",
       "      <td>54,421</td>\n",
       "      <td>$37,307.00</td>\n",
       "      <td>$49,142.44</td>\n",
       "      <td>$492,751,289.05</td>\n",
       "    </tr>\n",
       "  </tbody>\n",
       "</table>\n",
       "</div>"
      ],
      "text/plain": [
       "                                               Jobs Saved Median Loan Average Loan        Total Loans\n",
       "description                                                                                          \n",
       "Accommodation and Food Services                   401,364  $43,892.00   $52,648.61  $1,777,469,709.56\n",
       "Agriculture Forestry Fishing and Hunting           41,672  $14,245.50   $22,404.66    $281,895,424.43\n",
       "Arts Entertainment and Recreation                  65,998  $23,398.42   $36,643.74    $312,607,758.90\n",
       "Construction                                      121,912  $33,004.33   $45,765.19  $1,137,631,185.30\n",
       "Educational Services                               24,849  $23,300.00   $38,263.52    $125,389,543.55\n",
       "Finance and Insurance                              32,834  $25,000.00   $36,114.94    $326,515,161.20\n",
       "Health Care and Social Assistance                 181,129  $41,972.00   $51,198.71  $1,446,312,284.14\n",
       "Information                                        15,827  $28,031.50   $41,966.92    $138,826,567.69\n",
       "Management of Companies and Enterprises             2,611  $40,000.00   $51,347.33     $21,514,529.30\n",
       "Manufacturing food related                         25,296  $34,500.00   $45,462.00    $152,752,334.62\n",
       "Manufacturing hard materials                       42,309  $48,200.00   $56,695.79    $408,663,271.52\n",
       "Manufacturing soft materials                       21,732  $43,250.00   $53,830.53    $188,891,326.16\n",
       "Mining                                              6,624  $26,100.00   $43,996.69     $65,511,074.16\n",
       "Professional Scientific and Technical Services    114,879  $27,400.00   $41,489.06  $1,184,388,259.40\n",
       "Real Estate Rental and Leasing                     43,427  $19,991.00   $29,577.48    $379,124,084.88\n",
       "Retail Trade                                      196,698  $26,190.00   $38,291.87  $1,215,996,678.72\n",
       "Transportation and Warehousing                     42,086  $20,800.00   $36,129.65    $343,990,409.23\n",
       "Utilities                                           1,910  $36,356.00   $47,317.03     $18,264,373.88\n",
       "Waste Management and Remediation Services          67,486  $27,800.00   $41,770.50    $472,716,802.26\n",
       "Wholesale Trade                                    54,421  $37,307.00   $49,142.44    $492,751,289.05"
      ]
     },
     "execution_count": 41,
     "metadata": {
      "tags": []
     },
     "output_type": "execute_result"
    }
   ],
   "source": [
    "#formatting\n",
    "category_summary_df['Jobs Saved'] = category_summary_df.loc[:,'Jobs Saved'].map(\"{:,}\".format)\n",
    "category_summary_df['Median Loan'] = category_summary_df.loc[:,'Median Loan'].map(\"${:,.2f}\".format)\n",
    "category_summary_df['Average Loan'] = category_summary_df.loc[:,'Average Loan'].map(\"${:,.2f}\".format)\n",
    "category_summary_df['Total Loans'] = category_summary_df.loc[:,'Total Loans'].map(\"${:,.2f}\".format)\n",
    "category_summary_df.head(30)"
   ]
  },
  {
   "cell_type": "code",
   "execution_count": 42,
   "metadata": {
    "colab": {},
    "colab_type": "code",
    "id": "rT7RP1CxwUA9"
   },
   "outputs": [],
   "source": [
    "#save to csv and will convert to a table in SQL / Tableau for further analysis \n",
    "\n",
    "category_summary_df.to_csv('category_summary.csv', index=True)\n",
    "!cp category_summary.csv \"drive/My Drive/\""
   ]
  },
  {
   "cell_type": "markdown",
   "metadata": {
    "colab_type": "text",
    "id": "Aw20zAVj_vnV"
   },
   "source": [
    "Adding columns for day of the week and percentiles\n",
    "\n"
   ]
  },
  {
   "cell_type": "code",
   "execution_count": 43,
   "metadata": {
    "colab": {},
    "colab_type": "code",
    "id": "Dxv6FgkxjkCG"
   },
   "outputs": [],
   "source": []
  },
  {
   "cell_type": "code",
   "execution_count": 44,
   "metadata": {
    "colab": {
     "base_uri": "https://localhost:8080/",
     "height": 169
    },
    "colab_type": "code",
    "id": "TKt4zPyuA9ko",
    "outputId": "261057a2-3c1d-4e01-f5b9-647bdf4ae9c5"
   },
   "outputs": [
    {
     "data": {
      "text/html": [
       "<div>\n",
       "<style scoped>\n",
       "    .dataframe tbody tr th:only-of-type {\n",
       "        vertical-align: middle;\n",
       "    }\n",
       "\n",
       "    .dataframe tbody tr th {\n",
       "        vertical-align: top;\n",
       "    }\n",
       "\n",
       "    .dataframe thead th {\n",
       "        text-align: right;\n",
       "    }\n",
       "</style>\n",
       "<table border=\"1\" class=\"dataframe\">\n",
       "  <thead>\n",
       "    <tr style=\"text-align: right;\">\n",
       "      <th></th>\n",
       "      <th>Loan Amount</th>\n",
       "      <th>City</th>\n",
       "      <th>State</th>\n",
       "      <th>Zip</th>\n",
       "      <th>NAICS Code</th>\n",
       "      <th>Business Type</th>\n",
       "      <th>Race</th>\n",
       "      <th>Gender</th>\n",
       "      <th>Veteran</th>\n",
       "      <th>Jobs Saved</th>\n",
       "      <th>Date</th>\n",
       "      <th>Bank</th>\n",
       "      <th>NAICS Category</th>\n",
       "      <th>description</th>\n",
       "      <th>Title</th>\n",
       "      <th>Loan Percentile</th>\n",
       "    </tr>\n",
       "  </thead>\n",
       "  <tbody>\n",
       "    <tr>\n",
       "      <th>194453</th>\n",
       "      <td>5000.0</td>\n",
       "      <td>CANAL WINCHESTER</td>\n",
       "      <td>OH</td>\n",
       "      <td>43110</td>\n",
       "      <td>71394</td>\n",
       "      <td>Corporation</td>\n",
       "      <td>White</td>\n",
       "      <td>Male Owned</td>\n",
       "      <td>Non-Veteran</td>\n",
       "      <td>1</td>\n",
       "      <td>2020-04-15</td>\n",
       "      <td>The Park National Bank</td>\n",
       "      <td>71</td>\n",
       "      <td>Arts Entertainment and Recreation</td>\n",
       "      <td>Fitness and Recreational Sports CentersT</td>\n",
       "      <td>10%</td>\n",
       "    </tr>\n",
       "  </tbody>\n",
       "</table>\n",
       "</div>"
      ],
      "text/plain": [
       "        Loan Amount              City State    Zip NAICS Code Business Type   Race      Gender      Veteran  Jobs Saved       Date                    Bank NAICS Category                        description                                      Title Loan Percentile\n",
       "194453       5000.0  CANAL WINCHESTER    OH  43110      71394   Corporation  White  Male Owned  Non-Veteran           1 2020-04-15  The Park National Bank             71  Arts Entertainment and Recreation  Fitness and Recreational Sports CentersT              10%"
      ]
     },
     "execution_count": 44,
     "metadata": {
      "tags": []
     },
     "output_type": "execute_result"
    }
   ],
   "source": [
    "# df['Loan PCL']=pd.qcut(df['Loan Amount'], q=10)\n",
    "\n",
    "bin_labels_10= ['10%', '20%', '30%', '40%', '50%', '60%', '70%', '80%', '90%' ]\n",
    "df['Loan Percentile'] = pd.qcut(df['Loan Amount'],\n",
    "                              q=[0,  .10, .20, .30, .40, .50, .60, .70, .80, 1],\n",
    "                              labels=bin_labels_10)\n",
    "df.sample()"
   ]
  },
  {
   "cell_type": "code",
   "execution_count": 45,
   "metadata": {
    "colab": {
     "base_uri": "https://localhost:8080/",
     "height": 152
    },
    "colab_type": "code",
    "id": "BRptlYzWTblw",
    "outputId": "5de4b64f-0855-4075-c8be-7ca2fdac275e"
   },
   "outputs": [
    {
     "data": {
      "text/html": [
       "<div>\n",
       "<style scoped>\n",
       "    .dataframe tbody tr th:only-of-type {\n",
       "        vertical-align: middle;\n",
       "    }\n",
       "\n",
       "    .dataframe tbody tr th {\n",
       "        vertical-align: top;\n",
       "    }\n",
       "\n",
       "    .dataframe thead th {\n",
       "        text-align: right;\n",
       "    }\n",
       "</style>\n",
       "<table border=\"1\" class=\"dataframe\">\n",
       "  <thead>\n",
       "    <tr style=\"text-align: right;\">\n",
       "      <th></th>\n",
       "      <th>Loan Amount</th>\n",
       "      <th>City</th>\n",
       "      <th>State</th>\n",
       "      <th>Zip</th>\n",
       "      <th>NAICS Code</th>\n",
       "      <th>Business Type</th>\n",
       "      <th>Race</th>\n",
       "      <th>Gender</th>\n",
       "      <th>Veteran</th>\n",
       "      <th>Jobs Saved</th>\n",
       "      <th>Date</th>\n",
       "      <th>Bank</th>\n",
       "      <th>NAICS Category</th>\n",
       "      <th>description</th>\n",
       "      <th>Title</th>\n",
       "      <th>Loan Percentile</th>\n",
       "      <th>Loan Quartile</th>\n",
       "    </tr>\n",
       "  </thead>\n",
       "  <tbody>\n",
       "    <tr>\n",
       "      <th>155373</th>\n",
       "      <td>52400.0</td>\n",
       "      <td>DUBLIN</td>\n",
       "      <td>OH</td>\n",
       "      <td>43017</td>\n",
       "      <td>44211</td>\n",
       "      <td>Limited  Liability Company(LLC)</td>\n",
       "      <td>White</td>\n",
       "      <td>Female Owned</td>\n",
       "      <td>Non-Veteran</td>\n",
       "      <td>7</td>\n",
       "      <td>2020-04-13</td>\n",
       "      <td>KeyBank National Association</td>\n",
       "      <td>44</td>\n",
       "      <td>Retail Trade</td>\n",
       "      <td>Furniture Stores</td>\n",
       "      <td>70%</td>\n",
       "      <td>50%</td>\n",
       "    </tr>\n",
       "  </tbody>\n",
       "</table>\n",
       "</div>"
      ],
      "text/plain": [
       "        Loan Amount    City State    Zip NAICS Code                    Business Type   Race        Gender      Veteran  Jobs Saved       Date                          Bank NAICS Category   description              Title Loan Percentile Loan Quartile\n",
       "155373      52400.0  DUBLIN    OH  43017      44211  Limited  Liability Company(LLC)  White  Female Owned  Non-Veteran           7 2020-04-13  KeyBank National Association             44  Retail Trade  Furniture Stores              70%           50%"
      ]
     },
     "execution_count": 45,
     "metadata": {
      "tags": []
     },
     "output_type": "execute_result"
    }
   ],
   "source": [
    "#binning quartiles\n",
    "bin_labels_4 = ['25%', '45%', '50%', '75%', ]\n",
    "df['Loan Quartile'] = pd.qcut(df['Loan Amount'],\n",
    "                              q=[0, .25, .50, .75, 1],\n",
    "                              labels=bin_labels_4)\n",
    "df.sample()"
   ]
  },
  {
   "cell_type": "code",
   "execution_count": 43,
   "metadata": {
    "colab": {
     "base_uri": "https://localhost:8080/",
     "height": 190
    },
    "colab_type": "code",
    "id": "9s3aaf3Sjj0e",
    "outputId": "ad0f1dea-bb04-4675-fe4a-9e9f73e7d2d9"
   },
   "outputs": [
    {
     "data": {
      "text/plain": [
       "State\n",
       "CA    1.011667e+09\n",
       "TX    8.442114e+08\n",
       "OH    7.525145e+08\n",
       "FL    5.129656e+08\n",
       "NY    4.587963e+08\n",
       "IL    4.051708e+08\n",
       "MN    3.652874e+08\n",
       "GA    3.530695e+08\n",
       "Name: Loan Amount, dtype: float64"
      ]
     },
     "execution_count": 43,
     "metadata": {
      "tags": []
     },
     "output_type": "execute_result"
    }
   ],
   "source": [
    "# loan sum by state\n",
    "sum_by_state=df.groupby('State',)['Loan Amount'].sum() \n",
    "sum_by_state.nlargest(8)"
   ]
  },
  {
   "cell_type": "code",
   "execution_count": 46,
   "metadata": {
    "colab": {
     "base_uri": "https://localhost:8080/",
     "height": 152
    },
    "colab_type": "code",
    "id": "ZUP9UNIOW33d",
    "outputId": "c6d3242c-e69e-4b96-c63c-fbe476ec7465"
   },
   "outputs": [
    {
     "data": {
      "text/html": [
       "<div>\n",
       "<style scoped>\n",
       "    .dataframe tbody tr th:only-of-type {\n",
       "        vertical-align: middle;\n",
       "    }\n",
       "\n",
       "    .dataframe tbody tr th {\n",
       "        vertical-align: top;\n",
       "    }\n",
       "\n",
       "    .dataframe thead th {\n",
       "        text-align: right;\n",
       "    }\n",
       "</style>\n",
       "<table border=\"1\" class=\"dataframe\">\n",
       "  <thead>\n",
       "    <tr style=\"text-align: right;\">\n",
       "      <th></th>\n",
       "      <th>Loan Amount</th>\n",
       "      <th>City</th>\n",
       "      <th>State</th>\n",
       "      <th>Zip</th>\n",
       "      <th>NAICS Code</th>\n",
       "      <th>Business Type</th>\n",
       "      <th>Race</th>\n",
       "      <th>Gender</th>\n",
       "      <th>Veteran</th>\n",
       "      <th>Jobs Saved</th>\n",
       "      <th>Date</th>\n",
       "      <th>Bank</th>\n",
       "      <th>NAICS Category</th>\n",
       "      <th>description</th>\n",
       "      <th>Title</th>\n",
       "      <th>Loan Percentile</th>\n",
       "      <th>Loan Quartile</th>\n",
       "      <th>DayNUM</th>\n",
       "    </tr>\n",
       "  </thead>\n",
       "  <tbody>\n",
       "    <tr>\n",
       "      <th>7357</th>\n",
       "      <td>25500.0</td>\n",
       "      <td>MERRILL</td>\n",
       "      <td>IA</td>\n",
       "      <td>51038</td>\n",
       "      <td>23891</td>\n",
       "      <td>Corporation</td>\n",
       "      <td>White</td>\n",
       "      <td>Male Owned</td>\n",
       "      <td>Non-Veteran</td>\n",
       "      <td>2</td>\n",
       "      <td>2020-04-05</td>\n",
       "      <td>Northwest Bank</td>\n",
       "      <td>23</td>\n",
       "      <td>Construction</td>\n",
       "      <td>Site Preparation ContractorsT</td>\n",
       "      <td>50%</td>\n",
       "      <td>45%</td>\n",
       "      <td>6</td>\n",
       "    </tr>\n",
       "  </tbody>\n",
       "</table>\n",
       "</div>"
      ],
      "text/plain": [
       "      Loan Amount     City State    Zip NAICS Code Business Type   Race      Gender      Veteran  Jobs Saved       Date            Bank NAICS Category   description                           Title Loan Percentile Loan Quartile  DayNUM\n",
       "7357      25500.0  MERRILL    IA  51038      23891   Corporation  White  Male Owned  Non-Veteran           2 2020-04-05  Northwest Bank             23  Construction  Site Preparation ContractorsT              50%           45%       6"
      ]
     },
     "execution_count": 46,
     "metadata": {
      "tags": []
     },
     "output_type": "execute_result"
    }
   ],
   "source": [
    "# day of the week\n",
    "df['DayNUM']= pd.to_datetime(df['Date']).dt.dayofweek\n",
    "df.sample()"
   ]
  },
  {
   "cell_type": "code",
   "execution_count": 47,
   "metadata": {
    "colab": {
     "base_uri": "https://localhost:8080/",
     "height": 156
    },
    "colab_type": "code",
    "id": "U3cw4b7yTbsw",
    "outputId": "023a9ef0-3d93-42b8-9d8c-abbe8fa8dad9"
   },
   "outputs": [
    {
     "data": {
      "text/plain": [
       "1    62903\n",
       "0    48712\n",
       "2    47748\n",
       "3    30221\n",
       "4    28126\n",
       "5    16887\n",
       "6     9367\n",
       "Name: DayNUM, dtype: int64"
      ]
     },
     "execution_count": 47,
     "metadata": {
      "tags": []
     },
     "output_type": "execute_result"
    }
   ],
   "source": [
    "# monday most common day for loan issuance\n",
    "df['DayNUM'].value_counts()"
   ]
  },
  {
   "cell_type": "markdown",
   "metadata": {
    "colab_type": "text",
    "id": "eRt6t6Mzl1Q5"
   },
   "source": [
    "The 90th percentile of loans account for 20% of total in terms of loan amount\n"
   ]
  },
  {
   "cell_type": "code",
   "execution_count": 48,
   "metadata": {
    "colab": {
     "base_uri": "https://localhost:8080/",
     "height": 104
    },
    "colab_type": "code",
    "id": "b9iRqp3VNlDl",
    "outputId": "4dd8f494-a88a-4ecc-fcbe-79b0efbe4da4"
   },
   "outputs": [
    {
     "data": {
      "text/plain": [
       "45%    61335\n",
       "25%    60992\n",
       "75%    60991\n",
       "50%    60646\n",
       "Name: Loan Quartile, dtype: int64"
      ]
     },
     "execution_count": 48,
     "metadata": {
      "tags": []
     },
     "output_type": "execute_result"
    }
   ],
   "source": [
    "df['Loan Quartile'].value_counts()"
   ]
  },
  {
   "cell_type": "code",
   "execution_count": 49,
   "metadata": {
    "colab": {
     "base_uri": "https://localhost:8080/",
     "height": 204
    },
    "colab_type": "code",
    "id": "08QLznG4Nla-",
    "outputId": "a7f4f9c6-fe28-47a8-b302-08b2e1bbcf31"
   },
   "outputs": [
    {
     "data": {
      "text/html": [
       "<div>\n",
       "<style scoped>\n",
       "    .dataframe tbody tr th:only-of-type {\n",
       "        vertical-align: middle;\n",
       "    }\n",
       "\n",
       "    .dataframe tbody tr th {\n",
       "        vertical-align: top;\n",
       "    }\n",
       "\n",
       "    .dataframe thead th {\n",
       "        text-align: right;\n",
       "    }\n",
       "</style>\n",
       "<table border=\"1\" class=\"dataframe\">\n",
       "  <thead>\n",
       "    <tr style=\"text-align: right;\">\n",
       "      <th></th>\n",
       "      <th>Loan Amount</th>\n",
       "      <th>City</th>\n",
       "      <th>State</th>\n",
       "      <th>Zip</th>\n",
       "      <th>NAICS Code</th>\n",
       "      <th>Business Type</th>\n",
       "      <th>Race</th>\n",
       "      <th>Gender</th>\n",
       "      <th>Veteran</th>\n",
       "      <th>Jobs Saved</th>\n",
       "      <th>Date</th>\n",
       "      <th>Bank</th>\n",
       "      <th>NAICS Category</th>\n",
       "      <th>description</th>\n",
       "      <th>Title</th>\n",
       "      <th>Loan Percentile</th>\n",
       "      <th>Loan Quartile</th>\n",
       "      <th>DayNUM</th>\n",
       "      <th>Weekday</th>\n",
       "    </tr>\n",
       "  </thead>\n",
       "  <tbody>\n",
       "    <tr>\n",
       "      <th>417</th>\n",
       "      <td>47201.0</td>\n",
       "      <td>JANESVILLE</td>\n",
       "      <td>WI</td>\n",
       "      <td>53548</td>\n",
       "      <td>23811</td>\n",
       "      <td>Limited  Liability Company(LLC)</td>\n",
       "      <td>White</td>\n",
       "      <td>Male Owned</td>\n",
       "      <td>Non-Veteran</td>\n",
       "      <td>0</td>\n",
       "      <td>2020-04-30</td>\n",
       "      <td>Associated Bank</td>\n",
       "      <td>23</td>\n",
       "      <td>Construction</td>\n",
       "      <td>Poured Concrete Foundation and Structure Contr...</td>\n",
       "      <td>70%</td>\n",
       "      <td>50%</td>\n",
       "      <td>3</td>\n",
       "      <td>Thurs</td>\n",
       "    </tr>\n",
       "  </tbody>\n",
       "</table>\n",
       "</div>"
      ],
      "text/plain": [
       "     Loan Amount        City State    Zip NAICS Code                    Business Type   Race      Gender      Veteran  Jobs Saved       Date             Bank NAICS Category   description                                              Title Loan Percentile Loan Quartile  DayNUM Weekday\n",
       "417      47201.0  JANESVILLE    WI  53548      23811  Limited  Liability Company(LLC)  White  Male Owned  Non-Veteran           0 2020-04-30  Associated Bank             23  Construction  Poured Concrete Foundation and Structure Contr...             70%           50%       3   Thurs"
      ]
     },
     "execution_count": 49,
     "metadata": {
      "tags": []
     },
     "output_type": "execute_result"
    }
   ],
   "source": [
    "# replace numerical representation with day name\n",
    "\n",
    "day_labels= {'0': 'Mon', '1':'Tues', '2' : 'Wed', '3':'Thurs', '4': 'Fri', '5':'Sat', '6' :'Sun'}\n",
    "df['Weekday'] = df['DayNUM'].astype(str).replace(day_labels)\n",
    "df.sample()"
   ]
  },
  {
   "cell_type": "code",
   "execution_count": 50,
   "metadata": {
    "colab": {
     "base_uri": "https://localhost:8080/",
     "height": 186
    },
    "colab_type": "code",
    "id": "-Usyll_7ixmZ",
    "outputId": "1f73187a-ae41-436d-9669-3d678df3df48"
   },
   "outputs": [
    {
     "data": {
      "text/html": [
       "<div>\n",
       "<style scoped>\n",
       "    .dataframe tbody tr th:only-of-type {\n",
       "        vertical-align: middle;\n",
       "    }\n",
       "\n",
       "    .dataframe tbody tr th {\n",
       "        vertical-align: top;\n",
       "    }\n",
       "\n",
       "    .dataframe thead th {\n",
       "        text-align: right;\n",
       "    }\n",
       "</style>\n",
       "<table border=\"1\" class=\"dataframe\">\n",
       "  <thead>\n",
       "    <tr style=\"text-align: right;\">\n",
       "      <th></th>\n",
       "      <th>Loan Amount</th>\n",
       "      <th>City</th>\n",
       "      <th>State</th>\n",
       "      <th>Zip</th>\n",
       "      <th>NAICS Code</th>\n",
       "      <th>Business Type</th>\n",
       "      <th>Race</th>\n",
       "      <th>Gender</th>\n",
       "      <th>Veteran</th>\n",
       "      <th>Jobs Saved</th>\n",
       "      <th>Date</th>\n",
       "      <th>Bank</th>\n",
       "      <th>NAICS Category</th>\n",
       "      <th>description</th>\n",
       "      <th>Title</th>\n",
       "      <th>Loan Percentile</th>\n",
       "      <th>Loan Quartile</th>\n",
       "      <th>DayNUM</th>\n",
       "      <th>Weekday</th>\n",
       "    </tr>\n",
       "  </thead>\n",
       "  <tbody>\n",
       "    <tr>\n",
       "      <th>176531</th>\n",
       "      <td>39960.0</td>\n",
       "      <td>JACKSON</td>\n",
       "      <td>MS</td>\n",
       "      <td>39201</td>\n",
       "      <td>53119</td>\n",
       "      <td>Corporation</td>\n",
       "      <td>White</td>\n",
       "      <td>Male Owned</td>\n",
       "      <td>Non-Veteran</td>\n",
       "      <td>6</td>\n",
       "      <td>2020-04-05</td>\n",
       "      <td>Guaranty Bank &amp; Trust Company</td>\n",
       "      <td>53</td>\n",
       "      <td>Real Estate Rental and Leasing</td>\n",
       "      <td>Lessors of Other Real Estate Property</td>\n",
       "      <td>60%</td>\n",
       "      <td>50%</td>\n",
       "      <td>6</td>\n",
       "      <td>Sun</td>\n",
       "    </tr>\n",
       "  </tbody>\n",
       "</table>\n",
       "</div>"
      ],
      "text/plain": [
       "        Loan Amount     City State    Zip NAICS Code Business Type   Race      Gender      Veteran  Jobs Saved       Date                           Bank NAICS Category                     description                                   Title Loan Percentile Loan Quartile  DayNUM Weekday\n",
       "176531      39960.0  JACKSON    MS  39201      53119   Corporation  White  Male Owned  Non-Veteran           6 2020-04-05  Guaranty Bank & Trust Company             53  Real Estate Rental and Leasing  Lessors of Other Real Estate Property              60%           50%       6     Sun"
      ]
     },
     "execution_count": 50,
     "metadata": {
      "tags": []
     },
     "output_type": "execute_result"
    }
   ],
   "source": [
    "# shorten names of business types and combine some that are similar such as joint venture and partnership\n",
    "df['Business Type'] = df['Business Type'].replace({'Limited  Liability Company(LLC)':'LLC', \n",
    "                                                   'Subchapter S Corporation': 'S Corp', \n",
    "                                                   'Self-Employed Individuals':'Self Employed', \n",
    "                                                   'Independent Contractors' : 'Self Employed',\n",
    "                                                   'Non-Profit Organization': 'Non-Profit',\n",
    "                                                   'Limited Liability Partnership': 'Partnership',\n",
    "                                                   'Joint Venture':'Partnership'\n",
    "                                                   })\n",
    "df.sample()"
   ]
  },
  {
   "cell_type": "code",
   "execution_count": 51,
   "metadata": {
    "colab": {
     "base_uri": "https://localhost:8080/",
     "height": 277
    },
    "colab_type": "code",
    "id": "WKtn9aWAPWZf",
    "outputId": "67c3a435-476b-463a-83e1-deb2fb7d9aeb"
   },
   "outputs": [
    {
     "data": {
      "text/plain": [
       "LLC                                    82746\n",
       "Corporation                            77805\n",
       "S Corp                                 37588\n",
       "Sole Proprietorship                    30405\n",
       "Self Employed                           7871\n",
       "Partnership                             4999\n",
       "Non-Profit                              1356\n",
       "Professional Association                 791\n",
       "Cooperative                              253\n",
       "Non-Profit Childcare Center               86\n",
       "Trust                                     41\n",
       "Employee Stock Ownership Plan(ESOP)       18\n",
       "Tenant in Common                           4\n",
       "Rollover as Business Start-Ups (ROB        1\n",
       "Name: Business Type, dtype: int64"
      ]
     },
     "execution_count": 51,
     "metadata": {
      "tags": []
     },
     "output_type": "execute_result"
    }
   ],
   "source": [
    "# business types by count\n",
    "df['Business Type'].value_counts()"
   ]
  },
  {
   "cell_type": "markdown",
   "metadata": {
    "colab_type": "text",
    "id": "wkuklWLgBTEg"
   },
   "source": [
    "Gender, race and military status explored"
   ]
  },
  {
   "cell_type": "code",
   "execution_count": 52,
   "metadata": {
    "colab": {
     "base_uri": "https://localhost:8080/",
     "height": 69
    },
    "colab_type": "code",
    "id": "FchzUF6ghbEF",
    "outputId": "9b2e9904-7982-4711-b233-4ab53fdc8198"
   },
   "outputs": [
    {
     "data": {
      "text/plain": [
       "Male Owned      179453\n",
       "Female Owned     64511\n",
       "Name: Gender, dtype: int64"
      ]
     },
     "execution_count": 52,
     "metadata": {
      "tags": []
     },
     "output_type": "execute_result"
    }
   ],
   "source": [
    "df['Gender'].value_counts()"
   ]
  },
  {
   "cell_type": "code",
   "execution_count": 53,
   "metadata": {
    "colab": {
     "base_uri": "https://localhost:8080/",
     "height": 169
    },
    "colab_type": "code",
    "id": "sJj56n5sifVR",
    "outputId": "c58a0867-c4a4-4f97-95e0-13b22cc60327"
   },
   "outputs": [
    {
     "data": {
      "text/html": [
       "<div>\n",
       "<style scoped>\n",
       "    .dataframe tbody tr th:only-of-type {\n",
       "        vertical-align: middle;\n",
       "    }\n",
       "\n",
       "    .dataframe tbody tr th {\n",
       "        vertical-align: top;\n",
       "    }\n",
       "\n",
       "    .dataframe thead th {\n",
       "        text-align: right;\n",
       "    }\n",
       "</style>\n",
       "<table border=\"1\" class=\"dataframe\">\n",
       "  <thead>\n",
       "    <tr style=\"text-align: right;\">\n",
       "      <th></th>\n",
       "      <th>Loan Amount</th>\n",
       "      <th>City</th>\n",
       "      <th>State</th>\n",
       "      <th>Zip</th>\n",
       "      <th>NAICS Code</th>\n",
       "      <th>Business Type</th>\n",
       "      <th>Race</th>\n",
       "      <th>Gender</th>\n",
       "      <th>Veteran</th>\n",
       "      <th>Jobs Saved</th>\n",
       "      <th>Date</th>\n",
       "      <th>Bank</th>\n",
       "      <th>NAICS Category</th>\n",
       "      <th>description</th>\n",
       "      <th>Title</th>\n",
       "      <th>Loan Percentile</th>\n",
       "      <th>Loan Quartile</th>\n",
       "      <th>DayNUM</th>\n",
       "      <th>Weekday</th>\n",
       "    </tr>\n",
       "  </thead>\n",
       "  <tbody>\n",
       "    <tr>\n",
       "      <th>120876</th>\n",
       "      <td>5100.0</td>\n",
       "      <td>PHOENIX</td>\n",
       "      <td>AZ</td>\n",
       "      <td>85018</td>\n",
       "      <td>541611</td>\n",
       "      <td>Sole Proprietorship</td>\n",
       "      <td>White</td>\n",
       "      <td>Male</td>\n",
       "      <td>Non-Veteran</td>\n",
       "      <td>0</td>\n",
       "      <td>2020-05-12</td>\n",
       "      <td>Arizona FCU</td>\n",
       "      <td>54</td>\n",
       "      <td>Professional Scientific and Technical Services</td>\n",
       "      <td>Administrative Management and General Manageme...</td>\n",
       "      <td>10%</td>\n",
       "      <td>25%</td>\n",
       "      <td>1</td>\n",
       "      <td>Tues</td>\n",
       "    </tr>\n",
       "  </tbody>\n",
       "</table>\n",
       "</div>"
      ],
      "text/plain": [
       "        Loan Amount     City State    Zip NAICS Code        Business Type   Race Gender      Veteran  Jobs Saved       Date         Bank NAICS Category                                     description                                              Title Loan Percentile Loan Quartile  DayNUM Weekday\n",
       "120876       5100.0  PHOENIX    AZ  85018     541611  Sole Proprietorship  White   Male  Non-Veteran           0 2020-05-12  Arizona FCU             54  Professional Scientific and Technical Services  Administrative Management and General Manageme...             10%           25%       1    Tues"
      ]
     },
     "execution_count": 53,
     "metadata": {
      "tags": []
     },
     "output_type": "execute_result"
    }
   ],
   "source": [
    "# gender value shortened \n",
    "df['Gender'] = df['Gender'].replace({'Male Owned':'Male', 'Female Owned': 'Female', })\n",
    "df.sample()"
   ]
  },
  {
   "cell_type": "code",
   "execution_count": 54,
   "metadata": {
    "colab": {
     "base_uri": "https://localhost:8080/",
     "height": 173
    },
    "colab_type": "code",
    "id": "vfsXbUEChiO4",
    "outputId": "177c50ff-25a5-469a-922d-d2a9a3a3bb03"
   },
   "outputs": [
    {
     "data": {
      "text/plain": [
       "White                               184816\n",
       "Asian                                30802\n",
       "Hispanic                             19594\n",
       "Black or African American             7373\n",
       "American Indian or Alaska Native      1296\n",
       "Puerto Rican                            76\n",
       "Multi Group                              4\n",
       "Eskimo & Aleut                           3\n",
       "Name: Race, dtype: int64"
      ]
     },
     "execution_count": 54,
     "metadata": {
      "tags": []
     },
     "output_type": "execute_result"
    }
   ],
   "source": [
    "#value counts of race\n",
    "df['Race'].value_counts()"
   ]
  },
  {
   "cell_type": "code",
   "execution_count": 55,
   "metadata": {
    "colab": {
     "base_uri": "https://localhost:8080/",
     "height": 152
    },
    "colab_type": "code",
    "id": "CUnyet7rhzJe",
    "outputId": "af2993cc-85e6-415b-c9d0-3b28088f1a44"
   },
   "outputs": [
    {
     "data": {
      "text/html": [
       "<div>\n",
       "<style scoped>\n",
       "    .dataframe tbody tr th:only-of-type {\n",
       "        vertical-align: middle;\n",
       "    }\n",
       "\n",
       "    .dataframe tbody tr th {\n",
       "        vertical-align: top;\n",
       "    }\n",
       "\n",
       "    .dataframe thead th {\n",
       "        text-align: right;\n",
       "    }\n",
       "</style>\n",
       "<table border=\"1\" class=\"dataframe\">\n",
       "  <thead>\n",
       "    <tr style=\"text-align: right;\">\n",
       "      <th></th>\n",
       "      <th>Loan Amount</th>\n",
       "      <th>City</th>\n",
       "      <th>State</th>\n",
       "      <th>Zip</th>\n",
       "      <th>NAICS Code</th>\n",
       "      <th>Business Type</th>\n",
       "      <th>Race</th>\n",
       "      <th>Gender</th>\n",
       "      <th>Veteran</th>\n",
       "      <th>Jobs Saved</th>\n",
       "      <th>Date</th>\n",
       "      <th>Bank</th>\n",
       "      <th>NAICS Category</th>\n",
       "      <th>description</th>\n",
       "      <th>Title</th>\n",
       "      <th>Loan Percentile</th>\n",
       "      <th>Loan Quartile</th>\n",
       "      <th>DayNUM</th>\n",
       "      <th>Weekday</th>\n",
       "    </tr>\n",
       "  </thead>\n",
       "  <tbody>\n",
       "    <tr>\n",
       "      <th>234228</th>\n",
       "      <td>8400.0</td>\n",
       "      <td>BILLINGS</td>\n",
       "      <td>MT</td>\n",
       "      <td>59101</td>\n",
       "      <td>453991</td>\n",
       "      <td>LLC</td>\n",
       "      <td>White</td>\n",
       "      <td>Male</td>\n",
       "      <td>Non-Veteran</td>\n",
       "      <td>2</td>\n",
       "      <td>2020-04-13</td>\n",
       "      <td>The Yellowstone Bank</td>\n",
       "      <td>45</td>\n",
       "      <td>Retail Trade</td>\n",
       "      <td>Tobacco Stores</td>\n",
       "      <td>20%</td>\n",
       "      <td>25%</td>\n",
       "      <td>0</td>\n",
       "      <td>Mon</td>\n",
       "    </tr>\n",
       "  </tbody>\n",
       "</table>\n",
       "</div>"
      ],
      "text/plain": [
       "        Loan Amount      City State    Zip NAICS Code Business Type   Race Gender      Veteran  Jobs Saved       Date                  Bank NAICS Category   description            Title Loan Percentile Loan Quartile  DayNUM Weekday\n",
       "234228       8400.0  BILLINGS    MT  59101     453991           LLC  White   Male  Non-Veteran           2 2020-04-13  The Yellowstone Bank             45  Retail Trade  Tobacco Stores              20%           25%       0     Mon"
      ]
     },
     "execution_count": 55,
     "metadata": {
      "tags": []
     },
     "output_type": "execute_result"
    }
   ],
   "source": [
    "#shorten race values\n",
    "df['Race'] = df['Race'].replace({'Black or African American':'Black', 'American Indian or Alaska Native': 'Native American', 'Eskimo & Aleut':'Eskimo'})\n",
    "df.sample()"
   ]
  },
  {
   "cell_type": "code",
   "execution_count": 56,
   "metadata": {
    "colab": {},
    "colab_type": "code",
    "id": "DEci8fBQXZYX"
   },
   "outputs": [],
   "source": [
    "#send dataframe for all values to csv (additional columns and null values cleaned)\n",
    "df.to_csv('full_monty_peeps.csv', index=True)\n",
    "!cp full_monty_peeps.csv \"drive/My Drive/\""
   ]
  },
  {
   "cell_type": "code",
   "execution_count": 57,
   "metadata": {
    "colab": {
     "base_uri": "https://localhost:8080/",
     "height": 34
    },
    "colab_type": "code",
    "id": "FSMPB_zg6RoY",
    "outputId": "8fb9599a-fcbb-4f59-e7c9-db6e2de52651"
   },
   "outputs": [
    {
     "data": {
      "text/plain": [
       "array([ 13941.   ,  30000.   ,  63877.125, 149987.   ])"
      ]
     },
     "execution_count": 57,
     "metadata": {
      "tags": []
     },
     "output_type": "execute_result"
    }
   ],
   "source": [
    "#loan quartiles\n",
    "loan_qt = np.percentile(df['Loan Amount'], [25, 50, 75, 100])\n",
    "loan_qt\n"
   ]
  },
  {
   "cell_type": "code",
   "execution_count": 58,
   "metadata": {
    "colab": {
     "base_uri": "https://localhost:8080/",
     "height": 204
    },
    "colab_type": "code",
    "id": "IbXMGajcoMZo",
    "outputId": "e5d3e79d-4b75-42dc-c227-f11303e9461f"
   },
   "outputs": [
    {
     "data": {
      "text/html": [
       "<div>\n",
       "<style scoped>\n",
       "    .dataframe tbody tr th:only-of-type {\n",
       "        vertical-align: middle;\n",
       "    }\n",
       "\n",
       "    .dataframe tbody tr th {\n",
       "        vertical-align: top;\n",
       "    }\n",
       "\n",
       "    .dataframe thead th {\n",
       "        text-align: right;\n",
       "    }\n",
       "</style>\n",
       "<table border=\"1\" class=\"dataframe\">\n",
       "  <thead>\n",
       "    <tr style=\"text-align: right;\">\n",
       "      <th></th>\n",
       "      <th>Loan Amount</th>\n",
       "      <th>City</th>\n",
       "      <th>State</th>\n",
       "      <th>Zip</th>\n",
       "      <th>NAICS Code</th>\n",
       "      <th>Business Type</th>\n",
       "      <th>Race</th>\n",
       "      <th>Gender</th>\n",
       "      <th>Veteran</th>\n",
       "      <th>Jobs Saved</th>\n",
       "      <th>Date</th>\n",
       "      <th>Bank</th>\n",
       "      <th>NAICS Category</th>\n",
       "      <th>description</th>\n",
       "      <th>Title</th>\n",
       "      <th>Loan Percentile</th>\n",
       "      <th>Loan Quartile</th>\n",
       "      <th>DayNUM</th>\n",
       "      <th>Weekday</th>\n",
       "    </tr>\n",
       "  </thead>\n",
       "  <tbody>\n",
       "    <tr>\n",
       "      <th>0</th>\n",
       "      <td>149810.9</td>\n",
       "      <td>ADRIAN</td>\n",
       "      <td>MO</td>\n",
       "      <td>64720</td>\n",
       "      <td>23811</td>\n",
       "      <td>LLC</td>\n",
       "      <td>White</td>\n",
       "      <td>Female</td>\n",
       "      <td>Non-Veteran</td>\n",
       "      <td>13</td>\n",
       "      <td>2020-04-13</td>\n",
       "      <td>Adrian Bank</td>\n",
       "      <td>23</td>\n",
       "      <td>Construction</td>\n",
       "      <td>Poured Concrete Foundation and Structure Contr...</td>\n",
       "      <td>90%</td>\n",
       "      <td>75%</td>\n",
       "      <td>0</td>\n",
       "      <td>Mon</td>\n",
       "    </tr>\n",
       "  </tbody>\n",
       "</table>\n",
       "</div>"
      ],
      "text/plain": [
       "   Loan Amount    City State    Zip NAICS Code Business Type   Race  Gender      Veteran  Jobs Saved       Date         Bank NAICS Category   description                                              Title Loan Percentile Loan Quartile  DayNUM Weekday\n",
       "0     149810.9  ADRIAN    MO  64720      23811           LLC  White  Female  Non-Veteran          13 2020-04-13  Adrian Bank             23  Construction  Poured Concrete Foundation and Structure Contr...             90%           75%       0     Mon"
      ]
     },
     "execution_count": 58,
     "metadata": {
      "tags": []
     },
     "output_type": "execute_result"
    }
   ],
   "source": [
    "# top 10 percent of loans\n",
    "high_pct = df[(df[\"Loan Percentile\"] == '90%')]\n",
    "\n",
    "high_pct.head(1)\n"
   ]
  },
  {
   "cell_type": "code",
   "execution_count": 59,
   "metadata": {
    "colab": {},
    "colab_type": "code",
    "id": "VU6BvdkHQNe7"
   },
   "outputs": [],
   "source": [
    "#save to csv and will convert to a table in SQL / Tableau for further analysis \n",
    "\n",
    "high_pct.to_csv('top_percentile_banks.csv', index=True)\n",
    "!cp top_percentile_banks.csv \"drive/My Drive/\""
   ]
  },
  {
   "cell_type": "markdown",
   "metadata": {
    "colab_type": "text",
    "id": "uDDzW634mYMx"
   },
   "source": [
    "Some lines of inquiry to pursue pertaining to race and gender\n",
    "From the subset of people who self identified racially, Asians borrowed a disproporianatly larger amount as a percentage of population and Hispanics less. (Asians are less than 6% and Hispanics 16%). Puerto Ricans are not necessarily accounted for in the Hispanic statistics. It is hard to say whether or not this is a true representation of percentages of all loans because this dataset is small (less than 5% of the total) and only reflects the people who were willing to answer the race inquiry. Asians and Whites had roughly the same gender percentages, median and average loan amounts. Hispanics and Blacks seemed to incur lower levels of debt."
   ]
  },
  {
   "cell_type": "code",
   "execution_count": 60,
   "metadata": {
    "colab": {
     "base_uri": "https://localhost:8080/",
     "height": 138
    },
    "colab_type": "code",
    "id": "IX1Fizq0oMeK",
    "outputId": "98000d13-666e-4b72-a88f-9ff4f0212598"
   },
   "outputs": [
    {
     "data": {
      "text/plain": [
       "State  Race    \n",
       "AE     Asian         1\n",
       "AK     White       292\n",
       "       Hispanic     25\n",
       "       Asian        23\n",
       "       Black        12\n",
       "Name: Race, dtype: int64"
      ]
     },
     "execution_count": 60,
     "metadata": {
      "tags": []
     },
     "output_type": "execute_result"
    }
   ],
   "source": [
    "# race counts by state\n",
    "state_race_cts=df.groupby('State',)['Race'].value_counts()\n",
    "state_race_cts.head()"
   ]
  },
  {
   "cell_type": "code",
   "execution_count": 140,
   "metadata": {
    "colab": {
     "base_uri": "https://localhost:8080/",
     "height": 152
    },
    "colab_type": "code",
    "id": "1Rmbj--hoMkt",
    "outputId": "f37ceb7c-33cb-423e-dbdb-8099ed62eb66"
   },
   "outputs": [
    {
     "data": {
      "text/html": [
       "<div>\n",
       "<style scoped>\n",
       "    .dataframe tbody tr th:only-of-type {\n",
       "        vertical-align: middle;\n",
       "    }\n",
       "\n",
       "    .dataframe tbody tr th {\n",
       "        vertical-align: top;\n",
       "    }\n",
       "\n",
       "    .dataframe thead th {\n",
       "        text-align: right;\n",
       "    }\n",
       "</style>\n",
       "<table border=\"1\" class=\"dataframe\">\n",
       "  <thead>\n",
       "    <tr style=\"text-align: right;\">\n",
       "      <th></th>\n",
       "      <th>Loan Amount</th>\n",
       "      <th>City</th>\n",
       "      <th>State</th>\n",
       "      <th>Zip</th>\n",
       "      <th>NAICS Code</th>\n",
       "      <th>Business Type</th>\n",
       "      <th>Race</th>\n",
       "      <th>Gender</th>\n",
       "      <th>Veteran</th>\n",
       "      <th>Jobs Saved</th>\n",
       "      <th>Date</th>\n",
       "      <th>Bank</th>\n",
       "      <th>NAICS Category</th>\n",
       "      <th>description</th>\n",
       "      <th>Title</th>\n",
       "      <th>Loan Percentile</th>\n",
       "      <th>Loan Quartile</th>\n",
       "      <th>DayNUM</th>\n",
       "      <th>Weekday</th>\n",
       "    </tr>\n",
       "  </thead>\n",
       "  <tbody>\n",
       "    <tr>\n",
       "      <th>179971</th>\n",
       "      <td>54072.0</td>\n",
       "      <td>MORRISTOWN</td>\n",
       "      <td>TN</td>\n",
       "      <td>37813</td>\n",
       "      <td>532111</td>\n",
       "      <td>Corporation</td>\n",
       "      <td>White</td>\n",
       "      <td>Male</td>\n",
       "      <td>Non-Veteran</td>\n",
       "      <td>9</td>\n",
       "      <td>2020-04-08</td>\n",
       "      <td>Andrew Johnson Bank</td>\n",
       "      <td>53</td>\n",
       "      <td>Real Estate Rental and Leasing</td>\n",
       "      <td>Passenger Car Rental</td>\n",
       "      <td>70%</td>\n",
       "      <td>50%</td>\n",
       "      <td>2</td>\n",
       "      <td>Wed</td>\n",
       "    </tr>\n",
       "  </tbody>\n",
       "</table>\n",
       "</div>"
      ],
      "text/plain": [
       "        Loan Amount        City State    Zip NAICS Code Business Type   Race Gender      Veteran  Jobs Saved       Date                 Bank NAICS Category                     description                  Title Loan Percentile Loan Quartile  DayNUM Weekday\n",
       "179971      54072.0  MORRISTOWN    TN  37813     532111   Corporation  White   Male  Non-Veteran           9 2020-04-08  Andrew Johnson Bank             53  Real Estate Rental and Leasing  Passenger Car Rental              70%           50%       2     Wed"
      ]
     },
     "execution_count": 140,
     "metadata": {
      "tags": []
     },
     "output_type": "execute_result"
    }
   ],
   "source": [
    "df.sample()"
   ]
  },
  {
   "cell_type": "code",
   "execution_count": 62,
   "metadata": {
    "colab": {
     "base_uri": "https://localhost:8080/",
     "height": 190
    },
    "colab_type": "code",
    "id": "ZrJUfysuC606",
    "outputId": "262ebf05-e7d1-4e34-bed8-14056b734c1f"
   },
   "outputs": [
    {
     "data": {
      "text/plain": [
       "Race\n",
       "Asian              42481.101465\n",
       "Black              33785.591485\n",
       "Eskimo              6166.666667\n",
       "Hispanic           39374.129248\n",
       "Multi Group        18202.250000\n",
       "Native American    41913.462438\n",
       "Puerto Rican       16440.836053\n",
       "White              43862.277434\n",
       "Name: Loan Amount, dtype: float64"
      ]
     },
     "execution_count": 62,
     "metadata": {
      "tags": []
     },
     "output_type": "execute_result"
    }
   ],
   "source": [
    "#average loan amount by race\n",
    "race_avg=df.groupby('Race')['Loan Amount'].mean()\n",
    "race_avg"
   ]
  },
  {
   "cell_type": "code",
   "execution_count": 143,
   "metadata": {
    "colab": {
     "base_uri": "https://localhost:8080/",
     "height": 373
    },
    "colab_type": "code",
    "id": "oLipKdT3TNOH",
    "outputId": "bdeffe7e-d4de-403c-9801-f01eb405878a"
   },
   "outputs": [
    {
     "data": {
      "image/png": "[encoded data removed]",
      "text/plain": [
       "<Figure size 720x432 with 1 Axes>"
      ]
     },
     "metadata": {
      "tags": []
     },
     "output_type": "display_data"
    }
   ],
   "source": [
    "# Define plot space\n",
    "fig, ax = plt.subplots(figsize=(10, 6))\n",
    "ax.set(title = \"Average Loan Amount by Race\",\n",
    "       xlabel = \"\", \n",
    "       ylabel = \"\",\n",
    "\n",
    "       )\n",
    "labels=race_avg.index\n",
    "explode = (0.0, 0.0, 0.0, 0.075, 0, 0,  0.075, 0)\n",
    "# Define x and y axes\n",
    "ax.pie(race_avg, explode=explode, labels=labels)\n",
    "plt.savefig('avg_loan_race.png', bbox_inches=\"tight\")"
   ]
  },
  {
   "cell_type": "code",
   "execution_count": 144,
   "metadata": {
    "colab": {
     "base_uri": "https://localhost:8080/",
     "height": 210
    },
    "colab_type": "code",
    "id": "yb_LmDt_YUZd",
    "outputId": "74685366-f33b-4d0a-eb3c-f83393157536"
   },
   "outputs": [
    {
     "name": "stdout",
     "output_type": "stream",
     "text": [
      "                 Loan Amount    City   State     Zip  NAICS Code  Business Type  Gender  Veteran  Jobs Saved    Date    Bank  NAICS Category  description   Title  Loan Percentile  Loan Quartile  DayNUM  Weekday\n",
      "Race                                                                                                                                                                                                              \n",
      "Asian                  30802   30802   30802   30802       30802          30802   30802    30802       30802   30802   30802           30802        30802   30802            30802          30802   30802    30802\n",
      "Black                   7373    7373    7373    7373        7373           7373    7373     7373        7373    7373    7373            7373         7373    7373             7373           7373    7373     7373\n",
      "Eskimo                     3       3       3       3           3              3       3        3           3       3       3               3            3       3                3              3       3        3\n",
      "Hispanic               19594   19594   19594   19594       19594          19594   19594    19594       19594   19594   19594           19594        19594   19594            19594          19594   19594    19594\n",
      "Multi Group                4       4       4       4           4              4       4        4           4       4       4               4            4       4                4              4       4        4\n",
      "Native American         1296    1296    1296    1296        1296           1296    1296     1296        1296    1296    1296            1296         1296    1296             1296           1296    1296     1296\n",
      "Puerto Rican              76      76      76      76          76             76      76       76          76      76      76              76           76      76               76             76      76       76\n",
      "White                 184816  184816  184816  184816      184816         184816  184816   184816      184816  184816  184816          184816       184816  184816           184816         184816  184816   184816\n"
     ]
    }
   ],
   "source": [
    "# df.groupby('Race', 'Loan Amount').quantile()\n",
    "race_count=df.groupby('Race').count()\n",
    "print(race_count)"
   ]
  },
  {
   "cell_type": "code",
   "execution_count": 158,
   "metadata": {
    "colab": {},
    "colab_type": "code",
    "id": "NRvaZlG-YxSo"
   },
   "outputs": [],
   "source": []
  },
  {
   "cell_type": "markdown",
   "metadata": {
    "colab_type": "text",
    "id": "DzW73bIBDlxe"
   },
   "source": [
    "Difference between veteran and non veteran lending by race. Significant difference for hispanic and blacks, veterans getting higher loan amounts. Puerto Ricans are the outlier here Non-Veteran loans being higher than those who did military service. "
   ]
  },
  {
   "cell_type": "code",
   "execution_count": 66,
   "metadata": {
    "colab": {
     "base_uri": "https://localhost:8080/",
     "height": 294
    },
    "colab_type": "code",
    "id": "0nwjC5X4FiYt",
    "outputId": "61b212dd-0c4a-4794-b293-16fd8640e1e8"
   },
   "outputs": [
    {
     "data": {
      "text/plain": [
       "Race             Veteran    \n",
       "Asian            Non-Veteran    31000.000\n",
       "                 Veteran        32000.000\n",
       "Black            Non-Veteran    20832.000\n",
       "                 Veteran        23600.000\n",
       "Eskimo           Non-Veteran     5300.000\n",
       "Hispanic         Non-Veteran    25000.000\n",
       "                 Veteran        30550.000\n",
       "Multi Group      Non-Veteran    18966.500\n",
       "Native American  Non-Veteran    28482.500\n",
       "                 Veteran        31503.735\n",
       "Puerto Rican     Non-Veteran    11400.000\n",
       "                 Veteran         8200.000\n",
       "White            Non-Veteran    30600.000\n",
       "                 Veteran        34200.000\n",
       "Name: Loan Amount, dtype: float64"
      ]
     },
     "execution_count": 66,
     "metadata": {
      "tags": []
     },
     "output_type": "execute_result"
    }
   ],
   "source": [
    "#veterans loan quantile by race\n",
    "vt_gen_qt=df.groupby(['Race', 'Veteran'])['Loan Amount'].quantile()\n",
    "vt_gen_qt"
   ]
  },
  {
   "cell_type": "code",
   "execution_count": 149,
   "metadata": {
    "colab": {
     "base_uri": "https://localhost:8080/",
     "height": 34
    },
    "colab_type": "code",
    "id": "rqhq29CsEAgX",
    "outputId": "b6cc47e0-b3d7-40a7-cb02-d74cc5f0354e"
   },
   "outputs": [
    {
     "data": {
      "text/plain": [
       "139.02439024390242"
      ]
     },
     "execution_count": 149,
     "metadata": {
      "tags": []
     },
     "output_type": "execute_result"
    }
   ],
   "source": [
    "#puerto rican veteran vs non 139 percent\n",
    "pr = 11400.000/8200 * 100\n",
    "pr"
   ]
  },
  {
   "cell_type": "code",
   "execution_count": 150,
   "metadata": {
    "colab": {},
    "colab_type": "code",
    "id": "FbcdrVtPEf85"
   },
   "outputs": [],
   "source": []
  },
  {
   "cell_type": "code",
   "execution_count": 151,
   "metadata": {
    "colab": {
     "base_uri": "https://localhost:8080/",
     "height": 242
    },
    "colab_type": "code",
    "id": "Ci5TZRXk1pKi",
    "outputId": "dc211186-304d-48a6-98f3-9686cb4b8502"
   },
   "outputs": [
    {
     "data": {
      "text/plain": [
       "Race   Veteran      description                                   \n",
       "Asian  Non-Veteran  Accommodation and Food Services                   10978\n",
       "                    Retail Trade                                       7621\n",
       "                    Health Care and Social Assistance                  2980\n",
       "                    Wholesale Trade                                    1964\n",
       "                    Professional Scientific and Technical Services     1610\n",
       "                                                                      ...  \n",
       "White  Veteran      Educational Services                                129\n",
       "                    Information                                         107\n",
       "                    Mining                                               47\n",
       "                    Management of Companies and Enterprises              20\n",
       "                    Utilities                                            18\n",
       "Name: description, Length: 218, dtype: int64"
      ]
     },
     "execution_count": 151,
     "metadata": {
      "tags": []
     },
     "output_type": "execute_result"
    }
   ],
   "source": [
    "#business categories by race and military status\n",
    "vt_cat=df.groupby(['Race', 'Veteran'])['description'].value_counts()\n",
    "vt_cat"
   ]
  },
  {
   "cell_type": "code",
   "execution_count": 68,
   "metadata": {
    "colab": {
     "base_uri": "https://localhost:8080/",
     "height": 186
    },
    "colab_type": "code",
    "id": "H-vi2esF1zs6",
    "outputId": "d78c6864-b784-4b5c-d7c2-e5a9ffefb821"
   },
   "outputs": [
    {
     "data": {
      "text/html": [
       "<div>\n",
       "<style scoped>\n",
       "    .dataframe tbody tr th:only-of-type {\n",
       "        vertical-align: middle;\n",
       "    }\n",
       "\n",
       "    .dataframe tbody tr th {\n",
       "        vertical-align: top;\n",
       "    }\n",
       "\n",
       "    .dataframe thead th {\n",
       "        text-align: right;\n",
       "    }\n",
       "</style>\n",
       "<table border=\"1\" class=\"dataframe\">\n",
       "  <thead>\n",
       "    <tr style=\"text-align: right;\">\n",
       "      <th></th>\n",
       "      <th>Loan Amount</th>\n",
       "      <th>City</th>\n",
       "      <th>State</th>\n",
       "      <th>Zip</th>\n",
       "      <th>NAICS Code</th>\n",
       "      <th>Business Type</th>\n",
       "      <th>Race</th>\n",
       "      <th>Gender</th>\n",
       "      <th>Veteran</th>\n",
       "      <th>Jobs Saved</th>\n",
       "      <th>Date</th>\n",
       "      <th>Bank</th>\n",
       "      <th>NAICS Category</th>\n",
       "      <th>description</th>\n",
       "      <th>Title</th>\n",
       "      <th>Loan Percentile</th>\n",
       "      <th>Loan Quartile</th>\n",
       "      <th>DayNUM</th>\n",
       "      <th>Weekday</th>\n",
       "    </tr>\n",
       "  </thead>\n",
       "  <tbody>\n",
       "    <tr>\n",
       "      <th>87375</th>\n",
       "      <td>8751.45</td>\n",
       "      <td>SCOTTSDALE</td>\n",
       "      <td>AZ</td>\n",
       "      <td>85258</td>\n",
       "      <td>62134</td>\n",
       "      <td>LLC</td>\n",
       "      <td>White</td>\n",
       "      <td>Female</td>\n",
       "      <td>Non-Veteran</td>\n",
       "      <td>1</td>\n",
       "      <td>2020-04-27</td>\n",
       "      <td>FineMark National Bank &amp; Trust</td>\n",
       "      <td>62</td>\n",
       "      <td>Health Care and Social Assistance</td>\n",
       "      <td>Offices of Physical, Occupational and Speech T...</td>\n",
       "      <td>20%</td>\n",
       "      <td>25%</td>\n",
       "      <td>0</td>\n",
       "      <td>Mon</td>\n",
       "    </tr>\n",
       "  </tbody>\n",
       "</table>\n",
       "</div>"
      ],
      "text/plain": [
       "       Loan Amount        City State    Zip NAICS Code Business Type   Race  Gender      Veteran  Jobs Saved       Date                            Bank NAICS Category                        description                                              Title Loan Percentile Loan Quartile  DayNUM Weekday\n",
       "87375      8751.45  SCOTTSDALE    AZ  85258      62134           LLC  White  Female  Non-Veteran           1 2020-04-27  FineMark National Bank & Trust             62  Health Care and Social Assistance  Offices of Physical, Occupational and Speech T...             20%           25%       0     Mon"
      ]
     },
     "execution_count": 68,
     "metadata": {
      "tags": []
     },
     "output_type": "execute_result"
    }
   ],
   "source": [
    "df.sample()"
   ]
  },
  {
   "cell_type": "code",
   "execution_count": 69,
   "metadata": {
    "colab": {
     "base_uri": "https://localhost:8080/",
     "height": 329
    },
    "colab_type": "code",
    "id": "0DLQMAvQFFXg",
    "outputId": "6cf7a589-a2d6-489e-8dd8-7d0bcd6779c5"
   },
   "outputs": [
    {
     "data": {
      "text/plain": [
       "Race             Gender\n",
       "Asian            Female     53218\n",
       "                 Male      172992\n",
       "Black            Female     15755\n",
       "                 Male       24329\n",
       "Eskimo           Female         0\n",
       "                 Male           2\n",
       "Hispanic         Female     37573\n",
       "                 Male       79656\n",
       "Multi Group      Female         5\n",
       "                 Male          14\n",
       "Native American  Female      2772\n",
       "                 Male        5606\n",
       "Puerto Rican     Female        36\n",
       "                 Male         191\n",
       "White            Female    280288\n",
       "                 Male      832627\n",
       "Name: Jobs Saved, dtype: int64"
      ]
     },
     "execution_count": 69,
     "metadata": {
      "tags": []
     },
     "output_type": "execute_result"
    }
   ],
   "source": [
    "#jobs saved by jobs and gender\n",
    "rc_jbs=df.groupby(['Race', 'Gender'])['Jobs Saved'].sum()\n",
    "rc_jbs"
   ]
  },
  {
   "cell_type": "code",
   "execution_count": 70,
   "metadata": {
    "colab": {
     "base_uri": "https://localhost:8080/",
     "height": 329
    },
    "colab_type": "code",
    "id": "XjwXSmbi0byn",
    "outputId": "7aa9a21b-dd4f-41c9-a0f8-d89f113be795"
   },
   "outputs": [
    {
     "data": {
      "text/plain": [
       "Race             Gender\n",
       "Asian            Female    29141.700\n",
       "                 Male      31800.000\n",
       "Black            Female    20023.750\n",
       "                 Male      20833.000\n",
       "Eskimo           Female     8300.000\n",
       "                 Male       5100.000\n",
       "Hispanic         Female    20800.000\n",
       "                 Male      29174.475\n",
       "Multi Group      Female    10376.000\n",
       "                 Male      20833.000\n",
       "Native American  Female    25913.750\n",
       "                 Male      30671.000\n",
       "Puerto Rican     Female     9899.000\n",
       "                 Male      11499.000\n",
       "White            Female    25700.000\n",
       "                 Male      32500.000\n",
       "Name: Loan Amount, dtype: float64"
      ]
     },
     "execution_count": 70,
     "metadata": {
      "tags": []
     },
     "output_type": "execute_result"
    }
   ],
   "source": [
    "#median loan amounts by race and gender\n",
    "race_median=df.groupby(['Race', 'Gender'])['Loan Amount'].median()\n",
    "race_median"
   ]
  },
  {
   "cell_type": "code",
   "execution_count": 71,
   "metadata": {
    "colab": {
     "base_uri": "https://localhost:8080/",
     "height": 329
    },
    "colab_type": "code",
    "id": "V4ye18z20b68",
    "outputId": "47720e13-8ead-423e-8334-bd037b615564"
   },
   "outputs": [
    {
     "data": {
      "text/plain": [
       "Race             Gender\n",
       "Asian            Female    40539.532365\n",
       "                 Male      43146.743605\n",
       "Black            Female    31415.972187\n",
       "                 Male      35270.197443\n",
       "Eskimo           Female     8300.000000\n",
       "                 Male       5100.000000\n",
       "Hispanic         Female    33608.471865\n",
       "                 Male      42781.278845\n",
       "Multi Group      Female    10376.000000\n",
       "                 Male      20811.000000\n",
       "Native American  Female    38452.010607\n",
       "                 Male      43526.718269\n",
       "Puerto Rican     Female    14499.000000\n",
       "                 Male      16879.315161\n",
       "White            Female    39517.691786\n",
       "                 Male      45306.171339\n",
       "Name: Loan Amount, dtype: float64"
      ]
     },
     "execution_count": 71,
     "metadata": {
      "tags": []
     },
     "output_type": "execute_result"
    }
   ],
   "source": [
    "# average loan amounts by race and gender\n",
    "race_mean=df.groupby(['Race', 'Gender'])['Loan Amount'].mean()\n",
    "race_mean"
   ]
  },
  {
   "cell_type": "code",
   "execution_count": 72,
   "metadata": {
    "colab": {
     "base_uri": "https://localhost:8080/",
     "height": 34
    },
    "colab_type": "code",
    "id": "2_7K_TrA0b-3",
    "outputId": "bcbf07cb-aad2-4bec-a430-c84afd3a6f58"
   },
   "outputs": [
    {
     "data": {
      "text/plain": [
       "(243964, 19)"
      ]
     },
     "execution_count": 72,
     "metadata": {
      "tags": []
     },
     "output_type": "execute_result"
    }
   ],
   "source": [
    "# shape\n",
    "df.shape"
   ]
  },
  {
   "cell_type": "code",
   "execution_count": 73,
   "metadata": {
    "colab": {},
    "colab_type": "code",
    "id": "etgEwN1x0cCW"
   },
   "outputs": [],
   "source": [
    "#race gender quantiles\n",
    "rc_gen_qt=df.groupby(['Race', 'Gender'])['Loan Amount'].quantile()\n"
   ]
  },
  {
   "cell_type": "code",
   "execution_count": 74,
   "metadata": {
    "colab": {
     "base_uri": "https://localhost:8080/",
     "height": 329
    },
    "colab_type": "code",
    "id": "6HLX51rS0cFq",
    "outputId": "f42d28e0-fbcf-421a-dc23-095649edc3ab"
   },
   "outputs": [
    {
     "data": {
      "text/plain": [
       "Race             Gender\n",
       "Asian            Female      7864\n",
       "                 Male       22938\n",
       "Black            Female      2840\n",
       "                 Male        4533\n",
       "Eskimo           Female         1\n",
       "                 Male           2\n",
       "Hispanic         Female      7278\n",
       "                 Male       12316\n",
       "Multi Group      Female         1\n",
       "                 Male           3\n",
       "Native American  Female       412\n",
       "                 Male         884\n",
       "Puerto Rican     Female        14\n",
       "                 Male          62\n",
       "White            Female     46101\n",
       "                 Male      138715\n",
       "Name: Loan Amount, dtype: int64"
      ]
     },
     "execution_count": 74,
     "metadata": {
      "tags": []
     },
     "output_type": "execute_result"
    }
   ],
   "source": [
    "#counts by race gender\n",
    "counts_by_race=df.groupby(['Race', 'Gender'])['Loan Amount'].count()\n",
    "counts_by_race"
   ]
  },
  {
   "cell_type": "code",
   "execution_count": 75,
   "metadata": {
    "colab": {
     "base_uri": "https://localhost:8080/",
     "height": 233
    },
    "colab_type": "code",
    "id": "nUrgA2yG0cKI",
    "outputId": "a46f7ee3-0027-471b-d118-d85e880d99ac"
   },
   "outputs": [
    {
     "data": {
      "text/html": [
       "<div>\n",
       "<style scoped>\n",
       "    .dataframe tbody tr th:only-of-type {\n",
       "        vertical-align: middle;\n",
       "    }\n",
       "\n",
       "    .dataframe tbody tr th {\n",
       "        vertical-align: top;\n",
       "    }\n",
       "\n",
       "    .dataframe thead th {\n",
       "        text-align: right;\n",
       "    }\n",
       "</style>\n",
       "<table border=\"1\" class=\"dataframe\">\n",
       "  <thead>\n",
       "    <tr style=\"text-align: right;\">\n",
       "      <th></th>\n",
       "      <th></th>\n",
       "      <th>Count</th>\n",
       "      <th>Quantile</th>\n",
       "      <th>Mean</th>\n",
       "      <th>Median</th>\n",
       "      <th>Jobs</th>\n",
       "    </tr>\n",
       "    <tr>\n",
       "      <th>Race</th>\n",
       "      <th>Gender</th>\n",
       "      <th></th>\n",
       "      <th></th>\n",
       "      <th></th>\n",
       "      <th></th>\n",
       "      <th></th>\n",
       "    </tr>\n",
       "  </thead>\n",
       "  <tbody>\n",
       "    <tr>\n",
       "      <th rowspan=\"2\" valign=\"top\">Asian</th>\n",
       "      <th>Female</th>\n",
       "      <td>7864</td>\n",
       "      <td>29141.70</td>\n",
       "      <td>40539.532365</td>\n",
       "      <td>29141.70</td>\n",
       "      <td>53218</td>\n",
       "    </tr>\n",
       "    <tr>\n",
       "      <th>Male</th>\n",
       "      <td>22938</td>\n",
       "      <td>31800.00</td>\n",
       "      <td>43146.743605</td>\n",
       "      <td>31800.00</td>\n",
       "      <td>172992</td>\n",
       "    </tr>\n",
       "    <tr>\n",
       "      <th rowspan=\"2\" valign=\"top\">Black</th>\n",
       "      <th>Female</th>\n",
       "      <td>2840</td>\n",
       "      <td>20023.75</td>\n",
       "      <td>31415.972187</td>\n",
       "      <td>20023.75</td>\n",
       "      <td>15755</td>\n",
       "    </tr>\n",
       "    <tr>\n",
       "      <th>Male</th>\n",
       "      <td>4533</td>\n",
       "      <td>20833.00</td>\n",
       "      <td>35270.197443</td>\n",
       "      <td>20833.00</td>\n",
       "      <td>24329</td>\n",
       "    </tr>\n",
       "    <tr>\n",
       "      <th>Eskimo</th>\n",
       "      <th>Female</th>\n",
       "      <td>1</td>\n",
       "      <td>8300.00</td>\n",
       "      <td>8300.000000</td>\n",
       "      <td>8300.00</td>\n",
       "      <td>0</td>\n",
       "    </tr>\n",
       "  </tbody>\n",
       "</table>\n",
       "</div>"
      ],
      "text/plain": [
       "               Count  Quantile          Mean    Median    Jobs\n",
       "Race   Gender                                                 \n",
       "Asian  Female   7864  29141.70  40539.532365  29141.70   53218\n",
       "       Male    22938  31800.00  43146.743605  31800.00  172992\n",
       "Black  Female   2840  20023.75  31415.972187  20023.75   15755\n",
       "       Male     4533  20833.00  35270.197443  20833.00   24329\n",
       "Eskimo Female      1   8300.00   8300.000000   8300.00       0"
      ]
     },
     "execution_count": 75,
     "metadata": {
      "tags": []
     },
     "output_type": "execute_result"
    }
   ],
   "source": [
    "#race summary table\n",
    "\n",
    "race_summary= pd.DataFrame({\n",
    "    'Count' : counts_by_race,\n",
    "    'Quantile' : rc_gen_qt,\n",
    "    'Mean' : race_mean,\n",
    "    'Median' : race_median,\n",
    "    'Jobs' : rc_jbs\n",
    "\n",
    "\n",
    "})\n",
    "race_summary.head()"
   ]
  },
  {
   "cell_type": "code",
   "execution_count": 76,
   "metadata": {
    "colab": {
     "base_uri": "https://localhost:8080/",
     "height": 570
    },
    "colab_type": "code",
    "id": "ttJhQNIyBQfd",
    "outputId": "12e9272e-59a8-48f1-9089-9ca66ce99f86"
   },
   "outputs": [
    {
     "data": {
      "text/html": [
       "<div>\n",
       "<style scoped>\n",
       "    .dataframe tbody tr th:only-of-type {\n",
       "        vertical-align: middle;\n",
       "    }\n",
       "\n",
       "    .dataframe tbody tr th {\n",
       "        vertical-align: top;\n",
       "    }\n",
       "\n",
       "    .dataframe thead th {\n",
       "        text-align: right;\n",
       "    }\n",
       "</style>\n",
       "<table border=\"1\" class=\"dataframe\">\n",
       "  <thead>\n",
       "    <tr style=\"text-align: right;\">\n",
       "      <th></th>\n",
       "      <th></th>\n",
       "      <th>Count</th>\n",
       "      <th>Quantile</th>\n",
       "      <th>Mean</th>\n",
       "      <th>Median</th>\n",
       "      <th>Jobs</th>\n",
       "    </tr>\n",
       "    <tr>\n",
       "      <th>Race</th>\n",
       "      <th>Gender</th>\n",
       "      <th></th>\n",
       "      <th></th>\n",
       "      <th></th>\n",
       "      <th></th>\n",
       "      <th></th>\n",
       "    </tr>\n",
       "  </thead>\n",
       "  <tbody>\n",
       "    <tr>\n",
       "      <th rowspan=\"2\" valign=\"top\">Asian</th>\n",
       "      <th>Female</th>\n",
       "      <td>7,864</td>\n",
       "      <td>$29,141.70</td>\n",
       "      <td>$40,539.53</td>\n",
       "      <td>$29,141.70</td>\n",
       "      <td>53,218</td>\n",
       "    </tr>\n",
       "    <tr>\n",
       "      <th>Male</th>\n",
       "      <td>22,938</td>\n",
       "      <td>$31,800.00</td>\n",
       "      <td>$43,146.74</td>\n",
       "      <td>$31,800.00</td>\n",
       "      <td>172,992</td>\n",
       "    </tr>\n",
       "    <tr>\n",
       "      <th rowspan=\"2\" valign=\"top\">Black</th>\n",
       "      <th>Female</th>\n",
       "      <td>2,840</td>\n",
       "      <td>$20,023.75</td>\n",
       "      <td>$31,415.97</td>\n",
       "      <td>$20,023.75</td>\n",
       "      <td>15,755</td>\n",
       "    </tr>\n",
       "    <tr>\n",
       "      <th>Male</th>\n",
       "      <td>4,533</td>\n",
       "      <td>$20,833.00</td>\n",
       "      <td>$35,270.20</td>\n",
       "      <td>$20,833.00</td>\n",
       "      <td>24,329</td>\n",
       "    </tr>\n",
       "    <tr>\n",
       "      <th rowspan=\"2\" valign=\"top\">Eskimo</th>\n",
       "      <th>Female</th>\n",
       "      <td>1</td>\n",
       "      <td>$8,300.00</td>\n",
       "      <td>$8,300.00</td>\n",
       "      <td>$8,300.00</td>\n",
       "      <td>0</td>\n",
       "    </tr>\n",
       "    <tr>\n",
       "      <th>Male</th>\n",
       "      <td>2</td>\n",
       "      <td>$5,100.00</td>\n",
       "      <td>$5,100.00</td>\n",
       "      <td>$5,100.00</td>\n",
       "      <td>2</td>\n",
       "    </tr>\n",
       "    <tr>\n",
       "      <th rowspan=\"2\" valign=\"top\">Hispanic</th>\n",
       "      <th>Female</th>\n",
       "      <td>7,278</td>\n",
       "      <td>$20,800.00</td>\n",
       "      <td>$33,608.47</td>\n",
       "      <td>$20,800.00</td>\n",
       "      <td>37,573</td>\n",
       "    </tr>\n",
       "    <tr>\n",
       "      <th>Male</th>\n",
       "      <td>12,316</td>\n",
       "      <td>$29,174.47</td>\n",
       "      <td>$42,781.28</td>\n",
       "      <td>$29,174.47</td>\n",
       "      <td>79,656</td>\n",
       "    </tr>\n",
       "    <tr>\n",
       "      <th rowspan=\"2\" valign=\"top\">Multi Group</th>\n",
       "      <th>Female</th>\n",
       "      <td>1</td>\n",
       "      <td>$10,376.00</td>\n",
       "      <td>$10,376.00</td>\n",
       "      <td>$10,376.00</td>\n",
       "      <td>5</td>\n",
       "    </tr>\n",
       "    <tr>\n",
       "      <th>Male</th>\n",
       "      <td>3</td>\n",
       "      <td>$20,833.00</td>\n",
       "      <td>$20,811.00</td>\n",
       "      <td>$20,833.00</td>\n",
       "      <td>14</td>\n",
       "    </tr>\n",
       "    <tr>\n",
       "      <th rowspan=\"2\" valign=\"top\">Native American</th>\n",
       "      <th>Female</th>\n",
       "      <td>412</td>\n",
       "      <td>$25,913.75</td>\n",
       "      <td>$38,452.01</td>\n",
       "      <td>$25,913.75</td>\n",
       "      <td>2,772</td>\n",
       "    </tr>\n",
       "    <tr>\n",
       "      <th>Male</th>\n",
       "      <td>884</td>\n",
       "      <td>$30,671.00</td>\n",
       "      <td>$43,526.72</td>\n",
       "      <td>$30,671.00</td>\n",
       "      <td>5,606</td>\n",
       "    </tr>\n",
       "    <tr>\n",
       "      <th rowspan=\"2\" valign=\"top\">Puerto Rican</th>\n",
       "      <th>Female</th>\n",
       "      <td>14</td>\n",
       "      <td>$9,899.00</td>\n",
       "      <td>$14,499.00</td>\n",
       "      <td>$9,899.00</td>\n",
       "      <td>36</td>\n",
       "    </tr>\n",
       "    <tr>\n",
       "      <th>Male</th>\n",
       "      <td>62</td>\n",
       "      <td>$11,499.00</td>\n",
       "      <td>$16,879.32</td>\n",
       "      <td>$11,499.00</td>\n",
       "      <td>191</td>\n",
       "    </tr>\n",
       "    <tr>\n",
       "      <th rowspan=\"2\" valign=\"top\">White</th>\n",
       "      <th>Female</th>\n",
       "      <td>46,101</td>\n",
       "      <td>$25,700.00</td>\n",
       "      <td>$39,517.69</td>\n",
       "      <td>$25,700.00</td>\n",
       "      <td>280,288</td>\n",
       "    </tr>\n",
       "    <tr>\n",
       "      <th>Male</th>\n",
       "      <td>138,715</td>\n",
       "      <td>$32,500.00</td>\n",
       "      <td>$45,306.17</td>\n",
       "      <td>$32,500.00</td>\n",
       "      <td>832,627</td>\n",
       "    </tr>\n",
       "  </tbody>\n",
       "</table>\n",
       "</div>"
      ],
      "text/plain": [
       "                          Count    Quantile        Mean      Median     Jobs\n",
       "Race            Gender                                                      \n",
       "Asian           Female    7,864  $29,141.70  $40,539.53  $29,141.70   53,218\n",
       "                Male     22,938  $31,800.00  $43,146.74  $31,800.00  172,992\n",
       "Black           Female    2,840  $20,023.75  $31,415.97  $20,023.75   15,755\n",
       "                Male      4,533  $20,833.00  $35,270.20  $20,833.00   24,329\n",
       "Eskimo          Female        1   $8,300.00   $8,300.00   $8,300.00        0\n",
       "                Male          2   $5,100.00   $5,100.00   $5,100.00        2\n",
       "Hispanic        Female    7,278  $20,800.00  $33,608.47  $20,800.00   37,573\n",
       "                Male     12,316  $29,174.47  $42,781.28  $29,174.47   79,656\n",
       "Multi Group     Female        1  $10,376.00  $10,376.00  $10,376.00        5\n",
       "                Male          3  $20,833.00  $20,811.00  $20,833.00       14\n",
       "Native American Female      412  $25,913.75  $38,452.01  $25,913.75    2,772\n",
       "                Male        884  $30,671.00  $43,526.72  $30,671.00    5,606\n",
       "Puerto Rican    Female       14   $9,899.00  $14,499.00   $9,899.00       36\n",
       "                Male         62  $11,499.00  $16,879.32  $11,499.00      191\n",
       "White           Female   46,101  $25,700.00  $39,517.69  $25,700.00  280,288\n",
       "                Male    138,715  $32,500.00  $45,306.17  $32,500.00  832,627"
      ]
     },
     "execution_count": 76,
     "metadata": {
      "tags": []
     },
     "output_type": "execute_result"
    }
   ],
   "source": [
    "#formatting\n",
    "race_summary['Count'] = race_summary.loc[:,'Count'].map(\"{:,}\".format)\n",
    "race_summary['Jobs'] = race_summary.loc[:,'Jobs'].map(\"{:,}\".format)\n",
    "race_summary['Quantile'] = race_summary.loc[:,'Quantile'].map(\"${:,.2f}\".format)\n",
    "race_summary['Mean'] = race_summary.loc[:,'Mean'].map(\"${:,.2f}\".format)\n",
    "race_summary['Median'] = race_summary.loc[:,'Median'].map(\"${:,.2f}\".format)\n",
    "race_summary"
   ]
  },
  {
   "cell_type": "code",
   "execution_count": 77,
   "metadata": {
    "colab": {},
    "colab_type": "code",
    "id": "u6fYCIz8P0PB"
   },
   "outputs": [],
   "source": [
    "#save to csv and will convert to a table in SQL / Tableau for further analysis \n",
    "\n",
    "race_summary.to_csv('race_summary.csv', index=True)\n",
    "!cp race_summary.csv \"drive/My Drive/\""
   ]
  },
  {
   "cell_type": "code",
   "execution_count": 78,
   "metadata": {
    "colab": {
     "base_uri": "https://localhost:8080/",
     "height": 169
    },
    "colab_type": "code",
    "id": "6yZonhhf7RT2",
    "outputId": "c34043cd-f382-4b95-a74f-24cfb3ede141"
   },
   "outputs": [
    {
     "data": {
      "text/html": [
       "<div>\n",
       "<style scoped>\n",
       "    .dataframe tbody tr th:only-of-type {\n",
       "        vertical-align: middle;\n",
       "    }\n",
       "\n",
       "    .dataframe tbody tr th {\n",
       "        vertical-align: top;\n",
       "    }\n",
       "\n",
       "    .dataframe thead th {\n",
       "        text-align: right;\n",
       "    }\n",
       "</style>\n",
       "<table border=\"1\" class=\"dataframe\">\n",
       "  <thead>\n",
       "    <tr style=\"text-align: right;\">\n",
       "      <th></th>\n",
       "      <th>Loan Amount</th>\n",
       "      <th>City</th>\n",
       "      <th>State</th>\n",
       "      <th>Zip</th>\n",
       "      <th>NAICS Code</th>\n",
       "      <th>Business Type</th>\n",
       "      <th>Race</th>\n",
       "      <th>Gender</th>\n",
       "      <th>Veteran</th>\n",
       "      <th>Jobs Saved</th>\n",
       "      <th>Date</th>\n",
       "      <th>Bank</th>\n",
       "      <th>NAICS Category</th>\n",
       "      <th>description</th>\n",
       "      <th>Title</th>\n",
       "      <th>Loan Percentile</th>\n",
       "      <th>Loan Quartile</th>\n",
       "      <th>DayNUM</th>\n",
       "      <th>Weekday</th>\n",
       "    </tr>\n",
       "  </thead>\n",
       "  <tbody>\n",
       "    <tr>\n",
       "      <th>128335</th>\n",
       "      <td>12000.0</td>\n",
       "      <td>MINNEAPOLIS</td>\n",
       "      <td>MN</td>\n",
       "      <td>55401</td>\n",
       "      <td>54132</td>\n",
       "      <td>Corporation</td>\n",
       "      <td>Hispanic</td>\n",
       "      <td>Male</td>\n",
       "      <td>Non-Veteran</td>\n",
       "      <td>1</td>\n",
       "      <td>2020-05-01</td>\n",
       "      <td>Sunrise Banks</td>\n",
       "      <td>54</td>\n",
       "      <td>Professional Scientific and Technical Services</td>\n",
       "      <td>Landscape Architectural ServicesT</td>\n",
       "      <td>30%</td>\n",
       "      <td>25%</td>\n",
       "      <td>4</td>\n",
       "      <td>Fri</td>\n",
       "    </tr>\n",
       "  </tbody>\n",
       "</table>\n",
       "</div>"
      ],
      "text/plain": [
       "        Loan Amount         City State    Zip NAICS Code Business Type      Race Gender      Veteran  Jobs Saved       Date           Bank NAICS Category                                     description                               Title Loan Percentile Loan Quartile  DayNUM Weekday\n",
       "128335      12000.0  MINNEAPOLIS    MN  55401      54132   Corporation  Hispanic   Male  Non-Veteran           1 2020-05-01  Sunrise Banks             54  Professional Scientific and Technical Services  Landscape Architectural ServicesT              30%           25%       4     Fri"
      ]
     },
     "execution_count": 78,
     "metadata": {
      "tags": []
     },
     "output_type": "execute_result"
    }
   ],
   "source": [
    "df.sample()\n"
   ]
  },
  {
   "cell_type": "code",
   "execution_count": 79,
   "metadata": {
    "colab": {
     "base_uri": "https://localhost:8080/",
     "height": 138
    },
    "colab_type": "code",
    "id": "vqGMZQOS6i3O",
    "outputId": "27a2f8d8-a05b-4b0f-dce3-3c7f55be1daf"
   },
   "outputs": [
    {
     "data": {
      "text/plain": [
       "description\n",
       "Accommodation and Food Services             401364\n",
       "Agriculture Forestry Fishing and Hunting     41672\n",
       "Arts Entertainment and Recreation            65998\n",
       "Construction                                121912\n",
       "Educational Services                         24849\n",
       "Name: Jobs Saved, dtype: int64"
      ]
     },
     "execution_count": 79,
     "metadata": {
      "tags": []
     },
     "output_type": "execute_result"
    }
   ],
   "source": [
    "# sum of jobs saved by category\n",
    "cat_sum=df.groupby('description')['Jobs Saved'].sum()\n",
    "cat_sum.head()"
   ]
  },
  {
   "cell_type": "code",
   "execution_count": 80,
   "metadata": {
    "colab": {
     "base_uri": "https://localhost:8080/",
     "height": 553
    },
    "colab_type": "code",
    "id": "OFuoZQk26i70",
    "outputId": "b3848a4a-7f6a-47d8-f203-1a8a8702a7bd"
   },
   "outputs": [
    {
     "data": {
      "image/png": "[encoded data removed]",
      "text/plain": [
       "<Figure size 864x648 with 1 Axes>"
      ]
     },
     "metadata": {
      "needs_background": "light",
      "tags": []
     },
     "output_type": "display_data"
    }
   ],
   "source": [
    "# jobs saved by category\n",
    "cat_sum.sort_values().plot(kind='barh', y='Jobs Saved', subplots=True, figsize=(12,9), color=\"lightskyblue\")\n",
    "plt.savefig('category_jobs_saved.png', bbox_inches=\"tight\")"
   ]
  },
  {
   "cell_type": "code",
   "execution_count": 81,
   "metadata": {
    "colab": {
     "base_uri": "https://localhost:8080/",
     "height": 138
    },
    "colab_type": "code",
    "id": "VLZrQQGi6jBV",
    "outputId": "30490991-a081-48c7-90b7-dbf51503bc05"
   },
   "outputs": [
    {
     "data": {
      "text/plain": [
       "description\n",
       "Accommodation and Food Services             1.777470e+09\n",
       "Agriculture Forestry Fishing and Hunting    2.818954e+08\n",
       "Arts Entertainment and Recreation           3.126078e+08\n",
       "Construction                                1.137631e+09\n",
       "Educational Services                        1.253895e+08\n",
       "Name: Loan Amount, dtype: float64"
      ]
     },
     "execution_count": 81,
     "metadata": {
      "tags": []
     },
     "output_type": "execute_result"
    }
   ],
   "source": [
    "# loan sum per category\n",
    "cat_loan=df.groupby('description')['Loan Amount'].sum()\n",
    "cat_loan.head()"
   ]
  },
  {
   "cell_type": "code",
   "execution_count": 82,
   "metadata": {
    "colab": {
     "base_uri": "https://localhost:8080/",
     "height": 566
    },
    "colab_type": "code",
    "id": "oi_-eW1ncF_J",
    "outputId": "8aa58323-357e-44d5-8bf7-2e9c24695941"
   },
   "outputs": [
    {
     "data": {
      "image/png": "[encoded data removed]",
      "text/plain": [
       "<Figure size 864x648 with 1 Axes>"
      ]
     },
     "metadata": {
      "needs_background": "light",
      "tags": []
     },
     "output_type": "display_data"
    }
   ],
   "source": [
    "#changed color\n",
    "cat_loan.sort_values().plot(kind='barh', y='Jobs Saved', subplots=True, figsize=(12,9), color=\"lightcoral\")\n",
    "\n",
    "plt.savefig('catgory_loans.png', bbox_inches=\"tight\")"
   ]
  },
  {
   "cell_type": "code",
   "execution_count": 82,
   "metadata": {
    "colab": {},
    "colab_type": "code",
    "id": "4hD5d0jBcGSX"
   },
   "outputs": [],
   "source": []
  },
  {
   "cell_type": "code",
   "execution_count": 82,
   "metadata": {
    "colab": {},
    "colab_type": "code",
    "id": "pDyptD3ncHPF"
   },
   "outputs": [],
   "source": []
  },
  {
   "cell_type": "code",
   "execution_count": 83,
   "metadata": {
    "colab": {},
    "colab_type": "code",
    "id": "Wwd59LJdcHq0"
   },
   "outputs": [],
   "source": [
    "# count race by business type\n",
    "count_race = df.groupby('Race').agg('count')\n",
    "count_desc = df.groupby('description').agg('count')\n",
    "count_sum = len(df)\n",
    "\n",
    "\n"
   ]
  },
  {
   "cell_type": "code",
   "execution_count": 84,
   "metadata": {
    "colab": {},
    "colab_type": "code",
    "id": "UYjMNCI8eKAC"
   },
   "outputs": [],
   "source": [
    "# def group_lower_ranking_values(column):\n",
    "#     pie_counts = df.groupby(column).agg('count')\n",
    "#     pct_value = df[lambda df: df.columns[0]].quantile(.75)\n",
    "#     values_below_pct_value = df[lambda df: df.columns[0]].loc[lambda s: s < pct_value].index.values\n",
    "#     def fix_values(row):\n",
    "#         if row[column] in values_below_pct_value:\n",
    "#             row[column] = 'Other'\n",
    "#         return row \n",
    "#     pie_grouped = df.apply(fix_values, axis=1).groupby(column).agg('count')\n",
    "#     return pie_grouped\n",
    "\n",
    "# racial_index = group_lower_ranking_values('Race')\n",
    "# description_index = group_lower_ranking_values('description')"
   ]
  },
  {
   "cell_type": "code",
   "execution_count": 85,
   "metadata": {
    "colab": {
     "base_uri": "https://localhost:8080/",
     "height": 210
    },
    "colab_type": "code",
    "id": "zKZGGRmrf2-o",
    "outputId": "d99a87cc-d8ab-4244-a25a-c0570ca9f87e"
   },
   "outputs": [
    {
     "name": "stdout",
     "output_type": "stream",
     "text": [
      "                 Loan Amount    City   State     Zip  NAICS Code  Business Type  Gender  Veteran  Jobs Saved    Date    Bank  NAICS Category  description   Title  Loan Percentile  Loan Quartile  DayNUM  Weekday\n",
      "Race                                                                                                                                                                                                              \n",
      "Asian                  30802   30802   30802   30802       30802          30802   30802    30802       30802   30802   30802           30802        30802   30802            30802          30802   30802    30802\n",
      "Black                   7373    7373    7373    7373        7373           7373    7373     7373        7373    7373    7373            7373         7373    7373             7373           7373    7373     7373\n",
      "Eskimo                     3       3       3       3           3              3       3        3           3       3       3               3            3       3                3              3       3        3\n",
      "Hispanic               19594   19594   19594   19594       19594          19594   19594    19594       19594   19594   19594           19594        19594   19594            19594          19594   19594    19594\n",
      "Multi Group                4       4       4       4           4              4       4        4           4       4       4               4            4       4                4              4       4        4\n",
      "Native American         1296    1296    1296    1296        1296           1296    1296     1296        1296    1296    1296            1296         1296    1296             1296           1296    1296     1296\n",
      "Puerto Rican              76      76      76      76          76             76      76       76          76      76      76              76           76      76               76             76      76       76\n",
      "White                 184816  184816  184816  184816      184816         184816  184816   184816      184816  184816  184816          184816       184816  184816           184816         184816  184816   184816\n"
     ]
    }
   ],
   "source": [
    "racial_index=df.groupby('Race').agg('count')\n",
    "print(racial_index)"
   ]
  },
  {
   "cell_type": "code",
   "execution_count": 86,
   "metadata": {
    "colab": {
     "base_uri": "https://localhost:8080/",
     "height": 86
    },
    "colab_type": "code",
    "id": "JTqVQ-c2Pb3I",
    "outputId": "2d977f9b-d5de-4944-dd03-b19eff927743"
   },
   "outputs": [
    {
     "name": "stdout",
     "output_type": "stream",
     "text": [
      "Gender\n",
      "Female    2.490496e+09\n",
      "Male      8.000716e+09\n",
      "Name: Loan Amount, dtype: float64\n"
     ]
    }
   ],
   "source": [
    "gender_loan_amount=df.groupby('Gender')['Loan Amount'].agg('sum')\n",
    "print(gender_loan_amount)"
   ]
  },
  {
   "cell_type": "code",
   "execution_count": 86,
   "metadata": {
    "colab": {},
    "colab_type": "code",
    "id": "rKCGnZoLTAjS"
   },
   "outputs": [],
   "source": []
  },
  {
   "cell_type": "code",
   "execution_count": 87,
   "metadata": {
    "colab": {},
    "colab_type": "code",
    "id": "lLPOs4heOjVq"
   },
   "outputs": [],
   "source": [
    "%matplotlib inline"
   ]
  },
  {
   "cell_type": "code",
   "execution_count": 87,
   "metadata": {
    "colab": {},
    "colab_type": "code",
    "id": "5VDheVZbTCK_"
   },
   "outputs": [],
   "source": []
  },
  {
   "cell_type": "code",
   "execution_count": 88,
   "metadata": {
    "colab": {
     "base_uri": "https://localhost:8080/",
     "height": 392
    },
    "colab_type": "code",
    "id": "rYx26HZQbtld",
    "outputId": "ee711382-5795-4dc1-da1e-fb826ef7dedc"
   },
   "outputs": [
    {
     "data": {
      "image/png": "[encoded data removed]",
      "text/plain": [
       "<Figure size 720x432 with 1 Axes>"
      ]
     },
     "metadata": {
      "tags": []
     },
     "output_type": "display_data"
    }
   ],
   "source": [
    "# Define plot space\n",
    "fig, ax = plt.subplots(figsize=(10, 6))\n",
    "ax.set(title = \"Total Percent of Loans by Gender\",\n",
    "       xlabel = \"\", \n",
    "       ylabel = \"\",\n",
    "\n",
    "       )\n",
    "labels=gender_loan_amount.index\n",
    "explode = (0.0, 0.05)\n",
    "left  = 0.125  # the left side of the subplots of the figure\n",
    "right = 0.9    # the right side of the subplots of the figure\n",
    "bottom = 0.1   # the bottom of the subplots of the figure\n",
    "top = 0.9      # the top of the subplots of the figure\n",
    "wspace = 0.5  # the amount of width reserved for blank space between subplots\n",
    "hspace = 0.5   # the amount of height reserved for white space between subplots\n",
    "# These two can be called on 'fig' instead of 'plt' too\n",
    "plt.subplots_adjust(left=left, bottom=bottom, right=right, top=top,\n",
    "                wspace=wspace, hspace=hspace)\n",
    "\n",
    "# Define x and y axes\n",
    "ax.pie(gender_loan_amount, explode=explode, labels=labels, rotatelabels=False)\n",
    "plt.savefig('gender_loan_total.png', bbox_inches='tight')"
   ]
  },
  {
   "cell_type": "code",
   "execution_count": 88,
   "metadata": {
    "colab": {},
    "colab_type": "code",
    "id": "6S7sUWAI6QdA"
   },
   "outputs": [],
   "source": []
  },
  {
   "cell_type": "code",
   "execution_count": 89,
   "metadata": {
    "colab": {
     "base_uri": "https://localhost:8080/",
     "height": 34
    },
    "colab_type": "code",
    "id": "mkZDgObZPb9e",
    "outputId": "d345bb7c-1864-40cc-a1aa-8928ab970a52"
   },
   "outputs": [
    {
     "name": "stdout",
     "output_type": "stream",
     "text": [
      "cp: cannot stat 'people_ppp_super.csv': No such file or directory\n"
     ]
    }
   ],
   "source": [
    "df.to_csv('ppl_ppp_w_quantiles_and_categories.csv', index=True)\n",
    "!cp people_ppp_super.csv \"drive/My Drive/\"\n"
   ]
  }
 ],
 "metadata": {
  "colab": {
   "collapsed_sections": [],
   "name": "analyze_normalized_peep.ipynb",
   "provenance": [],
   "toc_visible": true
  },
  "kernelspec": {
   "display_name": "Python 3",
   "language": "python",
   "name": "python3"
  },
  "language_info": {
   "codemirror_mode": {
    "name": "ipython",
    "version": 3
   },
   "file_extension": ".py",
   "mimetype": "text/x-python",
   "name": "python",
   "nbconvert_exporter": "python",
   "pygments_lexer": "ipython3",
   "version": "3.7.4"
  }
 },
 "nbformat": 4,
 "nbformat_minor": 1
}
