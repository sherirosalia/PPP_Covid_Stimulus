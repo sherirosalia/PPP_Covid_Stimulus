{
  "nbformat": 4,
  "nbformat_minor": 0,
  "metadata": {
    "colab": {
      "name": "over_150k_clean.ipynb",
      "provenance": [],
      "collapsed_sections": [],
      "mount_file_id": "1QhORnS6hfpmJPuMxe1IjC_VK0S7XJCcr",
      "authorship_tag": "ABX9TyMV9XxFxiGLEBKbPVrTYWJN"
    },
    "kernelspec": {
      "name": "python3",
      "display_name": "Python 3"
    },
    "accelerator": "GPU"
  },
  "cells": [
    {
      "cell_type": "markdown",
      "metadata": {
        "id": "2oVNvkNYPDV2",
        "colab_type": "text"
      },
      "source": [
        "Clean of loans over $150k"
      ]
    },
    {
      "cell_type": "code",
      "metadata": {
        "id": "8M-oPsMYPGnv",
        "colab_type": "code",
        "colab": {}
      },
      "source": [
        "#import dependencies\n",
        "import pandas as pd\n",
        "import numpy as np\n",
        "from datetime import date, datetime\n",
        "import os, sys \n",
        "import io\n",
        "import ee\n"
      ],
      "execution_count": 251,
      "outputs": []
    },
    {
      "cell_type": "code",
      "metadata": {
        "id": "IF4fH4hDB5m8",
        "colab_type": "code",
        "colab": {}
      },
      "source": [
        "## set up pandas dataframe using set_options to warn when we are working on a copy instead of ooriginal dataframe\n",
        "pd.set_option('mode.chained_assignment','warn')"
      ],
      "execution_count": 252,
      "outputs": []
    },
    {
      "cell_type": "code",
      "metadata": {
        "id": "pf2cFMugB_T9",
        "colab_type": "code",
        "colab": {}
      },
      "source": [
        "# dataframe will display without being truncated\n",
        "pd.set_option('display.max_rows', 150)\n",
        "pd.set_option('display.max_columns', 25)\n",
        "pd.set_option('display.width', 1000)"
      ],
      "execution_count": 253,
      "outputs": []
    },
    {
      "cell_type": "code",
      "metadata": {
        "id": "ii3flRP84Xa9",
        "colab_type": "code",
        "colab": {}
      },
      "source": [
        "# !pip install -U -q PyDrive"
      ],
      "execution_count": 254,
      "outputs": []
    },
    {
      "cell_type": "code",
      "metadata": {
        "id": "ax45eZXtxQE2",
        "colab_type": "code",
        "colab": {
          "base_uri": "https://localhost:8080/",
          "height": 34
        },
        "outputId": "19a816ff-2920-4091-fa0f-b95bd1704f2c"
      },
      "source": [
        "#mounting the google drive to access the files\n",
        "from google.colab import drive\n",
        "drive.mount('/content/drive')"
      ],
      "execution_count": 255,
      "outputs": [
        {
          "output_type": "stream",
          "text": [
            "Drive already mounted at /content/drive; to attempt to forcibly remount, call drive.mount(\"/content/drive\", force_remount=True).\n"
          ],
          "name": "stdout"
        }
      ]
    },
    {
      "cell_type": "code",
      "metadata": {
        "id": "3Siq-wB9d392",
        "colab_type": "code",
        "colab": {}
      },
      "source": [
        "# command shows file path\n",
        "# ! ls"
      ],
      "execution_count": 256,
      "outputs": []
    },
    {
      "cell_type": "code",
      "metadata": {
        "id": "JwyQc3b9d4R-",
        "colab_type": "code",
        "colab": {}
      },
      "source": [
        "from google.colab import files"
      ],
      "execution_count": 257,
      "outputs": []
    },
    {
      "cell_type": "markdown",
      "metadata": {
        "id": "Nt6pJSd6SX06",
        "colab_type": "text"
      },
      "source": [
        "import csv with data types set, check shape, info\n"
      ]
    },
    {
      "cell_type": "code",
      "metadata": {
        "id": "RxhFfrXX0jn0",
        "colab_type": "code",
        "colab": {}
      },
      "source": [
        "# filepath\n",
        "path = \"/content/drive/My Drive/data/PPP Data 150k plus.csv\"\n",
        "\n",
        "\n"
      ],
      "execution_count": 346,
      "outputs": []
    },
    {
      "cell_type": "code",
      "metadata": {
        "id": "tub77oA8j9IA",
        "colab_type": "code",
        "colab": {}
      },
      "source": [
        "#read the csv, create dataframe\n",
        "date_cols = [\"DateApproved\"]\n",
        "df = pd.read_csv(path, index_col=False, dtype={'Jobs Retained':int, 'NAICSCode': str, 'Zip': str, }, parse_dates=date_cols)\n",
        "\n"
      ],
      "execution_count": 347,
      "outputs": []
    },
    {
      "cell_type": "code",
      "metadata": {
        "id": "roSn8zI93O4a",
        "colab_type": "code",
        "colab": {
          "base_uri": "https://localhost:8080/",
          "height": 169
        },
        "outputId": "04154517-0dcf-478f-f2c6-a5cfdf52260e"
      },
      "source": [
        "#check\n",
        "df.head(1)"
      ],
      "execution_count": 348,
      "outputs": [
        {
          "output_type": "execute_result",
          "data": {
            "text/html": [
              "<div>\n",
              "<style scoped>\n",
              "    .dataframe tbody tr th:only-of-type {\n",
              "        vertical-align: middle;\n",
              "    }\n",
              "\n",
              "    .dataframe tbody tr th {\n",
              "        vertical-align: top;\n",
              "    }\n",
              "\n",
              "    .dataframe thead th {\n",
              "        text-align: right;\n",
              "    }\n",
              "</style>\n",
              "<table border=\"1\" class=\"dataframe\">\n",
              "  <thead>\n",
              "    <tr style=\"text-align: right;\">\n",
              "      <th></th>\n",
              "      <th>LoanRange</th>\n",
              "      <th>BusinessName</th>\n",
              "      <th>Address</th>\n",
              "      <th>City</th>\n",
              "      <th>State</th>\n",
              "      <th>Zip</th>\n",
              "      <th>NAICSCode</th>\n",
              "      <th>BusinessType</th>\n",
              "      <th>RaceEthnicity</th>\n",
              "      <th>Gender</th>\n",
              "      <th>Veteran</th>\n",
              "      <th>NonProfit</th>\n",
              "      <th>JobsRetained</th>\n",
              "      <th>DateApproved</th>\n",
              "      <th>Lender</th>\n",
              "      <th>CD</th>\n",
              "    </tr>\n",
              "  </thead>\n",
              "  <tbody>\n",
              "    <tr>\n",
              "      <th>0</th>\n",
              "      <td>a $5-10 million</td>\n",
              "      <td>ARCTIC SLOPE NATIVE ASSOCIATION, LTD.</td>\n",
              "      <td>7000 Uula St</td>\n",
              "      <td>BARROW</td>\n",
              "      <td>AK</td>\n",
              "      <td>99723</td>\n",
              "      <td>813920</td>\n",
              "      <td>Non-Profit Organization</td>\n",
              "      <td>Unanswered</td>\n",
              "      <td>Unanswered</td>\n",
              "      <td>Unanswered</td>\n",
              "      <td>Y</td>\n",
              "      <td>295.0</td>\n",
              "      <td>2020-04-14</td>\n",
              "      <td>National Cooperative Bank, National Association</td>\n",
              "      <td>AK - 00</td>\n",
              "    </tr>\n",
              "  </tbody>\n",
              "</table>\n",
              "</div>"
            ],
            "text/plain": [
              "         LoanRange                           BusinessName       Address    City State    Zip NAICSCode             BusinessType RaceEthnicity      Gender     Veteran NonProfit  JobsRetained DateApproved                                           Lender       CD\n",
              "0  a $5-10 million  ARCTIC SLOPE NATIVE ASSOCIATION, LTD.  7000 Uula St  BARROW    AK  99723    813920  Non-Profit Organization    Unanswered  Unanswered  Unanswered         Y         295.0   2020-04-14  National Cooperative Bank, National Association  AK - 00"
            ]
          },
          "metadata": {
            "tags": []
          },
          "execution_count": 348
        }
      ]
    },
    {
      "cell_type": "code",
      "metadata": {
        "id": "MTaIOheV8Fz-",
        "colab_type": "code",
        "colab": {
          "base_uri": "https://localhost:8080/",
          "height": 34
        },
        "outputId": "943a6df9-fdbd-48fb-997c-11974ed2e0e5"
      },
      "source": [
        "#shape\n",
        "df.shape\n"
      ],
      "execution_count": 349,
      "outputs": [
        {
          "output_type": "execute_result",
          "data": {
            "text/plain": [
              "(661218, 16)"
            ]
          },
          "metadata": {
            "tags": []
          },
          "execution_count": 349
        }
      ]
    },
    {
      "cell_type": "code",
      "metadata": {
        "id": "SJp2zU1K0-FI",
        "colab_type": "code",
        "colab": {
          "base_uri": "https://localhost:8080/",
          "height": 416
        },
        "outputId": "ce87a5f1-5fb4-4f3f-98af-b5715c77c123"
      },
      "source": [
        "#check types\n",
        "df.info()"
      ],
      "execution_count": 350,
      "outputs": [
        {
          "output_type": "stream",
          "text": [
            "<class 'pandas.core.frame.DataFrame'>\n",
            "RangeIndex: 661218 entries, 0 to 661217\n",
            "Data columns (total 16 columns):\n",
            " #   Column         Non-Null Count   Dtype         \n",
            "---  ------         --------------   -----         \n",
            " 0   LoanRange      661218 non-null  object        \n",
            " 1   BusinessName   661210 non-null  object        \n",
            " 2   Address        661201 non-null  object        \n",
            " 3   City           661203 non-null  object        \n",
            " 4   State          661218 non-null  object        \n",
            " 5   Zip            661202 non-null  object        \n",
            " 6   NAICSCode      654435 non-null  object        \n",
            " 7   BusinessType   659789 non-null  object        \n",
            " 8   RaceEthnicity  661218 non-null  object        \n",
            " 9   Gender         661218 non-null  object        \n",
            " 10  Veteran        661218 non-null  object        \n",
            " 11  NonProfit      42462 non-null   object        \n",
            " 12  JobsRetained   620712 non-null  float64       \n",
            " 13  DateApproved   661218 non-null  datetime64[ns]\n",
            " 14  Lender         661218 non-null  object        \n",
            " 15  CD             661218 non-null  object        \n",
            "dtypes: datetime64[ns](1), float64(1), object(14)\n",
            "memory usage: 80.7+ MB\n"
          ],
          "name": "stdout"
        }
      ]
    },
    {
      "cell_type": "code",
      "metadata": {
        "id": "7cq3eDTputso",
        "colab_type": "code",
        "colab": {
          "base_uri": "https://localhost:8080/",
          "height": 312
        },
        "outputId": "b4c1fc8c-dd6e-4a66-a4b0-7cda07225545"
      },
      "source": [
        "#check for nulls\n",
        "print(df.isna().sum())"
      ],
      "execution_count": 351,
      "outputs": [
        {
          "output_type": "stream",
          "text": [
            "LoanRange             0\n",
            "BusinessName          8\n",
            "Address              17\n",
            "City                 15\n",
            "State                 0\n",
            "Zip                  16\n",
            "NAICSCode          6783\n",
            "BusinessType       1429\n",
            "RaceEthnicity         0\n",
            "Gender                0\n",
            "Veteran               0\n",
            "NonProfit        618756\n",
            "JobsRetained      40506\n",
            "DateApproved          0\n",
            "Lender                0\n",
            "CD                    0\n",
            "dtype: int64\n"
          ],
          "name": "stdout"
        }
      ]
    },
    {
      "cell_type": "code",
      "metadata": {
        "id": "QqMKAt3OEolt",
        "colab_type": "code",
        "colab": {
          "base_uri": "https://localhost:8080/",
          "height": 152
        },
        "outputId": "f95070a6-4a32-4e9e-aab2-d2ec18537aba"
      },
      "source": [
        "#replace nan value with zeros\n",
        "df['JobsRetained'].replace('', np.nan, inplace=True)\n",
        "df.sample()"
      ],
      "execution_count": 352,
      "outputs": [
        {
          "output_type": "execute_result",
          "data": {
            "text/html": [
              "<div>\n",
              "<style scoped>\n",
              "    .dataframe tbody tr th:only-of-type {\n",
              "        vertical-align: middle;\n",
              "    }\n",
              "\n",
              "    .dataframe tbody tr th {\n",
              "        vertical-align: top;\n",
              "    }\n",
              "\n",
              "    .dataframe thead th {\n",
              "        text-align: right;\n",
              "    }\n",
              "</style>\n",
              "<table border=\"1\" class=\"dataframe\">\n",
              "  <thead>\n",
              "    <tr style=\"text-align: right;\">\n",
              "      <th></th>\n",
              "      <th>LoanRange</th>\n",
              "      <th>BusinessName</th>\n",
              "      <th>Address</th>\n",
              "      <th>City</th>\n",
              "      <th>State</th>\n",
              "      <th>Zip</th>\n",
              "      <th>NAICSCode</th>\n",
              "      <th>BusinessType</th>\n",
              "      <th>RaceEthnicity</th>\n",
              "      <th>Gender</th>\n",
              "      <th>Veteran</th>\n",
              "      <th>NonProfit</th>\n",
              "      <th>JobsRetained</th>\n",
              "      <th>DateApproved</th>\n",
              "      <th>Lender</th>\n",
              "      <th>CD</th>\n",
              "    </tr>\n",
              "  </thead>\n",
              "  <tbody>\n",
              "    <tr>\n",
              "      <th>379076</th>\n",
              "      <td>d $350,000-1 million</td>\n",
              "      <td>UNITED WAY OF THE MIDLANDS</td>\n",
              "      <td>2201 Farnam Street Suite 200</td>\n",
              "      <td>OMAHA</td>\n",
              "      <td>NE</td>\n",
              "      <td>68102</td>\n",
              "      <td>813219</td>\n",
              "      <td>Non-Profit Organization</td>\n",
              "      <td>Unanswered</td>\n",
              "      <td>Unanswered</td>\n",
              "      <td>Unanswered</td>\n",
              "      <td>Y</td>\n",
              "      <td>NaN</td>\n",
              "      <td>2020-04-09</td>\n",
              "      <td>First National Bank of Omaha</td>\n",
              "      <td>NE - 02</td>\n",
              "    </tr>\n",
              "  </tbody>\n",
              "</table>\n",
              "</div>"
            ],
            "text/plain": [
              "                   LoanRange                BusinessName                       Address   City State    Zip NAICSCode             BusinessType RaceEthnicity      Gender     Veteran NonProfit  JobsRetained DateApproved                        Lender       CD\n",
              "379076  d $350,000-1 million  UNITED WAY OF THE MIDLANDS  2201 Farnam Street Suite 200  OMAHA    NE  68102    813219  Non-Profit Organization    Unanswered  Unanswered  Unanswered         Y           NaN   2020-04-09  First National Bank of Omaha  NE - 02"
            ]
          },
          "metadata": {
            "tags": []
          },
          "execution_count": 352
        }
      ]
    },
    {
      "cell_type": "code",
      "metadata": {
        "id": "50aGBh-cE71J",
        "colab_type": "code",
        "colab": {}
      },
      "source": [
        "#fill null values in jobs saved\n",
        "df['JobsRetained'] = df['JobsRetained'].fillna(0)"
      ],
      "execution_count": 353,
      "outputs": []
    },
    {
      "cell_type": "code",
      "metadata": {
        "id": "e2Min-uqTyeA",
        "colab_type": "code",
        "colab": {
          "base_uri": "https://localhost:8080/",
          "height": 34
        },
        "outputId": "5fc1474f-acb8-4c6b-87e1-af8c66280c96"
      },
      "source": [
        "df['JobsRetained']=df['JobsRetained'].astype(int)\n",
        "df['JobsRetained'].dtypes"
      ],
      "execution_count": 354,
      "outputs": [
        {
          "output_type": "execute_result",
          "data": {
            "text/plain": [
              "dtype('int64')"
            ]
          },
          "metadata": {
            "tags": []
          },
          "execution_count": 354
        }
      ]
    },
    {
      "cell_type": "code",
      "metadata": {
        "id": "19gibKc6frIk",
        "colab_type": "code",
        "colab": {
          "base_uri": "https://localhost:8080/",
          "height": 312
        },
        "outputId": "b5b94b74-acec-49c2-c032-2315051c1c96"
      },
      "source": [
        "print(df.isna().sum())"
      ],
      "execution_count": 355,
      "outputs": [
        {
          "output_type": "stream",
          "text": [
            "LoanRange             0\n",
            "BusinessName          8\n",
            "Address              17\n",
            "City                 15\n",
            "State                 0\n",
            "Zip                  16\n",
            "NAICSCode          6783\n",
            "BusinessType       1429\n",
            "RaceEthnicity         0\n",
            "Gender                0\n",
            "Veteran               0\n",
            "NonProfit        618756\n",
            "JobsRetained          0\n",
            "DateApproved          0\n",
            "Lender                0\n",
            "CD                    0\n",
            "dtype: int64\n"
          ],
          "name": "stdout"
        }
      ]
    },
    {
      "cell_type": "code",
      "metadata": {
        "id": "RE6SpqV1fMQ5",
        "colab_type": "code",
        "colab": {}
      },
      "source": [
        "subset=['BusinessName','NAICSCode','Address', 'City', 'Zip', 'BusinessType']\n",
        "df.dropna(subset=subset, inplace=True)"
      ],
      "execution_count": 356,
      "outputs": []
    },
    {
      "cell_type": "code",
      "metadata": {
        "id": "cVYui1RpzCW5",
        "colab_type": "code",
        "colab": {
          "base_uri": "https://localhost:8080/",
          "height": 34
        },
        "outputId": "369f2841-f02f-4dbc-8870-8c21aea21ef8"
      },
      "source": [
        "#create general category column for naics codes\n",
        "df['NAICS Category'] = df[\"NAICSCode\"].str[:2]\n",
        "len(df)\n"
      ],
      "execution_count": 357,
      "outputs": [
        {
          "output_type": "execute_result",
          "data": {
            "text/plain": [
              "653108"
            ]
          },
          "metadata": {
            "tags": []
          },
          "execution_count": 357
        }
      ]
    },
    {
      "cell_type": "code",
      "metadata": {
        "id": "epWjjCzXiF9B",
        "colab_type": "code",
        "colab": {
          "base_uri": "https://localhost:8080/",
          "height": 152
        },
        "outputId": "0da056aa-ac42-436d-caf9-335f160ae9ef"
      },
      "source": [
        "df.sample()"
      ],
      "execution_count": 358,
      "outputs": [
        {
          "output_type": "execute_result",
          "data": {
            "text/html": [
              "<div>\n",
              "<style scoped>\n",
              "    .dataframe tbody tr th:only-of-type {\n",
              "        vertical-align: middle;\n",
              "    }\n",
              "\n",
              "    .dataframe tbody tr th {\n",
              "        vertical-align: top;\n",
              "    }\n",
              "\n",
              "    .dataframe thead th {\n",
              "        text-align: right;\n",
              "    }\n",
              "</style>\n",
              "<table border=\"1\" class=\"dataframe\">\n",
              "  <thead>\n",
              "    <tr style=\"text-align: right;\">\n",
              "      <th></th>\n",
              "      <th>LoanRange</th>\n",
              "      <th>BusinessName</th>\n",
              "      <th>Address</th>\n",
              "      <th>City</th>\n",
              "      <th>State</th>\n",
              "      <th>Zip</th>\n",
              "      <th>NAICSCode</th>\n",
              "      <th>BusinessType</th>\n",
              "      <th>RaceEthnicity</th>\n",
              "      <th>Gender</th>\n",
              "      <th>Veteran</th>\n",
              "      <th>NonProfit</th>\n",
              "      <th>JobsRetained</th>\n",
              "      <th>DateApproved</th>\n",
              "      <th>Lender</th>\n",
              "      <th>CD</th>\n",
              "      <th>NAICS Category</th>\n",
              "    </tr>\n",
              "  </thead>\n",
              "  <tbody>\n",
              "    <tr>\n",
              "      <th>76347</th>\n",
              "      <td>e $150,000-350,000</td>\n",
              "      <td>DSP GROUP INC</td>\n",
              "      <td>2055 GATEWAY PL</td>\n",
              "      <td>SAN JOSE</td>\n",
              "      <td>CA</td>\n",
              "      <td>95110</td>\n",
              "      <td>541511</td>\n",
              "      <td>Corporation</td>\n",
              "      <td>Unanswered</td>\n",
              "      <td>Unanswered</td>\n",
              "      <td>Unanswered</td>\n",
              "      <td>NaN</td>\n",
              "      <td>10</td>\n",
              "      <td>2020-04-14</td>\n",
              "      <td>Bank Leumi USA</td>\n",
              "      <td>CA - 19</td>\n",
              "      <td>54</td>\n",
              "    </tr>\n",
              "  </tbody>\n",
              "</table>\n",
              "</div>"
            ],
            "text/plain": [
              "                LoanRange   BusinessName          Address      City State    Zip NAICSCode BusinessType RaceEthnicity      Gender     Veteran NonProfit  JobsRetained DateApproved          Lender       CD NAICS Category\n",
              "76347  e $150,000-350,000  DSP GROUP INC  2055 GATEWAY PL  SAN JOSE    CA  95110    541511  Corporation    Unanswered  Unanswered  Unanswered       NaN            10   2020-04-14  Bank Leumi USA  CA - 19             54"
            ]
          },
          "metadata": {
            "tags": []
          },
          "execution_count": 358
        }
      ]
    },
    {
      "cell_type": "code",
      "metadata": {
        "id": "vLmYSEjNuSXp",
        "colab_type": "code",
        "colab": {}
      },
      "source": [
        "# #rename columns to match under 150 loans as appropriate\n",
        "df.columns=['Loan Range', 'Name', 'Address', 'City', 'State', 'Zip', 'NAICS Code', 'Business Type', 'Race', 'Gender', 'Veteran', 'Non Profit', 'Jobs Saved', 'Date', 'Bank', 'CD',  'NAICS Category']\n",
        "\n"
      ],
      "execution_count": 359,
      "outputs": []
    },
    {
      "cell_type": "code",
      "metadata": {
        "id": "dQJfdMirtIj6",
        "colab_type": "code",
        "colab": {
          "base_uri": "https://localhost:8080/",
          "height": 204
        },
        "outputId": "6e32ab9c-649f-4de8-ba49-1479129e08c9"
      },
      "source": [
        "df.sample()\n"
      ],
      "execution_count": 360,
      "outputs": [
        {
          "output_type": "execute_result",
          "data": {
            "text/html": [
              "<div>\n",
              "<style scoped>\n",
              "    .dataframe tbody tr th:only-of-type {\n",
              "        vertical-align: middle;\n",
              "    }\n",
              "\n",
              "    .dataframe tbody tr th {\n",
              "        vertical-align: top;\n",
              "    }\n",
              "\n",
              "    .dataframe thead th {\n",
              "        text-align: right;\n",
              "    }\n",
              "</style>\n",
              "<table border=\"1\" class=\"dataframe\">\n",
              "  <thead>\n",
              "    <tr style=\"text-align: right;\">\n",
              "      <th></th>\n",
              "      <th>Loan Range</th>\n",
              "      <th>Name</th>\n",
              "      <th>Address</th>\n",
              "      <th>City</th>\n",
              "      <th>State</th>\n",
              "      <th>Zip</th>\n",
              "      <th>NAICS Code</th>\n",
              "      <th>Business Type</th>\n",
              "      <th>Race</th>\n",
              "      <th>Gender</th>\n",
              "      <th>Veteran</th>\n",
              "      <th>Non Profit</th>\n",
              "      <th>Jobs Saved</th>\n",
              "      <th>Date</th>\n",
              "      <th>Bank</th>\n",
              "      <th>CD</th>\n",
              "      <th>NAICS Category</th>\n",
              "    </tr>\n",
              "  </thead>\n",
              "  <tbody>\n",
              "    <tr>\n",
              "      <th>557938</th>\n",
              "      <td>c $1-2 million</td>\n",
              "      <td>SCA PROMOTION INC</td>\n",
              "      <td>3030 LYNDON B JOHNSON FWY SUITE 300</td>\n",
              "      <td>DALLAS</td>\n",
              "      <td>TX</td>\n",
              "      <td>75234</td>\n",
              "      <td>541511</td>\n",
              "      <td>Corporation</td>\n",
              "      <td>Unanswered</td>\n",
              "      <td>Male Owned</td>\n",
              "      <td>Unanswered</td>\n",
              "      <td>NaN</td>\n",
              "      <td>79</td>\n",
              "      <td>2020-04-15</td>\n",
              "      <td>Texas Brand Bank</td>\n",
              "      <td>TX - 24</td>\n",
              "      <td>54</td>\n",
              "    </tr>\n",
              "  </tbody>\n",
              "</table>\n",
              "</div>"
            ],
            "text/plain": [
              "            Loan Range               Name                              Address    City State    Zip NAICS Code Business Type        Race      Gender     Veteran Non Profit  Jobs Saved       Date              Bank       CD NAICS Category\n",
              "557938  c $1-2 million  SCA PROMOTION INC  3030 LYNDON B JOHNSON FWY SUITE 300  DALLAS    TX  75234     541511   Corporation  Unanswered  Male Owned  Unanswered        NaN          79 2020-04-15  Texas Brand Bank  TX - 24             54"
            ]
          },
          "metadata": {
            "tags": []
          },
          "execution_count": 360
        }
      ]
    },
    {
      "cell_type": "code",
      "metadata": {
        "id": "G3zZzPVgtIgv",
        "colab_type": "code",
        "colab": {
          "base_uri": "https://localhost:8080/",
          "height": 169
        },
        "outputId": "8bbe99ca-4baa-48ac-9ae4-aa31480666ba"
      },
      "source": [
        "# #dropping CD column because we have address and zipcode for location \n",
        "df.drop('CD', inplace=True, axis=1)\n",
        "df.sample()"
      ],
      "execution_count": 361,
      "outputs": [
        {
          "output_type": "execute_result",
          "data": {
            "text/html": [
              "<div>\n",
              "<style scoped>\n",
              "    .dataframe tbody tr th:only-of-type {\n",
              "        vertical-align: middle;\n",
              "    }\n",
              "\n",
              "    .dataframe tbody tr th {\n",
              "        vertical-align: top;\n",
              "    }\n",
              "\n",
              "    .dataframe thead th {\n",
              "        text-align: right;\n",
              "    }\n",
              "</style>\n",
              "<table border=\"1\" class=\"dataframe\">\n",
              "  <thead>\n",
              "    <tr style=\"text-align: right;\">\n",
              "      <th></th>\n",
              "      <th>Loan Range</th>\n",
              "      <th>Name</th>\n",
              "      <th>Address</th>\n",
              "      <th>City</th>\n",
              "      <th>State</th>\n",
              "      <th>Zip</th>\n",
              "      <th>NAICS Code</th>\n",
              "      <th>Business Type</th>\n",
              "      <th>Race</th>\n",
              "      <th>Gender</th>\n",
              "      <th>Veteran</th>\n",
              "      <th>Non Profit</th>\n",
              "      <th>Jobs Saved</th>\n",
              "      <th>Date</th>\n",
              "      <th>Bank</th>\n",
              "      <th>NAICS Category</th>\n",
              "    </tr>\n",
              "  </thead>\n",
              "  <tbody>\n",
              "    <tr>\n",
              "      <th>587257</th>\n",
              "      <td>e $150,000-350,000</td>\n",
              "      <td>HOUSTON CASING SPECIALTIES LLC</td>\n",
              "      <td>195 SOUTHBELT INDUSTRIAL DR</td>\n",
              "      <td>HOUSTON</td>\n",
              "      <td>TX</td>\n",
              "      <td>77047</td>\n",
              "      <td>332812</td>\n",
              "      <td>Limited  Liability Company(LLC)</td>\n",
              "      <td>Unanswered</td>\n",
              "      <td>Unanswered</td>\n",
              "      <td>Unanswered</td>\n",
              "      <td>NaN</td>\n",
              "      <td>6</td>\n",
              "      <td>2020-04-14</td>\n",
              "      <td>Frost Bank</td>\n",
              "      <td>33</td>\n",
              "    </tr>\n",
              "  </tbody>\n",
              "</table>\n",
              "</div>"
            ],
            "text/plain": [
              "                Loan Range                            Name                      Address     City State    Zip NAICS Code                    Business Type        Race      Gender     Veteran Non Profit  Jobs Saved       Date        Bank NAICS Category\n",
              "587257  e $150,000-350,000  HOUSTON CASING SPECIALTIES LLC  195 SOUTHBELT INDUSTRIAL DR  HOUSTON    TX  77047     332812  Limited  Liability Company(LLC)  Unanswered  Unanswered  Unanswered        NaN           6 2020-04-14  Frost Bank             33"
            ]
          },
          "metadata": {
            "tags": []
          },
          "execution_count": 361
        }
      ]
    },
    {
      "cell_type": "markdown",
      "metadata": {
        "id": "Z1NGqKMJ58RW",
        "colab_type": "text"
      },
      "source": [
        "Joins for NAICS data"
      ]
    },
    {
      "cell_type": "code",
      "metadata": {
        "id": "wIO6a54gclPl",
        "colab_type": "code",
        "colab": {
          "base_uri": "https://localhost:8080/",
          "height": 416
        },
        "outputId": "9903a043-673d-46dc-d792-0a983b56d0df"
      },
      "source": [
        "# df['NAICS Code'] = df['NAICS Code'] != ''\n",
        "# len(df)\n",
        "\n",
        "df=df.dropna(subset=['NAICS Category', ])\n",
        "df.info()"
      ],
      "execution_count": 362,
      "outputs": [
        {
          "output_type": "stream",
          "text": [
            "<class 'pandas.core.frame.DataFrame'>\n",
            "Int64Index: 653108 entries, 0 to 661209\n",
            "Data columns (total 16 columns):\n",
            " #   Column          Non-Null Count   Dtype         \n",
            "---  ------          --------------   -----         \n",
            " 0   Loan Range      653108 non-null  object        \n",
            " 1   Name            653108 non-null  object        \n",
            " 2   Address         653108 non-null  object        \n",
            " 3   City            653108 non-null  object        \n",
            " 4   State           653108 non-null  object        \n",
            " 5   Zip             653108 non-null  object        \n",
            " 6   NAICS Code      653108 non-null  object        \n",
            " 7   Business Type   653108 non-null  object        \n",
            " 8   Race            653108 non-null  object        \n",
            " 9   Gender          653108 non-null  object        \n",
            " 10  Veteran         653108 non-null  object        \n",
            " 11  Non Profit      42074 non-null   object        \n",
            " 12  Jobs Saved      653108 non-null  int64         \n",
            " 13  Date            653108 non-null  datetime64[ns]\n",
            " 14  Bank            653108 non-null  object        \n",
            " 15  NAICS Category  653108 non-null  object        \n",
            "dtypes: datetime64[ns](1), int64(1), object(14)\n",
            "memory usage: 84.7+ MB\n"
          ],
          "name": "stdout"
        }
      ]
    },
    {
      "cell_type": "code",
      "metadata": {
        "id": "U8jgsr3Ftblp",
        "colab_type": "code",
        "colab": {}
      },
      "source": [
        "n_path = \"/content/drive/My Drive/data/naics-cat.csv\"\n",
        "nf_path = \"/content/drive/My Drive/data/2017-NAICS-Descriptions.csv\""
      ],
      "execution_count": 363,
      "outputs": []
    },
    {
      "cell_type": "code",
      "metadata": {
        "id": "dcQbWXiEx2rT",
        "colab_type": "code",
        "colab": {
          "base_uri": "https://localhost:8080/",
          "height": 34
        },
        "outputId": "1758bf05-ec23-4365-9599-0a42f139fe88"
      },
      "source": [
        "# Read column names from file\n",
        "cols = list(pd.read_csv(nf_path, nrows =1))\n",
        "print(cols)"
      ],
      "execution_count": 364,
      "outputs": [
        {
          "output_type": "stream",
          "text": [
            "['Code', 'Title', 'Description']\n"
          ],
          "name": "stdout"
        }
      ]
    },
    {
      "cell_type": "code",
      "metadata": {
        "id": "sxit256C7U7M",
        "colab_type": "code",
        "colab": {
          "base_uri": "https://localhost:8080/",
          "height": 110
        },
        "outputId": "486fc68d-020b-44b1-e02e-7784fa60c3fb"
      },
      "source": [
        "nf_df = pd.read_csv( nf_path, index_col=0, dtype={'Code':'string'}, na_values = ['<NA>', 'no information'], )\n",
        "nf_df.sample()"
      ],
      "execution_count": 365,
      "outputs": [
        {
          "output_type": "execute_result",
          "data": {
            "text/html": [
              "<div>\n",
              "<style scoped>\n",
              "    .dataframe tbody tr th:only-of-type {\n",
              "        vertical-align: middle;\n",
              "    }\n",
              "\n",
              "    .dataframe tbody tr th {\n",
              "        vertical-align: top;\n",
              "    }\n",
              "\n",
              "    .dataframe thead th {\n",
              "        text-align: right;\n",
              "    }\n",
              "</style>\n",
              "<table border=\"1\" class=\"dataframe\">\n",
              "  <thead>\n",
              "    <tr style=\"text-align: right;\">\n",
              "      <th></th>\n",
              "      <th>Title</th>\n",
              "      <th>Description</th>\n",
              "    </tr>\n",
              "    <tr>\n",
              "      <th>Code</th>\n",
              "      <th></th>\n",
              "      <th></th>\n",
              "    </tr>\n",
              "  </thead>\n",
              "  <tbody>\n",
              "    <tr>\n",
              "      <th>561311</th>\n",
              "      <td>Employment Placement Agencies</td>\n",
              "      <td>This U.S. industry comprises establishments pr...</td>\n",
              "    </tr>\n",
              "  </tbody>\n",
              "</table>\n",
              "</div>"
            ],
            "text/plain": [
              "                                 Title                                        Description\n",
              "Code                                                                                     \n",
              "561311  Employment Placement Agencies   This U.S. industry comprises establishments pr..."
            ]
          },
          "metadata": {
            "tags": []
          },
          "execution_count": 365
        }
      ]
    },
    {
      "cell_type": "code",
      "metadata": {
        "id": "oB-tsIfH6JY1",
        "colab_type": "code",
        "colab": {
          "base_uri": "https://localhost:8080/",
          "height": 34
        },
        "outputId": "9d25b6b4-d0f3-451d-814c-0510dadf8822"
      },
      "source": [
        "# Read column names from file\n",
        "cols = list(pd.read_csv(n_path, nrows =1))\n",
        "print(cols)"
      ],
      "execution_count": 366,
      "outputs": [
        {
          "output_type": "stream",
          "text": [
            "['id', 'cat', 'description', 'biz_count']\n"
          ],
          "name": "stdout"
        }
      ]
    },
    {
      "cell_type": "code",
      "metadata": {
        "id": "wuvR0SEW7Vuk",
        "colab_type": "code",
        "colab": {
          "base_uri": "https://localhost:8080/",
          "height": 110
        },
        "outputId": "81a793c1-a611-402d-d496-ce884e3eae21"
      },
      "source": [
        "ndf = pd.read_csv( n_path, index_col=0, dtype={'cat':'string'}, na_values = ['<NA>', 'no information'], )\n",
        "ndf.sample()"
      ],
      "execution_count": 367,
      "outputs": [
        {
          "output_type": "execute_result",
          "data": {
            "text/html": [
              "<div>\n",
              "<style scoped>\n",
              "    .dataframe tbody tr th:only-of-type {\n",
              "        vertical-align: middle;\n",
              "    }\n",
              "\n",
              "    .dataframe tbody tr th {\n",
              "        vertical-align: top;\n",
              "    }\n",
              "\n",
              "    .dataframe thead th {\n",
              "        text-align: right;\n",
              "    }\n",
              "</style>\n",
              "<table border=\"1\" class=\"dataframe\">\n",
              "  <thead>\n",
              "    <tr style=\"text-align: right;\">\n",
              "      <th></th>\n",
              "      <th>cat</th>\n",
              "      <th>description</th>\n",
              "      <th>biz_count</th>\n",
              "    </tr>\n",
              "    <tr>\n",
              "      <th>id</th>\n",
              "      <th></th>\n",
              "      <th></th>\n",
              "      <th></th>\n",
              "    </tr>\n",
              "  </thead>\n",
              "  <tbody>\n",
              "    <tr>\n",
              "      <th>15</th>\n",
              "      <td>53</td>\n",
              "      <td>Real Estate Rental and Leasing</td>\n",
              "      <td>868526</td>\n",
              "    </tr>\n",
              "  </tbody>\n",
              "</table>\n",
              "</div>"
            ],
            "text/plain": [
              "   cat                     description  biz_count\n",
              "id                                               \n",
              "15  53  Real Estate Rental and Leasing     868526"
            ]
          },
          "metadata": {
            "tags": []
          },
          "execution_count": 367
        }
      ]
    },
    {
      "cell_type": "code",
      "metadata": {
        "id": "APqUewzZ6Jjs",
        "colab_type": "code",
        "colab": {
          "base_uri": "https://localhost:8080/",
          "height": 204
        },
        "outputId": "0e8d2a1b-1490-4a7e-c5db-32080c4cae25"
      },
      "source": [
        "# join n_path and df make merged df\n",
        "df = pd.merge(left=df, right=nf_df, left_on='NAICS Code', right_on='Code', how='left')\n",
        "df.sample()"
      ],
      "execution_count": 368,
      "outputs": [
        {
          "output_type": "execute_result",
          "data": {
            "text/html": [
              "<div>\n",
              "<style scoped>\n",
              "    .dataframe tbody tr th:only-of-type {\n",
              "        vertical-align: middle;\n",
              "    }\n",
              "\n",
              "    .dataframe tbody tr th {\n",
              "        vertical-align: top;\n",
              "    }\n",
              "\n",
              "    .dataframe thead th {\n",
              "        text-align: right;\n",
              "    }\n",
              "</style>\n",
              "<table border=\"1\" class=\"dataframe\">\n",
              "  <thead>\n",
              "    <tr style=\"text-align: right;\">\n",
              "      <th></th>\n",
              "      <th>Loan Range</th>\n",
              "      <th>Name</th>\n",
              "      <th>Address</th>\n",
              "      <th>City</th>\n",
              "      <th>State</th>\n",
              "      <th>Zip</th>\n",
              "      <th>NAICS Code</th>\n",
              "      <th>Business Type</th>\n",
              "      <th>Race</th>\n",
              "      <th>Gender</th>\n",
              "      <th>Veteran</th>\n",
              "      <th>Non Profit</th>\n",
              "      <th>Jobs Saved</th>\n",
              "      <th>Date</th>\n",
              "      <th>Bank</th>\n",
              "      <th>NAICS Category</th>\n",
              "      <th>Title</th>\n",
              "      <th>Description</th>\n",
              "    </tr>\n",
              "  </thead>\n",
              "  <tbody>\n",
              "    <tr>\n",
              "      <th>641957</th>\n",
              "      <td>d $350,000-1 million</td>\n",
              "      <td>SPORTS SPECIALISTS OF MILWAUKEE, INC.</td>\n",
              "      <td>N104 W13885 Donges Bay Road</td>\n",
              "      <td>GERMANTOWN</td>\n",
              "      <td>WI</td>\n",
              "      <td>53022</td>\n",
              "      <td>423910</td>\n",
              "      <td>Subchapter S Corporation</td>\n",
              "      <td>Unanswered</td>\n",
              "      <td>Unanswered</td>\n",
              "      <td>Non-Veteran</td>\n",
              "      <td>NaN</td>\n",
              "      <td>33</td>\n",
              "      <td>2020-04-08</td>\n",
              "      <td>First Midwest Bank</td>\n",
              "      <td>42</td>\n",
              "      <td>Sporting and Recreational Goods and Supplies M...</td>\n",
              "      <td>This industry comprises establishments primari...</td>\n",
              "    </tr>\n",
              "  </tbody>\n",
              "</table>\n",
              "</div>"
            ],
            "text/plain": [
              "                  Loan Range                                   Name                      Address        City State    Zip NAICS Code             Business Type        Race      Gender      Veteran Non Profit  Jobs Saved       Date                Bank NAICS Category                                              Title                                        Description\n",
              "641957  d $350,000-1 million  SPORTS SPECIALISTS OF MILWAUKEE, INC.  N104 W13885 Donges Bay Road  GERMANTOWN    WI  53022     423910  Subchapter S Corporation  Unanswered  Unanswered  Non-Veteran        NaN          33 2020-04-08  First Midwest Bank             42  Sporting and Recreational Goods and Supplies M...  This industry comprises establishments primari..."
            ]
          },
          "metadata": {
            "tags": []
          },
          "execution_count": 368
        }
      ]
    },
    {
      "cell_type": "code",
      "metadata": {
        "id": "YdFYbjow6Jef",
        "colab_type": "code",
        "colab": {
          "base_uri": "https://localhost:8080/",
          "height": 169
        },
        "outputId": "a27213d7-dcf5-40fd-8435-6b932062ca0e"
      },
      "source": [
        "# join n_path and df make merged df\n",
        "df = pd.merge(left=df, right=ndf, left_on='NAICS Category', right_on='cat', how='left')\n",
        "df.sample()"
      ],
      "execution_count": 369,
      "outputs": [
        {
          "output_type": "execute_result",
          "data": {
            "text/html": [
              "<div>\n",
              "<style scoped>\n",
              "    .dataframe tbody tr th:only-of-type {\n",
              "        vertical-align: middle;\n",
              "    }\n",
              "\n",
              "    .dataframe tbody tr th {\n",
              "        vertical-align: top;\n",
              "    }\n",
              "\n",
              "    .dataframe thead th {\n",
              "        text-align: right;\n",
              "    }\n",
              "</style>\n",
              "<table border=\"1\" class=\"dataframe\">\n",
              "  <thead>\n",
              "    <tr style=\"text-align: right;\">\n",
              "      <th></th>\n",
              "      <th>Loan Range</th>\n",
              "      <th>Name</th>\n",
              "      <th>Address</th>\n",
              "      <th>City</th>\n",
              "      <th>State</th>\n",
              "      <th>Zip</th>\n",
              "      <th>NAICS Code</th>\n",
              "      <th>Business Type</th>\n",
              "      <th>Race</th>\n",
              "      <th>Gender</th>\n",
              "      <th>Veteran</th>\n",
              "      <th>Non Profit</th>\n",
              "      <th>Jobs Saved</th>\n",
              "      <th>Date</th>\n",
              "      <th>Bank</th>\n",
              "      <th>NAICS Category</th>\n",
              "      <th>Title</th>\n",
              "      <th>Description</th>\n",
              "      <th>cat</th>\n",
              "      <th>description</th>\n",
              "      <th>biz_count</th>\n",
              "    </tr>\n",
              "  </thead>\n",
              "  <tbody>\n",
              "    <tr>\n",
              "      <th>476730</th>\n",
              "      <td>e $150,000-350,000</td>\n",
              "      <td>TAINTED MONKEY LLC</td>\n",
              "      <td>1040 N High St Apt 7</td>\n",
              "      <td>COLUMBUS</td>\n",
              "      <td>OH</td>\n",
              "      <td>43201</td>\n",
              "      <td>722410</td>\n",
              "      <td>Limited  Liability Company(LLC)</td>\n",
              "      <td>White</td>\n",
              "      <td>Male Owned</td>\n",
              "      <td>Veteran</td>\n",
              "      <td>NaN</td>\n",
              "      <td>44</td>\n",
              "      <td>2020-04-11</td>\n",
              "      <td>The Huntington National Bank</td>\n",
              "      <td>72</td>\n",
              "      <td>Drinking Places (Alcoholic Beverages)</td>\n",
              "      <td>This industry comprises establishments known a...</td>\n",
              "      <td>72</td>\n",
              "      <td>Accommodation and Food Services</td>\n",
              "      <td>907516.0</td>\n",
              "    </tr>\n",
              "  </tbody>\n",
              "</table>\n",
              "</div>"
            ],
            "text/plain": [
              "                Loan Range                Name               Address      City State    Zip NAICS Code                    Business Type   Race      Gender  Veteran Non Profit  Jobs Saved       Date                          Bank NAICS Category                                   Title                                        Description cat                      description  biz_count\n",
              "476730  e $150,000-350,000  TAINTED MONKEY LLC  1040 N High St Apt 7  COLUMBUS    OH  43201     722410  Limited  Liability Company(LLC)  White  Male Owned  Veteran        NaN          44 2020-04-11  The Huntington National Bank             72  Drinking Places (Alcoholic Beverages)   This industry comprises establishments known a...  72  Accommodation and Food Services   907516.0"
            ]
          },
          "metadata": {
            "tags": []
          },
          "execution_count": 369
        }
      ]
    },
    {
      "cell_type": "code",
      "metadata": {
        "id": "sR1dpbIx6JLC",
        "colab_type": "code",
        "colab": {
          "base_uri": "https://localhost:8080/",
          "height": 204
        },
        "outputId": "8fc28e8c-e6fc-4421-be13-1add13dc6786"
      },
      "source": [
        "#drop some columns\n",
        "cols_to_drop = ['cat', 'biz_count', 'Description']\n",
        "df.drop(cols_to_drop, axis=1, inplace=True)\n",
        "df.sample()"
      ],
      "execution_count": 370,
      "outputs": [
        {
          "output_type": "execute_result",
          "data": {
            "text/html": [
              "<div>\n",
              "<style scoped>\n",
              "    .dataframe tbody tr th:only-of-type {\n",
              "        vertical-align: middle;\n",
              "    }\n",
              "\n",
              "    .dataframe tbody tr th {\n",
              "        vertical-align: top;\n",
              "    }\n",
              "\n",
              "    .dataframe thead th {\n",
              "        text-align: right;\n",
              "    }\n",
              "</style>\n",
              "<table border=\"1\" class=\"dataframe\">\n",
              "  <thead>\n",
              "    <tr style=\"text-align: right;\">\n",
              "      <th></th>\n",
              "      <th>Loan Range</th>\n",
              "      <th>Name</th>\n",
              "      <th>Address</th>\n",
              "      <th>City</th>\n",
              "      <th>State</th>\n",
              "      <th>Zip</th>\n",
              "      <th>NAICS Code</th>\n",
              "      <th>Business Type</th>\n",
              "      <th>Race</th>\n",
              "      <th>Gender</th>\n",
              "      <th>Veteran</th>\n",
              "      <th>Non Profit</th>\n",
              "      <th>Jobs Saved</th>\n",
              "      <th>Date</th>\n",
              "      <th>Bank</th>\n",
              "      <th>NAICS Category</th>\n",
              "      <th>Title</th>\n",
              "      <th>description</th>\n",
              "    </tr>\n",
              "  </thead>\n",
              "  <tbody>\n",
              "    <tr>\n",
              "      <th>63259</th>\n",
              "      <td>e $150,000-350,000</td>\n",
              "      <td>ADAM J. JANETTE, D.D.S., INC.</td>\n",
              "      <td>1010 PEACH ST</td>\n",
              "      <td>SAN LUIS OBISPO</td>\n",
              "      <td>CA</td>\n",
              "      <td>93401</td>\n",
              "      <td>621111</td>\n",
              "      <td>Corporation</td>\n",
              "      <td>Unanswered</td>\n",
              "      <td>Male Owned</td>\n",
              "      <td>Non-Veteran</td>\n",
              "      <td>NaN</td>\n",
              "      <td>16</td>\n",
              "      <td>2020-04-28</td>\n",
              "      <td>Pacific Western Bank</td>\n",
              "      <td>62</td>\n",
              "      <td>Offices of Physicians (except Mental Health Sp...</td>\n",
              "      <td>Health Care and Social Assistance</td>\n",
              "    </tr>\n",
              "  </tbody>\n",
              "</table>\n",
              "</div>"
            ],
            "text/plain": [
              "               Loan Range                           Name        Address             City State    Zip NAICS Code Business Type        Race      Gender      Veteran Non Profit  Jobs Saved       Date                  Bank NAICS Category                                              Title                        description\n",
              "63259  e $150,000-350,000  ADAM J. JANETTE, D.D.S., INC.  1010 PEACH ST  SAN LUIS OBISPO    CA  93401     621111   Corporation  Unanswered  Male Owned  Non-Veteran        NaN          16 2020-04-28  Pacific Western Bank             62  Offices of Physicians (except Mental Health Sp...  Health Care and Social Assistance"
            ]
          },
          "metadata": {
            "tags": []
          },
          "execution_count": 370
        }
      ]
    },
    {
      "cell_type": "code",
      "metadata": {
        "id": "civuGCATta59",
        "colab_type": "code",
        "colab": {
          "base_uri": "https://localhost:8080/",
          "height": 34
        },
        "outputId": "899ed7ef-bddb-4429-b879-152a5f3b8a46"
      },
      "source": [
        "jcount=df.loc[df['Jobs Saved'] == 0]\n",
        "len(jcount)\n",
        "\n"
      ],
      "execution_count": 371,
      "outputs": [
        {
          "output_type": "execute_result",
          "data": {
            "text/plain": [
              "87694"
            ]
          },
          "metadata": {
            "tags": []
          },
          "execution_count": 371
        }
      ]
    },
    {
      "cell_type": "markdown",
      "metadata": {
        "id": "RfrHuDSpI66Q",
        "colab_type": "text"
      },
      "source": [
        "Non Profit Data"
      ]
    },
    {
      "cell_type": "code",
      "metadata": {
        "id": "q_Hy-uX1d4_F",
        "colab_type": "code",
        "colab": {
          "base_uri": "https://localhost:8080/",
          "height": 52
        },
        "outputId": "e4d803c0-3e81-42ee-98f2-5440067994be"
      },
      "source": [
        "df['Non Profit'].value_counts()"
      ],
      "execution_count": 372,
      "outputs": [
        {
          "output_type": "execute_result",
          "data": {
            "text/plain": [
              "Y    42074\n",
              "Name: Non Profit, dtype: int64"
            ]
          },
          "metadata": {
            "tags": []
          },
          "execution_count": 372
        }
      ]
    },
    {
      "cell_type": "code",
      "metadata": {
        "id": "Ag1_LuZyd4i8",
        "colab_type": "code",
        "colab": {
          "base_uri": "https://localhost:8080/",
          "height": 34
        },
        "outputId": "624ef2e5-7819-4cff-ae3f-b07f26a4b223"
      },
      "source": [
        "np_filter=(df[df['Non Profit'] == 'Y'])\n",
        "len(np_filter)"
      ],
      "execution_count": 373,
      "outputs": [
        {
          "output_type": "execute_result",
          "data": {
            "text/plain": [
              "42074"
            ]
          },
          "metadata": {
            "tags": []
          },
          "execution_count": 373
        }
      ]
    },
    {
      "cell_type": "code",
      "metadata": {
        "id": "5zW3kztRFgtg",
        "colab_type": "code",
        "colab": {}
      },
      "source": [
        "# might be interesting to examine the non profit info from all loans, but there isn't enought data\n",
        "#to deal with it here; splitting the np data into a separate csv to be joined later with under 150k info\n",
        "np_filter.to_csv('non_profit_over_150k.csv', index=0)\n",
        "!cp non_profit_over_150k.csv \"drive/My Drive/data\""
      ],
      "execution_count": 374,
      "outputs": []
    },
    {
      "cell_type": "code",
      "metadata": {
        "id": "-hGZ9fyFl-qN",
        "colab_type": "code",
        "colab": {
          "base_uri": "https://localhost:8080/",
          "height": 221
        },
        "outputId": "33eb8022-a688-404e-d5c7-e810d947efae"
      },
      "source": [
        "# drop non profit column. \n",
        "df = df.drop('Non Profit', 1)\n",
        "df.sample()"
      ],
      "execution_count": 375,
      "outputs": [
        {
          "output_type": "execute_result",
          "data": {
            "text/html": [
              "<div>\n",
              "<style scoped>\n",
              "    .dataframe tbody tr th:only-of-type {\n",
              "        vertical-align: middle;\n",
              "    }\n",
              "\n",
              "    .dataframe tbody tr th {\n",
              "        vertical-align: top;\n",
              "    }\n",
              "\n",
              "    .dataframe thead th {\n",
              "        text-align: right;\n",
              "    }\n",
              "</style>\n",
              "<table border=\"1\" class=\"dataframe\">\n",
              "  <thead>\n",
              "    <tr style=\"text-align: right;\">\n",
              "      <th></th>\n",
              "      <th>Loan Range</th>\n",
              "      <th>Name</th>\n",
              "      <th>Address</th>\n",
              "      <th>City</th>\n",
              "      <th>State</th>\n",
              "      <th>Zip</th>\n",
              "      <th>NAICS Code</th>\n",
              "      <th>Business Type</th>\n",
              "      <th>Race</th>\n",
              "      <th>Gender</th>\n",
              "      <th>Veteran</th>\n",
              "      <th>Jobs Saved</th>\n",
              "      <th>Date</th>\n",
              "      <th>Bank</th>\n",
              "      <th>NAICS Category</th>\n",
              "      <th>Title</th>\n",
              "      <th>description</th>\n",
              "    </tr>\n",
              "  </thead>\n",
              "  <tbody>\n",
              "    <tr>\n",
              "      <th>605993</th>\n",
              "      <td>d $350,000-1 million</td>\n",
              "      <td>ASSOCIATION FOR RESEARCH AND ENLIGHTENMENT</td>\n",
              "      <td>215 67th Street</td>\n",
              "      <td>VIRGINIA BEACH</td>\n",
              "      <td>VA</td>\n",
              "      <td>23451</td>\n",
              "      <td>813110</td>\n",
              "      <td>Non-Profit Organization</td>\n",
              "      <td>Unanswered</td>\n",
              "      <td>Unanswered</td>\n",
              "      <td>Unanswered</td>\n",
              "      <td>0</td>\n",
              "      <td>2020-04-30</td>\n",
              "      <td>Truist Bank d/b/a Branch Banking &amp; Trust Co</td>\n",
              "      <td>81</td>\n",
              "      <td>Religious Organizations</td>\n",
              "      <td>NaN</td>\n",
              "    </tr>\n",
              "  </tbody>\n",
              "</table>\n",
              "</div>"
            ],
            "text/plain": [
              "                  Loan Range                                        Name          Address            City State    Zip NAICS Code            Business Type        Race      Gender     Veteran  Jobs Saved       Date                                         Bank NAICS Category                     Title description\n",
              "605993  d $350,000-1 million  ASSOCIATION FOR RESEARCH AND ENLIGHTENMENT  215 67th Street  VIRGINIA BEACH    VA  23451     813110  Non-Profit Organization  Unanswered  Unanswered  Unanswered           0 2020-04-30  Truist Bank d/b/a Branch Banking & Trust Co             81  Religious Organizations          NaN"
            ]
          },
          "metadata": {
            "tags": []
          },
          "execution_count": 375
        }
      ]
    },
    {
      "cell_type": "markdown",
      "metadata": {
        "id": "KGqjEwlItyZo",
        "colab_type": "text"
      },
      "source": [
        "NAICS Codes"
      ]
    },
    {
      "cell_type": "code",
      "metadata": {
        "id": "U48Q1F3jtxFf",
        "colab_type": "code",
        "colab": {
          "base_uri": "https://localhost:8080/",
          "height": 225
        },
        "outputId": "8419cdb9-c906-45e2-e680-9c2b7c28e18b"
      },
      "source": [
        "df['NAICS Code'].value_counts()"
      ],
      "execution_count": 376,
      "outputs": [
        {
          "output_type": "execute_result",
          "data": {
            "text/plain": [
              "722511    33586\n",
              "621111    20884\n",
              "541110    14286\n",
              "238220    13119\n",
              "441110    12689\n",
              "          ...  \n",
              "421120        1\n",
              "315299        1\n",
              "421850        1\n",
              "327111        1\n",
              "313221        1\n",
              "Name: NAICS Code, Length: 1167, dtype: int64"
            ]
          },
          "metadata": {
            "tags": []
          },
          "execution_count": 376
        }
      ]
    },
    {
      "cell_type": "code",
      "metadata": {
        "id": "02zt88vPx5Di",
        "colab_type": "code",
        "colab": {
          "base_uri": "https://localhost:8080/",
          "height": 1000
        },
        "outputId": "41a9db7e-2b37-47ca-a05e-9228ed5fbd18"
      },
      "source": [
        "df['State'].value_counts()"
      ],
      "execution_count": 377,
      "outputs": [
        {
          "output_type": "execute_result",
          "data": {
            "text/plain": [
              "CA    86168\n",
              "TX    51603\n",
              "NY    45471\n",
              "FL    41704\n",
              "IL    26950\n",
              "PA    25835\n",
              "OH    22490\n",
              "NJ    21213\n",
              "MI    19701\n",
              "GA    18156\n",
              "MA    18138\n",
              "NC    16236\n",
              "VA    16111\n",
              "WA    15708\n",
              "MN    13675\n",
              "CO    13247\n",
              "MD    12834\n",
              "WI    12307\n",
              "IN    11738\n",
              "MO    11413\n",
              "TN    11237\n",
              "AZ    11164\n",
              "OR     9138\n",
              "LA     8999\n",
              "CT     8515\n",
              "AL     7857\n",
              "SC     7567\n",
              "OK     6837\n",
              "UT     6664\n",
              "KY     6377\n",
              "IA     5929\n",
              "KS     5850\n",
              "NV     5381\n",
              "AR     4248\n",
              "NE     4175\n",
              "MS     3886\n",
              "NH     3412\n",
              "ID     3295\n",
              "HI     3227\n",
              "NM     2993\n",
              "ME     2833\n",
              "DC     2767\n",
              "RI     2441\n",
              "WV     2296\n",
              "MT     2191\n",
              "ND     2174\n",
              "DE     2052\n",
              "SD     1942\n",
              "PR     1881\n",
              "AK     1641\n",
              "VT     1536\n",
              "WY     1360\n",
              "GU      296\n",
              "VI      171\n",
              "MP       55\n",
              "AS       19\n",
              "XX        4\n",
              "Name: State, dtype: int64"
            ]
          },
          "metadata": {
            "tags": []
          },
          "execution_count": 377
        }
      ]
    },
    {
      "cell_type": "code",
      "metadata": {
        "id": "bVStvxvO46OC",
        "colab_type": "code",
        "colab": {
          "base_uri": "https://localhost:8080/",
          "height": 34
        },
        "outputId": "c9574fa2-b8a7-4611-cdb6-aef847a5a470"
      },
      "source": [
        "df.shape"
      ],
      "execution_count": 378,
      "outputs": [
        {
          "output_type": "execute_result",
          "data": {
            "text/plain": [
              "(653108, 17)"
            ]
          },
          "metadata": {
            "tags": []
          },
          "execution_count": 378
        }
      ]
    },
    {
      "cell_type": "code",
      "metadata": {
        "id": "qjKIwyvKq9_9",
        "colab_type": "code",
        "colab": {
          "base_uri": "https://localhost:8080/",
          "height": 329
        },
        "outputId": "3a934f42-547c-402d-9408-1ce80c0bde55"
      },
      "source": [
        "#check for nulls\n",
        "print(df.isna().sum())"
      ],
      "execution_count": 379,
      "outputs": [
        {
          "output_type": "stream",
          "text": [
            "Loan Range            0\n",
            "Name                  0\n",
            "Address               0\n",
            "City                  0\n",
            "State                 0\n",
            "Zip                   0\n",
            "NAICS Code            0\n",
            "Business Type         0\n",
            "Race                  0\n",
            "Gender                0\n",
            "Veteran               0\n",
            "Jobs Saved            0\n",
            "Date                  0\n",
            "Bank                  0\n",
            "NAICS Category        0\n",
            "Title              5915\n",
            "description       46066\n",
            "dtype: int64\n"
          ],
          "name": "stdout"
        }
      ]
    },
    {
      "cell_type": "code",
      "metadata": {
        "id": "axIzYc-GmMeS",
        "colab_type": "code",
        "colab": {}
      },
      "source": [
        "df.fillna(value=\"no info available\", inplace=True)"
      ],
      "execution_count": 386,
      "outputs": []
    },
    {
      "cell_type": "code",
      "metadata": {
        "id": "Ep5amTyvxbXc",
        "colab_type": "code",
        "colab": {
          "base_uri": "https://localhost:8080/",
          "height": 329
        },
        "outputId": "5a1fb385-79e1-41a7-b686-2ff180d6df86"
      },
      "source": [
        "print(df.isna().sum())"
      ],
      "execution_count": 388,
      "outputs": [
        {
          "output_type": "stream",
          "text": [
            "Loan Range        0\n",
            "Name              0\n",
            "Address           0\n",
            "City              0\n",
            "State             0\n",
            "Zip               0\n",
            "NAICS Code        0\n",
            "Business Type     0\n",
            "Race              0\n",
            "Gender            0\n",
            "Veteran           0\n",
            "Jobs Saved        0\n",
            "Date              0\n",
            "Bank              0\n",
            "NAICS Category    0\n",
            "Title             0\n",
            "description       0\n",
            "dtype: int64\n"
          ],
          "name": "stdout"
        }
      ]
    },
    {
      "cell_type": "code",
      "metadata": {
        "id": "D9A3ryWUqq3I",
        "colab_type": "code",
        "colab": {}
      },
      "source": [
        "# df['States'] = df['States'].str.lstrip(' ', )"
      ],
      "execution_count": 389,
      "outputs": []
    },
    {
      "cell_type": "code",
      "metadata": {
        "id": "6_vm_qeBxpCp",
        "colab_type": "code",
        "colab": {
          "base_uri": "https://localhost:8080/",
          "height": 34
        },
        "outputId": "17e59e79-0735-4bbe-9d44-dee5ad5eca80"
      },
      "source": [
        "df['State'].nunique()"
      ],
      "execution_count": 390,
      "outputs": [
        {
          "output_type": "execute_result",
          "data": {
            "text/plain": [
              "57"
            ]
          },
          "metadata": {
            "tags": []
          },
          "execution_count": 390
        }
      ]
    },
    {
      "cell_type": "code",
      "metadata": {
        "id": "pb-jwIdzf7O7",
        "colab_type": "code",
        "colab": {}
      },
      "source": [
        "# cleaned file of loans under $150k preserving roughly 4 million rows\n",
        "df.to_csv('over_150_cleaned.csv', index=0)\n",
        "!cp over_150_cleaned.csv \"drive/My Drive/\""
      ],
      "execution_count": 391,
      "outputs": []
    }
  ]
}