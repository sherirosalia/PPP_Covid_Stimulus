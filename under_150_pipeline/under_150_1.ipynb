{
  "nbformat": 4,
  "nbformat_minor": 0,
  "metadata": {
    "colab": {
      "name": "clean_ppp.ipynb",
      "provenance": [],
      "collapsed_sections": [],
      "mount_file_id": "1tJkD7-_XFs-2Vt8-GR15APUFyBv8CYDc",
      "authorship_tag": "ABX9TyP4c/aHwCFipgososc8yoG+"
    },
    "kernelspec": {
      "name": "python3",
      "display_name": "Python 3"
    },
    "accelerator": "TPU"
  },
  "cells": [
    {
      "cell_type": "markdown",
      "metadata": {
        "id": "fFabqVyQZ89-",
        "colab_type": "text"
      },
      "source": [
        "Begin clean up of state csv files union and this notebook is mostly seeing what the dataset looks like and dropping columns with very little information."
      ]
    },
    {
      "cell_type": "code",
      "metadata": {
        "id": "1-EZp8zwrzeu",
        "colab_type": "code",
        "colab": {}
      },
      "source": [
        "import pandas as pd\n",
        "import os, sys \n",
        "import io\n",
        "import ee"
      ],
      "execution_count": null,
      "outputs": []
    },
    {
      "cell_type": "code",
      "metadata": {
        "id": "ii3flRP84Xa9",
        "colab_type": "code",
        "colab": {}
      },
      "source": [
        "# !pip install -U -q PyDrive"
      ],
      "execution_count": null,
      "outputs": []
    },
    {
      "cell_type": "code",
      "metadata": {
        "id": "ax45eZXtxQE2",
        "colab_type": "code",
        "colab": {}
      },
      "source": [
        "from google.colab import drive\n",
        "drive.mount('/content/drive')"
      ],
      "execution_count": null,
      "outputs": []
    },
    {
      "cell_type": "code",
      "metadata": {
        "id": "RxhFfrXX0jn0",
        "colab_type": "code",
        "colab": {}
      },
      "source": [
        "path = \"/content/drive/My Drive/data/all_states.csv\" \n"
      ],
      "execution_count": null,
      "outputs": []
    },
    {
      "cell_type": "code",
      "metadata": {
        "id": "tub77oA8j9IA",
        "colab_type": "code",
        "colab": {}
      },
      "source": [
        "#read in with new line separator \n",
        "df = pd.read_csv(path, header=None, sep=\"\\n\")\n",
        "df = df[0].str.split(',', expand=True)"
      ],
      "execution_count": null,
      "outputs": []
    },
    {
      "cell_type": "code",
      "metadata": {
        "id": "roSn8zI93O4a",
        "colab_type": "code",
        "colab": {}
      },
      "source": [
        "df.head()"
      ],
      "execution_count": null,
      "outputs": []
    },
    {
      "cell_type": "code",
      "metadata": {
        "id": "UHhO62K72B9L",
        "colab_type": "code",
        "colab": {}
      },
      "source": [
        "from google.colab import files"
      ],
      "execution_count": null,
      "outputs": []
    },
    {
      "cell_type": "code",
      "metadata": {
        "id": "6yZonhhf7RT2",
        "colab_type": "code",
        "colab": {}
      },
      "source": [
        "#save to csv\n",
        "df.to_csv('data.csv', index=0)\n",
        "!cp data.csv \"drive/My Drive/\"\n"
      ],
      "execution_count": null,
      "outputs": []
    },
    {
      "cell_type": "code",
      "metadata": {
        "id": "L9dDsGiYDugv",
        "colab_type": "code",
        "colab": {}
      },
      "source": [
        "# dc dataframe for cleaning \n",
        "dc=pd.read_csv('/content/data.csv')\n",
        "dc.head()"
      ],
      "execution_count": null,
      "outputs": []
    },
    {
      "cell_type": "markdown",
      "metadata": {
        "id": "XsiN8a5Ojp7j",
        "colab_type": "text"
      },
      "source": [
        "names = list(range(0,N))"
      ]
    },
    {
      "cell_type": "code",
      "metadata": {
        "id": "0AfgecWV1eDf",
        "colab_type": "code",
        "colab": {}
      },
      "source": [
        "pd.set_option('max_colwidth', 800)\n",
        "dc.sample(100)"
      ],
      "execution_count": null,
      "outputs": []
    },
    {
      "cell_type": "code",
      "metadata": {
        "id": "O0YPwlS-edzt",
        "colab_type": "code",
        "colab": {}
      },
      "source": [
        "\n",
        "# dc=dc.dropna(how='all', axis='columns')\n",
        "# dc.head()\n",
        "dc.shape\n",
        "dc.columns.tolist()"
      ],
      "execution_count": null,
      "outputs": []
    },
    {
      "cell_type": "code",
      "metadata": {
        "id": "c74NAwriEyj9",
        "colab_type": "code",
        "colab": {}
      },
      "source": [
        "dc[\"9\"].value_counts()"
      ],
      "execution_count": null,
      "outputs": []
    },
    {
      "cell_type": "code",
      "metadata": {
        "id": "cHTnkXrrqGfv",
        "colab_type": "code",
        "colab": {}
      },
      "source": [
        "dc['27'].value_counts()"
      ],
      "execution_count": null,
      "outputs": []
    },
    {
      "cell_type": "code",
      "metadata": {
        "id": "UuYPEwbfk5GM",
        "colab_type": "code",
        "colab": {}
      },
      "source": [
        "df=dc\n",
        "df.shape"
      ],
      "execution_count": null,
      "outputs": []
    },
    {
      "cell_type": "code",
      "metadata": {
        "id": "zIwv0QIFqPMH",
        "colab_type": "code",
        "colab": {}
      },
      "source": [
        "df['26'].value_counts()"
      ],
      "execution_count": null,
      "outputs": []
    },
    {
      "cell_type": "code",
      "metadata": {
        "id": "Il5TGKmuqUNc",
        "colab_type": "code",
        "colab": {}
      },
      "source": [
        "df['25'].value_counts()"
      ],
      "execution_count": null,
      "outputs": []
    },
    {
      "cell_type": "code",
      "metadata": {
        "id": "3GIVxiTgqYyL",
        "colab_type": "code",
        "colab": {}
      },
      "source": [
        "df['24'].value_counts()"
      ],
      "execution_count": null,
      "outputs": []
    },
    {
      "cell_type": "code",
      "metadata": {
        "id": "APkhGv3zqc4R",
        "colab_type": "code",
        "colab": {}
      },
      "source": [
        "df['23'].value_counts()"
      ],
      "execution_count": null,
      "outputs": []
    },
    {
      "cell_type": "code",
      "metadata": {
        "id": "BpFOLle3qgJR",
        "colab_type": "code",
        "colab": {}
      },
      "source": [
        "print(f'{df[\"22\"].value_counts()}')\n",
        "print(f'{df[\"21\"].value_counts()}')\n",
        "print(f'{df[\"20\"].value_counts()}')\n",
        "print(f'{df[\"19\"].value_counts()}')\n",
        "print(f'{df[\"18\"].value_counts()}')\n",
        "print(f'{df[\"17\"].value_counts()}')\n",
        "print(f'{df[\"16\"].value_counts()}')\n",
        "print(f'{df[\"15\"].value_counts()}')"
      ],
      "execution_count": null,
      "outputs": []
    },
    {
      "cell_type": "code",
      "metadata": {
        "id": "yRauLgfILcYa",
        "colab_type": "code",
        "colab": {}
      },
      "source": [
        "tc=pd.read_csv('/content/data.csv')\n",
        "tc.head()"
      ],
      "execution_count": null,
      "outputs": []
    },
    {
      "cell_type": "code",
      "metadata": {
        "id": "Hl8968euZnXQ",
        "colab_type": "code",
        "colab": {}
      },
      "source": [
        "# sel = tc.drop(tc[tc[\"27\"].notnull()], axis=1, inplace=True)\n",
        "\n",
        "# sel=df.drop(df.loc[df[27]=='GU - 00'].index, inplace=True)\n",
        "\n",
        "# sel.head()\n",
        "\n"
      ],
      "execution_count": null,
      "outputs": []
    },
    {
      "cell_type": "code",
      "metadata": {
        "id": "QOt3WqKqriMV",
        "colab_type": "code",
        "colab": {}
      },
      "source": [
        "tc['27'].value_counts()\n",
        "# sel = tc.drop(tc[tc[\"27\"].notnull()], axis=0, inplace=True)\n",
        "# sel.head()"
      ],
      "execution_count": null,
      "outputs": []
    },
    {
      "cell_type": "code",
      "metadata": {
        "id": "uP_dp08RuhZq",
        "colab_type": "code",
        "colab": {}
      },
      "source": [
        "df = tc[tc['27'] != 'GU - 00']\n"
      ],
      "execution_count": null,
      "outputs": []
    },
    {
      "cell_type": "code",
      "metadata": {
        "id": "B_QzmKN6PazV",
        "colab_type": "code",
        "colab": {}
      },
      "source": [
        "# df.head()\n",
        "df.shape"
      ],
      "execution_count": null,
      "outputs": []
    },
    {
      "cell_type": "code",
      "metadata": {
        "id": "eV3ETapWu-Ba",
        "colab_type": "code",
        "colab": {}
      },
      "source": [
        ""
      ],
      "execution_count": null,
      "outputs": []
    },
    {
      "cell_type": "code",
      "metadata": {
        "id": "-MH1AFLse5Uk",
        "colab_type": "code",
        "colab": {
          "base_uri": "https://localhost:8080/",
          "height": 705
        },
        "outputId": "82c5bf8a-ece5-4aa7-aa7e-ad9ae678943c"
      },
      "source": [
        "#we lost 1 rows, now let's drop null value columns\n",
        "new=df.dropna(axis=1, how='all')\n",
        "new.sample(10)"
      ],
      "execution_count": null,
      "outputs": [
        {
          "output_type": "execute_result",
          "data": {
            "text/html": [
              "<div>\n",
              "<style scoped>\n",
              "    .dataframe tbody tr th:only-of-type {\n",
              "        vertical-align: middle;\n",
              "    }\n",
              "\n",
              "    .dataframe tbody tr th {\n",
              "        vertical-align: top;\n",
              "    }\n",
              "\n",
              "    .dataframe thead th {\n",
              "        text-align: right;\n",
              "    }\n",
              "</style>\n",
              "<table border=\"1\" class=\"dataframe\">\n",
              "  <thead>\n",
              "    <tr style=\"text-align: right;\">\n",
              "      <th></th>\n",
              "      <th>0</th>\n",
              "      <th>1</th>\n",
              "      <th>2</th>\n",
              "      <th>3</th>\n",
              "      <th>4</th>\n",
              "      <th>5</th>\n",
              "      <th>6</th>\n",
              "      <th>7</th>\n",
              "      <th>8</th>\n",
              "      <th>9</th>\n",
              "      <th>10</th>\n",
              "      <th>11</th>\n",
              "      <th>12</th>\n",
              "      <th>13</th>\n",
              "      <th>14</th>\n",
              "      <th>15</th>\n",
              "      <th>16</th>\n",
              "    </tr>\n",
              "  </thead>\n",
              "  <tbody>\n",
              "    <tr>\n",
              "      <th>2668990</th>\n",
              "      <td>7200.0</td>\n",
              "      <td>LOUISVILLE</td>\n",
              "      <td>KY</td>\n",
              "      <td>40206</td>\n",
              "      <td>722320</td>\n",
              "      <td>Corporation</td>\n",
              "      <td>Unanswered</td>\n",
              "      <td>Female Owned</td>\n",
              "      <td>Unanswered</td>\n",
              "      <td>NaN</td>\n",
              "      <td>0</td>\n",
              "      <td>04/29/2020</td>\n",
              "      <td>Truist Bank d/b/a Branch Banking &amp; Trust Co</td>\n",
              "      <td>KY - 03</td>\n",
              "      <td>NaN</td>\n",
              "      <td>NaN</td>\n",
              "      <td>NaN</td>\n",
              "    </tr>\n",
              "    <tr>\n",
              "      <th>2298978</th>\n",
              "      <td>109652.0</td>\n",
              "      <td>JACKSONVILLE BEACH</td>\n",
              "      <td>FL</td>\n",
              "      <td>32250</td>\n",
              "      <td>442299</td>\n",
              "      <td>Corporation</td>\n",
              "      <td>Unanswered</td>\n",
              "      <td>Unanswered</td>\n",
              "      <td>Unanswered</td>\n",
              "      <td>NaN</td>\n",
              "      <td>13</td>\n",
              "      <td>05/06/2020</td>\n",
              "      <td>\"Bank of America</td>\n",
              "      <td>National Association\"</td>\n",
              "      <td>FL - 04</td>\n",
              "      <td>NaN</td>\n",
              "      <td>NaN</td>\n",
              "    </tr>\n",
              "    <tr>\n",
              "      <th>4002511</th>\n",
              "      <td>19195.0</td>\n",
              "      <td>SAN CLEMENTE</td>\n",
              "      <td>CA</td>\n",
              "      <td>92672</td>\n",
              "      <td>561110</td>\n",
              "      <td>Partnership</td>\n",
              "      <td>Unanswered</td>\n",
              "      <td>Unanswered</td>\n",
              "      <td>Unanswered</td>\n",
              "      <td>NaN</td>\n",
              "      <td>2</td>\n",
              "      <td>06/18/2020</td>\n",
              "      <td>MBE Capital Partners</td>\n",
              "      <td>CA - 49</td>\n",
              "      <td>NaN</td>\n",
              "      <td>NaN</td>\n",
              "      <td>NaN</td>\n",
              "    </tr>\n",
              "    <tr>\n",
              "      <th>2953644</th>\n",
              "      <td>24542.0</td>\n",
              "      <td>ROYSE CITY</td>\n",
              "      <td>TX</td>\n",
              "      <td>75189</td>\n",
              "      <td>NaN</td>\n",
              "      <td>Limited  Liability Company(LLC)</td>\n",
              "      <td>Unanswered</td>\n",
              "      <td>Unanswered</td>\n",
              "      <td>Unanswered</td>\n",
              "      <td>NaN</td>\n",
              "      <td>9</td>\n",
              "      <td>05/03/2020</td>\n",
              "      <td>\"Bank of America</td>\n",
              "      <td>National Association\"</td>\n",
              "      <td>TX - 04</td>\n",
              "      <td>NaN</td>\n",
              "      <td>NaN</td>\n",
              "    </tr>\n",
              "    <tr>\n",
              "      <th>3591327</th>\n",
              "      <td>2341.0</td>\n",
              "      <td>HERMITAGE</td>\n",
              "      <td>TN</td>\n",
              "      <td>37076</td>\n",
              "      <td>621399</td>\n",
              "      <td>Independent Contractors</td>\n",
              "      <td>Unanswered</td>\n",
              "      <td>Unanswered</td>\n",
              "      <td>Unanswered</td>\n",
              "      <td>NaN</td>\n",
              "      <td>1</td>\n",
              "      <td>06/13/2020</td>\n",
              "      <td>\"Kabbage</td>\n",
              "      <td>Inc.\"</td>\n",
              "      <td>TN - 05</td>\n",
              "      <td>NaN</td>\n",
              "      <td>NaN</td>\n",
              "    </tr>\n",
              "    <tr>\n",
              "      <th>1721281</th>\n",
              "      <td>3571.0</td>\n",
              "      <td>GILBERT</td>\n",
              "      <td>AZ</td>\n",
              "      <td>85234</td>\n",
              "      <td>621111</td>\n",
              "      <td>Limited  Liability Company(LLC)</td>\n",
              "      <td>Unanswered</td>\n",
              "      <td>Unanswered</td>\n",
              "      <td>Unanswered</td>\n",
              "      <td>NaN</td>\n",
              "      <td>NaN</td>\n",
              "      <td>05/28/2020</td>\n",
              "      <td>Celtic Bank Corporation</td>\n",
              "      <td>AZ - 05</td>\n",
              "      <td>NaN</td>\n",
              "      <td>NaN</td>\n",
              "      <td>NaN</td>\n",
              "    </tr>\n",
              "    <tr>\n",
              "      <th>2675498</th>\n",
              "      <td>1750.0</td>\n",
              "      <td>HOPKINSVILLE</td>\n",
              "      <td>KY</td>\n",
              "      <td>42240</td>\n",
              "      <td>711510</td>\n",
              "      <td>Self-Employed Individuals</td>\n",
              "      <td>Unanswered</td>\n",
              "      <td>Unanswered</td>\n",
              "      <td>Unanswered</td>\n",
              "      <td>NaN</td>\n",
              "      <td>2</td>\n",
              "      <td>05/06/2020</td>\n",
              "      <td>\"Kabbage</td>\n",
              "      <td>Inc.\"</td>\n",
              "      <td>KY - 01</td>\n",
              "      <td>NaN</td>\n",
              "      <td>NaN</td>\n",
              "    </tr>\n",
              "    <tr>\n",
              "      <th>1983812</th>\n",
              "      <td>20832.0</td>\n",
              "      <td>NEW YORK</td>\n",
              "      <td>NY</td>\n",
              "      <td>10031</td>\n",
              "      <td>541890</td>\n",
              "      <td>Independent Contractors</td>\n",
              "      <td>Black or African American</td>\n",
              "      <td>Male Owned</td>\n",
              "      <td>Unanswered</td>\n",
              "      <td>NaN</td>\n",
              "      <td>1</td>\n",
              "      <td>06/26/2020</td>\n",
              "      <td>MBE Capital Partners</td>\n",
              "      <td>NY - 13</td>\n",
              "      <td>NaN</td>\n",
              "      <td>NaN</td>\n",
              "      <td>NaN</td>\n",
              "    </tr>\n",
              "    <tr>\n",
              "      <th>2969723</th>\n",
              "      <td>20833.0</td>\n",
              "      <td>ALLEN</td>\n",
              "      <td>TX</td>\n",
              "      <td>75002</td>\n",
              "      <td>621111</td>\n",
              "      <td>Limited  Liability Company(LLC)</td>\n",
              "      <td>Unanswered</td>\n",
              "      <td>Unanswered</td>\n",
              "      <td>Unanswered</td>\n",
              "      <td>NaN</td>\n",
              "      <td>0</td>\n",
              "      <td>05/04/2020</td>\n",
              "      <td>\"Wells Fargo Bank</td>\n",
              "      <td>National Association\"</td>\n",
              "      <td>TX - 03</td>\n",
              "      <td>NaN</td>\n",
              "      <td>NaN</td>\n",
              "    </tr>\n",
              "    <tr>\n",
              "      <th>2322518</th>\n",
              "      <td>75457.0</td>\n",
              "      <td>WINDERMERE</td>\n",
              "      <td>FL</td>\n",
              "      <td>34786</td>\n",
              "      <td>711510</td>\n",
              "      <td>Corporation</td>\n",
              "      <td>Unanswered</td>\n",
              "      <td>Male Owned</td>\n",
              "      <td>Non-Veteran</td>\n",
              "      <td>NaN</td>\n",
              "      <td>4</td>\n",
              "      <td>05/01/2020</td>\n",
              "      <td>\"JPMorgan Chase Bank</td>\n",
              "      <td>National Association\"</td>\n",
              "      <td>FL - 10</td>\n",
              "      <td>NaN</td>\n",
              "      <td>NaN</td>\n",
              "    </tr>\n",
              "  </tbody>\n",
              "</table>\n",
              "</div>"
            ],
            "text/plain": [
              "                0                   1   2  ...       14   15   16\n",
              "2668990    7200.0          LOUISVILLE  KY  ...      NaN  NaN  NaN\n",
              "2298978  109652.0  JACKSONVILLE BEACH  FL  ...  FL - 04  NaN  NaN\n",
              "4002511   19195.0        SAN CLEMENTE  CA  ...      NaN  NaN  NaN\n",
              "2953644   24542.0          ROYSE CITY  TX  ...  TX - 04  NaN  NaN\n",
              "3591327    2341.0           HERMITAGE  TN  ...  TN - 05  NaN  NaN\n",
              "1721281    3571.0             GILBERT  AZ  ...      NaN  NaN  NaN\n",
              "2675498    1750.0        HOPKINSVILLE  KY  ...  KY - 01  NaN  NaN\n",
              "1983812   20832.0            NEW YORK  NY  ...      NaN  NaN  NaN\n",
              "2969723   20833.0               ALLEN  TX  ...  TX - 03  NaN  NaN\n",
              "2322518   75457.0          WINDERMERE  FL  ...  FL - 10  NaN  NaN\n",
              "\n",
              "[10 rows x 17 columns]"
            ]
          },
          "metadata": {
            "tags": []
          },
          "execution_count": 35
        }
      ]
    },
    {
      "cell_type": "code",
      "metadata": {
        "id": "qnmbStube5ve",
        "colab_type": "code",
        "colab": {
          "base_uri": "https://localhost:8080/",
          "height": 34
        },
        "outputId": "dc88f839-ee3c-400b-9a58-2f71eb6ef8d7"
      },
      "source": [
        "# did not lose any rows\n",
        "new.shape"
      ],
      "execution_count": null,
      "outputs": [
        {
          "output_type": "execute_result",
          "data": {
            "text/plain": [
              "(4224168, 17)"
            ]
          },
          "metadata": {
            "tags": []
          },
          "execution_count": 36
        }
      ]
    },
    {
      "cell_type": "code",
      "metadata": {
        "id": "AAMNxEL7gOPp",
        "colab_type": "code",
        "colab": {}
      },
      "source": [
        "new.to_csv('quasi.csv', index=0)\n",
        "!cp data.csv \"drive/My Drive/\""
      ],
      "execution_count": null,
      "outputs": []
    },
    {
      "cell_type": "code",
      "metadata": {
        "id": "Ox_cNmHTozqO",
        "colab_type": "code",
        "colab": {}
      },
      "source": [
        "quasi=pd.read_csv('quasi.csv')\n",
        "quasi.sample(3)"
      ],
      "execution_count": null,
      "outputs": []
    },
    {
      "cell_type": "code",
      "metadata": {
        "id": "aq7KRefzo6z2",
        "colab_type": "code",
        "colab": {}
      },
      "source": [
        "print(quasi['16'].value_counts())\n",
        "quasi.shape"
      ],
      "execution_count": null,
      "outputs": []
    },
    {
      "cell_type": "code",
      "metadata": {
        "id": "yNXDAjoIe55p",
        "colab_type": "code",
        "colab": {}
      },
      "source": [
        "new=quasi.dropna(axis=1, how='all')\n",
        "new.sample(3)"
      ],
      "execution_count": null,
      "outputs": []
    },
    {
      "cell_type": "code",
      "metadata": {
        "id": "FQlqkDsdgZ9r",
        "colab_type": "code",
        "colab": {}
      },
      "source": [
        "new.shape\n"
      ],
      "execution_count": null,
      "outputs": []
    },
    {
      "cell_type": "code",
      "metadata": {
        "id": "emhMY5Wvetap",
        "colab_type": "code",
        "colab": {}
      },
      "source": [
        "df.to_csv('states.csv', index=False)"
      ],
      "execution_count": null,
      "outputs": []
    },
    {
      "cell_type": "code",
      "metadata": {
        "id": "0vKs4PTdm-Rq",
        "colab_type": "code",
        "colab": {}
      },
      "source": [
        ""
      ],
      "execution_count": null,
      "outputs": []
    },
    {
      "cell_type": "code",
      "metadata": {
        "id": "yV1s-cWYm-s3",
        "colab_type": "code",
        "colab": {}
      },
      "source": [
        ""
      ],
      "execution_count": null,
      "outputs": []
    },
    {
      "cell_type": "markdown",
      "metadata": {
        "id": "3SWJp9wCc4is",
        "colab_type": "text"
      },
      "source": [
        ""
      ]
    },
    {
      "cell_type": "code",
      "metadata": {
        "id": "_OlkS7jKc6m6",
        "colab_type": "code",
        "colab": {}
      },
      "source": [
        "#split the rows into columns one at at time\n",
        "# splitz=df.split(expand=True, pat=\",\")\n",
        "# splitz.head()"
      ],
      "execution_count": null,
      "outputs": []
    },
    {
      "cell_type": "code",
      "metadata": {
        "id": "6r4jG01dAEmV",
        "colab_type": "code",
        "colab": {}
      },
      "source": [
        "df.columns=['Loan Amount', 'State', 'Zipcode', 'NAICS Code', 'Business Type', 'Race, Ethnicity', 'Gender', 'Veteran' , 'Non Profit?', 'Date Approved', 'CD']"
      ],
      "execution_count": null,
      "outputs": []
    },
    {
      "cell_type": "code",
      "metadata": {
        "id": "I8QFFJA8AE3S",
        "colab_type": "code",
        "colab": {}
      },
      "source": [
        "df.head()"
      ],
      "execution_count": null,
      "outputs": []
    },
    {
      "cell_type": "code",
      "metadata": {
        "id": "dM2Fu5SjAFGO",
        "colab_type": "code",
        "colab": {}
      },
      "source": [
        ""
      ],
      "execution_count": null,
      "outputs": []
    }
  ]
}