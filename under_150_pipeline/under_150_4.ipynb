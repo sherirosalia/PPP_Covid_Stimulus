{
  "nbformat": 4,
  "nbformat_minor": 0,
  "metadata": {
    "colab": {
      "name": "un_cat_norm.ipynb",
      "provenance": [],
      "collapsed_sections": [],
      "mount_file_id": "1fYklVWrga-L21DdH9-vW74u0elCmx1nr",
      "authorship_tag": "ABX9TyMBJt7H+PgQSIDSD8IjGzW3"
    },
    "kernelspec": {
      "name": "python3",
      "display_name": "Python 3"
    },
    "accelerator": "GPU"
  },
  "cells": [
    {
      "cell_type": "markdown",
      "metadata": {
        "id": "2oVNvkNYPDV2",
        "colab_type": "text"
      },
      "source": [
        "This workbook cleans up the data in a CSV called people_ppp and appends NAICS code information to it. The results are stored in a CSV called: 'all_loans_under_150k_max_info.csv'\n",
        "\n",
        "\n",
        " "
      ]
    },
    {
      "cell_type": "code",
      "metadata": {
        "id": "8M-oPsMYPGnv",
        "colab_type": "code",
        "colab": {}
      },
      "source": [
        "#import dependencies\n",
        "import pandas as pd\n",
        "import numpy as np\n",
        "from datetime import date, datetime\n",
        "import os, sys \n",
        "import io\n",
        "import ee\n",
        "from functools import reduce\n"
      ],
      "execution_count": null,
      "outputs": []
    },
    {
      "cell_type": "code",
      "metadata": {
        "id": "LBmE4bos1sV2",
        "colab_type": "code",
        "colab": {}
      },
      "source": [
        ""
      ],
      "execution_count": null,
      "outputs": []
    },
    {
      "cell_type": "code",
      "metadata": {
        "id": "IF4fH4hDB5m8",
        "colab_type": "code",
        "colab": {}
      },
      "source": [
        "## set up pandas dataframe using set_options to warn when we are working on a copy instead of ooriginal dataframe\n",
        "pd.set_option('mode.chained_assignment','warn')"
      ],
      "execution_count": null,
      "outputs": []
    },
    {
      "cell_type": "code",
      "metadata": {
        "id": "pf2cFMugB_T9",
        "colab_type": "code",
        "colab": {}
      },
      "source": [
        "# dataframe will display without being truncated\n",
        "pd.set_option('display.max_rows', 150)\n",
        "pd.set_option('display.max_columns', 25)\n",
        "pd.set_option('display.width', 768)"
      ],
      "execution_count": null,
      "outputs": []
    },
    {
      "cell_type": "code",
      "metadata": {
        "id": "ii3flRP84Xa9",
        "colab_type": "code",
        "colab": {}
      },
      "source": [
        "# !pip install -U -q PyDrive"
      ],
      "execution_count": null,
      "outputs": []
    },
    {
      "cell_type": "code",
      "metadata": {
        "id": "ax45eZXtxQE2",
        "colab_type": "code",
        "colab": {
          "base_uri": "https://localhost:8080/",
          "height": 34
        },
        "outputId": "ec13cfbe-0931-481b-907c-41c5c9b3bec7"
      },
      "source": [
        "#mounting the google drive to access the files\n",
        "from google.colab import files\n",
        "from google.colab import drive\n",
        "drive.mount('/content/drive')"
      ],
      "execution_count": null,
      "outputs": [
        {
          "output_type": "stream",
          "text": [
            "Drive already mounted at /content/drive; to attempt to forcibly remount, call drive.mount(\"/content/drive\", force_remount=True).\n"
          ],
          "name": "stdout"
        }
      ]
    },
    {
      "cell_type": "code",
      "metadata": {
        "id": "3Siq-wB9d392",
        "colab_type": "code",
        "colab": {}
      },
      "source": [
        "# command shows file path\n",
        "# ! ls"
      ],
      "execution_count": null,
      "outputs": []
    },
    {
      "cell_type": "code",
      "metadata": {
        "id": "JwyQc3b9d4R-",
        "colab_type": "code",
        "colab": {}
      },
      "source": [
        "n_path = \"/content/drive/My Drive/data/naics-cat.csv\"\n",
        "nf_path = \"/content/drive/My Drive/data/2017-NAICS-Descriptions.csv\""
      ],
      "execution_count": null,
      "outputs": []
    },
    {
      "cell_type": "code",
      "metadata": {
        "id": "lJNe6tuIm-OL",
        "colab_type": "code",
        "colab": {
          "base_uri": "https://localhost:8080/",
          "height": 110
        },
        "outputId": "818239b4-f267-4d69-b962-5dd26025d198"
      },
      "source": [
        "ndf = pd.read_csv( n_path, index_col=0, dtype={'cat':'string'}, na_values = ['<NA>', 'no information'], )\n",
        "ndf.sample()"
      ],
      "execution_count": null,
      "outputs": [
        {
          "output_type": "execute_result",
          "data": {
            "text/html": [
              "<div>\n",
              "<style scoped>\n",
              "    .dataframe tbody tr th:only-of-type {\n",
              "        vertical-align: middle;\n",
              "    }\n",
              "\n",
              "    .dataframe tbody tr th {\n",
              "        vertical-align: top;\n",
              "    }\n",
              "\n",
              "    .dataframe thead th {\n",
              "        text-align: right;\n",
              "    }\n",
              "</style>\n",
              "<table border=\"1\" class=\"dataframe\">\n",
              "  <thead>\n",
              "    <tr style=\"text-align: right;\">\n",
              "      <th></th>\n",
              "      <th>cat</th>\n",
              "      <th>description</th>\n",
              "      <th>biz_count</th>\n",
              "    </tr>\n",
              "    <tr>\n",
              "      <th>id</th>\n",
              "      <th></th>\n",
              "      <th></th>\n",
              "      <th></th>\n",
              "    </tr>\n",
              "  </thead>\n",
              "  <tbody>\n",
              "    <tr>\n",
              "      <th>15</th>\n",
              "      <td>53</td>\n",
              "      <td>Real Estate Rental and Leasing</td>\n",
              "      <td>868526</td>\n",
              "    </tr>\n",
              "  </tbody>\n",
              "</table>\n",
              "</div>"
            ],
            "text/plain": [
              "   cat                     description  biz_count\n",
              "id                                               \n",
              "15  53  Real Estate Rental and Leasing     868526"
            ]
          },
          "metadata": {
            "tags": []
          },
          "execution_count": 238
        }
      ]
    },
    {
      "cell_type": "code",
      "metadata": {
        "id": "ZINBchEo6XCU",
        "colab_type": "code",
        "colab": {
          "base_uri": "https://localhost:8080/",
          "height": 34
        },
        "outputId": "11c83aa8-bfdc-4e3d-eb73-e07bf7e676cb"
      },
      "source": [
        "# Read column names from file\n",
        "cols = list(pd.read_csv(nf_path, nrows =1))\n",
        "print(cols)"
      ],
      "execution_count": null,
      "outputs": [
        {
          "output_type": "stream",
          "text": [
            "['Code', 'Title', 'Description']\n"
          ],
          "name": "stdout"
        }
      ]
    },
    {
      "cell_type": "code",
      "metadata": {
        "id": "wZJ78CRZ6NtC",
        "colab_type": "code",
        "colab": {}
      },
      "source": [
        "# nf_df = pd.read_csv( nf_path, dtype={'Code':'string', 'Title':'string', 'Description':'string'}, na_values = ['<NA>', '.'], )\n",
        "# nf_df.sample()"
      ],
      "execution_count": null,
      "outputs": []
    },
    {
      "cell_type": "code",
      "metadata": {
        "id": "I5A1nCEhHmYZ",
        "colab_type": "code",
        "colab": {
          "base_uri": "https://localhost:8080/",
          "height": 80
        },
        "outputId": "47361470-29f7-447c-c5fe-8fc596f02201"
      },
      "source": [
        "nf_df = pd.read_csv( nf_path, dtype={'Code':'string',},)\n",
        "nf_df.sample()"
      ],
      "execution_count": null,
      "outputs": [
        {
          "output_type": "execute_result",
          "data": {
            "text/html": [
              "<div>\n",
              "<style scoped>\n",
              "    .dataframe tbody tr th:only-of-type {\n",
              "        vertical-align: middle;\n",
              "    }\n",
              "\n",
              "    .dataframe tbody tr th {\n",
              "        vertical-align: top;\n",
              "    }\n",
              "\n",
              "    .dataframe thead th {\n",
              "        text-align: right;\n",
              "    }\n",
              "</style>\n",
              "<table border=\"1\" class=\"dataframe\">\n",
              "  <thead>\n",
              "    <tr style=\"text-align: right;\">\n",
              "      <th></th>\n",
              "      <th>Code</th>\n",
              "      <th>Title</th>\n",
              "      <th>Description</th>\n",
              "    </tr>\n",
              "  </thead>\n",
              "  <tbody>\n",
              "    <tr>\n",
              "      <th>362</th>\n",
              "      <td>31214</td>\n",
              "      <td>DistilleriesT</td>\n",
              "      <td>See industry description for 312140.</td>\n",
              "    </tr>\n",
              "  </tbody>\n",
              "</table>\n",
              "</div>"
            ],
            "text/plain": [
              "      Code           Title                           Description\n",
              "362  31214  DistilleriesT   See industry description for 312140."
            ]
          },
          "metadata": {
            "tags": []
          },
          "execution_count": 241
        }
      ]
    },
    {
      "cell_type": "code",
      "metadata": {
        "id": "bF2icTkE_vfM",
        "colab_type": "code",
        "colab": {
          "base_uri": "https://localhost:8080/",
          "height": 202
        },
        "outputId": "e359d2a8-c7e2-4764-f506-9c0eca065691"
      },
      "source": [
        "nf_df['Description'] = nf_df['Description'].fillna('No information')\n",
        "nf_df.sample(5)"
      ],
      "execution_count": null,
      "outputs": [
        {
          "output_type": "execute_result",
          "data": {
            "text/html": [
              "<div>\n",
              "<style scoped>\n",
              "    .dataframe tbody tr th:only-of-type {\n",
              "        vertical-align: middle;\n",
              "    }\n",
              "\n",
              "    .dataframe tbody tr th {\n",
              "        vertical-align: top;\n",
              "    }\n",
              "\n",
              "    .dataframe thead th {\n",
              "        text-align: right;\n",
              "    }\n",
              "</style>\n",
              "<table border=\"1\" class=\"dataframe\">\n",
              "  <thead>\n",
              "    <tr style=\"text-align: right;\">\n",
              "      <th></th>\n",
              "      <th>Code</th>\n",
              "      <th>Title</th>\n",
              "      <th>Description</th>\n",
              "    </tr>\n",
              "  </thead>\n",
              "  <tbody>\n",
              "    <tr>\n",
              "      <th>578</th>\n",
              "      <td>32721</td>\n",
              "      <td>Glass and Glass Product ManufacturingT</td>\n",
              "      <td>This industry comprises establishments primari...</td>\n",
              "    </tr>\n",
              "    <tr>\n",
              "      <th>1842</th>\n",
              "      <td>6212</td>\n",
              "      <td>Offices of DentistsT</td>\n",
              "      <td>No information</td>\n",
              "    </tr>\n",
              "    <tr>\n",
              "      <th>13</th>\n",
              "      <td>11116</td>\n",
              "      <td>Rice FarmingT</td>\n",
              "      <td>See industry description for 111160.</td>\n",
              "    </tr>\n",
              "    <tr>\n",
              "      <th>621</th>\n",
              "      <td>331318</td>\n",
              "      <td>Other Aluminum Rolling, Drawing, and Extruding</td>\n",
              "      <td>This U.S. industry comprises establishments pr...</td>\n",
              "    </tr>\n",
              "    <tr>\n",
              "      <th>186</th>\n",
              "      <td>221114</td>\n",
              "      <td>Solar Electric Power Generation</td>\n",
              "      <td>This U.S. industry comprises establishments pr...</td>\n",
              "    </tr>\n",
              "  </tbody>\n",
              "</table>\n",
              "</div>"
            ],
            "text/plain": [
              "        Code                                            Title                                        Description\n",
              "578    32721          Glass and Glass Product ManufacturingT   This industry comprises establishments primari...\n",
              "1842    6212                            Offices of DentistsT                                      No information\n",
              "13     11116                                    Rice FarmingT               See industry description for 111160.\n",
              "621   331318  Other Aluminum Rolling, Drawing, and Extruding   This U.S. industry comprises establishments pr...\n",
              "186   221114                 Solar Electric Power Generation   This U.S. industry comprises establishments pr..."
            ]
          },
          "metadata": {
            "tags": []
          },
          "execution_count": 242
        }
      ]
    },
    {
      "cell_type": "code",
      "metadata": {
        "id": "TippHHdVMCMS",
        "colab_type": "code",
        "colab": {
          "base_uri": "https://localhost:8080/",
          "height": 80
        },
        "outputId": "91adec69-b8e9-4ade-8ccd-51fc484cb048"
      },
      "source": [
        "nf_df.rename(columns={'Code': 'NAICS Code',}, inplace=True)\n",
        "nf_df.sample()"
      ],
      "execution_count": null,
      "outputs": [
        {
          "output_type": "execute_result",
          "data": {
            "text/html": [
              "<div>\n",
              "<style scoped>\n",
              "    .dataframe tbody tr th:only-of-type {\n",
              "        vertical-align: middle;\n",
              "    }\n",
              "\n",
              "    .dataframe tbody tr th {\n",
              "        vertical-align: top;\n",
              "    }\n",
              "\n",
              "    .dataframe thead th {\n",
              "        text-align: right;\n",
              "    }\n",
              "</style>\n",
              "<table border=\"1\" class=\"dataframe\">\n",
              "  <thead>\n",
              "    <tr style=\"text-align: right;\">\n",
              "      <th></th>\n",
              "      <th>NAICS Code</th>\n",
              "      <th>Title</th>\n",
              "      <th>Description</th>\n",
              "    </tr>\n",
              "  </thead>\n",
              "  <tbody>\n",
              "    <tr>\n",
              "      <th>1265</th>\n",
              "      <td>4821</td>\n",
              "      <td>Rail TransportationT</td>\n",
              "      <td>No information</td>\n",
              "    </tr>\n",
              "  </tbody>\n",
              "</table>\n",
              "</div>"
            ],
            "text/plain": [
              "     NAICS Code                  Title     Description\n",
              "1265       4821  Rail TransportationT   No information"
            ]
          },
          "metadata": {
            "tags": []
          },
          "execution_count": 243
        }
      ]
    },
    {
      "cell_type": "code",
      "metadata": {
        "id": "096pXrJc7jXe",
        "colab_type": "code",
        "colab": {
          "base_uri": "https://localhost:8080/",
          "height": 86
        },
        "outputId": "14373953-7eb9-4f35-9c3b-afd89ddca9a7"
      },
      "source": [
        "nf_df.dtypes"
      ],
      "execution_count": null,
      "outputs": [
        {
          "output_type": "execute_result",
          "data": {
            "text/plain": [
              "NAICS Code     string\n",
              "Title          object\n",
              "Description    object\n",
              "dtype: object"
            ]
          },
          "metadata": {
            "tags": []
          },
          "execution_count": 244
        }
      ]
    },
    {
      "cell_type": "code",
      "metadata": {
        "id": "AGpzCu_Q8zNl",
        "colab_type": "code",
        "colab": {}
      },
      "source": [
        "# df[weird]\n",
        "for col in nf_df.columns:\n",
        "    weird = (nf_df[[col]].applymap(type) != nf_df[[col]].iloc[0].apply(type)).any(axis=1)\n",
        "    if len(nf_df[weird]) > 0:\n",
        "        print(col)\n"
      ],
      "execution_count": null,
      "outputs": []
    },
    {
      "cell_type": "code",
      "metadata": {
        "id": "uwtc2voD9SLn",
        "colab_type": "code",
        "colab": {}
      },
      "source": [
        "n_path = \"/content/drive/My Drive/data/naics-cat.csv\""
      ],
      "execution_count": null,
      "outputs": []
    },
    {
      "cell_type": "code",
      "metadata": {
        "id": "dA-K68Ic9R4E",
        "colab_type": "code",
        "colab": {
          "base_uri": "https://localhost:8080/",
          "height": 724
        },
        "outputId": "5bb01bc2-f928-4bd0-99f1-be3a1ac71083"
      },
      "source": [
        "n_cats=pd.read_csv(n_path, )\n",
        "n_cats"
      ],
      "execution_count": null,
      "outputs": [
        {
          "output_type": "execute_result",
          "data": {
            "text/html": [
              "<div>\n",
              "<style scoped>\n",
              "    .dataframe tbody tr th:only-of-type {\n",
              "        vertical-align: middle;\n",
              "    }\n",
              "\n",
              "    .dataframe tbody tr th {\n",
              "        vertical-align: top;\n",
              "    }\n",
              "\n",
              "    .dataframe thead th {\n",
              "        text-align: right;\n",
              "    }\n",
              "</style>\n",
              "<table border=\"1\" class=\"dataframe\">\n",
              "  <thead>\n",
              "    <tr style=\"text-align: right;\">\n",
              "      <th></th>\n",
              "      <th>id</th>\n",
              "      <th>cat</th>\n",
              "      <th>description</th>\n",
              "      <th>biz_count</th>\n",
              "    </tr>\n",
              "  </thead>\n",
              "  <tbody>\n",
              "    <tr>\n",
              "      <th>0</th>\n",
              "      <td>1</td>\n",
              "      <td>11</td>\n",
              "      <td>Agriculture Forestry Fishing and Hunting</td>\n",
              "      <td>381477</td>\n",
              "    </tr>\n",
              "    <tr>\n",
              "      <th>1</th>\n",
              "      <td>2</td>\n",
              "      <td>21</td>\n",
              "      <td>Mining</td>\n",
              "      <td>32069</td>\n",
              "    </tr>\n",
              "    <tr>\n",
              "      <th>2</th>\n",
              "      <td>3</td>\n",
              "      <td>22</td>\n",
              "      <td>Utilities</td>\n",
              "      <td>46245</td>\n",
              "    </tr>\n",
              "    <tr>\n",
              "      <th>3</th>\n",
              "      <td>4</td>\n",
              "      <td>23</td>\n",
              "      <td>Construction</td>\n",
              "      <td>1490099</td>\n",
              "    </tr>\n",
              "    <tr>\n",
              "      <th>4</th>\n",
              "      <td>5</td>\n",
              "      <td>31</td>\n",
              "      <td>Manufacturing food related</td>\n",
              "      <td>215000</td>\n",
              "    </tr>\n",
              "    <tr>\n",
              "      <th>5</th>\n",
              "      <td>6</td>\n",
              "      <td>32</td>\n",
              "      <td>Manufacturing soft materials</td>\n",
              "      <td>215000</td>\n",
              "    </tr>\n",
              "    <tr>\n",
              "      <th>6</th>\n",
              "      <td>7</td>\n",
              "      <td>33</td>\n",
              "      <td>Manufacturing hard materials</td>\n",
              "      <td>215000</td>\n",
              "    </tr>\n",
              "    <tr>\n",
              "      <th>7</th>\n",
              "      <td>8</td>\n",
              "      <td>42</td>\n",
              "      <td>Wholesale Trade</td>\n",
              "      <td>697359</td>\n",
              "    </tr>\n",
              "    <tr>\n",
              "      <th>8</th>\n",
              "      <td>9</td>\n",
              "      <td>44</td>\n",
              "      <td>Retail Trade</td>\n",
              "      <td>80000</td>\n",
              "    </tr>\n",
              "    <tr>\n",
              "      <th>9</th>\n",
              "      <td>10</td>\n",
              "      <td>45</td>\n",
              "      <td>Retail Trade</td>\n",
              "      <td>80000</td>\n",
              "    </tr>\n",
              "    <tr>\n",
              "      <th>10</th>\n",
              "      <td>11</td>\n",
              "      <td>48</td>\n",
              "      <td>Transportation and Warehousing</td>\n",
              "      <td>290000</td>\n",
              "    </tr>\n",
              "    <tr>\n",
              "      <th>11</th>\n",
              "      <td>12</td>\n",
              "      <td>49</td>\n",
              "      <td>Transportation and Warehousing</td>\n",
              "      <td>290000</td>\n",
              "    </tr>\n",
              "    <tr>\n",
              "      <th>12</th>\n",
              "      <td>13</td>\n",
              "      <td>51</td>\n",
              "      <td>Information</td>\n",
              "      <td>358572</td>\n",
              "    </tr>\n",
              "    <tr>\n",
              "      <th>13</th>\n",
              "      <td>14</td>\n",
              "      <td>52</td>\n",
              "      <td>Finance and Insurance</td>\n",
              "      <td>782705</td>\n",
              "    </tr>\n",
              "    <tr>\n",
              "      <th>14</th>\n",
              "      <td>15</td>\n",
              "      <td>53</td>\n",
              "      <td>Real Estate Rental and Leasing</td>\n",
              "      <td>868526</td>\n",
              "    </tr>\n",
              "    <tr>\n",
              "      <th>15</th>\n",
              "      <td>16</td>\n",
              "      <td>54</td>\n",
              "      <td>Professional Scientific and Technical Services</td>\n",
              "      <td>2294049</td>\n",
              "    </tr>\n",
              "    <tr>\n",
              "      <th>16</th>\n",
              "      <td>17</td>\n",
              "      <td>55</td>\n",
              "      <td>Management of Companies and Enterprises</td>\n",
              "      <td>70791</td>\n",
              "    </tr>\n",
              "    <tr>\n",
              "      <th>17</th>\n",
              "      <td>18</td>\n",
              "      <td>56</td>\n",
              "      <td>Waste Management and Remediation Services</td>\n",
              "      <td>1647950</td>\n",
              "    </tr>\n",
              "    <tr>\n",
              "      <th>18</th>\n",
              "      <td>19</td>\n",
              "      <td>61</td>\n",
              "      <td>Educational Services</td>\n",
              "      <td>424190</td>\n",
              "    </tr>\n",
              "    <tr>\n",
              "      <th>19</th>\n",
              "      <td>20</td>\n",
              "      <td>62</td>\n",
              "      <td>Health Care and Social Assistance</td>\n",
              "      <td>1745915</td>\n",
              "    </tr>\n",
              "    <tr>\n",
              "      <th>20</th>\n",
              "      <td>21</td>\n",
              "      <td>71</td>\n",
              "      <td>Arts Entertainment and Recreation</td>\n",
              "      <td>369206</td>\n",
              "    </tr>\n",
              "    <tr>\n",
              "      <th>21</th>\n",
              "      <td>22</td>\n",
              "      <td>72</td>\n",
              "      <td>Accommodation and Food Services</td>\n",
              "      <td>907516</td>\n",
              "    </tr>\n",
              "  </tbody>\n",
              "</table>\n",
              "</div>"
            ],
            "text/plain": [
              "    id  cat                                     description  biz_count\n",
              "0    1   11        Agriculture Forestry Fishing and Hunting     381477\n",
              "1    2   21                                          Mining      32069\n",
              "2    3   22                                       Utilities      46245\n",
              "3    4   23                                    Construction    1490099\n",
              "4    5   31                      Manufacturing food related     215000\n",
              "5    6   32                    Manufacturing soft materials     215000\n",
              "6    7   33                    Manufacturing hard materials     215000\n",
              "7    8   42                                 Wholesale Trade     697359\n",
              "8    9   44                                    Retail Trade      80000\n",
              "9   10   45                                    Retail Trade      80000\n",
              "10  11   48                  Transportation and Warehousing     290000\n",
              "11  12   49                  Transportation and Warehousing     290000\n",
              "12  13   51                                     Information     358572\n",
              "13  14   52                           Finance and Insurance     782705\n",
              "14  15   53                  Real Estate Rental and Leasing     868526\n",
              "15  16   54  Professional Scientific and Technical Services    2294049\n",
              "16  17   55         Management of Companies and Enterprises      70791\n",
              "17  18   56       Waste Management and Remediation Services    1647950\n",
              "18  19   61                            Educational Services     424190\n",
              "19  20   62               Health Care and Social Assistance    1745915\n",
              "20  21   71               Arts Entertainment and Recreation     369206\n",
              "21  22   72                 Accommodation and Food Services     907516"
            ]
          },
          "metadata": {
            "tags": []
          },
          "execution_count": 247
        }
      ]
    },
    {
      "cell_type": "code",
      "metadata": {
        "id": "RxhFfrXX0jn0",
        "colab_type": "code",
        "colab": {
          "base_uri": "https://localhost:8080/",
          "height": 54
        },
        "outputId": "4ef24af3-f5d9-426f-b863-1c7b3fe952ae"
      },
      "source": [
        "# filepath\n",
        "csv_path = \"/content/drive/My Drive/clean_ppp.csv\"\n",
        "\n",
        "# Read column names from file\n",
        "cols = list(pd.read_csv(csv_path, nrows =1))\n",
        "print(cols)\n"
      ],
      "execution_count": null,
      "outputs": [
        {
          "output_type": "stream",
          "text": [
            "['Loan Amount', 'City', 'State', 'Zip', 'NAICS Code', 'Business Type', 'Race', 'Gender', 'Veteran', 'Jobs Saved', 'Date', 'Bank', 'NAICS Category']\n"
          ],
          "name": "stdout"
        }
      ]
    },
    {
      "cell_type": "code",
      "metadata": {
        "id": "tub77oA8j9IA",
        "colab_type": "code",
        "colab": {}
      },
      "source": [
        "#read the csv, create dataframe\n",
        "# df = pd.read_csv(path,)\n",
        "# df = pd.read_csv( path, na_values = ['no info', '.'], )\n",
        "df = pd.read_csv(csv_path, index_col=False, dtype={'Jobs Saved':str, 'NAICS Code': str, 'Zip': str, \"NAICS Category\":str, }, parse_dates=[10])"
      ],
      "execution_count": null,
      "outputs": []
    },
    {
      "cell_type": "code",
      "metadata": {
        "id": "NpIa3AwLarWJ",
        "colab_type": "code",
        "colab": {
          "base_uri": "https://localhost:8080/",
          "height": 34
        },
        "outputId": "a50aaf0d-e61a-4b23-9556-151df6ffaa36"
      },
      "source": [
        "df.shape"
      ],
      "execution_count": null,
      "outputs": [
        {
          "output_type": "execute_result",
          "data": {
            "text/plain": [
              "(4093555, 13)"
            ]
          },
          "metadata": {
            "tags": []
          },
          "execution_count": 250
        }
      ]
    },
    {
      "cell_type": "code",
      "metadata": {
        "id": "hv1dF_OPY-Cz",
        "colab_type": "code",
        "colab": {
          "base_uri": "https://localhost:8080/",
          "height": 34
        },
        "outputId": "c1e2d6f7-fbc2-4000-b030-562a5b242108"
      },
      "source": [
        "# look for uneven datatypes results of cell will show Zip, Jobs Saved and Date\n",
        "for col in df.columns:\n",
        "    weird = (df[[col]].applymap(type) != df[[col]].iloc[0].apply(type)).any(axis=1)\n",
        "    if len(df[weird]) > 0:\n",
        "        print(col)"
      ],
      "execution_count": null,
      "outputs": [
        {
          "output_type": "stream",
          "text": [
            "Date\n"
          ],
          "name": "stdout"
        }
      ]
    },
    {
      "cell_type": "code",
      "metadata": {
        "id": "agd1eVzgMcv1",
        "colab_type": "code",
        "colab": {
          "base_uri": "https://localhost:8080/",
          "height": 114
        },
        "outputId": "05b2510c-b3e0-4e1f-dfcf-e94e06e6eff8"
      },
      "source": [
        "df.sample()\n"
      ],
      "execution_count": null,
      "outputs": [
        {
          "output_type": "execute_result",
          "data": {
            "text/html": [
              "<div>\n",
              "<style scoped>\n",
              "    .dataframe tbody tr th:only-of-type {\n",
              "        vertical-align: middle;\n",
              "    }\n",
              "\n",
              "    .dataframe tbody tr th {\n",
              "        vertical-align: top;\n",
              "    }\n",
              "\n",
              "    .dataframe thead th {\n",
              "        text-align: right;\n",
              "    }\n",
              "</style>\n",
              "<table border=\"1\" class=\"dataframe\">\n",
              "  <thead>\n",
              "    <tr style=\"text-align: right;\">\n",
              "      <th></th>\n",
              "      <th>Loan Amount</th>\n",
              "      <th>City</th>\n",
              "      <th>State</th>\n",
              "      <th>Zip</th>\n",
              "      <th>NAICS Code</th>\n",
              "      <th>Business Type</th>\n",
              "      <th>Race</th>\n",
              "      <th>Gender</th>\n",
              "      <th>Veteran</th>\n",
              "      <th>Jobs Saved</th>\n",
              "      <th>Date</th>\n",
              "      <th>Bank</th>\n",
              "      <th>NAICS Category</th>\n",
              "    </tr>\n",
              "  </thead>\n",
              "  <tbody>\n",
              "    <tr>\n",
              "      <th>3663573</th>\n",
              "      <td>80843.0</td>\n",
              "      <td>LOS ANGELES</td>\n",
              "      <td>CA</td>\n",
              "      <td>90004</td>\n",
              "      <td>445291</td>\n",
              "      <td>Corporation</td>\n",
              "      <td>Unanswered</td>\n",
              "      <td>Unanswered</td>\n",
              "      <td>Unanswered</td>\n",
              "      <td>1</td>\n",
              "      <td>2020-05-03</td>\n",
              "      <td>Wells Fargo Bank</td>\n",
              "      <td>44</td>\n",
              "    </tr>\n",
              "  </tbody>\n",
              "</table>\n",
              "</div>"
            ],
            "text/plain": [
              "         Loan Amount         City State    Zip NAICS Code Business Type        Race      Gender     Veteran Jobs Saved       Date              Bank NAICS Category\n",
              "3663573      80843.0  LOS ANGELES    CA  90004     445291   Corporation  Unanswered  Unanswered  Unanswered          1 2020-05-03  Wells Fargo Bank             44"
            ]
          },
          "metadata": {
            "tags": []
          },
          "execution_count": 252
        }
      ]
    },
    {
      "cell_type": "code",
      "metadata": {
        "id": "gz_PjJOP2jvT",
        "colab_type": "code",
        "colab": {}
      },
      "source": [
        "df['Jobs Saved'] = pd.to_numeric(df['Jobs Saved'], errors='coerce')"
      ],
      "execution_count": null,
      "outputs": []
    },
    {
      "cell_type": "code",
      "metadata": {
        "id": "D1DgAx9R3Kcd",
        "colab_type": "code",
        "colab": {}
      },
      "source": [
        "df['Date']= pd.to_datetime(df['Date'], infer_datetime_format=True,) "
      ],
      "execution_count": null,
      "outputs": []
    },
    {
      "cell_type": "code",
      "metadata": {
        "id": "DxNPrbmp4hZ9",
        "colab_type": "code",
        "colab": {}
      },
      "source": [
        "# df['Date'].value_counts()"
      ],
      "execution_count": null,
      "outputs": []
    },
    {
      "cell_type": "code",
      "metadata": {
        "id": "xZfUCeFd3KWR",
        "colab_type": "code",
        "colab": {
          "base_uri": "https://localhost:8080/",
          "height": 34
        },
        "outputId": "fba5f09e-dbc9-4a69-8622-f262352d9035"
      },
      "source": [
        "# look for uneven datatypes results of cell will show Zip, Jobs Saved and Date\n",
        "for col in df.columns:\n",
        "    weird = (df[[col]].applymap(type) != df[[col]].iloc[0].apply(type)).any(axis=1)\n",
        "    if len(df[weird]) > 0:\n",
        "        print(col)"
      ],
      "execution_count": null,
      "outputs": [
        {
          "output_type": "stream",
          "text": [
            "Date\n"
          ],
          "name": "stdout"
        }
      ]
    },
    {
      "cell_type": "code",
      "metadata": {
        "id": "MTaIOheV8Fz-",
        "colab_type": "code",
        "colab": {}
      },
      "source": [
        "# df.loc[:,'NAICS Code'] = df.loc[:, 'NAICS Code'].astype(str)"
      ],
      "execution_count": null,
      "outputs": []
    },
    {
      "cell_type": "code",
      "metadata": {
        "id": "CDfRLAtoZEir",
        "colab_type": "code",
        "colab": {}
      },
      "source": [
        "# df.loc[:,'Zip'] = df.loc[:, 'Zip'].astype(str)"
      ],
      "execution_count": null,
      "outputs": []
    },
    {
      "cell_type": "code",
      "metadata": {
        "id": "6R4OYAoB1RMx",
        "colab_type": "code",
        "colab": {}
      },
      "source": [
        "df['Jobs Saved'] = pd.to_numeric(df.loc[:,'Jobs Saved'],errors='coerce')"
      ],
      "execution_count": null,
      "outputs": []
    },
    {
      "cell_type": "code",
      "metadata": {
        "id": "xR3p8Ap_y4Qd",
        "colab_type": "code",
        "colab": {}
      },
      "source": [
        "# df.loc[:,'Jobs Saved'] = df.loc[:, 'Jobs Saved'].str.strip('.0')"
      ],
      "execution_count": null,
      "outputs": []
    },
    {
      "cell_type": "code",
      "metadata": {
        "id": "B_fFPyJpVTBq",
        "colab_type": "code",
        "colab": {}
      },
      "source": [
        "# df.loc[:,'Jobs Saved'] = df.loc[:, 'Jobs Saved'].astype(int)"
      ],
      "execution_count": null,
      "outputs": []
    },
    {
      "cell_type": "code",
      "metadata": {
        "id": "tygTrFLiXInw",
        "colab_type": "code",
        "colab": {}
      },
      "source": [
        "#somewhat forcing the date conversion because there must be some values that are not in date format \n",
        "df.loc[:,'Date'] =  pd.to_datetime(df.loc[:,'Date'], errors='coerce', )"
      ],
      "execution_count": null,
      "outputs": []
    },
    {
      "cell_type": "code",
      "metadata": {
        "id": "SJp2zU1K0-FI",
        "colab_type": "code",
        "colab": {
          "base_uri": "https://localhost:8080/",
          "height": 260
        },
        "outputId": "ad8ab7c4-d8ff-4391-fee8-133487a4dbbf"
      },
      "source": [
        "df.dtypes"
      ],
      "execution_count": null,
      "outputs": [
        {
          "output_type": "execute_result",
          "data": {
            "text/plain": [
              "Loan Amount              float64\n",
              "City                      object\n",
              "State                     object\n",
              "Zip                       object\n",
              "NAICS Code                object\n",
              "Business Type             object\n",
              "Race                      object\n",
              "Gender                    object\n",
              "Veteran                   object\n",
              "Jobs Saved               float64\n",
              "Date              datetime64[ns]\n",
              "Bank                      object\n",
              "NAICS Category            object\n",
              "dtype: object"
            ]
          },
          "metadata": {
            "tags": []
          },
          "execution_count": 263
        }
      ]
    },
    {
      "cell_type": "code",
      "metadata": {
        "id": "XjQZj90rW4aJ",
        "colab_type": "code",
        "colab": {
          "base_uri": "https://localhost:8080/",
          "height": 260
        },
        "outputId": "24ad46a5-a56a-4607-85c1-b32ae7c3e665"
      },
      "source": [
        "# check for nulls\n",
        "print(df.isna().sum())"
      ],
      "execution_count": null,
      "outputs": [
        {
          "output_type": "stream",
          "text": [
            "Loan Amount         0\n",
            "City                0\n",
            "State               0\n",
            "Zip                 0\n",
            "NAICS Code          0\n",
            "Business Type       0\n",
            "Race                0\n",
            "Gender              0\n",
            "Veteran             0\n",
            "Jobs Saved         14\n",
            "Date              467\n",
            "Bank                0\n",
            "NAICS Category      0\n",
            "dtype: int64\n"
          ],
          "name": "stdout"
        }
      ]
    },
    {
      "cell_type": "code",
      "metadata": {
        "id": "oyjzbtIqaX9v",
        "colab_type": "code",
        "colab": {
          "base_uri": "https://localhost:8080/",
          "height": 114
        },
        "outputId": "eb97d95b-2ea8-46ee-e36d-ab9fbb8bc1f5"
      },
      "source": [
        "df.dropna(inplace=True)\n",
        "df.sample()"
      ],
      "execution_count": null,
      "outputs": [
        {
          "output_type": "execute_result",
          "data": {
            "text/html": [
              "<div>\n",
              "<style scoped>\n",
              "    .dataframe tbody tr th:only-of-type {\n",
              "        vertical-align: middle;\n",
              "    }\n",
              "\n",
              "    .dataframe tbody tr th {\n",
              "        vertical-align: top;\n",
              "    }\n",
              "\n",
              "    .dataframe thead th {\n",
              "        text-align: right;\n",
              "    }\n",
              "</style>\n",
              "<table border=\"1\" class=\"dataframe\">\n",
              "  <thead>\n",
              "    <tr style=\"text-align: right;\">\n",
              "      <th></th>\n",
              "      <th>Loan Amount</th>\n",
              "      <th>City</th>\n",
              "      <th>State</th>\n",
              "      <th>Zip</th>\n",
              "      <th>NAICS Code</th>\n",
              "      <th>Business Type</th>\n",
              "      <th>Race</th>\n",
              "      <th>Gender</th>\n",
              "      <th>Veteran</th>\n",
              "      <th>Jobs Saved</th>\n",
              "      <th>Date</th>\n",
              "      <th>Bank</th>\n",
              "      <th>NAICS Category</th>\n",
              "    </tr>\n",
              "  </thead>\n",
              "  <tbody>\n",
              "    <tr>\n",
              "      <th>3068672</th>\n",
              "      <td>7740.63</td>\n",
              "      <td>HONOLULU</td>\n",
              "      <td>HI</td>\n",
              "      <td>96814</td>\n",
              "      <td>812112</td>\n",
              "      <td>Corporation</td>\n",
              "      <td>Unanswered</td>\n",
              "      <td>Unanswered</td>\n",
              "      <td>Unanswered</td>\n",
              "      <td>1.0</td>\n",
              "      <td>2020-05-26</td>\n",
              "      <td>Celtic Bank Corporation</td>\n",
              "      <td>81</td>\n",
              "    </tr>\n",
              "  </tbody>\n",
              "</table>\n",
              "</div>"
            ],
            "text/plain": [
              "         Loan Amount      City State    Zip NAICS Code Business Type        Race      Gender     Veteran  Jobs Saved       Date                     Bank NAICS Category\n",
              "3068672      7740.63  HONOLULU    HI  96814     812112   Corporation  Unanswered  Unanswered  Unanswered         1.0 2020-05-26  Celtic Bank Corporation             81"
            ]
          },
          "metadata": {
            "tags": []
          },
          "execution_count": 265
        }
      ]
    },
    {
      "cell_type": "code",
      "metadata": {
        "id": "RkRXIlctbsiY",
        "colab_type": "code",
        "colab": {
          "base_uri": "https://localhost:8080/",
          "height": 260
        },
        "outputId": "b7b71bdd-a0d9-493b-bfba-25ab32b9f086"
      },
      "source": [
        "print(df.isna().sum())"
      ],
      "execution_count": null,
      "outputs": [
        {
          "output_type": "stream",
          "text": [
            "Loan Amount       0\n",
            "City              0\n",
            "State             0\n",
            "Zip               0\n",
            "NAICS Code        0\n",
            "Business Type     0\n",
            "Race              0\n",
            "Gender            0\n",
            "Veteran           0\n",
            "Jobs Saved        0\n",
            "Date              0\n",
            "Bank              0\n",
            "NAICS Category    0\n",
            "dtype: int64\n"
          ],
          "name": "stdout"
        }
      ]
    },
    {
      "cell_type": "code",
      "metadata": {
        "id": "MCsTn80NW4od",
        "colab_type": "code",
        "colab": {}
      },
      "source": [
        "#verify that data types are consistent\n",
        "for col in df.columns:\n",
        "    weird = (df[[col]].applymap(type) != df[[col]].iloc[0].apply(type)).any(axis=1)\n",
        "    if len(df[weird]) > 0:\n",
        "        print(col)"
      ],
      "execution_count": null,
      "outputs": []
    },
    {
      "cell_type": "code",
      "metadata": {
        "id": "8Yzwzh4uW5BY",
        "colab_type": "code",
        "colab": {}
      },
      "source": [
        "# weird = (df.applymap(type) != df.iloc[0].apply(type)).any(axis=1)\n",
        "# df[weird]"
      ],
      "execution_count": null,
      "outputs": []
    },
    {
      "cell_type": "code",
      "metadata": {
        "id": "dkvMTBs_1HGo",
        "colab_type": "code",
        "colab": {}
      },
      "source": [
        "# #check for nulls\n",
        "# print(df.isna().sum())\n"
      ],
      "execution_count": null,
      "outputs": []
    },
    {
      "cell_type": "code",
      "metadata": {
        "id": "HJVbd_TzOaCm",
        "colab_type": "code",
        "colab": {
          "base_uri": "https://localhost:8080/",
          "height": 34
        },
        "outputId": "9fa93ba5-fe67-4683-a80b-22de8f265952"
      },
      "source": [
        "#verified\n",
        "df.shape"
      ],
      "execution_count": null,
      "outputs": [
        {
          "output_type": "execute_result",
          "data": {
            "text/plain": [
              "(4093088, 13)"
            ]
          },
          "metadata": {
            "tags": []
          },
          "execution_count": 270
        }
      ]
    },
    {
      "cell_type": "code",
      "metadata": {
        "id": "R9fLan4eN80K",
        "colab_type": "code",
        "colab": {
          "base_uri": "https://localhost:8080/",
          "height": 364
        },
        "outputId": "e584b8ff-fd9c-46a1-bf6c-e45e4650704c"
      },
      "source": [
        "#take the first two letters of the NAICS code column and create category column. \n",
        "#category column can be matched to named values. The longer code was impractical\n",
        "df['NAICS Category'] = df['NAICS Code'].str[:2].astype(str)\n",
        "df.info()"
      ],
      "execution_count": null,
      "outputs": [
        {
          "output_type": "stream",
          "text": [
            "<class 'pandas.core.frame.DataFrame'>\n",
            "Int64Index: 4093088 entries, 0 to 4093554\n",
            "Data columns (total 13 columns):\n",
            " #   Column          Dtype         \n",
            "---  ------          -----         \n",
            " 0   Loan Amount     float64       \n",
            " 1   City            object        \n",
            " 2   State           object        \n",
            " 3   Zip             object        \n",
            " 4   NAICS Code      object        \n",
            " 5   Business Type   object        \n",
            " 6   Race            object        \n",
            " 7   Gender          object        \n",
            " 8   Veteran         object        \n",
            " 9   Jobs Saved      float64       \n",
            " 10  Date            datetime64[ns]\n",
            " 11  Bank            object        \n",
            " 12  NAICS Category  object        \n",
            "dtypes: datetime64[ns](1), float64(2), object(10)\n",
            "memory usage: 437.2+ MB\n"
          ],
          "name": "stdout"
        }
      ]
    },
    {
      "cell_type": "code",
      "metadata": {
        "id": "hhE1td1sB-KN",
        "colab_type": "code",
        "colab": {}
      },
      "source": [
        "#create new column for NAICS code description\n",
        "#take the first two letters of the NAICS code column and create category column. \n",
        "#category column can be matched to named values. The longer code was impractical\n",
        "# df['NAICS Code Description'] = df['NAICS Code'].astype(str)\n",
        "# df.info()"
      ],
      "execution_count": null,
      "outputs": []
    },
    {
      "cell_type": "code",
      "metadata": {
        "id": "mZ802ti2rAvR",
        "colab_type": "code",
        "colab": {}
      },
      "source": [
        "# df.sample()"
      ],
      "execution_count": null,
      "outputs": []
    },
    {
      "cell_type": "code",
      "metadata": {
        "id": "Is9jnIOCHvCu",
        "colab_type": "code",
        "colab": {
          "base_uri": "https://localhost:8080/",
          "height": 225
        },
        "outputId": "950cb7f5-39f3-495d-b53d-89eac3370d34"
      },
      "source": [
        "banks=df.loc[:,'Bank'].value_counts()\n",
        "banks"
      ],
      "execution_count": null,
      "outputs": [
        {
          "output_type": "execute_result",
          "data": {
            "text/plain": [
              "Bank of America            286970\n",
              "JPMorgan Chase Bank        197840\n",
              "Wells Fargo Bank           164726\n",
              "Celtic Bank Corporation    138170\n",
              "Cross River Bank           123385\n",
              "                            ...  \n",
              "Muskogee FCU                    2\n",
              "Antioch Community FCU           2\n",
              "Access CU                       2\n",
              "Atascosa Bank                   2\n",
              "Bank of New Cambria             2\n",
              "Name: Bank, Length: 4805, dtype: int64"
            ]
          },
          "metadata": {
            "tags": []
          },
          "execution_count": 274
        }
      ]
    },
    {
      "cell_type": "code",
      "metadata": {
        "id": "zieverq-Hu9U",
        "colab_type": "code",
        "colab": {
          "base_uri": "https://localhost:8080/",
          "height": 52
        },
        "outputId": "97908bb2-1fe2-4c7a-af74-a432ec3ddf1c"
      },
      "source": [
        "banks.sample()"
      ],
      "execution_count": null,
      "outputs": [
        {
          "output_type": "execute_result",
          "data": {
            "text/plain": [
              "First Federal Bank Littlefield    40\n",
              "Name: Bank, dtype: int64"
            ]
          },
          "metadata": {
            "tags": []
          },
          "execution_count": 275
        }
      ]
    },
    {
      "cell_type": "code",
      "metadata": {
        "id": "1uan44JyJJKN",
        "colab_type": "code",
        "colab": {}
      },
      "source": [
        "# df['Bank'].where(df['Bank'].apply(lambda x:(x.value_counts()))>=500, \"other\")"
      ],
      "execution_count": null,
      "outputs": []
    },
    {
      "cell_type": "code",
      "metadata": {
        "id": "SdxH6WIwJJDG",
        "colab_type": "code",
        "colab": {
          "base_uri": "https://localhost:8080/",
          "height": 69
        },
        "outputId": "176041ca-b204-4673-bee1-a2eef77c364f"
      },
      "source": [
        "cond = df['Bank'].value_counts()\n",
        "threshold = 500\n",
        "other = np.where(df['Bank'].isin(cond.index[cond >= threshold ]), df['Bank'], 'miscellaneous')\n",
        "other"
      ],
      "execution_count": null,
      "outputs": [
        {
          "output_type": "execute_result",
          "data": {
            "text/plain": [
              "array(['Country Club Bank', 'miscellaneous', 'miscellaneous', ...,\n",
              "       'Bank of America', 'Bank of America', 'Wells Fargo Bank'],\n",
              "      dtype=object)"
            ]
          },
          "metadata": {
            "tags": []
          },
          "execution_count": 277
        }
      ]
    },
    {
      "cell_type": "code",
      "metadata": {
        "id": "ES6YUvUEJI8d",
        "colab_type": "code",
        "colab": {}
      },
      "source": [
        "# df['Bank'].value_counts()"
      ],
      "execution_count": null,
      "outputs": []
    },
    {
      "cell_type": "code",
      "metadata": {
        "id": "HKIG7qEoJIlg",
        "colab_type": "code",
        "colab": {}
      },
      "source": [
        "# isit = df[df['Bank'] == '05/21/2020 ']\n",
        "# isit"
      ],
      "execution_count": null,
      "outputs": []
    },
    {
      "cell_type": "code",
      "metadata": {
        "id": "YSQky0QYrlLT",
        "colab_type": "code",
        "colab": {}
      },
      "source": [
        "# df.sample()"
      ],
      "execution_count": null,
      "outputs": []
    },
    {
      "cell_type": "code",
      "metadata": {
        "id": "aGk9Az-Trwp3",
        "colab_type": "code",
        "colab": {
          "base_uri": "https://localhost:8080/",
          "height": 114
        },
        "outputId": "c29715e6-1221-40a1-e2bd-d2891c4de1b5"
      },
      "source": [
        "df.sample()"
      ],
      "execution_count": null,
      "outputs": [
        {
          "output_type": "execute_result",
          "data": {
            "text/html": [
              "<div>\n",
              "<style scoped>\n",
              "    .dataframe tbody tr th:only-of-type {\n",
              "        vertical-align: middle;\n",
              "    }\n",
              "\n",
              "    .dataframe tbody tr th {\n",
              "        vertical-align: top;\n",
              "    }\n",
              "\n",
              "    .dataframe thead th {\n",
              "        text-align: right;\n",
              "    }\n",
              "</style>\n",
              "<table border=\"1\" class=\"dataframe\">\n",
              "  <thead>\n",
              "    <tr style=\"text-align: right;\">\n",
              "      <th></th>\n",
              "      <th>Loan Amount</th>\n",
              "      <th>City</th>\n",
              "      <th>State</th>\n",
              "      <th>Zip</th>\n",
              "      <th>NAICS Code</th>\n",
              "      <th>Business Type</th>\n",
              "      <th>Race</th>\n",
              "      <th>Gender</th>\n",
              "      <th>Veteran</th>\n",
              "      <th>Jobs Saved</th>\n",
              "      <th>Date</th>\n",
              "      <th>Bank</th>\n",
              "      <th>NAICS Category</th>\n",
              "    </tr>\n",
              "  </thead>\n",
              "  <tbody>\n",
              "    <tr>\n",
              "      <th>253598</th>\n",
              "      <td>5100.0</td>\n",
              "      <td>ROCKFORD</td>\n",
              "      <td>IL</td>\n",
              "      <td>61114</td>\n",
              "      <td>23821</td>\n",
              "      <td>Corporation</td>\n",
              "      <td>Unanswered</td>\n",
              "      <td>Unanswered</td>\n",
              "      <td>Unanswered</td>\n",
              "      <td>1.0</td>\n",
              "      <td>2020-04-11</td>\n",
              "      <td>Illinois Bank &amp; Trust</td>\n",
              "      <td>23</td>\n",
              "    </tr>\n",
              "  </tbody>\n",
              "</table>\n",
              "</div>"
            ],
            "text/plain": [
              "        Loan Amount      City State    Zip NAICS Code Business Type        Race      Gender     Veteran  Jobs Saved       Date                   Bank NAICS Category\n",
              "253598       5100.0  ROCKFORD    IL  61114      23821   Corporation  Unanswered  Unanswered  Unanswered         1.0 2020-04-11  Illinois Bank & Trust             23"
            ]
          },
          "metadata": {
            "tags": []
          },
          "execution_count": 281
        }
      ]
    },
    {
      "cell_type": "code",
      "metadata": {
        "id": "l1oiN-9RlLOI",
        "colab_type": "code",
        "colab": {
          "base_uri": "https://localhost:8080/",
          "height": 260
        },
        "outputId": "422bc1ff-d397-4c7e-9084-2c5b3de1ad3b"
      },
      "source": [
        "#  df= df.groupby('NAICS Category').filter(lambda x: len(x) >= 5)\n",
        "df.dtypes"
      ],
      "execution_count": null,
      "outputs": [
        {
          "output_type": "execute_result",
          "data": {
            "text/plain": [
              "Loan Amount              float64\n",
              "City                      object\n",
              "State                     object\n",
              "Zip                       object\n",
              "NAICS Code                object\n",
              "Business Type             object\n",
              "Race                      object\n",
              "Gender                    object\n",
              "Veteran                   object\n",
              "Jobs Saved               float64\n",
              "Date              datetime64[ns]\n",
              "Bank                      object\n",
              "NAICS Category            object\n",
              "dtype: object"
            ]
          },
          "metadata": {
            "tags": []
          },
          "execution_count": 282
        }
      ]
    },
    {
      "cell_type": "code",
      "metadata": {
        "id": "YIQCEhNfuqpy",
        "colab_type": "code",
        "colab": {
          "base_uri": "https://localhost:8080/",
          "height": 114
        },
        "outputId": "3d9c2990-7592-4a96-c01b-1a1d8e5d6e3e"
      },
      "source": [
        "# df.dropna(inplace=True)\n",
        "df.head(1)"
      ],
      "execution_count": null,
      "outputs": [
        {
          "output_type": "execute_result",
          "data": {
            "text/html": [
              "<div>\n",
              "<style scoped>\n",
              "    .dataframe tbody tr th:only-of-type {\n",
              "        vertical-align: middle;\n",
              "    }\n",
              "\n",
              "    .dataframe tbody tr th {\n",
              "        vertical-align: top;\n",
              "    }\n",
              "\n",
              "    .dataframe thead th {\n",
              "        text-align: right;\n",
              "    }\n",
              "</style>\n",
              "<table border=\"1\" class=\"dataframe\">\n",
              "  <thead>\n",
              "    <tr style=\"text-align: right;\">\n",
              "      <th></th>\n",
              "      <th>Loan Amount</th>\n",
              "      <th>City</th>\n",
              "      <th>State</th>\n",
              "      <th>Zip</th>\n",
              "      <th>NAICS Code</th>\n",
              "      <th>Business Type</th>\n",
              "      <th>Race</th>\n",
              "      <th>Gender</th>\n",
              "      <th>Veteran</th>\n",
              "      <th>Jobs Saved</th>\n",
              "      <th>Date</th>\n",
              "      <th>Bank</th>\n",
              "      <th>NAICS Category</th>\n",
              "    </tr>\n",
              "  </thead>\n",
              "  <tbody>\n",
              "    <tr>\n",
              "      <th>0</th>\n",
              "      <td>149961.0</td>\n",
              "      <td>KANSAS CITY</td>\n",
              "      <td>MO</td>\n",
              "      <td>64108</td>\n",
              "      <td>54199</td>\n",
              "      <td>Limited  Liability Company(LLC)</td>\n",
              "      <td>Unanswered</td>\n",
              "      <td>Unanswered</td>\n",
              "      <td>Unanswered</td>\n",
              "      <td>13.0</td>\n",
              "      <td>2020-04-13</td>\n",
              "      <td>Country Club Bank</td>\n",
              "      <td>54</td>\n",
              "    </tr>\n",
              "  </tbody>\n",
              "</table>\n",
              "</div>"
            ],
            "text/plain": [
              "   Loan Amount         City State    Zip NAICS Code                    Business Type        Race      Gender     Veteran  Jobs Saved       Date               Bank NAICS Category\n",
              "0     149961.0  KANSAS CITY    MO  64108      54199  Limited  Liability Company(LLC)  Unanswered  Unanswered  Unanswered        13.0 2020-04-13  Country Club Bank             54"
            ]
          },
          "metadata": {
            "tags": []
          },
          "execution_count": 283
        }
      ]
    },
    {
      "cell_type": "code",
      "metadata": {
        "id": "37Bb9Yotuq3y",
        "colab_type": "code",
        "colab": {
          "base_uri": "https://localhost:8080/",
          "height": 34
        },
        "outputId": "065ca39d-0f01-498f-fd2c-00852a08b5fa"
      },
      "source": [
        "df.shape"
      ],
      "execution_count": null,
      "outputs": [
        {
          "output_type": "execute_result",
          "data": {
            "text/plain": [
              "(4093088, 13)"
            ]
          },
          "metadata": {
            "tags": []
          },
          "execution_count": 284
        }
      ]
    },
    {
      "cell_type": "code",
      "metadata": {
        "id": "dKnWh42hJM7z",
        "colab_type": "code",
        "colab": {}
      },
      "source": [
        "df['Jobs Saved'] = df.loc[:,'Jobs Saved'].astype(int)"
      ],
      "execution_count": null,
      "outputs": []
    },
    {
      "cell_type": "code",
      "metadata": {
        "id": "5mjNEKEqp0oB",
        "colab_type": "code",
        "colab": {
          "base_uri": "https://localhost:8080/",
          "height": 202
        },
        "outputId": "17b1ad52-1d70-42f5-8f6d-3d612b797188"
      },
      "source": [
        "nf_df.sample(5)\n"
      ],
      "execution_count": null,
      "outputs": [
        {
          "output_type": "execute_result",
          "data": {
            "text/html": [
              "<div>\n",
              "<style scoped>\n",
              "    .dataframe tbody tr th:only-of-type {\n",
              "        vertical-align: middle;\n",
              "    }\n",
              "\n",
              "    .dataframe tbody tr th {\n",
              "        vertical-align: top;\n",
              "    }\n",
              "\n",
              "    .dataframe thead th {\n",
              "        text-align: right;\n",
              "    }\n",
              "</style>\n",
              "<table border=\"1\" class=\"dataframe\">\n",
              "  <thead>\n",
              "    <tr style=\"text-align: right;\">\n",
              "      <th></th>\n",
              "      <th>NAICS Code</th>\n",
              "      <th>Title</th>\n",
              "      <th>Description</th>\n",
              "    </tr>\n",
              "  </thead>\n",
              "  <tbody>\n",
              "    <tr>\n",
              "      <th>708</th>\n",
              "      <td>333132</td>\n",
              "      <td>Oil and Gas Field Machinery and Equipment Manu...</td>\n",
              "      <td>This U.S. industry comprises establishments pr...</td>\n",
              "    </tr>\n",
              "    <tr>\n",
              "      <th>1240</th>\n",
              "      <td>453998</td>\n",
              "      <td>All Other Miscellaneous Store Retailers (excep...</td>\n",
              "      <td>This U.S. industry comprises establishments pr...</td>\n",
              "    </tr>\n",
              "    <tr>\n",
              "      <th>299</th>\n",
              "      <td>311340</td>\n",
              "      <td>Nonchocolate Confectionery Manufacturing</td>\n",
              "      <td>This industry comprises establishments primari...</td>\n",
              "    </tr>\n",
              "    <tr>\n",
              "      <th>1859</th>\n",
              "      <td>621410</td>\n",
              "      <td>Family Planning Centers</td>\n",
              "      <td>This industry comprises establishments with me...</td>\n",
              "    </tr>\n",
              "    <tr>\n",
              "      <th>593</th>\n",
              "      <td>3274</td>\n",
              "      <td>Lime and Gypsum Product ManufacturingT</td>\n",
              "      <td>This industry group comprises establishments p...</td>\n",
              "    </tr>\n",
              "  </tbody>\n",
              "</table>\n",
              "</div>"
            ],
            "text/plain": [
              "     NAICS Code                                              Title                                        Description\n",
              "708      333132  Oil and Gas Field Machinery and Equipment Manu...  This U.S. industry comprises establishments pr...\n",
              "1240     453998  All Other Miscellaneous Store Retailers (excep...  This U.S. industry comprises establishments pr...\n",
              "299      311340           Nonchocolate Confectionery Manufacturing  This industry comprises establishments primari...\n",
              "1859     621410                           Family Planning Centers   This industry comprises establishments with me...\n",
              "593        3274            Lime and Gypsum Product ManufacturingT   This industry group comprises establishments p..."
            ]
          },
          "metadata": {
            "tags": []
          },
          "execution_count": 286
        }
      ]
    },
    {
      "cell_type": "code",
      "metadata": {
        "id": "2WSUp2MHJNW3",
        "colab_type": "code",
        "colab": {
          "base_uri": "https://localhost:8080/",
          "height": 252
        },
        "outputId": "5807223f-ac8e-42bf-cec4-3c848a24929f"
      },
      "source": [
        "mdf = pd.merge(left=df, right=nf_df, how='left', left_on='NAICS Code', right_on='NAICS Code')\n",
        "mdf.sample(2)"
      ],
      "execution_count": null,
      "outputs": [
        {
          "output_type": "execute_result",
          "data": {
            "text/html": [
              "<div>\n",
              "<style scoped>\n",
              "    .dataframe tbody tr th:only-of-type {\n",
              "        vertical-align: middle;\n",
              "    }\n",
              "\n",
              "    .dataframe tbody tr th {\n",
              "        vertical-align: top;\n",
              "    }\n",
              "\n",
              "    .dataframe thead th {\n",
              "        text-align: right;\n",
              "    }\n",
              "</style>\n",
              "<table border=\"1\" class=\"dataframe\">\n",
              "  <thead>\n",
              "    <tr style=\"text-align: right;\">\n",
              "      <th></th>\n",
              "      <th>Loan Amount</th>\n",
              "      <th>City</th>\n",
              "      <th>State</th>\n",
              "      <th>Zip</th>\n",
              "      <th>NAICS Code</th>\n",
              "      <th>Business Type</th>\n",
              "      <th>Race</th>\n",
              "      <th>Gender</th>\n",
              "      <th>Veteran</th>\n",
              "      <th>Jobs Saved</th>\n",
              "      <th>Date</th>\n",
              "      <th>Bank</th>\n",
              "      <th>NAICS Category</th>\n",
              "      <th>Title</th>\n",
              "      <th>Description</th>\n",
              "    </tr>\n",
              "  </thead>\n",
              "  <tbody>\n",
              "    <tr>\n",
              "      <th>227839</th>\n",
              "      <td>10238.34</td>\n",
              "      <td>PEORIA</td>\n",
              "      <td>IL</td>\n",
              "      <td>61614</td>\n",
              "      <td>81311</td>\n",
              "      <td>Non-Profit Organization</td>\n",
              "      <td>Unanswered</td>\n",
              "      <td>Unanswered</td>\n",
              "      <td>Unanswered</td>\n",
              "      <td>1</td>\n",
              "      <td>2020-04-28</td>\n",
              "      <td>Citizens Equity First CU</td>\n",
              "      <td>81</td>\n",
              "      <td>Religious Organizations</td>\n",
              "      <td>See industry description for 813110.</td>\n",
              "    </tr>\n",
              "    <tr>\n",
              "      <th>3468697</th>\n",
              "      <td>10400.00</td>\n",
              "      <td>SEVIERVILLE</td>\n",
              "      <td>TN</td>\n",
              "      <td>37876</td>\n",
              "      <td>445299</td>\n",
              "      <td>Corporation</td>\n",
              "      <td>Unanswered</td>\n",
              "      <td>Unanswered</td>\n",
              "      <td>Unanswered</td>\n",
              "      <td>1</td>\n",
              "      <td>2020-05-12</td>\n",
              "      <td>Citizens National Bank</td>\n",
              "      <td>44</td>\n",
              "      <td>All Other Specialty Food Stores</td>\n",
              "      <td>This U.S. industry comprises establishments pr...</td>\n",
              "    </tr>\n",
              "  </tbody>\n",
              "</table>\n",
              "</div>"
            ],
            "text/plain": [
              "         Loan Amount         City State    Zip NAICS Code            Business Type        Race      Gender     Veteran  Jobs Saved       Date                      Bank NAICS Category                             Title                                        Description\n",
              "227839      10238.34       PEORIA    IL  61614      81311  Non-Profit Organization  Unanswered  Unanswered  Unanswered           1 2020-04-28  Citizens Equity First CU             81          Religious Organizations                See industry description for 813110.\n",
              "3468697     10400.00  SEVIERVILLE    TN  37876     445299              Corporation  Unanswered  Unanswered  Unanswered           1 2020-05-12    Citizens National Bank             44  All Other Specialty Food Stores   This U.S. industry comprises establishments pr..."
            ]
          },
          "metadata": {
            "tags": []
          },
          "execution_count": 287
        }
      ]
    },
    {
      "cell_type": "code",
      "metadata": {
        "id": "kc73T1MQLjLK",
        "colab_type": "code",
        "colab": {
          "base_uri": "https://localhost:8080/",
          "height": 34
        },
        "outputId": "cd59a349-0878-4507-8fed-4b3ccfa59534"
      },
      "source": [
        "mdf.shape"
      ],
      "execution_count": null,
      "outputs": [
        {
          "output_type": "execute_result",
          "data": {
            "text/plain": [
              "(4093088, 15)"
            ]
          },
          "metadata": {
            "tags": []
          },
          "execution_count": 288
        }
      ]
    },
    {
      "cell_type": "code",
      "metadata": {
        "id": "FHJE-n-mlLa7",
        "colab_type": "code",
        "colab": {}
      },
      "source": [
        "# join n_path and df make merged df\n",
        "# df = pd.merge(left=df, right=ndf, left_on='NAICS Category', right_on='cat', how='outer')\n",
        "# df.sample(3)\n",
        "\n",
        "\n",
        "\n",
        "\n",
        "\n"
      ],
      "execution_count": null,
      "outputs": []
    },
    {
      "cell_type": "code",
      "metadata": {
        "id": "9KY0MvouKBjH",
        "colab_type": "code",
        "colab": {}
      },
      "source": [
        ""
      ],
      "execution_count": null,
      "outputs": []
    },
    {
      "cell_type": "code",
      "metadata": {
        "id": "t-bdvApZKGjH",
        "colab_type": "code",
        "colab": {}
      },
      "source": [
        "# mdf=reduce(lambda x,y: pd.merge(x,y, on='NAICS Code', how='inner'), [df,  nf_df])\n"
      ],
      "execution_count": null,
      "outputs": []
    },
    {
      "cell_type": "code",
      "metadata": {
        "id": "KTuwFjtgH9BG",
        "colab_type": "code",
        "colab": {}
      },
      "source": [
        "n_cats['cat']=n_cats['cat'].astype(str)"
      ],
      "execution_count": null,
      "outputs": []
    },
    {
      "cell_type": "code",
      "metadata": {
        "id": "eyByYxS-Giuc",
        "colab_type": "code",
        "colab": {
          "base_uri": "https://localhost:8080/",
          "height": 80
        },
        "outputId": "a11ad62d-afae-47f4-fab0-c8751f1c7f6c"
      },
      "source": [
        "n_cats.sample()"
      ],
      "execution_count": null,
      "outputs": [
        {
          "output_type": "execute_result",
          "data": {
            "text/html": [
              "<div>\n",
              "<style scoped>\n",
              "    .dataframe tbody tr th:only-of-type {\n",
              "        vertical-align: middle;\n",
              "    }\n",
              "\n",
              "    .dataframe tbody tr th {\n",
              "        vertical-align: top;\n",
              "    }\n",
              "\n",
              "    .dataframe thead th {\n",
              "        text-align: right;\n",
              "    }\n",
              "</style>\n",
              "<table border=\"1\" class=\"dataframe\">\n",
              "  <thead>\n",
              "    <tr style=\"text-align: right;\">\n",
              "      <th></th>\n",
              "      <th>id</th>\n",
              "      <th>cat</th>\n",
              "      <th>description</th>\n",
              "      <th>biz_count</th>\n",
              "    </tr>\n",
              "  </thead>\n",
              "  <tbody>\n",
              "    <tr>\n",
              "      <th>11</th>\n",
              "      <td>12</td>\n",
              "      <td>49</td>\n",
              "      <td>Transportation and Warehousing</td>\n",
              "      <td>290000</td>\n",
              "    </tr>\n",
              "  </tbody>\n",
              "</table>\n",
              "</div>"
            ],
            "text/plain": [
              "    id cat                     description  biz_count\n",
              "11  12  49  Transportation and Warehousing     290000"
            ]
          },
          "metadata": {
            "tags": []
          },
          "execution_count": 292
        }
      ]
    },
    {
      "cell_type": "code",
      "metadata": {
        "id": "aHusJqUWGsBj",
        "colab_type": "code",
        "colab": {
          "base_uri": "https://localhost:8080/",
          "height": 252
        },
        "outputId": "f4ee52dc-1cb9-411f-cfa9-25d1661f11e4"
      },
      "source": [
        "mdf.sample(2)"
      ],
      "execution_count": null,
      "outputs": [
        {
          "output_type": "execute_result",
          "data": {
            "text/html": [
              "<div>\n",
              "<style scoped>\n",
              "    .dataframe tbody tr th:only-of-type {\n",
              "        vertical-align: middle;\n",
              "    }\n",
              "\n",
              "    .dataframe tbody tr th {\n",
              "        vertical-align: top;\n",
              "    }\n",
              "\n",
              "    .dataframe thead th {\n",
              "        text-align: right;\n",
              "    }\n",
              "</style>\n",
              "<table border=\"1\" class=\"dataframe\">\n",
              "  <thead>\n",
              "    <tr style=\"text-align: right;\">\n",
              "      <th></th>\n",
              "      <th>Loan Amount</th>\n",
              "      <th>City</th>\n",
              "      <th>State</th>\n",
              "      <th>Zip</th>\n",
              "      <th>NAICS Code</th>\n",
              "      <th>Business Type</th>\n",
              "      <th>Race</th>\n",
              "      <th>Gender</th>\n",
              "      <th>Veteran</th>\n",
              "      <th>Jobs Saved</th>\n",
              "      <th>Date</th>\n",
              "      <th>Bank</th>\n",
              "      <th>NAICS Category</th>\n",
              "      <th>Title</th>\n",
              "      <th>Description</th>\n",
              "    </tr>\n",
              "  </thead>\n",
              "  <tbody>\n",
              "    <tr>\n",
              "      <th>469918</th>\n",
              "      <td>121600.0</td>\n",
              "      <td>FORT PIERRE</td>\n",
              "      <td>SD</td>\n",
              "      <td>57532</td>\n",
              "      <td>44112</td>\n",
              "      <td>Limited  Liability Company(LLC)</td>\n",
              "      <td>Unanswered</td>\n",
              "      <td>Unanswered</td>\n",
              "      <td>Unanswered</td>\n",
              "      <td>7</td>\n",
              "      <td>2020-04-06</td>\n",
              "      <td>BankWest</td>\n",
              "      <td>44</td>\n",
              "      <td>Used Car Dealers</td>\n",
              "      <td>See industry description for 441120.</td>\n",
              "    </tr>\n",
              "    <tr>\n",
              "      <th>1854577</th>\n",
              "      <td>48000.0</td>\n",
              "      <td>NEW YORK</td>\n",
              "      <td>NY</td>\n",
              "      <td>10018</td>\n",
              "      <td>541211</td>\n",
              "      <td>Limited  Liability Company(LLC)</td>\n",
              "      <td>Asian</td>\n",
              "      <td>Male Owned</td>\n",
              "      <td>Non-Veteran</td>\n",
              "      <td>3</td>\n",
              "      <td>2020-04-14</td>\n",
              "      <td>Citibank</td>\n",
              "      <td>54</td>\n",
              "      <td>Offices of Certified Public Accountants</td>\n",
              "      <td>This U.S. industry comprises establishments of...</td>\n",
              "    </tr>\n",
              "  </tbody>\n",
              "</table>\n",
              "</div>"
            ],
            "text/plain": [
              "         Loan Amount         City State    Zip NAICS Code                    Business Type        Race      Gender      Veteran  Jobs Saved       Date      Bank NAICS Category                                     Title                                        Description\n",
              "469918      121600.0  FORT PIERRE    SD  57532      44112  Limited  Liability Company(LLC)  Unanswered  Unanswered   Unanswered           7 2020-04-06  BankWest             44                         Used Car Dealers                See industry description for 441120.\n",
              "1854577      48000.0     NEW YORK    NY  10018     541211  Limited  Liability Company(LLC)       Asian  Male Owned  Non-Veteran           3 2020-04-14  Citibank             54  Offices of Certified Public Accountants   This U.S. industry comprises establishments of..."
            ]
          },
          "metadata": {
            "tags": []
          },
          "execution_count": 293
        }
      ]
    },
    {
      "cell_type": "code",
      "metadata": {
        "id": "CN3xfQkXF3DG",
        "colab_type": "code",
        "colab": {}
      },
      "source": [
        "# mdf.dtypes\n"
      ],
      "execution_count": null,
      "outputs": []
    },
    {
      "cell_type": "code",
      "metadata": {
        "id": "P2UlWQ1Op04Z",
        "colab_type": "code",
        "colab": {}
      },
      "source": [
        "# mdf=mdf.drop(['cat',], axis=1).copy()"
      ],
      "execution_count": null,
      "outputs": []
    },
    {
      "cell_type": "code",
      "metadata": {
        "id": "IjteCY_Uuo84",
        "colab_type": "code",
        "colab": {
          "base_uri": "https://localhost:8080/",
          "height": 294
        },
        "outputId": "ed70ae54-7023-47b2-d2ca-fba40e503239"
      },
      "source": [
        "mdf.dtypes"
      ],
      "execution_count": null,
      "outputs": [
        {
          "output_type": "execute_result",
          "data": {
            "text/plain": [
              "Loan Amount              float64\n",
              "City                      object\n",
              "State                     object\n",
              "Zip                       object\n",
              "NAICS Code                object\n",
              "Business Type             object\n",
              "Race                      object\n",
              "Gender                    object\n",
              "Veteran                   object\n",
              "Jobs Saved                 int64\n",
              "Date              datetime64[ns]\n",
              "Bank                      object\n",
              "NAICS Category            object\n",
              "Title                     object\n",
              "Description               object\n",
              "dtype: object"
            ]
          },
          "metadata": {
            "tags": []
          },
          "execution_count": 296
        }
      ]
    },
    {
      "cell_type": "code",
      "metadata": {
        "id": "upPe55mqu15D",
        "colab_type": "code",
        "colab": {
          "base_uri": "https://localhost:8080/",
          "height": 34
        },
        "outputId": "5dcdb613-c666-4846-feac-a52607e7f083"
      },
      "source": [
        "mdf.shape\n"
      ],
      "execution_count": null,
      "outputs": [
        {
          "output_type": "execute_result",
          "data": {
            "text/plain": [
              "(4093088, 15)"
            ]
          },
          "metadata": {
            "tags": []
          },
          "execution_count": 297
        }
      ]
    },
    {
      "cell_type": "code",
      "metadata": {
        "id": "Vo1Hg0YVxpJ3",
        "colab_type": "code",
        "colab": {
          "base_uri": "https://localhost:8080/",
          "height": 294
        },
        "outputId": "028282b2-8a1a-4d55-f5a2-1a53d60a05bc"
      },
      "source": [
        "print(mdf.isna().sum())"
      ],
      "execution_count": null,
      "outputs": [
        {
          "output_type": "stream",
          "text": [
            "Loan Amount           0\n",
            "City                  0\n",
            "State                 0\n",
            "Zip                   0\n",
            "NAICS Code            0\n",
            "Business Type         0\n",
            "Race                  0\n",
            "Gender                0\n",
            "Veteran               0\n",
            "Jobs Saved            0\n",
            "Date                  0\n",
            "Bank                  0\n",
            "NAICS Category        0\n",
            "Title             91272\n",
            "Description       91272\n",
            "dtype: int64\n"
          ],
          "name": "stdout"
        }
      ]
    },
    {
      "cell_type": "code",
      "metadata": {
        "id": "fAThq8QWQk4O",
        "colab_type": "code",
        "colab": {}
      },
      "source": [
        "mdf=mdf.fillna('No Information')"
      ],
      "execution_count": null,
      "outputs": []
    },
    {
      "cell_type": "code",
      "metadata": {
        "id": "2X-cserDQlZT",
        "colab_type": "code",
        "colab": {
          "base_uri": "https://localhost:8080/",
          "height": 294
        },
        "outputId": "ff33a603-5031-42ef-c71e-436749eb3f33"
      },
      "source": [
        "print(mdf.isna().sum())"
      ],
      "execution_count": null,
      "outputs": [
        {
          "output_type": "stream",
          "text": [
            "Loan Amount       0\n",
            "City              0\n",
            "State             0\n",
            "Zip               0\n",
            "NAICS Code        0\n",
            "Business Type     0\n",
            "Race              0\n",
            "Gender            0\n",
            "Veteran           0\n",
            "Jobs Saved        0\n",
            "Date              0\n",
            "Bank              0\n",
            "NAICS Category    0\n",
            "Title             0\n",
            "Description       0\n",
            "dtype: int64\n"
          ],
          "name": "stdout"
        }
      ]
    },
    {
      "cell_type": "code",
      "metadata": {
        "id": "dcS8f8sBMtdz",
        "colab_type": "code",
        "colab": {
          "base_uri": "https://localhost:8080/",
          "height": 34
        },
        "outputId": "bdc1d6f3-c952-4826-d212-522c5d0f1342"
      },
      "source": [
        "mdf.shape\n"
      ],
      "execution_count": null,
      "outputs": [
        {
          "output_type": "execute_result",
          "data": {
            "text/plain": [
              "(4093088, 15)"
            ]
          },
          "metadata": {
            "tags": []
          },
          "execution_count": 301
        }
      ]
    },
    {
      "cell_type": "code",
      "metadata": {
        "id": "_Pn57O5OM0K2",
        "colab_type": "code",
        "colab": {
          "base_uri": "https://localhost:8080/",
          "height": 186
        },
        "outputId": "e778fcfb-4a11-4132-f8c9-42d283145278"
      },
      "source": [
        "mdf.sample()"
      ],
      "execution_count": null,
      "outputs": [
        {
          "output_type": "execute_result",
          "data": {
            "text/html": [
              "<div>\n",
              "<style scoped>\n",
              "    .dataframe tbody tr th:only-of-type {\n",
              "        vertical-align: middle;\n",
              "    }\n",
              "\n",
              "    .dataframe tbody tr th {\n",
              "        vertical-align: top;\n",
              "    }\n",
              "\n",
              "    .dataframe thead th {\n",
              "        text-align: right;\n",
              "    }\n",
              "</style>\n",
              "<table border=\"1\" class=\"dataframe\">\n",
              "  <thead>\n",
              "    <tr style=\"text-align: right;\">\n",
              "      <th></th>\n",
              "      <th>Loan Amount</th>\n",
              "      <th>City</th>\n",
              "      <th>State</th>\n",
              "      <th>Zip</th>\n",
              "      <th>NAICS Code</th>\n",
              "      <th>Business Type</th>\n",
              "      <th>Race</th>\n",
              "      <th>Gender</th>\n",
              "      <th>Veteran</th>\n",
              "      <th>Jobs Saved</th>\n",
              "      <th>Date</th>\n",
              "      <th>Bank</th>\n",
              "      <th>NAICS Category</th>\n",
              "      <th>Title</th>\n",
              "      <th>Description</th>\n",
              "    </tr>\n",
              "  </thead>\n",
              "  <tbody>\n",
              "    <tr>\n",
              "      <th>3919414</th>\n",
              "      <td>14995.0</td>\n",
              "      <td>ANYELOPE</td>\n",
              "      <td>CA</td>\n",
              "      <td>95843</td>\n",
              "      <td>541618</td>\n",
              "      <td>Subchapter S Corporation</td>\n",
              "      <td>Unanswered</td>\n",
              "      <td>Unanswered</td>\n",
              "      <td>Unanswered</td>\n",
              "      <td>1</td>\n",
              "      <td>2020-05-09</td>\n",
              "      <td>Bank of the West</td>\n",
              "      <td>54</td>\n",
              "      <td>Other Management Consulting Services</td>\n",
              "      <td>This U.S. industry comprises establishments pr...</td>\n",
              "    </tr>\n",
              "  </tbody>\n",
              "</table>\n",
              "</div>"
            ],
            "text/plain": [
              "         Loan Amount      City State    Zip NAICS Code             Business Type        Race      Gender     Veteran  Jobs Saved       Date              Bank NAICS Category                                  Title                                        Description\n",
              "3919414      14995.0  ANYELOPE    CA  95843     541618  Subchapter S Corporation  Unanswered  Unanswered  Unanswered           1 2020-05-09  Bank of the West             54  Other Management Consulting Services   This U.S. industry comprises establishments pr..."
            ]
          },
          "metadata": {
            "tags": []
          },
          "execution_count": 302
        }
      ]
    },
    {
      "cell_type": "code",
      "metadata": {
        "id": "owXIa_HVFzee",
        "colab_type": "code",
        "colab": {
          "base_uri": "https://localhost:8080/",
          "height": 186
        },
        "outputId": "7525ec77-1fd1-48d3-a535-964e6e134b2e"
      },
      "source": [
        "m_cats = pd.merge(left=mdf, right=n_cats, how='left', left_on='NAICS Category', right_on='cat')\n",
        "m_cats.sample()"
      ],
      "execution_count": null,
      "outputs": [
        {
          "output_type": "execute_result",
          "data": {
            "text/html": [
              "<div>\n",
              "<style scoped>\n",
              "    .dataframe tbody tr th:only-of-type {\n",
              "        vertical-align: middle;\n",
              "    }\n",
              "\n",
              "    .dataframe tbody tr th {\n",
              "        vertical-align: top;\n",
              "    }\n",
              "\n",
              "    .dataframe thead th {\n",
              "        text-align: right;\n",
              "    }\n",
              "</style>\n",
              "<table border=\"1\" class=\"dataframe\">\n",
              "  <thead>\n",
              "    <tr style=\"text-align: right;\">\n",
              "      <th></th>\n",
              "      <th>Loan Amount</th>\n",
              "      <th>City</th>\n",
              "      <th>State</th>\n",
              "      <th>Zip</th>\n",
              "      <th>NAICS Code</th>\n",
              "      <th>Business Type</th>\n",
              "      <th>Race</th>\n",
              "      <th>Gender</th>\n",
              "      <th>Veteran</th>\n",
              "      <th>Jobs Saved</th>\n",
              "      <th>Date</th>\n",
              "      <th>Bank</th>\n",
              "      <th>NAICS Category</th>\n",
              "      <th>Title</th>\n",
              "      <th>Description</th>\n",
              "      <th>id</th>\n",
              "      <th>cat</th>\n",
              "      <th>description</th>\n",
              "      <th>biz_count</th>\n",
              "    </tr>\n",
              "  </thead>\n",
              "  <tbody>\n",
              "    <tr>\n",
              "      <th>3067099</th>\n",
              "      <td>10000.0</td>\n",
              "      <td>HONOLULU</td>\n",
              "      <td>HI</td>\n",
              "      <td>96813</td>\n",
              "      <td>611519</td>\n",
              "      <td>Limited  Liability Company(LLC)</td>\n",
              "      <td>Unanswered</td>\n",
              "      <td>Unanswered</td>\n",
              "      <td>Unanswered</td>\n",
              "      <td>1</td>\n",
              "      <td>2020-05-02</td>\n",
              "      <td>Central Pacific Bank</td>\n",
              "      <td>61</td>\n",
              "      <td>Other Technical and Trade Schools</td>\n",
              "      <td>This U.S. industry comprises establishments pr...</td>\n",
              "      <td>19.0</td>\n",
              "      <td>61</td>\n",
              "      <td>Educational Services</td>\n",
              "      <td>424190.0</td>\n",
              "    </tr>\n",
              "  </tbody>\n",
              "</table>\n",
              "</div>"
            ],
            "text/plain": [
              "         Loan Amount      City State    Zip NAICS Code                    Business Type        Race      Gender     Veteran  Jobs Saved       Date                  Bank NAICS Category                               Title                                        Description    id cat           description  biz_count\n",
              "3067099      10000.0  HONOLULU    HI  96813     611519  Limited  Liability Company(LLC)  Unanswered  Unanswered  Unanswered           1 2020-05-02  Central Pacific Bank             61  Other Technical and Trade Schools   This U.S. industry comprises establishments pr...  19.0  61  Educational Services   424190.0"
            ]
          },
          "metadata": {
            "tags": []
          },
          "execution_count": 303
        }
      ]
    },
    {
      "cell_type": "code",
      "metadata": {
        "id": "CDp7sdwvI7Mt",
        "colab_type": "code",
        "colab": {
          "base_uri": "https://localhost:8080/",
          "height": 34
        },
        "outputId": "feb122a5-869f-4364-fb88-26ea049dbb18"
      },
      "source": [
        "m_cats.shape"
      ],
      "execution_count": null,
      "outputs": [
        {
          "output_type": "execute_result",
          "data": {
            "text/plain": [
              "(4093088, 19)"
            ]
          },
          "metadata": {
            "tags": []
          },
          "execution_count": 304
        }
      ]
    },
    {
      "cell_type": "code",
      "metadata": {
        "id": "EDwJpFsvMyba",
        "colab_type": "code",
        "colab": {}
      },
      "source": [
        "columns = ['id', 'biz_count', 'cat']\n",
        "m_cats.drop(columns, inplace=True, axis=1)"
      ],
      "execution_count": null,
      "outputs": []
    },
    {
      "cell_type": "code",
      "metadata": {
        "id": "9WTxXYKINOpV",
        "colab_type": "code",
        "colab": {
          "base_uri": "https://localhost:8080/",
          "height": 517
        },
        "outputId": "809fec88-a402-48f7-af86-0422d5e95894"
      },
      "source": [
        "m_cats.head()"
      ],
      "execution_count": null,
      "outputs": [
        {
          "output_type": "execute_result",
          "data": {
            "text/html": [
              "<div>\n",
              "<style scoped>\n",
              "    .dataframe tbody tr th:only-of-type {\n",
              "        vertical-align: middle;\n",
              "    }\n",
              "\n",
              "    .dataframe tbody tr th {\n",
              "        vertical-align: top;\n",
              "    }\n",
              "\n",
              "    .dataframe thead th {\n",
              "        text-align: right;\n",
              "    }\n",
              "</style>\n",
              "<table border=\"1\" class=\"dataframe\">\n",
              "  <thead>\n",
              "    <tr style=\"text-align: right;\">\n",
              "      <th></th>\n",
              "      <th>Loan Amount</th>\n",
              "      <th>City</th>\n",
              "      <th>State</th>\n",
              "      <th>Zip</th>\n",
              "      <th>NAICS Code</th>\n",
              "      <th>Business Type</th>\n",
              "      <th>Race</th>\n",
              "      <th>Gender</th>\n",
              "      <th>Veteran</th>\n",
              "      <th>Jobs Saved</th>\n",
              "      <th>Date</th>\n",
              "      <th>Bank</th>\n",
              "      <th>NAICS Category</th>\n",
              "      <th>Title</th>\n",
              "      <th>Description</th>\n",
              "      <th>description</th>\n",
              "    </tr>\n",
              "  </thead>\n",
              "  <tbody>\n",
              "    <tr>\n",
              "      <th>0</th>\n",
              "      <td>149961.00</td>\n",
              "      <td>KANSAS CITY</td>\n",
              "      <td>MO</td>\n",
              "      <td>64108</td>\n",
              "      <td>54199</td>\n",
              "      <td>Limited  Liability Company(LLC)</td>\n",
              "      <td>Unanswered</td>\n",
              "      <td>Unanswered</td>\n",
              "      <td>Unanswered</td>\n",
              "      <td>13</td>\n",
              "      <td>2020-04-13</td>\n",
              "      <td>Country Club Bank</td>\n",
              "      <td>54</td>\n",
              "      <td>All Other Professional, Scientific, and Techni...</td>\n",
              "      <td>See industry description for 541990.</td>\n",
              "      <td>Professional Scientific and Technical Services</td>\n",
              "    </tr>\n",
              "    <tr>\n",
              "      <th>1</th>\n",
              "      <td>149927.67</td>\n",
              "      <td>O FALLON</td>\n",
              "      <td>MO</td>\n",
              "      <td>63366</td>\n",
              "      <td>722511</td>\n",
              "      <td>Subchapter S Corporation</td>\n",
              "      <td>Unanswered</td>\n",
              "      <td>Unanswered</td>\n",
              "      <td>Unanswered</td>\n",
              "      <td>1</td>\n",
              "      <td>2020-04-07</td>\n",
              "      <td>First State Bank of St. Charles</td>\n",
              "      <td>72</td>\n",
              "      <td>Full-Service Restaurants</td>\n",
              "      <td>This U.S. industry comprises establishments pr...</td>\n",
              "      <td>Accommodation and Food Services</td>\n",
              "    </tr>\n",
              "    <tr>\n",
              "      <th>2</th>\n",
              "      <td>149900.00</td>\n",
              "      <td>RAYTOWN</td>\n",
              "      <td>MO</td>\n",
              "      <td>64133</td>\n",
              "      <td>44112</td>\n",
              "      <td>Corporation</td>\n",
              "      <td>White</td>\n",
              "      <td>Male Owned</td>\n",
              "      <td>Unanswered</td>\n",
              "      <td>14</td>\n",
              "      <td>2020-05-11</td>\n",
              "      <td>Blue Ridge Bank and Trust Co.</td>\n",
              "      <td>44</td>\n",
              "      <td>Used Car Dealers</td>\n",
              "      <td>See industry description for 441120.</td>\n",
              "      <td>Retail Trade</td>\n",
              "    </tr>\n",
              "    <tr>\n",
              "      <th>3</th>\n",
              "      <td>149900.00</td>\n",
              "      <td>VALLEY PARK</td>\n",
              "      <td>MO</td>\n",
              "      <td>63088</td>\n",
              "      <td>62441</td>\n",
              "      <td>Corporation</td>\n",
              "      <td>Unanswered</td>\n",
              "      <td>Unanswered</td>\n",
              "      <td>Unanswered</td>\n",
              "      <td>28</td>\n",
              "      <td>2020-04-09</td>\n",
              "      <td>Meramec Valley Bank</td>\n",
              "      <td>62</td>\n",
              "      <td>Child Day Care ServicesT</td>\n",
              "      <td>See industry description for 624410.</td>\n",
              "      <td>Health Care and Social Assistance</td>\n",
              "    </tr>\n",
              "    <tr>\n",
              "      <th>4</th>\n",
              "      <td>149897.50</td>\n",
              "      <td>SPRINGFIELD</td>\n",
              "      <td>MO</td>\n",
              "      <td>65802</td>\n",
              "      <td>561422</td>\n",
              "      <td>Limited  Liability Company(LLC)</td>\n",
              "      <td>Unanswered</td>\n",
              "      <td>Unanswered</td>\n",
              "      <td>Unanswered</td>\n",
              "      <td>1</td>\n",
              "      <td>2020-06-25</td>\n",
              "      <td>Wood &amp; Huston Bank</td>\n",
              "      <td>56</td>\n",
              "      <td>Telemarketing Bureaus and Other Contact Centers</td>\n",
              "      <td>This U.S. industry comprises establishments pr...</td>\n",
              "      <td>Waste Management and Remediation Services</td>\n",
              "    </tr>\n",
              "  </tbody>\n",
              "</table>\n",
              "</div>"
            ],
            "text/plain": [
              "   Loan Amount         City State    Zip NAICS Code                    Business Type        Race      Gender     Veteran  Jobs Saved       Date                             Bank NAICS Category                                              Title                                        Description                                     description\n",
              "0    149961.00  KANSAS CITY    MO  64108      54199  Limited  Liability Company(LLC)  Unanswered  Unanswered  Unanswered          13 2020-04-13                Country Club Bank             54  All Other Professional, Scientific, and Techni...               See industry description for 541990.  Professional Scientific and Technical Services\n",
              "1    149927.67     O FALLON    MO  63366     722511         Subchapter S Corporation  Unanswered  Unanswered  Unanswered           1 2020-04-07  First State Bank of St. Charles             72                          Full-Service Restaurants   This U.S. industry comprises establishments pr...                 Accommodation and Food Services\n",
              "2    149900.00      RAYTOWN    MO  64133      44112                      Corporation       White  Male Owned  Unanswered          14 2020-05-11    Blue Ridge Bank and Trust Co.             44                                  Used Car Dealers                See industry description for 441120.                                    Retail Trade\n",
              "3    149900.00  VALLEY PARK    MO  63088      62441                      Corporation  Unanswered  Unanswered  Unanswered          28 2020-04-09              Meramec Valley Bank             62                          Child Day Care ServicesT                See industry description for 624410.               Health Care and Social Assistance\n",
              "4    149897.50  SPRINGFIELD    MO  65802     561422  Limited  Liability Company(LLC)  Unanswered  Unanswered  Unanswered           1 2020-06-25               Wood & Huston Bank             56   Telemarketing Bureaus and Other Contact Centers   This U.S. industry comprises establishments pr...       Waste Management and Remediation Services"
            ]
          },
          "metadata": {
            "tags": []
          },
          "execution_count": 312
        }
      ]
    },
    {
      "cell_type": "code",
      "metadata": {
        "id": "pb-jwIdzf7O7",
        "colab_type": "code",
        "colab": {}
      },
      "source": [
        "m_cats.to_csv('all_loans_under_150k_max_info.csv', index=0)\n",
        "!cp all_loans_under_150k_max_info.csv \"drive/My Drive/\""
      ],
      "execution_count": null,
      "outputs": []
    },
    {
      "cell_type": "code",
      "metadata": {
        "id": "oNGW8blCNxMq",
        "colab_type": "code",
        "colab": {}
      },
      "source": [
        ""
      ],
      "execution_count": null,
      "outputs": []
    },
    {
      "cell_type": "code",
      "metadata": {
        "id": "-jgkYEmVf7az",
        "colab_type": "code",
        "colab": {}
      },
      "source": [
        "# # backup of clean dataframe, types will not be fully preserved so on import reassign, but easier with unconformity removed\n",
        "# path=\"/content/drive/My Drive/p_cat_clean.csv\"\n",
        "# scdf = pd.read_csv(path,  dtype={'NAICS Category': str, 'NAICS Code Description':str,})\n",
        "# scdf.sample()"
      ],
      "execution_count": null,
      "outputs": []
    },
    {
      "cell_type": "code",
      "metadata": {
        "id": "G4VjlYbXhyks",
        "colab_type": "code",
        "colab": {}
      },
      "source": [
        "# scdf.dtypes"
      ],
      "execution_count": null,
      "outputs": []
    },
    {
      "cell_type": "code",
      "metadata": {
        "id": "ttJhQNIyBQfd",
        "colab_type": "code",
        "colab": {}
      },
      "source": [
        "# scdf.shape"
      ],
      "execution_count": null,
      "outputs": []
    },
    {
      "cell_type": "code",
      "metadata": {
        "id": "6yZonhhf7RT2",
        "colab_type": "code",
        "colab": {}
      },
      "source": [
        "#\n"
      ],
      "execution_count": null,
      "outputs": []
    }
  ]
}