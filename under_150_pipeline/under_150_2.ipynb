{
  "nbformat": 4,
  "nbformat_minor": 0,
  "metadata": {
    "colab": {
      "name": "clean2.ipynb",
      "provenance": [],
      "private_outputs": true,
      "collapsed_sections": [],
      "machine_shape": "hm",
      "mount_file_id": "1Kl8ZpMGF9AjomWbW1KrRyyVXThRIq4O5",
      "authorship_tag": "ABX9TyM7R6qQsGNS2U9w6gc0bqLx"
    },
    "kernelspec": {
      "name": "python3",
      "display_name": "Python 3"
    },
    "accelerator": "TPU"
  },
  "cells": [
    {
      "cell_type": "markdown",
      "metadata": {
        "id": "uSbe-v84WJKU",
        "colab_type": "text"
      },
      "source": [
        "Second notebook in series"
      ]
    },
    {
      "cell_type": "code",
      "metadata": {
        "id": "CWHwMAMqWIKk",
        "colab_type": "code",
        "colab": {}
      },
      "source": [
        "import pandas as pd\n",
        "import io\n",
        "import sys\n",
        "import os\n",
        "import re\n"
      ],
      "execution_count": null,
      "outputs": []
    },
    {
      "cell_type": "code",
      "metadata": {
        "id": "CV6sw-8sWQYH",
        "colab_type": "code",
        "colab": {}
      },
      "source": [
        "# from google.colab import drive\n",
        "# drive.mount('/content/drive', force_remount=True)"
      ],
      "execution_count": null,
      "outputs": []
    },
    {
      "cell_type": "code",
      "metadata": {
        "id": "GoA3XvhwRrTc",
        "colab_type": "code",
        "colab": {}
      },
      "source": [
        "pd.set_option('mode.chained_assignment','warn')"
      ],
      "execution_count": null,
      "outputs": []
    },
    {
      "cell_type": "code",
      "metadata": {
        "id": "n-1oXb_ERrjs",
        "colab_type": "code",
        "colab": {}
      },
      "source": [
        ""
      ],
      "execution_count": null,
      "outputs": []
    },
    {
      "cell_type": "code",
      "metadata": {
        "id": "R-MHQVfrRr7I",
        "colab_type": "code",
        "colab": {}
      },
      "source": [
        "\n",
        "pd.set_option('display.max_rows', 150)\n",
        "pd.set_option('display.max_columns', 25)\n",
        "pd.set_option('display.width', 1000)"
      ],
      "execution_count": null,
      "outputs": []
    },
    {
      "cell_type": "code",
      "metadata": {
        "id": "t09dKbbLWQNu",
        "colab_type": "code",
        "colab": {}
      },
      "source": [
        "path = \"/content/drive/My Drive/data/quasi.csv\"\n",
        "\n",
        "df = pd.read_csv(path)\n",
        "# df.head()"
      ],
      "execution_count": null,
      "outputs": []
    },
    {
      "cell_type": "code",
      "metadata": {
        "id": "jX7eRpcbWQfo",
        "colab_type": "code",
        "colab": {}
      },
      "source": [
        "# mixed types in 4, 10, 15 and 16\n",
        "# df['16'].value_counts()\n",
        "print(df['16'].isna().sum())\n",
        "print(df.shape)\n",
        "#will only lose 5 rows\n",
        "new = df.copy()\n",
        "new=new[new['16'].isna()]\n",
        "new.shape\n"
      ],
      "execution_count": null,
      "outputs": []
    },
    {
      "cell_type": "code",
      "metadata": {
        "id": "8l5YGZowdlJk",
        "colab_type": "code",
        "colab": {}
      },
      "source": [
        "print(df['15'].isna().sum())\n",
        "#will only lose 100\n",
        "new2=new[new['15'].isna()]\n",
        "new2.shape"
      ],
      "execution_count": null,
      "outputs": []
    },
    {
      "cell_type": "code",
      "metadata": {
        "id": "dHw1OIUWdlND",
        "colab_type": "code",
        "colab": {}
      },
      "source": [
        "print(df['14'].isna().sum())\n",
        "print(new2['14'].value_counts())"
      ],
      "execution_count": null,
      "outputs": []
    },
    {
      "cell_type": "code",
      "metadata": {
        "id": "puRhaSLLdlQf",
        "colab_type": "code",
        "colab": {}
      },
      "source": [
        "#get rid of empty columns\n",
        "new=new.dropna(axis=1, how='all')\n",
        "\n",
        "new.sample(3)"
      ],
      "execution_count": null,
      "outputs": []
    },
    {
      "cell_type": "code",
      "metadata": {
        "id": "j8E7TN1gca2b",
        "colab_type": "code",
        "colab": {}
      },
      "source": [
        "new.shape"
      ],
      "execution_count": null,
      "outputs": []
    },
    {
      "cell_type": "code",
      "metadata": {
        "id": "uV_REfn7c3gg",
        "colab_type": "code",
        "colab": {}
      },
      "source": [
        "print(new['15'].value_counts())"
      ],
      "execution_count": null,
      "outputs": []
    },
    {
      "cell_type": "code",
      "metadata": {
        "id": "O9W1wVttc3nR",
        "colab_type": "code",
        "colab": {}
      },
      "source": [
        "# Remove column 13, 14 and 15 because the information is duplicated in state column\n",
        "new = new.drop('13', 1)\n",
        "new=new.drop('14', 1)\n",
        "new=new.drop('15', 1)\n"
      ],
      "execution_count": null,
      "outputs": []
    },
    {
      "cell_type": "code",
      "metadata": {
        "id": "bhfqIQsSjycY",
        "colab_type": "code",
        "colab": {}
      },
      "source": [
        "new.shape\n"
      ],
      "execution_count": null,
      "outputs": []
    },
    {
      "cell_type": "code",
      "metadata": {
        "id": "w-CyFcnInlhf",
        "colab_type": "code",
        "colab": {}
      },
      "source": [
        ""
      ],
      "execution_count": null,
      "outputs": []
    },
    {
      "cell_type": "code",
      "metadata": {
        "id": "5xfYGqZ7kfR0",
        "colab_type": "code",
        "colab": {}
      },
      "source": [
        "# new[2000000:2000150]"
      ],
      "execution_count": null,
      "outputs": []
    },
    {
      "cell_type": "code",
      "metadata": {
        "id": "4A3ixAD6BCEE",
        "colab_type": "code",
        "colab": {}
      },
      "source": [
        "# drop rows in column 12 with less than 2 values\n",
        "col = '12'  # 'bar'\n",
        "n = 2\n",
        "new=new[new.groupby(col)[col].transform('count').ge(n)]\n",
        "new.shape"
      ],
      "execution_count": null,
      "outputs": []
    },
    {
      "cell_type": "code",
      "metadata": {
        "id": "cqwvBipLBCVL",
        "colab_type": "code",
        "colab": {}
      },
      "source": [
        "# new.head()"
      ],
      "execution_count": null,
      "outputs": []
    },
    {
      "cell_type": "code",
      "metadata": {
        "id": "1CPTftw1dlUK",
        "colab_type": "code",
        "colab": {}
      },
      "source": [
        "new['12'].value_counts()"
      ],
      "execution_count": null,
      "outputs": []
    },
    {
      "cell_type": "code",
      "metadata": {
        "id": "MZsD1FO_hsXR",
        "colab_type": "code",
        "colab": {}
      },
      "source": [
        "# remove \" from beginning of bank name\n",
        "new['12'] = [x.lstrip('\"') for x in new['12']]"
      ],
      "execution_count": null,
      "outputs": []
    },
    {
      "cell_type": "code",
      "metadata": {
        "id": "gzL1dMpulFnr",
        "colab_type": "code",
        "colab": {}
      },
      "source": [
        "# new['12'].describe()"
      ],
      "execution_count": null,
      "outputs": []
    },
    {
      "cell_type": "code",
      "metadata": {
        "id": "EHOB_SpkIQgT",
        "colab_type": "code",
        "colab": {}
      },
      "source": [
        "# new['12'].value_counts()"
      ],
      "execution_count": null,
      "outputs": []
    },
    {
      "cell_type": "code",
      "metadata": {
        "id": "_K4FLRcBQbsN",
        "colab_type": "code",
        "colab": {}
      },
      "source": [
        "new['1']=new['1'].astype(str)"
      ],
      "execution_count": null,
      "outputs": []
    },
    {
      "cell_type": "code",
      "metadata": {
        "id": "302doDESQSK0",
        "colab_type": "code",
        "colab": {}
      },
      "source": [
        "# another way to remove regex values\n",
        "#  new['12'] = new.loc[:,('12')].str.replace(r'\\\"\\t', '')\n",
        "# removing digits \n",
        "# df_10v['emp_length'] = df_10v['emp_length'].astype(str).str.replace('\\D+', '')"
      ],
      "execution_count": null,
      "outputs": []
    },
    {
      "cell_type": "code",
      "metadata": {
        "id": "5NsPMp__n7nQ",
        "colab_type": "code",
        "colab": {}
      },
      "source": [
        "print(new['1'].isna().sum())"
      ],
      "execution_count": null,
      "outputs": []
    },
    {
      "cell_type": "code",
      "metadata": {
        "id": "xJaH2Yqln70p",
        "colab_type": "code",
        "colab": {}
      },
      "source": [
        "new=new.dropna(subset=['1'])\n",
        "print(new['1'].isna().sum())\n",
        "new.shape"
      ],
      "execution_count": null,
      "outputs": []
    },
    {
      "cell_type": "code",
      "metadata": {
        "id": "kCMHoXEYWcNN",
        "colab_type": "code",
        "colab": {}
      },
      "source": [
        "# remove \" from beginning of bank name\n",
        "new['1'] = [x.lstrip('\"') for x in new['1']]\n"
      ],
      "execution_count": null,
      "outputs": []
    },
    {
      "cell_type": "code",
      "metadata": {
        "id": "KTPzf9m9WKwQ",
        "colab_type": "code",
        "colab": {}
      },
      "source": [
        "new['1'].value_counts()"
      ],
      "execution_count": null,
      "outputs": []
    },
    {
      "cell_type": "code",
      "metadata": {
        "id": "Xdwilk6e2VY7",
        "colab_type": "code",
        "colab": {}
      },
      "source": [
        ""
      ],
      "execution_count": null,
      "outputs": []
    },
    {
      "cell_type": "code",
      "metadata": {
        "id": "DSAerInOMVgT",
        "colab_type": "code",
        "colab": {}
      },
      "source": [
        "# drop rows in column 11 with less than 2 values\n",
        "col = '11'  # 'bar'\n",
        "n = 2\n",
        "\n",
        "new[new.groupby(col)[col].transform('count').ge(n)]\n",
        "new.head()"
      ],
      "execution_count": null,
      "outputs": []
    },
    {
      "cell_type": "code",
      "metadata": {
        "id": "CxkVHriJEyZu",
        "colab_type": "code",
        "colab": {}
      },
      "source": [
        "#ldc low date count\n",
        "\n",
        "ldc=new.groupby('12').filter(lambda x : (x['12'].count()<=2).any())\n",
        "ldc.head()"
      ],
      "execution_count": null,
      "outputs": []
    },
    {
      "cell_type": "code",
      "metadata": {
        "id": "d_ANCMTcEyf6",
        "colab_type": "code",
        "colab": {}
      },
      "source": [
        "# only 64 lines\n",
        "ldc.shape"
      ],
      "execution_count": null,
      "outputs": []
    },
    {
      "cell_type": "code",
      "metadata": {
        "id": "OFu8R2Dis8ZD",
        "colab_type": "code",
        "colab": {}
      },
      "source": [
        "print(new.iloc[:,5].isna().sum())"
      ],
      "execution_count": null,
      "outputs": []
    },
    {
      "cell_type": "code",
      "metadata": {
        "id": "5YCFtEQisnlp",
        "colab_type": "code",
        "colab": {}
      },
      "source": [
        "new.iloc[:,5].describe()"
      ],
      "execution_count": null,
      "outputs": []
    },
    {
      "cell_type": "code",
      "metadata": {
        "id": "8HIW110us6IU",
        "colab_type": "code",
        "colab": {}
      },
      "source": [
        "new['4'] = new['4'].astype(float)"
      ],
      "execution_count": null,
      "outputs": []
    },
    {
      "cell_type": "code",
      "metadata": {
        "id": "m1HcKYd0rhoY",
        "colab_type": "code",
        "colab": {}
      },
      "source": [
        "new['4'] = new['4'].astype(str)"
      ],
      "execution_count": null,
      "outputs": []
    },
    {
      "cell_type": "code",
      "metadata": {
        "id": "DCQSRteRrhzp",
        "colab_type": "code",
        "colab": {}
      },
      "source": [
        "new['3'] = new['3'].astype(str)"
      ],
      "execution_count": null,
      "outputs": []
    },
    {
      "cell_type": "code",
      "metadata": {
        "id": "OUdzDhzariDQ",
        "colab_type": "code",
        "colab": {}
      },
      "source": [
        "\n",
        "# new['10'] = new['10'].astype()"
      ],
      "execution_count": null,
      "outputs": []
    },
    {
      "cell_type": "code",
      "metadata": {
        "id": "yn4FqW07rTqF",
        "colab_type": "code",
        "colab": {}
      },
      "source": [
        "# pd.options.display.float_format = '${:,.2f}'.format"
      ],
      "execution_count": null,
      "outputs": []
    },
    {
      "cell_type": "code",
      "metadata": {
        "id": "EZCRZbS1i5ok",
        "colab_type": "code",
        "colab": {}
      },
      "source": [
        "new = new.rename(columns={'0': 'Loan Amount', '1': 'City', '2': 'State', '3': 'Zip', '4': 'NAICS Code', \n",
        "                            '5': 'Business Type', '6': 'Race', '7': 'Gender', '8': 'Veteran', '9': 'Non Profit',\n",
        "                            '10': 'Jobs Saved', '11': 'Date', '12': 'Bank',})\n",
        "new.head()"
      ],
      "execution_count": null,
      "outputs": []
    },
    {
      "cell_type": "code",
      "metadata": {
        "id": "LBh3nadkbAWB",
        "colab_type": "code",
        "colab": {}
      },
      "source": [
        "new['Bank'].value_counts()"
      ],
      "execution_count": null,
      "outputs": []
    },
    {
      "cell_type": "code",
      "metadata": {
        "id": "O2IU_PJFk2kf",
        "colab_type": "code",
        "colab": {}
      },
      "source": [
        "new.shape"
      ],
      "execution_count": null,
      "outputs": []
    },
    {
      "cell_type": "code",
      "metadata": {
        "id": "hfTt-5s_qu6U",
        "colab_type": "code",
        "colab": {}
      },
      "source": [
        "# Extract Column Names of a Pandas Dataframe\n",
        "new.columns"
      ],
      "execution_count": null,
      "outputs": []
    },
    {
      "cell_type": "code",
      "metadata": {
        "id": "Qh-YJJ1Qqu_3",
        "colab_type": "code",
        "colab": {}
      },
      "source": [
        "# remove \" from empty cells name\n",
        "new['State'] = [x.lstrip('\"') for x in new['State']]"
      ],
      "execution_count": null,
      "outputs": []
    },
    {
      "cell_type": "code",
      "metadata": {
        "id": "tFqoaRymqvFD",
        "colab_type": "code",
        "colab": {}
      },
      "source": [
        ""
      ],
      "execution_count": null,
      "outputs": []
    },
    {
      "cell_type": "code",
      "metadata": {
        "id": "ui83auRPk2av",
        "colab_type": "code",
        "colab": {}
      },
      "source": [
        "\n",
        "new.to_csv('quasi2.csv', index=False)\n",
        "!cp quasi2.csv \"drive/My Drive/data\""
      ],
      "execution_count": null,
      "outputs": []
    },
    {
      "cell_type": "code",
      "metadata": {
        "id": "aTBjrF65k2sG",
        "colab_type": "code",
        "colab": {}
      },
      "source": [
        ""
      ],
      "execution_count": null,
      "outputs": []
    },
    {
      "cell_type": "code",
      "metadata": {
        "id": "H9YazjWw_pN7",
        "colab_type": "code",
        "colab": {}
      },
      "source": [
        "new['Jobs Saved'] = new['Jobs Saved'].astype(str)\n",
        "new['Jobs Saved'] = new['Jobs Saved'].str.rstrip('.0')\n",
        "new['Jobs Saved'].describe()"
      ],
      "execution_count": null,
      "outputs": []
    },
    {
      "cell_type": "code",
      "metadata": {
        "id": "1BvUNwqT_pZj",
        "colab_type": "code",
        "colab": {}
      },
      "source": [
        "print(new['Jobs Saved'].isna().sum())"
      ],
      "execution_count": null,
      "outputs": []
    },
    {
      "cell_type": "code",
      "metadata": {
        "id": "TnHtFG5B_rz7",
        "colab_type": "code",
        "colab": {}
      },
      "source": [
        "new['NAICS Code'] = new['NAICS Code'].astype(str)\n",
        "new['NAICS Code'] = new['NAICS Code'].str.rstrip('.0')\n",
        "new['NAICS Code'].describe()"
      ],
      "execution_count": null,
      "outputs": []
    },
    {
      "cell_type": "code",
      "metadata": {
        "id": "PtAGuTj9LQ2F",
        "colab_type": "code",
        "colab": {}
      },
      "source": [
        "df['Jobs Saved'] = pd.to_numeric(df['Jobs Saved'], errors=\"coerce\")"
      ],
      "execution_count": null,
      "outputs": []
    },
    {
      "cell_type": "code",
      "metadata": {
        "id": "xbm8woyAk2zU",
        "colab_type": "code",
        "colab": {}
      },
      "source": [
        "new.sample()\n",
        "\n"
      ],
      "execution_count": null,
      "outputs": []
    },
    {
      "cell_type": "code",
      "metadata": {
        "id": "jZ6qu9UR_U0n",
        "colab_type": "code",
        "colab": {}
      },
      "source": [
        "# check\n",
        "path = \"/content/drive/My Drive/data/quasi2.csv\"\n",
        "\n"
      ],
      "execution_count": null,
      "outputs": []
    },
    {
      "cell_type": "code",
      "metadata": {
        "id": "N69dc_NSNiB0",
        "colab_type": "code",
        "colab": {}
      },
      "source": [
        "df2 = pd.read_csv(path, index_col=None).sample(60000)\n",
        "\n",
        "# df2.sample(25)\n",
        "\n"
      ],
      "execution_count": null,
      "outputs": []
    },
    {
      "cell_type": "code",
      "metadata": {
        "id": "f_yALqWkN3yw",
        "colab_type": "code",
        "colab": {}
      },
      "source": [
        "df2.to_csv('samplequasi2.csv', index=False)\n",
        "!cp quasi2.csv \"drive/My Drive/data\""
      ],
      "execution_count": null,
      "outputs": []
    },
    {
      "cell_type": "code",
      "metadata": {
        "id": "zWo81_M4_U6a",
        "colab_type": "code",
        "colab": {}
      },
      "source": [
        "#this notebook is getting to be long enough. Moving on to do more clean up in clean3."
      ],
      "execution_count": null,
      "outputs": []
    },
    {
      "cell_type": "code",
      "metadata": {
        "id": "oGbEfe32_VBR",
        "colab_type": "code",
        "colab": {}
      },
      "source": [
        ""
      ],
      "execution_count": null,
      "outputs": []
    }
  ]
}