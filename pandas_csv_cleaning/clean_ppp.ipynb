{
  "nbformat": 4,
  "nbformat_minor": 0,
  "metadata": {
    "colab": {
      "name": "clean_ppp.ipynb",
      "provenance": [],
      "private_outputs": true,
      "collapsed_sections": [],
      "mount_file_id": "1tJkD7-_XFs-2Vt8-GR15APUFyBv8CYDc",
      "authorship_tag": "ABX9TyPBl2jf4RfkNf/zOCkKG8m0",
      "include_colab_link": true
    },
    "kernelspec": {
      "name": "python3",
      "display_name": "Python 3"
    }
  },
  "cells": [
    {
      "cell_type": "markdown",
      "metadata": {
        "id": "view-in-github",
        "colab_type": "text"
      },
      "source": [
        "<a href=\"https://colab.research.google.com/github/sherirosalia/PPP_Covid_Stimulus/blob/master/clean_ppp.ipynb\" target=\"_parent\"><img src=\"https://colab.research.google.com/assets/colab-badge.svg\" alt=\"Open In Colab\"/></a>"
      ]
    },
    {
      "cell_type": "code",
      "metadata": {
        "id": "1-EZp8zwrzeu",
        "colab_type": "code",
        "colab": {}
      },
      "source": [
        "import pandas as pd\n",
        "import os, sys \n",
        "import io\n",
        "import ee\n",
        "\n"
      ],
      "execution_count": null,
      "outputs": []
    },
    {
      "cell_type": "code",
      "metadata": {
        "id": "ii3flRP84Xa9",
        "colab_type": "code",
        "colab": {}
      },
      "source": [
        "# !pip install -U -q PyDrive"
      ],
      "execution_count": null,
      "outputs": []
    },
    {
      "cell_type": "code",
      "metadata": {
        "id": "ax45eZXtxQE2",
        "colab_type": "code",
        "colab": {}
      },
      "source": [
        "from google.colab import drive\n",
        "drive.mount('/content/drive')"
      ],
      "execution_count": null,
      "outputs": []
    },
    {
      "cell_type": "code",
      "metadata": {
        "id": "RxhFfrXX0jn0",
        "colab_type": "code",
        "colab": {}
      },
      "source": [
        "path = \"/content/drive/My Drive/data/all_states.csv\"\n",
        "\n",
        "\n"
      ],
      "execution_count": null,
      "outputs": []
    },
    {
      "cell_type": "code",
      "metadata": {
        "id": "tub77oA8j9IA",
        "colab_type": "code",
        "colab": {}
      },
      "source": [
        "\n",
        "\n",
        "df = pd.read_csv(path, header=None, sep=\"\\n\")\n",
        "df = df[0].str.split(',', expand=True)"
      ],
      "execution_count": null,
      "outputs": []
    },
    {
      "cell_type": "code",
      "metadata": {
        "id": "roSn8zI93O4a",
        "colab_type": "code",
        "colab": {}
      },
      "source": [
        "df.head()"
      ],
      "execution_count": null,
      "outputs": []
    },
    {
      "cell_type": "code",
      "metadata": {
        "id": "UHhO62K72B9L",
        "colab_type": "code",
        "colab": {}
      },
      "source": [
        "from google.colab import files"
      ],
      "execution_count": null,
      "outputs": []
    },
    {
      "cell_type": "code",
      "metadata": {
        "id": "SJp2zU1K0-FI",
        "colab_type": "code",
        "colab": {}
      },
      "source": [
        "# from pydrive.auth import GoogleAuth\n",
        "# from pydrive.drive import GoogleDrive\n",
        "# from google.colab import auth\n",
        "# from oauth2client.client import GoogleCredentials"
      ],
      "execution_count": null,
      "outputs": []
    },
    {
      "cell_type": "code",
      "metadata": {
        "id": "dkvMTBs_1HGo",
        "colab_type": "code",
        "colab": {}
      },
      "source": [
        "# auth.authenticate_user()\n",
        "# gauth = GoogleAuth()\n",
        "# gauth.credentials = GoogleCredentials.get_application_default()\n",
        "# drive = GoogleDrive(gauth)"
      ],
      "execution_count": null,
      "outputs": []
    },
    {
      "cell_type": "code",
      "metadata": {
        "id": "6yZonhhf7RT2",
        "colab_type": "code",
        "colab": {}
      },
      "source": [
        "df.to_csv('data.csv', index=0)\n",
        "!cp data.csv \"drive/My Drive/\"\n"
      ],
      "execution_count": null,
      "outputs": []
    },
    {
      "cell_type": "code",
      "metadata": {
        "id": "JIk57dY5IGGJ",
        "colab_type": "code",
        "colab": {}
      },
      "source": [
        ""
      ],
      "execution_count": null,
      "outputs": []
    },
    {
      "cell_type": "code",
      "metadata": {
        "id": "L9dDsGiYDugv",
        "colab_type": "code",
        "colab": {}
      },
      "source": [
        "# dc dataframe for cleaning\n",
        "\n",
        "dc=pd.read_csv('/content/data.csv')\n",
        "dc.head()"
      ],
      "execution_count": null,
      "outputs": []
    },
    {
      "cell_type": "markdown",
      "metadata": {
        "id": "XsiN8a5Ojp7j",
        "colab_type": "text"
      },
      "source": [
        "names = list(range(0,N))"
      ]
    },
    {
      "cell_type": "code",
      "metadata": {
        "id": "0AfgecWV1eDf",
        "colab_type": "code",
        "colab": {}
      },
      "source": [
        "pd.set_option('max_colwidth', 800)\n",
        "dc.sample(100)"
      ],
      "execution_count": null,
      "outputs": []
    },
    {
      "cell_type": "code",
      "metadata": {
        "id": "bFRbI3ArGSPa",
        "colab_type": "code",
        "colab": {}
      },
      "source": [
        "# dc=dc.drop(dc.columns[dc.columns.str.contains('unnamed',case = False)],axis = 1, inplace = True)"
      ],
      "execution_count": null,
      "outputs": []
    },
    {
      "cell_type": "code",
      "metadata": {
        "id": "O0YPwlS-edzt",
        "colab_type": "code",
        "colab": {}
      },
      "source": [
        "\n",
        "# dc=dc.dropna(how='all', axis='columns')\n",
        "# dc.head()\n",
        "dc.shape\n",
        "dc.columns.tolist()"
      ],
      "execution_count": null,
      "outputs": []
    },
    {
      "cell_type": "code",
      "metadata": {
        "id": "c74NAwriEyj9",
        "colab_type": "code",
        "colab": {}
      },
      "source": [
        "dc[\"9\"].value_counts()"
      ],
      "execution_count": null,
      "outputs": []
    },
    {
      "cell_type": "code",
      "metadata": {
        "id": "cHTnkXrrqGfv",
        "colab_type": "code",
        "colab": {}
      },
      "source": [
        "dc['27'].value_counts()"
      ],
      "execution_count": null,
      "outputs": []
    },
    {
      "cell_type": "code",
      "metadata": {
        "id": "UuYPEwbfk5GM",
        "colab_type": "code",
        "colab": {}
      },
      "source": [
        "df=dc\n",
        "df.shape"
      ],
      "execution_count": null,
      "outputs": []
    },
    {
      "cell_type": "code",
      "metadata": {
        "id": "zIwv0QIFqPMH",
        "colab_type": "code",
        "colab": {}
      },
      "source": [
        "df['26'].value_counts()"
      ],
      "execution_count": null,
      "outputs": []
    },
    {
      "cell_type": "code",
      "metadata": {
        "id": "Il5TGKmuqUNc",
        "colab_type": "code",
        "colab": {}
      },
      "source": [
        "df['25'].value_counts()"
      ],
      "execution_count": null,
      "outputs": []
    },
    {
      "cell_type": "code",
      "metadata": {
        "id": "3GIVxiTgqYyL",
        "colab_type": "code",
        "colab": {}
      },
      "source": [
        "df['24'].value_counts()"
      ],
      "execution_count": null,
      "outputs": []
    },
    {
      "cell_type": "code",
      "metadata": {
        "id": "APkhGv3zqc4R",
        "colab_type": "code",
        "colab": {}
      },
      "source": [
        "df['23'].value_counts()"
      ],
      "execution_count": null,
      "outputs": []
    },
    {
      "cell_type": "code",
      "metadata": {
        "id": "BpFOLle3qgJR",
        "colab_type": "code",
        "colab": {}
      },
      "source": [
        "print(f'{df[\"22\"].value_counts()}')\n",
        "print(f'{df[\"21\"].value_counts()}')\n",
        "print(f'{df[\"20\"].value_counts()}')\n",
        "print(f'{df[\"19\"].value_counts()}')\n",
        "print(f'{df[\"18\"].value_counts()}')\n",
        "print(f'{df[\"17\"].value_counts()}')\n",
        "print(f'{df[\"16\"].value_counts()}')\n",
        "print(f'{df[\"15\"].value_counts()}')"
      ],
      "execution_count": null,
      "outputs": []
    },
    {
      "cell_type": "code",
      "metadata": {
        "id": "yRauLgfILcYa",
        "colab_type": "code",
        "colab": {}
      },
      "source": [
        "tc=pd.read_csv('/content/data.csv')\n",
        "tc.head()"
      ],
      "execution_count": null,
      "outputs": []
    },
    {
      "cell_type": "code",
      "metadata": {
        "id": "Hl8968euZnXQ",
        "colab_type": "code",
        "colab": {}
      },
      "source": [
        "# sel = tc.drop(tc[tc[\"27\"].notnull()], axis=1, inplace=True)\n",
        "\n",
        "# sel=df.drop(df.loc[df[27]=='GU - 00'].index, inplace=True)\n",
        "\n",
        "# sel.head()\n",
        "\n"
      ],
      "execution_count": null,
      "outputs": []
    },
    {
      "cell_type": "code",
      "metadata": {
        "id": "QOt3WqKqriMV",
        "colab_type": "code",
        "colab": {}
      },
      "source": [
        "tc['27'].value_counts()\n",
        "# sel = tc.drop(tc[tc[\"27\"].notnull()], axis=0, inplace=True)\n",
        "# sel.head()"
      ],
      "execution_count": null,
      "outputs": []
    },
    {
      "cell_type": "code",
      "metadata": {
        "id": "uP_dp08RuhZq",
        "colab_type": "code",
        "colab": {}
      },
      "source": [
        "df = tc[tc['27'] != 'GU - 00']\n"
      ],
      "execution_count": null,
      "outputs": []
    },
    {
      "cell_type": "code",
      "metadata": {
        "id": "B_QzmKN6PazV",
        "colab_type": "code",
        "colab": {}
      },
      "source": [
        "# df.head()\n",
        "df.shape"
      ],
      "execution_count": null,
      "outputs": []
    },
    {
      "cell_type": "code",
      "metadata": {
        "id": "eV3ETapWu-Ba",
        "colab_type": "code",
        "colab": {}
      },
      "source": [
        ""
      ],
      "execution_count": null,
      "outputs": []
    },
    {
      "cell_type": "code",
      "metadata": {
        "id": "-MH1AFLse5Uk",
        "colab_type": "code",
        "colab": {}
      },
      "source": [
        "#we lost 1 rows, now let's drop null value columns\n",
        "new=df.dropna(axis=1, how='all')\n",
        "new.sample(10)"
      ],
      "execution_count": null,
      "outputs": []
    },
    {
      "cell_type": "code",
      "metadata": {
        "id": "qnmbStube5ve",
        "colab_type": "code",
        "colab": {}
      },
      "source": [
        "# did not lose any rows\n",
        "new.shape"
      ],
      "execution_count": null,
      "outputs": []
    },
    {
      "cell_type": "code",
      "metadata": {
        "id": "PDSkUq_0VzqO",
        "colab_type": "code",
        "colab": {}
      },
      "source": [
        ""
      ],
      "execution_count": null,
      "outputs": []
    },
    {
      "cell_type": "code",
      "metadata": {
        "id": "a4RZRvTkVzwq",
        "colab_type": "code",
        "colab": {}
      },
      "source": [
        ""
      ],
      "execution_count": null,
      "outputs": []
    },
    {
      "cell_type": "code",
      "metadata": {
        "id": "kMiLtwWkVz2O",
        "colab_type": "code",
        "colab": {}
      },
      "source": [
        ""
      ],
      "execution_count": null,
      "outputs": []
    },
    {
      "cell_type": "code",
      "metadata": {
        "id": "4JQW6hPLVz_X",
        "colab_type": "code",
        "colab": {}
      },
      "source": [
        ""
      ],
      "execution_count": null,
      "outputs": []
    },
    {
      "cell_type": "code",
      "metadata": {
        "id": "eGwy-NFiVz8B",
        "colab_type": "code",
        "colab": {}
      },
      "source": [
        ""
      ],
      "execution_count": null,
      "outputs": []
    },
    {
      "cell_type": "code",
      "metadata": {
        "id": "AAMNxEL7gOPp",
        "colab_type": "code",
        "colab": {}
      },
      "source": [
        "new.to_csv('quasi.csv', index=0)\n",
        "!cp data.csv \"drive/My Drive/\""
      ],
      "execution_count": null,
      "outputs": []
    },
    {
      "cell_type": "code",
      "metadata": {
        "id": "Ox_cNmHTozqO",
        "colab_type": "code",
        "colab": {}
      },
      "source": [
        "quasi=pd.read_csv('quasi.csv')\n",
        "quasi.sample(10)"
      ],
      "execution_count": null,
      "outputs": []
    },
    {
      "cell_type": "code",
      "metadata": {
        "id": "aq7KRefzo6z2",
        "colab_type": "code",
        "colab": {}
      },
      "source": [
        "print(quasi['16'].value_counts())\n",
        "quasi.shape"
      ],
      "execution_count": null,
      "outputs": []
    },
    {
      "cell_type": "code",
      "metadata": {
        "id": "yNXDAjoIe55p",
        "colab_type": "code",
        "colab": {}
      },
      "source": [
        "new=quasi.dropna(axis=1, how='all')\n",
        "new.sample(10)"
      ],
      "execution_count": null,
      "outputs": []
    },
    {
      "cell_type": "code",
      "metadata": {
        "id": "FQlqkDsdgZ9r",
        "colab_type": "code",
        "colab": {}
      },
      "source": [
        "new.shape\n"
      ],
      "execution_count": null,
      "outputs": []
    },
    {
      "cell_type": "code",
      "metadata": {
        "id": "3qgNMTC8gaGQ",
        "colab_type": "code",
        "colab": {}
      },
      "source": [
        "print(f'{vals[16].value_counts()}')"
      ],
      "execution_count": null,
      "outputs": []
    },
    {
      "cell_type": "code",
      "metadata": {
        "id": "z585fVJugaNV",
        "colab_type": "code",
        "colab": {}
      },
      "source": [
        "# let's drop the rows from 16 that have values and see what things look like...only sacrificing about 600\n",
        "# vls = vals.dropna(vals[vals[14].isnull()])\n",
        "# data = data[data['opinon'].isnull()]\n",
        "vls=vals[vals[16].isnull()]\n",
        "# vls = vals.dropna(how='any', subset=None)\n",
        "vls.head()\n"
      ],
      "execution_count": null,
      "outputs": []
    },
    {
      "cell_type": "code",
      "metadata": {
        "id": "OrheeXC6j0V2",
        "colab_type": "code",
        "colab": {}
      },
      "source": [
        "vls.shape\n"
      ],
      "execution_count": null,
      "outputs": []
    },
    {
      "cell_type": "code",
      "metadata": {
        "id": "CDgAm4lTgaT0",
        "colab_type": "code",
        "colab": {}
      },
      "source": [
        "#only lost 5 rows. Lets do the same for 15 and see what happens\n",
        "vl=vls[vls[15].isnull()]"
      ],
      "execution_count": null,
      "outputs": []
    },
    {
      "cell_type": "code",
      "metadata": {
        "id": "__Jbj131gaal",
        "colab_type": "code",
        "colab": {}
      },
      "source": [
        "#lost about 100 rows. \n",
        "vl.shape"
      ],
      "execution_count": null,
      "outputs": []
    },
    {
      "cell_type": "code",
      "metadata": {
        "id": "2rdu6--xmZfG",
        "colab_type": "code",
        "colab": {}
      },
      "source": [
        "vl=vl[vl[14].isnull()]"
      ],
      "execution_count": null,
      "outputs": []
    },
    {
      "cell_type": "code",
      "metadata": {
        "id": "OUj2IWbvmZqv",
        "colab_type": "code",
        "colab": {}
      },
      "source": [
        "vl.shape()"
      ],
      "execution_count": null,
      "outputs": []
    },
    {
      "cell_type": "code",
      "metadata": {
        "id": "fvSBN_vGmZyL",
        "colab_type": "code",
        "colab": {}
      },
      "source": [
        ""
      ],
      "execution_count": null,
      "outputs": []
    },
    {
      "cell_type": "code",
      "metadata": {
        "id": "emhMY5Wvetap",
        "colab_type": "code",
        "colab": {}
      },
      "source": [
        "df.to_csv('states.csv', index=False)"
      ],
      "execution_count": null,
      "outputs": []
    },
    {
      "cell_type": "code",
      "metadata": {
        "id": "0vKs4PTdm-Rq",
        "colab_type": "code",
        "colab": {}
      },
      "source": [
        ""
      ],
      "execution_count": null,
      "outputs": []
    },
    {
      "cell_type": "code",
      "metadata": {
        "id": "yV1s-cWYm-s3",
        "colab_type": "code",
        "colab": {}
      },
      "source": [
        ""
      ],
      "execution_count": null,
      "outputs": []
    },
    {
      "cell_type": "markdown",
      "metadata": {
        "id": "3SWJp9wCc4is",
        "colab_type": "text"
      },
      "source": [
        ""
      ]
    },
    {
      "cell_type": "code",
      "metadata": {
        "id": "_OlkS7jKc6m6",
        "colab_type": "code",
        "colab": {}
      },
      "source": [
        "#split the rows into columns one at at time\n",
        "# splitz=df.split(expand=True, pat=\",\")\n",
        "# splitz.head()"
      ],
      "execution_count": null,
      "outputs": []
    },
    {
      "cell_type": "code",
      "metadata": {
        "id": "6r4jG01dAEmV",
        "colab_type": "code",
        "colab": {}
      },
      "source": [
        "df.columns=['Loan Amount', 'State', 'Zipcode', 'NAICS Code', 'Business Type', 'Race, Ethnicity', 'Gender', 'Veteran' , 'Non Profit?', 'Date Approved', 'CD']"
      ],
      "execution_count": null,
      "outputs": []
    },
    {
      "cell_type": "code",
      "metadata": {
        "id": "I8QFFJA8AE3S",
        "colab_type": "code",
        "colab": {}
      },
      "source": [
        "df.head()"
      ],
      "execution_count": null,
      "outputs": []
    },
    {
      "cell_type": "code",
      "metadata": {
        "id": "dM2Fu5SjAFGO",
        "colab_type": "code",
        "colab": {}
      },
      "source": [
        ""
      ],
      "execution_count": null,
      "outputs": []
    }
  ]
}