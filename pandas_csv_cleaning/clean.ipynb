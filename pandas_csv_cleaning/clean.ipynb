{
 "metadata": {
  "language_info": {
   "codemirror_mode": {
    "name": "ipython",
    "version": 3
   },
   "file_extension": ".py",
   "mimetype": "text/x-python",
   "name": "python",
   "nbconvert_exporter": "python",
   "pygments_lexer": "ipython3",
   "version": "3.7.4-final"
  },
  "orig_nbformat": 2,
  "kernelspec": {
   "name": "python3",
   "display_name": "Python 3"
  }
 },
 "nbformat": 4,
 "nbformat_minor": 2,
 "cells": [
  {
   "cell_type": "code",
   "execution_count": 3,
   "metadata": {},
   "outputs": [],
   "source": [
    "import pandas as pd \n",
    "import sys, io, os \n",
    "\n"
   ]
  },
  {
   "cell_type": "code",
   "execution_count": 39,
   "metadata": {},
   "outputs": [],
   "source": [
    "csv='all_states.csv'"
   ]
  },
  {
   "cell_type": "code",
   "execution_count": 40,
   "metadata": {},
   "outputs": [],
   "source": [
    "\n",
    "df = pd.read_csv(csv, header=None, sep=\"\\n\")\n",
    "df = df[0].str.split(',', expand=True)"
   ]
  },
  {
   "cell_type": "code",
   "execution_count": 41,
   "metadata": {},
   "outputs": [
    {
     "output_type": "execute_result",
     "data": {
      "text/plain": "              0                1   2      3       4   \\\n3180603     7400          WARWICK  RI  02889  812112   \n1036416    13100       GOULDSBORO  ME  04607  114112   \n90599     114000       MANCHESTER  NH  03103  811192   \n3985758    20800  MANHATTAN BEACH  CA  90266  531210   \n3505299     5600          LINCOLN  NE  68502  621330   \n...          ...              ...  ..    ...     ...   \n2628478     1351     LEHIGH ACRES  FL  33936  488510   \n2103169     3541        ROOSEVELT  NY  11575  236118   \n609483      9255         SAVANNAH  GA  31410  713290   \n812039   1618.89           OWASSO  OK  74055  812112   \n3809653    60584      LOS ANGELES  CA  90061  484110   \n\n                                5           6           7            8  9   \\\n3180603        Sole Proprietorship       White  Male Owned  Non-Veteran      \n1036416  Self-Employed Individuals  Unanswered  Unanswered   Unanswered      \n90599     Subchapter S Corporation  Unanswered  Unanswered   Unanswered      \n3985758        Sole Proprietorship  Unanswered  Male Owned  Non-Veteran      \n3505299    Independent Contractors  Unanswered  Unanswered   Unanswered      \n...                            ...         ...         ...          ... ..   \n2628478    Independent Contractors  Unanswered  Unanswered   Unanswered      \n2103169                Corporation  Unanswered  Unanswered   Unanswered      \n609483    Subchapter S Corporation  Unanswered  Unanswered   Unanswered      \n812039         Sole Proprietorship  Unanswered  Unanswered   Unanswered      \n3809653                Corporation  Unanswered  Unanswered   Unanswered      \n\n         ...    18    19    20    21    22    23    24    25    26    27  \n3180603  ...  None  None  None  None  None  None  None  None  None  None  \n1036416  ...  None  None  None  None  None  None  None  None  None  None  \n90599    ...  None  None  None  None  None  None  None  None  None  None  \n3985758  ...  None  None  None  None  None  None  None  None  None  None  \n3505299  ...  None  None  None  None  None  None  None  None  None  None  \n...      ...   ...   ...   ...   ...   ...   ...   ...   ...   ...   ...  \n2628478  ...  None  None  None  None  None  None  None  None  None  None  \n2103169  ...  None  None  None  None  None  None  None  None  None  None  \n609483   ...  None  None  None  None  None  None  None  None  None  None  \n812039   ...  None  None  None  None  None  None  None  None  None  None  \n3809653  ...  None  None  None  None  None  None  None  None  None  None  \n\n[100 rows x 28 columns]",
      "text/html": "<div>\n<style scoped>\n    .dataframe tbody tr th:only-of-type {\n        vertical-align: middle;\n    }\n\n    .dataframe tbody tr th {\n        vertical-align: top;\n    }\n\n    .dataframe thead th {\n        text-align: right;\n    }\n</style>\n<table border=\"1\" class=\"dataframe\">\n  <thead>\n    <tr style=\"text-align: right;\">\n      <th></th>\n      <th>0</th>\n      <th>1</th>\n      <th>2</th>\n      <th>3</th>\n      <th>4</th>\n      <th>5</th>\n      <th>6</th>\n      <th>7</th>\n      <th>8</th>\n      <th>9</th>\n      <th>...</th>\n      <th>18</th>\n      <th>19</th>\n      <th>20</th>\n      <th>21</th>\n      <th>22</th>\n      <th>23</th>\n      <th>24</th>\n      <th>25</th>\n      <th>26</th>\n      <th>27</th>\n    </tr>\n  </thead>\n  <tbody>\n    <tr>\n      <th>3180603</th>\n      <td>7400</td>\n      <td>WARWICK</td>\n      <td>RI</td>\n      <td>02889</td>\n      <td>812112</td>\n      <td>Sole Proprietorship</td>\n      <td>White</td>\n      <td>Male Owned</td>\n      <td>Non-Veteran</td>\n      <td></td>\n      <td>...</td>\n      <td>None</td>\n      <td>None</td>\n      <td>None</td>\n      <td>None</td>\n      <td>None</td>\n      <td>None</td>\n      <td>None</td>\n      <td>None</td>\n      <td>None</td>\n      <td>None</td>\n    </tr>\n    <tr>\n      <th>1036416</th>\n      <td>13100</td>\n      <td>GOULDSBORO</td>\n      <td>ME</td>\n      <td>04607</td>\n      <td>114112</td>\n      <td>Self-Employed Individuals</td>\n      <td>Unanswered</td>\n      <td>Unanswered</td>\n      <td>Unanswered</td>\n      <td></td>\n      <td>...</td>\n      <td>None</td>\n      <td>None</td>\n      <td>None</td>\n      <td>None</td>\n      <td>None</td>\n      <td>None</td>\n      <td>None</td>\n      <td>None</td>\n      <td>None</td>\n      <td>None</td>\n    </tr>\n    <tr>\n      <th>90599</th>\n      <td>114000</td>\n      <td>MANCHESTER</td>\n      <td>NH</td>\n      <td>03103</td>\n      <td>811192</td>\n      <td>Subchapter S Corporation</td>\n      <td>Unanswered</td>\n      <td>Unanswered</td>\n      <td>Unanswered</td>\n      <td></td>\n      <td>...</td>\n      <td>None</td>\n      <td>None</td>\n      <td>None</td>\n      <td>None</td>\n      <td>None</td>\n      <td>None</td>\n      <td>None</td>\n      <td>None</td>\n      <td>None</td>\n      <td>None</td>\n    </tr>\n    <tr>\n      <th>3985758</th>\n      <td>20800</td>\n      <td>MANHATTAN BEACH</td>\n      <td>CA</td>\n      <td>90266</td>\n      <td>531210</td>\n      <td>Sole Proprietorship</td>\n      <td>Unanswered</td>\n      <td>Male Owned</td>\n      <td>Non-Veteran</td>\n      <td></td>\n      <td>...</td>\n      <td>None</td>\n      <td>None</td>\n      <td>None</td>\n      <td>None</td>\n      <td>None</td>\n      <td>None</td>\n      <td>None</td>\n      <td>None</td>\n      <td>None</td>\n      <td>None</td>\n    </tr>\n    <tr>\n      <th>3505299</th>\n      <td>5600</td>\n      <td>LINCOLN</td>\n      <td>NE</td>\n      <td>68502</td>\n      <td>621330</td>\n      <td>Independent Contractors</td>\n      <td>Unanswered</td>\n      <td>Unanswered</td>\n      <td>Unanswered</td>\n      <td></td>\n      <td>...</td>\n      <td>None</td>\n      <td>None</td>\n      <td>None</td>\n      <td>None</td>\n      <td>None</td>\n      <td>None</td>\n      <td>None</td>\n      <td>None</td>\n      <td>None</td>\n      <td>None</td>\n    </tr>\n    <tr>\n      <th>...</th>\n      <td>...</td>\n      <td>...</td>\n      <td>...</td>\n      <td>...</td>\n      <td>...</td>\n      <td>...</td>\n      <td>...</td>\n      <td>...</td>\n      <td>...</td>\n      <td>...</td>\n      <td>...</td>\n      <td>...</td>\n      <td>...</td>\n      <td>...</td>\n      <td>...</td>\n      <td>...</td>\n      <td>...</td>\n      <td>...</td>\n      <td>...</td>\n      <td>...</td>\n      <td>...</td>\n    </tr>\n    <tr>\n      <th>2628478</th>\n      <td>1351</td>\n      <td>LEHIGH ACRES</td>\n      <td>FL</td>\n      <td>33936</td>\n      <td>488510</td>\n      <td>Independent Contractors</td>\n      <td>Unanswered</td>\n      <td>Unanswered</td>\n      <td>Unanswered</td>\n      <td></td>\n      <td>...</td>\n      <td>None</td>\n      <td>None</td>\n      <td>None</td>\n      <td>None</td>\n      <td>None</td>\n      <td>None</td>\n      <td>None</td>\n      <td>None</td>\n      <td>None</td>\n      <td>None</td>\n    </tr>\n    <tr>\n      <th>2103169</th>\n      <td>3541</td>\n      <td>ROOSEVELT</td>\n      <td>NY</td>\n      <td>11575</td>\n      <td>236118</td>\n      <td>Corporation</td>\n      <td>Unanswered</td>\n      <td>Unanswered</td>\n      <td>Unanswered</td>\n      <td></td>\n      <td>...</td>\n      <td>None</td>\n      <td>None</td>\n      <td>None</td>\n      <td>None</td>\n      <td>None</td>\n      <td>None</td>\n      <td>None</td>\n      <td>None</td>\n      <td>None</td>\n      <td>None</td>\n    </tr>\n    <tr>\n      <th>609483</th>\n      <td>9255</td>\n      <td>SAVANNAH</td>\n      <td>GA</td>\n      <td>31410</td>\n      <td>713290</td>\n      <td>Subchapter S Corporation</td>\n      <td>Unanswered</td>\n      <td>Unanswered</td>\n      <td>Unanswered</td>\n      <td></td>\n      <td>...</td>\n      <td>None</td>\n      <td>None</td>\n      <td>None</td>\n      <td>None</td>\n      <td>None</td>\n      <td>None</td>\n      <td>None</td>\n      <td>None</td>\n      <td>None</td>\n      <td>None</td>\n    </tr>\n    <tr>\n      <th>812039</th>\n      <td>1618.89</td>\n      <td>OWASSO</td>\n      <td>OK</td>\n      <td>74055</td>\n      <td>812112</td>\n      <td>Sole Proprietorship</td>\n      <td>Unanswered</td>\n      <td>Unanswered</td>\n      <td>Unanswered</td>\n      <td></td>\n      <td>...</td>\n      <td>None</td>\n      <td>None</td>\n      <td>None</td>\n      <td>None</td>\n      <td>None</td>\n      <td>None</td>\n      <td>None</td>\n      <td>None</td>\n      <td>None</td>\n      <td>None</td>\n    </tr>\n    <tr>\n      <th>3809653</th>\n      <td>60584</td>\n      <td>LOS ANGELES</td>\n      <td>CA</td>\n      <td>90061</td>\n      <td>484110</td>\n      <td>Corporation</td>\n      <td>Unanswered</td>\n      <td>Unanswered</td>\n      <td>Unanswered</td>\n      <td></td>\n      <td>...</td>\n      <td>None</td>\n      <td>None</td>\n      <td>None</td>\n      <td>None</td>\n      <td>None</td>\n      <td>None</td>\n      <td>None</td>\n      <td>None</td>\n      <td>None</td>\n      <td>None</td>\n    </tr>\n  </tbody>\n</table>\n<p>100 rows × 28 columns</p>\n</div>"
     },
     "metadata": {},
     "execution_count": 41
    }
   ],
   "source": [
    "# df=pd.read_csv(csv, sep='delimiter', header=None)\n",
    "pd.set_option('max_colwidth', 1000)\n",
    "df.sample(100)"
   ]
  },
  {
   "cell_type": "code",
   "execution_count": 7,
   "metadata": {},
   "outputs": [
    {
     "output_type": "execute_result",
     "data": {
      "text/plain": "GU - 00    1\nName: 27, dtype: int64"
     },
     "metadata": {},
     "execution_count": 7
    }
   ],
   "source": [
    "df['27'].value_counts()"
   ]
  },
  {
   "cell_type": "code",
   "execution_count": 10,
   "metadata": {},
   "outputs": [
    {
     "output_type": "execute_result",
     "data": {
      "text/plain": "              1   2      3       4                         5           6  \\\n0                                                                          \n0.0  BIRMINGHAM  AL  35203  541110  Subchapter S Corporation  Unanswered   \n\n              7           8    9 10  ...        18           19          20  \\\n0                                    ...                                      \n0.0  Unanswered  Unanswered  NaN  2  ...  999990.0  Corporation  Unanswered   \n\n             21          22  23    24          25                   26  \\\n0                                                                        \n0.0  Unanswered  Unanswered NaN  52.0  04/29/2020  First Hawaiian Bank   \n\n          27  \n0             \n0.0  GU - 00  \n\n[1 rows x 27 columns]",
      "text/html": "<div>\n<style scoped>\n    .dataframe tbody tr th:only-of-type {\n        vertical-align: middle;\n    }\n\n    .dataframe tbody tr th {\n        vertical-align: top;\n    }\n\n    .dataframe thead th {\n        text-align: right;\n    }\n</style>\n<table border=\"1\" class=\"dataframe\">\n  <thead>\n    <tr style=\"text-align: right;\">\n      <th></th>\n      <th>1</th>\n      <th>2</th>\n      <th>3</th>\n      <th>4</th>\n      <th>5</th>\n      <th>6</th>\n      <th>7</th>\n      <th>8</th>\n      <th>9</th>\n      <th>10</th>\n      <th>...</th>\n      <th>18</th>\n      <th>19</th>\n      <th>20</th>\n      <th>21</th>\n      <th>22</th>\n      <th>23</th>\n      <th>24</th>\n      <th>25</th>\n      <th>26</th>\n      <th>27</th>\n    </tr>\n    <tr>\n      <th>0</th>\n      <th></th>\n      <th></th>\n      <th></th>\n      <th></th>\n      <th></th>\n      <th></th>\n      <th></th>\n      <th></th>\n      <th></th>\n      <th></th>\n      <th></th>\n      <th></th>\n      <th></th>\n      <th></th>\n      <th></th>\n      <th></th>\n      <th></th>\n      <th></th>\n      <th></th>\n      <th></th>\n      <th></th>\n    </tr>\n  </thead>\n  <tbody>\n    <tr>\n      <th>0.0</th>\n      <td>BIRMINGHAM</td>\n      <td>AL</td>\n      <td>35203</td>\n      <td>541110</td>\n      <td>Subchapter S Corporation</td>\n      <td>Unanswered</td>\n      <td>Unanswered</td>\n      <td>Unanswered</td>\n      <td>NaN</td>\n      <td>2</td>\n      <td>...</td>\n      <td>999990.0</td>\n      <td>Corporation</td>\n      <td>Unanswered</td>\n      <td>Unanswered</td>\n      <td>Unanswered</td>\n      <td>NaN</td>\n      <td>52.0</td>\n      <td>04/29/2020</td>\n      <td>First Hawaiian Bank</td>\n      <td>GU - 00</td>\n    </tr>\n  </tbody>\n</table>\n<p>1 rows × 27 columns</p>\n</div>"
     },
     "metadata": {},
     "execution_count": 10
    }
   ],
   "source": [
    "# df[df['27'].str.contains(\"GU - 00\")]==True\n",
    "\n",
    "df.loc[df['27'] == 'GU - 00']"
   ]
  },
  {
   "cell_type": "code",
   "execution_count": 45,
   "metadata": {},
   "outputs": [],
   "source": [
    "# df.describe()\n",
    "df.to_csv('allstates_delimiter_need_clean.csv', index=False)\n"
   ]
  },
  {
   "cell_type": "code",
   "execution_count": 5,
   "metadata": {},
   "outputs": [
    {
     "output_type": "execute_result",
     "data": {
      "text/plain": "                        1   2      3       4                                5  \\\n0                                                                               \n5000.00           MIRAMAR  FL  33025  446191  Limited  Liability Company(LLC)   \n20700.00         RICHMOND  VA  23229  423220              Sole Proprietorship   \n12000.00         RICHMOND  MN  56368  441228                      Corporation   \n20833.00        FALL CITY  WA  98024  336413                      Corporation   \n79800.00          RALEIGH  NC  27603  238210  Limited  Liability Company(LLC)   \n106105.00     ST. CHARLES  MO  63301  423610         Subchapter S Corporation   \n122000.00      PITTSBURGH  PA  15203  722511  Limited  Liability Company(LLC)   \n11655.00        COVINGTON  TN  38019  721110  Limited  Liability Company(LLC)   \n8333.34          BEAUMONT  TX  77706  711120                      Corporation   \n5500.00            MEDORA  ND  58645  531210  Limited  Liability Company(LLC)   \n141881.25        STAMFORD  CT  06905  621210  Limited  Liability Company(LLC)   \n2598.00            IRVINE  CA  92620  621111  Limited  Liability Company(LLC)   \n60000.00        ELK GROVE  CA  95759  531390              Sole Proprietorship   \n6400.00        BURLINGTON  VT  05401  512110              Sole Proprietorship   \n32140.00       BELLINGHAM  WA  98225  621210                      Corporation   \n24700.00           MORTON  MS  39117  624410                      Corporation   \n15723.00    MISSION VIEJO  CA  92692  488999  Limited  Liability Company(LLC)   \n38200.00   PORT CHARLOTTE  FL  33948  621111         Subchapter S Corporation   \n42500.00     CONNERSVILLE  IN  47331  722511  Limited  Liability Company(LLC)   \n21101.25           SUMTER  SC  29150  812990              Sole Proprietorship   \n59600.00           EDMOND  OK  73034  722511  Limited  Liability Company(LLC)   \n1074.72     WASHINGTON DC  DC  20002  453220              Sole Proprietorship   \n4148.00        MONTGOMERY  AL  36109  443120  Limited  Liability Company(LLC)   \n69300.00          MC LEAN  VA  22101  611620  Limited  Liability Company(LLC)   \n75345.00         STAFFORD  TX  77477  333318                      Corporation   \n\n                    6           7            8    9   10  ...  18   19   20  \\\n0                                                         ...                 \n5000.00    Unanswered  Unanswered   Unanswered  NaN    2  ... NaN  NaN  NaN   \n20700.00   Unanswered  Unanswered   Unanswered  NaN    0  ... NaN  NaN  NaN   \n12000.00   Unanswered  Unanswered   Unanswered  NaN    2  ... NaN  NaN  NaN   \n20833.00   Unanswered  Unanswered   Unanswered  NaN    0  ... NaN  NaN  NaN   \n79800.00   Unanswered  Unanswered   Unanswered  NaN    6  ... NaN  NaN  NaN   \n106105.00  Unanswered  Unanswered   Unanswered  NaN   12  ... NaN  NaN  NaN   \n122000.00  Unanswered  Unanswered   Unanswered  NaN   20  ... NaN  NaN  NaN   \n11655.00   Unanswered  Male Owned  Non-Veteran  NaN    6  ... NaN  NaN  NaN   \n8333.34    Unanswered  Unanswered   Unanswered  NaN   11  ... NaN  NaN  NaN   \n5500.00         White  Male Owned   Unanswered  NaN    1  ... NaN  NaN  NaN   \n141881.25  Unanswered  Unanswered   Unanswered  NaN   34  ... NaN  NaN  NaN   \n2598.00    Unanswered  Unanswered   Unanswered  NaN  NaN  ... NaN  NaN  NaN   \n60000.00   Unanswered  Unanswered   Unanswered  NaN    3  ... NaN  NaN  NaN   \n6400.00    Unanswered  Unanswered   Unanswered  NaN    1  ... NaN  NaN  NaN   \n32140.00        White  Male Owned  Non-Veteran  NaN    0  ... NaN  NaN  NaN   \n24700.00   Unanswered  Unanswered   Unanswered  NaN   10  ... NaN  NaN  NaN   \n15723.00   Unanswered  Unanswered   Unanswered  NaN    1  ... NaN  NaN  NaN   \n38200.00   Unanswered  Unanswered   Unanswered  NaN    4  ... NaN  NaN  NaN   \n42500.00        White  Male Owned   Unanswered  NaN   15  ... NaN  NaN  NaN   \n21101.25   Unanswered  Unanswered   Unanswered  NaN  NaN  ... NaN  NaN  NaN   \n59600.00   Unanswered  Unanswered   Unanswered  NaN   14  ... NaN  NaN  NaN   \n1074.72    Unanswered  Unanswered   Unanswered  NaN    0  ... NaN  NaN  NaN   \n4148.00    Unanswered  Unanswered   Unanswered  NaN    1  ... NaN  NaN  NaN   \n69300.00   Unanswered  Unanswered   Unanswered  NaN   23  ... NaN  NaN  NaN   \n75345.00   Unanswered  Unanswered   Unanswered  NaN    3  ... NaN  NaN  NaN   \n\n            21   22  23  24   25   26   27  \n0                                           \n5000.00    NaN  NaN NaN NaN  NaN  NaN  NaN  \n20700.00   NaN  NaN NaN NaN  NaN  NaN  NaN  \n12000.00   NaN  NaN NaN NaN  NaN  NaN  NaN  \n20833.00   NaN  NaN NaN NaN  NaN  NaN  NaN  \n79800.00   NaN  NaN NaN NaN  NaN  NaN  NaN  \n106105.00  NaN  NaN NaN NaN  NaN  NaN  NaN  \n122000.00  NaN  NaN NaN NaN  NaN  NaN  NaN  \n11655.00   NaN  NaN NaN NaN  NaN  NaN  NaN  \n8333.34    NaN  NaN NaN NaN  NaN  NaN  NaN  \n5500.00    NaN  NaN NaN NaN  NaN  NaN  NaN  \n141881.25  NaN  NaN NaN NaN  NaN  NaN  NaN  \n2598.00    NaN  NaN NaN NaN  NaN  NaN  NaN  \n60000.00   NaN  NaN NaN NaN  NaN  NaN  NaN  \n6400.00    NaN  NaN NaN NaN  NaN  NaN  NaN  \n32140.00   NaN  NaN NaN NaN  NaN  NaN  NaN  \n24700.00   NaN  NaN NaN NaN  NaN  NaN  NaN  \n15723.00   NaN  NaN NaN NaN  NaN  NaN  NaN  \n38200.00   NaN  NaN NaN NaN  NaN  NaN  NaN  \n42500.00   NaN  NaN NaN NaN  NaN  NaN  NaN  \n21101.25   NaN  NaN NaN NaN  NaN  NaN  NaN  \n59600.00   NaN  NaN NaN NaN  NaN  NaN  NaN  \n1074.72    NaN  NaN NaN NaN  NaN  NaN  NaN  \n4148.00    NaN  NaN NaN NaN  NaN  NaN  NaN  \n69300.00   NaN  NaN NaN NaN  NaN  NaN  NaN  \n75345.00   NaN  NaN NaN NaN  NaN  NaN  NaN  \n\n[25 rows x 27 columns]",
      "text/html": "<div>\n<style scoped>\n    .dataframe tbody tr th:only-of-type {\n        vertical-align: middle;\n    }\n\n    .dataframe tbody tr th {\n        vertical-align: top;\n    }\n\n    .dataframe thead th {\n        text-align: right;\n    }\n</style>\n<table border=\"1\" class=\"dataframe\">\n  <thead>\n    <tr style=\"text-align: right;\">\n      <th></th>\n      <th>1</th>\n      <th>2</th>\n      <th>3</th>\n      <th>4</th>\n      <th>5</th>\n      <th>6</th>\n      <th>7</th>\n      <th>8</th>\n      <th>9</th>\n      <th>10</th>\n      <th>...</th>\n      <th>18</th>\n      <th>19</th>\n      <th>20</th>\n      <th>21</th>\n      <th>22</th>\n      <th>23</th>\n      <th>24</th>\n      <th>25</th>\n      <th>26</th>\n      <th>27</th>\n    </tr>\n    <tr>\n      <th>0</th>\n      <th></th>\n      <th></th>\n      <th></th>\n      <th></th>\n      <th></th>\n      <th></th>\n      <th></th>\n      <th></th>\n      <th></th>\n      <th></th>\n      <th></th>\n      <th></th>\n      <th></th>\n      <th></th>\n      <th></th>\n      <th></th>\n      <th></th>\n      <th></th>\n      <th></th>\n      <th></th>\n      <th></th>\n    </tr>\n  </thead>\n  <tbody>\n    <tr>\n      <th>5000.00</th>\n      <td>MIRAMAR</td>\n      <td>FL</td>\n      <td>33025</td>\n      <td>446191</td>\n      <td>Limited  Liability Company(LLC)</td>\n      <td>Unanswered</td>\n      <td>Unanswered</td>\n      <td>Unanswered</td>\n      <td>NaN</td>\n      <td>2</td>\n      <td>...</td>\n      <td>NaN</td>\n      <td>NaN</td>\n      <td>NaN</td>\n      <td>NaN</td>\n      <td>NaN</td>\n      <td>NaN</td>\n      <td>NaN</td>\n      <td>NaN</td>\n      <td>NaN</td>\n      <td>NaN</td>\n    </tr>\n    <tr>\n      <th>20700.00</th>\n      <td>RICHMOND</td>\n      <td>VA</td>\n      <td>23229</td>\n      <td>423220</td>\n      <td>Sole Proprietorship</td>\n      <td>Unanswered</td>\n      <td>Unanswered</td>\n      <td>Unanswered</td>\n      <td>NaN</td>\n      <td>0</td>\n      <td>...</td>\n      <td>NaN</td>\n      <td>NaN</td>\n      <td>NaN</td>\n      <td>NaN</td>\n      <td>NaN</td>\n      <td>NaN</td>\n      <td>NaN</td>\n      <td>NaN</td>\n      <td>NaN</td>\n      <td>NaN</td>\n    </tr>\n    <tr>\n      <th>12000.00</th>\n      <td>RICHMOND</td>\n      <td>MN</td>\n      <td>56368</td>\n      <td>441228</td>\n      <td>Corporation</td>\n      <td>Unanswered</td>\n      <td>Unanswered</td>\n      <td>Unanswered</td>\n      <td>NaN</td>\n      <td>2</td>\n      <td>...</td>\n      <td>NaN</td>\n      <td>NaN</td>\n      <td>NaN</td>\n      <td>NaN</td>\n      <td>NaN</td>\n      <td>NaN</td>\n      <td>NaN</td>\n      <td>NaN</td>\n      <td>NaN</td>\n      <td>NaN</td>\n    </tr>\n    <tr>\n      <th>20833.00</th>\n      <td>FALL CITY</td>\n      <td>WA</td>\n      <td>98024</td>\n      <td>336413</td>\n      <td>Corporation</td>\n      <td>Unanswered</td>\n      <td>Unanswered</td>\n      <td>Unanswered</td>\n      <td>NaN</td>\n      <td>0</td>\n      <td>...</td>\n      <td>NaN</td>\n      <td>NaN</td>\n      <td>NaN</td>\n      <td>NaN</td>\n      <td>NaN</td>\n      <td>NaN</td>\n      <td>NaN</td>\n      <td>NaN</td>\n      <td>NaN</td>\n      <td>NaN</td>\n    </tr>\n    <tr>\n      <th>79800.00</th>\n      <td>RALEIGH</td>\n      <td>NC</td>\n      <td>27603</td>\n      <td>238210</td>\n      <td>Limited  Liability Company(LLC)</td>\n      <td>Unanswered</td>\n      <td>Unanswered</td>\n      <td>Unanswered</td>\n      <td>NaN</td>\n      <td>6</td>\n      <td>...</td>\n      <td>NaN</td>\n      <td>NaN</td>\n      <td>NaN</td>\n      <td>NaN</td>\n      <td>NaN</td>\n      <td>NaN</td>\n      <td>NaN</td>\n      <td>NaN</td>\n      <td>NaN</td>\n      <td>NaN</td>\n    </tr>\n    <tr>\n      <th>106105.00</th>\n      <td>ST. CHARLES</td>\n      <td>MO</td>\n      <td>63301</td>\n      <td>423610</td>\n      <td>Subchapter S Corporation</td>\n      <td>Unanswered</td>\n      <td>Unanswered</td>\n      <td>Unanswered</td>\n      <td>NaN</td>\n      <td>12</td>\n      <td>...</td>\n      <td>NaN</td>\n      <td>NaN</td>\n      <td>NaN</td>\n      <td>NaN</td>\n      <td>NaN</td>\n      <td>NaN</td>\n      <td>NaN</td>\n      <td>NaN</td>\n      <td>NaN</td>\n      <td>NaN</td>\n    </tr>\n    <tr>\n      <th>122000.00</th>\n      <td>PITTSBURGH</td>\n      <td>PA</td>\n      <td>15203</td>\n      <td>722511</td>\n      <td>Limited  Liability Company(LLC)</td>\n      <td>Unanswered</td>\n      <td>Unanswered</td>\n      <td>Unanswered</td>\n      <td>NaN</td>\n      <td>20</td>\n      <td>...</td>\n      <td>NaN</td>\n      <td>NaN</td>\n      <td>NaN</td>\n      <td>NaN</td>\n      <td>NaN</td>\n      <td>NaN</td>\n      <td>NaN</td>\n      <td>NaN</td>\n      <td>NaN</td>\n      <td>NaN</td>\n    </tr>\n    <tr>\n      <th>11655.00</th>\n      <td>COVINGTON</td>\n      <td>TN</td>\n      <td>38019</td>\n      <td>721110</td>\n      <td>Limited  Liability Company(LLC)</td>\n      <td>Unanswered</td>\n      <td>Male Owned</td>\n      <td>Non-Veteran</td>\n      <td>NaN</td>\n      <td>6</td>\n      <td>...</td>\n      <td>NaN</td>\n      <td>NaN</td>\n      <td>NaN</td>\n      <td>NaN</td>\n      <td>NaN</td>\n      <td>NaN</td>\n      <td>NaN</td>\n      <td>NaN</td>\n      <td>NaN</td>\n      <td>NaN</td>\n    </tr>\n    <tr>\n      <th>8333.34</th>\n      <td>BEAUMONT</td>\n      <td>TX</td>\n      <td>77706</td>\n      <td>711120</td>\n      <td>Corporation</td>\n      <td>Unanswered</td>\n      <td>Unanswered</td>\n      <td>Unanswered</td>\n      <td>NaN</td>\n      <td>11</td>\n      <td>...</td>\n      <td>NaN</td>\n      <td>NaN</td>\n      <td>NaN</td>\n      <td>NaN</td>\n      <td>NaN</td>\n      <td>NaN</td>\n      <td>NaN</td>\n      <td>NaN</td>\n      <td>NaN</td>\n      <td>NaN</td>\n    </tr>\n    <tr>\n      <th>5500.00</th>\n      <td>MEDORA</td>\n      <td>ND</td>\n      <td>58645</td>\n      <td>531210</td>\n      <td>Limited  Liability Company(LLC)</td>\n      <td>White</td>\n      <td>Male Owned</td>\n      <td>Unanswered</td>\n      <td>NaN</td>\n      <td>1</td>\n      <td>...</td>\n      <td>NaN</td>\n      <td>NaN</td>\n      <td>NaN</td>\n      <td>NaN</td>\n      <td>NaN</td>\n      <td>NaN</td>\n      <td>NaN</td>\n      <td>NaN</td>\n      <td>NaN</td>\n      <td>NaN</td>\n    </tr>\n    <tr>\n      <th>141881.25</th>\n      <td>STAMFORD</td>\n      <td>CT</td>\n      <td>06905</td>\n      <td>621210</td>\n      <td>Limited  Liability Company(LLC)</td>\n      <td>Unanswered</td>\n      <td>Unanswered</td>\n      <td>Unanswered</td>\n      <td>NaN</td>\n      <td>34</td>\n      <td>...</td>\n      <td>NaN</td>\n      <td>NaN</td>\n      <td>NaN</td>\n      <td>NaN</td>\n      <td>NaN</td>\n      <td>NaN</td>\n      <td>NaN</td>\n      <td>NaN</td>\n      <td>NaN</td>\n      <td>NaN</td>\n    </tr>\n    <tr>\n      <th>2598.00</th>\n      <td>IRVINE</td>\n      <td>CA</td>\n      <td>92620</td>\n      <td>621111</td>\n      <td>Limited  Liability Company(LLC)</td>\n      <td>Unanswered</td>\n      <td>Unanswered</td>\n      <td>Unanswered</td>\n      <td>NaN</td>\n      <td>NaN</td>\n      <td>...</td>\n      <td>NaN</td>\n      <td>NaN</td>\n      <td>NaN</td>\n      <td>NaN</td>\n      <td>NaN</td>\n      <td>NaN</td>\n      <td>NaN</td>\n      <td>NaN</td>\n      <td>NaN</td>\n      <td>NaN</td>\n    </tr>\n    <tr>\n      <th>60000.00</th>\n      <td>ELK GROVE</td>\n      <td>CA</td>\n      <td>95759</td>\n      <td>531390</td>\n      <td>Sole Proprietorship</td>\n      <td>Unanswered</td>\n      <td>Unanswered</td>\n      <td>Unanswered</td>\n      <td>NaN</td>\n      <td>3</td>\n      <td>...</td>\n      <td>NaN</td>\n      <td>NaN</td>\n      <td>NaN</td>\n      <td>NaN</td>\n      <td>NaN</td>\n      <td>NaN</td>\n      <td>NaN</td>\n      <td>NaN</td>\n      <td>NaN</td>\n      <td>NaN</td>\n    </tr>\n    <tr>\n      <th>6400.00</th>\n      <td>BURLINGTON</td>\n      <td>VT</td>\n      <td>05401</td>\n      <td>512110</td>\n      <td>Sole Proprietorship</td>\n      <td>Unanswered</td>\n      <td>Unanswered</td>\n      <td>Unanswered</td>\n      <td>NaN</td>\n      <td>1</td>\n      <td>...</td>\n      <td>NaN</td>\n      <td>NaN</td>\n      <td>NaN</td>\n      <td>NaN</td>\n      <td>NaN</td>\n      <td>NaN</td>\n      <td>NaN</td>\n      <td>NaN</td>\n      <td>NaN</td>\n      <td>NaN</td>\n    </tr>\n    <tr>\n      <th>32140.00</th>\n      <td>BELLINGHAM</td>\n      <td>WA</td>\n      <td>98225</td>\n      <td>621210</td>\n      <td>Corporation</td>\n      <td>White</td>\n      <td>Male Owned</td>\n      <td>Non-Veteran</td>\n      <td>NaN</td>\n      <td>0</td>\n      <td>...</td>\n      <td>NaN</td>\n      <td>NaN</td>\n      <td>NaN</td>\n      <td>NaN</td>\n      <td>NaN</td>\n      <td>NaN</td>\n      <td>NaN</td>\n      <td>NaN</td>\n      <td>NaN</td>\n      <td>NaN</td>\n    </tr>\n    <tr>\n      <th>24700.00</th>\n      <td>MORTON</td>\n      <td>MS</td>\n      <td>39117</td>\n      <td>624410</td>\n      <td>Corporation</td>\n      <td>Unanswered</td>\n      <td>Unanswered</td>\n      <td>Unanswered</td>\n      <td>NaN</td>\n      <td>10</td>\n      <td>...</td>\n      <td>NaN</td>\n      <td>NaN</td>\n      <td>NaN</td>\n      <td>NaN</td>\n      <td>NaN</td>\n      <td>NaN</td>\n      <td>NaN</td>\n      <td>NaN</td>\n      <td>NaN</td>\n      <td>NaN</td>\n    </tr>\n    <tr>\n      <th>15723.00</th>\n      <td>MISSION VIEJO</td>\n      <td>CA</td>\n      <td>92692</td>\n      <td>488999</td>\n      <td>Limited  Liability Company(LLC)</td>\n      <td>Unanswered</td>\n      <td>Unanswered</td>\n      <td>Unanswered</td>\n      <td>NaN</td>\n      <td>1</td>\n      <td>...</td>\n      <td>NaN</td>\n      <td>NaN</td>\n      <td>NaN</td>\n      <td>NaN</td>\n      <td>NaN</td>\n      <td>NaN</td>\n      <td>NaN</td>\n      <td>NaN</td>\n      <td>NaN</td>\n      <td>NaN</td>\n    </tr>\n    <tr>\n      <th>38200.00</th>\n      <td>PORT CHARLOTTE</td>\n      <td>FL</td>\n      <td>33948</td>\n      <td>621111</td>\n      <td>Subchapter S Corporation</td>\n      <td>Unanswered</td>\n      <td>Unanswered</td>\n      <td>Unanswered</td>\n      <td>NaN</td>\n      <td>4</td>\n      <td>...</td>\n      <td>NaN</td>\n      <td>NaN</td>\n      <td>NaN</td>\n      <td>NaN</td>\n      <td>NaN</td>\n      <td>NaN</td>\n      <td>NaN</td>\n      <td>NaN</td>\n      <td>NaN</td>\n      <td>NaN</td>\n    </tr>\n    <tr>\n      <th>42500.00</th>\n      <td>CONNERSVILLE</td>\n      <td>IN</td>\n      <td>47331</td>\n      <td>722511</td>\n      <td>Limited  Liability Company(LLC)</td>\n      <td>White</td>\n      <td>Male Owned</td>\n      <td>Unanswered</td>\n      <td>NaN</td>\n      <td>15</td>\n      <td>...</td>\n      <td>NaN</td>\n      <td>NaN</td>\n      <td>NaN</td>\n      <td>NaN</td>\n      <td>NaN</td>\n      <td>NaN</td>\n      <td>NaN</td>\n      <td>NaN</td>\n      <td>NaN</td>\n      <td>NaN</td>\n    </tr>\n    <tr>\n      <th>21101.25</th>\n      <td>SUMTER</td>\n      <td>SC</td>\n      <td>29150</td>\n      <td>812990</td>\n      <td>Sole Proprietorship</td>\n      <td>Unanswered</td>\n      <td>Unanswered</td>\n      <td>Unanswered</td>\n      <td>NaN</td>\n      <td>NaN</td>\n      <td>...</td>\n      <td>NaN</td>\n      <td>NaN</td>\n      <td>NaN</td>\n      <td>NaN</td>\n      <td>NaN</td>\n      <td>NaN</td>\n      <td>NaN</td>\n      <td>NaN</td>\n      <td>NaN</td>\n      <td>NaN</td>\n    </tr>\n    <tr>\n      <th>59600.00</th>\n      <td>EDMOND</td>\n      <td>OK</td>\n      <td>73034</td>\n      <td>722511</td>\n      <td>Limited  Liability Company(LLC)</td>\n      <td>Unanswered</td>\n      <td>Unanswered</td>\n      <td>Unanswered</td>\n      <td>NaN</td>\n      <td>14</td>\n      <td>...</td>\n      <td>NaN</td>\n      <td>NaN</td>\n      <td>NaN</td>\n      <td>NaN</td>\n      <td>NaN</td>\n      <td>NaN</td>\n      <td>NaN</td>\n      <td>NaN</td>\n      <td>NaN</td>\n      <td>NaN</td>\n    </tr>\n    <tr>\n      <th>1074.72</th>\n      <td>WASHINGTON DC</td>\n      <td>DC</td>\n      <td>20002</td>\n      <td>453220</td>\n      <td>Sole Proprietorship</td>\n      <td>Unanswered</td>\n      <td>Unanswered</td>\n      <td>Unanswered</td>\n      <td>NaN</td>\n      <td>0</td>\n      <td>...</td>\n      <td>NaN</td>\n      <td>NaN</td>\n      <td>NaN</td>\n      <td>NaN</td>\n      <td>NaN</td>\n      <td>NaN</td>\n      <td>NaN</td>\n      <td>NaN</td>\n      <td>NaN</td>\n      <td>NaN</td>\n    </tr>\n    <tr>\n      <th>4148.00</th>\n      <td>MONTGOMERY</td>\n      <td>AL</td>\n      <td>36109</td>\n      <td>443120</td>\n      <td>Limited  Liability Company(LLC)</td>\n      <td>Unanswered</td>\n      <td>Unanswered</td>\n      <td>Unanswered</td>\n      <td>NaN</td>\n      <td>1</td>\n      <td>...</td>\n      <td>NaN</td>\n      <td>NaN</td>\n      <td>NaN</td>\n      <td>NaN</td>\n      <td>NaN</td>\n      <td>NaN</td>\n      <td>NaN</td>\n      <td>NaN</td>\n      <td>NaN</td>\n      <td>NaN</td>\n    </tr>\n    <tr>\n      <th>69300.00</th>\n      <td>MC LEAN</td>\n      <td>VA</td>\n      <td>22101</td>\n      <td>611620</td>\n      <td>Limited  Liability Company(LLC)</td>\n      <td>Unanswered</td>\n      <td>Unanswered</td>\n      <td>Unanswered</td>\n      <td>NaN</td>\n      <td>23</td>\n      <td>...</td>\n      <td>NaN</td>\n      <td>NaN</td>\n      <td>NaN</td>\n      <td>NaN</td>\n      <td>NaN</td>\n      <td>NaN</td>\n      <td>NaN</td>\n      <td>NaN</td>\n      <td>NaN</td>\n      <td>NaN</td>\n    </tr>\n    <tr>\n      <th>75345.00</th>\n      <td>STAFFORD</td>\n      <td>TX</td>\n      <td>77477</td>\n      <td>333318</td>\n      <td>Corporation</td>\n      <td>Unanswered</td>\n      <td>Unanswered</td>\n      <td>Unanswered</td>\n      <td>NaN</td>\n      <td>3</td>\n      <td>...</td>\n      <td>NaN</td>\n      <td>NaN</td>\n      <td>NaN</td>\n      <td>NaN</td>\n      <td>NaN</td>\n      <td>NaN</td>\n      <td>NaN</td>\n      <td>NaN</td>\n      <td>NaN</td>\n      <td>NaN</td>\n    </tr>\n  </tbody>\n</table>\n<p>25 rows × 27 columns</p>\n</div>"
     },
     "metadata": {},
     "execution_count": 5
    }
   ],
   "source": [
    "df=pd.read_csv('allstates_delimiter_need_clean.csv', index_col=0)\n",
    "\n",
    "df.sample(25)"
   ]
  },
  {
   "cell_type": "code",
   "execution_count": 12,
   "metadata": {},
   "outputs": [
    {
     "output_type": "execute_result",
     "data": {
      "text/plain": "First Hawaiian Bank    1\nName: 26, dtype: int64"
     },
     "metadata": {},
     "execution_count": 12
    }
   ],
   "source": [
    "df['26'].value_counts()"
   ]
  },
  {
   "cell_type": "code",
   "execution_count": 14,
   "metadata": {},
   "outputs": [
    {
     "output_type": "execute_result",
     "data": {
      "text/plain": "              1   2      3       4                         5           6  \\\n0                                                                          \n0.0  BIRMINGHAM  AL  35203  541110  Subchapter S Corporation  Unanswered   \n\n              7           8    9 10  ...        18           19          20  \\\n0                                    ...                                      \n0.0  Unanswered  Unanswered  NaN  2  ...  999990.0  Corporation  Unanswered   \n\n             21          22  23    24          25                   26  \\\n0                                                                        \n0.0  Unanswered  Unanswered NaN  52.0  04/29/2020  First Hawaiian Bank   \n\n          27  \n0             \n0.0  GU - 00  \n\n[1 rows x 27 columns]",
      "text/html": "<div>\n<style scoped>\n    .dataframe tbody tr th:only-of-type {\n        vertical-align: middle;\n    }\n\n    .dataframe tbody tr th {\n        vertical-align: top;\n    }\n\n    .dataframe thead th {\n        text-align: right;\n    }\n</style>\n<table border=\"1\" class=\"dataframe\">\n  <thead>\n    <tr style=\"text-align: right;\">\n      <th></th>\n      <th>1</th>\n      <th>2</th>\n      <th>3</th>\n      <th>4</th>\n      <th>5</th>\n      <th>6</th>\n      <th>7</th>\n      <th>8</th>\n      <th>9</th>\n      <th>10</th>\n      <th>...</th>\n      <th>18</th>\n      <th>19</th>\n      <th>20</th>\n      <th>21</th>\n      <th>22</th>\n      <th>23</th>\n      <th>24</th>\n      <th>25</th>\n      <th>26</th>\n      <th>27</th>\n    </tr>\n    <tr>\n      <th>0</th>\n      <th></th>\n      <th></th>\n      <th></th>\n      <th></th>\n      <th></th>\n      <th></th>\n      <th></th>\n      <th></th>\n      <th></th>\n      <th></th>\n      <th></th>\n      <th></th>\n      <th></th>\n      <th></th>\n      <th></th>\n      <th></th>\n      <th></th>\n      <th></th>\n      <th></th>\n      <th></th>\n      <th></th>\n    </tr>\n  </thead>\n  <tbody>\n    <tr>\n      <th>0.0</th>\n      <td>BIRMINGHAM</td>\n      <td>AL</td>\n      <td>35203</td>\n      <td>541110</td>\n      <td>Subchapter S Corporation</td>\n      <td>Unanswered</td>\n      <td>Unanswered</td>\n      <td>Unanswered</td>\n      <td>NaN</td>\n      <td>2</td>\n      <td>...</td>\n      <td>999990.0</td>\n      <td>Corporation</td>\n      <td>Unanswered</td>\n      <td>Unanswered</td>\n      <td>Unanswered</td>\n      <td>NaN</td>\n      <td>52.0</td>\n      <td>04/29/2020</td>\n      <td>First Hawaiian Bank</td>\n      <td>GU - 00</td>\n    </tr>\n  </tbody>\n</table>\n<p>1 rows × 27 columns</p>\n</div>"
     },
     "metadata": {},
     "execution_count": 14
    }
   ],
   "source": [
    "df.loc[df['26'] == 'First Hawaiian Bank']"
   ]
  },
  {
   "cell_type": "code",
   "execution_count": 15,
   "metadata": {},
   "outputs": [
    {
     "output_type": "execute_result",
     "data": {
      "text/plain": "04/29/2020    1\nName: 25, dtype: int64"
     },
     "metadata": {},
     "execution_count": 15
    }
   ],
   "source": [
    "df['25'].value_counts()"
   ]
  },
  {
   "cell_type": "code",
   "execution_count": 16,
   "metadata": {},
   "outputs": [
    {
     "output_type": "execute_result",
     "data": {
      "text/plain": "              1   2      3       4                         5           6  \\\n0                                                                          \n0.0  BIRMINGHAM  AL  35203  541110  Subchapter S Corporation  Unanswered   \n\n              7           8    9 10  ...        18           19          20  \\\n0                                    ...                                      \n0.0  Unanswered  Unanswered  NaN  2  ...  999990.0  Corporation  Unanswered   \n\n             21          22  23    24          25                   26  \\\n0                                                                        \n0.0  Unanswered  Unanswered NaN  52.0  04/29/2020  First Hawaiian Bank   \n\n          27  \n0             \n0.0  GU - 00  \n\n[1 rows x 27 columns]",
      "text/html": "<div>\n<style scoped>\n    .dataframe tbody tr th:only-of-type {\n        vertical-align: middle;\n    }\n\n    .dataframe tbody tr th {\n        vertical-align: top;\n    }\n\n    .dataframe thead th {\n        text-align: right;\n    }\n</style>\n<table border=\"1\" class=\"dataframe\">\n  <thead>\n    <tr style=\"text-align: right;\">\n      <th></th>\n      <th>1</th>\n      <th>2</th>\n      <th>3</th>\n      <th>4</th>\n      <th>5</th>\n      <th>6</th>\n      <th>7</th>\n      <th>8</th>\n      <th>9</th>\n      <th>10</th>\n      <th>...</th>\n      <th>18</th>\n      <th>19</th>\n      <th>20</th>\n      <th>21</th>\n      <th>22</th>\n      <th>23</th>\n      <th>24</th>\n      <th>25</th>\n      <th>26</th>\n      <th>27</th>\n    </tr>\n    <tr>\n      <th>0</th>\n      <th></th>\n      <th></th>\n      <th></th>\n      <th></th>\n      <th></th>\n      <th></th>\n      <th></th>\n      <th></th>\n      <th></th>\n      <th></th>\n      <th></th>\n      <th></th>\n      <th></th>\n      <th></th>\n      <th></th>\n      <th></th>\n      <th></th>\n      <th></th>\n      <th></th>\n      <th></th>\n      <th></th>\n    </tr>\n  </thead>\n  <tbody>\n    <tr>\n      <th>0.0</th>\n      <td>BIRMINGHAM</td>\n      <td>AL</td>\n      <td>35203</td>\n      <td>541110</td>\n      <td>Subchapter S Corporation</td>\n      <td>Unanswered</td>\n      <td>Unanswered</td>\n      <td>Unanswered</td>\n      <td>NaN</td>\n      <td>2</td>\n      <td>...</td>\n      <td>999990.0</td>\n      <td>Corporation</td>\n      <td>Unanswered</td>\n      <td>Unanswered</td>\n      <td>Unanswered</td>\n      <td>NaN</td>\n      <td>52.0</td>\n      <td>04/29/2020</td>\n      <td>First Hawaiian Bank</td>\n      <td>GU - 00</td>\n    </tr>\n  </tbody>\n</table>\n<p>1 rows × 27 columns</p>\n</div>"
     },
     "metadata": {},
     "execution_count": 16
    }
   ],
   "source": [
    "df.loc[df['25'] == '04/29/2020']"
   ]
  },
  {
   "cell_type": "code",
   "execution_count": 17,
   "metadata": {},
   "outputs": [
    {
     "output_type": "execute_result",
     "data": {
      "text/plain": "52.0    1\nName: 24, dtype: int64"
     },
     "metadata": {},
     "execution_count": 17
    }
   ],
   "source": [
    "df['24'].value_counts()"
   ]
  },
  {
   "cell_type": "code",
   "execution_count": 23,
   "metadata": {},
   "outputs": [
    {
     "output_type": "execute_result",
     "data": {
      "text/plain": "Empty DataFrame\nColumns: [1, 2, 3, 4, 5, 6, 7, 8, 9, 10, 11, 12, 13, 14, 15, 16, 17, 18, 19, 20, 21, 22, 23, 24, 25, 26, 27]\nIndex: []\n\n[0 rows x 27 columns]",
      "text/html": "<div>\n<style scoped>\n    .dataframe tbody tr th:only-of-type {\n        vertical-align: middle;\n    }\n\n    .dataframe tbody tr th {\n        vertical-align: top;\n    }\n\n    .dataframe thead th {\n        text-align: right;\n    }\n</style>\n<table border=\"1\" class=\"dataframe\">\n  <thead>\n    <tr style=\"text-align: right;\">\n      <th></th>\n      <th>1</th>\n      <th>2</th>\n      <th>3</th>\n      <th>4</th>\n      <th>5</th>\n      <th>6</th>\n      <th>7</th>\n      <th>8</th>\n      <th>9</th>\n      <th>10</th>\n      <th>...</th>\n      <th>18</th>\n      <th>19</th>\n      <th>20</th>\n      <th>21</th>\n      <th>22</th>\n      <th>23</th>\n      <th>24</th>\n      <th>25</th>\n      <th>26</th>\n      <th>27</th>\n    </tr>\n    <tr>\n      <th>0</th>\n      <th></th>\n      <th></th>\n      <th></th>\n      <th></th>\n      <th></th>\n      <th></th>\n      <th></th>\n      <th></th>\n      <th></th>\n      <th></th>\n      <th></th>\n      <th></th>\n      <th></th>\n      <th></th>\n      <th></th>\n      <th></th>\n      <th></th>\n      <th></th>\n      <th></th>\n      <th></th>\n      <th></th>\n    </tr>\n  </thead>\n  <tbody>\n  </tbody>\n</table>\n<p>0 rows × 27 columns</p>\n</div>"
     },
     "metadata": {},
     "execution_count": 23
    }
   ],
   "source": []
  },
  {
   "cell_type": "code",
   "execution_count": 24,
   "metadata": {},
   "outputs": [
    {
     "output_type": "execute_result",
     "data": {
      "text/plain": "Series([], Name: 23, dtype: int64)"
     },
     "metadata": {},
     "execution_count": 24
    }
   ],
   "source": [
    "df['23'].value_counts()"
   ]
  },
  {
   "cell_type": "code",
   "execution_count": 25,
   "metadata": {},
   "outputs": [
    {
     "output_type": "execute_result",
     "data": {
      "text/plain": "Unanswered    1\nName: 22, dtype: int64"
     },
     "metadata": {},
     "execution_count": 25
    }
   ],
   "source": [
    "df['22'].value_counts()"
   ]
  },
  {
   "cell_type": "code",
   "execution_count": null,
   "metadata": {},
   "outputs": [],
   "source": []
  }
 ]
}