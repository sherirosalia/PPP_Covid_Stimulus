{
  "nbformat": 4,
  "nbformat_minor": 0,
  "metadata": {
    "colab": {
      "name": "analyze_normalized_peep.ipynb",
      "provenance": [],
      "private_outputs": true,
      "collapsed_sections": [],
      "mount_file_id": "1_wKV0caw-fIeCPmsFRZpbwN3i9ZGb6Lr",
      "authorship_tag": "ABX9TyM6X3XU2goX0ZweAZ+XskJF"
    },
    "kernelspec": {
      "name": "python3",
      "display_name": "Python 3"
    }
  },
  "cells": [
    {
      "cell_type": "markdown",
      "metadata": {
        "id": "2oVNvkNYPDV2",
        "colab_type": "text"
      },
      "source": [
        "Begining of analysis\n",
        "\n",
        " "
      ]
    },
    {
      "cell_type": "code",
      "metadata": {
        "id": "8M-oPsMYPGnv",
        "colab_type": "code",
        "colab": {}
      },
      "source": [
        "#import dependencies\n",
        "import pandas as pd\n",
        "import numpy as np\n",
        "import matplotlib.pyplot as plt\n",
        "\n",
        "from datetime import date, datetime\n",
        "import os, sys \n",
        "import io\n",
        "import ee\n"
      ],
      "execution_count": null,
      "outputs": []
    },
    {
      "cell_type": "code",
      "metadata": {
        "id": "IF4fH4hDB5m8",
        "colab_type": "code",
        "colab": {}
      },
      "source": [
        "## set up pandas dataframe using set_options to warn when we are working on a copy instead of ooriginal dataframe\n",
        "pd.set_option('mode.chained_assignment','warn')"
      ],
      "execution_count": null,
      "outputs": []
    },
    {
      "cell_type": "code",
      "metadata": {
        "id": "pf2cFMugB_T9",
        "colab_type": "code",
        "colab": {}
      },
      "source": [
        "# dataframe will display without being truncated\n",
        "pd.set_option('display.max_rows', 150)\n",
        "pd.set_option('display.max_columns', 25)\n",
        "pd.set_option('display.width', 768)"
      ],
      "execution_count": null,
      "outputs": []
    },
    {
      "cell_type": "code",
      "metadata": {
        "id": "ax45eZXtxQE2",
        "colab_type": "code",
        "colab": {}
      },
      "source": [
        "#mounting the google drive to access the files\n",
        "from google.colab import files\n",
        "from google.colab import drive\n",
        "drive.mount('/content/drive')"
      ],
      "execution_count": null,
      "outputs": []
    },
    {
      "cell_type": "code",
      "metadata": {
        "id": "eGYONJar9ZgL",
        "colab_type": "code",
        "colab": {}
      },
      "source": [
        "#import csv that was cleaned up in cat_desc_normalize.ipynb\n",
        "csv_path = \"/content/drive/My Drive/p_cat_clean.csv\"\n"
      ],
      "execution_count": null,
      "outputs": []
    },
    {
      "cell_type": "code",
      "metadata": {
        "id": "KVaszjhYV77F",
        "colab_type": "code",
        "colab": {}
      },
      "source": [
        "#list of columns\n",
        "cols=list(pd.read_csv(csv_path, nrows=1))\n",
        "cols\n"
      ],
      "execution_count": null,
      "outputs": []
    },
    {
      "cell_type": "code",
      "metadata": {
        "id": "-jgkYEmVf7az",
        "colab_type": "code",
        "colab": {}
      },
      "source": [
        "# backup of clean dataframe, types will not be fully preserved so on import reassign, but easier with unconformity removed\n",
        "df = pd.read_csv(csv_path, dtype={'Jobs Saved':int, 'NAICS Code': str, 'NAICS Category': str, 'Zip': str, }, parse_dates=[10] )\n",
        "df.sample()"
      ],
      "execution_count": null,
      "outputs": []
    },
    {
      "cell_type": "code",
      "metadata": {
        "id": "Mz5dHiTKL51p",
        "colab_type": "code",
        "colab": {}
      },
      "source": [
        "#found some weird characters\n",
        "df['Bank']=df['Bank'].str.lstrip('\\t')"
      ],
      "execution_count": null,
      "outputs": []
    },
    {
      "cell_type": "code",
      "metadata": {
        "id": "G4VjlYbXhyks",
        "colab_type": "code",
        "colab": {}
      },
      "source": [
        "#types are correct\n",
        "df.dtypes"
      ],
      "execution_count": null,
      "outputs": []
    },
    {
      "cell_type": "code",
      "metadata": {
        "id": "2VV-rBW2Ni8t",
        "colab_type": "code",
        "colab": {}
      },
      "source": [
        "df.shape"
      ],
      "execution_count": null,
      "outputs": []
    },
    {
      "cell_type": "code",
      "metadata": {
        "id": "WT2h9dVy6Spd",
        "colab_type": "code",
        "colab": {}
      },
      "source": [
        "nat_loan_stats=df['Loan Amount'].describe()\n",
        "nat_loan_stats"
      ],
      "execution_count": null,
      "outputs": []
    },
    {
      "cell_type": "code",
      "metadata": {
        "id": "Eg8wEtw86jz_",
        "colab_type": "code",
        "colab": {}
      },
      "source": [
        "\n"
      ],
      "execution_count": null,
      "outputs": []
    },
    {
      "cell_type": "code",
      "metadata": {
        "id": "tN9gazbU58T4",
        "colab_type": "code",
        "colab": {}
      },
      "source": [
        "national_loan_avg=df['Loan Amount'].mean()\n",
        "national_loan_avg"
      ],
      "execution_count": null,
      "outputs": []
    },
    {
      "cell_type": "code",
      "metadata": {
        "id": "4KSc4Hyg6ReW",
        "colab_type": "code",
        "colab": {}
      },
      "source": [
        "national_loan_med=df['Loan Amount'].median()\n",
        "national_loan_med"
      ],
      "execution_count": null,
      "outputs": []
    },
    {
      "cell_type": "code",
      "metadata": {
        "id": "ddd_ShqT6Rkk",
        "colab_type": "code",
        "colab": {}
      },
      "source": [
        "national_loan_sum=df['Loan Amount'].sum()\n",
        "national_loan_sum"
      ],
      "execution_count": null,
      "outputs": []
    },
    {
      "cell_type": "code",
      "metadata": {
        "id": "5EBjmWUYAx2w",
        "colab_type": "code",
        "colab": {}
      },
      "source": [
        "national_loan_count=df['Loan Amount'].count()"
      ],
      "execution_count": null,
      "outputs": []
    },
    {
      "cell_type": "code",
      "metadata": {
        "id": "ZBM91gMOAlXo",
        "colab_type": "code",
        "colab": {}
      },
      "source": [
        "national_loan_sum=df['Jobs Saved'].sum()\n",
        "national_loan_sum"
      ],
      "execution_count": null,
      "outputs": []
    },
    {
      "cell_type": "code",
      "metadata": {
        "id": "P2jMqCEKfwyb",
        "colab_type": "code",
        "colab": {}
      },
      "source": [
        "nat_pct_dif=national_loan_avg/national_loan_med * 100\n",
        "nat_pct_dif"
      ],
      "execution_count": null,
      "outputs": []
    },
    {
      "cell_type": "code",
      "metadata": {
        "id": "PLCwU8xU_lyL",
        "colab_type": "code",
        "colab": {}
      },
      "source": [
        "#summary table of stats\n",
        "nat_summary = pd.DataFrame({\n",
        "    'Loan Avg': national_loan_avg,\n",
        "    'Loan Median': national_loan_med,\n",
        "    'Loan Sum': national_loan_sum,\n",
        "    'Loan Count': national_loan_count,\n",
        "    'Jobs Saved': national_loan_sum,\n",
        "    'Avg over Median': nat_pct_dif,\n",
        "},index=[0])\n",
        "nat_summary.head(3)"
      ],
      "execution_count": null,
      "outputs": []
    },
    {
      "cell_type": "markdown",
      "metadata": {
        "id": "YgdG17VMdtD8",
        "colab_type": "text"
      },
      "source": [
        "# Summary Table\n",
        "\n",
        "Loan Avg : $43,003.12 | Median Loan : $30,000 | Loan Sum: $10,491,212,067| Loan Count: 243,964 | Jobs Saved: 1,505,064 | Avg loan amount over Median: 143.34%\n"
      ]
    },
    {
      "cell_type": "code",
      "metadata": {
        "id": "aRW-nHwU_h7N",
        "colab_type": "code",
        "colab": {}
      },
      "source": [
        "nat_summary['Loan Avg'] = nat_summary.loc[:,'Loan Avg'].map(\"${:,.2f}\".format)\n",
        "nat_summary['Loan Median'] = nat_summary.loc[:,'Loan Median'].map(\"${:,.2f}\".format)\n",
        "nat_summary['Loan Sum'] = nat_summary.loc[:,'Loan Sum'].map(\"{:,}\".format)\n",
        "nat_summary['Loan Count'] = nat_summary.loc[:,'Loan Count'].map(\"{:,}\".format)\n",
        "nat_summary['Jobs Saved'] = nat_summary.loc[:,'Jobs Saved'].map(\"{:,}\".format)\n",
        "nat_summary['Avg over Median'] = nat_summary.loc[:,'Avg over Median'].map(\"{:,.2f}%\".format)\n",
        "nat_summary\n",
        "\n",
        "\n",
        "\n",
        "\n"
      ],
      "execution_count": null,
      "outputs": []
    },
    {
      "cell_type": "code",
      "metadata": {
        "id": "zI-omtKvmst6",
        "colab_type": "code",
        "colab": {}
      },
      "source": [
        "#who are the top lenders by amount? Creating a summary table that can be exported to csv for analysis in SQL/ Tableau later\n",
        "top_bank_sums=df.groupby('Bank').sum()['Loan Amount']\n",
        "top_bank_sums"
      ],
      "execution_count": null,
      "outputs": []
    },
    {
      "cell_type": "code",
      "metadata": {
        "id": "JEhijOVfmsyv",
        "colab_type": "code",
        "colab": {}
      },
      "source": [
        "top_bank_median=df.groupby('Bank').median()['Loan Amount']\n",
        "top_bank_median"
      ],
      "execution_count": null,
      "outputs": []
    },
    {
      "cell_type": "code",
      "metadata": {
        "id": "Ta6SCzVbms7d",
        "colab_type": "code",
        "colab": {}
      },
      "source": [
        "top_bank_average=df.groupby('Bank').mean()['Loan Amount']\n",
        "top_bank_average"
      ],
      "execution_count": null,
      "outputs": []
    },
    {
      "cell_type": "code",
      "metadata": {
        "id": "nSI6tytomtAI",
        "colab_type": "code",
        "colab": {}
      },
      "source": [
        "banks_summary_df=pd.DataFrame({\n",
        "    'Loan Sum' : top_bank_sums,\n",
        "    'Average Loan' : top_bank_average,\n",
        "    'Median Loan' : top_bank_median\n",
        "  \n",
        "})\n",
        "banks_summary_df.head()\n"
      ],
      "execution_count": null,
      "outputs": []
    },
    {
      "cell_type": "code",
      "metadata": {
        "id": "2tt8QQ71ms3A",
        "colab_type": "code",
        "colab": {}
      },
      "source": [
        "banks_summary_df['Loan Sum'] = banks_summary_df.loc[:,'Loan Sum'].map(\"${:,.2f}\".format)\n",
        "banks_summary_df['Average Loan'] = banks_summary_df.loc[:,'Average Loan'].map(\"${:,.2f}\".format)\n",
        "banks_summary_df['Median Loan'] = banks_summary_df.loc[:,'Median Loan'].map(\"${:,.2f}\".format)\n",
        "banks_summary_df.sample(30)\n"
      ],
      "execution_count": null,
      "outputs": []
    },
    {
      "cell_type": "code",
      "metadata": {
        "id": "h5xZUycn-xv7",
        "colab_type": "code",
        "colab": {}
      },
      "source": [
        "result=8142/243964\n",
        "result"
      ],
      "execution_count": null,
      "outputs": []
    },
    {
      "cell_type": "code",
      "metadata": {
        "id": "KymMCXR_hqsi",
        "colab_type": "code",
        "colab": {}
      },
      "source": [
        "#some of the top institutions by state that considering they are regional have a relatively large percentage of the loans\n",
        "# for example OH - Huntington bank did 3.3% of the loan count for this dataset Mississippi\n",
        "top_bks_state=df.groupby('State')['Bank'].value_counts().nlargest(15)\n",
        "top_bks_state"
      ],
      "execution_count": null,
      "outputs": []
    },
    {
      "cell_type": "code",
      "metadata": {
        "id": "9n-T2q6F-xH-",
        "colab_type": "code",
        "colab": {}
      },
      "source": [
        "category_summary_df.to_csv('bks_by_state.csv', index=0)\n",
        "!cp bks_by_state.csv \"drive/My Drive/\""
      ],
      "execution_count": null,
      "outputs": []
    },
    {
      "cell_type": "code",
      "metadata": {
        "id": "NkahrkRLkiD9",
        "colab_type": "code",
        "colab": {}
      },
      "source": [
        "loans_cat=df.groupby('description')['Loan Amount'].sum()\n",
        "loans_cat.head()"
      ],
      "execution_count": null,
      "outputs": []
    },
    {
      "cell_type": "code",
      "metadata": {
        "id": "KRRMRQoNwTae",
        "colab_type": "code",
        "colab": {}
      },
      "source": [
        "jobs_cat=df.groupby('description')['Jobs Saved'].sum()\n",
        "jobs_cat.head()"
      ],
      "execution_count": null,
      "outputs": []
    },
    {
      "cell_type": "code",
      "metadata": {
        "id": "ACtIpTX8wtwt",
        "colab_type": "code",
        "colab": {}
      },
      "source": [
        "median_cat=df.groupby('description')['Loan Amount'].median()\n",
        "median_cat.head()"
      ],
      "execution_count": null,
      "outputs": []
    },
    {
      "cell_type": "code",
      "metadata": {
        "id": "Lk44wXoHwt_k",
        "colab_type": "code",
        "colab": {}
      },
      "source": [
        "mean_cat=df.groupby('description')['Loan Amount'].mean()\n",
        "mean_cat.head()"
      ],
      "execution_count": null,
      "outputs": []
    },
    {
      "cell_type": "code",
      "metadata": {
        "id": "GEmktleaxSn3",
        "colab_type": "code",
        "colab": {}
      },
      "source": [
        "category_summary_df=pd.DataFrame({\n",
        "    'Jobs Saved' : jobs_cat,\n",
        "    'Median Loan' : median_cat,\n",
        "    'Average Loan' : mean_cat,\n",
        "    'Total Loans': loans_cat,\n",
        "  \n",
        "})\n",
        "category_summary_df.head()"
      ],
      "execution_count": null,
      "outputs": []
    },
    {
      "cell_type": "markdown",
      "metadata": {
        "id": "UIJaFTmfkuRe",
        "colab_type": "text"
      },
      "source": [
        "No surprise - Hospitality industry seemed to take the biggest hit with Construction and Health Care loans the next highest number of jobs saved. Seemingly unexpected are Professional and Technical Services and Waste Management which may deserve a \"look under the hood\"."
      ]
    },
    {
      "cell_type": "markdown",
      "metadata": {
        "id": "EmPxmX_fi46z",
        "colab_type": "text"
      },
      "source": [
        ""
      ]
    },
    {
      "cell_type": "code",
      "metadata": {
        "id": "2DQF0fHZxSsr",
        "colab_type": "code",
        "colab": {}
      },
      "source": [
        "category_summary_df['Jobs Saved'] = category_summary_df.loc[:,'Jobs Saved'].map(\"{:,}\".format)\n",
        "category_summary_df['Median Loan'] = category_summary_df.loc[:,'Median Loan'].map(\"${:,.2f}\".format)\n",
        "category_summary_df['Average Loan'] = category_summary_df.loc[:,'Average Loan'].map(\"${:,.2f}\".format)\n",
        "category_summary_df['Total Loans'] = category_summary_df.loc[:,'Total Loans'].map(\"${:,.2f}\".format)\n",
        "category_summary_df.head(30)"
      ],
      "execution_count": null,
      "outputs": []
    },
    {
      "cell_type": "code",
      "metadata": {
        "id": "rT7RP1CxwUA9",
        "colab_type": "code",
        "colab": {}
      },
      "source": [
        "#save to csv and will convert to a table in SQL / Tableau for further analysis \n",
        "\n",
        "category_summary_df.to_csv('category_summary.csv', index=0)\n",
        "!cp category_summary.csv \"drive/My Drive/\""
      ],
      "execution_count": null,
      "outputs": []
    },
    {
      "cell_type": "code",
      "metadata": {
        "id": "9s3aaf3Sjj0e",
        "colab_type": "code",
        "colab": {}
      },
      "source": [
        "sum_by_state=df.groupby('State',)['Loan Amount'].sum() \n",
        "sum_by_state.nlargest(8)"
      ],
      "execution_count": null,
      "outputs": []
    },
    {
      "cell_type": "code",
      "metadata": {
        "id": "Dxv6FgkxjkCG",
        "colab_type": "code",
        "colab": {}
      },
      "source": [
        ""
      ],
      "execution_count": null,
      "outputs": []
    },
    {
      "cell_type": "code",
      "metadata": {
        "id": "TKt4zPyuA9ko",
        "colab_type": "code",
        "colab": {}
      },
      "source": [
        "# df['Loan PCL']=pd.qcut(df['Loan Amount'], q=10)\n",
        "\n",
        "bin_labels_10= ['10%', '20%', '30%', '40%', '50%', '60%', '70%', '80%', '90%' ]\n",
        "df['Loan Percentile'] = pd.qcut(df['Loan Amount'],\n",
        "                              q=[0,  .10, .20, .30, .40, .50, .60, .70, .80, 1],\n",
        "                              labels=bin_labels_10)\n",
        "df.head()"
      ],
      "execution_count": null,
      "outputs": []
    },
    {
      "cell_type": "code",
      "metadata": {
        "id": "BRptlYzWTblw",
        "colab_type": "code",
        "colab": {}
      },
      "source": [
        "bin_labels_4 = ['25%', '45%', '50%', '75%', ]\n",
        "df['Loan Quartile'] = pd.qcut(df['Loan Amount'],\n",
        "                              q=[0, .25, .50, .75, 1],\n",
        "                              labels=bin_labels_4)\n",
        "df.head()"
      ],
      "execution_count": null,
      "outputs": []
    },
    {
      "cell_type": "code",
      "metadata": {
        "id": "U3cw4b7yTbsw",
        "colab_type": "code",
        "colab": {}
      },
      "source": [
        ""
      ],
      "execution_count": null,
      "outputs": []
    },
    {
      "cell_type": "markdown",
      "metadata": {
        "id": "eRt6t6Mzl1Q5",
        "colab_type": "text"
      },
      "source": [
        "The 90th percentile of loans account for 20% of total in terms of loan amount\n"
      ]
    },
    {
      "cell_type": "code",
      "metadata": {
        "id": "b9iRqp3VNlDl",
        "colab_type": "code",
        "colab": {}
      },
      "source": [
        "df['Loan Quartile'].value_counts()"
      ],
      "execution_count": null,
      "outputs": []
    },
    {
      "cell_type": "code",
      "metadata": {
        "id": "08QLznG4Nla-",
        "colab_type": "code",
        "colab": {}
      },
      "source": [
        ""
      ],
      "execution_count": null,
      "outputs": []
    },
    {
      "cell_type": "code",
      "metadata": {
        "id": "WKtn9aWAPWZf",
        "colab_type": "code",
        "colab": {}
      },
      "source": [
        "df.sample()"
      ],
      "execution_count": null,
      "outputs": []
    },
    {
      "cell_type": "code",
      "metadata": {
        "id": "DEci8fBQXZYX",
        "colab_type": "code",
        "colab": {}
      },
      "source": [
        ""
      ],
      "execution_count": null,
      "outputs": []
    },
    {
      "cell_type": "code",
      "metadata": {
        "id": "FSMPB_zg6RoY",
        "colab_type": "code",
        "colab": {}
      },
      "source": [
        "loan_qt = np.percentile(df['Loan Amount'], [25, 50, 75, 100])\n",
        "loan_qt\n"
      ],
      "execution_count": null,
      "outputs": []
    },
    {
      "cell_type": "code",
      "metadata": {
        "id": "YseK591XFWy3",
        "colab_type": "code",
        "colab": {}
      },
      "source": [
        ""
      ],
      "execution_count": null,
      "outputs": []
    },
    {
      "cell_type": "code",
      "metadata": {
        "id": "IbXMGajcoMZo",
        "colab_type": "code",
        "colab": {}
      },
      "source": [
        "high_pct = df[(df[\"Loan Percentile\"] == '90%')]\n",
        "\n",
        "high_pct.head(1)\n"
      ],
      "execution_count": null,
      "outputs": []
    },
    {
      "cell_type": "code",
      "metadata": {
        "id": "VU6BvdkHQNe7",
        "colab_type": "code",
        "colab": {}
      },
      "source": [
        "#save to csv and will convert to a table in SQL / Tableau for further analysis \n",
        "\n",
        "high_pct.to_csv('top_percentile_banks.csv', index=0)\n",
        "!cp top_percentile_banks.csv \"drive/My Drive/\""
      ],
      "execution_count": null,
      "outputs": []
    },
    {
      "cell_type": "markdown",
      "metadata": {
        "id": "uDDzW634mYMx",
        "colab_type": "text"
      },
      "source": [
        "Some lines of inquiry to pursue pertaining to race and gender\n",
        "From the subset of people who self identified racially, Asians borrowed a disproporianatly larger amount as a percentage of population and Hispanics less. (Asians are less than 6% and Hispanics 16%). Puerto Ricans are not necessarily accounted for in the Hispanic statistics. It is hard to say whether or not this is a true representation of percentages of all loans because this dataset is small (less than 5% of the total) and only reflects the people who were willing to answer the race inquiry. Asians and Whites had roughly the same gender percentages, median and average loan amounts. Hispanics and Blacks seemed to incur lower levels of debt."
      ]
    },
    {
      "cell_type": "code",
      "metadata": {
        "id": "IX1Fizq0oMeK",
        "colab_type": "code",
        "colab": {}
      },
      "source": [
        "state_race_cts=df.groupby('State',)['Race'].value_counts()\n",
        "state_race_cts.head()"
      ],
      "execution_count": null,
      "outputs": []
    },
    {
      "cell_type": "code",
      "metadata": {
        "id": "1Rmbj--hoMkt",
        "colab_type": "code",
        "colab": {}
      },
      "source": [
        "df"
      ],
      "execution_count": null,
      "outputs": []
    },
    {
      "cell_type": "code",
      "metadata": {
        "id": "ZrJUfysuC606",
        "colab_type": "code",
        "colab": {}
      },
      "source": [
        "\n",
        "race_avg=df.groupby('Race')['Loan Amount'].mean()\n",
        "race_avg"
      ],
      "execution_count": null,
      "outputs": []
    },
    {
      "cell_type": "code",
      "metadata": {
        "id": "oLipKdT3TNOH",
        "colab_type": "code",
        "colab": {}
      },
      "source": [
        "# Define plot space\n",
        "fig, ax = plt.subplots(figsize=(10, 6))\n",
        "ax.set(title = \"Average Loan Amount by Race\",\n",
        "       xlabel = \"\", \n",
        "       ylabel = \"\",\n",
        "\n",
        "       )\n",
        "labels=race_qt.index\n",
        "explode = (0.0, 0.075, 0.0, 0.0, 0, 0,  0, 0)\n",
        "# Define x and y axes\n",
        "ax.pie(race_qt, explode=explode, labels=labels)\n"
      ],
      "execution_count": null,
      "outputs": []
    },
    {
      "cell_type": "code",
      "metadata": {
        "id": "yb_LmDt_YUZd",
        "colab_type": "code",
        "colab": {}
      },
      "source": [
        "# df.groupby('Race', 'Loan Amount').quantile()\n",
        "race_count=df.groupby('Race').count()\n",
        "race_count"
      ],
      "execution_count": null,
      "outputs": []
    },
    {
      "cell_type": "code",
      "metadata": {
        "id": "NRvaZlG-YxSo",
        "colab_type": "code",
        "colab": {}
      },
      "source": [
        "# Define plot space\n",
        "fig, ax = plt.subplots(figsize=(10, 6))\n",
        "ax.set(title = \"\",\n",
        "       xlabel = \"\", \n",
        "       ylabel = \"\",\n",
        "\n",
        "       )\n",
        "labels=race_count.index\n",
        "explode = (0.0, 0.0, 0.0, 0.0, 0., 0.0, 0.0, 0.05)\n",
        "left  = 0.125  # the left side of the subplots of the figure\n",
        "right = 0.9    # the right side of the subplots of the figure\n",
        "bottom = 0.1   # the bottom of the subplots of the figure\n",
        "top = 0.9      # the top of the subplots of the figure\n",
        "wspace = 0.5  # the amount of width reserved for blank space between subplots\n",
        "hspace = 0.5   # the amount of height reserved for white space between subplots\n",
        "# These two can be called on 'fig' instead of 'plt' too\n",
        "plt.subplots_adjust(left=left, bottom=bottom, right=right, top=top,\n",
        "                wspace=wspace, hspace=hspace)\n",
        "\n",
        "# Define x and y axes\n",
        "ax.pie(race_count['Loan Amount'], explode=explode, labels=labels, rotatelabels=True)\n",
        "plt.savefig('race_countof_loans.png')"
      ],
      "execution_count": null,
      "outputs": []
    },
    {
      "cell_type": "code",
      "metadata": {
        "id": "vm7idutaYUGG",
        "colab_type": "code",
        "colab": {}
      },
      "source": [
        ""
      ],
      "execution_count": null,
      "outputs": []
    },
    {
      "cell_type": "code",
      "metadata": {
        "id": "5nVjdbd7OhB_",
        "colab_type": "code",
        "colab": {}
      },
      "source": [
        ""
      ],
      "execution_count": null,
      "outputs": []
    },
    {
      "cell_type": "code",
      "metadata": {
        "id": "9ygePjhlFiH1",
        "colab_type": "code",
        "colab": {}
      },
      "source": [
        "race_qt.head()"
      ],
      "execution_count": null,
      "outputs": []
    },
    {
      "cell_type": "code",
      "metadata": {
        "id": "0nwjC5X4FiYt",
        "colab_type": "code",
        "colab": {}
      },
      "source": [
        "vt_gen_qt=df.groupby(['Race', 'Veteran'])['Loan Amount'].quantile()\n",
        "vt_gen_qt"
      ],
      "execution_count": null,
      "outputs": []
    },
    {
      "cell_type": "code",
      "metadata": {
        "id": "Ci5TZRXk1pKi",
        "colab_type": "code",
        "colab": {}
      },
      "source": [
        "vt_cat=df.groupby(['Race', 'Veteran'])['description'].value_counts()\n",
        "vt_cat"
      ],
      "execution_count": null,
      "outputs": []
    },
    {
      "cell_type": "code",
      "metadata": {
        "id": "H-vi2esF1zs6",
        "colab_type": "code",
        "colab": {}
      },
      "source": [
        "df.sample()"
      ],
      "execution_count": null,
      "outputs": []
    },
    {
      "cell_type": "code",
      "metadata": {
        "id": "0DLQMAvQFFXg",
        "colab_type": "code",
        "colab": {}
      },
      "source": [
        "rc_jbs=df.groupby(['Race', 'Gender'])['Jobs Saved'].sum()\n",
        "rc_jbs"
      ],
      "execution_count": null,
      "outputs": []
    },
    {
      "cell_type": "code",
      "metadata": {
        "id": "XjwXSmbi0byn",
        "colab_type": "code",
        "colab": {}
      },
      "source": [
        "race_median=df.groupby(['Race', 'Gender'])['Loan Amount'].median()\n",
        "race_median"
      ],
      "execution_count": null,
      "outputs": []
    },
    {
      "cell_type": "code",
      "metadata": {
        "id": "V4ye18z20b68",
        "colab_type": "code",
        "colab": {}
      },
      "source": [
        "race_mean=df.groupby(['Race', 'Gender'])['Loan Amount'].mean()\n",
        "race_mean"
      ],
      "execution_count": null,
      "outputs": []
    },
    {
      "cell_type": "code",
      "metadata": {
        "id": "2_7K_TrA0b-3",
        "colab_type": "code",
        "colab": {}
      },
      "source": [
        "df.shape"
      ],
      "execution_count": null,
      "outputs": []
    },
    {
      "cell_type": "code",
      "metadata": {
        "id": "etgEwN1x0cCW",
        "colab_type": "code",
        "colab": {}
      },
      "source": [
        "rc_gen_qt=df.groupby(['Race', 'Gender'])['Loan Amount'].quantile()\n"
      ],
      "execution_count": null,
      "outputs": []
    },
    {
      "cell_type": "code",
      "metadata": {
        "id": "6HLX51rS0cFq",
        "colab_type": "code",
        "colab": {}
      },
      "source": [
        "counts_by_race=df.groupby(['Race', 'Gender'])['Loan Amount'].count()\n",
        "counts_by_race"
      ],
      "execution_count": null,
      "outputs": []
    },
    {
      "cell_type": "code",
      "metadata": {
        "id": "nUrgA2yG0cKI",
        "colab_type": "code",
        "colab": {}
      },
      "source": [
        "race_summary= pd.DataFrame({\n",
        "    'Count' : counts_by_race,\n",
        "    'Quantile' : rc_gen_qt,\n",
        "    'Mean' : race_mean,\n",
        "    'Median' : race_median,\n",
        "    'Jobs' : rc_jbs\n",
        "\n",
        "\n",
        "})\n",
        "race_summary.head()"
      ],
      "execution_count": null,
      "outputs": []
    },
    {
      "cell_type": "code",
      "metadata": {
        "id": "ttJhQNIyBQfd",
        "colab_type": "code",
        "colab": {}
      },
      "source": [
        "race_summary['Count'] = race_summary.loc[:,'Count'].map(\"{:,}\".format)\n",
        "race_summary['Jobs'] = race_summary.loc[:,'Jobs'].map(\"{:,}\".format)\n",
        "race_summary['Quantile'] = race_summary.loc[:,'Quantile'].map(\"${:,.2f}\".format)\n",
        "race_summary['Mean'] = race_summary.loc[:,'Mean'].map(\"${:,.2f}\".format)\n",
        "race_summary['Median'] = race_summary.loc[:,'Median'].map(\"${:,.2f}\".format)\n",
        "race_summary"
      ],
      "execution_count": null,
      "outputs": []
    },
    {
      "cell_type": "code",
      "metadata": {
        "id": "qWk1S-CQdjdT",
        "colab_type": "code",
        "colab": {}
      },
      "source": [
        ""
      ],
      "execution_count": null,
      "outputs": []
    },
    {
      "cell_type": "code",
      "metadata": {
        "id": "PcnimuSGCkx0",
        "colab_type": "code",
        "colab": {}
      },
      "source": [
        "\n"
      ],
      "execution_count": null,
      "outputs": []
    },
    {
      "cell_type": "code",
      "metadata": {
        "id": "u6fYCIz8P0PB",
        "colab_type": "code",
        "colab": {}
      },
      "source": [
        "#save to csv and will convert to a table in SQL / Tableau for further analysis \n",
        "\n",
        "race_summary.to_csv('race_summary.csv', index=0)\n",
        "!cp race_summary.csv \"drive/My Drive/\""
      ],
      "execution_count": null,
      "outputs": []
    },
    {
      "cell_type": "code",
      "metadata": {
        "id": "6yZonhhf7RT2",
        "colab_type": "code",
        "colab": {}
      },
      "source": [
        "df.sample()\n"
      ],
      "execution_count": null,
      "outputs": []
    },
    {
      "cell_type": "code",
      "metadata": {
        "id": "vqGMZQOS6i3O",
        "colab_type": "code",
        "colab": {}
      },
      "source": [
        "cat_sum=df.groupby('description')['Jobs Saved'].sum()\n",
        "cat_sum.head()"
      ],
      "execution_count": null,
      "outputs": []
    },
    {
      "cell_type": "code",
      "metadata": {
        "id": "OFuoZQk26i70",
        "colab_type": "code",
        "colab": {}
      },
      "source": [
        "cat_sum.sort_values().plot(kind='barh', y='Jobs Saved', subplots=True, figsize=(12,9), color=\"lightskyblue\")\n",
        "\n",
        "plt.savefig('category_jobs_saved.png', bbox_inches=\"tight\")"
      ],
      "execution_count": null,
      "outputs": []
    },
    {
      "cell_type": "code",
      "metadata": {
        "id": "VLZrQQGi6jBV",
        "colab_type": "code",
        "colab": {}
      },
      "source": [
        "cat_loan=df.groupby('description')['Loan Amount'].sum()\n",
        "cat_loan.head()"
      ],
      "execution_count": null,
      "outputs": []
    },
    {
      "cell_type": "code",
      "metadata": {
        "id": "oi_-eW1ncF_J",
        "colab_type": "code",
        "colab": {}
      },
      "source": [
        "cat_loan.sort_values().plot(kind='barh', y='Jobs Saved', subplots=True, figsize=(12,9), color=\"lightcoral\")\n",
        "\n",
        "plt.savefig('catgory_loans.png', bbox_inches=\"tight\")"
      ],
      "execution_count": null,
      "outputs": []
    },
    {
      "cell_type": "code",
      "metadata": {
        "id": "4hD5d0jBcGSX",
        "colab_type": "code",
        "colab": {}
      },
      "source": [
        ""
      ],
      "execution_count": null,
      "outputs": []
    },
    {
      "cell_type": "code",
      "metadata": {
        "id": "pDyptD3ncHPF",
        "colab_type": "code",
        "colab": {}
      },
      "source": [
        ""
      ],
      "execution_count": null,
      "outputs": []
    },
    {
      "cell_type": "code",
      "metadata": {
        "id": "Wwd59LJdcHq0",
        "colab_type": "code",
        "colab": {}
      },
      "source": [
        "count_race = df.groupby('Race').agg('count')\n",
        "count_desc = df.groupby('description').agg('count')\n",
        "count_sum = len(df)\n",
        "\n",
        "\n"
      ],
      "execution_count": null,
      "outputs": []
    },
    {
      "cell_type": "code",
      "metadata": {
        "id": "UYjMNCI8eKAC",
        "colab_type": "code",
        "colab": {}
      },
      "source": [
        "# def group_lower_ranking_values(column):\n",
        "#     pie_counts = df.groupby(column).agg('count')\n",
        "#     pct_value = df[lambda df: df.columns[0]].quantile(.75)\n",
        "#     values_below_pct_value = df[lambda df: df.columns[0]].loc[lambda s: s < pct_value].index.values\n",
        "#     def fix_values(row):\n",
        "#         if row[column] in values_below_pct_value:\n",
        "#             row[column] = 'Other'\n",
        "#         return row \n",
        "#     pie_grouped = df.apply(fix_values, axis=1).groupby(column).agg('count')\n",
        "#     return pie_grouped\n",
        "\n",
        "# racial_index = group_lower_ranking_values('Race')\n",
        "# description_index = group_lower_ranking_values('description')"
      ],
      "execution_count": null,
      "outputs": []
    },
    {
      "cell_type": "code",
      "metadata": {
        "id": "zKZGGRmrf2-o",
        "colab_type": "code",
        "colab": {}
      },
      "source": [
        "racial_index=df.groupby('Race').agg('count')"
      ],
      "execution_count": null,
      "outputs": []
    },
    {
      "cell_type": "code",
      "metadata": {
        "id": "QU3J07Rf75DF",
        "colab_type": "code",
        "colab": {}
      },
      "source": [
        ""
      ],
      "execution_count": null,
      "outputs": []
    },
    {
      "cell_type": "code",
      "metadata": {
        "id": "JTqVQ-c2Pb3I",
        "colab_type": "code",
        "colab": {}
      },
      "source": [
        "gender_loan_amount=df.groupby('Gender')['Loan Amount'].agg('sum')"
      ],
      "execution_count": null,
      "outputs": []
    },
    {
      "cell_type": "code",
      "metadata": {
        "id": "lLPOs4heOjVq",
        "colab_type": "code",
        "colab": {}
      },
      "source": [
        "%matplotlib inline"
      ],
      "execution_count": null,
      "outputs": []
    },
    {
      "cell_type": "code",
      "metadata": {
        "id": "rYx26HZQbtld",
        "colab_type": "code",
        "colab": {}
      },
      "source": [
        "# Define plot space\n",
        "fig, ax = plt.subplots(figsize=(10, 6))\n",
        "ax.set(title = \"Total Percent of Loans by Gender\",\n",
        "       xlabel = \"\", \n",
        "       ylabel = \"\",\n",
        "\n",
        "       )\n",
        "labels=gender_loan_amount.index\n",
        "explode = (0.0, 0.05)\n",
        "left  = 0.125  # the left side of the subplots of the figure\n",
        "right = 0.9    # the right side of the subplots of the figure\n",
        "bottom = 0.1   # the bottom of the subplots of the figure\n",
        "top = 0.9      # the top of the subplots of the figure\n",
        "wspace = 0.5  # the amount of width reserved for blank space between subplots\n",
        "hspace = 0.5   # the amount of height reserved for white space between subplots\n",
        "# These two can be called on 'fig' instead of 'plt' too\n",
        "plt.subplots_adjust(left=left, bottom=bottom, right=right, top=top,\n",
        "                wspace=wspace, hspace=hspace)\n",
        "\n",
        "# Define x and y axes\n",
        "ax.pie(gender_loan_amount, explode=explode, labels=labels, rotatelabels=False)\n",
        "plt.savefig('gender_loan_total.png', bbox_inches='tight')"
      ],
      "execution_count": null,
      "outputs": []
    },
    {
      "cell_type": "code",
      "metadata": {
        "id": "6S7sUWAI6QdA",
        "colab_type": "code",
        "colab": {}
      },
      "source": [
        ""
      ],
      "execution_count": null,
      "outputs": []
    },
    {
      "cell_type": "code",
      "metadata": {
        "id": "mkZDgObZPb9e",
        "colab_type": "code",
        "colab": {}
      },
      "source": [
        "df.to_csv('ppl_ppp_w_quantiles_and_categories.csv', index=0)\n",
        "!cp people_ppp_super.csv \"drive/My Drive/\"\n"
      ],
      "execution_count": null,
      "outputs": []
    }
  ]
}