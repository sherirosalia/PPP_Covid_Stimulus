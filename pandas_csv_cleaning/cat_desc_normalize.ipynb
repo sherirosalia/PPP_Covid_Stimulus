{
  "nbformat": 4,
  "nbformat_minor": 0,
  "metadata": {
    "colab": {
      "name": "cat_desc_normalize.ipynb",
      "provenance": [],
      "private_outputs": true,
      "collapsed_sections": [],
      "mount_file_id": "1fYklVWrga-L21DdH9-vW74u0elCmx1nr",
      "authorship_tag": "ABX9TyPCveZscfPoHONmbw2eHG4N"
    },
    "kernelspec": {
      "name": "python3",
      "display_name": "Python 3"
    }
  },
  "cells": [
    {
      "cell_type": "markdown",
      "metadata": {
        "id": "2oVNvkNYPDV2",
        "colab_type": "text"
      },
      "source": [
        "This is ML\n",
        " "
      ]
    },
    {
      "cell_type": "code",
      "metadata": {
        "id": "8M-oPsMYPGnv",
        "colab_type": "code",
        "colab": {}
      },
      "source": [
        "#import dependencies\n",
        "import pandas as pd\n",
        "import numpy as np\n",
        "from datetime import date, datetime\n",
        "import os, sys \n",
        "import io\n",
        "import ee\n"
      ],
      "execution_count": null,
      "outputs": []
    },
    {
      "cell_type": "code",
      "metadata": {
        "id": "IF4fH4hDB5m8",
        "colab_type": "code",
        "colab": {}
      },
      "source": [
        "## set up pandas dataframe using set_options to warn when we are working on a copy instead of ooriginal dataframe\n",
        "pd.set_option('mode.chained_assignment','warn')"
      ],
      "execution_count": null,
      "outputs": []
    },
    {
      "cell_type": "code",
      "metadata": {
        "id": "pf2cFMugB_T9",
        "colab_type": "code",
        "colab": {}
      },
      "source": [
        "# dataframe will display without being truncated\n",
        "pd.set_option('display.max_rows', 150)\n",
        "pd.set_option('display.max_columns', 25)\n",
        "pd.set_option('display.width', 768)"
      ],
      "execution_count": null,
      "outputs": []
    },
    {
      "cell_type": "code",
      "metadata": {
        "id": "ii3flRP84Xa9",
        "colab_type": "code",
        "colab": {}
      },
      "source": [
        "# !pip install -U -q PyDrive"
      ],
      "execution_count": null,
      "outputs": []
    },
    {
      "cell_type": "code",
      "metadata": {
        "id": "ax45eZXtxQE2",
        "colab_type": "code",
        "colab": {}
      },
      "source": [
        "#mounting the google drive to access the files\n",
        "from google.colab import files\n",
        "from google.colab import drive\n",
        "drive.mount('/content/drive')"
      ],
      "execution_count": null,
      "outputs": []
    },
    {
      "cell_type": "code",
      "metadata": {
        "id": "3Siq-wB9d392",
        "colab_type": "code",
        "colab": {}
      },
      "source": [
        "# command shows file path\n",
        "# ! ls"
      ],
      "execution_count": null,
      "outputs": []
    },
    {
      "cell_type": "code",
      "metadata": {
        "id": "JwyQc3b9d4R-",
        "colab_type": "code",
        "colab": {}
      },
      "source": [
        "n_path = \"/content/drive/My Drive/data/naics-cat.csv\""
      ],
      "execution_count": null,
      "outputs": []
    },
    {
      "cell_type": "code",
      "metadata": {
        "id": "lJNe6tuIm-OL",
        "colab_type": "code",
        "colab": {}
      },
      "source": [
        "ndf = pd.read_csv( n_path, index_col=0, dtype={'cat':'string'}, na_values = ['no info', '.'], )\n",
        "ndf.sample()"
      ],
      "execution_count": null,
      "outputs": []
    },
    {
      "cell_type": "code",
      "metadata": {
        "id": "RxhFfrXX0jn0",
        "colab_type": "code",
        "colab": {}
      },
      "source": [
        "# filepath\n",
        "path = \"/content/drive/My Drive/people_ppp.csv\"\n",
        "\n",
        "\n"
      ],
      "execution_count": null,
      "outputs": []
    },
    {
      "cell_type": "markdown",
      "metadata": {
        "id": "Nt6pJSd6SX06",
        "colab_type": "text"
      },
      "source": [
        ""
      ]
    },
    {
      "cell_type": "code",
      "metadata": {
        "id": "tub77oA8j9IA",
        "colab_type": "code",
        "colab": {}
      },
      "source": [
        "#read the csv, create dataframe\n",
        "# df = pd.read_csv(path,)\n",
        "df = pd.read_csv( path, index_col=0, na_values = ['no info', '.'], )"
      ],
      "execution_count": null,
      "outputs": []
    },
    {
      "cell_type": "code",
      "metadata": {
        "id": "NpIa3AwLarWJ",
        "colab_type": "code",
        "colab": {}
      },
      "source": [
        "df.shape"
      ],
      "execution_count": null,
      "outputs": []
    },
    {
      "cell_type": "code",
      "metadata": {
        "id": "hv1dF_OPY-Cz",
        "colab_type": "code",
        "colab": {}
      },
      "source": [
        "# df[weird]\n",
        "for col in df.columns:\n",
        "    weird = (df[[col]].applymap(type) != df[[col]].iloc[0].apply(type)).any(axis=1)\n",
        "    if len(df[weird]) > 0:\n",
        "        print(col)"
      ],
      "execution_count": null,
      "outputs": []
    },
    {
      "cell_type": "code",
      "metadata": {
        "id": "1Pl-sTXoao04",
        "colab_type": "code",
        "colab": {}
      },
      "source": [
        ""
      ],
      "execution_count": null,
      "outputs": []
    },
    {
      "cell_type": "code",
      "metadata": {
        "id": "agd1eVzgMcv1",
        "colab_type": "code",
        "colab": {}
      },
      "source": [
        "df.sample()"
      ],
      "execution_count": null,
      "outputs": []
    },
    {
      "cell_type": "code",
      "metadata": {
        "id": "MTaIOheV8Fz-",
        "colab_type": "code",
        "colab": {}
      },
      "source": [
        "df.loc[:,'NAICS Code'] = df.loc[:, 'NAICS Code'].astype(str)"
      ],
      "execution_count": null,
      "outputs": []
    },
    {
      "cell_type": "code",
      "metadata": {
        "id": "CDfRLAtoZEir",
        "colab_type": "code",
        "colab": {}
      },
      "source": [
        "df.loc[:,'Zip'] = df.loc[:, 'Zip'].astype(str)"
      ],
      "execution_count": null,
      "outputs": []
    },
    {
      "cell_type": "code",
      "metadata": {
        "id": "B_fFPyJpVTBq",
        "colab_type": "code",
        "colab": {}
      },
      "source": [
        "df.loc[:,'Jobs Saved'] = df.loc[:, 'Jobs Saved'].astype(int)"
      ],
      "execution_count": null,
      "outputs": []
    },
    {
      "cell_type": "code",
      "metadata": {
        "id": "tygTrFLiXInw",
        "colab_type": "code",
        "colab": {}
      },
      "source": [
        "#somewhat forcing the date conversion because there must be some values that are not in date format \n",
        "df.loc[:,'Date'] =  pd.to_datetime(df.loc[:,'Date'], errors='coerce', )"
      ],
      "execution_count": null,
      "outputs": []
    },
    {
      "cell_type": "code",
      "metadata": {
        "id": "SJp2zU1K0-FI",
        "colab_type": "code",
        "colab": {}
      },
      "source": [
        "df.dtypes"
      ],
      "execution_count": null,
      "outputs": []
    },
    {
      "cell_type": "code",
      "metadata": {
        "id": "XjQZj90rW4aJ",
        "colab_type": "code",
        "colab": {}
      },
      "source": [
        "#check for nulls\n",
        "# print(df.isna().sum())"
      ],
      "execution_count": null,
      "outputs": []
    },
    {
      "cell_type": "code",
      "metadata": {
        "id": "oyjzbtIqaX9v",
        "colab_type": "code",
        "colab": {}
      },
      "source": [
        "df.dropna(inplace=True)\n",
        "df.sample()"
      ],
      "execution_count": null,
      "outputs": []
    },
    {
      "cell_type": "code",
      "metadata": {
        "id": "RkRXIlctbsiY",
        "colab_type": "code",
        "colab": {}
      },
      "source": [
        "# print(df.isna().sum())"
      ],
      "execution_count": null,
      "outputs": []
    },
    {
      "cell_type": "code",
      "metadata": {
        "id": "MCsTn80NW4od",
        "colab_type": "code",
        "colab": {}
      },
      "source": [
        "\n",
        "for col in df.columns:\n",
        "    weird = (df[[col]].applymap(type) != df[[col]].iloc[0].apply(type)).any(axis=1)\n",
        "    if len(df[weird]) > 0:\n",
        "        print(col)"
      ],
      "execution_count": null,
      "outputs": []
    },
    {
      "cell_type": "code",
      "metadata": {
        "id": "8Yzwzh4uW5BY",
        "colab_type": "code",
        "colab": {}
      },
      "source": [
        "# weird = (df.applymap(type) != df.iloc[0].apply(type)).any(axis=1)\n",
        "# df[weird]"
      ],
      "execution_count": null,
      "outputs": []
    },
    {
      "cell_type": "code",
      "metadata": {
        "id": "dkvMTBs_1HGo",
        "colab_type": "code",
        "colab": {}
      },
      "source": [
        "# #check for nulls\n",
        "# print(df.isna().sum())\n"
      ],
      "execution_count": null,
      "outputs": []
    },
    {
      "cell_type": "code",
      "metadata": {
        "id": "HJVbd_TzOaCm",
        "colab_type": "code",
        "colab": {}
      },
      "source": [
        "#verified\n",
        "df.shape"
      ],
      "execution_count": null,
      "outputs": []
    },
    {
      "cell_type": "code",
      "metadata": {
        "id": "R9fLan4eN80K",
        "colab_type": "code",
        "colab": {}
      },
      "source": [
        "#take the first two letters of the NAICS code column and create category column. \n",
        "#category column can be matched to named values. The longer code was impractical\n",
        "df['NAICS Category'] = df['NAICS Code'].str[:2].astype(str)\n",
        "df.info()"
      ],
      "execution_count": null,
      "outputs": []
    },
    {
      "cell_type": "code",
      "metadata": {
        "id": "mZ802ti2rAvR",
        "colab_type": "code",
        "colab": {}
      },
      "source": [
        "df.sample()"
      ],
      "execution_count": null,
      "outputs": []
    },
    {
      "cell_type": "code",
      "metadata": {
        "id": "Is9jnIOCHvCu",
        "colab_type": "code",
        "colab": {}
      },
      "source": [
        "banks=df.loc[:,'Bank'].value_counts()"
      ],
      "execution_count": null,
      "outputs": []
    },
    {
      "cell_type": "code",
      "metadata": {
        "id": "zieverq-Hu9U",
        "colab_type": "code",
        "colab": {}
      },
      "source": [
        "banks.sample()"
      ],
      "execution_count": null,
      "outputs": []
    },
    {
      "cell_type": "code",
      "metadata": {
        "id": "1uan44JyJJKN",
        "colab_type": "code",
        "colab": {}
      },
      "source": [
        "# df['Bank'].where(df['Bank'].apply(lambda x:(x.value_counts()))>=500, \"other\")"
      ],
      "execution_count": null,
      "outputs": []
    },
    {
      "cell_type": "code",
      "metadata": {
        "id": "SdxH6WIwJJDG",
        "colab_type": "code",
        "colab": {}
      },
      "source": [
        "cond = df['Bank'].value_counts()\n",
        "threshold = 500\n",
        "df['Bank'] = np.where(df['Bank'].isin(cond.index[cond >= threshold ]), df['Bank'], 'miscellaneous')"
      ],
      "execution_count": null,
      "outputs": []
    },
    {
      "cell_type": "code",
      "metadata": {
        "id": "ES6YUvUEJI8d",
        "colab_type": "code",
        "colab": {}
      },
      "source": [
        "df['Bank'].value_counts()"
      ],
      "execution_count": null,
      "outputs": []
    },
    {
      "cell_type": "code",
      "metadata": {
        "id": "HKIG7qEoJIlg",
        "colab_type": "code",
        "colab": {}
      },
      "source": [
        ""
      ],
      "execution_count": null,
      "outputs": []
    },
    {
      "cell_type": "code",
      "metadata": {
        "id": "M6e6RcjolkO1",
        "colab_type": "code",
        "colab": {}
      },
      "source": [
        "df.sample(3)"
      ],
      "execution_count": null,
      "outputs": []
    },
    {
      "cell_type": "code",
      "metadata": {
        "id": "l1oiN-9RlLOI",
        "colab_type": "code",
        "colab": {}
      },
      "source": [
        "df= df.groupby('NAICS Category').filter(lambda x: len(x) >= 5)\n"
      ],
      "execution_count": null,
      "outputs": []
    },
    {
      "cell_type": "code",
      "metadata": {
        "id": "YIQCEhNfuqpy",
        "colab_type": "code",
        "colab": {}
      },
      "source": [
        "# df.dropna(inplace=True)\n",
        "df.head(1)"
      ],
      "execution_count": null,
      "outputs": []
    },
    {
      "cell_type": "code",
      "metadata": {
        "id": "37Bb9Yotuq3y",
        "colab_type": "code",
        "colab": {}
      },
      "source": [
        "df.shape"
      ],
      "execution_count": null,
      "outputs": []
    },
    {
      "cell_type": "code",
      "metadata": {
        "id": "FHJE-n-mlLa7",
        "colab_type": "code",
        "colab": {}
      },
      "source": [
        "# join n_path and df make merged df\n",
        "mdf = pd.merge(left=df, right=ndf, left_on='NAICS Category', right_on='cat')\n",
        "mdf.sample(12)\n",
        "\n",
        "\n",
        "\n",
        "\n",
        "\n"
      ],
      "execution_count": null,
      "outputs": []
    },
    {
      "cell_type": "code",
      "metadata": {
        "id": "5mjNEKEqp0oB",
        "colab_type": "code",
        "colab": {}
      },
      "source": [
        "merged_inner.shape"
      ],
      "execution_count": null,
      "outputs": []
    },
    {
      "cell_type": "code",
      "metadata": {
        "id": "P2UlWQ1Op04Z",
        "colab_type": "code",
        "colab": {}
      },
      "source": [
        "mdf=mdf.drop(['cat', 'biz_count'], axis=1).copy()"
      ],
      "execution_count": null,
      "outputs": []
    },
    {
      "cell_type": "code",
      "metadata": {
        "id": "IjteCY_Uuo84",
        "colab_type": "code",
        "colab": {}
      },
      "source": [
        "mdf.sample()"
      ],
      "execution_count": null,
      "outputs": []
    },
    {
      "cell_type": "code",
      "metadata": {
        "id": "upPe55mqu15D",
        "colab_type": "code",
        "colab": {}
      },
      "source": [
        "mdf.shape\n",
        "mdf.dtypes"
      ],
      "execution_count": null,
      "outputs": []
    },
    {
      "cell_type": "code",
      "metadata": {
        "id": "Vo1Hg0YVxpJ3",
        "colab_type": "code",
        "colab": {}
      },
      "source": [
        "def to_csv(mdf, path):\n",
        "    # Prepend dtypes to the top of df\n",
        "    df2 = mdf.copy()\n",
        "    df2.loc[-1] = df2.dtypes\n",
        "    df2.index = df2.index + 1\n",
        "    df2.sort_index(inplace=True)\n",
        "    # Then save it to a csv\n",
        "    df2.to_csv('p_cat_clean.csv', index=0)\n",
        "    !cp p_cat_clean.csv \"drive/My Drive/\"\n",
        "    df2.to_csv(path, index=False)\n",
        "\n",
        "def read_csv(path):\n",
        "    # Read types first line of csv\n",
        "    path=\"/content/drive/My Drive/p_cat_clean.csv\"\n",
        "    dtypes = {key:value for (key,value) in pd.read_csv(path,    \n",
        "              nrows=1).iloc[0].to_dict().items() if 'date' not in value}\n",
        "\n",
        "    parse_dates = [key for (key,value) in pd.read_csv(path, \n",
        "                   nrows=1).iloc[0].to_dict().items() if 'date' in value]\n",
        "    # Read the rest of the lines with the types from above\n",
        "    return pd.read_csv(path, dtype=dtypes, parse_dates=parse_dates, skiprows=[1])"
      ],
      "execution_count": null,
      "outputs": []
    },
    {
      "cell_type": "code",
      "metadata": {
        "id": "pb-jwIdzf7O7",
        "colab_type": "code",
        "colab": {}
      },
      "source": [
        "# mdf.to_csv('p_cat_clean.csv', index=0)\n",
        "# !cp p_cat_clean.csv \"drive/My Drive/\""
      ],
      "execution_count": null,
      "outputs": []
    },
    {
      "cell_type": "code",
      "metadata": {
        "id": "hDg38D8FiiA8",
        "colab_type": "code",
        "colab": {}
      },
      "source": [
        ""
      ],
      "execution_count": null,
      "outputs": []
    },
    {
      "cell_type": "code",
      "metadata": {
        "id": "E_L54nwOygu5",
        "colab_type": "code",
        "colab": {}
      },
      "source": [
        ""
      ],
      "execution_count": null,
      "outputs": []
    },
    {
      "cell_type": "code",
      "metadata": {
        "id": "-jgkYEmVf7az",
        "colab_type": "code",
        "colab": {}
      },
      "source": [
        "# backup of clean dataframe, types will not be fully preserved so on import reassign, but easier with unconformity removed\n",
        "scdf = pd.read_csv(mpath, dtype={'Jobs Saved':int, 'NAICS Code': str, 'NAICS Category': str, }, parse_dates=[10] )\n",
        "scdf.sample()"
      ],
      "execution_count": null,
      "outputs": []
    },
    {
      "cell_type": "code",
      "metadata": {
        "id": "G4VjlYbXhyks",
        "colab_type": "code",
        "colab": {}
      },
      "source": [
        "scdf.dtypes"
      ],
      "execution_count": null,
      "outputs": []
    },
    {
      "cell_type": "code",
      "metadata": {
        "id": "ttJhQNIyBQfd",
        "colab_type": "code",
        "colab": {}
      },
      "source": [
        "#convert the strings to integers in jobs saved\n",
        "# df['Jobs Saved'] = pd.to_numeric(df['Jobs Saved'], errors=\"coerce\")\n",
        "# df['Jobs Saved'] = df['Jobs Saved'].astype(int)"
      ],
      "execution_count": null,
      "outputs": []
    },
    {
      "cell_type": "code",
      "metadata": {
        "id": "6yZonhhf7RT2",
        "colab_type": "code",
        "colab": {}
      },
      "source": [
        "# df.to_csv('clean_ppp.csv', index=0)\n",
        "# !cp clean_ppp.csv \"drive/My Drive/\"\n"
      ],
      "execution_count": null,
      "outputs": []
    }
  ]
}