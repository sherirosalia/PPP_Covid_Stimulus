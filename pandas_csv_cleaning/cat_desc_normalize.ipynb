{
  "nbformat": 4,
  "nbformat_minor": 0,
  "metadata": {
    "colab": {
      "name": "cat_desc_normalize.ipynb",
      "provenance": [],
      "collapsed_sections": [],
      "mount_file_id": "1fYklVWrga-L21DdH9-vW74u0elCmx1nr",
      "authorship_tag": "ABX9TyPnQBiM/rBdHxZ6gRMrlN2o"
    },
    "kernelspec": {
      "name": "python3",
      "display_name": "Python 3"
    },
    "accelerator": "GPU"
  },
  "cells": [
    {
      "cell_type": "markdown",
      "metadata": {
        "id": "2oVNvkNYPDV2",
        "colab_type": "text"
      },
      "source": [
        "This workbook cleans up the data in a CSV called people_ppp and appends NAICS code information to it. The results are stored in a CSV called: \"p_cat_clean.csv'\"\n",
        "\n",
        " "
      ]
    },
    {
      "cell_type": "code",
      "metadata": {
        "id": "8M-oPsMYPGnv",
        "colab_type": "code",
        "colab": {}
      },
      "source": [
        "#import dependencies\n",
        "import pandas as pd\n",
        "import numpy as np\n",
        "from datetime import date, datetime\n",
        "import os, sys \n",
        "import io\n",
        "import ee\n"
      ],
      "execution_count": null,
      "outputs": []
    },
    {
      "cell_type": "code",
      "metadata": {
        "id": "IF4fH4hDB5m8",
        "colab_type": "code",
        "colab": {}
      },
      "source": [
        "## set up pandas dataframe using set_options to warn when we are working on a copy instead of ooriginal dataframe\n",
        "pd.set_option('mode.chained_assignment','warn')"
      ],
      "execution_count": null,
      "outputs": []
    },
    {
      "cell_type": "code",
      "metadata": {
        "id": "pf2cFMugB_T9",
        "colab_type": "code",
        "colab": {}
      },
      "source": [
        "# dataframe will display without being truncated\n",
        "pd.set_option('display.max_rows', 150)\n",
        "pd.set_option('display.max_columns', 25)\n",
        "pd.set_option('display.width', 768)"
      ],
      "execution_count": null,
      "outputs": []
    },
    {
      "cell_type": "code",
      "metadata": {
        "id": "ii3flRP84Xa9",
        "colab_type": "code",
        "colab": {}
      },
      "source": [
        "# !pip install -U -q PyDrive"
      ],
      "execution_count": null,
      "outputs": []
    },
    {
      "cell_type": "code",
      "metadata": {
        "id": "ax45eZXtxQE2",
        "colab_type": "code",
        "colab": {}
      },
      "source": [
        "#mounting the google drive to access the files\n",
        "from google.colab import files\n",
        "from google.colab import drive\n",
        "drive.mount('/content/drive')"
      ],
      "execution_count": null,
      "outputs": []
    },
    {
      "cell_type": "code",
      "metadata": {
        "id": "3Siq-wB9d392",
        "colab_type": "code",
        "colab": {}
      },
      "source": [
        "# command shows file path\n",
        "# ! ls"
      ],
      "execution_count": null,
      "outputs": []
    },
    {
      "cell_type": "code",
      "metadata": {
        "id": "JwyQc3b9d4R-",
        "colab_type": "code",
        "colab": {}
      },
      "source": [
        "n_path = \"/content/drive/My Drive/data/naics-cat.csv\"\n",
        "nf_path = \"/content/drive/My Drive/data/2017-NAICS-Descriptions.csv\""
      ],
      "execution_count": null,
      "outputs": []
    },
    {
      "cell_type": "code",
      "metadata": {
        "id": "lJNe6tuIm-OL",
        "colab_type": "code",
        "colab": {}
      },
      "source": [
        "ndf = pd.read_csv( n_path, index_col=0, dtype={'cat':'string'}, na_values = ['<NA>', 'no information'], )\n",
        "ndf.sample()"
      ],
      "execution_count": null,
      "outputs": []
    },
    {
      "cell_type": "code",
      "metadata": {
        "id": "ZINBchEo6XCU",
        "colab_type": "code",
        "colab": {
          "base_uri": "https://localhost:8080/",
          "height": 33
        },
        "outputId": "daeafebe-c60d-4248-fae8-4673272336a9"
      },
      "source": [
        "# Read column names from file\n",
        "cols = list(pd.read_csv(nf_path, nrows =1))\n",
        "print(cols)"
      ],
      "execution_count": null,
      "outputs": [
        {
          "output_type": "stream",
          "text": [
            "['Code', 'Title', 'Description']\n"
          ],
          "name": "stdout"
        }
      ]
    },
    {
      "cell_type": "code",
      "metadata": {
        "id": "wZJ78CRZ6NtC",
        "colab_type": "code",
        "colab": {}
      },
      "source": [
        "# nf_df = pd.read_csv( nf_path, dtype={'Code':'string', 'Title':'string', 'Description':'string'}, na_values = ['<NA>', '.'], )\n",
        "# nf_df.sample()"
      ],
      "execution_count": null,
      "outputs": []
    },
    {
      "cell_type": "code",
      "metadata": {
        "id": "I5A1nCEhHmYZ",
        "colab_type": "code",
        "colab": {
          "base_uri": "https://localhost:8080/",
          "height": 76
        },
        "outputId": "9f28849e-eb5f-4f4a-f34a-9456c8215c80"
      },
      "source": [
        "nf_df = pd.read_csv( nf_path, dtype={'Code':'string',},)\n",
        "nf_df.sample()"
      ],
      "execution_count": null,
      "outputs": [
        {
          "output_type": "execute_result",
          "data": {
            "text/html": [
              "<div>\n",
              "<style scoped>\n",
              "    .dataframe tbody tr th:only-of-type {\n",
              "        vertical-align: middle;\n",
              "    }\n",
              "\n",
              "    .dataframe tbody tr th {\n",
              "        vertical-align: top;\n",
              "    }\n",
              "\n",
              "    .dataframe thead th {\n",
              "        text-align: right;\n",
              "    }\n",
              "</style>\n",
              "<table border=\"1\" class=\"dataframe\">\n",
              "  <thead>\n",
              "    <tr style=\"text-align: right;\">\n",
              "      <th></th>\n",
              "      <th>Code</th>\n",
              "      <th>Title</th>\n",
              "      <th>Description</th>\n",
              "    </tr>\n",
              "  </thead>\n",
              "  <tbody>\n",
              "    <tr>\n",
              "      <th>2102</th>\n",
              "      <td>813319</td>\n",
              "      <td>Other Social Advocacy Organizations</td>\n",
              "      <td>This U.S. industry comprises establishments pr...</td>\n",
              "    </tr>\n",
              "  </tbody>\n",
              "</table>\n",
              "</div>"
            ],
            "text/plain": [
              "        Code                                 Title                                        Description\n",
              "2102  813319  Other Social Advocacy Organizations   This U.S. industry comprises establishments pr..."
            ]
          },
          "metadata": {
            "tags": []
          },
          "execution_count": 196
        }
      ]
    },
    {
      "cell_type": "code",
      "metadata": {
        "id": "bF2icTkE_vfM",
        "colab_type": "code",
        "colab": {
          "base_uri": "https://localhost:8080/",
          "height": 1000
        },
        "outputId": "da63b59f-f86f-4066-8174-1c78aef3fb13"
      },
      "source": [
        "nf_df['Description'] = nf_df['Description'].fillna('No information')\n",
        "nf_df.sample(50)"
      ],
      "execution_count": null,
      "outputs": [
        {
          "output_type": "execute_result",
          "data": {
            "text/html": [
              "<div>\n",
              "<style scoped>\n",
              "    .dataframe tbody tr th:only-of-type {\n",
              "        vertical-align: middle;\n",
              "    }\n",
              "\n",
              "    .dataframe tbody tr th {\n",
              "        vertical-align: top;\n",
              "    }\n",
              "\n",
              "    .dataframe thead th {\n",
              "        text-align: right;\n",
              "    }\n",
              "</style>\n",
              "<table border=\"1\" class=\"dataframe\">\n",
              "  <thead>\n",
              "    <tr style=\"text-align: right;\">\n",
              "      <th></th>\n",
              "      <th>Code</th>\n",
              "      <th>Title</th>\n",
              "      <th>Description</th>\n",
              "    </tr>\n",
              "  </thead>\n",
              "  <tbody>\n",
              "    <tr>\n",
              "      <th>72</th>\n",
              "      <td>11233</td>\n",
              "      <td>Turkey ProductionT</td>\n",
              "      <td>See industry description for 112330.</td>\n",
              "    </tr>\n",
              "    <tr>\n",
              "      <th>1365</th>\n",
              "      <td>4885</td>\n",
              "      <td>Freight Transportation ArrangementT</td>\n",
              "      <td>No information</td>\n",
              "    </tr>\n",
              "    <tr>\n",
              "      <th>793</th>\n",
              "      <td>33461</td>\n",
              "      <td>Manufacturing and Reproducing Magnetic and Opt...</td>\n",
              "      <td>This industry comprises establishments primari...</td>\n",
              "    </tr>\n",
              "    <tr>\n",
              "      <th>1428</th>\n",
              "      <td>512250</td>\n",
              "      <td>Record Production and Distribution</td>\n",
              "      <td>This industry comprises establishments primari...</td>\n",
              "    </tr>\n",
              "    <tr>\n",
              "      <th>87</th>\n",
              "      <td>112519</td>\n",
              "      <td>Other Aquaculture</td>\n",
              "      <td>This U.S. industry comprises establishments pr...</td>\n",
              "    </tr>\n",
              "    <tr>\n",
              "      <th>1955</th>\n",
              "      <td>712</td>\n",
              "      <td>Museums, Historical Sites, and Similar Institu...</td>\n",
              "      <td>Industries in the Museums, Historical Sites, a...</td>\n",
              "    </tr>\n",
              "    <tr>\n",
              "      <th>419</th>\n",
              "      <td>3162</td>\n",
              "      <td>Footwear ManufacturingT</td>\n",
              "      <td>No information</td>\n",
              "    </tr>\n",
              "    <tr>\n",
              "      <th>489</th>\n",
              "      <td>3251</td>\n",
              "      <td>Basic Chemical ManufacturingT</td>\n",
              "      <td>This industry group comprises establishments p...</td>\n",
              "    </tr>\n",
              "    <tr>\n",
              "      <th>1949</th>\n",
              "      <td>7114</td>\n",
              "      <td>Agents and Managers for Artists, Athletes, Ent...</td>\n",
              "      <td>No information</td>\n",
              "    </tr>\n",
              "    <tr>\n",
              "      <th>594</th>\n",
              "      <td>32741</td>\n",
              "      <td>Lime ManufacturingT</td>\n",
              "      <td>See industry description for 327410.</td>\n",
              "    </tr>\n",
              "    <tr>\n",
              "      <th>447</th>\n",
              "      <td>321992</td>\n",
              "      <td>Prefabricated Wood Building Manufacturing</td>\n",
              "      <td>This U.S. industry comprises establishments pr...</td>\n",
              "    </tr>\n",
              "    <tr>\n",
              "      <th>275</th>\n",
              "      <td>23899</td>\n",
              "      <td>All Other Specialty Trade ContractorsT</td>\n",
              "      <td>See industry description for 238990.</td>\n",
              "    </tr>\n",
              "    <tr>\n",
              "      <th>322</th>\n",
              "      <td>311612</td>\n",
              "      <td>Meat Processed from Carcasses</td>\n",
              "      <td>This U.S. industry comprises establishments pr...</td>\n",
              "    </tr>\n",
              "    <tr>\n",
              "      <th>626</th>\n",
              "      <td>331420</td>\n",
              "      <td>Copper Rolling, Drawing, Extruding, and Alloying</td>\n",
              "      <td>This industry comprises establishments primari...</td>\n",
              "    </tr>\n",
              "    <tr>\n",
              "      <th>1994</th>\n",
              "      <td>72112</td>\n",
              "      <td>Casino HotelsT</td>\n",
              "      <td>See industry description for 721120.</td>\n",
              "    </tr>\n",
              "    <tr>\n",
              "      <th>1953</th>\n",
              "      <td>71151</td>\n",
              "      <td>Independent Artists, Writers, and PerformersT</td>\n",
              "      <td>See industry description for 711510.</td>\n",
              "    </tr>\n",
              "    <tr>\n",
              "      <th>1386</th>\n",
              "      <td>493110</td>\n",
              "      <td>General Warehousing and Storage</td>\n",
              "      <td>This industry comprises establishments primari...</td>\n",
              "    </tr>\n",
              "    <tr>\n",
              "      <th>637</th>\n",
              "      <td>331524</td>\n",
              "      <td>Aluminum Foundries (except Die-Casting)</td>\n",
              "      <td>This U.S. industry comprises establishments pr...</td>\n",
              "    </tr>\n",
              "    <tr>\n",
              "      <th>944</th>\n",
              "      <td>42332</td>\n",
              "      <td>Brick, Stone, and Related Construction Materia...</td>\n",
              "      <td>See industry description for 423320.</td>\n",
              "    </tr>\n",
              "    <tr>\n",
              "      <th>413</th>\n",
              "      <td>31599</td>\n",
              "      <td>Apparel Accessories and Other Apparel Manufact...</td>\n",
              "      <td>See industry description for 315990.</td>\n",
              "    </tr>\n",
              "    <tr>\n",
              "      <th>1491</th>\n",
              "      <td>522294</td>\n",
              "      <td>Secondary Market Financing</td>\n",
              "      <td>This U.S. industry comprises establishments pr...</td>\n",
              "    </tr>\n",
              "    <tr>\n",
              "      <th>586</th>\n",
              "      <td>32732</td>\n",
              "      <td>Ready-Mix Concrete ManufacturingT</td>\n",
              "      <td>See industry description for 327320.</td>\n",
              "    </tr>\n",
              "    <tr>\n",
              "      <th>735</th>\n",
              "      <td>333611</td>\n",
              "      <td>Turbine and Turbine Generator Set Units Manufa...</td>\n",
              "      <td>This U.S. industry comprises establishments pr...</td>\n",
              "    </tr>\n",
              "    <tr>\n",
              "      <th>748</th>\n",
              "      <td>33399</td>\n",
              "      <td>All Other General Purpose Machinery Manufactur...</td>\n",
              "      <td>This industry comprises establishments primari...</td>\n",
              "    </tr>\n",
              "    <tr>\n",
              "      <th>1155</th>\n",
              "      <td>4453</td>\n",
              "      <td>Beer, Wine, and Liquor Stores</td>\n",
              "      <td>No information</td>\n",
              "    </tr>\n",
              "    <tr>\n",
              "      <th>905</th>\n",
              "      <td>339115</td>\n",
              "      <td>Ophthalmic Goods Manufacturing</td>\n",
              "      <td>This U.S. industry comprises establishments pr...</td>\n",
              "    </tr>\n",
              "    <tr>\n",
              "      <th>1147</th>\n",
              "      <td>44522</td>\n",
              "      <td>Fish and Seafood Markets</td>\n",
              "      <td>See industry description for 445220.</td>\n",
              "    </tr>\n",
              "    <tr>\n",
              "      <th>563</th>\n",
              "      <td>32621</td>\n",
              "      <td>Tire ManufacturingT</td>\n",
              "      <td>This industry comprises establishments primari...</td>\n",
              "    </tr>\n",
              "    <tr>\n",
              "      <th>798</th>\n",
              "      <td>33511</td>\n",
              "      <td>Electric Lamp Bulb and Part ManufacturingT</td>\n",
              "      <td>See industry description for 335110.</td>\n",
              "    </tr>\n",
              "    <tr>\n",
              "      <th>406</th>\n",
              "      <td>31522</td>\n",
              "      <td>Men’s and Boys’ Cut and Sew Apparel Manufactur...</td>\n",
              "      <td>See industry description for 315220.</td>\n",
              "    </tr>\n",
              "    <tr>\n",
              "      <th>1628</th>\n",
              "      <td>54132</td>\n",
              "      <td>Landscape Architectural ServicesT</td>\n",
              "      <td>See industry description for 541320.</td>\n",
              "    </tr>\n",
              "    <tr>\n",
              "      <th>687</th>\n",
              "      <td>33291</td>\n",
              "      <td>Metal Valve ManufacturingT</td>\n",
              "      <td>This industry comprises establishments primari...</td>\n",
              "    </tr>\n",
              "    <tr>\n",
              "      <th>411</th>\n",
              "      <td>315280</td>\n",
              "      <td>Other Cut and Sew Apparel Manufacturing</td>\n",
              "      <td>This industry comprises establishments primari...</td>\n",
              "    </tr>\n",
              "    <tr>\n",
              "      <th>2064</th>\n",
              "      <td>812191</td>\n",
              "      <td>Diet and Weight Reducing Centers</td>\n",
              "      <td>This U.S. industry comprises establishments pr...</td>\n",
              "    </tr>\n",
              "    <tr>\n",
              "      <th>1149</th>\n",
              "      <td>44523</td>\n",
              "      <td>Fruit and Vegetable Markets</td>\n",
              "      <td>See industry description for 445230.</td>\n",
              "    </tr>\n",
              "    <tr>\n",
              "      <th>1506</th>\n",
              "      <td>52313</td>\n",
              "      <td>Commodity Contracts Dealing</td>\n",
              "      <td>See industry description for 523130.</td>\n",
              "    </tr>\n",
              "    <tr>\n",
              "      <th>883</th>\n",
              "      <td>337121</td>\n",
              "      <td>Upholstered Household Furniture Manufacturing</td>\n",
              "      <td>This U.S. industry comprises establishments pr...</td>\n",
              "    </tr>\n",
              "    <tr>\n",
              "      <th>369</th>\n",
              "      <td>31311</td>\n",
              "      <td>Fiber, Yarn, and Thread MillsT</td>\n",
              "      <td>See industry description for 313110.</td>\n",
              "    </tr>\n",
              "    <tr>\n",
              "      <th>869</th>\n",
              "      <td>3366</td>\n",
              "      <td>Ship and Boat BuildingT</td>\n",
              "      <td>No information</td>\n",
              "    </tr>\n",
              "    <tr>\n",
              "      <th>1457</th>\n",
              "      <td>519</td>\n",
              "      <td>Other Information ServicesT</td>\n",
              "      <td>Industries in the Other Information Services s...</td>\n",
              "    </tr>\n",
              "    <tr>\n",
              "      <th>608</th>\n",
              "      <td>33111</td>\n",
              "      <td>Iron and Steel Mills and Ferroalloy Manufactur...</td>\n",
              "      <td>See industry description for 331110.</td>\n",
              "    </tr>\n",
              "    <tr>\n",
              "      <th>635</th>\n",
              "      <td>33152</td>\n",
              "      <td>Nonferrous Metal FoundriesT</td>\n",
              "      <td>This industry comprises establishments primari...</td>\n",
              "    </tr>\n",
              "    <tr>\n",
              "      <th>1027</th>\n",
              "      <td>424330</td>\n",
              "      <td>Women's, Children's, and Infants' Clothing and...</td>\n",
              "      <td>This industry comprises establishments primari...</td>\n",
              "    </tr>\n",
              "    <tr>\n",
              "      <th>1295</th>\n",
              "      <td>4851</td>\n",
              "      <td>Urban Transit SystemsT</td>\n",
              "      <td>No information</td>\n",
              "    </tr>\n",
              "    <tr>\n",
              "      <th>1693</th>\n",
              "      <td>54191</td>\n",
              "      <td>Marketing Research and Public Opinion PollingT</td>\n",
              "      <td>See industry description for 541910.</td>\n",
              "    </tr>\n",
              "    <tr>\n",
              "      <th>1461</th>\n",
              "      <td>51912</td>\n",
              "      <td>Libraries and ArchivesT</td>\n",
              "      <td>See industry description for 519120.</td>\n",
              "    </tr>\n",
              "    <tr>\n",
              "      <th>716</th>\n",
              "      <td>3333</td>\n",
              "      <td>Commercial and Service Industry Machinery Manu...</td>\n",
              "      <td>No information</td>\n",
              "    </tr>\n",
              "    <tr>\n",
              "      <th>856</th>\n",
              "      <td>33639</td>\n",
              "      <td>Other Motor Vehicle Parts ManufacturingT</td>\n",
              "      <td>See industry description for 336390.</td>\n",
              "    </tr>\n",
              "    <tr>\n",
              "      <th>2178</th>\n",
              "      <td>92612</td>\n",
              "      <td>Regulation and Administration of Transportatio...</td>\n",
              "      <td>See industry description for 926120.</td>\n",
              "    </tr>\n",
              "    <tr>\n",
              "      <th>378</th>\n",
              "      <td>31324</td>\n",
              "      <td>Knit Fabric MillsT</td>\n",
              "      <td>See industry description for 313240.</td>\n",
              "    </tr>\n",
              "  </tbody>\n",
              "</table>\n",
              "</div>"
            ],
            "text/plain": [
              "        Code                                              Title                                        Description\n",
              "72     11233                                 Turkey ProductionT               See industry description for 112330.\n",
              "1365    4885               Freight Transportation ArrangementT                                      No information\n",
              "793    33461  Manufacturing and Reproducing Magnetic and Opt...  This industry comprises establishments primari...\n",
              "1428  512250                 Record Production and Distribution  This industry comprises establishments primari...\n",
              "87    112519                                 Other Aquaculture   This U.S. industry comprises establishments pr...\n",
              "1955     712  Museums, Historical Sites, and Similar Institu...  Industries in the Museums, Historical Sites, a...\n",
              "419     3162                           Footwear ManufacturingT                                      No information\n",
              "489     3251                     Basic Chemical ManufacturingT   This industry group comprises establishments p...\n",
              "1949    7114  Agents and Managers for Artists, Athletes, Ent...                                     No information\n",
              "594    32741                               Lime ManufacturingT                See industry description for 327410.\n",
              "447   321992         Prefabricated Wood Building Manufacturing   This U.S. industry comprises establishments pr...\n",
              "275    23899            All Other Specialty Trade ContractorsT                See industry description for 238990.\n",
              "322   311612                     Meat Processed from Carcasses   This U.S. industry comprises establishments pr...\n",
              "626   331420   Copper Rolling, Drawing, Extruding, and Alloying  This industry comprises establishments primari...\n",
              "1994   72112                                    Casino HotelsT                See industry description for 721120.\n",
              "1953   71151     Independent Artists, Writers, and PerformersT                See industry description for 711510.\n",
              "1386  493110                   General Warehousing and Storage   This industry comprises establishments primari...\n",
              "637   331524           Aluminum Foundries (except Die-Casting)   This U.S. industry comprises establishments pr...\n",
              "944    42332  Brick, Stone, and Related Construction Materia...               See industry description for 423320.\n",
              "413    31599  Apparel Accessories and Other Apparel Manufact...               See industry description for 315990.\n",
              "1491  522294                        Secondary Market Financing   This U.S. industry comprises establishments pr...\n",
              "586    32732                 Ready-Mix Concrete ManufacturingT                See industry description for 327320.\n",
              "735   333611  Turbine and Turbine Generator Set Units Manufa...  This U.S. industry comprises establishments pr...\n",
              "748    33399  All Other General Purpose Machinery Manufactur...  This industry comprises establishments primari...\n",
              "1155    4453                     Beer, Wine, and Liquor Stores                                      No information\n",
              "905   339115                    Ophthalmic Goods Manufacturing   This U.S. industry comprises establishments pr...\n",
              "1147   44522                          Fish and Seafood Markets                See industry description for 445220.\n",
              "563    32621                               Tire ManufacturingT   This industry comprises establishments primari...\n",
              "798    33511        Electric Lamp Bulb and Part ManufacturingT                See industry description for 335110.\n",
              "406    31522  Men’s and Boys’ Cut and Sew Apparel Manufactur...               See industry description for 315220.\n",
              "1628   54132                 Landscape Architectural ServicesT                See industry description for 541320.\n",
              "687    33291                        Metal Valve ManufacturingT   This industry comprises establishments primari...\n",
              "411   315280           Other Cut and Sew Apparel Manufacturing   This industry comprises establishments primari...\n",
              "2064  812191                  Diet and Weight Reducing Centers   This U.S. industry comprises establishments pr...\n",
              "1149   44523                       Fruit and Vegetable Markets                See industry description for 445230.\n",
              "1506   52313                       Commodity Contracts Dealing                See industry description for 523130.\n",
              "883   337121     Upholstered Household Furniture Manufacturing   This U.S. industry comprises establishments pr...\n",
              "369    31311                    Fiber, Yarn, and Thread MillsT                See industry description for 313110.\n",
              "869     3366                           Ship and Boat BuildingT                                      No information\n",
              "1457     519                       Other Information ServicesT   Industries in the Other Information Services s...\n",
              "608    33111  Iron and Steel Mills and Ferroalloy Manufactur...               See industry description for 331110.\n",
              "635    33152                       Nonferrous Metal FoundriesT   This industry comprises establishments primari...\n",
              "1027  424330  Women's, Children's, and Infants' Clothing and...  This industry comprises establishments primari...\n",
              "1295    4851                            Urban Transit SystemsT                                      No information\n",
              "1693   54191    Marketing Research and Public Opinion PollingT                See industry description for 541910.\n",
              "1461   51912                           Libraries and ArchivesT                See industry description for 519120.\n",
              "716     3333  Commercial and Service Industry Machinery Manu...                                     No information\n",
              "856    33639          Other Motor Vehicle Parts ManufacturingT                See industry description for 336390.\n",
              "2178   92612  Regulation and Administration of Transportatio...               See industry description for 926120.\n",
              "378    31324                                Knit Fabric MillsT                See industry description for 313240."
            ]
          },
          "metadata": {
            "tags": []
          },
          "execution_count": 197
        }
      ]
    },
    {
      "cell_type": "code",
      "metadata": {
        "id": "AGpzCu_Q8zNl",
        "colab_type": "code",
        "colab": {}
      },
      "source": [
        "# df[weird]\n",
        "for col in nf_df.columns:\n",
        "    weird = (nf_df[[col]].applymap(type) != nf_df[[col]].iloc[0].apply(type)).any(axis=1)\n",
        "    if len(nf_df[weird]) > 0:\n",
        "        print(col)\n"
      ],
      "execution_count": null,
      "outputs": []
    },
    {
      "cell_type": "code",
      "metadata": {
        "id": "096pXrJc7jXe",
        "colab_type": "code",
        "colab": {
          "base_uri": "https://localhost:8080/",
          "height": 82
        },
        "outputId": "01c12657-0d48-40f5-d439-36a3f43a4d13"
      },
      "source": [
        "nf_df.dtypes"
      ],
      "execution_count": null,
      "outputs": [
        {
          "output_type": "execute_result",
          "data": {
            "text/plain": [
              "Code           string\n",
              "Title          object\n",
              "Description    object\n",
              "dtype: object"
            ]
          },
          "metadata": {
            "tags": []
          },
          "execution_count": 199
        }
      ]
    },
    {
      "cell_type": "code",
      "metadata": {
        "id": "RxhFfrXX0jn0",
        "colab_type": "code",
        "colab": {}
      },
      "source": [
        "# filepath\n",
        "path = \"/content/drive/My Drive/people_ppp.csv\"\n",
        "\n",
        "\n"
      ],
      "execution_count": null,
      "outputs": []
    },
    {
      "cell_type": "code",
      "metadata": {
        "id": "fzgqiloKH0U6",
        "colab_type": "code",
        "colab": {}
      },
      "source": [
        "from functools import reduce\n",
        "\n"
      ],
      "execution_count": null,
      "outputs": []
    },
    {
      "cell_type": "code",
      "metadata": {
        "id": "0uMMKMWFIM4z",
        "colab_type": "code",
        "colab": {}
      },
      "source": [
        ""
      ],
      "execution_count": null,
      "outputs": []
    },
    {
      "cell_type": "markdown",
      "metadata": {
        "id": "Nt6pJSd6SX06",
        "colab_type": "text"
      },
      "source": [
        ""
      ]
    },
    {
      "cell_type": "code",
      "metadata": {
        "id": "tub77oA8j9IA",
        "colab_type": "code",
        "colab": {}
      },
      "source": [
        "#read the csv, create dataframe\n",
        "# df = pd.read_csv(path,)\n",
        "df = pd.read_csv( path, index_col=0, na_values = ['no info', '.'], )"
      ],
      "execution_count": null,
      "outputs": []
    },
    {
      "cell_type": "code",
      "metadata": {
        "id": "JsVOCzGV78wS",
        "colab_type": "code",
        "colab": {}
      },
      "source": [
        ""
      ],
      "execution_count": null,
      "outputs": []
    },
    {
      "cell_type": "code",
      "metadata": {
        "id": "NpIa3AwLarWJ",
        "colab_type": "code",
        "colab": {}
      },
      "source": [
        "df.shape"
      ],
      "execution_count": null,
      "outputs": []
    },
    {
      "cell_type": "code",
      "metadata": {
        "id": "hv1dF_OPY-Cz",
        "colab_type": "code",
        "colab": {}
      },
      "source": [
        "# df[weird]\n",
        "for col in df.columns:\n",
        "    weird = (df[[col]].applymap(type) != df[[col]].iloc[0].apply(type)).any(axis=1)\n",
        "    if len(df[weird]) > 0:\n",
        "        print(col)"
      ],
      "execution_count": null,
      "outputs": []
    },
    {
      "cell_type": "code",
      "metadata": {
        "id": "1Pl-sTXoao04",
        "colab_type": "code",
        "colab": {}
      },
      "source": [
        ""
      ],
      "execution_count": null,
      "outputs": []
    },
    {
      "cell_type": "code",
      "metadata": {
        "id": "agd1eVzgMcv1",
        "colab_type": "code",
        "colab": {}
      },
      "source": [
        "df.sample()"
      ],
      "execution_count": null,
      "outputs": []
    },
    {
      "cell_type": "code",
      "metadata": {
        "id": "MTaIOheV8Fz-",
        "colab_type": "code",
        "colab": {}
      },
      "source": [
        "df.loc[:,'NAICS Code'] = df.loc[:, 'NAICS Code'].astype(str)"
      ],
      "execution_count": null,
      "outputs": []
    },
    {
      "cell_type": "code",
      "metadata": {
        "id": "CDfRLAtoZEir",
        "colab_type": "code",
        "colab": {}
      },
      "source": [
        "df.loc[:,'Zip'] = df.loc[:, 'Zip'].astype(str)"
      ],
      "execution_count": null,
      "outputs": []
    },
    {
      "cell_type": "code",
      "metadata": {
        "id": "B_fFPyJpVTBq",
        "colab_type": "code",
        "colab": {}
      },
      "source": [
        "df.loc[:,'Jobs Saved'] = df.loc[:, 'Jobs Saved'].astype(int)"
      ],
      "execution_count": null,
      "outputs": []
    },
    {
      "cell_type": "code",
      "metadata": {
        "id": "tygTrFLiXInw",
        "colab_type": "code",
        "colab": {}
      },
      "source": [
        "#somewhat forcing the date conversion because there must be some values that are not in date format \n",
        "df.loc[:,'Date'] =  pd.to_datetime(df.loc[:,'Date'], errors='coerce', )"
      ],
      "execution_count": null,
      "outputs": []
    },
    {
      "cell_type": "code",
      "metadata": {
        "id": "SJp2zU1K0-FI",
        "colab_type": "code",
        "colab": {}
      },
      "source": [
        "df.dtypes"
      ],
      "execution_count": null,
      "outputs": []
    },
    {
      "cell_type": "code",
      "metadata": {
        "id": "XjQZj90rW4aJ",
        "colab_type": "code",
        "colab": {}
      },
      "source": [
        "#check for nulls\n",
        "# print(df.isna().sum())"
      ],
      "execution_count": null,
      "outputs": []
    },
    {
      "cell_type": "code",
      "metadata": {
        "id": "oyjzbtIqaX9v",
        "colab_type": "code",
        "colab": {}
      },
      "source": [
        "df.dropna(inplace=True)\n",
        "df.sample()"
      ],
      "execution_count": null,
      "outputs": []
    },
    {
      "cell_type": "code",
      "metadata": {
        "id": "RkRXIlctbsiY",
        "colab_type": "code",
        "colab": {}
      },
      "source": [
        "# print(df.isna().sum())"
      ],
      "execution_count": null,
      "outputs": []
    },
    {
      "cell_type": "code",
      "metadata": {
        "id": "MCsTn80NW4od",
        "colab_type": "code",
        "colab": {}
      },
      "source": [
        "\n",
        "for col in df.columns:\n",
        "    weird = (df[[col]].applymap(type) != df[[col]].iloc[0].apply(type)).any(axis=1)\n",
        "    if len(df[weird]) > 0:\n",
        "        print(col)"
      ],
      "execution_count": null,
      "outputs": []
    },
    {
      "cell_type": "code",
      "metadata": {
        "id": "8Yzwzh4uW5BY",
        "colab_type": "code",
        "colab": {}
      },
      "source": [
        "# weird = (df.applymap(type) != df.iloc[0].apply(type)).any(axis=1)\n",
        "# df[weird]"
      ],
      "execution_count": null,
      "outputs": []
    },
    {
      "cell_type": "code",
      "metadata": {
        "id": "dkvMTBs_1HGo",
        "colab_type": "code",
        "colab": {}
      },
      "source": [
        "# #check for nulls\n",
        "# print(df.isna().sum())\n"
      ],
      "execution_count": null,
      "outputs": []
    },
    {
      "cell_type": "code",
      "metadata": {
        "id": "HJVbd_TzOaCm",
        "colab_type": "code",
        "colab": {}
      },
      "source": [
        "#verified\n",
        "df.shape"
      ],
      "execution_count": null,
      "outputs": []
    },
    {
      "cell_type": "code",
      "metadata": {
        "id": "R9fLan4eN80K",
        "colab_type": "code",
        "colab": {}
      },
      "source": [
        "#take the first two letters of the NAICS code column and create category column. \n",
        "#category column can be matched to named values. The longer code was impractical\n",
        "df['NAICS Category'] = df['NAICS Code'].str[:2].astype(str)\n",
        "df.info()"
      ],
      "execution_count": null,
      "outputs": []
    },
    {
      "cell_type": "code",
      "metadata": {
        "id": "hhE1td1sB-KN",
        "colab_type": "code",
        "colab": {}
      },
      "source": [
        "#create new column for NAICS code description\n",
        "#take the first two letters of the NAICS code column and create category column. \n",
        "#category column can be matched to named values. The longer code was impractical\n",
        "# df['NAICS Code Description'] = df['NAICS Code'].astype(str)\n",
        "# df.info()"
      ],
      "execution_count": null,
      "outputs": []
    },
    {
      "cell_type": "code",
      "metadata": {
        "id": "mZ802ti2rAvR",
        "colab_type": "code",
        "colab": {}
      },
      "source": [
        "# df.sample()"
      ],
      "execution_count": null,
      "outputs": []
    },
    {
      "cell_type": "code",
      "metadata": {
        "id": "Is9jnIOCHvCu",
        "colab_type": "code",
        "colab": {}
      },
      "source": [
        "banks=df.loc[:,'Bank'].value_counts()"
      ],
      "execution_count": null,
      "outputs": []
    },
    {
      "cell_type": "code",
      "metadata": {
        "id": "zieverq-Hu9U",
        "colab_type": "code",
        "colab": {}
      },
      "source": [
        "banks.sample()"
      ],
      "execution_count": null,
      "outputs": []
    },
    {
      "cell_type": "code",
      "metadata": {
        "id": "1uan44JyJJKN",
        "colab_type": "code",
        "colab": {}
      },
      "source": [
        "# df['Bank'].where(df['Bank'].apply(lambda x:(x.value_counts()))>=500, \"other\")"
      ],
      "execution_count": null,
      "outputs": []
    },
    {
      "cell_type": "code",
      "metadata": {
        "id": "SdxH6WIwJJDG",
        "colab_type": "code",
        "colab": {}
      },
      "source": [
        "# cond = df['Bank'].value_counts()\n",
        "# threshold = 500\n",
        "# df['Bank'] = np.where(df['Bank'].isin(cond.index[cond >= threshold ]), df['Bank'], 'miscellaneous')"
      ],
      "execution_count": null,
      "outputs": []
    },
    {
      "cell_type": "code",
      "metadata": {
        "id": "ES6YUvUEJI8d",
        "colab_type": "code",
        "colab": {}
      },
      "source": [
        "# df['Bank'].value_counts()"
      ],
      "execution_count": null,
      "outputs": []
    },
    {
      "cell_type": "code",
      "metadata": {
        "id": "HKIG7qEoJIlg",
        "colab_type": "code",
        "colab": {}
      },
      "source": [
        "# df['Bank'] = df[df['Bank'] != '05/21/2020 ']"
      ],
      "execution_count": null,
      "outputs": []
    },
    {
      "cell_type": "code",
      "metadata": {
        "id": "YSQky0QYrlLT",
        "colab_type": "code",
        "colab": {}
      },
      "source": [
        "# df.sample()"
      ],
      "execution_count": null,
      "outputs": []
    },
    {
      "cell_type": "code",
      "metadata": {
        "id": "FPg7zN4COVM_",
        "colab_type": "code",
        "colab": {}
      },
      "source": [
        "df['Bank']=df['Bank'].str.lstrip('\\t')\n",
        "# df['Bank'] = df[df['Bank'] != '05/21/2020 ']"
      ],
      "execution_count": null,
      "outputs": []
    },
    {
      "cell_type": "code",
      "metadata": {
        "id": "aGk9Az-Trwp3",
        "colab_type": "code",
        "colab": {}
      },
      "source": [
        "df.sample()"
      ],
      "execution_count": null,
      "outputs": []
    },
    {
      "cell_type": "code",
      "metadata": {
        "id": "M6e6RcjolkO1",
        "colab_type": "code",
        "colab": {}
      },
      "source": [
        "df.sample(3)"
      ],
      "execution_count": null,
      "outputs": []
    },
    {
      "cell_type": "code",
      "metadata": {
        "id": "l1oiN-9RlLOI",
        "colab_type": "code",
        "colab": {}
      },
      "source": [
        "# df= df.groupby('NAICS Category').filter(lambda x: len(x) >= 5)\n"
      ],
      "execution_count": null,
      "outputs": []
    },
    {
      "cell_type": "markdown",
      "metadata": {
        "id": "ICnqzLtBI1Xs",
        "colab_type": "text"
      },
      "source": [
        ""
      ]
    },
    {
      "cell_type": "code",
      "metadata": {
        "id": "YIQCEhNfuqpy",
        "colab_type": "code",
        "colab": {}
      },
      "source": [
        "# df.dropna(inplace=True)\n",
        "df.head(1)"
      ],
      "execution_count": null,
      "outputs": []
    },
    {
      "cell_type": "code",
      "metadata": {
        "id": "37Bb9Yotuq3y",
        "colab_type": "code",
        "colab": {}
      },
      "source": [
        "df.shape"
      ],
      "execution_count": null,
      "outputs": []
    },
    {
      "cell_type": "code",
      "metadata": {
        "id": "FHJE-n-mlLa7",
        "colab_type": "code",
        "colab": {}
      },
      "source": [
        "# join n_path and df make merged df\n",
        "df = pd.merge(left=df, right=ndf, left_on='NAICS Category', right_on='cat')\n",
        "df.sample(12)\n",
        "\n",
        "\n",
        "\n",
        "\n",
        "\n"
      ],
      "execution_count": null,
      "outputs": []
    },
    {
      "cell_type": "code",
      "metadata": {
        "id": "5mjNEKEqp0oB",
        "colab_type": "code",
        "colab": {}
      },
      "source": [
        "nf_df.sample()\n"
      ],
      "execution_count": null,
      "outputs": []
    },
    {
      "cell_type": "code",
      "metadata": {
        "id": "9KY0MvouKBjH",
        "colab_type": "code",
        "colab": {
          "base_uri": "https://localhost:8080/",
          "height": 76
        },
        "outputId": "6724069e-7d1c-4055-b8d8-8fe9f51bebd3"
      },
      "source": [
        "nf_df.rename(columns={'Code': 'NAICS Code',}, inplace=True)\n",
        "nf_df.sample()"
      ],
      "execution_count": null,
      "outputs": [
        {
          "output_type": "execute_result",
          "data": {
            "text/html": [
              "<div>\n",
              "<style scoped>\n",
              "    .dataframe tbody tr th:only-of-type {\n",
              "        vertical-align: middle;\n",
              "    }\n",
              "\n",
              "    .dataframe tbody tr th {\n",
              "        vertical-align: top;\n",
              "    }\n",
              "\n",
              "    .dataframe thead th {\n",
              "        text-align: right;\n",
              "    }\n",
              "</style>\n",
              "<table border=\"1\" class=\"dataframe\">\n",
              "  <thead>\n",
              "    <tr style=\"text-align: right;\">\n",
              "      <th></th>\n",
              "      <th>NAICS Code</th>\n",
              "      <th>Title</th>\n",
              "      <th>Description</th>\n",
              "    </tr>\n",
              "  </thead>\n",
              "  <tbody>\n",
              "    <tr>\n",
              "      <th>773</th>\n",
              "      <td>3344</td>\n",
              "      <td>Semiconductor and Other Electronic Component M...</td>\n",
              "      <td>No information</td>\n",
              "    </tr>\n",
              "  </tbody>\n",
              "</table>\n",
              "</div>"
            ],
            "text/plain": [
              "    NAICS Code                                              Title     Description\n",
              "773       3344  Semiconductor and Other Electronic Component M...  No information"
            ]
          },
          "metadata": {
            "tags": []
          },
          "execution_count": 236
        }
      ]
    },
    {
      "cell_type": "code",
      "metadata": {
        "id": "t-bdvApZKGjH",
        "colab_type": "code",
        "colab": {}
      },
      "source": [
        "mdf=reduce(lambda x,y: pd.merge(x,y, on='NAICS Code', how='outer'), [df,  nf_df])\n"
      ],
      "execution_count": null,
      "outputs": []
    },
    {
      "cell_type": "code",
      "metadata": {
        "id": "CN3xfQkXF3DG",
        "colab_type": "code",
        "colab": {
          "base_uri": "https://localhost:8080/",
          "height": 145
        },
        "outputId": "6fae9941-0494-46fb-9575-8eb9e7ec9ea2"
      },
      "source": [
        "mdf.sample()\n"
      ],
      "execution_count": null,
      "outputs": [
        {
          "output_type": "execute_result",
          "data": {
            "text/html": [
              "<div>\n",
              "<style scoped>\n",
              "    .dataframe tbody tr th:only-of-type {\n",
              "        vertical-align: middle;\n",
              "    }\n",
              "\n",
              "    .dataframe tbody tr th {\n",
              "        vertical-align: top;\n",
              "    }\n",
              "\n",
              "    .dataframe thead th {\n",
              "        text-align: right;\n",
              "    }\n",
              "</style>\n",
              "<table border=\"1\" class=\"dataframe\">\n",
              "  <thead>\n",
              "    <tr style=\"text-align: right;\">\n",
              "      <th></th>\n",
              "      <th>Loan Amount</th>\n",
              "      <th>City</th>\n",
              "      <th>State</th>\n",
              "      <th>Zip</th>\n",
              "      <th>NAICS Code</th>\n",
              "      <th>Business Type</th>\n",
              "      <th>Race</th>\n",
              "      <th>Gender</th>\n",
              "      <th>Veteran</th>\n",
              "      <th>Jobs Saved</th>\n",
              "      <th>Date</th>\n",
              "      <th>Bank</th>\n",
              "      <th>NAICS_cat</th>\n",
              "      <th>NAICS Category</th>\n",
              "      <th>cat</th>\n",
              "      <th>description</th>\n",
              "      <th>biz_count</th>\n",
              "      <th>Title</th>\n",
              "      <th>Description</th>\n",
              "    </tr>\n",
              "  </thead>\n",
              "  <tbody>\n",
              "    <tr>\n",
              "      <th>104171</th>\n",
              "      <td>54736.05</td>\n",
              "      <td>FOREST HILLS</td>\n",
              "      <td>NY</td>\n",
              "      <td>11375</td>\n",
              "      <td>62132</td>\n",
              "      <td>Subchapter S Corporation</td>\n",
              "      <td>White</td>\n",
              "      <td>Male Owned</td>\n",
              "      <td>Non-Veteran</td>\n",
              "      <td>13.0</td>\n",
              "      <td>2020-04-27</td>\n",
              "      <td>Savoy Bank</td>\n",
              "      <td>62.0</td>\n",
              "      <td>62</td>\n",
              "      <td>62</td>\n",
              "      <td>Health Care and Social Assistance</td>\n",
              "      <td>1745915.0</td>\n",
              "      <td>Offices of OptometristsT</td>\n",
              "      <td>See industry description for 621320.</td>\n",
              "    </tr>\n",
              "  </tbody>\n",
              "</table>\n",
              "</div>"
            ],
            "text/plain": [
              "        Loan Amount          City State    Zip NAICS Code             Business Type   Race      Gender      Veteran  Jobs Saved       Date        Bank  NAICS_cat NAICS Category cat                        description  biz_count                      Title                           Description\n",
              "104171     54736.05  FOREST HILLS    NY  11375      62132  Subchapter S Corporation  White  Male Owned  Non-Veteran        13.0 2020-04-27  Savoy Bank       62.0             62  62  Health Care and Social Assistance  1745915.0  Offices of OptometristsT   See industry description for 621320."
            ]
          },
          "metadata": {
            "tags": []
          },
          "execution_count": 238
        }
      ]
    },
    {
      "cell_type": "code",
      "metadata": {
        "id": "P2UlWQ1Op04Z",
        "colab_type": "code",
        "colab": {}
      },
      "source": [
        "mdf=mdf.drop(['cat', 'biz_count', 'NAICS_cat', 'Description'], axis=1).copy()"
      ],
      "execution_count": null,
      "outputs": []
    },
    {
      "cell_type": "code",
      "metadata": {
        "id": "IjteCY_Uuo84",
        "colab_type": "code",
        "colab": {}
      },
      "source": [
        "mdf.sample()"
      ],
      "execution_count": null,
      "outputs": []
    },
    {
      "cell_type": "code",
      "metadata": {
        "id": "upPe55mqu15D",
        "colab_type": "code",
        "colab": {}
      },
      "source": [
        "mdf.shape\n",
        "mdf.dtypes"
      ],
      "execution_count": null,
      "outputs": []
    },
    {
      "cell_type": "code",
      "metadata": {
        "id": "Vo1Hg0YVxpJ3",
        "colab_type": "code",
        "colab": {}
      },
      "source": [
        "print(mdf.isna().sum())"
      ],
      "execution_count": null,
      "outputs": []
    },
    {
      "cell_type": "code",
      "metadata": {
        "id": "borNtTaOMjgG",
        "colab_type": "code",
        "colab": {
          "base_uri": "https://localhost:8080/",
          "height": 277
        },
        "outputId": "2e33de89-5d69-4c83-837f-5e963faa67a3"
      },
      "source": [
        "mdf.dropna(inplace=True)\n",
        "print(mdf.isna().sum())"
      ],
      "execution_count": null,
      "outputs": [
        {
          "output_type": "stream",
          "text": [
            "Loan Amount       0\n",
            "City              0\n",
            "State             0\n",
            "Zip               0\n",
            "NAICS Code        0\n",
            "Business Type     0\n",
            "Race              0\n",
            "Gender            0\n",
            "Veteran           0\n",
            "Jobs Saved        0\n",
            "Date              0\n",
            "Bank              0\n",
            "NAICS Category    0\n",
            "description       0\n",
            "Title             0\n",
            "dtype: int64\n"
          ],
          "name": "stdout"
        }
      ]
    },
    {
      "cell_type": "code",
      "metadata": {
        "id": "dcS8f8sBMtdz",
        "colab_type": "code",
        "colab": {
          "base_uri": "https://localhost:8080/",
          "height": 177
        },
        "outputId": "26b19a28-acb5-41e1-8ef4-c42704550f14"
      },
      "source": [
        "mdf.sample()\n"
      ],
      "execution_count": null,
      "outputs": [
        {
          "output_type": "execute_result",
          "data": {
            "text/html": [
              "<div>\n",
              "<style scoped>\n",
              "    .dataframe tbody tr th:only-of-type {\n",
              "        vertical-align: middle;\n",
              "    }\n",
              "\n",
              "    .dataframe tbody tr th {\n",
              "        vertical-align: top;\n",
              "    }\n",
              "\n",
              "    .dataframe thead th {\n",
              "        text-align: right;\n",
              "    }\n",
              "</style>\n",
              "<table border=\"1\" class=\"dataframe\">\n",
              "  <thead>\n",
              "    <tr style=\"text-align: right;\">\n",
              "      <th></th>\n",
              "      <th>Loan Amount</th>\n",
              "      <th>City</th>\n",
              "      <th>State</th>\n",
              "      <th>Zip</th>\n",
              "      <th>NAICS Code</th>\n",
              "      <th>Business Type</th>\n",
              "      <th>Race</th>\n",
              "      <th>Gender</th>\n",
              "      <th>Veteran</th>\n",
              "      <th>Jobs Saved</th>\n",
              "      <th>Date</th>\n",
              "      <th>Bank</th>\n",
              "      <th>NAICS Category</th>\n",
              "      <th>description</th>\n",
              "      <th>Title</th>\n",
              "    </tr>\n",
              "  </thead>\n",
              "  <tbody>\n",
              "    <tr>\n",
              "      <th>73511</th>\n",
              "      <td>77760.0</td>\n",
              "      <td>NEWPORT BEACH</td>\n",
              "      <td>CA</td>\n",
              "      <td>92660</td>\n",
              "      <td>56111</td>\n",
              "      <td>Corporation</td>\n",
              "      <td>White</td>\n",
              "      <td>Female Owned</td>\n",
              "      <td>Non-Veteran</td>\n",
              "      <td>3.0</td>\n",
              "      <td>2020-04-10</td>\n",
              "      <td>Golden Valley Bank</td>\n",
              "      <td>56</td>\n",
              "      <td>Waste Management and Remediation Services</td>\n",
              "      <td>Office Administrative ServicesT</td>\n",
              "    </tr>\n",
              "  </tbody>\n",
              "</table>\n",
              "</div>"
            ],
            "text/plain": [
              "       Loan Amount           City State    Zip NAICS Code Business Type   Race        Gender      Veteran  Jobs Saved       Date                Bank NAICS Category                                description                             Title\n",
              "73511      77760.0  NEWPORT BEACH    CA  92660      56111   Corporation  White  Female Owned  Non-Veteran         3.0 2020-04-10  Golden Valley Bank             56  Waste Management and Remediation Services  Office Administrative ServicesT "
            ]
          },
          "metadata": {
            "tags": []
          },
          "execution_count": 244
        }
      ]
    },
    {
      "cell_type": "code",
      "metadata": {
        "id": "_Pn57O5OM0K2",
        "colab_type": "code",
        "colab": {
          "base_uri": "https://localhost:8080/",
          "height": 33
        },
        "outputId": "2b291d82-4865-4a7d-f6f1-7fafa7fe8858"
      },
      "source": [
        "mdf.shape"
      ],
      "execution_count": null,
      "outputs": [
        {
          "output_type": "execute_result",
          "data": {
            "text/plain": [
              "(243964, 15)"
            ]
          },
          "metadata": {
            "tags": []
          },
          "execution_count": 245
        }
      ]
    },
    {
      "cell_type": "code",
      "metadata": {
        "id": "pb-jwIdzf7O7",
        "colab_type": "code",
        "colab": {}
      },
      "source": [
        "mdf.to_csv('p_cat_clean.csv', index=0)\n",
        "!cp p_cat_clean.csv \"drive/My Drive/\""
      ],
      "execution_count": null,
      "outputs": []
    },
    {
      "cell_type": "code",
      "metadata": {
        "id": "9WTxXYKINOpV",
        "colab_type": "code",
        "colab": {}
      },
      "source": [
        ""
      ],
      "execution_count": null,
      "outputs": []
    },
    {
      "cell_type": "code",
      "metadata": {
        "id": "oNGW8blCNxMq",
        "colab_type": "code",
        "colab": {}
      },
      "source": [
        "def to_csv(mdf, path):\n",
        "    # Prepend dtypes to the top of df\n",
        "    df2 = mdf.copy()\n",
        "    df2.loc[-1] = df2.dtypes\n",
        "    df2.index = df2.index + 1\n",
        "    df2.sort_index(inplace=True)\n",
        "    # Then save it to a csv\n",
        "    df2.to_csv('p_cat_clean.csv', index=0)\n",
        "    !cp p_cat_clean.csv \"drive/My Drive/\"\n",
        "    df2.to_csv(path, index=False)\n",
        "\n",
        "def read_csv(path):\n",
        "    # Read types first line of csv\n",
        "    path=\"/content/drive/My Drive/p_cat_clean.csv\"\n",
        "    dtypes = {key:value for (key,value) in pd.read_csv(path,    \n",
        "              nrows=1).iloc[0].to_dict().items() if 'date' not in value}\n",
        "\n",
        "    parse_dates = [key for (key,value) in pd.read_csv(path, \n",
        "                   nrows=1).iloc[0].to_dict().items() if 'date' in value]\n",
        "    # Read the rest of the lines with the types from above\n",
        "    return pd.read_csv(path, dtype=dtypes, parse_dates=parse_dates, skiprows=[1])"
      ],
      "execution_count": null,
      "outputs": []
    },
    {
      "cell_type": "code",
      "metadata": {
        "id": "-jgkYEmVf7az",
        "colab_type": "code",
        "colab": {}
      },
      "source": [
        "# backup of clean dataframe, types will not be fully preserved so on import reassign, but easier with unconformity removed\n",
        "path=\"/content/drive/My Drive/p_cat_clean.csv\"\n",
        "scdf = pd.read_csv(path,  dtype={'NAICS Category': str, 'NAICS Code Description':str,})\n",
        "scdf.sample()"
      ],
      "execution_count": null,
      "outputs": []
    },
    {
      "cell_type": "code",
      "metadata": {
        "id": "G4VjlYbXhyks",
        "colab_type": "code",
        "colab": {}
      },
      "source": [
        "scdf.dtypes"
      ],
      "execution_count": null,
      "outputs": []
    },
    {
      "cell_type": "code",
      "metadata": {
        "id": "ttJhQNIyBQfd",
        "colab_type": "code",
        "colab": {}
      },
      "source": [
        "scdf.shape"
      ],
      "execution_count": null,
      "outputs": []
    },
    {
      "cell_type": "code",
      "metadata": {
        "id": "6yZonhhf7RT2",
        "colab_type": "code",
        "colab": {}
      },
      "source": [
        "#\n"
      ],
      "execution_count": null,
      "outputs": []
    }
  ]
}