{
  "nbformat": 4,
  "nbformat_minor": 0,
  "metadata": {
    "colab": {
      "name": "clean_ppp3.ipynb",
      "provenance": [],
      "collapsed_sections": [],
      "mount_file_id": "1QhORnS6hfpmJPuMxe1IjC_VK0S7XJCcr",
      "authorship_tag": "ABX9TyMkyVYeuewnxA6FZopPrLHc"
    },
    "kernelspec": {
      "name": "python3",
      "display_name": "Python 3"
    },
    "accelerator": "GPU"
  },
  "cells": [
    {
      "cell_type": "markdown",
      "metadata": {
        "id": "2oVNvkNYPDV2",
        "colab_type": "text"
      },
      "source": [
        "Final general cleanup of loans under 150k from all states and US territories "
      ]
    },
    {
      "cell_type": "code",
      "metadata": {
        "id": "8M-oPsMYPGnv",
        "colab_type": "code",
        "colab": {}
      },
      "source": [
        "#import dependencies\n",
        "import pandas as pd\n",
        "import numpy as np\n",
        "from datetime import date, datetime\n",
        "import os, sys \n",
        "import io\n",
        "import ee\n"
      ],
      "execution_count": 219,
      "outputs": []
    },
    {
      "cell_type": "code",
      "metadata": {
        "id": "IF4fH4hDB5m8",
        "colab_type": "code",
        "colab": {}
      },
      "source": [
        "## set up pandas dataframe using set_options to warn when we are working on a copy instead of ooriginal dataframe\n",
        "pd.set_option('mode.chained_assignment','warn')"
      ],
      "execution_count": 220,
      "outputs": []
    },
    {
      "cell_type": "code",
      "metadata": {
        "id": "pf2cFMugB_T9",
        "colab_type": "code",
        "colab": {}
      },
      "source": [
        "# dataframe will display without being truncated\n",
        "pd.set_option('display.max_rows', 150)\n",
        "pd.set_option('display.max_columns', 25)\n",
        "pd.set_option('display.width', 1000)"
      ],
      "execution_count": 221,
      "outputs": []
    },
    {
      "cell_type": "code",
      "metadata": {
        "id": "ii3flRP84Xa9",
        "colab_type": "code",
        "colab": {}
      },
      "source": [
        "# !pip install -U -q PyDrive"
      ],
      "execution_count": 222,
      "outputs": []
    },
    {
      "cell_type": "code",
      "metadata": {
        "id": "ax45eZXtxQE2",
        "colab_type": "code",
        "colab": {
          "base_uri": "https://localhost:8080/",
          "height": 54
        },
        "outputId": "621675ac-cad4-49b3-c377-35fcda9b431d"
      },
      "source": [
        "#mounting the google drive to access the files\n",
        "from google.colab import drive\n",
        "drive.mount('/content/drive')"
      ],
      "execution_count": 223,
      "outputs": [
        {
          "output_type": "stream",
          "text": [
            "Drive already mounted at /content/drive; to attempt to forcibly remount, call drive.mount(\"/content/drive\", force_remount=True).\n"
          ],
          "name": "stdout"
        }
      ]
    },
    {
      "cell_type": "code",
      "metadata": {
        "id": "3Siq-wB9d392",
        "colab_type": "code",
        "colab": {}
      },
      "source": [
        "# command shows file path\n",
        "# ! ls"
      ],
      "execution_count": 224,
      "outputs": []
    },
    {
      "cell_type": "code",
      "metadata": {
        "id": "JwyQc3b9d4R-",
        "colab_type": "code",
        "colab": {}
      },
      "source": [
        "from google.colab import files"
      ],
      "execution_count": 225,
      "outputs": []
    },
    {
      "cell_type": "code",
      "metadata": {
        "id": "RxhFfrXX0jn0",
        "colab_type": "code",
        "colab": {}
      },
      "source": [
        "# filepath\n",
        "path = \"/content/drive/My Drive/data/quasi2.csv\"\n",
        "\n",
        "\n"
      ],
      "execution_count": 226,
      "outputs": []
    },
    {
      "cell_type": "markdown",
      "metadata": {
        "id": "Nt6pJSd6SX06",
        "colab_type": "text"
      },
      "source": [
        ""
      ]
    },
    {
      "cell_type": "code",
      "metadata": {
        "id": "tub77oA8j9IA",
        "colab_type": "code",
        "colab": {
          "base_uri": "https://localhost:8080/",
          "height": 72
        },
        "outputId": "5d157b47-d1c6-40ba-d486-74d345b3bc82"
      },
      "source": [
        "#read the csv, create dataframe\n",
        "df = pd.read_csv(path,)\n"
      ],
      "execution_count": 227,
      "outputs": [
        {
          "output_type": "stream",
          "text": [
            "/usr/local/lib/python3.6/dist-packages/IPython/core/interactiveshell.py:2718: DtypeWarning: Columns (10) have mixed types.Specify dtype option on import or set low_memory=False.\n",
            "  interactivity=interactivity, compiler=compiler, result=result)\n"
          ],
          "name": "stderr"
        }
      ]
    },
    {
      "cell_type": "code",
      "metadata": {
        "id": "roSn8zI93O4a",
        "colab_type": "code",
        "colab": {
          "base_uri": "https://localhost:8080/",
          "height": 252
        },
        "outputId": "071c6cf0-5c2a-457a-cbf2-8456815bf01b"
      },
      "source": [
        "df.head(2)"
      ],
      "execution_count": 228,
      "outputs": [
        {
          "output_type": "execute_result",
          "data": {
            "text/html": [
              "<div>\n",
              "<style scoped>\n",
              "    .dataframe tbody tr th:only-of-type {\n",
              "        vertical-align: middle;\n",
              "    }\n",
              "\n",
              "    .dataframe tbody tr th {\n",
              "        vertical-align: top;\n",
              "    }\n",
              "\n",
              "    .dataframe thead th {\n",
              "        text-align: right;\n",
              "    }\n",
              "</style>\n",
              "<table border=\"1\" class=\"dataframe\">\n",
              "  <thead>\n",
              "    <tr style=\"text-align: right;\">\n",
              "      <th></th>\n",
              "      <th>Loan Amount</th>\n",
              "      <th>City</th>\n",
              "      <th>State</th>\n",
              "      <th>Zip</th>\n",
              "      <th>NAICS Code</th>\n",
              "      <th>Business Type</th>\n",
              "      <th>Race</th>\n",
              "      <th>Gender</th>\n",
              "      <th>Veteran</th>\n",
              "      <th>Non Profit</th>\n",
              "      <th>Jobs Saved</th>\n",
              "      <th>Date</th>\n",
              "      <th>Bank</th>\n",
              "    </tr>\n",
              "  </thead>\n",
              "  <tbody>\n",
              "    <tr>\n",
              "      <th>0</th>\n",
              "      <td>149961.00</td>\n",
              "      <td>KANSAS CITY</td>\n",
              "      <td>MO</td>\n",
              "      <td>64108</td>\n",
              "      <td>541990.0</td>\n",
              "      <td>Limited  Liability Company(LLC)</td>\n",
              "      <td>Unanswered</td>\n",
              "      <td>Unanswered</td>\n",
              "      <td>Unanswered</td>\n",
              "      <td>NaN</td>\n",
              "      <td>13</td>\n",
              "      <td>04/13/2020</td>\n",
              "      <td>Country Club Bank</td>\n",
              "    </tr>\n",
              "    <tr>\n",
              "      <th>1</th>\n",
              "      <td>149927.67</td>\n",
              "      <td>O FALLON</td>\n",
              "      <td>MO</td>\n",
              "      <td>63366</td>\n",
              "      <td>722511.0</td>\n",
              "      <td>Subchapter S Corporation</td>\n",
              "      <td>Unanswered</td>\n",
              "      <td>Unanswered</td>\n",
              "      <td>Unanswered</td>\n",
              "      <td>NaN</td>\n",
              "      <td>NaN</td>\n",
              "      <td>04/07/2020</td>\n",
              "      <td>First State Bank of St. Charles</td>\n",
              "    </tr>\n",
              "  </tbody>\n",
              "</table>\n",
              "</div>"
            ],
            "text/plain": [
              "   Loan Amount         City State    Zip  NAICS Code                    Business Type        Race      Gender     Veteran Non Profit Jobs Saved        Date                             Bank\n",
              "0    149961.00  KANSAS CITY    MO  64108    541990.0  Limited  Liability Company(LLC)  Unanswered  Unanswered  Unanswered        NaN         13  04/13/2020                Country Club Bank\n",
              "1    149927.67     O FALLON    MO  63366    722511.0         Subchapter S Corporation  Unanswered  Unanswered  Unanswered        NaN        NaN  04/07/2020  First State Bank of St. Charles"
            ]
          },
          "metadata": {
            "tags": []
          },
          "execution_count": 228
        }
      ]
    },
    {
      "cell_type": "code",
      "metadata": {
        "id": "MTaIOheV8Fz-",
        "colab_type": "code",
        "colab": {
          "base_uri": "https://localhost:8080/",
          "height": 34
        },
        "outputId": "0e62c170-50e2-4915-e798-b6ea6ca106a4"
      },
      "source": [
        "#shape\n",
        "df.shape\n"
      ],
      "execution_count": 229,
      "outputs": [
        {
          "output_type": "execute_result",
          "data": {
            "text/plain": [
              "(4224119, 13)"
            ]
          },
          "metadata": {
            "tags": []
          },
          "execution_count": 229
        }
      ]
    },
    {
      "cell_type": "code",
      "metadata": {
        "id": "SJp2zU1K0-FI",
        "colab_type": "code",
        "colab": {
          "base_uri": "https://localhost:8080/",
          "height": 364
        },
        "outputId": "d3ca1220-403e-4ff9-921b-3760f48a6a39"
      },
      "source": [
        "#check types\n",
        "df.info()"
      ],
      "execution_count": 230,
      "outputs": [
        {
          "output_type": "stream",
          "text": [
            "<class 'pandas.core.frame.DataFrame'>\n",
            "RangeIndex: 4224119 entries, 0 to 4224118\n",
            "Data columns (total 13 columns):\n",
            " #   Column         Dtype  \n",
            "---  ------         -----  \n",
            " 0   Loan Amount    float64\n",
            " 1   City           object \n",
            " 2   State          object \n",
            " 3   Zip            object \n",
            " 4   NAICS Code     float64\n",
            " 5   Business Type  object \n",
            " 6   Race           object \n",
            " 7   Gender         object \n",
            " 8   Veteran        object \n",
            " 9   Non Profit     object \n",
            " 10  Jobs Saved     object \n",
            " 11  Date           object \n",
            " 12  Bank           object \n",
            "dtypes: float64(2), object(11)\n",
            "memory usage: 419.0+ MB\n"
          ],
          "name": "stdout"
        }
      ]
    },
    {
      "cell_type": "code",
      "metadata": {
        "id": "7cq3eDTputso",
        "colab_type": "code",
        "colab": {
          "base_uri": "https://localhost:8080/",
          "height": 260
        },
        "outputId": "f5ac2395-ea2b-4255-d970-11676cc9fa85"
      },
      "source": [
        "print(df.isna().sum())"
      ],
      "execution_count": 231,
      "outputs": [
        {
          "output_type": "stream",
          "text": [
            "Loan Amount            0\n",
            "City                 248\n",
            "State                871\n",
            "Zip                  208\n",
            "NAICS Code        126705\n",
            "Business Type       3330\n",
            "Race                   3\n",
            "Gender                 0\n",
            "Veteran                0\n",
            "Non Profit       4083421\n",
            "Jobs Saved        285014\n",
            "Date                  81\n",
            "Bank                   0\n",
            "dtype: int64\n"
          ],
          "name": "stdout"
        }
      ]
    },
    {
      "cell_type": "markdown",
      "metadata": {
        "id": "0ftuHurcI_hF",
        "colab_type": "text"
      },
      "source": [
        "check jobs saved column\n"
      ]
    },
    {
      "cell_type": "code",
      "metadata": {
        "id": "YwWIOG3LXf3t",
        "colab_type": "code",
        "colab": {
          "base_uri": "https://localhost:8080/",
          "height": 260
        },
        "outputId": "e38dfe4e-5d8c-4c8c-92b3-85095d4cf25a"
      },
      "source": [
        "# PPP loans were only given to people who had \"employees\", however self employed people\n",
        "#are counted as an employee for the purpose of the loan. Best guess is that recipients of loan\n",
        "# below 25k would be fairly small business and will count as 1 employee. Not sure for values above that.\n",
        "df.loc[df['Loan Amount'] <= 25000.00, \"Jobs Saved\"] = \"1\"\n",
        "#check for nulls\n",
        "print(df.isna().sum())"
      ],
      "execution_count": 232,
      "outputs": [
        {
          "output_type": "stream",
          "text": [
            "Loan Amount            0\n",
            "City                 248\n",
            "State                871\n",
            "Zip                  208\n",
            "NAICS Code        126705\n",
            "Business Type       3330\n",
            "Race                   3\n",
            "Gender                 0\n",
            "Veteran                0\n",
            "Non Profit       4083421\n",
            "Jobs Saved        113631\n",
            "Date                  81\n",
            "Bank                   0\n",
            "dtype: int64\n"
          ],
          "name": "stdout"
        }
      ]
    },
    {
      "cell_type": "code",
      "metadata": {
        "id": "6EFUBcMVnbQa",
        "colab_type": "code",
        "colab": {}
      },
      "source": [
        "#dropping rows with zero value in column\n",
        "df['Jobs Saved'].fillna(df['Jobs Saved'].mode().values[0], inplace = True)"
      ],
      "execution_count": 233,
      "outputs": []
    },
    {
      "cell_type": "markdown",
      "metadata": {
        "id": "9wjT5KHcoGTf",
        "colab_type": "text"
      },
      "source": [
        "\n"
      ]
    },
    {
      "cell_type": "code",
      "metadata": {
        "id": "9H8WEt_dbtnw",
        "colab_type": "code",
        "colab": {
          "base_uri": "https://localhost:8080/",
          "height": 260
        },
        "outputId": "6a48f5eb-6e37-40fd-e2ed-324f3f721bbb"
      },
      "source": [
        "print(df.isna().sum())"
      ],
      "execution_count": 234,
      "outputs": [
        {
          "output_type": "stream",
          "text": [
            "Loan Amount            0\n",
            "City                 248\n",
            "State                871\n",
            "Zip                  208\n",
            "NAICS Code        126705\n",
            "Business Type       3330\n",
            "Race                   3\n",
            "Gender                 0\n",
            "Veteran                0\n",
            "Non Profit       4083421\n",
            "Jobs Saved             0\n",
            "Date                  81\n",
            "Bank                   0\n",
            "dtype: int64\n"
          ],
          "name": "stdout"
        }
      ]
    },
    {
      "cell_type": "markdown",
      "metadata": {
        "id": "RfrHuDSpI66Q",
        "colab_type": "text"
      },
      "source": [
        "check non profit coluumn"
      ]
    },
    {
      "cell_type": "code",
      "metadata": {
        "id": "5zW3kztRFgtg",
        "colab_type": "code",
        "colab": {
          "base_uri": "https://localhost:8080/",
          "height": 104
        },
        "outputId": "bd75bcf4-a7a6-42e5-e726-bffc3143afbb"
      },
      "source": [
        "df['Non Profit'].value_counts()"
      ],
      "execution_count": 235,
      "outputs": [
        {
          "output_type": "execute_result",
          "data": {
            "text/plain": [
              "Y              139179\n",
              "Unanswered       1198\n",
              "Non-Veteran       310\n",
              "Veteran            11\n",
              "Name: Non Profit, dtype: int64"
            ]
          },
          "metadata": {
            "tags": []
          },
          "execution_count": 235
        }
      ]
    },
    {
      "cell_type": "code",
      "metadata": {
        "id": "ga8H6yZbGHkT",
        "colab_type": "code",
        "colab": {
          "base_uri": "https://localhost:8080/",
          "height": 152
        },
        "outputId": "0e6a39ab-54ca-463a-bb36-cca5971dd49a"
      },
      "source": [
        "np_df=df[df['Non Profit'] == 'Y']\n",
        "np_df.sample()"
      ],
      "execution_count": 236,
      "outputs": [
        {
          "output_type": "execute_result",
          "data": {
            "text/html": [
              "<div>\n",
              "<style scoped>\n",
              "    .dataframe tbody tr th:only-of-type {\n",
              "        vertical-align: middle;\n",
              "    }\n",
              "\n",
              "    .dataframe tbody tr th {\n",
              "        vertical-align: top;\n",
              "    }\n",
              "\n",
              "    .dataframe thead th {\n",
              "        text-align: right;\n",
              "    }\n",
              "</style>\n",
              "<table border=\"1\" class=\"dataframe\">\n",
              "  <thead>\n",
              "    <tr style=\"text-align: right;\">\n",
              "      <th></th>\n",
              "      <th>Loan Amount</th>\n",
              "      <th>City</th>\n",
              "      <th>State</th>\n",
              "      <th>Zip</th>\n",
              "      <th>NAICS Code</th>\n",
              "      <th>Business Type</th>\n",
              "      <th>Race</th>\n",
              "      <th>Gender</th>\n",
              "      <th>Veteran</th>\n",
              "      <th>Non Profit</th>\n",
              "      <th>Jobs Saved</th>\n",
              "      <th>Date</th>\n",
              "      <th>Bank</th>\n",
              "    </tr>\n",
              "  </thead>\n",
              "  <tbody>\n",
              "    <tr>\n",
              "      <th>3379380</th>\n",
              "      <td>87630.0</td>\n",
              "      <td>CORNELIUS</td>\n",
              "      <td>NC</td>\n",
              "      <td>28031</td>\n",
              "      <td>519190.0</td>\n",
              "      <td>Non-Profit Organization</td>\n",
              "      <td>Unanswered</td>\n",
              "      <td>Unanswered</td>\n",
              "      <td>Unanswered</td>\n",
              "      <td>Y</td>\n",
              "      <td>0.0</td>\n",
              "      <td>05/11/2020</td>\n",
              "      <td>Wells Fargo Bank</td>\n",
              "    </tr>\n",
              "  </tbody>\n",
              "</table>\n",
              "</div>"
            ],
            "text/plain": [
              "         Loan Amount       City State    Zip  NAICS Code            Business Type        Race      Gender     Veteran Non Profit Jobs Saved        Date              Bank\n",
              "3379380      87630.0  CORNELIUS    NC  28031    519190.0  Non-Profit Organization  Unanswered  Unanswered  Unanswered          Y        0.0  05/11/2020  Wells Fargo Bank"
            ]
          },
          "metadata": {
            "tags": []
          },
          "execution_count": 236
        }
      ]
    },
    {
      "cell_type": "markdown",
      "metadata": {
        "id": "YiBHYIUnGwxd",
        "colab_type": "text"
      },
      "source": [
        "split non profit \"Y\" values off into separate csv to explore later as a table in sql and then drop the column. As a percentage of values, it seems like there isn't enough information as a percentage of the total"
      ]
    },
    {
      "cell_type": "code",
      "metadata": {
        "id": "U_4Lp7ysHMjM",
        "colab_type": "code",
        "colab": {}
      },
      "source": [
        "df.to_csv('non_profit.csv', index=0)\n",
        "!cp non_profit.csv \"drive/My Drive/data\""
      ],
      "execution_count": 237,
      "outputs": []
    },
    {
      "cell_type": "code",
      "metadata": {
        "id": "-hGZ9fyFl-qN",
        "colab_type": "code",
        "colab": {}
      },
      "source": [
        "# drop non profit column. \n",
        "df = df.drop('Non Profit', 1)\n"
      ],
      "execution_count": 238,
      "outputs": []
    },
    {
      "cell_type": "markdown",
      "metadata": {
        "id": "FfQnhCzwu6Wn",
        "colab_type": "text"
      },
      "source": [
        "Dropping null values from rows in several columns\n"
      ]
    },
    {
      "cell_type": "code",
      "metadata": {
        "id": "0hDGnS9PgpfC",
        "colab_type": "code",
        "colab": {
          "base_uri": "https://localhost:8080/",
          "height": 242
        },
        "outputId": "473ac5d0-2abf-49a4-b705-17dbcd70e37c"
      },
      "source": [
        "#dropping null values from rows in the following columns\n",
        "#another option wold be to fill jobs saved in with a value of one because it seems likely that 0 was likely from sole proprietors\n",
        "df=df.dropna(subset=['Zip', 'Race', 'State', 'City', 'Date', 'Jobs Saved', 'NAICS Code', 'Business Type'])\n",
        "print(df.isna().sum())\n",
        "\n"
      ],
      "execution_count": 239,
      "outputs": [
        {
          "output_type": "stream",
          "text": [
            "Loan Amount      0\n",
            "City             0\n",
            "State            0\n",
            "Zip              0\n",
            "NAICS Code       0\n",
            "Business Type    0\n",
            "Race             0\n",
            "Gender           0\n",
            "Veteran          0\n",
            "Jobs Saved       0\n",
            "Date             0\n",
            "Bank             0\n",
            "dtype: int64\n"
          ],
          "name": "stdout"
        }
      ]
    },
    {
      "cell_type": "code",
      "metadata": {
        "id": "ZjJtpX3WvBW1",
        "colab_type": "code",
        "colab": {
          "base_uri": "https://localhost:8080/",
          "height": 34
        },
        "outputId": "5c1e3d83-5122-43b3-c95b-cde58d856091"
      },
      "source": [
        "#percentage of rows lost. 3% - not bad\n",
        "dif=4224119-4093662\n",
        "print(dif/4224119)"
      ],
      "execution_count": 240,
      "outputs": [
        {
          "output_type": "stream",
          "text": [
            "0.030883836369193198\n"
          ],
          "name": "stdout"
        }
      ]
    },
    {
      "cell_type": "code",
      "metadata": {
        "id": "HJVbd_TzOaCm",
        "colab_type": "code",
        "colab": {
          "base_uri": "https://localhost:8080/",
          "height": 34
        },
        "outputId": "6b410761-2b47-4337-b890-73db619795b7"
      },
      "source": [
        "#lost about 3% of rows\n",
        "df.shape"
      ],
      "execution_count": 241,
      "outputs": [
        {
          "output_type": "execute_result",
          "data": {
            "text/plain": [
              "(4093662, 12)"
            ]
          },
          "metadata": {
            "tags": []
          },
          "execution_count": 241
        }
      ]
    },
    {
      "cell_type": "markdown",
      "metadata": {
        "id": "KGqjEwlItyZo",
        "colab_type": "text"
      },
      "source": [
        "NAICS Codes"
      ]
    },
    {
      "cell_type": "code",
      "metadata": {
        "id": "U48Q1F3jtxFf",
        "colab_type": "code",
        "colab": {
          "base_uri": "https://localhost:8080/",
          "height": 225
        },
        "outputId": "534fae8b-d69c-4524-939b-f7f20a5e6b3d"
      },
      "source": [
        "df['NAICS Code'].value_counts()"
      ],
      "execution_count": 242,
      "outputs": [
        {
          "output_type": "execute_result",
          "data": {
            "text/plain": [
              "722511.0    136768\n",
              "531210.0    111306\n",
              "541110.0    108156\n",
              "621210.0     89360\n",
              "621111.0     88102\n",
              "             ...  \n",
              "48009.0          1\n",
              "48034.0          1\n",
              "48043.0          1\n",
              "48073.0          1\n",
              "623.0            1\n",
              "Name: NAICS Code, Length: 1745, dtype: int64"
            ]
          },
          "metadata": {
            "tags": []
          },
          "execution_count": 242
        }
      ]
    },
    {
      "cell_type": "code",
      "metadata": {
        "id": "f6kIExg6nW-X",
        "colab_type": "code",
        "colab": {}
      },
      "source": [
        "#naics saved should not be a float; convert to string before integer\n",
        "df['NAICS Code']=df['NAICS Code'].astype(str)"
      ],
      "execution_count": 243,
      "outputs": []
    },
    {
      "cell_type": "code",
      "metadata": {
        "id": "9lQTvtdbMgVG",
        "colab_type": "code",
        "colab": {}
      },
      "source": [
        "#strip the decimal and zero\n",
        "df['NAICS Code'] = df['NAICS Code'].str.rstrip('.0')"
      ],
      "execution_count": 244,
      "outputs": []
    },
    {
      "cell_type": "code",
      "metadata": {
        "id": "R9fLan4eN80K",
        "colab_type": "code",
        "colab": {
          "base_uri": "https://localhost:8080/",
          "height": 34
        },
        "outputId": "8e12cdfd-6072-4e79-e892-938307f55348"
      },
      "source": [
        "#take the first two letters of the NAICS code column and create category column. \n",
        "#category column can be matched to named values. \n",
        "df['NAICS Category'] = df['NAICS Code'].str[:2]\n",
        "df['NAICS Category'].dtype"
      ],
      "execution_count": 245,
      "outputs": [
        {
          "output_type": "execute_result",
          "data": {
            "text/plain": [
              "dtype('O')"
            ]
          },
          "metadata": {
            "tags": []
          },
          "execution_count": 245
        }
      ]
    },
    {
      "cell_type": "code",
      "metadata": {
        "id": "mZ802ti2rAvR",
        "colab_type": "code",
        "colab": {
          "base_uri": "https://localhost:8080/",
          "height": 186
        },
        "outputId": "2dc0538b-4931-48c9-9975-007125825336"
      },
      "source": [
        "df.sample()"
      ],
      "execution_count": 246,
      "outputs": [
        {
          "output_type": "execute_result",
          "data": {
            "text/html": [
              "<div>\n",
              "<style scoped>\n",
              "    .dataframe tbody tr th:only-of-type {\n",
              "        vertical-align: middle;\n",
              "    }\n",
              "\n",
              "    .dataframe tbody tr th {\n",
              "        vertical-align: top;\n",
              "    }\n",
              "\n",
              "    .dataframe thead th {\n",
              "        text-align: right;\n",
              "    }\n",
              "</style>\n",
              "<table border=\"1\" class=\"dataframe\">\n",
              "  <thead>\n",
              "    <tr style=\"text-align: right;\">\n",
              "      <th></th>\n",
              "      <th>Loan Amount</th>\n",
              "      <th>City</th>\n",
              "      <th>State</th>\n",
              "      <th>Zip</th>\n",
              "      <th>NAICS Code</th>\n",
              "      <th>Business Type</th>\n",
              "      <th>Race</th>\n",
              "      <th>Gender</th>\n",
              "      <th>Veteran</th>\n",
              "      <th>Jobs Saved</th>\n",
              "      <th>Date</th>\n",
              "      <th>Bank</th>\n",
              "      <th>NAICS Category</th>\n",
              "    </tr>\n",
              "  </thead>\n",
              "  <tbody>\n",
              "    <tr>\n",
              "      <th>2868149</th>\n",
              "      <td>62300.0</td>\n",
              "      <td>NORTH RICHLAND HILLS</td>\n",
              "      <td>TX</td>\n",
              "      <td>76182</td>\n",
              "      <td>81311</td>\n",
              "      <td>Non-Profit Organization</td>\n",
              "      <td>Unanswered</td>\n",
              "      <td>Male Owned</td>\n",
              "      <td>Unanswered</td>\n",
              "      <td>0.0</td>\n",
              "      <td>04/28/2020</td>\n",
              "      <td>The American National Bank of Texas</td>\n",
              "      <td>81</td>\n",
              "    </tr>\n",
              "  </tbody>\n",
              "</table>\n",
              "</div>"
            ],
            "text/plain": [
              "         Loan Amount                  City State    Zip NAICS Code            Business Type        Race      Gender     Veteran Jobs Saved        Date                                 Bank NAICS Category\n",
              "2868149      62300.0  NORTH RICHLAND HILLS    TX  76182      81311  Non-Profit Organization  Unanswered  Male Owned  Unanswered        0.0  04/28/2020  The American National Bank of Texas             81"
            ]
          },
          "metadata": {
            "tags": []
          },
          "execution_count": 246
        }
      ]
    },
    {
      "cell_type": "code",
      "metadata": {
        "id": "IS5DxKeFqyK1",
        "colab_type": "code",
        "colab": {
          "base_uri": "https://localhost:8080/",
          "height": 34
        },
        "outputId": "09cdb1c3-81e5-4050-ee13-6d62bd354fe3"
      },
      "source": [
        "df.shape"
      ],
      "execution_count": 247,
      "outputs": [
        {
          "output_type": "execute_result",
          "data": {
            "text/plain": [
              "(4093662, 13)"
            ]
          },
          "metadata": {
            "tags": []
          },
          "execution_count": 247
        }
      ]
    },
    {
      "cell_type": "markdown",
      "metadata": {
        "id": "cEysiimBuJPF",
        "colab_type": "text"
      },
      "source": [
        "Date column"
      ]
    },
    {
      "cell_type": "code",
      "metadata": {
        "id": "ZpJHS1jbgpoV",
        "colab_type": "code",
        "colab": {}
      },
      "source": [
        "# somewhat forcing the date conversion because there must be some values that are not able to be converted to date format \n",
        "df['Date'] =  pd.to_datetime(df['Date'], errors='coerce')"
      ],
      "execution_count": 248,
      "outputs": []
    },
    {
      "cell_type": "code",
      "metadata": {
        "id": "MwFZ8r5ywetV",
        "colab_type": "code",
        "colab": {
          "base_uri": "https://localhost:8080/",
          "height": 34
        },
        "outputId": "107651f6-dca9-4d25-9a11-b712a6b2eed8"
      },
      "source": [
        "df.shape"
      ],
      "execution_count": 249,
      "outputs": [
        {
          "output_type": "execute_result",
          "data": {
            "text/plain": [
              "(4093662, 13)"
            ]
          },
          "metadata": {
            "tags": []
          },
          "execution_count": 249
        }
      ]
    },
    {
      "cell_type": "code",
      "metadata": {
        "id": "xHqNDYK2wk7Z",
        "colab_type": "code",
        "colab": {}
      },
      "source": [
        "#check for stray values\n",
        "# df.Date.value_counts(ascending=True)"
      ],
      "execution_count": 250,
      "outputs": []
    },
    {
      "cell_type": "code",
      "metadata": {
        "id": "TYsGUxy8XgDO",
        "colab_type": "code",
        "colab": {
          "base_uri": "https://localhost:8080/",
          "height": 34
        },
        "outputId": "09a7d7c2-d20e-479c-b120-5a032b484222"
      },
      "source": [
        "# date conversion verification \n",
        "df['Date'].dtype"
      ],
      "execution_count": 251,
      "outputs": [
        {
          "output_type": "execute_result",
          "data": {
            "text/plain": [
              "dtype('<M8[ns]')"
            ]
          },
          "metadata": {
            "tags": []
          },
          "execution_count": 251
        }
      ]
    },
    {
      "cell_type": "code",
      "metadata": {
        "id": "-sHsrYf3Xudt",
        "colab_type": "code",
        "colab": {
          "base_uri": "https://localhost:8080/",
          "height": 265
        },
        "outputId": "f6bcfd31-9457-4edc-d678-219b450b5b2b"
      },
      "source": [
        "#check \n",
        "df.sample(3)"
      ],
      "execution_count": 252,
      "outputs": [
        {
          "output_type": "execute_result",
          "data": {
            "text/html": [
              "<div>\n",
              "<style scoped>\n",
              "    .dataframe tbody tr th:only-of-type {\n",
              "        vertical-align: middle;\n",
              "    }\n",
              "\n",
              "    .dataframe tbody tr th {\n",
              "        vertical-align: top;\n",
              "    }\n",
              "\n",
              "    .dataframe thead th {\n",
              "        text-align: right;\n",
              "    }\n",
              "</style>\n",
              "<table border=\"1\" class=\"dataframe\">\n",
              "  <thead>\n",
              "    <tr style=\"text-align: right;\">\n",
              "      <th></th>\n",
              "      <th>Loan Amount</th>\n",
              "      <th>City</th>\n",
              "      <th>State</th>\n",
              "      <th>Zip</th>\n",
              "      <th>NAICS Code</th>\n",
              "      <th>Business Type</th>\n",
              "      <th>Race</th>\n",
              "      <th>Gender</th>\n",
              "      <th>Veteran</th>\n",
              "      <th>Jobs Saved</th>\n",
              "      <th>Date</th>\n",
              "      <th>Bank</th>\n",
              "      <th>NAICS Category</th>\n",
              "    </tr>\n",
              "  </thead>\n",
              "  <tbody>\n",
              "    <tr>\n",
              "      <th>3543699</th>\n",
              "      <td>26245.0</td>\n",
              "      <td>NASHVILLE</td>\n",
              "      <td>TN</td>\n",
              "      <td>37215</td>\n",
              "      <td>561311</td>\n",
              "      <td>Limited  Liability Company(LLC)</td>\n",
              "      <td>Unanswered</td>\n",
              "      <td>Unanswered</td>\n",
              "      <td>Unanswered</td>\n",
              "      <td>4</td>\n",
              "      <td>2020-05-03</td>\n",
              "      <td>Bank of America</td>\n",
              "      <td>56</td>\n",
              "    </tr>\n",
              "    <tr>\n",
              "      <th>3320841</th>\n",
              "      <td>15010.0</td>\n",
              "      <td>PRINGLE</td>\n",
              "      <td>PA</td>\n",
              "      <td>18704</td>\n",
              "      <td>56172</td>\n",
              "      <td>Limited  Liability Company(LLC)</td>\n",
              "      <td>Unanswered</td>\n",
              "      <td>Unanswered</td>\n",
              "      <td>Unanswered</td>\n",
              "      <td>1</td>\n",
              "      <td>2020-05-03</td>\n",
              "      <td>Celtic Bank Corporation</td>\n",
              "      <td>56</td>\n",
              "    </tr>\n",
              "    <tr>\n",
              "      <th>1707773</th>\n",
              "      <td>10200.0</td>\n",
              "      <td>MESA</td>\n",
              "      <td>AZ</td>\n",
              "      <td>85201</td>\n",
              "      <td>812113</td>\n",
              "      <td>Sole Proprietorship</td>\n",
              "      <td>Unanswered</td>\n",
              "      <td>Unanswered</td>\n",
              "      <td>Unanswered</td>\n",
              "      <td>1</td>\n",
              "      <td>2020-05-07</td>\n",
              "      <td>MidFirst Bank</td>\n",
              "      <td>81</td>\n",
              "    </tr>\n",
              "  </tbody>\n",
              "</table>\n",
              "</div>"
            ],
            "text/plain": [
              "         Loan Amount       City State    Zip NAICS Code                    Business Type        Race      Gender     Veteran Jobs Saved       Date                     Bank NAICS Category\n",
              "3543699      26245.0  NASHVILLE    TN  37215     561311  Limited  Liability Company(LLC)  Unanswered  Unanswered  Unanswered          4 2020-05-03          Bank of America             56\n",
              "3320841      15010.0    PRINGLE    PA  18704      56172  Limited  Liability Company(LLC)  Unanswered  Unanswered  Unanswered          1 2020-05-03  Celtic Bank Corporation             56\n",
              "1707773      10200.0       MESA    AZ  85201     812113              Sole Proprietorship  Unanswered  Unanswered  Unanswered          1 2020-05-07            MidFirst Bank             81"
            ]
          },
          "metadata": {
            "tags": []
          },
          "execution_count": 252
        }
      ]
    },
    {
      "cell_type": "markdown",
      "metadata": {
        "id": "X0GWGvDNwGjd",
        "colab_type": "text"
      },
      "source": [
        "State column\n"
      ]
    },
    {
      "cell_type": "code",
      "metadata": {
        "id": "BjrqDVyax4mU",
        "colab_type": "code",
        "colab": {
          "base_uri": "https://localhost:8080/",
          "height": 34
        },
        "outputId": "49f80143-898b-441c-c9b3-acf04f5b4179"
      },
      "source": [
        "#number of unique values in a column\n",
        "df['State'].nunique()"
      ],
      "execution_count": 253,
      "outputs": [
        {
          "output_type": "execute_result",
          "data": {
            "text/plain": [
              "273"
            ]
          },
          "metadata": {
            "tags": []
          },
          "execution_count": 253
        }
      ]
    },
    {
      "cell_type": "code",
      "metadata": {
        "id": "02zt88vPx5Di",
        "colab_type": "code",
        "colab": {
          "base_uri": "https://localhost:8080/",
          "height": 225
        },
        "outputId": "3deafb10-d1fa-4236-e0d3-a75749fb5027"
      },
      "source": [
        "df['State'].value_counts()"
      ],
      "execution_count": 254,
      "outputs": [
        {
          "output_type": "execute_result",
          "data": {
            "text/plain": [
              "CA            470710\n",
              "FL            341051\n",
              "TX            328235\n",
              "NY            261809\n",
              "IL            167429\n",
              "               ...  \n",
              " NY 11206\"         1\n",
              " AR 72405\"         1\n",
              "FI                 1\n",
              " SD\"               1\n",
              " OR 97045\"         1\n",
              "Name: State, Length: 273, dtype: int64"
            ]
          },
          "metadata": {
            "tags": []
          },
          "execution_count": 254
        }
      ]
    },
    {
      "cell_type": "code",
      "metadata": {
        "id": "yOyfbfGOq3H_",
        "colab_type": "code",
        "colab": {}
      },
      "source": [
        "#remove open space to the left side of state\n",
        "df['State'] = df['State'].str.strip(' ', )"
      ],
      "execution_count": 255,
      "outputs": []
    },
    {
      "cell_type": "code",
      "metadata": {
        "id": "4aSiFuLZ1Eah",
        "colab_type": "code",
        "colab": {
          "base_uri": "https://localhost:8080/",
          "height": 225
        },
        "outputId": "f11aa897-1b7a-4355-8383-c9777949fb0e"
      },
      "source": [
        "df['State'].value_counts()"
      ],
      "execution_count": 256,
      "outputs": [
        {
          "output_type": "execute_result",
          "data": {
            "text/plain": [
              "CA            470710\n",
              "FL            341051\n",
              "TX            328235\n",
              "NY            261809\n",
              "IL            167429\n",
              "               ...  \n",
              "FL  33931\"         1\n",
              "OR 97045\"          1\n",
              "STE. 513\"          1\n",
              "WA 98001\"          1\n",
              "NJ 07306\"          1\n",
              "Name: State, Length: 260, dtype: int64"
            ]
          },
          "metadata": {
            "tags": []
          },
          "execution_count": 256
        }
      ]
    },
    {
      "cell_type": "code",
      "metadata": {
        "id": "n0OYPii3rO0r",
        "colab_type": "code",
        "colab": {}
      },
      "source": [
        "df['State'] = df.loc[df['State']].str.rstrip('\"', )\n",
        "#remove the stray \""
      ],
      "execution_count": 216,
      "outputs": []
    },
    {
      "cell_type": "code",
      "metadata": {
        "id": "QtTXX1OcUlf1",
        "colab_type": "code",
        "colab": {}
      },
      "source": [
        "#taking first two letters \n",
        "df['State'] = [x[:2] for x in df['State']]\n"
      ],
      "execution_count": 265,
      "outputs": []
    },
    {
      "cell_type": "code",
      "metadata": {
        "id": "gpTC0YIi3rDN",
        "colab_type": "code",
        "colab": {}
      },
      "source": [
        "df=df.groupby('State').filter(lambda x : (x['State'].count()>=3).any())"
      ],
      "execution_count": 278,
      "outputs": []
    },
    {
      "cell_type": "code",
      "metadata": {
        "id": "dWDGsO_qxbxA",
        "colab_type": "code",
        "colab": {
          "base_uri": "https://localhost:8080/",
          "height": 1000
        },
        "outputId": "587cc207-60c5-459e-9f97-fc7e5bf40ae8"
      },
      "source": [
        "df['State'].value_counts()"
      ],
      "execution_count": 279,
      "outputs": [
        {
          "output_type": "execute_result",
          "data": {
            "text/plain": [
              "CA    470781\n",
              "FL    341087\n",
              "TX    328286\n",
              "NY    261850\n",
              "IL    167444\n",
              "GA    136190\n",
              "PA    136094\n",
              "NJ    116632\n",
              "OH    112418\n",
              "NC    103574\n",
              "MI     97110\n",
              "MA     92441\n",
              "VA     91757\n",
              "CO     88693\n",
              "MN     83186\n",
              "WA     82909\n",
              "TN     80744\n",
              "MO     78890\n",
              "WI     71637\n",
              "AZ     67140\n",
              "MD     67078\n",
              "IN     65879\n",
              "LA     63298\n",
              "OK     57110\n",
              "AL     57072\n",
              "SC     54081\n",
              "IA     52229\n",
              "OR     52056\n",
              "CT     50809\n",
              "KS     45585\n",
              "UT     42622\n",
              "MS     41673\n",
              "KY     41130\n",
              "NE     38139\n",
              "AR     37931\n",
              "NV     33882\n",
              "PR     31622\n",
              "ID     26316\n",
              "ME     23993\n",
              "HI     21189\n",
              "MT     20768\n",
              "SD     20490\n",
              "NH     19682\n",
              "NM     18579\n",
              "ND     17491\n",
              "WV     14895\n",
              "RI     14467\n",
              "WY     11650\n",
              "VT     10229\n",
              "DE      9991\n",
              "AK      9412\n",
              "DC      9199\n",
              "GU      1867\n",
              "VI      1686\n",
              "MP       417\n",
              "AS       204\n",
              "XX        16\n",
              "TE        11\n",
              "ST         7\n",
              "Name: State, dtype: int64"
            ]
          },
          "metadata": {
            "tags": []
          },
          "execution_count": 279
        }
      ]
    },
    {
      "cell_type": "code",
      "metadata": {
        "id": "bVStvxvO46OC",
        "colab_type": "code",
        "colab": {
          "base_uri": "https://localhost:8080/",
          "height": 34
        },
        "outputId": "9712e076-e9b7-4c38-a945-228316ef3f6e"
      },
      "source": [
        "df.shape"
      ],
      "execution_count": 281,
      "outputs": [
        {
          "output_type": "execute_result",
          "data": {
            "text/plain": [
              "(4093618, 13)"
            ]
          },
          "metadata": {
            "tags": []
          },
          "execution_count": 281
        }
      ]
    },
    {
      "cell_type": "code",
      "metadata": {
        "id": "qjKIwyvKq9_9",
        "colab_type": "code",
        "colab": {}
      },
      "source": [
        "# df['State'] = df['State'].str.strip('.', )"
      ],
      "execution_count": 182,
      "outputs": []
    },
    {
      "cell_type": "code",
      "metadata": {
        "id": "Ep5amTyvxbXc",
        "colab_type": "code",
        "colab": {}
      },
      "source": [
        "# df.shape"
      ],
      "execution_count": null,
      "outputs": []
    },
    {
      "cell_type": "code",
      "metadata": {
        "id": "D9A3ryWUqq3I",
        "colab_type": "code",
        "colab": {}
      },
      "source": [
        "# df['States'] = df['States'].str.lstrip(' ', )"
      ],
      "execution_count": null,
      "outputs": []
    },
    {
      "cell_type": "code",
      "metadata": {
        "id": "6_vm_qeBxpCp",
        "colab_type": "code",
        "colab": {
          "base_uri": "https://localhost:8080/",
          "height": 34
        },
        "outputId": "f4078a71-b76e-45f2-9f2a-79154c2cb537"
      },
      "source": [
        "df['State'].nunique()"
      ],
      "execution_count": 282,
      "outputs": [
        {
          "output_type": "execute_result",
          "data": {
            "text/plain": [
              "59"
            ]
          },
          "metadata": {
            "tags": []
          },
          "execution_count": 282
        }
      ]
    },
    {
      "cell_type": "code",
      "metadata": {
        "id": "5jzaEqAPlLEE",
        "colab_type": "code",
        "colab": {
          "base_uri": "https://localhost:8080/",
          "height": 1000
        },
        "outputId": "62549909-7da0-4ec1-b285-5515dca893ea"
      },
      "source": [
        "df['NAICS Category'].value_counts()"
      ],
      "execution_count": 284,
      "outputs": [
        {
          "output_type": "execute_result",
          "data": {
            "text/plain": [
              "54    553820\n",
              "81    491278\n",
              "62    422097\n",
              "23    380205\n",
              "72    308883\n",
              "44    261611\n",
              "53    227682\n",
              "56    208301\n",
              "48    159261\n",
              "52    154859\n",
              "45    137492\n",
              "42    129498\n",
              "11    129384\n",
              "71    108352\n",
              "33     86468\n",
              "99     83900\n",
              "61     67447\n",
              "51     57559\n",
              "32     38651\n",
              "31     35583\n",
              "21     16388\n",
              "92     11333\n",
              "49      9824\n",
              "55      7236\n",
              "22      6137\n",
              "78        28\n",
              "10        22\n",
              "20        17\n",
              "77        14\n",
              "91        14\n",
              "85        14\n",
              "60        13\n",
              "80        13\n",
              "94        12\n",
              "95        11\n",
              "90        10\n",
              "68        10\n",
              "75         9\n",
              "76         9\n",
              "30         9\n",
              "82         8\n",
              "98         8\n",
              "96         8\n",
              "93         8\n",
              "70         8\n",
              "28         7\n",
              "73         7\n",
              "14         6\n",
              "89         6\n",
              "26         5\n",
              "34         5\n",
              "74         5\n",
              "13         5\n",
              "64         5\n",
              "97         5\n",
              "24         5\n",
              "12         4\n",
              "27         4\n",
              "88         4\n",
              "19         4\n",
              "79         4\n",
              "17         4\n",
              "18         4\n",
              "37         4\n",
              "58         3\n",
              "84         3\n",
              "66         3\n",
              "63         2\n",
              "35         2\n",
              "57         2\n",
              "50         2\n",
              "29         2\n",
              "86         2\n",
              "36         1\n",
              "39         1\n",
              "69         1\n",
              "59         1\n",
              "83         1\n",
              "41         1\n",
              "65         1\n",
              "87         1\n",
              "47         1\n",
              "46         1\n",
              "Name: NAICS Category, dtype: int64"
            ]
          },
          "metadata": {
            "tags": []
          },
          "execution_count": 284
        }
      ]
    },
    {
      "cell_type": "code",
      "metadata": {
        "id": "l1oiN-9RlLOI",
        "colab_type": "code",
        "colab": {}
      },
      "source": [
        "df = df.groupby('NAICS Category').filter(lambda x: len(x) >= 5)"
      ],
      "execution_count": 285,
      "outputs": []
    },
    {
      "cell_type": "code",
      "metadata": {
        "id": "pb-jwIdzf7O7",
        "colab_type": "code",
        "colab": {}
      },
      "source": [
        "# cleaned file of loans under $150k preserving roughly 4 million rows\n",
        "df.to_csv('jobs_saved.csv', index=0)\n",
        "!cp jobs_saved.csv \"drive/My Drive/\""
      ],
      "execution_count": 287,
      "outputs": []
    },
    {
      "cell_type": "code",
      "metadata": {
        "id": "hDg38D8FiiA8",
        "colab_type": "code",
        "colab": {}
      },
      "source": [
        "col=list(df.columns)"
      ],
      "execution_count": null,
      "outputs": []
    },
    {
      "cell_type": "code",
      "metadata": {
        "id": "ttJhQNIyBQfd",
        "colab_type": "code",
        "colab": {}
      },
      "source": [
        "#convert the strings to integers in jobs saved\n",
        "# df['Jobs Saved'] = pd.to_numeric(df['Jobs Saved'], errors=\"coerce\")\n",
        "# df['Jobs Saved'] = df['Jobs Saved'].astype(int)"
      ],
      "execution_count": null,
      "outputs": []
    },
    {
      "cell_type": "code",
      "metadata": {
        "id": "31KUXD1rxf1F",
        "colab_type": "code",
        "colab": {}
      },
      "source": [
        "# df['Jobs Saved'].fillna(0, inplace = True)\n",
        "df.shape"
      ],
      "execution_count": null,
      "outputs": []
    },
    {
      "cell_type": "code",
      "metadata": {
        "id": "2rl0DlKABRc-",
        "colab_type": "code",
        "colab": {}
      },
      "source": [
        "df.dtypes"
      ],
      "execution_count": null,
      "outputs": []
    },
    {
      "cell_type": "code",
      "metadata": {
        "id": "pdUPz6ckTOsI",
        "colab_type": "code",
        "colab": {}
      },
      "source": [
        "df.sample(12)"
      ],
      "execution_count": null,
      "outputs": []
    },
    {
      "cell_type": "code",
      "metadata": {
        "id": "V44R0PlGsI5o",
        "colab_type": "code",
        "colab": {}
      },
      "source": [
        "df.shape"
      ],
      "execution_count": null,
      "outputs": []
    },
    {
      "cell_type": "code",
      "metadata": {
        "id": "ykExnj4pqSgT",
        "colab_type": "code",
        "colab": {}
      },
      "source": [
        "df.info()"
      ],
      "execution_count": null,
      "outputs": []
    },
    {
      "cell_type": "code",
      "metadata": {
        "id": "6yZonhhf7RT2",
        "colab_type": "code",
        "colab": {}
      },
      "source": [
        "# df.to_csv('clean_ppp.csv', index=0)\n",
        "# !cp clean_ppp.csv \"drive/My Drive/\"\n"
      ],
      "execution_count": null,
      "outputs": []
    },
    {
      "cell_type": "code",
      "metadata": {
        "id": "dM2Fu5SjAFGO",
        "colab_type": "code",
        "colab": {}
      },
      "source": [
        "# data looks pretty good. \n",
        "df.head()"
      ],
      "execution_count": null,
      "outputs": []
    },
    {
      "cell_type": "code",
      "metadata": {
        "id": "j4iBOG98Vzmz",
        "colab_type": "code",
        "colab": {}
      },
      "source": [
        ""
      ],
      "execution_count": null,
      "outputs": []
    }
  ]
}