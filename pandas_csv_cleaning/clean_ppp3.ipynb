{
  "nbformat": 4,
  "nbformat_minor": 0,
  "metadata": {
    "colab": {
      "name": "clean_ppp3.ipynb",
      "provenance": [],
      "collapsed_sections": [],
      "mount_file_id": "1QhORnS6hfpmJPuMxe1IjC_VK0S7XJCcr",
      "authorship_tag": "ABX9TyPyda2VAfQ4WuSKbpz3nL0l"
    },
    "kernelspec": {
      "name": "python3",
      "display_name": "Python 3"
    },
    "accelerator": "GPU"
  },
  "cells": [
    {
      "cell_type": "markdown",
      "metadata": {
        "id": "2oVNvkNYPDV2",
        "colab_type": "text"
      },
      "source": [
        "This is the fourth notebook and final clean up on the file before switching to PySpark. "
      ]
    },
    {
      "cell_type": "code",
      "metadata": {
        "id": "8M-oPsMYPGnv",
        "colab_type": "code",
        "colab": {}
      },
      "source": [
        "#import dependencies\n",
        "import pandas as pd\n",
        "import numpy as np\n",
        "from datetime import date, datetime\n",
        "import os, sys \n",
        "import io\n",
        "import ee\n"
      ],
      "execution_count": null,
      "outputs": []
    },
    {
      "cell_type": "code",
      "metadata": {
        "id": "IF4fH4hDB5m8",
        "colab_type": "code",
        "colab": {}
      },
      "source": [
        "## set up pandas dataframe using set_options to warn when we are working on a copy instead of ooriginal dataframe\n",
        "pd.set_option('mode.chained_assignment','warn')"
      ],
      "execution_count": null,
      "outputs": []
    },
    {
      "cell_type": "code",
      "metadata": {
        "id": "pf2cFMugB_T9",
        "colab_type": "code",
        "colab": {}
      },
      "source": [
        "# dataframe will display without being truncated\n",
        "pd.set_option('display.max_rows', 150)\n",
        "pd.set_option('display.max_columns', 25)\n",
        "pd.set_option('display.width', 1000)"
      ],
      "execution_count": null,
      "outputs": []
    },
    {
      "cell_type": "code",
      "metadata": {
        "id": "ii3flRP84Xa9",
        "colab_type": "code",
        "colab": {}
      },
      "source": [
        "# !pip install -U -q PyDrive"
      ],
      "execution_count": null,
      "outputs": []
    },
    {
      "cell_type": "code",
      "metadata": {
        "id": "ax45eZXtxQE2",
        "colab_type": "code",
        "colab": {}
      },
      "source": [
        "#mounting the google drive to access the files\n",
        "from google.colab import drive\n",
        "drive.mount('/content/drive')"
      ],
      "execution_count": null,
      "outputs": []
    },
    {
      "cell_type": "code",
      "metadata": {
        "id": "3Siq-wB9d392",
        "colab_type": "code",
        "colab": {}
      },
      "source": [
        "# command shows file path\n",
        "# ! ls"
      ],
      "execution_count": null,
      "outputs": []
    },
    {
      "cell_type": "code",
      "metadata": {
        "id": "JwyQc3b9d4R-",
        "colab_type": "code",
        "colab": {}
      },
      "source": [
        "from google.colab import files"
      ],
      "execution_count": null,
      "outputs": []
    },
    {
      "cell_type": "code",
      "metadata": {
        "id": "RxhFfrXX0jn0",
        "colab_type": "code",
        "colab": {}
      },
      "source": [
        "# filepath\n",
        "path = \"/content/drive/My Drive/data/quasi2.csv\"\n",
        "\n",
        "\n"
      ],
      "execution_count": null,
      "outputs": []
    },
    {
      "cell_type": "markdown",
      "metadata": {
        "id": "Nt6pJSd6SX06",
        "colab_type": "text"
      },
      "source": [
        ""
      ]
    },
    {
      "cell_type": "code",
      "metadata": {
        "id": "tub77oA8j9IA",
        "colab_type": "code",
        "colab": {}
      },
      "source": [
        "#read the csv, create dataframe\n",
        "df = pd.read_csv(path,)\n"
      ],
      "execution_count": null,
      "outputs": []
    },
    {
      "cell_type": "code",
      "metadata": {
        "id": "roSn8zI93O4a",
        "colab_type": "code",
        "colab": {}
      },
      "source": [
        "df.head()"
      ],
      "execution_count": null,
      "outputs": []
    },
    {
      "cell_type": "code",
      "metadata": {
        "id": "MTaIOheV8Fz-",
        "colab_type": "code",
        "colab": {}
      },
      "source": [
        "df.shape"
      ],
      "execution_count": null,
      "outputs": []
    },
    {
      "cell_type": "code",
      "metadata": {
        "id": "SJp2zU1K0-FI",
        "colab_type": "code",
        "colab": {}
      },
      "source": [
        "df.info()"
      ],
      "execution_count": null,
      "outputs": []
    },
    {
      "cell_type": "code",
      "metadata": {
        "id": "dkvMTBs_1HGo",
        "colab_type": "code",
        "colab": {}
      },
      "source": [
        "#check for nulls\n",
        "print(df.isna().sum())\n"
      ],
      "execution_count": null,
      "outputs": []
    },
    {
      "cell_type": "code",
      "metadata": {
        "id": "-hGZ9fyFl-qN",
        "colab_type": "code",
        "colab": {}
      },
      "source": [
        "# drop non profit column. There is barely any information in it. \n",
        "df = df.drop('Non Profit', 1)"
      ],
      "execution_count": null,
      "outputs": []
    },
    {
      "cell_type": "code",
      "metadata": {
        "id": "0hDGnS9PgpfC",
        "colab_type": "code",
        "colab": {}
      },
      "source": [
        "#dropping null values from rows in the following columns\n",
        "df=df.dropna(subset=['Zip', 'Race', 'State', 'City', 'Date', 'Jobs Saved', 'NAICS Code', 'Business Type'])\n",
        "print(df.isna().sum())\n",
        "\n"
      ],
      "execution_count": null,
      "outputs": []
    },
    {
      "cell_type": "code",
      "metadata": {
        "id": "HJVbd_TzOaCm",
        "colab_type": "code",
        "colab": {}
      },
      "source": [
        "#lost about 10% of rows\n",
        "df.shape"
      ],
      "execution_count": null,
      "outputs": []
    },
    {
      "cell_type": "code",
      "metadata": {
        "id": "Kq8IrrD_pISJ",
        "colab_type": "code",
        "colab": {}
      },
      "source": [
        "df.info()"
      ],
      "execution_count": null,
      "outputs": []
    },
    {
      "cell_type": "code",
      "metadata": {
        "id": "f6kIExg6nW-X",
        "colab_type": "code",
        "colab": {}
      },
      "source": [
        "#naics saved should not be a float. Need to convert to string before integer\n",
        "df['NAICS Code']=df['NAICS Code'].astype(str)"
      ],
      "execution_count": null,
      "outputs": []
    },
    {
      "cell_type": "code",
      "metadata": {
        "id": "9lQTvtdbMgVG",
        "colab_type": "code",
        "colab": {}
      },
      "source": [
        "#strip the decimal and zero\n",
        "df['NAICS Code'] = df['NAICS Code'].str.rstrip('.0')"
      ],
      "execution_count": null,
      "outputs": []
    },
    {
      "cell_type": "code",
      "metadata": {
        "id": "R9fLan4eN80K",
        "colab_type": "code",
        "colab": {}
      },
      "source": [
        "#take the first two letters of the NAICS code column and create category column. \n",
        "#category column can be matched to named values. The longer code was impractical\n",
        "df['NAICS Category'] = df['NAICS Code'].str[:2]\n",
        "df.info()"
      ],
      "execution_count": null,
      "outputs": []
    },
    {
      "cell_type": "code",
      "metadata": {
        "id": "mZ802ti2rAvR",
        "colab_type": "code",
        "colab": {}
      },
      "source": [
        "df.sample(7)"
      ],
      "execution_count": null,
      "outputs": []
    },
    {
      "cell_type": "code",
      "metadata": {
        "id": "ZpJHS1jbgpoV",
        "colab_type": "code",
        "colab": {}
      },
      "source": [
        "#somewhat forcing the date conversion because there must be some values that are not in date format \n",
        "df['Date'] =  pd.to_datetime(df['Date'], errors='coerce')"
      ],
      "execution_count": null,
      "outputs": []
    },
    {
      "cell_type": "code",
      "metadata": {
        "id": "TYsGUxy8XgDO",
        "colab_type": "code",
        "colab": {}
      },
      "source": [
        "#converting to date worked\n",
        "df.info()"
      ],
      "execution_count": null,
      "outputs": []
    },
    {
      "cell_type": "code",
      "metadata": {
        "id": "-sHsrYf3Xudt",
        "colab_type": "code",
        "colab": {}
      },
      "source": [
        "#check \n",
        "df.sample(15)"
      ],
      "execution_count": null,
      "outputs": []
    },
    {
      "cell_type": "code",
      "metadata": {
        "id": "Q0_q0vUiubHP",
        "colab_type": "code",
        "colab": {}
      },
      "source": [
        "df['Jobs Saved'].dtype\n",
        "#result says it is a string \n"
      ],
      "execution_count": null,
      "outputs": []
    },
    {
      "cell_type": "code",
      "metadata": {
        "id": "VFB5uI7zDbir",
        "colab_type": "code",
        "colab": {}
      },
      "source": [
        "df['Jobs Saved'] = df['Jobs Saved'].astype(str)\n"
      ],
      "execution_count": null,
      "outputs": []
    },
    {
      "cell_type": "code",
      "metadata": {
        "id": "jFw_Eh9vT4Xx",
        "colab_type": "code",
        "colab": {}
      },
      "source": [
        "df['Jobs Saved'].dtype\n",
        "#result says it is a string "
      ],
      "execution_count": null,
      "outputs": []
    },
    {
      "cell_type": "code",
      "metadata": {
        "id": "uMpE13YiTzsM",
        "colab_type": "code",
        "colab": {}
      },
      "source": [
        "#strip off the decimal point if there is one\n",
        "df['Jobs Saved'] = df['Jobs Saved'].str.rstrip('.0')"
      ],
      "execution_count": null,
      "outputs": []
    },
    {
      "cell_type": "code",
      "metadata": {
        "id": "wZ7BwVpmxfml",
        "colab_type": "code",
        "colab": {}
      },
      "source": [
        "df.sample(7)"
      ],
      "execution_count": null,
      "outputs": []
    },
    {
      "cell_type": "code",
      "metadata": {
        "id": "yOyfbfGOq3H_",
        "colab_type": "code",
        "colab": {}
      },
      "source": [
        "df['State'] = df['State'].str.lstrip(' ', )"
      ],
      "execution_count": null,
      "outputs": []
    },
    {
      "cell_type": "code",
      "metadata": {
        "id": "qjKIwyvKq9_9",
        "colab_type": "code",
        "colab": {}
      },
      "source": [
        "df['State'] = df['State'].str.strip('.', )"
      ],
      "execution_count": null,
      "outputs": []
    },
    {
      "cell_type": "code",
      "metadata": {
        "id": "n0OYPii3rO0r",
        "colab_type": "code",
        "colab": {}
      },
      "source": [
        "df['State'] = df['State'].str.rstrip('\"', )"
      ],
      "execution_count": null,
      "outputs": []
    },
    {
      "cell_type": "code",
      "metadata": {
        "id": "QtTXX1OcUlf1",
        "colab_type": "code",
        "colab": {}
      },
      "source": [
        "df['States'] = df['State'].str[:2]\n",
        "\n",
        "df.info()\n"
      ],
      "execution_count": null,
      "outputs": []
    },
    {
      "cell_type": "code",
      "metadata": {
        "id": "D9A3ryWUqq3I",
        "colab_type": "code",
        "colab": {}
      },
      "source": [
        "df['States'] = df['States'].str.lstrip(' ', )"
      ],
      "execution_count": null,
      "outputs": []
    },
    {
      "cell_type": "code",
      "metadata": {
        "id": "MVOrDN1tcRv-",
        "colab_type": "code",
        "colab": {}
      },
      "source": [
        "df.head()"
      ],
      "execution_count": null,
      "outputs": []
    },
    {
      "cell_type": "code",
      "metadata": {
        "id": "O5HosQc_b_l0",
        "colab_type": "code",
        "colab": {}
      },
      "source": [
        "df.sample(3)"
      ],
      "execution_count": null,
      "outputs": []
    },
    {
      "cell_type": "code",
      "metadata": {
        "id": "amEgs08Me5du",
        "colab_type": "code",
        "colab": {}
      },
      "source": [
        "df = df[df['Jobs Saved'] != '']"
      ],
      "execution_count": null,
      "outputs": []
    },
    {
      "cell_type": "code",
      "metadata": {
        "id": "lTkxYNmqeRxa",
        "colab_type": "code",
        "colab": {}
      },
      "source": [
        "  df.sample(2)"
      ],
      "execution_count": null,
      "outputs": []
    },
    {
      "cell_type": "code",
      "metadata": {
        "id": "bhpzBc7MlSDJ",
        "colab_type": "code",
        "colab": {}
      },
      "source": [
        "df.info()"
      ],
      "execution_count": null,
      "outputs": []
    },
    {
      "cell_type": "code",
      "metadata": {
        "id": "Mfsj2yxzo9RG",
        "colab_type": "code",
        "colab": {}
      },
      "source": [
        "df['States'].value_counts(normalize=True, ascending=False)"
      ],
      "execution_count": null,
      "outputs": []
    },
    {
      "cell_type": "code",
      "metadata": {
        "id": "uMyBw7J8wkI1",
        "colab_type": "code",
        "colab": {}
      },
      "source": [
        "df['States'].value_counts(ascending=False)"
      ],
      "execution_count": null,
      "outputs": []
    },
    {
      "cell_type": "code",
      "metadata": {
        "id": "2egCYvqMo9ei",
        "colab_type": "code",
        "colab": {}
      },
      "source": [
        "df = df.groupby('States').filter(lambda x: len(x) >= 5)"
      ],
      "execution_count": null,
      "outputs": []
    },
    {
      "cell_type": "code",
      "metadata": {
        "id": "M6e6RcjolkO1",
        "colab_type": "code",
        "colab": {}
      },
      "source": [
        "df.sample(7)"
      ],
      "execution_count": null,
      "outputs": []
    },
    {
      "cell_type": "code",
      "metadata": {
        "id": "5jzaEqAPlLEE",
        "colab_type": "code",
        "colab": {}
      },
      "source": [
        "df['NAICS Category'].value_counts()"
      ],
      "execution_count": null,
      "outputs": []
    },
    {
      "cell_type": "code",
      "metadata": {
        "id": "l1oiN-9RlLOI",
        "colab_type": "code",
        "colab": {}
      },
      "source": [
        "df = df.groupby('NAICS Category').filter(lambda x: len(x) >= 5)"
      ],
      "execution_count": null,
      "outputs": []
    },
    {
      "cell_type": "code",
      "metadata": {
        "id": "pb-jwIdzf7O7",
        "colab_type": "code",
        "colab": {}
      },
      "source": [
        "df.to_csv('jobs_saved.csv', index=0)\n",
        "!cp jobs_saved.csv \"drive/My Drive/\""
      ],
      "execution_count": null,
      "outputs": []
    },
    {
      "cell_type": "code",
      "metadata": {
        "id": "hDg38D8FiiA8",
        "colab_type": "code",
        "colab": {}
      },
      "source": [
        "col=list(df.columns)"
      ],
      "execution_count": null,
      "outputs": []
    },
    {
      "cell_type": "code",
      "metadata": {
        "id": "ttJhQNIyBQfd",
        "colab_type": "code",
        "colab": {}
      },
      "source": [
        "#convert the strings to integers in jobs saved\n",
        "# df['Jobs Saved'] = pd.to_numeric(df['Jobs Saved'], errors=\"coerce\")\n",
        "# df['Jobs Saved'] = df['Jobs Saved'].astype(int)"
      ],
      "execution_count": null,
      "outputs": []
    },
    {
      "cell_type": "code",
      "metadata": {
        "id": "31KUXD1rxf1F",
        "colab_type": "code",
        "colab": {}
      },
      "source": [
        "# df['Jobs Saved'].fillna(0, inplace = True)\n",
        "df.shape"
      ],
      "execution_count": null,
      "outputs": []
    },
    {
      "cell_type": "code",
      "metadata": {
        "id": "2rl0DlKABRc-",
        "colab_type": "code",
        "colab": {}
      },
      "source": [
        "df.dtypes"
      ],
      "execution_count": null,
      "outputs": []
    },
    {
      "cell_type": "code",
      "metadata": {
        "id": "pdUPz6ckTOsI",
        "colab_type": "code",
        "colab": {}
      },
      "source": [
        "df.sample(12)"
      ],
      "execution_count": null,
      "outputs": []
    },
    {
      "cell_type": "code",
      "metadata": {
        "id": "V44R0PlGsI5o",
        "colab_type": "code",
        "colab": {}
      },
      "source": [
        "df.shape"
      ],
      "execution_count": null,
      "outputs": []
    },
    {
      "cell_type": "code",
      "metadata": {
        "id": "ykExnj4pqSgT",
        "colab_type": "code",
        "colab": {}
      },
      "source": [
        "df.info()"
      ],
      "execution_count": null,
      "outputs": []
    },
    {
      "cell_type": "code",
      "metadata": {
        "id": "6yZonhhf7RT2",
        "colab_type": "code",
        "colab": {}
      },
      "source": [
        "# df.to_csv('clean_ppp.csv', index=0)\n",
        "# !cp clean_ppp.csv \"drive/My Drive/\"\n"
      ],
      "execution_count": null,
      "outputs": []
    },
    {
      "cell_type": "code",
      "metadata": {
        "id": "dM2Fu5SjAFGO",
        "colab_type": "code",
        "colab": {}
      },
      "source": [
        "# data looks pretty good. \n",
        "df.head()"
      ],
      "execution_count": null,
      "outputs": []
    },
    {
      "cell_type": "code",
      "metadata": {
        "id": "j4iBOG98Vzmz",
        "colab_type": "code",
        "colab": {}
      },
      "source": [
        ""
      ],
      "execution_count": null,
      "outputs": []
    }
  ]
}