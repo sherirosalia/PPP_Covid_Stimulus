{
  "nbformat": 4,
  "nbformat_minor": 0,
  "metadata": {
    "colab": {
      "name": "People_ML.ipynb",
      "provenance": [],
      "private_outputs": true,
      "collapsed_sections": [],
      "mount_file_id": "1fYklVWrga-L21DdH9-vW74u0elCmx1nr",
      "authorship_tag": "ABX9TyPFjzs+0fbXLVn+I3QhngEd"
    },
    "kernelspec": {
      "name": "python3",
      "display_name": "Python 3"
    }
  },
  "cells": [
    {
      "cell_type": "markdown",
      "metadata": {
        "id": "2oVNvkNYPDV2",
        "colab_type": "text"
      },
      "source": [
        "This is ML\n",
        " "
      ]
    },
    {
      "cell_type": "code",
      "metadata": {
        "id": "8M-oPsMYPGnv",
        "colab_type": "code",
        "colab": {}
      },
      "source": [
        "#import dependencies\n",
        "import pandas as pd\n",
        "import numpy as np\n",
        "from datetime import date, datetime\n",
        "import os, sys \n",
        "import io\n",
        "import ee\n"
      ],
      "execution_count": null,
      "outputs": []
    },
    {
      "cell_type": "code",
      "metadata": {
        "id": "IF4fH4hDB5m8",
        "colab_type": "code",
        "colab": {}
      },
      "source": [
        "## set up pandas dataframe using set_options to warn when we are working on a copy instead of ooriginal dataframe\n",
        "pd.set_option('mode.chained_assignment','warn')"
      ],
      "execution_count": null,
      "outputs": []
    },
    {
      "cell_type": "code",
      "metadata": {
        "id": "pf2cFMugB_T9",
        "colab_type": "code",
        "colab": {}
      },
      "source": [
        "# dataframe will display without being truncated\n",
        "pd.set_option('display.max_rows', 150)\n",
        "pd.set_option('display.max_columns', 25)\n",
        "pd.set_option('display.width', 1000)"
      ],
      "execution_count": null,
      "outputs": []
    },
    {
      "cell_type": "code",
      "metadata": {
        "id": "ii3flRP84Xa9",
        "colab_type": "code",
        "colab": {}
      },
      "source": [
        "# !pip install -U -q PyDrive"
      ],
      "execution_count": null,
      "outputs": []
    },
    {
      "cell_type": "code",
      "metadata": {
        "id": "ax45eZXtxQE2",
        "colab_type": "code",
        "colab": {}
      },
      "source": [
        "#mounting the google drive to access the files\n",
        "from google.colab import drive\n",
        "drive.mount('/content/drive')"
      ],
      "execution_count": null,
      "outputs": []
    },
    {
      "cell_type": "code",
      "metadata": {
        "id": "3Siq-wB9d392",
        "colab_type": "code",
        "colab": {}
      },
      "source": [
        "# command shows file path\n",
        "# ! ls"
      ],
      "execution_count": null,
      "outputs": []
    },
    {
      "cell_type": "code",
      "metadata": {
        "id": "JwyQc3b9d4R-",
        "colab_type": "code",
        "colab": {}
      },
      "source": [
        "from google.colab import files"
      ],
      "execution_count": null,
      "outputs": []
    },
    {
      "cell_type": "code",
      "metadata": {
        "id": "RxhFfrXX0jn0",
        "colab_type": "code",
        "colab": {}
      },
      "source": [
        "# filepath\n",
        "path = \"/content/drive/My Drive/people_ppp.csv\"\n",
        "\n",
        "\n"
      ],
      "execution_count": null,
      "outputs": []
    },
    {
      "cell_type": "markdown",
      "metadata": {
        "id": "Nt6pJSd6SX06",
        "colab_type": "text"
      },
      "source": [
        ""
      ]
    },
    {
      "cell_type": "code",
      "metadata": {
        "id": "tub77oA8j9IA",
        "colab_type": "code",
        "colab": {}
      },
      "source": [
        "#read the csv, create dataframe\n",
        "df = pd.read_csv(path,)\n"
      ],
      "execution_count": null,
      "outputs": []
    },
    {
      "cell_type": "code",
      "metadata": {
        "id": "roSn8zI93O4a",
        "colab_type": "code",
        "colab": {}
      },
      "source": [
        "df.head(5)"
      ],
      "execution_count": null,
      "outputs": []
    },
    {
      "cell_type": "code",
      "metadata": {
        "id": "MTaIOheV8Fz-",
        "colab_type": "code",
        "colab": {}
      },
      "source": [
        ""
      ],
      "execution_count": null,
      "outputs": []
    },
    {
      "cell_type": "code",
      "metadata": {
        "id": "SJp2zU1K0-FI",
        "colab_type": "code",
        "colab": {}
      },
      "source": [
        "df.info()"
      ],
      "execution_count": null,
      "outputs": []
    },
    {
      "cell_type": "code",
      "metadata": {
        "id": "dkvMTBs_1HGo",
        "colab_type": "code",
        "colab": {}
      },
      "source": [
        "#check for nulls\n",
        "print(df.isna().sum())\n"
      ],
      "execution_count": null,
      "outputs": []
    },
    {
      "cell_type": "code",
      "metadata": {
        "id": "HJVbd_TzOaCm",
        "colab_type": "code",
        "colab": {}
      },
      "source": [
        "#lost about 10% of rows\n",
        "df.shape"
      ],
      "execution_count": null,
      "outputs": []
    },
    {
      "cell_type": "code",
      "metadata": {
        "id": "Kq8IrrD_pISJ",
        "colab_type": "code",
        "colab": {}
      },
      "source": [
        "df.info()"
      ],
      "execution_count": null,
      "outputs": []
    },
    {
      "cell_type": "code",
      "metadata": {
        "id": "f6kIExg6nW-X",
        "colab_type": "code",
        "colab": {}
      },
      "source": [
        "#naics saved should not be a float. Need to convert to string before integer\n",
        "df['NAICS Code']=df['NAICS Code'].astype(str)"
      ],
      "execution_count": null,
      "outputs": []
    },
    {
      "cell_type": "code",
      "metadata": {
        "id": "9lQTvtdbMgVG",
        "colab_type": "code",
        "colab": {}
      },
      "source": [
        "#strip the decimal and zero\n",
        "df['NAICS Code'] = df['NAICS Code'].str.rstrip('.0')"
      ],
      "execution_count": null,
      "outputs": []
    },
    {
      "cell_type": "code",
      "metadata": {
        "id": "R9fLan4eN80K",
        "colab_type": "code",
        "colab": {}
      },
      "source": [
        "#take the first two letters of the NAICS code column and create category column. \n",
        "#category column can be matched to named values. The longer code was impractical\n",
        "df['NAICS Category'] = df['NAICS Code'].str[:2]\n",
        "df.info()"
      ],
      "execution_count": null,
      "outputs": []
    },
    {
      "cell_type": "code",
      "metadata": {
        "id": "mZ802ti2rAvR",
        "colab_type": "code",
        "colab": {}
      },
      "source": [
        "df.sample(7)"
      ],
      "execution_count": null,
      "outputs": []
    },
    {
      "cell_type": "code",
      "metadata": {
        "id": "ZpJHS1jbgpoV",
        "colab_type": "code",
        "colab": {}
      },
      "source": [
        "#somewhat forcing the date conversion because there must be some values that are not in date format \n",
        "df['Date'] =  pd.to_datetime(df['Date'], errors='coerce')"
      ],
      "execution_count": null,
      "outputs": []
    },
    {
      "cell_type": "code",
      "metadata": {
        "id": "TYsGUxy8XgDO",
        "colab_type": "code",
        "colab": {}
      },
      "source": [
        "#converting to date worked\n",
        "df.info()"
      ],
      "execution_count": null,
      "outputs": []
    },
    {
      "cell_type": "code",
      "metadata": {
        "id": "VAmTaDj4xYYv",
        "colab_type": "code",
        "colab": {}
      },
      "source": [
        "# df['Jobs Saved'] = df['Jobs Saved'].astype(float)\n",
        "# df['NAICS Category'] = df['NAICS Category'].astype(float)\n",
        "df['Jobs Saved'] = pd.to_numeric(df['Jobs Saved'], downcast='float')\n",
        "df['NAICS Category'] = pd.to_numeric(df['NAICS Category'], downcast='float')"
      ],
      "execution_count": null,
      "outputs": []
    },
    {
      "cell_type": "code",
      "metadata": {
        "id": "-sHsrYf3Xudt",
        "colab_type": "code",
        "colab": {}
      },
      "source": [
        "df.dropna(inplace=True)\n",
        "df.dtypes"
      ],
      "execution_count": null,
      "outputs": []
    },
    {
      "cell_type": "code",
      "metadata": {
        "id": "Pt9tbDOUxjQV",
        "colab_type": "code",
        "colab": {}
      },
      "source": [
        "df.shape"
      ],
      "execution_count": null,
      "outputs": []
    },
    {
      "cell_type": "code",
      "metadata": {
        "id": "Q0_q0vUiubHP",
        "colab_type": "code",
        "colab": {}
      },
      "source": [
        "df['Jobs Saved'].dtype\n",
        "#result says it is a string \n"
      ],
      "execution_count": null,
      "outputs": []
    },
    {
      "cell_type": "code",
      "metadata": {
        "id": "VFB5uI7zDbir",
        "colab_type": "code",
        "colab": {}
      },
      "source": [
        "df['Jobs Saved'] = df['Jobs Saved'].astype(str)\n"
      ],
      "execution_count": null,
      "outputs": []
    },
    {
      "cell_type": "code",
      "metadata": {
        "id": "jFw_Eh9vT4Xx",
        "colab_type": "code",
        "colab": {}
      },
      "source": [
        "df['Jobs Saved'].dtype\n",
        "#result says it is a string "
      ],
      "execution_count": null,
      "outputs": []
    },
    {
      "cell_type": "code",
      "metadata": {
        "id": "uMpE13YiTzsM",
        "colab_type": "code",
        "colab": {}
      },
      "source": [
        "#strip off the decimal point if there is one\n",
        "df['Jobs Saved'] = df['Jobs Saved'].str.rstrip('.0')\n",
        "df['Jobs Saved'] = df['Jobs Saved'].astype(int)"
      ],
      "execution_count": null,
      "outputs": []
    },
    {
      "cell_type": "code",
      "metadata": {
        "id": "wZ7BwVpmxfml",
        "colab_type": "code",
        "colab": {}
      },
      "source": [
        "df.sample(7)"
      ],
      "execution_count": null,
      "outputs": []
    },
    {
      "cell_type": "code",
      "metadata": {
        "id": "yOyfbfGOq3H_",
        "colab_type": "code",
        "colab": {}
      },
      "source": [
        "df['State'] = df['State'].str.lstrip(' ', )"
      ],
      "execution_count": null,
      "outputs": []
    },
    {
      "cell_type": "code",
      "metadata": {
        "id": "qjKIwyvKq9_9",
        "colab_type": "code",
        "colab": {}
      },
      "source": [
        "df['State'] = df['State'].str.strip('.', )"
      ],
      "execution_count": null,
      "outputs": []
    },
    {
      "cell_type": "code",
      "metadata": {
        "id": "n0OYPii3rO0r",
        "colab_type": "code",
        "colab": {}
      },
      "source": [
        "df['State'] = df['State'].str.rstrip('\"', )"
      ],
      "execution_count": null,
      "outputs": []
    },
    {
      "cell_type": "code",
      "metadata": {
        "id": "QtTXX1OcUlf1",
        "colab_type": "code",
        "colab": {}
      },
      "source": [
        "df['States'] = df['State'].str[:2]\n",
        "\n",
        "df.info()\n"
      ],
      "execution_count": null,
      "outputs": []
    },
    {
      "cell_type": "code",
      "metadata": {
        "id": "D9A3ryWUqq3I",
        "colab_type": "code",
        "colab": {}
      },
      "source": [
        "df['States'] = df['States'].str.lstrip(' ', )"
      ],
      "execution_count": null,
      "outputs": []
    },
    {
      "cell_type": "code",
      "metadata": {
        "id": "MVOrDN1tcRv-",
        "colab_type": "code",
        "colab": {}
      },
      "source": [
        "df.head()"
      ],
      "execution_count": null,
      "outputs": []
    },
    {
      "cell_type": "code",
      "metadata": {
        "id": "O5HosQc_b_l0",
        "colab_type": "code",
        "colab": {}
      },
      "source": [
        "df.sample(7)"
      ],
      "execution_count": null,
      "outputs": []
    },
    {
      "cell_type": "code",
      "metadata": {
        "id": "amEgs08Me5du",
        "colab_type": "code",
        "colab": {}
      },
      "source": [
        "df = df[df['Jobs Saved'] != '']\n",
        "# df['NAICS Category'] = df['NAICS Category'].str.lstrip(' ', )"
      ],
      "execution_count": null,
      "outputs": []
    },
    {
      "cell_type": "code",
      "metadata": {
        "id": "lTkxYNmqeRxa",
        "colab_type": "code",
        "colab": {}
      },
      "source": [
        "df.sample(5)"
      ],
      "execution_count": null,
      "outputs": []
    },
    {
      "cell_type": "code",
      "metadata": {
        "id": "bhpzBc7MlSDJ",
        "colab_type": "code",
        "colab": {}
      },
      "source": [
        "df.info()"
      ],
      "execution_count": null,
      "outputs": []
    },
    {
      "cell_type": "code",
      "metadata": {
        "id": "Mfsj2yxzo9RG",
        "colab_type": "code",
        "colab": {}
      },
      "source": [
        "df['States'].value_counts()"
      ],
      "execution_count": null,
      "outputs": []
    },
    {
      "cell_type": "code",
      "metadata": {
        "id": "TD40rPFQ-nwp",
        "colab_type": "code",
        "colab": {}
      },
      "source": [
        "df['Bank'].value_counts()"
      ],
      "execution_count": null,
      "outputs": []
    },
    {
      "cell_type": "code",
      "metadata": {
        "id": "Is9jnIOCHvCu",
        "colab_type": "code",
        "colab": {}
      },
      "source": [
        "banks=df['Bank'].value_counts()"
      ],
      "execution_count": null,
      "outputs": []
    },
    {
      "cell_type": "code",
      "metadata": {
        "id": "zieverq-Hu9U",
        "colab_type": "code",
        "colab": {}
      },
      "source": [
        "banks.plot()"
      ],
      "execution_count": null,
      "outputs": []
    },
    {
      "cell_type": "code",
      "metadata": {
        "id": "1uan44JyJJKN",
        "colab_type": "code",
        "colab": {}
      },
      "source": [
        "# df['Bank'].where(df['Bank'].apply(lambda x:(x.value_counts()))>=500, \"other\")"
      ],
      "execution_count": null,
      "outputs": []
    },
    {
      "cell_type": "code",
      "metadata": {
        "id": "SdxH6WIwJJDG",
        "colab_type": "code",
        "colab": {}
      },
      "source": [
        "cond = df['Bank'].value_counts()\n",
        "threshold = 500\n",
        "df['Bank'] = np.where(df['Bank'].isin(cond.index[cond >= threshold ]), df['Bank'], 'miscellaneous')"
      ],
      "execution_count": null,
      "outputs": []
    },
    {
      "cell_type": "code",
      "metadata": {
        "id": "ES6YUvUEJI8d",
        "colab_type": "code",
        "colab": {}
      },
      "source": [
        "df['Bank'].value_counts()"
      ],
      "execution_count": null,
      "outputs": []
    },
    {
      "cell_type": "code",
      "metadata": {
        "id": "V6YO1RpfJI3O",
        "colab_type": "code",
        "colab": {}
      },
      "source": [
        ""
      ],
      "execution_count": null,
      "outputs": []
    },
    {
      "cell_type": "code",
      "metadata": {
        "id": "HKIG7qEoJIlg",
        "colab_type": "code",
        "colab": {}
      },
      "source": [
        ""
      ],
      "execution_count": null,
      "outputs": []
    },
    {
      "cell_type": "code",
      "metadata": {
        "id": "2egCYvqMo9ei",
        "colab_type": "code",
        "colab": {}
      },
      "source": [
        "df = df.groupby('States').filter(lambda x: len(x) >= 5)"
      ],
      "execution_count": null,
      "outputs": []
    },
    {
      "cell_type": "code",
      "metadata": {
        "id": "2KoRbkvcwXjC",
        "colab_type": "code",
        "colab": {}
      },
      "source": [
        "df['Business Type'].value_counts()"
      ],
      "execution_count": null,
      "outputs": []
    },
    {
      "cell_type": "code",
      "metadata": {
        "id": "uMyBw7J8wkI1",
        "colab_type": "code",
        "colab": {}
      },
      "source": [
        "# df['NAICS Category'] = df['NAICS Category'].astype(str)"
      ],
      "execution_count": null,
      "outputs": []
    },
    {
      "cell_type": "code",
      "metadata": {
        "id": "M6e6RcjolkO1",
        "colab_type": "code",
        "colab": {}
      },
      "source": [
        "df.sample(7)"
      ],
      "execution_count": null,
      "outputs": []
    },
    {
      "cell_type": "code",
      "metadata": {
        "id": "5jzaEqAPlLEE",
        "colab_type": "code",
        "colab": {}
      },
      "source": [
        "df['NAICS Category'].value_counts()"
      ],
      "execution_count": null,
      "outputs": []
    },
    {
      "cell_type": "code",
      "metadata": {
        "id": "l1oiN-9RlLOI",
        "colab_type": "code",
        "colab": {}
      },
      "source": [
        "df= df.groupby('NAICS Category').filter(lambda x: len(x) >= 5)\n"
      ],
      "execution_count": null,
      "outputs": []
    },
    {
      "cell_type": "code",
      "metadata": {
        "id": "YIQCEhNfuqpy",
        "colab_type": "code",
        "colab": {}
      },
      "source": [
        "df.dropna(inplace=True)\n",
        "df.head(1)"
      ],
      "execution_count": null,
      "outputs": []
    },
    {
      "cell_type": "code",
      "metadata": {
        "id": "37Bb9Yotuq3y",
        "colab_type": "code",
        "colab": {}
      },
      "source": [
        "df.shape"
      ],
      "execution_count": null,
      "outputs": []
    },
    {
      "cell_type": "code",
      "metadata": {
        "id": "FHJE-n-mlLa7",
        "colab_type": "code",
        "colab": {}
      },
      "source": [
        "df.head(1)"
      ],
      "execution_count": null,
      "outputs": []
    },
    {
      "cell_type": "code",
      "metadata": {
        "id": "AtJNSJHJlLez",
        "colab_type": "code",
        "colab": {}
      },
      "source": [
        "from sklearn.ensemble import RandomForestRegressor\n",
        "from sklearn.model_selection import train_test_split\n",
        "from sklearn import metrics\n",
        "from sklearn import tree\n",
        "from sklearn.preprocessing import LabelEncoder"
      ],
      "execution_count": null,
      "outputs": []
    },
    {
      "cell_type": "code",
      "metadata": {
        "id": "BJr2qecapPcq",
        "colab_type": "code",
        "colab": {}
      },
      "source": [
        "\n"
      ],
      "execution_count": null,
      "outputs": []
    },
    {
      "cell_type": "code",
      "metadata": {
        "id": "QpvMjcxGoOwE",
        "colab_type": "code",
        "colab": {}
      },
      "source": [
        "# Step 1: Label-encode data set\n",
        "label_encoder = LabelEncoder()\n"
      ],
      "execution_count": null,
      "outputs": []
    },
    {
      "cell_type": "code",
      "metadata": {
        "id": "boJnco8kputI",
        "colab_type": "code",
        "colab": {}
      },
      "source": [
        "data=pd.DataFrame()\n",
        "for x in ['Gender', 'Race', 'Veteran', 'States', 'Bank', 'Business Type']:\n",
        "  label_encoder.fit(df[x])\n",
        "  data[x] = label_encoder.transform(df[x])\n",
        "data['Jobs Saved'] = df['Jobs Saved']\n",
        "data['NAICS Category'] = df['NAICS Category']\n",
        "data['Loan Amount'] = df['Loan Amount']"
      ],
      "execution_count": null,
      "outputs": []
    },
    {
      "cell_type": "code",
      "metadata": {
        "id": "jEgc6pa2ouyK",
        "colab_type": "code",
        "colab": {}
      },
      "source": [
        "data.dtypes"
      ],
      "execution_count": null,
      "outputs": []
    },
    {
      "cell_type": "code",
      "metadata": {
        "id": "5ggWNfRi1m81",
        "colab_type": "code",
        "colab": {}
      },
      "source": [
        "# data = data.fillna(lambda x: x.median())"
      ],
      "execution_count": null,
      "outputs": []
    },
    {
      "cell_type": "code",
      "metadata": {
        "id": "uprvmyTS1nQM",
        "colab_type": "code",
        "colab": {}
      },
      "source": [
        "data.fillna(data.mean(),inplace=True)"
      ],
      "execution_count": null,
      "outputs": []
    },
    {
      "cell_type": "code",
      "metadata": {
        "id": "gmmICZAW1nLs",
        "colab_type": "code",
        "colab": {}
      },
      "source": [
        "data.dtypes"
      ],
      "execution_count": null,
      "outputs": []
    },
    {
      "cell_type": "code",
      "metadata": {
        "id": "EI9QvLbfzwuj",
        "colab_type": "code",
        "colab": {}
      },
      "source": [
        "# np.any(np.isnan(X_train)) #true\n"
      ],
      "execution_count": null,
      "outputs": []
    },
    {
      "cell_type": "code",
      "metadata": {
        "id": "EzoBFQya09dy",
        "colab_type": "code",
        "colab": {}
      },
      "source": [
        "data.isnull().any()"
      ],
      "execution_count": null,
      "outputs": []
    },
    {
      "cell_type": "code",
      "metadata": {
        "id": "mktXcryQ1BmU",
        "colab_type": "code",
        "colab": {}
      },
      "source": [
        ""
      ],
      "execution_count": null,
      "outputs": []
    },
    {
      "cell_type": "code",
      "metadata": {
        "id": "yIBZbfvd0EF2",
        "colab_type": "code",
        "colab": {}
      },
      "source": [
        "data.shape"
      ],
      "execution_count": null,
      "outputs": []
    },
    {
      "cell_type": "code",
      "metadata": {
        "id": "xBzkKXp86csR",
        "colab_type": "code",
        "colab": {}
      },
      "source": [
        "# data['Jobs Saved'].shape\n"
      ],
      "execution_count": null,
      "outputs": []
    },
    {
      "cell_type": "code",
      "metadata": {
        "id": "i0AXJPtr7t4o",
        "colab_type": "code",
        "colab": {}
      },
      "source": [
        "data['Loan Amount'].shape"
      ],
      "execution_count": null,
      "outputs": []
    },
    {
      "cell_type": "code",
      "metadata": {
        "id": "LBl9OgaTyyKq",
        "colab_type": "code",
        "colab": {}
      },
      "source": [
        "#split loan amounts off and drop from dataframe for ML\n",
        "target=data['Loan Amount'] \n",
        "target.shape\n"
      ],
      "execution_count": null,
      "outputs": []
    },
    {
      "cell_type": "code",
      "metadata": {
        "id": "Hq-7yw4u9OyN",
        "colab_type": "code",
        "colab": {}
      },
      "source": [
        ""
      ],
      "execution_count": null,
      "outputs": []
    },
    {
      "cell_type": "code",
      "metadata": {
        "id": "yu8VVXL39O_e",
        "colab_type": "code",
        "colab": {}
      },
      "source": [
        "data=data.drop(['Loan Amount'],axis=1)\n",
        "data.shape"
      ],
      "execution_count": null,
      "outputs": []
    },
    {
      "cell_type": "code",
      "metadata": {
        "id": "hqTT01Bg7dq9",
        "colab_type": "code",
        "colab": {}
      },
      "source": [
        "X_train, X_test, y_train, y_test = train_test_split(data, target, random_state=42)\n",
        "rf = RandomForestRegressor(n_estimators=200, random_state=42)\n",
        "rf.fit(X_train, y_train)"
      ],
      "execution_count": null,
      "outputs": []
    },
    {
      "cell_type": "markdown",
      "metadata": {
        "id": "ov_GvXx4DdZW",
        "colab_type": "text"
      },
      "source": [
        "Score with: Gender | Race | Veteran | States | Business Type | Jobs Saved | NAICS | Category = 0.4575692683280293\n",
        "\n",
        "Score with: Gender | Race | Veteran | States | Business Type | Jobs Saved | NAICS | Bank | Category = 0.45253313672369905\n",
        "\n",
        "Score with: Gender | Race | Veteran | States |  | Jobs Saved | NAICS | Category = 0.4743840791771587\n",
        "\n",
        "Score with: Gender | Race | Veteran | States |  | NAICS | Category = 0.16463591101903663\n",
        "\n",
        "ML suggests that Jobs Saved and Business Type influence the amount of money loaned by the bank. Does not necessarily suggest whether or not one was approved or not.\n",
        "\n",
        "\n"
      ]
    },
    {
      "cell_type": "code",
      "metadata": {
        "id": "z0tDKUhByyUB",
        "colab_type": "code",
        "colab": {}
      },
      "source": [
        "#score of forest\n",
        "print(rf.score(X_test, y_test))\n",
        "\n"
      ],
      "execution_count": null,
      "outputs": []
    },
    {
      "cell_type": "code",
      "metadata": {
        "id": "DciSow7WqrY_",
        "colab_type": "code",
        "colab": {}
      },
      "source": [
        "#zip names and feature importance scores\n",
        "f_imp=rf.feature_importances_\n",
        "f_name=data.columns\n",
        "features=zip(f_name, f_imp)\n",
        "# print(features)\n",
        "# features into a datafame\n",
        "f_df=pd.DataFrame(list(features))\n",
        "print(f_df)\n"
      ],
      "execution_count": null,
      "outputs": []
    },
    {
      "cell_type": "code",
      "metadata": {
        "id": "NU4W7eDpqrnp",
        "colab_type": "code",
        "colab": {}
      },
      "source": [
        "# X_train.columns\n",
        "print(rf.feature_importances_)"
      ],
      "execution_count": null,
      "outputs": []
    },
    {
      "cell_type": "code",
      "metadata": {
        "id": "pb-jwIdzf7O7",
        "colab_type": "code",
        "colab": {}
      },
      "source": [
        "data.to_csv('people_ml.csv', index=0)\n",
        "!cp people_ml.csv \"drive/My Drive/\""
      ],
      "execution_count": null,
      "outputs": []
    },
    {
      "cell_type": "code",
      "metadata": {
        "id": "hDg38D8FiiA8",
        "colab_type": "code",
        "colab": {}
      },
      "source": [
        ""
      ],
      "execution_count": null,
      "outputs": []
    },
    {
      "cell_type": "code",
      "metadata": {
        "id": "-jgkYEmVf7az",
        "colab_type": "code",
        "colab": {}
      },
      "source": [
        ""
      ],
      "execution_count": null,
      "outputs": []
    },
    {
      "cell_type": "code",
      "metadata": {
        "id": "G4VjlYbXhyks",
        "colab_type": "code",
        "colab": {}
      },
      "source": [
        ""
      ],
      "execution_count": null,
      "outputs": []
    },
    {
      "cell_type": "code",
      "metadata": {
        "id": "ttJhQNIyBQfd",
        "colab_type": "code",
        "colab": {}
      },
      "source": [
        "#convert the strings to integers in jobs saved\n",
        "# df['Jobs Saved'] = pd.to_numeric(df['Jobs Saved'], errors=\"coerce\")\n",
        "# df['Jobs Saved'] = df['Jobs Saved'].astype(int)"
      ],
      "execution_count": null,
      "outputs": []
    },
    {
      "cell_type": "code",
      "metadata": {
        "id": "6yZonhhf7RT2",
        "colab_type": "code",
        "colab": {}
      },
      "source": [
        "# df.to_csv('clean_ppp.csv', index=0)\n",
        "# !cp clean_ppp.csv \"drive/My Drive/\"\n"
      ],
      "execution_count": null,
      "outputs": []
    }
  ]
}